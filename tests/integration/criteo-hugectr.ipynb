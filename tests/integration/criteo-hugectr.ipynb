{
 "cells": [
  {
   "cell_type": "markdown",
   "metadata": {},
   "source": [
    "# NVTabular / HugeCTR Criteo Example \n",
    "Here we'll show how to use NVTabular first as a preprocessing library to prepare the [Criteo Display Advertising Challenge](https://www.kaggle.com/c/criteo-display-ad-challenge) dataset, and then train a model using HugeCTR.\n",
    "\n",
    "### Data Prep\n",
    "Before we get started, make sure you've run the [`optimize_criteo` notebook](./optimize_criteo.ipynb), which will convert the tsv data published by Criteo into the parquet format that our accelerated readers prefer. It's fair to mention at this point that that notebook will take ~4 hours to run. While we're hoping to release accelerated csv readers in the near future, we also believe that inefficiencies in existing data representations like csv are in no small part a consequence of inefficiencies in the existing hardware/software stack. Accelerating these pipelines on new hardware like GPUs may require us to make new choices about the representations we use to store that data, and parquet represents a strong alternative."
   ]
  },
  {
   "cell_type": "markdown",
   "metadata": {},
   "source": [
    "#### Quick Aside: Clearing Cache\n",
    "The following line is not strictly necessary, but is included for those who want to validate NVIDIA's benchmarks. We start by clearing the existing cache to start as \"fresh\" as possible. If you're having trouble running it, try executing the container with the `--privileged` flag."
   ]
  },
  {
   "cell_type": "code",
   "execution_count": 1,
   "metadata": {},
   "outputs": [
    {
     "name": "stdout",
     "output_type": "stream",
     "text": [
      "/bin/sh: 1: cannot create /proc/sys/vm/drop_caches: Read-only file system\n"
     ]
    }
   ],
   "source": [
    "!sync; echo 3 > /proc/sys/vm/drop_caches"
   ]
  },
  {
   "cell_type": "code",
   "execution_count": 15,
   "metadata": {},
   "outputs": [],
   "source": [
    "import os\n",
    "os.environ[\"CUDA_VISIBLE_DEVICES\"] = \"3\"\n",
    "from time import time\n",
    "import re\n",
    "import glob\n",
    "import warnings\n",
    "\n",
    "# tools for data preproc/loading\n",
    "import torch\n",
    "import rmm\n",
    "import nvtabular as nvt\n",
    "from nvtabular.ops import Normalize, FillMissing, Categorify, Moments, Median, LogOp, ZeroFill, get_embedding_sizes\n",
    "from nvtabular.torch_dataloader import DLDataLoader, TorchTensorBatchDatasetItr, create_tensors_plain"
   ]
  },
  {
   "cell_type": "markdown",
   "metadata": {},
   "source": [
    "### Initializing the Memory Pool\n",
    "For applications like the one that follows where RAPIDS will be the only workhorse user of GPU memory and resource, a good best practices is to use the RAPIDS Memory Manager library `rmm` to allocate a dedicated pool of GPU memory that allows for fast, asynchronous memory management. Here, we'll dedicate 80% of free GPU memory to this pool to make sure we get the most utilization possible."
   ]
  },
  {
   "cell_type": "code",
   "execution_count": 3,
   "metadata": {},
   "outputs": [
    {
     "name": "stderr",
     "output_type": "stream",
     "text": [
      "/nvt/nvtabular/io.py:86: UserWarning: get_memory_info is not supported. Using total device memory from NVML.\n",
      "  warnings.warn(\"get_memory_info is not supported. Using total device memory from NVML.\")\n"
     ]
    }
   ],
   "source": [
    "rmm.reinitialize(pool_allocator=True, initial_pool_size=0.8 * nvt.io.device_mem_size(kind='free'))"
   ]
  },
  {
   "cell_type": "markdown",
   "metadata": {},
   "source": [
    "### Dataset and Dataset Schema\n",
    "Once our data is ready, we'll define some high level parameters to describe where our data is and what it \"looks like\" at a high level."
   ]
  },
  {
   "cell_type": "code",
   "execution_count": 4,
   "metadata": {},
   "outputs": [
    {
     "name": "stdout",
     "output_type": "stream",
     "text": [
      "mkdir: cannot create directory ‘/dataset/output’: File exists\n"
     ]
    }
   ],
   "source": [
    "# define some information about where to get our data\n",
    "INPUT_DATA_DIR = os.environ.get('INPUT_DATA_DIR', '/dataset')\n",
    "OUTPUT_DATA_DIR = os.environ.get('OUTPUT_DATA_DIR', '/dataset/output') # where we'll save our procesed data to\n",
    "!mkdir $OUTPUT_DATA_DIR\n",
    "NUM_TRAIN_DAYS = 23 # number of days worth of data to use for training, the rest will be used for validation\n",
    "\n",
    "# define our dataset schema\n",
    "CONTINUOUS_COLUMNS = ['I' + str(x) for x in range(1,14)]\n",
    "CATEGORICAL_COLUMNS =  ['C' + str(x) for x in range(1,27)]\n",
    "LABEL_COLUMNS = ['label']\n",
    "COLUMNS = CONTINUOUS_COLUMNS + CATEGORICAL_COLUMNS + LABEL_COLUMNS"
   ]
  },
  {
   "cell_type": "code",
   "execution_count": 5,
   "metadata": {},
   "outputs": [],
   "source": [
    "# ! ls $INPUT_DATA_DIR"
   ]
  },
  {
   "cell_type": "code",
   "execution_count": 6,
   "metadata": {},
   "outputs": [
    {
     "name": "stdout",
     "output_type": "stream",
     "text": [
      "['/dataset/day_0.parquet']\n",
      "['/dataset/day_23.parquet']\n"
     ]
    }
   ],
   "source": [
    "fname = 'day_{}.parquet'\n",
    "num_days = len([i for i in os.listdir(INPUT_DATA_DIR) if re.match(fname.format('[0-9]{1,2}'), i) is not None])\n",
    "train_paths = [os.path.join(INPUT_DATA_DIR, fname.format(day)) for day in range(1)]\n",
    "valid_paths = [os.path.join(INPUT_DATA_DIR, fname.format(day)) for day in range(NUM_TRAIN_DAYS, NUM_TRAIN_DAYS+1)]\n",
    "print(train_paths)\n",
    "print(valid_paths)"
   ]
  },
  {
   "cell_type": "markdown",
   "metadata": {},
   "source": [
    "### Preprocessing\n",
    "At this point, our data still isn't in a form that's ideal for consumption by neural networks. The most pressing issues are missing values and the fact that our categorical variables are still represented by random, discrete identifiers, and need to be transformed into contiguous indices that can be leveraged by a learned embedding. Less pressing, but still important for learning dynamics, are the distributions of our continuous variables, which are distributed across multiple orders of magnitude and are uncentered (i.e. E[x] != 0).\n",
    "\n",
    "We can fix these issues in a conscise and GPU-accelerated manner with an NVTabular `Workflow`. We'll instantiate one with our current dataset schema, then symbolically add operations _on_ that schema. By setting all these `Ops` to use `replace=True`, the schema itself will remain unmodified, while the variables represented by each field in the schema will be transformed.\n",
    "\n",
    "#### Frequency Thresholding\n",
    "One interesting thing worth pointing out is that we're using _frequency thresholding_ in our `Categorify` op. This handy functionality will map all categories which occur in the dataset with some threshold level of infrequency (which we've set here to be 15 occurrences throughout the dataset) to the _same_ index, keeping the model from overfitting to sparse signals."
   ]
  },
  {
   "cell_type": "code",
   "execution_count": 7,
   "metadata": {},
   "outputs": [],
   "source": [
    "proc = nvt.Workflow(\n",
    "    cat_names=CATEGORICAL_COLUMNS,\n",
    "    cont_names=CONTINUOUS_COLUMNS,\n",
    "    label_name=LABEL_COLUMNS)\n",
    "\n",
    "# log -> normalize continuous features. Note that doing this in the opposite\n",
    "# order wouldn't make sense! Note also that we're zero filling continuous\n",
    "# values before the log: this is a good time to remember that LogOp\n",
    "# performs log(1+x), not log(x)\n",
    "proc.add_cont_feature([ZeroFill(), LogOp()])\n",
    "proc.add_cont_preprocess(Normalize())\n",
    "\n",
    "# categorification with frequency thresholding\n",
    "proc.add_cat_preprocess(Categorify(freq_threshold=15))"
   ]
  },
  {
   "cell_type": "markdown",
   "metadata": {},
   "source": [
    "Now instantiate dataset iterators to loop through our dataset (which we couldn't fit into GPU memory)"
   ]
  },
  {
   "cell_type": "code",
   "execution_count": 8,
   "metadata": {},
   "outputs": [],
   "source": [
    "train_dataset = nvt.Dataset(train_paths, engine='parquet', part_mem_fraction=0.12)\n",
    "valid_dataset = nvt.Dataset(valid_paths, engine='parquet', part_mem_fraction=0.12)"
   ]
  },
  {
   "cell_type": "markdown",
   "metadata": {},
   "source": [
    "Now run them through our workflows to collect statistics on the train set, then transform and save to parquet files."
   ]
  },
  {
   "cell_type": "code",
   "execution_count": 9,
   "metadata": {},
   "outputs": [],
   "source": [
    "output_train_dir = os.path.join(OUTPUT_DATA_DIR, 'train/')\n",
    "output_valid_dir = os.path.join(OUTPUT_DATA_DIR, 'valid/')\n",
    "! mkdir -p $output_train_dir\n",
    "! mkdir -p $output_valid_dir"
   ]
  },
  {
   "cell_type": "markdown",
   "metadata": {},
   "source": [
    "For reference, let's time it to see how long it takes..."
   ]
  },
  {
   "cell_type": "code",
   "execution_count": 10,
   "metadata": {},
   "outputs": [
    {
     "name": "stdout",
     "output_type": "stream",
     "text": [
      "CPU times: user 1min 13s, sys: 41.7 s, total: 1min 55s\n",
      "Wall time: 2min 9s\n"
     ]
    }
   ],
   "source": [
    "%%time\n",
    "proc.apply(train_dataset, apply_offline=True, record_stats=True, shuffle=False, output_format=\"parquet\", output_path=output_train_dir, out_files_per_proc=15)"
   ]
  },
  {
   "cell_type": "code",
   "execution_count": 11,
   "metadata": {},
   "outputs": [
    {
     "name": "stdout",
     "output_type": "stream",
     "text": [
      "CPU times: user 32 s, sys: 35.8 s, total: 1min 7s\n",
      "Wall time: 1min 45s\n"
     ]
    }
   ],
   "source": [
    "%%time\n",
    "proc.apply(valid_dataset, apply_offline=True, record_stats=False, shuffle=False, output_format=\"parquet\", output_path=output_valid_dir, out_files_per_proc=15)"
   ]
  },
  {
   "cell_type": "code",
   "execution_count": 12,
   "metadata": {},
   "outputs": [],
   "source": [
    "import cudf\n",
    "def convert_label(path):\n",
    "    for filename in os.listdir(path):\n",
    "        if filename.endswith(\".parquet\"):\n",
    "            print(path+filename)\n",
    "            df = cudf.read_parquet(path+filename)\n",
    "            #df = df.astype({\"label\": np.float32})\n",
    "            df[\"label\"] = df['label'].astype('float32')\n",
    "            df.to_parquet(path+filename)"
   ]
  },
  {
   "cell_type": "code",
   "execution_count": 13,
   "metadata": {},
   "outputs": [
    {
     "name": "stdout",
     "output_type": "stream",
     "text": [
      "/dataset/output/train/12.f8c7a0964bc6468db8f01c4380a50b9c.parquet\n",
      "/dataset/output/train/11.857296673df940038f74eab99eb96fcf.parquet\n",
      "/dataset/output/train/10.111eace92d884ddda4645483bc42450d.parquet\n",
      "/dataset/output/train/4.d9ce1cf56c2c4d3a8124457d687cf7a9.parquet\n",
      "/dataset/output/train/3.87f344091c5e4f95aab666807be99b60.parquet\n",
      "/dataset/output/train/5.6955297d12c240e49a5e52be5289c488.parquet\n",
      "/dataset/output/train/6.f3ec52b9eb5d4e33b6baa24626e1120d.parquet\n",
      "/dataset/output/train/1.918f61e289ed4ee7bff8e89c720ac010.parquet\n",
      "/dataset/output/train/0.2b95cfae173b4d3fafcaf7dda7cb2f8e.parquet\n",
      "/dataset/output/train/7.c1e5132f0e4b421f9f5cae7916b7ccdd.parquet\n",
      "/dataset/output/train/13.882e73fe368043208074baff4260e0b3.parquet\n",
      "/dataset/output/train/9.1d57a0d98c17463cb677fd2faaf8da71.parquet\n",
      "/dataset/output/train/8.3d59f1c1596e421f8d386850b48c2d74.parquet\n",
      "/dataset/output/train/14.e6869b5ab93843cca37d097eae42ebcc.parquet\n",
      "/dataset/output/train/2.03a9dcdd411747b6b424bec16dbdcb2d.parquet\n",
      "/dataset/output/valid/3.a9de920be3d94f18a2d89895b59dce30.parquet\n",
      "/dataset/output/valid/4.1a1ecc81959b4b19b37fd519dc3ccf6f.parquet\n",
      "/dataset/output/valid/13.ff2b311e3789497f970ad9740b21e7dd.parquet\n",
      "/dataset/output/valid/8.26860babd27d4c6f8fb13e6f2c182c7e.parquet\n",
      "/dataset/output/valid/10.54e806c3d8944bfa8ec85999932f37d2.parquet\n",
      "/dataset/output/valid/9.7bc57b3176344167adc5e3b80781b659.parquet\n",
      "/dataset/output/valid/11.60ec654f7730451a9d5f6d26b46739c0.parquet\n",
      "/dataset/output/valid/2.3cd5dde942d6471a9c13a546957ddfaf.parquet\n",
      "/dataset/output/valid/0.283c1853b4714f3ead30e9a1f1afbae8.parquet\n",
      "/dataset/output/valid/12.648b56f6adab46f0991314dac3842b69.parquet\n",
      "/dataset/output/valid/5.b890179353014c219ae46a9a68b0f998.parquet\n",
      "/dataset/output/valid/1.77dbdf7e599b4ad09cc9a2a2293321bf.parquet\n",
      "/dataset/output/valid/14.17936c6c03244fb18ff60ff08999d77c.parquet\n",
      "/dataset/output/valid/7.e3d79bfd62f84d3482127e251e60d9f6.parquet\n",
      "/dataset/output/valid/6.1f5c9a39486b4d0084b7d93cb6abf520.parquet\n"
     ]
    }
   ],
   "source": [
    "convert_label(output_train_dir)\n",
    "convert_label(output_valid_dir)"
   ]
  },
  {
   "cell_type": "code",
   "execution_count": 14,
   "metadata": {},
   "outputs": [
    {
     "name": "stdout",
     "output_type": "stream",
     "text": [
      "0.2b95cfae173b4d3fafcaf7dda7cb2f8e.parquet\n",
      "1.918f61e289ed4ee7bff8e89c720ac010.parquet\n",
      "10.111eace92d884ddda4645483bc42450d.parquet\n",
      "11.857296673df940038f74eab99eb96fcf.parquet\n",
      "12.f8c7a0964bc6468db8f01c4380a50b9c.parquet\n",
      "13.882e73fe368043208074baff4260e0b3.parquet\n",
      "14.e6869b5ab93843cca37d097eae42ebcc.parquet\n",
      "2.03a9dcdd411747b6b424bec16dbdcb2d.parquet\n",
      "3.87f344091c5e4f95aab666807be99b60.parquet\n",
      "4.d9ce1cf56c2c4d3a8124457d687cf7a9.parquet\n",
      "5.6955297d12c240e49a5e52be5289c488.parquet\n",
      "6.f3ec52b9eb5d4e33b6baa24626e1120d.parquet\n",
      "7.c1e5132f0e4b421f9f5cae7916b7ccdd.parquet\n",
      "8.3d59f1c1596e421f8d386850b48c2d74.parquet\n",
      "9.1d57a0d98c17463cb677fd2faaf8da71.parquet\n",
      "_file_list.txt\n",
      "_metadata\n",
      "_metadata.json\n",
      "metadata.json\n",
      "0.283c1853b4714f3ead30e9a1f1afbae8.parquet\n",
      "1.77dbdf7e599b4ad09cc9a2a2293321bf.parquet\n",
      "10.54e806c3d8944bfa8ec85999932f37d2.parquet\n",
      "11.60ec654f7730451a9d5f6d26b46739c0.parquet\n",
      "12.648b56f6adab46f0991314dac3842b69.parquet\n",
      "13.ff2b311e3789497f970ad9740b21e7dd.parquet\n",
      "14.17936c6c03244fb18ff60ff08999d77c.parquet\n",
      "2.3cd5dde942d6471a9c13a546957ddfaf.parquet\n",
      "3.a9de920be3d94f18a2d89895b59dce30.parquet\n",
      "4.1a1ecc81959b4b19b37fd519dc3ccf6f.parquet\n",
      "5.b890179353014c219ae46a9a68b0f998.parquet\n",
      "6.1f5c9a39486b4d0084b7d93cb6abf520.parquet\n",
      "7.e3d79bfd62f84d3482127e251e60d9f6.parquet\n",
      "8.26860babd27d4c6f8fb13e6f2c182c7e.parquet\n",
      "9.7bc57b3176344167adc5e3b80781b659.parquet\n",
      "_file_list.txt\n",
      "_metadata\n",
      "_metadata.json\n",
      "metadata.json\n"
     ]
    }
   ],
   "source": [
    "! cp $output_train_dir/_metadata.json $output_train_dir/metadata.json\n",
    "! cp $output_valid_dir/_metadata.json $output_valid_dir/metadata.json\n",
    "! ls $output_train_dir\n",
    "! ls $output_valid_dir"
   ]
  },
  {
   "cell_type": "markdown",
   "metadata": {},
   "source": [
    "And just like that, we have training and validation sets ready to feed to a model!"
   ]
  },
  {
   "cell_type": "markdown",
   "metadata": {},
   "source": [
    "## HugeCTR\n",
    "### Training\n",
    "We'll run huge_ctr using the configuration file.\n",
    "\n",
    "First, we'll reinitialize our memory pool from earlier to free up some memory so that we can share it with PyTorch."
   ]
  },
  {
   "cell_type": "code",
   "execution_count": 13,
   "metadata": {},
   "outputs": [],
   "source": [
    "rmm.reinitialize(pool_allocator=False)"
   ]
  },
  {
   "cell_type": "code",
   "execution_count": 16,
   "metadata": {},
   "outputs": [
    {
     "name": "stdout",
     "output_type": "stream",
     "text": [
      "[0.001, init_start, ]\n",
      "HugeCTR Version: 2.2.1\n",
      "Config file: dcn_parquet.json\n",
      "[05d00h02m52s][HUGECTR][INFO]: Default evaluation metric is AUC without threshold value\n",
      "[05d00h02m52s][HUGECTR][INFO]: algorithm_search is not specified using default: 1\n",
      "[05d00h02m52s][HUGECTR][INFO]: Algorithm search: ON\n",
      "[05d00h02m53s][HUGECTR][INFO]: Peer-to-peer access cannot be fully enabled.\n",
      "Device 0: Tesla V100-DGXS-16GB\n",
      "[05d00h02m53s][HUGECTR][INFO]: Initial seed is 1559656309\n",
      "[05d00h02m53s][HUGECTR][INFO]: cache_eval_data is not specified using default: 0\n",
      "[05d00h02m54s][HUGECTR][INFO]: Vocabulary size: 2116453\n",
      "worker_id: 0 mem: 0x7f89cb101650\n",
      "[05d00h02m54s][HUGECTR][INFO]: num_internal_buffers 1\n",
      "worker_id: 0 mem: 0x7f89cb101650\n",
      "[05d00h02m54s][HUGECTR][INFO]: num_internal_buffers 1\n",
      "[05d00h02m54s][HUGECTR][INFO]: max_vocabulary_size_per_gpu_=2700000\n",
      "[05d00h02m54s][HUGECTR][INFO]: All2All Warmup Start\n",
      "[05d00h02m54s][HUGECTR][INFO]: All2All Warmup End\n",
      "[05d00h02m56s][HUGECTR][INFO]: gpu0 start to init embedding\n",
      "[05d00h02m56s][HUGECTR][INFO]: gpu0 init embedding done\n",
      "[05d00h02m56s][HUGECTR][INFO]: warmup_steps is not specified using default: 1\n",
      "[05d00h02m56s][HUGECTR][INFO]: decay_start is not specified using default: 0\n",
      "[05d00h02m56s][HUGECTR][INFO]: decay_steps is not specified using default: 1\n",
      "[05d00h02m56s][HUGECTR][INFO]: decay_power is not specified using default: 2.000000\n",
      "[05d00h02m56s][HUGECTR][INFO]: end_lr is not specified using default: 0.000000\n",
      "[4286.75, init_end, ]\n",
      "[4286.76, run_start, ]\n",
      "HugeCTR training start:\n",
      "[4286.77, train_epoch_start, 0, ]\n",
      "[05d00h02m59s][HUGECTR][INFO]: Iter: 100 Time(100 iters): 2.720997s Loss: 0.131291 lr:0.001000\n",
      "[05d00h03m01s][HUGECTR][INFO]: Iter: 200 Time(100 iters): 2.602247s Loss: 0.135080 lr:0.001000\n",
      "[05d00h03m04s][HUGECTR][INFO]: Iter: 300 Time(100 iters): 2.601492s Loss: 0.134925 lr:0.001000\n",
      "[05d00h03m06s][HUGECTR][INFO]: Iter: 400 Time(100 iters): 2.637446s Loss: 0.134193 lr:0.001000\n",
      "[05d00h03m09s][HUGECTR][INFO]: Iter: 500 Time(100 iters): 2.603034s Loss: 0.121613 lr:0.001000\n",
      "[05d00h03m12s][HUGECTR][INFO]: Iter: 600 Time(100 iters): 2.603560s Loss: 0.120025 lr:0.001000\n",
      "[05d00h03m14s][HUGECTR][INFO]: Iter: 700 Time(100 iters): 2.603817s Loss: 0.126378 lr:0.001000\n",
      "[05d00h03m17s][HUGECTR][INFO]: Iter: 800 Time(100 iters): 2.641963s Loss: 0.119619 lr:0.001000\n",
      "[05d00h03m19s][HUGECTR][INFO]: Iter: 900 Time(100 iters): 2.606061s Loss: 0.121515 lr:0.001000\n",
      "[05d00h03m22s][HUGECTR][INFO]: Iter: 1000 Time(100 iters): 2.604736s Loss: 0.120374 lr:0.001000\n",
      "[05d00h03m25s][HUGECTR][INFO]: Iter: 1100 Time(100 iters): 2.603535s Loss: 0.125540 lr:0.001000\n",
      "[05d00h03m27s][HUGECTR][INFO]: Iter: 1200 Time(100 iters): 2.637218s Loss: 0.121510 lr:0.001000\n",
      "[05d00h03m30s][HUGECTR][INFO]: Iter: 1300 Time(100 iters): 2.602410s Loss: 0.122639 lr:0.001000\n",
      "[05d00h03m33s][HUGECTR][INFO]: Iter: 1400 Time(100 iters): 2.601661s Loss: 0.118349 lr:0.001000\n",
      "[05d00h03m35s][HUGECTR][INFO]: Iter: 1500 Time(100 iters): 2.601627s Loss: 0.130751 lr:0.001000\n",
      "[05d00h03m38s][HUGECTR][INFO]: Iter: 1600 Time(100 iters): 2.638043s Loss: 0.117868 lr:0.001000\n",
      "[05d00h03m40s][HUGECTR][INFO]: Iter: 1700 Time(100 iters): 2.605269s Loss: 0.120803 lr:0.001000\n",
      "[05d00h03m43s][HUGECTR][INFO]: Iter: 1800 Time(100 iters): 2.601843s Loss: 0.131578 lr:0.001000\n",
      "[05d00h03m46s][HUGECTR][INFO]: Iter: 1900 Time(100 iters): 2.600565s Loss: 0.120328 lr:0.001000\n",
      "[05d00h03m48s][HUGECTR][INFO]: Iter: 2000 Time(100 iters): 2.637076s Loss: 0.124942 lr:0.001000\n",
      "[05d00h03m51s][HUGECTR][INFO]: Iter: 2100 Time(100 iters): 2.600437s Loss: 0.125817 lr:0.001000\n",
      "[05d00h03m53s][HUGECTR][INFO]: Iter: 2200 Time(100 iters): 2.600673s Loss: 0.132692 lr:0.001000\n",
      "[05d00h03m56s][HUGECTR][INFO]: Iter: 2300 Time(100 iters): 2.599519s Loss: 0.117369 lr:0.001000\n",
      "[05d00h03m59s][HUGECTR][INFO]: Iter: 2400 Time(100 iters): 2.638285s Loss: 0.119283 lr:0.001000\n",
      "[05d00h04m01s][HUGECTR][INFO]: Iter: 2500 Time(100 iters): 2.604447s Loss: 0.116375 lr:0.001000\n",
      "[05d00h04m04s][HUGECTR][INFO]: Iter: 2600 Time(100 iters): 2.601643s Loss: 0.133000 lr:0.001000\n",
      "[05d00h04m07s][HUGECTR][INFO]: Iter: 2700 Time(100 iters): 2.629735s Loss: 0.129018 lr:0.001000\n",
      "[05d00h04m09s][HUGECTR][INFO]: Iter: 2800 Time(100 iters): 2.596889s Loss: 0.120684 lr:0.001000\n",
      "[05d00h04m12s][HUGECTR][INFO]: Iter: 2900 Time(100 iters): 2.596463s Loss: 0.122483 lr:0.001000\n",
      "[82692.3, train_epoch_end, 1, ]\n",
      "[82692.4, run_stop, ]\n"
     ]
    }
   ],
   "source": [
    "! /usr/local/hugectr/bin/huge_ctr --train dcn_parquet.json"
   ]
  },
  {
   "cell_type": "code",
   "execution_count": null,
   "metadata": {},
   "outputs": [],
   "source": []
  }
 ],
 "metadata": {
  "file_extension": ".py",
  "kernelspec": {
   "display_name": "Python 3",
   "language": "python",
   "name": "python3"
  },
  "language_info": {
   "codemirror_mode": {
    "name": "ipython",
    "version": 3
   },
   "file_extension": ".py",
   "mimetype": "text/x-python",
   "name": "python",
   "nbconvert_exporter": "python",
   "pygments_lexer": "ipython3",
   "version": "3.7.7"
  },
  "mimetype": "text/x-python",
  "name": "python",
  "npconvert_exporter": "python",
  "pygments_lexer": "ipython3",
  "version": 3
 },
 "nbformat": 4,
 "nbformat_minor": 4
}
