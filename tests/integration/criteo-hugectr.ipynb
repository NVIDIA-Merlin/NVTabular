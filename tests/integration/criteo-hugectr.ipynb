{
 "cells": [
  {
   "cell_type": "markdown",
   "metadata": {},
   "source": [
    "# NVTabular / HugeCTR Criteo Example \n",
    "Here we'll show how to use NVTabular first as a preprocessing library to prepare the [Criteo Display Advertising Challenge](https://www.kaggle.com/c/criteo-display-ad-challenge) dataset, and then train a model using HugeCTR.\n",
    "\n",
    "### Data Prep\n",
    "Before we get started, make sure you've run the [`optimize_criteo` notebook](./optimize_criteo.ipynb), which will convert the tsv data published by Criteo into the parquet format that our accelerated readers prefer. It's fair to mention at this point that that notebook will take ~4 hours to run. While we're hoping to release accelerated csv readers in the near future, we also believe that inefficiencies in existing data representations like csv are in no small part a consequence of inefficiencies in the existing hardware/software stack. Accelerating these pipelines on new hardware like GPUs may require us to make new choices about the representations we use to store that data, and parquet represents a strong alternative."
   ]
  },
  {
   "cell_type": "markdown",
   "metadata": {},
   "source": [
    "#### Quick Aside: Clearing Cache\n",
    "The following line is not strictly necessary, but is included for those who want to validate NVIDIA's benchmarks. We start by clearing the existing cache to start as \"fresh\" as possible. If you're having trouble running it, try executing the container with the `--privileged` flag."
   ]
  },
  {
   "cell_type": "code",
   "execution_count": 1,
   "metadata": {},
   "outputs": [
    {
     "name": "stdout",
     "output_type": "stream",
     "text": [
      "/bin/sh: 1: cannot create /proc/sys/vm/drop_caches: Read-only file system\n"
     ]
    }
   ],
   "source": [
    "!sync; echo 3 > /proc/sys/vm/drop_caches"
   ]
  },
  {
   "cell_type": "code",
   "execution_count": 2,
   "metadata": {},
   "outputs": [
    {
     "name": "stderr",
     "output_type": "stream",
     "text": [
      "/conda/lib/python3.7/site-packages/numba/cuda/envvars.py:17: NumbaWarning: \n",
      "Environment variables with the 'NUMBAPRO' prefix are deprecated and consequently ignored, found use of NUMBAPRO_NVVM=/usr/local/cuda/nvvm/lib64/libnvvm.so.\n",
      "\n",
      "For more information about alternatives visit: ('http://numba.pydata.org/numba-doc/latest/cuda/overview.html', '#cudatoolkit-lookup')\n",
      "  warnings.warn(errors.NumbaWarning(msg))\n",
      "/conda/lib/python3.7/site-packages/numba/cuda/envvars.py:17: NumbaWarning: \n",
      "Environment variables with the 'NUMBAPRO' prefix are deprecated and consequently ignored, found use of NUMBAPRO_LIBDEVICE=/usr/local/cuda/nvvm/libdevice/.\n",
      "\n",
      "For more information about alternatives visit: ('http://numba.pydata.org/numba-doc/latest/cuda/overview.html', '#cudatoolkit-lookup')\n",
      "  warnings.warn(errors.NumbaWarning(msg))\n"
     ]
    }
   ],
   "source": [
    "import os\n",
    "os.environ[\"CUDA_VISIBLE_DEVICES\"] = \"3\"\n",
    "from time import time\n",
    "import re\n",
    "import glob\n",
    "import warnings\n",
    "\n",
    "# tools for data preproc/loading\n",
    "import torch\n",
    "import rmm\n",
    "import nvtabular as nvt\n",
    "from nvtabular.ops import Normalize, FillMissing, Categorify, Moments, Median, LogOp, ZeroFill, get_embedding_sizes\n",
    "from nvtabular.torch_dataloader import DLDataLoader, TorchTensorBatchDatasetItr, create_tensors_plain"
   ]
  },
  {
   "cell_type": "markdown",
   "metadata": {},
   "source": [
    "### Initializing the Memory Pool\n",
    "For applications like the one that follows where RAPIDS will be the only workhorse user of GPU memory and resource, a good best practices is to use the RAPIDS Memory Manager library `rmm` to allocate a dedicated pool of GPU memory that allows for fast, asynchronous memory management. Here, we'll dedicate 80% of free GPU memory to this pool to make sure we get the most utilization possible."
   ]
  },
  {
   "cell_type": "code",
   "execution_count": 3,
   "metadata": {},
   "outputs": [
    {
     "name": "stderr",
     "output_type": "stream",
     "text": [
      "/nvtabular/nvtabular/io.py:86: UserWarning: get_memory_info is not supported. Using total device memory from NVML.\n",
      "  warnings.warn(\"get_memory_info is not supported. Using total device memory from NVML.\")\n"
     ]
    }
   ],
   "source": [
    "rmm.reinitialize(pool_allocator=True, initial_pool_size=0.8 * nvt.io.device_mem_size(kind='free'))"
   ]
  },
  {
   "cell_type": "markdown",
   "metadata": {},
   "source": [
    "### Dataset and Dataset Schema\n",
    "Once our data is ready, we'll define some high level parameters to describe where our data is and what it \"looks like\" at a high level."
   ]
  },
  {
   "cell_type": "code",
   "execution_count": 4,
   "metadata": {},
   "outputs": [
    {
     "name": "stdout",
     "output_type": "stream",
     "text": [
      "mkdir: cannot create directory ‘/dataset/output’: File exists\n"
     ]
    }
   ],
   "source": [
    "# define some information about where to get our data\n",
    "INPUT_DATA_DIR = os.environ.get('INPUT_DATA_DIR', '/dataset')\n",
    "OUTPUT_DATA_DIR = os.environ.get('OUTPUT_DATA_DIR', '/dataset/output') # where we'll save our procesed data to\n",
    "!mkdir $OUTPUT_DATA_DIR\n",
    "NUM_TRAIN_DAYS = 23 # number of days worth of data to use for training, the rest will be used for validation\n",
    "\n",
    "# define our dataset schema\n",
    "CONTINUOUS_COLUMNS = ['I' + str(x) for x in range(1,14)]\n",
    "CATEGORICAL_COLUMNS =  ['C' + str(x) for x in range(1,27)]\n",
    "LABEL_COLUMNS = ['label']\n",
    "COLUMNS = CONTINUOUS_COLUMNS + CATEGORICAL_COLUMNS + LABEL_COLUMNS"
   ]
  },
  {
   "cell_type": "code",
   "execution_count": 5,
   "metadata": {},
   "outputs": [],
   "source": [
    "# ! ls $INPUT_DATA_DIR"
   ]
  },
  {
   "cell_type": "code",
   "execution_count": 6,
   "metadata": {},
   "outputs": [
    {
     "name": "stdout",
     "output_type": "stream",
     "text": [
      "['/dataset/day_0.parquet']\n",
      "['/dataset/day_23.parquet']\n"
     ]
    }
   ],
   "source": [
    "fname = 'day_{}.parquet'\n",
    "num_days = len([i for i in os.listdir(INPUT_DATA_DIR) if re.match(fname.format('[0-9]{1,2}'), i) is not None])\n",
    "train_paths = [os.path.join(INPUT_DATA_DIR, fname.format(day)) for day in range(1)]\n",
    "valid_paths = [os.path.join(INPUT_DATA_DIR, fname.format(day)) for day in range(NUM_TRAIN_DAYS, NUM_TRAIN_DAYS+1)]\n",
    "print(train_paths)\n",
    "print(valid_paths)"
   ]
  },
  {
   "cell_type": "markdown",
   "metadata": {},
   "source": [
    "### Preprocessing\n",
    "At this point, our data still isn't in a form that's ideal for consumption by neural networks. The most pressing issues are missing values and the fact that our categorical variables are still represented by random, discrete identifiers, and need to be transformed into contiguous indices that can be leveraged by a learned embedding. Less pressing, but still important for learning dynamics, are the distributions of our continuous variables, which are distributed across multiple orders of magnitude and are uncentered (i.e. E[x] != 0).\n",
    "\n",
    "We can fix these issues in a conscise and GPU-accelerated manner with an NVTabular `Workflow`. We'll instantiate one with our current dataset schema, then symbolically add operations _on_ that schema. By setting all these `Ops` to use `replace=True`, the schema itself will remain unmodified, while the variables represented by each field in the schema will be transformed.\n",
    "\n",
    "#### Frequency Thresholding\n",
    "One interesting thing worth pointing out is that we're using _frequency thresholding_ in our `Categorify` op. This handy functionality will map all categories which occur in the dataset with some threshold level of infrequency (which we've set here to be 15 occurrences throughout the dataset) to the _same_ index, keeping the model from overfitting to sparse signals."
   ]
  },
  {
   "cell_type": "code",
   "execution_count": 7,
   "metadata": {},
   "outputs": [],
   "source": [
    "proc = nvt.Workflow(\n",
    "    cat_names=CATEGORICAL_COLUMNS,\n",
    "    cont_names=CONTINUOUS_COLUMNS,\n",
    "    label_name=LABEL_COLUMNS)\n",
    "\n",
    "# log -> normalize continuous features. Note that doing this in the opposite\n",
    "# order wouldn't make sense! Note also that we're zero filling continuous\n",
    "# values before the log: this is a good time to remember that LogOp\n",
    "# performs log(1+x), not log(x)\n",
    "proc.add_cont_feature([ZeroFill(), LogOp()])\n",
    "proc.add_cont_preprocess(Normalize())\n",
    "\n",
    "# categorification with frequency thresholding\n",
    "proc.add_cat_preprocess(Categorify(freq_threshold=15))"
   ]
  },
  {
   "cell_type": "markdown",
   "metadata": {},
   "source": [
    "Now instantiate dataset iterators to loop through our dataset (which we couldn't fit into GPU memory)"
   ]
  },
  {
   "cell_type": "code",
   "execution_count": 8,
   "metadata": {},
   "outputs": [],
   "source": [
    "train_dataset = nvt.Dataset(train_paths, engine='parquet', part_mem_fraction=0.12)\n",
    "valid_dataset = nvt.Dataset(valid_paths, engine='parquet', part_mem_fraction=0.12)"
   ]
  },
  {
   "cell_type": "markdown",
   "metadata": {},
   "source": [
    "Now run them through our workflows to collect statistics on the train set, then transform and save to parquet files."
   ]
  },
  {
   "cell_type": "code",
   "execution_count": 9,
   "metadata": {},
   "outputs": [],
   "source": [
    "output_train_dir = os.path.join(OUTPUT_DATA_DIR, 'train/')\n",
    "output_valid_dir = os.path.join(OUTPUT_DATA_DIR, 'valid/')\n",
    "! mkdir -p $output_train_dir\n",
    "! mkdir -p $output_valid_dir"
   ]
  },
  {
   "cell_type": "markdown",
   "metadata": {},
   "source": [
    "For reference, let's time it to see how long it takes..."
   ]
  },
  {
   "cell_type": "code",
   "execution_count": 11,
   "metadata": {},
   "outputs": [
    {
     "name": "stdout",
     "output_type": "stream",
     "text": [
      "CPU times: user 1min 12s, sys: 41.5 s, total: 1min 54s\n",
      "Wall time: 2min 9s\n"
     ]
    }
   ],
   "source": [
    "%%time\n",
    "proc.apply(train_dataset, apply_offline=True, record_stats=True, shuffle=False, output_format=\"parquet\", output_path=output_train_dir, out_files_per_proc=15)"
   ]
  },
  {
   "cell_type": "code",
   "execution_count": 17,
   "metadata": {},
   "outputs": [
    {
     "name": "stdout",
     "output_type": "stream",
     "text": [
      "{'C1': (381808, 16), 'C10': (341642, 16), 'C11': (112151, 16), 'C12': (94957, 16), 'C13': (11, 6), 'C14': (2188, 16), 'C15': (8399, 16), 'C16': (61, 16), 'C17': (4, 3), 'C18': (949, 16), 'C19': (15, 7), 'C2': (22456, 16), 'C20': (382633, 16), 'C21': (246818, 16), 'C22': (370704, 16), 'C23': (92823, 16), 'C24': (9773, 16), 'C25': (78, 16), 'C26': (34, 12), 'C3': (14763, 16), 'C4': (7118, 16), 'C5': (19308, 16), 'C6': (4, 3), 'C7': (6443, 16), 'C8': (1259, 16), 'C9': (54, 15)}\n"
     ]
    }
   ],
   "source": [
    "embeddings = get_embedding_sizes(proc)\n",
    "print(embeddings)"
   ]
  },
  {
   "cell_type": "code",
   "execution_count": 11,
   "metadata": {},
   "outputs": [
    {
     "name": "stdout",
     "output_type": "stream",
     "text": [
      "CPU times: user 32.2 s, sys: 33.6 s, total: 1min 5s\n",
      "Wall time: 1min 18s\n"
     ]
    }
   ],
   "source": [
    "%%time\n",
    "proc.apply(valid_dataset, apply_offline=True, record_stats=False, shuffle=False, output_format=\"parquet\", output_path=output_valid_dir, out_files_per_proc=15)"
   ]
  },
  {
   "cell_type": "code",
   "execution_count": 12,
   "metadata": {},
   "outputs": [],
   "source": [
    "import cudf\n",
    "def convert_label(path):\n",
    "    for filename in os.listdir(path):\n",
    "        if filename.endswith(\".parquet\"):\n",
    "            print(path+filename)\n",
    "            df = cudf.read_parquet(path+filename)\n",
    "            #df = df.astype({\"label\": np.float32})\n",
    "            df[\"label\"] = df['label'].astype('float32')\n",
    "            df.to_parquet(path+filename)"
   ]
  },
  {
   "cell_type": "code",
   "execution_count": 13,
   "metadata": {},
   "outputs": [
    {
     "name": "stdout",
     "output_type": "stream",
     "text": [
      "/dataset/output/train/13.3d02fe53197e45ce91adde8862bd84b6.parquet\n",
      "/dataset/output/train/8.a960df9b92b442cfab9cd2b0486d3750.parquet\n",
      "/dataset/output/train/14.741a3d1c17ad467ca8c25e2627eeca52.parquet\n",
      "/dataset/output/train/7.1a9fe40ccea6497aa2f47c55dcba31da.parquet\n",
      "/dataset/output/train/12.393c2836432a4ff58cc748ecd0500464.parquet\n",
      "/dataset/output/train/1.1957e9688f35494db35ddbf483835e04.parquet\n",
      "/dataset/output/train/3.7efe3c460d6d4d02b2e552ec90b8cc3b.parquet\n",
      "/dataset/output/train/9.b735591fafe941c9ad22edea3a435a20.parquet\n",
      "/dataset/output/train/0.2409a6f07f9e4da18252298cd2bc9935.parquet\n",
      "/dataset/output/train/5.fce3a789f16f45c8988ce42508bbcdf3.parquet\n",
      "/dataset/output/train/11.7c00210b49cb40e5ae784ca691c33fa1.parquet\n",
      "/dataset/output/train/4.3ab1754a88a44ee38ed1b05a4ff2fe58.parquet\n",
      "/dataset/output/train/10.e57ee6b92dfc46d1a2123817f0eb2d8a.parquet\n",
      "/dataset/output/train/6.d98ccb503d004b6d8055042406ca7df7.parquet\n",
      "/dataset/output/train/2.90bd1f823bbb44a6b956b47eb26f66ad.parquet\n",
      "/dataset/output/valid/6.dde324d1ee03460195edb85777abf944.parquet\n",
      "/dataset/output/valid/2.6c073575e2f64794a31c396af5bfbb0d.parquet\n",
      "/dataset/output/valid/8.024d395df3c745e8869c73a4508ee32c.parquet\n",
      "/dataset/output/valid/4.5fb9429c498b4eedaa91aa325a21f529.parquet\n",
      "/dataset/output/valid/10.a21ceb0c00304956b7db31d9a94ef06a.parquet\n",
      "/dataset/output/valid/14.43ed8900260d43069093475985008f9d.parquet\n",
      "/dataset/output/valid/13.5ef20ea522144b84bfae22963b63a8c0.parquet\n",
      "/dataset/output/valid/9.7ddb3012f832479388e939d8f0617e9e.parquet\n",
      "/dataset/output/valid/7.48da23357d794cf4aef6604220ec2ab0.parquet\n",
      "/dataset/output/valid/3.caaba3822a684f1fa41dae172b6b9c0e.parquet\n",
      "/dataset/output/valid/12.886264d2cfb4438cad019eb3429dd78d.parquet\n",
      "/dataset/output/valid/1.69618db6c3b94db1b511e1b082e2749a.parquet\n",
      "/dataset/output/valid/11.4f5c7ce6c0a94238bf0250e3b84cafce.parquet\n",
      "/dataset/output/valid/5.4f7634128b5e470bb1db53a391e3e81e.parquet\n",
      "/dataset/output/valid/0.f1d4efbfb6eb420f873fd0b2a5269a45.parquet\n"
     ]
    }
   ],
   "source": [
    "convert_label(output_train_dir)\n",
    "convert_label(output_valid_dir)"
   ]
  },
  {
   "cell_type": "code",
   "execution_count": 14,
   "metadata": {},
   "outputs": [
    {
     "name": "stdout",
     "output_type": "stream",
     "text": [
      "0.2409a6f07f9e4da18252298cd2bc9935.parquet\n",
      "1.1957e9688f35494db35ddbf483835e04.parquet\n",
      "10.e57ee6b92dfc46d1a2123817f0eb2d8a.parquet\n",
      "11.7c00210b49cb40e5ae784ca691c33fa1.parquet\n",
      "12.393c2836432a4ff58cc748ecd0500464.parquet\n",
      "13.3d02fe53197e45ce91adde8862bd84b6.parquet\n",
      "14.741a3d1c17ad467ca8c25e2627eeca52.parquet\n",
      "2.90bd1f823bbb44a6b956b47eb26f66ad.parquet\n",
      "3.7efe3c460d6d4d02b2e552ec90b8cc3b.parquet\n",
      "4.3ab1754a88a44ee38ed1b05a4ff2fe58.parquet\n",
      "5.fce3a789f16f45c8988ce42508bbcdf3.parquet\n",
      "6.d98ccb503d004b6d8055042406ca7df7.parquet\n",
      "7.1a9fe40ccea6497aa2f47c55dcba31da.parquet\n",
      "8.a960df9b92b442cfab9cd2b0486d3750.parquet\n",
      "9.b735591fafe941c9ad22edea3a435a20.parquet\n",
      "_file_list.txt\n",
      "_metadata\n",
      "_metadata.json\n",
      "metadata.json\n",
      "0.f1d4efbfb6eb420f873fd0b2a5269a45.parquet\n",
      "1.69618db6c3b94db1b511e1b082e2749a.parquet\n",
      "10.a21ceb0c00304956b7db31d9a94ef06a.parquet\n",
      "11.4f5c7ce6c0a94238bf0250e3b84cafce.parquet\n",
      "12.886264d2cfb4438cad019eb3429dd78d.parquet\n",
      "13.5ef20ea522144b84bfae22963b63a8c0.parquet\n",
      "14.43ed8900260d43069093475985008f9d.parquet\n",
      "2.6c073575e2f64794a31c396af5bfbb0d.parquet\n",
      "3.caaba3822a684f1fa41dae172b6b9c0e.parquet\n",
      "4.5fb9429c498b4eedaa91aa325a21f529.parquet\n",
      "5.4f7634128b5e470bb1db53a391e3e81e.parquet\n",
      "6.dde324d1ee03460195edb85777abf944.parquet\n",
      "7.48da23357d794cf4aef6604220ec2ab0.parquet\n",
      "8.024d395df3c745e8869c73a4508ee32c.parquet\n",
      "9.7ddb3012f832479388e939d8f0617e9e.parquet\n",
      "_file_list.txt\n",
      "_metadata\n",
      "_metadata.json\n",
      "metadata.json\n"
     ]
    }
   ],
   "source": [
    "! cp $output_train_dir/_metadata.json $output_train_dir/metadata.json\n",
    "! cp $output_valid_dir/_metadata.json $output_valid_dir/metadata.json\n",
    "! ls $output_train_dir\n",
    "! ls $output_valid_dir"
   ]
  },
  {
   "cell_type": "markdown",
   "metadata": {},
   "source": [
    "And just like that, we have training and validation sets ready to feed to a model!"
   ]
  },
  {
   "cell_type": "markdown",
   "metadata": {},
   "source": [
    "## HugeCTR\n",
    "### Training\n",
    "We'll run huge_ctr using the configuration file.\n",
    "\n",
    "First, we'll reinitialize our memory pool from earlier to free up some memory so that we can share it with PyTorch."
   ]
  },
  {
   "cell_type": "code",
   "execution_count": 15,
   "metadata": {},
   "outputs": [],
   "source": [
    "rmm.reinitialize(pool_allocator=False)"
   ]
  },
  {
   "cell_type": "code",
   "execution_count": 16,
   "metadata": {},
   "outputs": [
    {
     "name": "stdout",
     "output_type": "stream",
     "text": [
      "[0.001, init_start, ]\n",
      "HugeCTR Version: 2.2.1\n",
      "Config file: dcn_parquet.json\n",
      "[05d03h20m32s][HUGECTR][INFO]: Default evaluation metric is AUC without threshold value\n",
      "[05d03h20m32s][HUGECTR][INFO]: algorithm_search is not specified using default: 1\n",
      "[05d03h20m32s][HUGECTR][INFO]: Algorithm search: ON\n",
      "[05d03h20m33s][HUGECTR][INFO]: Peer-to-peer access cannot be fully enabled.\n",
      "Device 0: Tesla V100-DGXS-16GB\n",
      "[05d03h20m33s][HUGECTR][INFO]: Initial seed is 1270041019\n",
      "[05d03h20m33s][HUGECTR][INFO]: cache_eval_data is not specified using default: 0\n",
      "[05d03h20m34s][HUGECTR][INFO]: Vocabulary size: 2116453\n",
      "[05d03h20m34s][HUGECTR][INFO]: num_internal_buffers 1\n",
      "[05d03h20m34s][HUGECTR][INFO]: num_internal_buffers 1\n",
      "[05d03h20m34s][HUGECTR][INFO]: max_vocabulary_size_per_gpu_=2700000\n",
      "[05d03h20m34s][HUGECTR][INFO]: All2All Warmup Start\n",
      "[05d03h20m34s][HUGECTR][INFO]: All2All Warmup End\n",
      "[05d03h20m36s][HUGECTR][INFO]: gpu0 start to init embedding\n",
      "[05d03h20m36s][HUGECTR][INFO]: gpu0 init embedding done\n",
      "[05d03h20m36s][HUGECTR][INFO]: warmup_steps is not specified using default: 1\n",
      "[05d03h20m36s][HUGECTR][INFO]: decay_start is not specified using default: 0\n",
      "[05d03h20m36s][HUGECTR][INFO]: decay_steps is not specified using default: 1\n",
      "[05d03h20m36s][HUGECTR][INFO]: decay_power is not specified using default: 2.000000\n",
      "[05d03h20m36s][HUGECTR][INFO]: end_lr is not specified using default: 0.000000\n",
      "[4295.87, init_end, ]\n",
      "[4295.89, run_start, ]\n",
      "HugeCTR training start:\n",
      "[4295.89, train_epoch_start, 0, ]\n",
      "[05d03h20m39s][HUGECTR][INFO]: Iter: 100 Time(100 iters): 2.683433s Loss: 0.131644 lr:0.001000\n",
      "[05d03h20m41s][HUGECTR][INFO]: Iter: 200 Time(100 iters): 2.573579s Loss: 0.134693 lr:0.001000\n",
      "[05d03h20m44s][HUGECTR][INFO]: Iter: 300 Time(100 iters): 2.575217s Loss: 0.134705 lr:0.001000\n",
      "[05d03h20m46s][HUGECTR][INFO]: Iter: 400 Time(100 iters): 2.606439s Loss: 0.133679 lr:0.001000\n",
      "[05d03h20m49s][HUGECTR][INFO]: Iter: 500 Time(100 iters): 2.570205s Loss: 0.121278 lr:0.001000\n",
      "[05d03h20m52s][HUGECTR][INFO]: Iter: 600 Time(100 iters): 2.571082s Loss: 0.120089 lr:0.001000\n",
      "[05d03h20m54s][HUGECTR][INFO]: Iter: 700 Time(100 iters): 2.572010s Loss: 0.126111 lr:0.001000\n",
      "[05d03h20m57s][HUGECTR][INFO]: Iter: 800 Time(100 iters): 2.603414s Loss: 0.119306 lr:0.001000\n",
      "[05d03h20m59s][HUGECTR][INFO]: Iter: 900 Time(100 iters): 2.569803s Loss: 0.120952 lr:0.001000\n",
      "[05d03h21m02s][HUGECTR][INFO]: Iter: 1000 Time(100 iters): 2.574123s Loss: 0.120267 lr:0.001000\n",
      "[05d03h21m05s][HUGECTR][INFO]: Iter: 1100 Time(100 iters): 2.573073s Loss: 0.125227 lr:0.001000\n",
      "[05d03h21m07s][HUGECTR][INFO]: Iter: 1200 Time(100 iters): 2.607531s Loss: 0.121734 lr:0.001000\n",
      "[05d03h21m10s][HUGECTR][INFO]: Iter: 1300 Time(100 iters): 2.571332s Loss: 0.123043 lr:0.001000\n",
      "[05d03h21m12s][HUGECTR][INFO]: Iter: 1400 Time(100 iters): 2.569978s Loss: 0.118268 lr:0.001000\n",
      "[05d03h21m15s][HUGECTR][INFO]: Iter: 1500 Time(100 iters): 2.570513s Loss: 0.130366 lr:0.001000\n",
      "[05d03h21m17s][HUGECTR][INFO]: Iter: 1600 Time(100 iters): 2.605373s Loss: 0.117917 lr:0.001000\n",
      "[05d03h21m20s][HUGECTR][INFO]: Iter: 1700 Time(100 iters): 2.566272s Loss: 0.120122 lr:0.001000\n",
      "[05d03h21m23s][HUGECTR][INFO]: Iter: 1800 Time(100 iters): 2.571649s Loss: 0.131299 lr:0.001000\n",
      "[05d03h21m25s][HUGECTR][INFO]: Iter: 1900 Time(100 iters): 2.571373s Loss: 0.120623 lr:0.001000\n",
      "[05d03h21m28s][HUGECTR][INFO]: Iter: 2000 Time(100 iters): 2.604300s Loss: 0.124231 lr:0.001000\n",
      "[05d03h21m30s][HUGECTR][INFO]: Iter: 2100 Time(100 iters): 2.568179s Loss: 0.125854 lr:0.001000\n",
      "[05d03h21m33s][HUGECTR][INFO]: Iter: 2200 Time(100 iters): 2.565028s Loss: 0.132514 lr:0.001000\n",
      "[05d03h21m35s][HUGECTR][INFO]: Iter: 2300 Time(100 iters): 2.567711s Loss: 0.117400 lr:0.001000\n",
      "[05d03h21m38s][HUGECTR][INFO]: Iter: 2400 Time(100 iters): 2.603105s Loss: 0.119167 lr:0.001000\n",
      "[05d03h21m41s][HUGECTR][INFO]: Iter: 2500 Time(100 iters): 2.566934s Loss: 0.116731 lr:0.001000\n",
      "[05d03h21m43s][HUGECTR][INFO]: Iter: 2600 Time(100 iters): 2.570251s Loss: 0.133265 lr:0.001000\n",
      "[05d03h21m46s][HUGECTR][INFO]: Iter: 2700 Time(100 iters): 2.601588s Loss: 0.129062 lr:0.001000\n",
      "[05d03h21m48s][HUGECTR][INFO]: Iter: 2800 Time(100 iters): 2.563657s Loss: 0.120372 lr:0.001000\n",
      "[05d03h21m51s][HUGECTR][INFO]: Iter: 2900 Time(100 iters): 2.565413s Loss: 0.122268 lr:0.001000\n",
      "[81731.9, train_epoch_end, 1, ]\n",
      "[81731.9, run_stop, ]\n"
     ]
    }
   ],
   "source": [
    "! /usr/local/hugectr/bin/huge_ctr --train dcn_parquet.json"
   ]
  },
  {
   "cell_type": "code",
   "execution_count": null,
   "metadata": {},
   "outputs": [],
   "source": []
  }
 ],
 "metadata": {
  "file_extension": ".py",
  "kernelspec": {
   "display_name": "Python 3",
   "language": "python",
   "name": "python3"
  },
  "language_info": {
   "codemirror_mode": {
    "name": "ipython",
    "version": 3
   },
   "file_extension": ".py",
   "mimetype": "text/x-python",
   "name": "python",
   "nbconvert_exporter": "python",
   "pygments_lexer": "ipython3",
   "version": "3.7.7"
  },
  "mimetype": "text/x-python",
  "name": "python",
  "npconvert_exporter": "python",
  "pygments_lexer": "ipython3",
  "version": 3
 },
 "nbformat": 4,
 "nbformat_minor": 4
}
