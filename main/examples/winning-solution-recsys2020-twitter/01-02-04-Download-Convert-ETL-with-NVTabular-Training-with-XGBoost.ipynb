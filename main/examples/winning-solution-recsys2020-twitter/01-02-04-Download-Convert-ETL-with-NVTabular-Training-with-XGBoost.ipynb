{
 "cells": [
  {
   "cell_type": "code",
   "execution_count": 1,
   "metadata": {},
   "outputs": [],
   "source": [
    "# Copyright 2021 NVIDIA Corporation. All Rights Reserved.\n",
    "#\n",
    "# Licensed under the Apache License, Version 2.0 (the \"License\");\n",
    "# you may not use this file except in compliance with the License.\n",
    "# You may obtain a copy of the License at\n",
    "#\n",
    "#     http://www.apache.org/licenses/LICENSE-2.0\n",
    "#\n",
    "# Unless required by applicable law or agreed to in writing, software\n",
    "# distributed under the License is distributed on an \"AS IS\" BASIS,\n",
    "# WITHOUT WARRANTIES OR CONDITIONS OF ANY KIND, either express or implied.\n",
    "# See the License for the specific language governing permissions and\n",
    "# limitations under the License.\n",
    "# =============================================================================="
   ]
  },
  {
   "cell_type": "markdown",
   "metadata": {},
   "source": [
    "<img src=\"http://developer.download.nvidia.com/compute/machine-learning/frameworks/nvidia_logo.png\" style=\"width: 90px; float: right;\">\n",
    "\n",
    "# NVTabular demo on RecSys2020 Challenge\n",
    "\n",
    "## Overview\n",
    "\n",
    "NVTabular is a feature engineering and preprocessing library for tabular data designed to quickly and easily manipulate terabyte scale datasets used to train deep learning based recommender systems.  It provides a high level abstraction to simplify code and accelerates computation on the GPU using the RAPIDS cuDF library.\n",
    "\n",
    "### RecSys2020 Challenge\n",
    "\n",
    "The [RecSys](https://recsys.acm.org/) conference is the leading data science conference for recommender systems and organizes an annual competiton in recommender systems. The [RecSys Challenge 2020](https://recsys-twitter.com/), hosted by Twitter, was about predicting interactions of ~200 mio. tweet-user pairs. NVIDIA's team scored 1st place. The team explained the solution in the [blogpost](https://medium.com/rapids-ai/winning-solution-of-recsys2020-challenge-gpu-accelerated-feature-engineering-and-training-for-cd67c5a87b1f) and published the code on [github](https://github.com/rapidsai/deeplearning/tree/main/RecSys2020).\n",
    "\n",
    "### Downloading the dataset\n",
    "\n",
    "The dataset has to be downloaded from the original source, provided by Twitter. You need to create an account on the [RecSys Challenge 2020 website](https://recsys-twitter.com/). Twitter needs to (manually) approve your account, which can take a few days. After your account is approved, you can download the data [here](https://recsys-twitter.com/data/show-downloads). We will use only the `training.tsv` file, as we cannot make submissions anymore.\n",
    "\n",
    "### Learning objectives\n",
    "\n",
    "This notebook covers the end-2-end pipeline, from loading the original .tsv file to training the models, with NVTabular, [cuDF](https://github.com/rapidsai/cudf), [dask](https://dask.org/) and [XGBoost](https://xgboost.readthedocs.io/). We demonstrate multi-GPU support for NVTabular and new `nvt.ops`, implemented based on the success of our RecSys2020 solution.\n",
    "\n",
    "1. **NVTabular** to preprocess the original .tsv file.\n",
    "2. **dask_cudf** to split the preprocessed data into a training and validation set.\n",
    "3. **NVTabular** to create additional features with only **~70 lines of code**.\n",
    "4. **dask_cudf** / **XGBoost on GPU** to train our model."
   ]
  },
  {
   "cell_type": "markdown",
   "metadata": {},
   "source": [
    "## RecSys2020 Challenge"
   ]
  },
  {
   "cell_type": "code",
   "execution_count": 2,
   "metadata": {},
   "outputs": [],
   "source": [
    "# External Dependencies\n",
    "import os\n",
    "import time\n",
    "import glob\n",
    "import gc\n",
    "\n",
    "import cupy as cp  # CuPy is an implementation of NumPy-compatible multi-dimensional array on GPU\n",
    "import cudf  # cuDF is an implementation of Pandas-like Dataframe on GPU\n",
    "import dask  # dask is an open-source library to nateively scale Python on multiple workers/nodes\n",
    "import dask_cudf  # dask_cudf uses dask to scale cuDF dataframes on multiple workers/nodes\n",
    "\n",
    "import numpy as np\n",
    "\n",
    "# NVTabular is the core library, we will use here for feature engineering/preprocessing on GPU\n",
    "import nvtabular as nvt\n",
    "import xgboost as xgb\n",
    "\n",
    "# More dask / dask_cluster related libraries to scale NVTabular\n",
    "from dask_cuda import LocalCUDACluster\n",
    "from dask.distributed import Client\n",
    "\n",
    "from nvtabular.ops import Categorify, DifferenceLag, FillMissing, JoinGroupby, Rename"
   ]
  },
  {
   "cell_type": "markdown",
   "metadata": {},
   "source": [
    "Let's have a short look on the library versions and setup, we will use."
   ]
  },
  {
   "cell_type": "markdown",
   "metadata": {},
   "source": [
    "We ran this example with 2x Quadro GV100 GPUs with each having 32GB of GPU memory. NVTabular used a single GPU whereas XGBoost trained with two GPUs."
   ]
  },
  {
   "cell_type": "code",
   "execution_count": 3,
   "metadata": {},
   "outputs": [],
   "source": [
    "time_total_start = time.time()"
   ]
  },
  {
   "cell_type": "markdown",
   "metadata": {},
   "source": [
    "We define our input directory containing the data, and output directory to save the processed files. "
   ]
  },
  {
   "cell_type": "code",
   "execution_count": 4,
   "metadata": {},
   "outputs": [],
   "source": [
    "INPUT_DATA_DIR = os.environ.get(\"INPUT_DATA_DIR\", \"/dataset/\")\n",
    "OUTPUT_DIR = os.environ.get(\"OUTPUT_DIR\", \"./\")"
   ]
  },
  {
   "cell_type": "markdown",
   "metadata": {},
   "source": [
    "First, we initialize our local cuda cluster."
   ]
  },
  {
   "cell_type": "code",
   "execution_count": 5,
   "metadata": {},
   "outputs": [
    {
     "data": {
      "text/html": [
       "<table style=\"border: 2px solid white;\">\n",
       "<tr>\n",
       "<td style=\"vertical-align: top; border: 0px solid white\">\n",
       "<h3 style=\"text-align: left;\">Client</h3>\n",
       "<ul style=\"text-align: left; list-style: none; margin: 0; padding: 0;\">\n",
       "  <li><b>Scheduler: </b>tcp://127.0.0.1:43407</li>\n",
       "  <li><b>Dashboard: </b><a href='http://127.0.0.1:8787/status' target='_blank'>http://127.0.0.1:8787/status</a></li>\n",
       "</ul>\n",
       "</td>\n",
       "<td style=\"vertical-align: top; border: 0px solid white\">\n",
       "<h3 style=\"text-align: left;\">Cluster</h3>\n",
       "<ul style=\"text-align: left; list-style:none; margin: 0; padding: 0;\">\n",
       "  <li><b>Workers: </b>2</li>\n",
       "  <li><b>Cores: </b>2</li>\n",
       "  <li><b>Memory: </b>49.28 GB</li>\n",
       "</ul>\n",
       "</td>\n",
       "</tr>\n",
       "</table>"
      ],
      "text/plain": [
       "<Client: 'tcp://127.0.0.1:43407' processes=2 threads=2, memory=49.28 GB>"
      ]
     },
     "execution_count": 5,
     "metadata": {},
     "output_type": "execute_result"
    }
   ],
   "source": [
    "cluster = LocalCUDACluster(protocol=\"tcp\")\n",
    "client = Client(cluster)\n",
    "client"
   ]
  },
  {
   "cell_type": "markdown",
   "metadata": {},
   "source": [
    "## Preparing our dataset"
   ]
  },
  {
   "cell_type": "markdown",
   "metadata": {},
   "source": [
    "The original data format had multiple inefficiencies, resulting in requiring more disk space and memory:\n",
    "\n",
    "1. The file format is `.tsv`, an uncompressed, text-based format. The `parquet` file format stores tabular data in a compressed, column-oriented format. This saves a significant amount of disk space which results in fewer i/o operations and faster execution.\n",
    "2. Some categorical features, such as tweet_id, user_id are hashed to String values (e.g. `cfcd208495d565ef66e7dff9f98764da`). These long Strings require significant amount of disk space/memory. We can encode the Categories as Integer values using `Categorify`. Representing the String `cfcd208495d565ef66e7dff9f98764da` as an Integer `0` can save up 90% in memory. Although other categorical features are no long hashes, they are still Strings (e.g. tweet_type) and we will represent them as Integers, as well.\n",
    "3. In our experiments, the text_tokens were not a significant feature and we will drop the column before we split the data."
   ]
  },
  {
   "cell_type": "markdown",
   "metadata": {},
   "source": [
    "First, we define the column names in the original .tsv file. The .tsv file has no header and we need to specify the names."
   ]
  },
  {
   "cell_type": "code",
   "execution_count": 6,
   "metadata": {},
   "outputs": [],
   "source": [
    "features = [\n",
    "    # Tweet Features\n",
    "    \"text_tokens\",\n",
    "    \"hashtags\",\n",
    "    \"tweet_id\",\n",
    "    \"media\",\n",
    "    \"links\",\n",
    "    \"domains\",\n",
    "    \"tweet_type\",\n",
    "    \"language\",\n",
    "    \"timestamp\",\n",
    "    # Engaged With User Features\n",
    "    \"a_user_id\",\n",
    "    \"a_follower_count\",\n",
    "    \"a_following_count\",\n",
    "    \"a_is_verified\",\n",
    "    \"a_account_creation\",\n",
    "    \"b_user_id\",\n",
    "    # Engaging User Features\n",
    "    \"b_follower_count\",\n",
    "    \"b_following_count\",\n",
    "    \"b_is_verified\",\n",
    "    \"b_account_creation\",\n",
    "    \"b_follows_a\",\n",
    "    # Engagement Features\n",
    "    \"reply\",  # Target Reply\n",
    "    \"retweet\",  # Target Retweet\n",
    "    \"retweet_comment\",  # Target Retweet with comment\n",
    "    \"like\",  # Target Like\n",
    "]"
   ]
  },
  {
   "cell_type": "markdown",
   "metadata": {},
   "source": [
    "We define two helper function, we apply in our NVTabular workflow:\n",
    "1. splitmedia2 splits the entries in media by `\\t` and keeps only the first two values (if available),\n",
    "2. count_token counts the number of token in a column (e.g. how many hashtags are in a tweet),"
   ]
  },
  {
   "cell_type": "code",
   "execution_count": 7,
   "metadata": {},
   "outputs": [],
   "source": [
    "def splitmedia(col):\n",
    "    if col.shape[0] == 0:\n",
    "        return col\n",
    "    else:\n",
    "        return (\n",
    "            col.str.split(\"\\t\", expand=True)[0].fillna(\"\")\n",
    "            + \"_\"\n",
    "            + col.str.split(\"\\t\", expand=True)[1].fillna(\"\")\n",
    "        )\n",
    "\n",
    "\n",
    "def count_token(col, token):\n",
    "    not_null = col.isnull() == 0\n",
    "    return ((col.str.count(token) + 1) * not_null).fillna(0)"
   ]
  },
  {
   "cell_type": "markdown",
   "metadata": {},
   "source": [
    "We will define our data processing pipeline with NVTabular.<br><br>\n",
    "We count the number of tokens in the columns hashtags, domains, links. We use the `count_token` helper function in a `lambda` function. Finally, we rename the column names to avoid duplicated names."
   ]
  },
  {
   "cell_type": "code",
   "execution_count": 8,
   "metadata": {},
   "outputs": [],
   "source": [
    "count_features = (\n",
    "    nvt.ColumnGroup([\"hashtags\", \"domains\", \"links\"])\n",
    "    >> (lambda col: count_token(col, \"\\t\"))\n",
    "    >> Rename(postfix=\"_count_t\")\n",
    ")"
   ]
  },
  {
   "cell_type": "markdown",
   "metadata": {},
   "source": [
    "We apply splitmedia function to split the media."
   ]
  },
  {
   "cell_type": "code",
   "execution_count": 9,
   "metadata": {},
   "outputs": [],
   "source": [
    "split_media = nvt.ColumnGroup([\"media\"]) >> (lambda col: splitmedia(col))"
   ]
  },
  {
   "cell_type": "markdown",
   "metadata": {},
   "source": [
    "We encode categorical columns as a small, continuous integer to save memory. Some categorical columns contain long hashes of type String as values to preserve the privacy of the users (e.g. userId, language, etc.). Long hashes of type String requires significant amount of memory to store. We encode/map the Strings to continuous Integer to save significant memory.\n",
    "<br><br>\n",
    "Before we can apply `Categorify`, we need to fill na/missing values in the columns `hashtags`, `domains` and `links`. "
   ]
  },
  {
   "cell_type": "code",
   "execution_count": 10,
   "metadata": {},
   "outputs": [],
   "source": [
    "multihot_filled = [\"hashtags\", \"domains\", \"links\"] >> FillMissing()\n",
    "cat_columns = [\"language\", \"tweet_type\", \"tweet_id\", \"a_user_id\", \"b_user_id\"]\n",
    "cat_features = split_media + multihot_filled + cat_columns >> Categorify(out_path=OUTPUT_DIR)"
   ]
  },
  {
   "cell_type": "markdown",
   "metadata": {},
   "source": [
    "We want to fill na/missing values in the label columns as well."
   ]
  },
  {
   "cell_type": "code",
   "execution_count": 11,
   "metadata": {},
   "outputs": [],
   "source": [
    "label_name = [\"reply\", \"retweet\", \"retweet_comment\", \"like\"]\n",
    "label_name_feature = label_name >> nvt.ops.FillMissing()"
   ]
  },
  {
   "cell_type": "markdown",
   "metadata": {},
   "source": [
    "We extract the weekday from the timestamp."
   ]
  },
  {
   "cell_type": "code",
   "execution_count": 12,
   "metadata": {},
   "outputs": [],
   "source": [
    "weekday = (\n",
    "    nvt.ColumnGroup([\"timestamp\"])\n",
    "    >> (lambda col: cudf.to_datetime(col, unit=\"s\").dt.weekday)\n",
    "    >> nvt.ops.Rename(postfix=\"_wd\")\n",
    ")"
   ]
  },
  {
   "cell_type": "markdown",
   "metadata": {},
   "source": [
    "We can visualize our pipeline."
   ]
  },
  {
   "cell_type": "code",
   "execution_count": 13,
   "metadata": {},
   "outputs": [
    {
     "data": {
      "image/svg+xml": [
       "<?xml version=\"1.0\" encoding=\"UTF-8\" standalone=\"no\"?>\n",
       "<!DOCTYPE svg PUBLIC \"-//W3C//DTD SVG 1.1//EN\"\n",
       " \"http://www.w3.org/Graphics/SVG/1.1/DTD/svg11.dtd\">\n",
       "<!-- Generated by graphviz version 2.43.0 (0)\n",
       " -->\n",
       "<!-- Title: %3 Pages: 1 -->\n",
       "<svg width=\"1385pt\" height=\"404pt\"\n",
       " viewBox=\"0.00 0.00 1385.47 404.00\" xmlns=\"http://www.w3.org/2000/svg\" xmlns:xlink=\"http://www.w3.org/1999/xlink\">\n",
       "<g id=\"graph0\" class=\"graph\" transform=\"scale(1 1) rotate(0) translate(4 400)\">\n",
       "<title>%3</title>\n",
       "<polygon fill=\"white\" stroke=\"transparent\" points=\"-4,4 -4,-400 1381.47,-400 1381.47,4 -4,4\"/>\n",
       "<!-- 0 -->\n",
       "<g id=\"node1\" class=\"node\">\n",
       "<title>0</title>\n",
       "<ellipse fill=\"none\" stroke=\"black\" cx=\"120.24\" cy=\"-306\" rx=\"120.48\" ry=\"18\"/>\n",
       "<text text-anchor=\"middle\" x=\"120.24\" y=\"-302.3\" font-family=\"Times,serif\" font-size=\"14.00\">input cols=[timestamp]</text>\n",
       "</g>\n",
       "<!-- 13 -->\n",
       "<g id=\"node3\" class=\"node\">\n",
       "<title>13</title>\n",
       "<ellipse fill=\"none\" stroke=\"black\" cx=\"229.24\" cy=\"-234\" rx=\"61.19\" ry=\"18\"/>\n",
       "<text text-anchor=\"middle\" x=\"229.24\" y=\"-230.3\" font-family=\"Times,serif\" font-size=\"14.00\">LambdaOp</text>\n",
       "</g>\n",
       "<!-- 0&#45;&gt;13 -->\n",
       "<g id=\"edge14\" class=\"edge\">\n",
       "<title>0&#45;&gt;13</title>\n",
       "<path fill=\"none\" stroke=\"black\" d=\"M146.07,-288.41C161.05,-278.79 180.07,-266.58 196.14,-256.26\"/>\n",
       "<polygon fill=\"black\" stroke=\"black\" points=\"198.19,-259.1 204.72,-250.75 194.41,-253.21 198.19,-259.1\"/>\n",
       "</g>\n",
       "<!-- 1 -->\n",
       "<g id=\"node2\" class=\"node\">\n",
       "<title>1</title>\n",
       "<ellipse fill=\"none\" stroke=\"black\" cx=\"322.24\" cy=\"-162\" rx=\"48.19\" ry=\"18\"/>\n",
       "<text text-anchor=\"middle\" x=\"322.24\" y=\"-158.3\" font-family=\"Times,serif\" font-size=\"14.00\">Rename</text>\n",
       "</g>\n",
       "<!-- 2 -->\n",
       "<g id=\"node4\" class=\"node\">\n",
       "<title>2</title>\n",
       "<ellipse fill=\"none\" stroke=\"black\" cx=\"591.24\" cy=\"-90\" rx=\"27\" ry=\"18\"/>\n",
       "<text text-anchor=\"middle\" x=\"591.24\" y=\"-86.3\" font-family=\"Times,serif\" font-size=\"14.00\">+</text>\n",
       "</g>\n",
       "<!-- 1&#45;&gt;2 -->\n",
       "<g id=\"edge5\" class=\"edge\">\n",
       "<title>1&#45;&gt;2</title>\n",
       "<path fill=\"none\" stroke=\"black\" d=\"M360.49,-151.05C412.88,-137.41 506.15,-113.14 556.58,-100.02\"/>\n",
       "<polygon fill=\"black\" stroke=\"black\" points=\"557.57,-103.38 566.37,-97.47 555.81,-96.6 557.57,-103.38\"/>\n",
       "</g>\n",
       "<!-- 13&#45;&gt;1 -->\n",
       "<g id=\"edge1\" class=\"edge\">\n",
       "<title>13&#45;&gt;1</title>\n",
       "<path fill=\"none\" stroke=\"black\" d=\"M250.81,-216.76C263.52,-207.2 279.75,-194.98 293.53,-184.61\"/>\n",
       "<polygon fill=\"black\" stroke=\"black\" points=\"295.86,-187.24 301.74,-178.43 291.65,-181.64 295.86,-187.24\"/>\n",
       "</g>\n",
       "<!-- 16 -->\n",
       "<g id=\"node17\" class=\"node\">\n",
       "<title>16</title>\n",
       "<ellipse fill=\"none\" stroke=\"black\" cx=\"591.24\" cy=\"-18\" rx=\"315.74\" ry=\"18\"/>\n",
       "<text text-anchor=\"middle\" x=\"591.24\" y=\"-14.3\" font-family=\"Times,serif\" font-size=\"14.00\">output cols=[hashtags_count_t, domains_count_t, links_count_t...]</text>\n",
       "</g>\n",
       "<!-- 2&#45;&gt;16 -->\n",
       "<g id=\"edge16\" class=\"edge\">\n",
       "<title>2&#45;&gt;16</title>\n",
       "<path fill=\"none\" stroke=\"black\" d=\"M591.24,-71.7C591.24,-63.98 591.24,-54.71 591.24,-46.11\"/>\n",
       "<polygon fill=\"black\" stroke=\"black\" points=\"594.74,-46.1 591.24,-36.1 587.74,-46.1 594.74,-46.1\"/>\n",
       "</g>\n",
       "<!-- 8 -->\n",
       "<g id=\"node5\" class=\"node\">\n",
       "<title>8</title>\n",
       "<ellipse fill=\"none\" stroke=\"black\" cx=\"494.24\" cy=\"-162\" rx=\"48.19\" ry=\"18\"/>\n",
       "<text text-anchor=\"middle\" x=\"494.24\" y=\"-158.3\" font-family=\"Times,serif\" font-size=\"14.00\">Rename</text>\n",
       "</g>\n",
       "<!-- 8&#45;&gt;2 -->\n",
       "<g id=\"edge2\" class=\"edge\">\n",
       "<title>8&#45;&gt;2</title>\n",
       "<path fill=\"none\" stroke=\"black\" d=\"M515.29,-145.81C529.96,-135.23 549.62,-121.04 565.26,-109.75\"/>\n",
       "<polygon fill=\"black\" stroke=\"black\" points=\"567.42,-112.5 573.48,-103.81 563.33,-106.83 567.42,-112.5\"/>\n",
       "</g>\n",
       "<!-- 14 -->\n",
       "<g id=\"node6\" class=\"node\">\n",
       "<title>14</title>\n",
       "<ellipse fill=\"none\" stroke=\"black\" cx=\"689.24\" cy=\"-162\" rx=\"59.59\" ry=\"18\"/>\n",
       "<text text-anchor=\"middle\" x=\"689.24\" y=\"-158.3\" font-family=\"Times,serif\" font-size=\"14.00\">Categorify</text>\n",
       "</g>\n",
       "<!-- 14&#45;&gt;2 -->\n",
       "<g id=\"edge3\" class=\"edge\">\n",
       "<title>14&#45;&gt;2</title>\n",
       "<path fill=\"none\" stroke=\"black\" d=\"M667,-145.12C652.23,-134.57 632.78,-120.67 617.28,-109.6\"/>\n",
       "<polygon fill=\"black\" stroke=\"black\" points=\"619.31,-106.75 609.14,-103.78 615.24,-112.44 619.31,-106.75\"/>\n",
       "</g>\n",
       "<!-- 6 -->\n",
       "<g id=\"node7\" class=\"node\">\n",
       "<title>6</title>\n",
       "<ellipse fill=\"none\" stroke=\"black\" cx=\"932.24\" cy=\"-162\" rx=\"62.29\" ry=\"18\"/>\n",
       "<text text-anchor=\"middle\" x=\"932.24\" y=\"-158.3\" font-family=\"Times,serif\" font-size=\"14.00\">FillMissing</text>\n",
       "</g>\n",
       "<!-- 6&#45;&gt;2 -->\n",
       "<g id=\"edge4\" class=\"edge\">\n",
       "<title>6&#45;&gt;2</title>\n",
       "<path fill=\"none\" stroke=\"black\" d=\"M883.02,-150.9C813.45,-136.62 688.03,-110.87 626.81,-98.3\"/>\n",
       "<polygon fill=\"black\" stroke=\"black\" points=\"627.35,-94.84 616.85,-96.26 625.94,-101.7 627.35,-94.84\"/>\n",
       "</g>\n",
       "<!-- 3 -->\n",
       "<g id=\"node8\" class=\"node\">\n",
       "<title>3</title>\n",
       "<ellipse fill=\"none\" stroke=\"black\" cx=\"707.24\" cy=\"-306\" rx=\"61.19\" ry=\"18\"/>\n",
       "<text text-anchor=\"middle\" x=\"707.24\" y=\"-302.3\" font-family=\"Times,serif\" font-size=\"14.00\">LambdaOp</text>\n",
       "</g>\n",
       "<!-- 12 -->\n",
       "<g id=\"node15\" class=\"node\">\n",
       "<title>12</title>\n",
       "<ellipse fill=\"none\" stroke=\"black\" cx=\"707.24\" cy=\"-234\" rx=\"27\" ry=\"18\"/>\n",
       "<text text-anchor=\"middle\" x=\"707.24\" y=\"-230.3\" font-family=\"Times,serif\" font-size=\"14.00\">+</text>\n",
       "</g>\n",
       "<!-- 3&#45;&gt;12 -->\n",
       "<g id=\"edge11\" class=\"edge\">\n",
       "<title>3&#45;&gt;12</title>\n",
       "<path fill=\"none\" stroke=\"black\" d=\"M707.24,-287.7C707.24,-279.98 707.24,-270.71 707.24,-262.11\"/>\n",
       "<polygon fill=\"black\" stroke=\"black\" points=\"710.74,-262.1 707.24,-252.1 703.74,-262.1 710.74,-262.1\"/>\n",
       "</g>\n",
       "<!-- 10 -->\n",
       "<g id=\"node9\" class=\"node\">\n",
       "<title>10</title>\n",
       "<ellipse fill=\"none\" stroke=\"black\" cx=\"626.24\" cy=\"-378\" rx=\"98.58\" ry=\"18\"/>\n",
       "<text text-anchor=\"middle\" x=\"626.24\" y=\"-374.3\" font-family=\"Times,serif\" font-size=\"14.00\">input cols=[media]</text>\n",
       "</g>\n",
       "<!-- 10&#45;&gt;3 -->\n",
       "<g id=\"edge6\" class=\"edge\">\n",
       "<title>10&#45;&gt;3</title>\n",
       "<path fill=\"none\" stroke=\"black\" d=\"M645.85,-360.05C656.25,-351.07 669.17,-339.9 680.48,-330.12\"/>\n",
       "<polygon fill=\"black\" stroke=\"black\" points=\"683.09,-332.49 688.37,-323.31 678.52,-327.2 683.09,-332.49\"/>\n",
       "</g>\n",
       "<!-- 4 -->\n",
       "<g id=\"node10\" class=\"node\">\n",
       "<title>4</title>\n",
       "<ellipse fill=\"none\" stroke=\"black\" cx=\"460.24\" cy=\"-234\" rx=\"61.19\" ry=\"18\"/>\n",
       "<text text-anchor=\"middle\" x=\"460.24\" y=\"-230.3\" font-family=\"Times,serif\" font-size=\"14.00\">LambdaOp</text>\n",
       "</g>\n",
       "<!-- 4&#45;&gt;8 -->\n",
       "<g id=\"edge10\" class=\"edge\">\n",
       "<title>4&#45;&gt;8</title>\n",
       "<path fill=\"none\" stroke=\"black\" d=\"M468.47,-216.05C472.44,-207.89 477.28,-197.91 481.7,-188.82\"/>\n",
       "<polygon fill=\"black\" stroke=\"black\" points=\"484.86,-190.31 486.08,-179.79 478.57,-187.25 484.86,-190.31\"/>\n",
       "</g>\n",
       "<!-- 5 -->\n",
       "<g id=\"node11\" class=\"node\">\n",
       "<title>5</title>\n",
       "<ellipse fill=\"none\" stroke=\"black\" cx=\"443.24\" cy=\"-306\" rx=\"185.47\" ry=\"18\"/>\n",
       "<text text-anchor=\"middle\" x=\"443.24\" y=\"-302.3\" font-family=\"Times,serif\" font-size=\"14.00\">input cols=[hashtags, domains, links]</text>\n",
       "</g>\n",
       "<!-- 5&#45;&gt;4 -->\n",
       "<g id=\"edge7\" class=\"edge\">\n",
       "<title>5&#45;&gt;4</title>\n",
       "<path fill=\"none\" stroke=\"black\" d=\"M447.44,-287.7C449.34,-279.9 451.62,-270.51 453.72,-261.83\"/>\n",
       "<polygon fill=\"black\" stroke=\"black\" points=\"457.13,-262.65 456.09,-252.1 450.32,-261 457.13,-262.65\"/>\n",
       "</g>\n",
       "<!-- 9 -->\n",
       "<g id=\"node12\" class=\"node\">\n",
       "<title>9</title>\n",
       "<ellipse fill=\"none\" stroke=\"black\" cx=\"985.24\" cy=\"-234\" rx=\"233.16\" ry=\"18\"/>\n",
       "<text text-anchor=\"middle\" x=\"985.24\" y=\"-230.3\" font-family=\"Times,serif\" font-size=\"14.00\">input cols=[reply, retweet, retweet_comment...]</text>\n",
       "</g>\n",
       "<!-- 9&#45;&gt;6 -->\n",
       "<g id=\"edge8\" class=\"edge\">\n",
       "<title>9&#45;&gt;6</title>\n",
       "<path fill=\"none\" stroke=\"black\" d=\"M972.14,-215.7C965.85,-207.39 958.19,-197.28 951.27,-188.14\"/>\n",
       "<polygon fill=\"black\" stroke=\"black\" points=\"954.02,-185.96 945.19,-180.1 948.44,-190.19 954.02,-185.96\"/>\n",
       "</g>\n",
       "<!-- 7 -->\n",
       "<g id=\"node13\" class=\"node\">\n",
       "<title>7</title>\n",
       "<ellipse fill=\"none\" stroke=\"black\" cx=\"848.24\" cy=\"-306\" rx=\"62.29\" ry=\"18\"/>\n",
       "<text text-anchor=\"middle\" x=\"848.24\" y=\"-302.3\" font-family=\"Times,serif\" font-size=\"14.00\">FillMissing</text>\n",
       "</g>\n",
       "<!-- 7&#45;&gt;12 -->\n",
       "<g id=\"edge12\" class=\"edge\">\n",
       "<title>7&#45;&gt;12</title>\n",
       "<path fill=\"none\" stroke=\"black\" d=\"M818.34,-290.15C794.5,-278.32 761.27,-261.83 737.38,-249.96\"/>\n",
       "<polygon fill=\"black\" stroke=\"black\" points=\"738.91,-246.82 728.4,-245.5 735.8,-253.09 738.91,-246.82\"/>\n",
       "</g>\n",
       "<!-- 11 -->\n",
       "<g id=\"node14\" class=\"node\">\n",
       "<title>11</title>\n",
       "<ellipse fill=\"none\" stroke=\"black\" cx=\"928.24\" cy=\"-378\" rx=\"185.47\" ry=\"18\"/>\n",
       "<text text-anchor=\"middle\" x=\"928.24\" y=\"-374.3\" font-family=\"Times,serif\" font-size=\"14.00\">input cols=[hashtags, domains, links]</text>\n",
       "</g>\n",
       "<!-- 11&#45;&gt;7 -->\n",
       "<g id=\"edge9\" class=\"edge\">\n",
       "<title>11&#45;&gt;7</title>\n",
       "<path fill=\"none\" stroke=\"black\" d=\"M908.87,-360.05C898.6,-351.07 885.83,-339.9 874.67,-330.12\"/>\n",
       "<polygon fill=\"black\" stroke=\"black\" points=\"876.71,-327.26 866.88,-323.31 872.1,-332.53 876.71,-327.26\"/>\n",
       "</g>\n",
       "<!-- 12&#45;&gt;14 -->\n",
       "<g id=\"edge15\" class=\"edge\">\n",
       "<title>12&#45;&gt;14</title>\n",
       "<path fill=\"none\" stroke=\"black\" d=\"M702.88,-216.05C700.88,-208.26 698.45,-198.82 696.2,-190.08\"/>\n",
       "<polygon fill=\"black\" stroke=\"black\" points=\"699.56,-189.09 693.68,-180.28 692.78,-190.83 699.56,-189.09\"/>\n",
       "</g>\n",
       "<!-- 15 -->\n",
       "<g id=\"node16\" class=\"node\">\n",
       "<title>15</title>\n",
       "<ellipse fill=\"none\" stroke=\"black\" cx=\"1153.24\" cy=\"-306\" rx=\"224.46\" ry=\"18\"/>\n",
       "<text text-anchor=\"middle\" x=\"1153.24\" y=\"-302.3\" font-family=\"Times,serif\" font-size=\"14.00\">input cols=[language, tweet_type, tweet_id...]</text>\n",
       "</g>\n",
       "<!-- 15&#45;&gt;12 -->\n",
       "<g id=\"edge13\" class=\"edge\">\n",
       "<title>15&#45;&gt;12</title>\n",
       "<path fill=\"none\" stroke=\"black\" d=\"M979.47,-294.62C905.56,-287.12 819.09,-274.21 743.24,-252 741.3,-251.43 739.33,-250.77 737.37,-250.05\"/>\n",
       "<polygon fill=\"black\" stroke=\"black\" points=\"738.32,-246.65 727.75,-246.03 735.63,-253.11 738.32,-246.65\"/>\n",
       "</g>\n",
       "</g>\n",
       "</svg>\n"
      ],
      "text/plain": [
       "<graphviz.dot.Digraph at 0x7f3d07cfc9d0>"
      ]
     },
     "execution_count": 13,
     "metadata": {},
     "output_type": "execute_result"
    }
   ],
   "source": [
    "output = count_features + cat_features + label_name_feature + weekday\n",
    "(output).graph"
   ]
  },
  {
   "cell_type": "markdown",
   "metadata": {},
   "source": [
    "Our calculation workflow looks correct. But we want to keep columns, which are not used in our pipeline (for `a_follower_count` or `b_follows_a`. Therefore, we include all columns in features, which are not part of our pipeline (except of `text_tokens`)."
   ]
  },
  {
   "cell_type": "code",
   "execution_count": 14,
   "metadata": {},
   "outputs": [
    {
     "data": {
      "text/plain": [
       "['timestamp',\n",
       " 'a_follower_count',\n",
       " 'a_following_count',\n",
       " 'a_is_verified',\n",
       " 'a_account_creation',\n",
       " 'b_follower_count',\n",
       " 'b_following_count',\n",
       " 'b_is_verified',\n",
       " 'b_account_creation',\n",
       " 'b_follows_a']"
      ]
     },
     "execution_count": 14,
     "metadata": {},
     "output_type": "execute_result"
    }
   ],
   "source": [
    "remaining_columns = [x for x in features if x not in (output.columns + [\"text_tokens\"])]\n",
    "remaining_columns"
   ]
  },
  {
   "cell_type": "markdown",
   "metadata": {},
   "source": [
    "We initialize our NVTabular workflow."
   ]
  },
  {
   "cell_type": "code",
   "execution_count": 15,
   "metadata": {},
   "outputs": [],
   "source": [
    "proc = nvt.Workflow(output + remaining_columns)"
   ]
  },
  {
   "cell_type": "markdown",
   "metadata": {},
   "source": [
    "We initialize a nvt.Dataset. The engine is `csv` as the `.tsv` file has a similar structure. The `.tsv` file uses the special character `\\x01` to separate columns. There is no header in the file and we define column names with the parameter `names`."
   ]
  },
  {
   "cell_type": "code",
   "execution_count": 16,
   "metadata": {},
   "outputs": [],
   "source": [
    "trains_itrs = nvt.Dataset(\n",
    "    INPUT_DATA_DIR + \"training.tsv\",\n",
    "    header=None,\n",
    "    names=features,\n",
    "    engine=\"csv\",\n",
    "    sep=\"\\x01\",\n",
    "    part_size=\"1GB\",\n",
    ")"
   ]
  },
  {
   "cell_type": "markdown",
   "metadata": {},
   "source": [
    "First, we collect the training dataset statistics."
   ]
  },
  {
   "cell_type": "code",
   "execution_count": 17,
   "metadata": {},
   "outputs": [
    {
     "name": "stdout",
     "output_type": "stream",
     "text": [
      "CPU times: user 1min 11s, sys: 1min 4s, total: 2min 16s\n",
      "Wall time: 3min 12s\n"
     ]
    }
   ],
   "source": [
    "%%time\n",
    "\n",
    "time_preproc_start = time.time()\n",
    "proc.fit(trains_itrs)\n",
    "time_preproc = time.time() - time_preproc_start"
   ]
  },
  {
   "cell_type": "markdown",
   "metadata": {},
   "source": [
    "Next, we apply the transformation to the dataset and persist it to disk.<br><br>\n",
    "We define the output datatypes for continuous columns to save memory. We can define the output datatypes as a dict and parse it to the `to_parquet` function."
   ]
  },
  {
   "cell_type": "code",
   "execution_count": 18,
   "metadata": {},
   "outputs": [],
   "source": [
    "dict_dtypes = {}\n",
    "for col in label_name + [\n",
    "    \"media\",\n",
    "    \"language\",\n",
    "    \"tweet_type\",\n",
    "    \"tweet_id\",\n",
    "    \"a_user_id\",\n",
    "    \"b_user_id\",\n",
    "    \"hashtags\",\n",
    "    \"domains\",\n",
    "    \"links\",\n",
    "    \"timestamp\",\n",
    "    \"a_follower_count\",\n",
    "    \"a_following_count\",\n",
    "    \"a_account_creation\",\n",
    "    \"b_follower_count\",\n",
    "    \"b_following_count\",\n",
    "    \"b_account_creation\",\n",
    "]:\n",
    "    dict_dtypes[col] = np.uint32"
   ]
  },
  {
   "cell_type": "code",
   "execution_count": 19,
   "metadata": {},
   "outputs": [
    {
     "name": "stdout",
     "output_type": "stream",
     "text": [
      "CPU times: user 1min 49s, sys: 1min 42s, total: 3min 31s\n",
      "Wall time: 4min 40s\n"
     ]
    }
   ],
   "source": [
    "%%time\n",
    "\n",
    "time_preproc_start = time.time()\n",
    "proc.transform(trains_itrs).to_parquet(\n",
    "    output_path=OUTPUT_DIR + \"preprocess/\", dtypes=dict_dtypes, out_files_per_proc=10\n",
    ")\n",
    "time_preproc += time.time() - time_preproc_start"
   ]
  },
  {
   "cell_type": "markdown",
   "metadata": {},
   "source": [
    "We can take a look in the output folder."
   ]
  },
  {
   "cell_type": "markdown",
   "metadata": {},
   "source": [
    "## Splitting dataset into training and test"
   ]
  },
  {
   "cell_type": "markdown",
   "metadata": {},
   "source": [
    "We split the training data by time into a train and validation set. The first 5 days are train and the last 2 days are for validation. We use the weekday for it. The first day of the dataset is a Thursday (weekday id = 3) and the last day is Wednesday (weekday id = 2). Therefore, we split the weekday ids 1 and 2 into the validation set."
   ]
  },
  {
   "cell_type": "code",
   "execution_count": 20,
   "metadata": {},
   "outputs": [
    {
     "name": "stdout",
     "output_type": "stream",
     "text": [
      "CPU times: user 3.04 s, sys: 332 ms, total: 3.37 s\n",
      "Wall time: 31.5 s\n"
     ]
    },
    {
     "data": {
      "text/plain": [
       "9113"
      ]
     },
     "execution_count": 20,
     "metadata": {},
     "output_type": "execute_result"
    }
   ],
   "source": [
    "%%time\n",
    "\n",
    "time_split_start = time.time()\n",
    "\n",
    "df = dask_cudf.read_parquet(os.path.join(OUTPUT_DIR, \"preprocess/*.parquet\"))\n",
    "if \"text_tokens\" in list(df.columns):\n",
    "    df = df.drop(\"text_tokens\", axis=1)\n",
    "VALID_DOW = [1, 2]\n",
    "\n",
    "valid = df[df[\"timestamp_wd\"].isin(VALID_DOW)].reset_index(drop=True)\n",
    "train = df[~df[\"timestamp_wd\"].isin(VALID_DOW)].reset_index(drop=True)\n",
    "train = train.sort_values([\"b_user_id\", \"timestamp\"]).reset_index(drop=True)\n",
    "valid = valid.sort_values([\"b_user_id\", \"timestamp\"]).reset_index(drop=True)\n",
    "train.to_parquet(OUTPUT_DIR + \"nv_train/\")\n",
    "valid.to_parquet(OUTPUT_DIR + \"nv_valid/\")\n",
    "time_split = time.time() - time_split_start\n",
    "\n",
    "del train\n",
    "del valid\n",
    "gc.collect()"
   ]
  },
  {
   "cell_type": "markdown",
   "metadata": {},
   "source": [
    "## Feature Engineering "
   ]
  },
  {
   "cell_type": "markdown",
   "metadata": {},
   "source": [
    "Now, we can apply the actual feature engineering. We define our data pipelines."
   ]
  },
  {
   "cell_type": "markdown",
   "metadata": {},
   "source": [
    "We count encode the columns *media*, *tweet_type*, *language*, *a_user_id*, *b_user_id*. CountEncoding is explained [here](https://github.com/rapidsai/deeplearning/blob/main/RecSys2020Tutorial/03_4_CountEncoding.ipynb)."
   ]
  },
  {
   "cell_type": "code",
   "execution_count": 21,
   "metadata": {},
   "outputs": [],
   "source": [
    "count_encode = (\n",
    "    [\"media\", \"tweet_type\", \"language\", \"a_user_id\", \"b_user_id\"]\n",
    "    >> Rename(postfix=\"_c\")\n",
    "    >> JoinGroupby(cont_cols=[\"reply\"], stats=[\"count\"], out_path=\"./\")\n",
    ")"
   ]
  },
  {
   "cell_type": "markdown",
   "metadata": {},
   "source": [
    "We transform timestamp to datetime type."
   ]
  },
  {
   "cell_type": "code",
   "execution_count": 22,
   "metadata": {},
   "outputs": [],
   "source": [
    "datetime = nvt.ColumnGroup([\"timestamp\"]) >> (\n",
    "    lambda col: cudf.to_datetime(col.astype(\"int32\"), unit=\"s\")\n",
    ")"
   ]
  },
  {
   "cell_type": "markdown",
   "metadata": {},
   "source": [
    "We extract hour from datetime.<br>\n",
    "We extract minute from datetime.<br>\n",
    "We extract seconds from datetime"
   ]
  },
  {
   "cell_type": "code",
   "execution_count": 23,
   "metadata": {},
   "outputs": [],
   "source": [
    "hour = datetime >> (lambda col: col.dt.hour) >> Rename(postfix=\"_hour\")\n",
    "minute = datetime >> (lambda col: col.dt.minute) >> Rename(postfix=\"_minute\")\n",
    "seconds = datetime >> (lambda col: col.dt.second) >> Rename(postfix=\"_second\")"
   ]
  },
  {
   "cell_type": "markdown",
   "metadata": {},
   "source": [
    "We difference encode *b_follower_count, b_following_count, language* grouped by *b_user_id*. DifferenceEncoding is explained [here](https://github.com/rapidsai/tdeeplearning/blob/main/RecSys2020Tutorial/05_2_TimeSeries_Differences.ipynb). First, we need to transform the datatype to float32 to prevent overflow/underflow. After DifferenceEncoding, we want to fill NaN values with 0."
   ]
  },
  {
   "cell_type": "code",
   "execution_count": 24,
   "metadata": {},
   "outputs": [],
   "source": [
    "diff_lag = (\n",
    "    nvt.ColumnGroup([\"b_follower_count\", \"b_following_count\", \"language\"])\n",
    "    >> (lambda col: col.astype(\"float32\"))\n",
    "    >> DifferenceLag(partition_cols=[\"b_user_id\"], shift=[1, -1])\n",
    "    >> FillMissing(fill_val=0)\n",
    ")"
   ]
  },
  {
   "cell_type": "markdown",
   "metadata": {},
   "source": [
    "We need to transform the LABEL_COLUMNS into boolean (0/1) targets."
   ]
  },
  {
   "cell_type": "code",
   "execution_count": 25,
   "metadata": {},
   "outputs": [],
   "source": [
    "LABEL_COLUMNS = [\"reply\", \"retweet\", \"retweet_comment\", \"like\"]\n",
    "labels = nvt.ColumnGroup(LABEL_COLUMNS) >> (lambda col: (col > 0).astype(\"int8\"))"
   ]
  },
  {
   "cell_type": "markdown",
   "metadata": {},
   "source": [
    "We apply TargetEncoding with kfold of 5 and smoothing of 20. TargetEncoding is explained in [here](https://medium.com/rapids-ai/target-encoding-with-rapids-cuml-do-more-with-your-categorical-data-8c762c79e784) and [here](https://github.com/rapidsai/deeplearning/blob/main/RecSys2020Tutorial/03_3_TargetEncoding.ipynb)"
   ]
  },
  {
   "cell_type": "code",
   "execution_count": 26,
   "metadata": {},
   "outputs": [],
   "source": [
    "target_encode = [\n",
    "    \"media\",\n",
    "    \"tweet_type\",\n",
    "    \"language\",\n",
    "    \"a_user_id\",\n",
    "    \"b_user_id\",\n",
    "    [\"domains\", \"language\", \"b_follows_a\", \"tweet_type\", \"media\", \"a_is_verified\"],\n",
    "] >> nvt.ops.TargetEncoding(\n",
    "    labels,\n",
    "    kfold=5,\n",
    "    p_smooth=20,\n",
    "    out_dtype=\"float32\",\n",
    ")"
   ]
  },
  {
   "cell_type": "markdown",
   "metadata": {},
   "source": [
    "We visualize our NVTabular workflow. "
   ]
  },
  {
   "cell_type": "code",
   "execution_count": 27,
   "metadata": {},
   "outputs": [
    {
     "data": {
      "image/svg+xml": [
       "<?xml version=\"1.0\" encoding=\"UTF-8\" standalone=\"no\"?>\n",
       "<!DOCTYPE svg PUBLIC \"-//W3C//DTD SVG 1.1//EN\"\n",
       " \"http://www.w3.org/Graphics/SVG/1.1/DTD/svg11.dtd\">\n",
       "<!-- Generated by graphviz version 2.43.0 (0)\n",
       " -->\n",
       "<!-- Title: %3 Pages: 1 -->\n",
       "<svg width=\"1910pt\" height=\"404pt\"\n",
       " viewBox=\"0.00 0.00 1910.16 404.00\" xmlns=\"http://www.w3.org/2000/svg\" xmlns:xlink=\"http://www.w3.org/1999/xlink\">\n",
       "<g id=\"graph0\" class=\"graph\" transform=\"scale(1 1) rotate(0) translate(4 400)\">\n",
       "<title>%3</title>\n",
       "<polygon fill=\"white\" stroke=\"transparent\" points=\"-4,4 -4,-400 1906.16,-400 1906.16,4 -4,4\"/>\n",
       "<!-- 0 -->\n",
       "<g id=\"node1\" class=\"node\">\n",
       "<title>0</title>\n",
       "<ellipse fill=\"none\" stroke=\"black\" cx=\"685.18\" cy=\"-162\" rx=\"48.19\" ry=\"18\"/>\n",
       "<text text-anchor=\"middle\" x=\"685.18\" y=\"-158.3\" font-family=\"Times,serif\" font-size=\"14.00\">Rename</text>\n",
       "</g>\n",
       "<!-- 12 -->\n",
       "<g id=\"node15\" class=\"node\">\n",
       "<title>12</title>\n",
       "<ellipse fill=\"none\" stroke=\"black\" cx=\"799.18\" cy=\"-90\" rx=\"27\" ry=\"18\"/>\n",
       "<text text-anchor=\"middle\" x=\"799.18\" y=\"-86.3\" font-family=\"Times,serif\" font-size=\"14.00\">+</text>\n",
       "</g>\n",
       "<!-- 0&#45;&gt;12 -->\n",
       "<g id=\"edge13\" class=\"edge\">\n",
       "<title>0&#45;&gt;12</title>\n",
       "<path fill=\"none\" stroke=\"black\" d=\"M709.08,-146.33C727.23,-135.18 752.23,-119.83 771.29,-108.12\"/>\n",
       "<polygon fill=\"black\" stroke=\"black\" points=\"773.16,-111.08 779.85,-102.87 769.5,-105.12 773.16,-111.08\"/>\n",
       "</g>\n",
       "<!-- 21 -->\n",
       "<g id=\"node2\" class=\"node\">\n",
       "<title>21</title>\n",
       "<ellipse fill=\"none\" stroke=\"black\" cx=\"654.18\" cy=\"-234\" rx=\"61.19\" ry=\"18\"/>\n",
       "<text text-anchor=\"middle\" x=\"654.18\" y=\"-230.3\" font-family=\"Times,serif\" font-size=\"14.00\">LambdaOp</text>\n",
       "</g>\n",
       "<!-- 21&#45;&gt;0 -->\n",
       "<g id=\"edge1\" class=\"edge\">\n",
       "<title>21&#45;&gt;0</title>\n",
       "<path fill=\"none\" stroke=\"black\" d=\"M661.69,-216.05C665.26,-207.97 669.63,-198.12 673.62,-189.11\"/>\n",
       "<polygon fill=\"black\" stroke=\"black\" points=\"676.9,-190.35 677.75,-179.79 670.5,-187.52 676.9,-190.35\"/>\n",
       "</g>\n",
       "<!-- 1 -->\n",
       "<g id=\"node3\" class=\"node\">\n",
       "<title>1</title>\n",
       "<ellipse fill=\"none\" stroke=\"black\" cx=\"497.18\" cy=\"-162\" rx=\"84.49\" ry=\"18\"/>\n",
       "<text text-anchor=\"middle\" x=\"497.18\" y=\"-158.3\" font-family=\"Times,serif\" font-size=\"14.00\">TargetEncoding</text>\n",
       "</g>\n",
       "<!-- 1&#45;&gt;12 -->\n",
       "<g id=\"edge17\" class=\"edge\">\n",
       "<title>1&#45;&gt;12</title>\n",
       "<path fill=\"none\" stroke=\"black\" d=\"M552.22,-148.24C613.95,-133.94 712.2,-111.16 764.22,-99.1\"/>\n",
       "<polygon fill=\"black\" stroke=\"black\" points=\"765.03,-102.51 773.98,-96.84 763.45,-95.69 765.03,-102.51\"/>\n",
       "</g>\n",
       "<!-- 5 -->\n",
       "<g id=\"node4\" class=\"node\">\n",
       "<title>5</title>\n",
       "<ellipse fill=\"none\" stroke=\"black\" cx=\"213.18\" cy=\"-234\" rx=\"213.36\" ry=\"18\"/>\n",
       "<text text-anchor=\"middle\" x=\"213.18\" y=\"-230.3\" font-family=\"Times,serif\" font-size=\"14.00\">input cols=[media, tweet_type, language...]</text>\n",
       "</g>\n",
       "<!-- 5&#45;&gt;1 -->\n",
       "<g id=\"edge2\" class=\"edge\">\n",
       "<title>5&#45;&gt;1</title>\n",
       "<path fill=\"none\" stroke=\"black\" d=\"M278.69,-216.85C325.39,-205.34 387.83,-189.95 433.99,-178.57\"/>\n",
       "<polygon fill=\"black\" stroke=\"black\" points=\"435.01,-181.93 443.88,-176.14 433.33,-175.13 435.01,-181.93\"/>\n",
       "</g>\n",
       "<!-- 11 -->\n",
       "<g id=\"node5\" class=\"node\">\n",
       "<title>11</title>\n",
       "<ellipse fill=\"none\" stroke=\"black\" cx=\"505.18\" cy=\"-234\" rx=\"61.19\" ry=\"18\"/>\n",
       "<text text-anchor=\"middle\" x=\"505.18\" y=\"-230.3\" font-family=\"Times,serif\" font-size=\"14.00\">LambdaOp</text>\n",
       "</g>\n",
       "<!-- 11&#45;&gt;1 -->\n",
       "<g id=\"edge3\" class=\"edge\">\n",
       "<title>11&#45;&gt;1</title>\n",
       "<path fill=\"none\" stroke=\"black\" d=\"M503.2,-215.7C502.32,-207.98 501.26,-198.71 500.28,-190.11\"/>\n",
       "<polygon fill=\"black\" stroke=\"black\" points=\"503.75,-189.64 499.14,-180.1 496.79,-190.44 503.75,-189.64\"/>\n",
       "</g>\n",
       "<!-- 11&#45;&gt;12 -->\n",
       "<g id=\"edge16\" class=\"edge\">\n",
       "<title>11&#45;&gt;12</title>\n",
       "<path fill=\"none\" stroke=\"black\" d=\"M532.52,-217.85C549.65,-207.9 571.88,-194.14 590.18,-180 608.59,-165.77 608.1,-155.75 628.18,-144 671.03,-118.93 726.98,-104.51 763,-97.21\"/>\n",
       "<polygon fill=\"black\" stroke=\"black\" points=\"763.91,-100.6 773.05,-95.25 762.57,-93.73 763.91,-100.6\"/>\n",
       "</g>\n",
       "<!-- 2 -->\n",
       "<g id=\"node6\" class=\"node\">\n",
       "<title>2</title>\n",
       "<ellipse fill=\"none\" stroke=\"black\" cx=\"799.18\" cy=\"-162\" rx=\"48.19\" ry=\"18\"/>\n",
       "<text text-anchor=\"middle\" x=\"799.18\" y=\"-158.3\" font-family=\"Times,serif\" font-size=\"14.00\">Rename</text>\n",
       "</g>\n",
       "<!-- 2&#45;&gt;12 -->\n",
       "<g id=\"edge14\" class=\"edge\">\n",
       "<title>2&#45;&gt;12</title>\n",
       "<path fill=\"none\" stroke=\"black\" d=\"M799.18,-143.7C799.18,-135.98 799.18,-126.71 799.18,-118.11\"/>\n",
       "<polygon fill=\"black\" stroke=\"black\" points=\"802.68,-118.1 799.18,-108.1 795.68,-118.1 802.68,-118.1\"/>\n",
       "</g>\n",
       "<!-- 3 -->\n",
       "<g id=\"node7\" class=\"node\">\n",
       "<title>3</title>\n",
       "<ellipse fill=\"none\" stroke=\"black\" cx=\"794.18\" cy=\"-234\" rx=\"61.19\" ry=\"18\"/>\n",
       "<text text-anchor=\"middle\" x=\"794.18\" y=\"-230.3\" font-family=\"Times,serif\" font-size=\"14.00\">LambdaOp</text>\n",
       "</g>\n",
       "<!-- 3&#45;&gt;2 -->\n",
       "<g id=\"edge4\" class=\"edge\">\n",
       "<title>3&#45;&gt;2</title>\n",
       "<path fill=\"none\" stroke=\"black\" d=\"M795.42,-215.7C795.97,-207.98 796.63,-198.71 797.24,-190.11\"/>\n",
       "<polygon fill=\"black\" stroke=\"black\" points=\"800.74,-190.33 797.96,-180.1 793.76,-189.83 800.74,-190.33\"/>\n",
       "</g>\n",
       "<!-- 9 -->\n",
       "<g id=\"node8\" class=\"node\">\n",
       "<title>9</title>\n",
       "<ellipse fill=\"none\" stroke=\"black\" cx=\"785.18\" cy=\"-306\" rx=\"61.19\" ry=\"18\"/>\n",
       "<text text-anchor=\"middle\" x=\"785.18\" y=\"-302.3\" font-family=\"Times,serif\" font-size=\"14.00\">LambdaOp</text>\n",
       "</g>\n",
       "<!-- 9&#45;&gt;21 -->\n",
       "<g id=\"edge24\" class=\"edge\">\n",
       "<title>9&#45;&gt;21</title>\n",
       "<path fill=\"none\" stroke=\"black\" d=\"M757.08,-289.98C737.82,-279.7 712.09,-265.94 691.17,-254.77\"/>\n",
       "<polygon fill=\"black\" stroke=\"black\" points=\"692.71,-251.62 682.24,-249.99 689.41,-257.79 692.71,-251.62\"/>\n",
       "</g>\n",
       "<!-- 9&#45;&gt;3 -->\n",
       "<g id=\"edge5\" class=\"edge\">\n",
       "<title>9&#45;&gt;3</title>\n",
       "<path fill=\"none\" stroke=\"black\" d=\"M787.41,-287.7C788.4,-279.98 789.59,-270.71 790.7,-262.11\"/>\n",
       "<polygon fill=\"black\" stroke=\"black\" points=\"794.18,-262.47 791.98,-252.1 787.24,-261.58 794.18,-262.47\"/>\n",
       "</g>\n",
       "<!-- 6 -->\n",
       "<g id=\"node12\" class=\"node\">\n",
       "<title>6</title>\n",
       "<ellipse fill=\"none\" stroke=\"black\" cx=\"934.18\" cy=\"-234\" rx=\"61.19\" ry=\"18\"/>\n",
       "<text text-anchor=\"middle\" x=\"934.18\" y=\"-230.3\" font-family=\"Times,serif\" font-size=\"14.00\">LambdaOp</text>\n",
       "</g>\n",
       "<!-- 9&#45;&gt;6 -->\n",
       "<g id=\"edge8\" class=\"edge\">\n",
       "<title>9&#45;&gt;6</title>\n",
       "<path fill=\"none\" stroke=\"black\" d=\"M816.42,-290.33C838.94,-279.74 869.54,-265.37 893.9,-253.92\"/>\n",
       "<polygon fill=\"black\" stroke=\"black\" points=\"895.68,-256.95 903.24,-249.53 892.7,-250.62 895.68,-256.95\"/>\n",
       "</g>\n",
       "<!-- 4 -->\n",
       "<g id=\"node9\" class=\"node\">\n",
       "<title>4</title>\n",
       "<ellipse fill=\"none\" stroke=\"black\" cx=\"1064.18\" cy=\"-162\" rx=\"68.49\" ry=\"18\"/>\n",
       "<text text-anchor=\"middle\" x=\"1064.18\" y=\"-158.3\" font-family=\"Times,serif\" font-size=\"14.00\">JoinGroupby</text>\n",
       "</g>\n",
       "<!-- 4&#45;&gt;12 -->\n",
       "<g id=\"edge11\" class=\"edge\">\n",
       "<title>4&#45;&gt;12</title>\n",
       "<path fill=\"none\" stroke=\"black\" d=\"M1017.72,-148.73C965.17,-134.85 880.81,-112.56 833.75,-100.13\"/>\n",
       "<polygon fill=\"black\" stroke=\"black\" points=\"834.58,-96.73 824.02,-97.56 832.79,-103.5 834.58,-96.73\"/>\n",
       "</g>\n",
       "<!-- 20 -->\n",
       "<g id=\"node10\" class=\"node\">\n",
       "<title>20</title>\n",
       "<ellipse fill=\"none\" stroke=\"black\" cx=\"1064.18\" cy=\"-234\" rx=\"48.19\" ry=\"18\"/>\n",
       "<text text-anchor=\"middle\" x=\"1064.18\" y=\"-230.3\" font-family=\"Times,serif\" font-size=\"14.00\">Rename</text>\n",
       "</g>\n",
       "<!-- 20&#45;&gt;4 -->\n",
       "<g id=\"edge6\" class=\"edge\">\n",
       "<title>20&#45;&gt;4</title>\n",
       "<path fill=\"none\" stroke=\"black\" d=\"M1064.18,-215.7C1064.18,-207.98 1064.18,-198.71 1064.18,-190.11\"/>\n",
       "<polygon fill=\"black\" stroke=\"black\" points=\"1067.68,-190.1 1064.18,-180.1 1060.68,-190.1 1067.68,-190.1\"/>\n",
       "</g>\n",
       "<!-- 8 -->\n",
       "<g id=\"node11\" class=\"node\">\n",
       "<title>8</title>\n",
       "<ellipse fill=\"none\" stroke=\"black\" cx=\"1225.18\" cy=\"-234\" rx=\"94.78\" ry=\"18\"/>\n",
       "<text text-anchor=\"middle\" x=\"1225.18\" y=\"-230.3\" font-family=\"Times,serif\" font-size=\"14.00\">input cols=[reply]</text>\n",
       "</g>\n",
       "<!-- 8&#45;&gt;4 -->\n",
       "<g id=\"edge7\" class=\"edge\">\n",
       "<title>8&#45;&gt;4</title>\n",
       "<path fill=\"none\" stroke=\"black\" d=\"M1189.05,-217.29C1164.88,-206.78 1132.95,-192.9 1107.43,-181.8\"/>\n",
       "<polygon fill=\"black\" stroke=\"black\" points=\"1108.56,-178.48 1097.99,-177.7 1105.77,-184.9 1108.56,-178.48\"/>\n",
       "</g>\n",
       "<!-- 18 -->\n",
       "<g id=\"node16\" class=\"node\">\n",
       "<title>18</title>\n",
       "<ellipse fill=\"none\" stroke=\"black\" cx=\"919.18\" cy=\"-162\" rx=\"48.19\" ry=\"18\"/>\n",
       "<text text-anchor=\"middle\" x=\"919.18\" y=\"-158.3\" font-family=\"Times,serif\" font-size=\"14.00\">Rename</text>\n",
       "</g>\n",
       "<!-- 6&#45;&gt;18 -->\n",
       "<g id=\"edge21\" class=\"edge\">\n",
       "<title>6&#45;&gt;18</title>\n",
       "<path fill=\"none\" stroke=\"black\" d=\"M930.47,-215.7C928.82,-207.98 926.83,-198.71 924.99,-190.11\"/>\n",
       "<polygon fill=\"black\" stroke=\"black\" points=\"928.36,-189.15 922.85,-180.1 921.52,-190.62 928.36,-189.15\"/>\n",
       "</g>\n",
       "<!-- 7 -->\n",
       "<g id=\"node13\" class=\"node\">\n",
       "<title>7</title>\n",
       "<ellipse fill=\"none\" stroke=\"black\" cx=\"785.18\" cy=\"-378\" rx=\"120.48\" ry=\"18\"/>\n",
       "<text text-anchor=\"middle\" x=\"785.18\" y=\"-374.3\" font-family=\"Times,serif\" font-size=\"14.00\">input cols=[timestamp]</text>\n",
       "</g>\n",
       "<!-- 7&#45;&gt;9 -->\n",
       "<g id=\"edge9\" class=\"edge\">\n",
       "<title>7&#45;&gt;9</title>\n",
       "<path fill=\"none\" stroke=\"black\" d=\"M785.18,-359.7C785.18,-351.98 785.18,-342.71 785.18,-334.11\"/>\n",
       "<polygon fill=\"black\" stroke=\"black\" points=\"788.68,-334.1 785.18,-324.1 781.68,-334.1 788.68,-334.1\"/>\n",
       "</g>\n",
       "<!-- 10 -->\n",
       "<g id=\"node14\" class=\"node\">\n",
       "<title>10</title>\n",
       "<ellipse fill=\"none\" stroke=\"black\" cx=\"473.18\" cy=\"-306\" rx=\"233.16\" ry=\"18\"/>\n",
       "<text text-anchor=\"middle\" x=\"473.18\" y=\"-302.3\" font-family=\"Times,serif\" font-size=\"14.00\">input cols=[reply, retweet, retweet_comment...]</text>\n",
       "</g>\n",
       "<!-- 10&#45;&gt;11 -->\n",
       "<g id=\"edge10\" class=\"edge\">\n",
       "<title>10&#45;&gt;11</title>\n",
       "<path fill=\"none\" stroke=\"black\" d=\"M481.09,-287.7C484.73,-279.73 489.14,-270.1 493.17,-261.26\"/>\n",
       "<polygon fill=\"black\" stroke=\"black\" points=\"496.39,-262.65 497.36,-252.1 490.02,-259.74 496.39,-262.65\"/>\n",
       "</g>\n",
       "<!-- 22 -->\n",
       "<g id=\"node23\" class=\"node\">\n",
       "<title>22</title>\n",
       "<ellipse fill=\"none\" stroke=\"black\" cx=\"799.18\" cy=\"-18\" rx=\"337.94\" ry=\"18\"/>\n",
       "<text text-anchor=\"middle\" x=\"799.18\" y=\"-14.3\" font-family=\"Times,serif\" font-size=\"14.00\">output cols=[media_c_count, tweet_type_c_count, language_c_count...]</text>\n",
       "</g>\n",
       "<!-- 12&#45;&gt;22 -->\n",
       "<g id=\"edge25\" class=\"edge\">\n",
       "<title>12&#45;&gt;22</title>\n",
       "<path fill=\"none\" stroke=\"black\" d=\"M799.18,-71.7C799.18,-63.98 799.18,-54.71 799.18,-46.11\"/>\n",
       "<polygon fill=\"black\" stroke=\"black\" points=\"802.68,-46.1 799.18,-36.1 795.68,-46.1 802.68,-46.1\"/>\n",
       "</g>\n",
       "<!-- 18&#45;&gt;12 -->\n",
       "<g id=\"edge12\" class=\"edge\">\n",
       "<title>18&#45;&gt;12</title>\n",
       "<path fill=\"none\" stroke=\"black\" d=\"M894.32,-146.5C874.91,-135.17 847.93,-119.44 827.66,-107.61\"/>\n",
       "<polygon fill=\"black\" stroke=\"black\" points=\"829.27,-104.5 818.86,-102.48 825.74,-110.54 829.27,-104.5\"/>\n",
       "</g>\n",
       "<!-- 13 -->\n",
       "<g id=\"node17\" class=\"node\">\n",
       "<title>13</title>\n",
       "<ellipse fill=\"none\" stroke=\"black\" cx=\"1322.18\" cy=\"-162\" rx=\"62.29\" ry=\"18\"/>\n",
       "<text text-anchor=\"middle\" x=\"1322.18\" y=\"-158.3\" font-family=\"Times,serif\" font-size=\"14.00\">FillMissing</text>\n",
       "</g>\n",
       "<!-- 13&#45;&gt;12 -->\n",
       "<g id=\"edge15\" class=\"edge\">\n",
       "<title>13&#45;&gt;12</title>\n",
       "<path fill=\"none\" stroke=\"black\" d=\"M1266.71,-153.58C1159.23,-139.19 925.32,-107.88 835.4,-95.85\"/>\n",
       "<polygon fill=\"black\" stroke=\"black\" points=\"835.79,-92.37 825.41,-94.51 834.86,-99.31 835.79,-92.37\"/>\n",
       "</g>\n",
       "<!-- 16 -->\n",
       "<g id=\"node18\" class=\"node\">\n",
       "<title>16</title>\n",
       "<ellipse fill=\"none\" stroke=\"black\" cx=\"1423.18\" cy=\"-234\" rx=\"75.29\" ry=\"18\"/>\n",
       "<text text-anchor=\"middle\" x=\"1423.18\" y=\"-230.3\" font-family=\"Times,serif\" font-size=\"14.00\">DifferenceLag</text>\n",
       "</g>\n",
       "<!-- 16&#45;&gt;13 -->\n",
       "<g id=\"edge18\" class=\"edge\">\n",
       "<title>16&#45;&gt;13</title>\n",
       "<path fill=\"none\" stroke=\"black\" d=\"M1399.76,-216.76C1386.02,-207.24 1368.49,-195.09 1353.57,-184.75\"/>\n",
       "<polygon fill=\"black\" stroke=\"black\" points=\"1355.34,-181.73 1345.13,-178.91 1351.36,-187.48 1355.34,-181.73\"/>\n",
       "</g>\n",
       "<!-- 14 -->\n",
       "<g id=\"node19\" class=\"node\">\n",
       "<title>14</title>\n",
       "<ellipse fill=\"none\" stroke=\"black\" cx=\"1077.18\" cy=\"-306\" rx=\"213.36\" ry=\"18\"/>\n",
       "<text text-anchor=\"middle\" x=\"1077.18\" y=\"-302.3\" font-family=\"Times,serif\" font-size=\"14.00\">input cols=[media, tweet_type, language...]</text>\n",
       "</g>\n",
       "<!-- 14&#45;&gt;20 -->\n",
       "<g id=\"edge23\" class=\"edge\">\n",
       "<title>14&#45;&gt;20</title>\n",
       "<path fill=\"none\" stroke=\"black\" d=\"M1073.97,-287.7C1072.54,-279.98 1070.81,-270.71 1069.22,-262.11\"/>\n",
       "<polygon fill=\"black\" stroke=\"black\" points=\"1072.62,-261.3 1067.36,-252.1 1065.74,-262.58 1072.62,-261.3\"/>\n",
       "</g>\n",
       "<!-- 15 -->\n",
       "<g id=\"node20\" class=\"node\">\n",
       "<title>15</title>\n",
       "<ellipse fill=\"none\" stroke=\"black\" cx=\"1423.18\" cy=\"-306\" rx=\"114.28\" ry=\"18\"/>\n",
       "<text text-anchor=\"middle\" x=\"1423.18\" y=\"-302.3\" font-family=\"Times,serif\" font-size=\"14.00\">input cols=[b_user_id]</text>\n",
       "</g>\n",
       "<!-- 15&#45;&gt;16 -->\n",
       "<g id=\"edge20\" class=\"edge\">\n",
       "<title>15&#45;&gt;16</title>\n",
       "<path fill=\"none\" stroke=\"black\" d=\"M1423.18,-287.7C1423.18,-279.98 1423.18,-270.71 1423.18,-262.11\"/>\n",
       "<polygon fill=\"black\" stroke=\"black\" points=\"1426.68,-262.1 1423.18,-252.1 1419.68,-262.1 1426.68,-262.1\"/>\n",
       "</g>\n",
       "<!-- 19 -->\n",
       "<g id=\"node21\" class=\"node\">\n",
       "<title>19</title>\n",
       "<ellipse fill=\"none\" stroke=\"black\" cx=\"1616.18\" cy=\"-306\" rx=\"61.19\" ry=\"18\"/>\n",
       "<text text-anchor=\"middle\" x=\"1616.18\" y=\"-302.3\" font-family=\"Times,serif\" font-size=\"14.00\">LambdaOp</text>\n",
       "</g>\n",
       "<!-- 19&#45;&gt;16 -->\n",
       "<g id=\"edge19\" class=\"edge\">\n",
       "<title>19&#45;&gt;16</title>\n",
       "<path fill=\"none\" stroke=\"black\" d=\"M1578.97,-291.5C1548.66,-280.51 1505.61,-264.9 1472.45,-252.87\"/>\n",
       "<polygon fill=\"black\" stroke=\"black\" points=\"1473.53,-249.54 1462.94,-249.42 1471.14,-256.12 1473.53,-249.54\"/>\n",
       "</g>\n",
       "<!-- 17 -->\n",
       "<g id=\"node22\" class=\"node\">\n",
       "<title>17</title>\n",
       "<ellipse fill=\"none\" stroke=\"black\" cx=\"1616.18\" cy=\"-378\" rx=\"285.95\" ry=\"18\"/>\n",
       "<text text-anchor=\"middle\" x=\"1616.18\" y=\"-374.3\" font-family=\"Times,serif\" font-size=\"14.00\">input cols=[b_follower_count, b_following_count, language]</text>\n",
       "</g>\n",
       "<!-- 17&#45;&gt;19 -->\n",
       "<g id=\"edge22\" class=\"edge\">\n",
       "<title>17&#45;&gt;19</title>\n",
       "<path fill=\"none\" stroke=\"black\" d=\"M1616.18,-359.7C1616.18,-351.98 1616.18,-342.71 1616.18,-334.11\"/>\n",
       "<polygon fill=\"black\" stroke=\"black\" points=\"1619.68,-334.1 1616.18,-324.1 1612.68,-334.1 1619.68,-334.1\"/>\n",
       "</g>\n",
       "</g>\n",
       "</svg>\n"
      ],
      "text/plain": [
       "<graphviz.dot.Digraph at 0x7f3d37687820>"
      ]
     },
     "execution_count": 27,
     "metadata": {},
     "output_type": "execute_result"
    }
   ],
   "source": [
    "output = count_encode + hour + minute + seconds + diff_lag + labels + target_encode\n",
    "(output).graph"
   ]
  },
  {
   "cell_type": "markdown",
   "metadata": {},
   "source": [
    "We want to keep all columns of the input dataset. Therefore, we extract all column names from the first input parquet file."
   ]
  },
  {
   "cell_type": "code",
   "execution_count": 28,
   "metadata": {},
   "outputs": [
    {
     "data": {
      "text/plain": [
       "37"
      ]
     },
     "execution_count": 28,
     "metadata": {},
     "output_type": "execute_result"
    }
   ],
   "source": [
    "df_tmp = cudf.read_parquet(OUTPUT_DIR + \"/nv_train/part.0.parquet\")\n",
    "all_input_columns = df_tmp.columns\n",
    "del df_tmp\n",
    "gc.collect()"
   ]
  },
  {
   "cell_type": "code",
   "execution_count": 29,
   "metadata": {},
   "outputs": [
    {
     "data": {
      "text/plain": [
       "['hashtags_count_t',\n",
       " 'domains_count_t',\n",
       " 'links_count_t',\n",
       " 'media',\n",
       " 'hashtags',\n",
       " 'domains',\n",
       " 'links',\n",
       " 'language',\n",
       " 'tweet_type',\n",
       " 'tweet_id',\n",
       " 'a_user_id',\n",
       " 'b_user_id',\n",
       " 'timestamp_wd',\n",
       " 'timestamp',\n",
       " 'a_follower_count',\n",
       " 'a_following_count',\n",
       " 'a_is_verified',\n",
       " 'a_account_creation',\n",
       " 'b_follower_count',\n",
       " 'b_following_count',\n",
       " 'b_is_verified',\n",
       " 'b_account_creation',\n",
       " 'b_follows_a']"
      ]
     },
     "execution_count": 29,
     "metadata": {},
     "output_type": "execute_result"
    }
   ],
   "source": [
    "remaining_columns = [x for x in all_input_columns if x not in (output.columns + [\"text_tokens\"])]\n",
    "remaining_columns"
   ]
  },
  {
   "cell_type": "markdown",
   "metadata": {},
   "source": [
    "We initialize our NVTabular workflow and add the \"remaining\" columns to it."
   ]
  },
  {
   "cell_type": "code",
   "execution_count": 30,
   "metadata": {},
   "outputs": [],
   "source": [
    "proc = nvt.Workflow(output + remaining_columns)"
   ]
  },
  {
   "cell_type": "markdown",
   "metadata": {},
   "source": [
    "We initialize the train and valid as NVTabular datasets."
   ]
  },
  {
   "cell_type": "code",
   "execution_count": 31,
   "metadata": {},
   "outputs": [],
   "source": [
    "train_dataset = nvt.Dataset(\n",
    "    glob.glob(OUTPUT_DIR + \"nv_train/*.parquet\"), engine=\"parquet\", part_size=\"2GB\"\n",
    ")\n",
    "valid_dataset = nvt.Dataset(\n",
    "    glob.glob(OUTPUT_DIR + \"nv_valid/*.parquet\"), engine=\"parquet\", part_size=\"2GB\"\n",
    ")"
   ]
  },
  {
   "cell_type": "markdown",
   "metadata": {},
   "source": [
    "We collect statistics from our train dataset."
   ]
  },
  {
   "cell_type": "code",
   "execution_count": 32,
   "metadata": {},
   "outputs": [
    {
     "name": "stdout",
     "output_type": "stream",
     "text": [
      "CPU times: user 27.6 s, sys: 10.9 s, total: 38.4 s\n",
      "Wall time: 42.3 s\n"
     ]
    }
   ],
   "source": [
    "%%time\n",
    "\n",
    "time_fe_start = time.time()\n",
    "proc.fit(train_dataset)\n",
    "time_fe = time.time() - time_fe_start"
   ]
  },
  {
   "cell_type": "markdown",
   "metadata": {},
   "source": [
    "The columns *a_is_verified*, *b_is_verified* and *b_follows_a* have the datatype boolean. XGBoost does not support boolean datatypes and we need convert them to int8. We can define the output datatypes as a dict and parse it to the `.to_parquet` function."
   ]
  },
  {
   "cell_type": "code",
   "execution_count": 33,
   "metadata": {},
   "outputs": [],
   "source": [
    "dict_dtypes = {}\n",
    "for col in [\"a_is_verified\", \"b_is_verified\", \"b_follows_a\"]:\n",
    "    dict_dtypes[col] = np.int8"
   ]
  },
  {
   "cell_type": "markdown",
   "metadata": {},
   "source": [
    "We apply the transformation to the train and valid datasets."
   ]
  },
  {
   "cell_type": "code",
   "execution_count": 34,
   "metadata": {},
   "outputs": [
    {
     "name": "stdout",
     "output_type": "stream",
     "text": [
      "CPU times: user 30.9 s, sys: 44.3 s, total: 1min 15s\n",
      "Wall time: 1min 20s\n"
     ]
    }
   ],
   "source": [
    "%%time\n",
    "\n",
    "time_fe_start = time.time()\n",
    "proc.transform(train_dataset).to_parquet(\n",
    "    output_path=OUTPUT_DIR + \"nv_train_fe/\", dtypes=dict_dtypes\n",
    ")\n",
    "proc.transform(valid_dataset).to_parquet(\n",
    "    output_path=OUTPUT_DIR + \"nv_valid_fe/\", dtypes=dict_dtypes\n",
    ")\n",
    "time_fe += time.time() - time_fe_start"
   ]
  },
  {
   "cell_type": "markdown",
   "metadata": {},
   "source": [
    "## Training our model"
   ]
  },
  {
   "cell_type": "markdown",
   "metadata": {},
   "source": [
    "After the preprocessing and feature engineering is done, we can train a model to predict our targets. We load our datasets with `dask_cudf`."
   ]
  },
  {
   "cell_type": "code",
   "execution_count": 35,
   "metadata": {},
   "outputs": [],
   "source": [
    "train = dask_cudf.read_parquet(os.path.join(OUTPUT_DIR, \"nv_train_fe/*.parquet\"))\n",
    "valid = dask_cudf.read_parquet(os.path.join(OUTPUT_DIR, \"nv_valid_fe/*.parquet\"))"
   ]
  },
  {
   "cell_type": "code",
   "execution_count": 36,
   "metadata": {},
   "outputs": [
    {
     "data": {
      "text/plain": [
       "a_is_verified    int8\n",
       "b_is_verified    int8\n",
       "b_follows_a      int8\n",
       "dtype: object"
      ]
     },
     "execution_count": 36,
     "metadata": {},
     "output_type": "execute_result"
    }
   ],
   "source": [
    "train[[\"a_is_verified\", \"b_is_verified\", \"b_follows_a\"]].dtypes"
   ]
  },
  {
   "cell_type": "markdown",
   "metadata": {},
   "source": [
    "Some columns are only used for feature engineering. Therefore, we define the columns we want to ignore for training."
   ]
  },
  {
   "cell_type": "code",
   "execution_count": 37,
   "metadata": {},
   "outputs": [],
   "source": [
    "dont_use = [\n",
    "    \"__null_dask_index__\",\n",
    "    \"text_tokens\",\n",
    "    \"timestamp\",\n",
    "    \"a_account_creation\",\n",
    "    \"b_account_creation\",\n",
    "    \"hashtags\",\n",
    "    \"tweet_id\",\n",
    "    \"links\",\n",
    "    \"domains\",\n",
    "    \"a_user_id\",\n",
    "    \"b_user_id\",\n",
    "    \"timestamp_wd\",\n",
    "    \"timestamp_to_datetime\",\n",
    "    \"a_following_count_a_ff_rate\",\n",
    "    \"b_following_count_b_ff_rate\",\n",
    "]\n",
    "dont_use = [x for x in train.columns if x in dont_use]\n",
    "label_names = [\"reply\", \"retweet\", \"retweet_comment\", \"like\"]"
   ]
  },
  {
   "cell_type": "markdown",
   "metadata": {},
   "source": [
    "We drop the columns, which are not required for training."
   ]
  },
  {
   "cell_type": "markdown",
   "metadata": {},
   "source": [
    "Our experiments show that we require only 10% of the training dataset. Our feature engineering, such as TargetEncoding, uses the training datasets and leverage the information of the full dataset. In the competition, we trained our models with higher ratio (20% and 50%), but we could not observe an improvement in performance.<br><br>\n",
    "We sample the training dataset to 10% of the size and drop all columns, which we do not want to use."
   ]
  },
  {
   "cell_type": "code",
   "execution_count": 38,
   "metadata": {},
   "outputs": [
    {
     "name": "stdout",
     "output_type": "stream",
     "text": [
      "87914868\n",
      "8764882\n",
      "Using 51 features\n"
     ]
    }
   ],
   "source": [
    "SAMPLE_RATIO = 0.1\n",
    "SEED = 1\n",
    "\n",
    "if SAMPLE_RATIO < 1.0:\n",
    "    train[\"sample\"] = train[\"tweet_id\"].map_partitions(lambda cudf_df: cudf_df.hash_encode(stop=10))\n",
    "    print(len(train))\n",
    "\n",
    "    train = train[train[\"sample\"] < 10 * SAMPLE_RATIO]\n",
    "    (train,) = dask.persist(train)\n",
    "    print(len(train))\n",
    "\n",
    "\n",
    "Y_train = train[label_names]\n",
    "(Y_train,) = dask.persist(Y_train)\n",
    "\n",
    "train = train.drop([\"sample\"] + label_names + dont_use, axis=1)\n",
    "(train,) = dask.persist(train)\n",
    "\n",
    "print(\"Using %i features\" % (train.shape[1]))"
   ]
  },
  {
   "cell_type": "markdown",
   "metadata": {},
   "source": [
    "Similar to the training dataset, our experiments show that 35% of our validation dataset is enough to get a good estimate of the performance metric. 35% of the validation dataset has a similar size as the test set of the RecSys2020 competition. "
   ]
  },
  {
   "cell_type": "code",
   "execution_count": 39,
   "metadata": {},
   "outputs": [
    {
     "name": "stdout",
     "output_type": "stream",
     "text": [
      "33471563\n",
      "13367169\n"
     ]
    }
   ],
   "source": [
    "SAMPLE_RATIO = 0.35\n",
    "SEED = 1\n",
    "if SAMPLE_RATIO < 1.0:\n",
    "    print(len(valid))\n",
    "    valid[\"sample\"] = valid[\"tweet_id\"].map_partitions(lambda cudf_df: cudf_df.hash_encode(stop=10))\n",
    "\n",
    "    valid = valid[valid[\"sample\"] < 10 * SAMPLE_RATIO]\n",
    "    (valid,) = dask.persist(valid)\n",
    "    print(len(valid))\n",
    "\n",
    "Y_valid = valid[label_names]\n",
    "(Y_valid,) = dask.persist(Y_valid)\n",
    "\n",
    "valid = valid.drop([\"sample\"] + label_names + dont_use, axis=1)\n",
    "(valid,) = dask.persist(valid)"
   ]
  },
  {
   "cell_type": "markdown",
   "metadata": {},
   "source": [
    "We initialize our XGBoost parameter."
   ]
  },
  {
   "cell_type": "code",
   "execution_count": 40,
   "metadata": {},
   "outputs": [
    {
     "name": "stdout",
     "output_type": "stream",
     "text": [
      "XGB Version 1.3.3\n"
     ]
    }
   ],
   "source": [
    "print(\"XGB Version\", xgb.__version__)\n",
    "\n",
    "xgb_parms = {\n",
    "    \"max_depth\": 8,\n",
    "    \"learning_rate\": 0.1,\n",
    "    \"subsample\": 0.8,\n",
    "    \"colsample_bytree\": 0.3,\n",
    "    \"eval_metric\": \"logloss\",\n",
    "    \"objective\": \"binary:logistic\",\n",
    "    \"tree_method\": \"gpu_hist\",\n",
    "    \"predictor\": \"gpu_predictor\",\n",
    "}"
   ]
  },
  {
   "cell_type": "code",
   "execution_count": 41,
   "metadata": {},
   "outputs": [],
   "source": [
    "train, valid = dask.persist(train, valid)"
   ]
  },
  {
   "cell_type": "markdown",
   "metadata": {},
   "source": [
    "We train our XGBoost models. The challenge requires to predict 4 targets, does a user\n",
    "1. like a tweet\n",
    "2. reply a tweet\n",
    "3. comment a tweet\n",
    "4. comment and reply a tweet"
   ]
  },
  {
   "cell_type": "markdown",
   "metadata": {},
   "source": [
    "We train 4x XGBoost models for 300 rounds on a GPU."
   ]
  },
  {
   "cell_type": "code",
   "execution_count": 42,
   "metadata": {},
   "outputs": [
    {
     "name": "stdout",
     "output_type": "stream",
     "text": [
      "#########################\n",
      "### reply\n",
      "#########################\n",
      "Creating DMatrix...\n",
      "Took 1.0 seconds\n",
      "Training...\n",
      "Took 16.8 seconds\n",
      "Predicting...\n"
     ]
    },
    {
     "name": "stderr",
     "output_type": "stream",
     "text": [
      "/opt/conda/envs/rapids/lib/python3.8/site-packages/distributed/worker.py:3451: UserWarning: Large object of size 7.93 MB detected in task graph: \n",
      "  [<function _predict_async.<locals>.mapped_predict  ... titions>, True]\n",
      "Consider scattering large objects ahead of time\n",
      "with client.scatter to reduce scheduler burden and \n",
      "keep data on workers\n",
      "\n",
      "    future = client.submit(func, big_data)    # bad\n",
      "\n",
      "    big_future = client.scatter(big_data)     # good\n",
      "    future = client.submit(func, big_future)  # good\n",
      "  warnings.warn(\n"
     ]
    },
    {
     "name": "stdout",
     "output_type": "stream",
     "text": [
      "Took 1.8 seconds\n",
      "#########################\n",
      "### retweet\n",
      "#########################\n",
      "Creating DMatrix...\n",
      "Took 0.5 seconds\n",
      "Training...\n",
      "Took 16.6 seconds\n",
      "Predicting...\n",
      "Took 1.7 seconds\n",
      "#########################\n",
      "### retweet_comment\n",
      "#########################\n",
      "Creating DMatrix...\n",
      "Took 0.6 seconds\n",
      "Training...\n",
      "Took 15.4 seconds\n",
      "Predicting...\n",
      "Took 1.3 seconds\n",
      "#########################\n",
      "### like\n",
      "#########################\n",
      "Creating DMatrix...\n",
      "Took 0.4 seconds\n",
      "Training...\n",
      "Took 16.9 seconds\n",
      "Predicting...\n",
      "Took 1.7 seconds\n",
      "CPU times: user 8.7 s, sys: 1.06 s, total: 9.75 s\n",
      "Wall time: 1min 14s\n"
     ]
    }
   ],
   "source": [
    "%%time\n",
    "time_train_start = time.time()\n",
    "\n",
    "NROUND = 300\n",
    "VERBOSE_EVAL = 50\n",
    "preds = []\n",
    "for i in range(4):\n",
    "\n",
    "    name = label_names[i]\n",
    "    print(\"#\" * 25)\n",
    "    print(\"###\", name)\n",
    "    print(\"#\" * 25)\n",
    "\n",
    "    start = time.time()\n",
    "    print(\"Creating DMatrix...\")\n",
    "    dtrain = xgb.dask.DaskDMatrix(client, data=train, label=Y_train.iloc[:, i])\n",
    "    print(\"Took %.1f seconds\" % (time.time() - start))\n",
    "\n",
    "    start = time.time()\n",
    "    print(\"Training...\")\n",
    "    model = xgb.dask.train(\n",
    "        client, xgb_parms, dtrain=dtrain, num_boost_round=NROUND, verbose_eval=VERBOSE_EVAL\n",
    "    )\n",
    "    print(\"Took %.1f seconds\" % (time.time() - start))\n",
    "\n",
    "    start = time.time()\n",
    "    print(\"Predicting...\")\n",
    "    preds.append(xgb.dask.predict(client, model, valid))\n",
    "    print(\"Took %.1f seconds\" % (time.time() - start))\n",
    "\n",
    "    del model, dtrain\n",
    "\n",
    "time_train = time.time() - time_train_start"
   ]
  },
  {
   "cell_type": "code",
   "execution_count": 43,
   "metadata": {},
   "outputs": [],
   "source": [
    "yvalid = Y_valid[label_names].values.compute()\n",
    "oof = cp.array([i.values.compute() for i in preds]).T"
   ]
  },
  {
   "cell_type": "code",
   "execution_count": 44,
   "metadata": {},
   "outputs": [
    {
     "data": {
      "text/plain": [
       "(13367169, 4)"
      ]
     },
     "execution_count": 44,
     "metadata": {},
     "output_type": "execute_result"
    }
   ],
   "source": [
    "yvalid.shape"
   ]
  },
  {
   "cell_type": "markdown",
   "metadata": {},
   "source": [
    "The hosts of the RecSys2020 competition provide code for calculating the performance metric `PRAUC` and `RCE`. We optimized the code to speed up the calculation, as well. Using cuDF / cupy, we calculate the performance metric on the GPU."
   ]
  },
  {
   "cell_type": "code",
   "execution_count": 45,
   "metadata": {},
   "outputs": [],
   "source": [
    "from sklearn.metrics import auc\n",
    "\n",
    "\n",
    "def precision_recall_curve(y_true, y_pred):\n",
    "    y_true = y_true.astype(\"float32\")\n",
    "    ids = cp.argsort(-y_pred)\n",
    "    y_true = y_true[ids]\n",
    "    y_pred = y_pred[ids]\n",
    "    y_pred = cp.flip(y_pred, axis=0)\n",
    "\n",
    "    acc_one = cp.cumsum(y_true)\n",
    "    sum_one = cp.sum(y_true)\n",
    "\n",
    "    precision = cp.flip(acc_one / cp.cumsum(cp.ones(len(y_true))), axis=0)\n",
    "    precision[:-1] = precision[1:]\n",
    "    precision[-1] = 1.0\n",
    "\n",
    "    recall = cp.flip(acc_one / sum_one, axis=0)\n",
    "    recall[:-1] = recall[1:]\n",
    "    recall[-1] = 0\n",
    "    n = (recall == 1).sum()\n",
    "\n",
    "    return precision[n - 1 :], recall[n - 1 :], y_pred[n:]\n",
    "\n",
    "\n",
    "def compute_prauc(pred, gt):\n",
    "    prec, recall, thresh = precision_recall_curve(gt, pred)\n",
    "    recall, prec = cp.asnumpy(recall), cp.asnumpy(prec)\n",
    "\n",
    "    prauc = auc(recall, prec)\n",
    "    return prauc\n",
    "\n",
    "\n",
    "def log_loss(y_true, y_pred, eps=1e-7, normalize=True, sample_weight=None):\n",
    "    y_true = y_true.astype(\"int32\")\n",
    "    y_pred = cp.clip(y_pred, eps, 1 - eps)\n",
    "    if y_pred.ndim == 1:\n",
    "        y_pred = cp.expand_dims(y_pred, axis=1)\n",
    "    if y_pred.shape[1] == 1:\n",
    "        y_pred = cp.hstack([1 - y_pred, y_pred])\n",
    "\n",
    "    y_pred /= cp.sum(y_pred, axis=1, keepdims=True)\n",
    "    loss = -cp.log(y_pred)[cp.arange(y_pred.shape[0]), y_true]\n",
    "    return _weighted_sum(loss, sample_weight, normalize).item()\n",
    "\n",
    "\n",
    "def _weighted_sum(sample_score, sample_weight, normalize):\n",
    "    if normalize:\n",
    "        return cp.average(sample_score, weights=sample_weight)\n",
    "    elif sample_weight is not None:\n",
    "        return cp.dot(sample_score, sample_weight)\n",
    "    else:\n",
    "        return sample_score.sum()\n",
    "\n",
    "\n",
    "def compute_rce_fast(pred, gt):\n",
    "    cross_entropy = log_loss(gt, pred)\n",
    "    yt = cp.mean(gt).item()\n",
    "    # cross_entropy and yt are single numbers (no arrays) and using CPU is fast\n",
    "    strawman_cross_entropy = -(yt * np.log(yt) + (1 - yt) * np.log(1 - yt))\n",
    "    return (1.0 - cross_entropy / strawman_cross_entropy) * 100.0"
   ]
  },
  {
   "cell_type": "markdown",
   "metadata": {},
   "source": [
    "Finally, we calculate the performance metric PRAUC and RCE for each target."
   ]
  },
  {
   "cell_type": "code",
   "execution_count": 46,
   "metadata": {},
   "outputs": [
    {
     "name": "stdout",
     "output_type": "stream",
     "text": [
      "reply                PRAUC:0.13491 RCE:15.57019\n",
      "retweet              PRAUC:0.50176 RCE:25.95678\n",
      "retweet_comment      PRAUC:0.04228 RCE:9.24986\n",
      "like                 PRAUC:0.76676 RCE:23.75791\n"
     ]
    }
   ],
   "source": [
    "txt = \"\"\n",
    "for i in range(4):\n",
    "    prauc = compute_prauc(oof[:, i], yvalid[:, i])\n",
    "    rce = compute_rce_fast(oof[:, i], yvalid[:, i]).item()\n",
    "    txt_ = f\"{label_names[i]:20} PRAUC:{prauc:.5f} RCE:{rce:.5f}\"\n",
    "    print(txt_)\n",
    "    txt += txt_ + \"\\n\""
   ]
  },
  {
   "cell_type": "code",
   "execution_count": 47,
   "metadata": {},
   "outputs": [],
   "source": [
    "time_total = time.time() - time_total_start"
   ]
  },
  {
   "cell_type": "code",
   "execution_count": 48,
   "metadata": {},
   "outputs": [
    {
     "name": "stdout",
     "output_type": "stream",
     "text": [
      "Total time: 848.91s\n",
      "\n",
      "1. Preprocessing:       472.54s\n",
      "2. Splitting:           31.39s\n",
      "3. Feature engineering: 122.55s\n",
      "4. Training:            74.65s\n"
     ]
    }
   ],
   "source": [
    "print(\"Total time: {:.2f}s\".format(time_total))\n",
    "print()\n",
    "print(\"1. Preprocessing:       {:.2f}s\".format(time_preproc))\n",
    "print(\"2. Splitting:           {:.2f}s\".format(time_split))\n",
    "print(\"3. Feature engineering: {:.2f}s\".format(time_fe))\n",
    "print(\"4. Training:            {:.2f}s\".format(time_train))"
   ]
  }
 ],
 "metadata": {
  "kernelspec": {
   "display_name": "Python 3",
   "language": "python",
   "name": "python3"
  },
  "language_info": {
   "codemirror_mode": {
    "name": "ipython",
    "version": 3
   },
   "file_extension": ".py",
   "mimetype": "text/x-python",
   "name": "python",
   "nbconvert_exporter": "python",
   "pygments_lexer": "ipython3",
   "version": "3.7.8"
  }
 },
 "nbformat": 4,
 "nbformat_minor": 4
}
