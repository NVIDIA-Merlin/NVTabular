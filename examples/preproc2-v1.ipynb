{
 "cells": [
  {
   "cell_type": "markdown",
   "metadata": {},
   "source": [
    "<b>Author: Ronay Ak</b>"
   ]
  },
  {
   "cell_type": "code",
   "execution_count": 9,
   "metadata": {},
   "outputs": [],
   "source": [
    "import cudf\n",
    "import pandas as pd\n",
    "import cupy \n",
    "import math\n",
    "import time\n",
    "from datetime import datetime\n",
    "import numpy as np\n",
    "import pickle"
   ]
  },
  {
   "cell_type": "code",
   "execution_count": 10,
   "metadata": {},
   "outputs": [],
   "source": [
    "import os\n",
    "os.environ[\"CUDA_DEVICE_ORDER\"] = \"PCI_BUS_ID\"\n",
    "os.environ[\"CUDA_VISIBLE_DEVICES\"] = \"2,3\""
   ]
  },
  {
   "cell_type": "code",
   "execution_count": 11,
   "metadata": {},
   "outputs": [],
   "source": [
    "OUTPUT_BUCKET_FOLDER = \"./preprocessed/\"\n",
    "DATA_BUCKET_FOLDER = \"./dataset/\"\n",
    "#SPARK_TEMP_FOLDER = \"/outbrain/spark-temp/\""
   ]
  },
  {
   "cell_type": "markdown",
   "metadata": {},
   "source": [
    "Here some csv files are subsets of the originals due to large dataset size."
   ]
  },
  {
   "cell_type": "code",
   "execution_count": 12,
   "metadata": {},
   "outputs": [],
   "source": [
    "evaluation = False"
   ]
  },
  {
   "cell_type": "markdown",
   "metadata": {},
   "source": [
    "Start loading csv files.."
   ]
  },
  {
   "cell_type": "code",
   "execution_count": 13,
   "metadata": {},
   "outputs": [
    {
     "name": "stdout",
     "output_type": "stream",
     "text": [
      "(2999334, 4)\n"
     ]
    },
    {
     "data": {
      "text/plain": [
       "document_id_doc     int32\n",
       "source_id           int32\n",
       "publisher_id        int32\n",
       "publish_time       object\n",
       "dtype: object"
      ]
     },
     "execution_count": 13,
     "metadata": {},
     "output_type": "execute_result"
    }
   ],
   "source": [
    "documents_meta_df = cudf.read_csv(DATA_BUCKET_FOLDER+ 'documents_meta.csv', dtype=['int32','int32','int32','str'], \n",
    "                                names=['document_id_doc', 'source_id', 'publisher_id', 'publish_time'], header=0)\n",
    "print(documents_meta_df.shape)\n",
    "documents_meta_df.dtypes"
   ]
  },
  {
   "cell_type": "code",
   "execution_count": 14,
   "metadata": {},
   "outputs": [
    {
     "name": "stdout",
     "output_type": "stream",
     "text": [
      "Drop rows with empty \"source_id\"...\n"
     ]
    },
    {
     "data": {
      "text/plain": [
       "(2996816, 4)"
      ]
     },
     "execution_count": 14,
     "metadata": {},
     "output_type": "execute_result"
    }
   ],
   "source": [
    "# APPLY DROPNA\n",
    "print('Drop rows with empty \"source_id\"...')\n",
    "documents_meta_df = documents_meta_df.dropna(subset=['source_id'])\n",
    "documents_meta_df.shape"
   ]
  },
  {
   "cell_type": "code",
   "execution_count": 50,
   "metadata": {},
   "outputs": [
    {
     "data": {
      "text/plain": [
       "(14394, 2)"
      ]
     },
     "execution_count": 50,
     "metadata": {},
     "output_type": "execute_result"
    }
   ],
   "source": [
    "source_publishers_df = documents_meta_df[[\"source_id\", \"publisher_id\"]].drop_duplicates()\n",
    "source_publishers_df.shape"
   ]
  },
  {
   "cell_type": "code",
   "execution_count": 51,
   "metadata": {},
   "outputs": [
    {
     "data": {
      "text/html": [
       "<div>\n",
       "<style scoped>\n",
       "    .dataframe tbody tr th:only-of-type {\n",
       "        vertical-align: middle;\n",
       "    }\n",
       "\n",
       "    .dataframe tbody tr th {\n",
       "        vertical-align: top;\n",
       "    }\n",
       "\n",
       "    .dataframe thead th {\n",
       "        text-align: right;\n",
       "    }\n",
       "</style>\n",
       "<table border=\"1\" class=\"dataframe\">\n",
       "  <thead>\n",
       "    <tr style=\"text-align: right;\">\n",
       "      <th></th>\n",
       "      <th>source_id</th>\n",
       "      <th>publisher_id</th>\n",
       "    </tr>\n",
       "  </thead>\n",
       "  <tbody>\n",
       "    <tr>\n",
       "      <th>0</th>\n",
       "      <td>1</td>\n",
       "      <td>603</td>\n",
       "    </tr>\n",
       "    <tr>\n",
       "      <th>12867</th>\n",
       "      <td>2</td>\n",
       "      <td>85</td>\n",
       "    </tr>\n",
       "    <tr>\n",
       "      <th>12874</th>\n",
       "      <td>3</td>\n",
       "      <td>740</td>\n",
       "    </tr>\n",
       "    <tr>\n",
       "      <th>29583</th>\n",
       "      <td>4</td>\n",
       "      <td>213</td>\n",
       "    </tr>\n",
       "    <tr>\n",
       "      <th>29597</th>\n",
       "      <td>5</td>\n",
       "      <td>184</td>\n",
       "    </tr>\n",
       "  </tbody>\n",
       "</table>\n",
       "</div>"
      ],
      "text/plain": [
       "       source_id  publisher_id\n",
       "0              1           603\n",
       "12867          2            85\n",
       "12874          3           740\n",
       "29583          4           213\n",
       "29597          5           184"
      ]
     },
     "execution_count": 51,
     "metadata": {},
     "output_type": "execute_result"
    }
   ],
   "source": [
    "# the index numbers do not match with spark.\n",
    "source_publishers_df.head()"
   ]
  },
  {
   "cell_type": "code",
   "execution_count": 52,
   "metadata": {},
   "outputs": [
    {
     "data": {
      "text/plain": [
       "(5058, 1)"
      ]
     },
     "execution_count": 52,
     "metadata": {},
     "output_type": "execute_result"
    }
   ],
   "source": [
    "# get list of source_ids without publisher_id\n",
    "source_ids_without_publisher_df = source_publishers_df.loc[source_publishers_df.loc[:, 'publisher_id'].isnull()]\n",
    "new_publishers_df = source_ids_without_publisher_df.loc[:, ['source_id']]\n",
    "new_publishers_df.shape"
   ]
  },
  {
   "cell_type": "code",
   "execution_count": 53,
   "metadata": {},
   "outputs": [
    {
     "data": {
      "text/html": [
       "<div>\n",
       "<style scoped>\n",
       "    .dataframe tbody tr th:only-of-type {\n",
       "        vertical-align: middle;\n",
       "    }\n",
       "\n",
       "    .dataframe tbody tr th {\n",
       "        vertical-align: top;\n",
       "    }\n",
       "\n",
       "    .dataframe thead th {\n",
       "        text-align: right;\n",
       "    }\n",
       "</style>\n",
       "<table border=\"1\" class=\"dataframe\">\n",
       "  <thead>\n",
       "    <tr style=\"text-align: right;\">\n",
       "      <th></th>\n",
       "      <th>source_id</th>\n",
       "    </tr>\n",
       "  </thead>\n",
       "  <tbody>\n",
       "    <tr>\n",
       "      <th>29846</th>\n",
       "      <td>7</td>\n",
       "    </tr>\n",
       "    <tr>\n",
       "      <th>29853</th>\n",
       "      <td>8</td>\n",
       "    </tr>\n",
       "    <tr>\n",
       "      <th>30995</th>\n",
       "      <td>16</td>\n",
       "    </tr>\n",
       "    <tr>\n",
       "      <th>33712</th>\n",
       "      <td>20</td>\n",
       "    </tr>\n",
       "    <tr>\n",
       "      <th>36964</th>\n",
       "      <td>26</td>\n",
       "    </tr>\n",
       "  </tbody>\n",
       "</table>\n",
       "</div>"
      ],
      "text/plain": [
       "       source_id\n",
       "29846          7\n",
       "29853          8\n",
       "30995         16\n",
       "33712         20\n",
       "36964         26"
      ]
     },
     "execution_count": 53,
     "metadata": {},
     "output_type": "execute_result"
    }
   ],
   "source": [
    "new_publishers_df.head()"
   ]
  },
  {
   "cell_type": "code",
   "execution_count": 54,
   "metadata": {},
   "outputs": [],
   "source": [
    "# print('Get list of source_ids without publisher_id...')\n",
    "# source_ids_without_publisher_df = source_publishers_df[source_publishers_df.publisher_id.isnull()]['source_id']\n",
    "# new_publishers_df = source_ids_without_publisher_df.loc[:, ['source_id']]"
   ]
  },
  {
   "cell_type": "code",
   "execution_count": 55,
   "metadata": {},
   "outputs": [
    {
     "data": {
      "text/html": [
       "<div>\n",
       "<style scoped>\n",
       "    .dataframe tbody tr th:only-of-type {\n",
       "        vertical-align: middle;\n",
       "    }\n",
       "\n",
       "    .dataframe tbody tr th {\n",
       "        vertical-align: top;\n",
       "    }\n",
       "\n",
       "    .dataframe thead th {\n",
       "        text-align: right;\n",
       "    }\n",
       "</style>\n",
       "<table border=\"1\" class=\"dataframe\">\n",
       "  <thead>\n",
       "    <tr style=\"text-align: right;\">\n",
       "      <th></th>\n",
       "      <th>source_id</th>\n",
       "      <th>publisher_id</th>\n",
       "    </tr>\n",
       "  </thead>\n",
       "  <tbody>\n",
       "    <tr>\n",
       "      <th>29846</th>\n",
       "      <td>7</td>\n",
       "      <td>null</td>\n",
       "    </tr>\n",
       "    <tr>\n",
       "      <th>29853</th>\n",
       "      <td>8</td>\n",
       "      <td>null</td>\n",
       "    </tr>\n",
       "    <tr>\n",
       "      <th>30995</th>\n",
       "      <td>16</td>\n",
       "      <td>null</td>\n",
       "    </tr>\n",
       "    <tr>\n",
       "      <th>33712</th>\n",
       "      <td>20</td>\n",
       "      <td>null</td>\n",
       "    </tr>\n",
       "    <tr>\n",
       "      <th>36964</th>\n",
       "      <td>26</td>\n",
       "      <td>null</td>\n",
       "    </tr>\n",
       "  </tbody>\n",
       "</table>\n",
       "</div>"
      ],
      "text/plain": [
       "       source_id publisher_id\n",
       "29846          7         null\n",
       "29853          8         null\n",
       "30995         16         null\n",
       "33712         20         null\n",
       "36964         26         null"
      ]
     },
     "execution_count": 55,
     "metadata": {},
     "output_type": "execute_result"
    }
   ],
   "source": [
    "source_ids_without_publisher_df.head()"
   ]
  },
  {
   "cell_type": "code",
   "execution_count": 56,
   "metadata": {},
   "outputs": [
    {
     "name": "stdout",
     "output_type": "stream",
     "text": [
      "Maximum value of publisher_id used so far...\n"
     ]
    },
    {
     "data": {
      "text/plain": [
       "1263"
      ]
     },
     "execution_count": 56,
     "metadata": {},
     "output_type": "execute_result"
    }
   ],
   "source": [
    "print('Maximum value of publisher_id used so far...')\n",
    "max_pub =source_publishers_df.dropna(subset='publisher_id')['publisher_id'].max()\n",
    "max_pub"
   ]
  },
  {
   "cell_type": "markdown",
   "metadata": {},
   "source": [
    "NOTE: \"source_id\" column of new_publishers_df generated by spark is not in order. Here, with cudf it is in order."
   ]
  },
  {
   "cell_type": "code",
   "execution_count": 57,
   "metadata": {},
   "outputs": [
    {
     "data": {
      "text/plain": [
       "(5058, 2)"
      ]
     },
     "execution_count": 57,
     "metadata": {},
     "output_type": "execute_result"
    }
   ],
   "source": [
    "# maximum value of publisher_id used so far\n",
    "new_publisher_cnt = source_ids_without_publisher_df.shape[0]\n",
    "# rows filled with new publisher_ids\n",
    "new_publishers_df['publisher_id'] = np.arange(max_pub + 1, max_pub + 1 + new_publisher_cnt)\n",
    "new_publishers_df.shape"
   ]
  },
  {
   "cell_type": "code",
   "execution_count": 58,
   "metadata": {},
   "outputs": [
    {
     "data": {
      "text/html": [
       "<div>\n",
       "<style scoped>\n",
       "    .dataframe tbody tr th:only-of-type {\n",
       "        vertical-align: middle;\n",
       "    }\n",
       "\n",
       "    .dataframe tbody tr th {\n",
       "        vertical-align: top;\n",
       "    }\n",
       "\n",
       "    .dataframe thead th {\n",
       "        text-align: right;\n",
       "    }\n",
       "</style>\n",
       "<table border=\"1\" class=\"dataframe\">\n",
       "  <thead>\n",
       "    <tr style=\"text-align: right;\">\n",
       "      <th></th>\n",
       "      <th>source_id</th>\n",
       "      <th>publisher_id</th>\n",
       "    </tr>\n",
       "  </thead>\n",
       "  <tbody>\n",
       "    <tr>\n",
       "      <th>29846</th>\n",
       "      <td>7</td>\n",
       "      <td>1264</td>\n",
       "    </tr>\n",
       "    <tr>\n",
       "      <th>29853</th>\n",
       "      <td>8</td>\n",
       "      <td>1265</td>\n",
       "    </tr>\n",
       "    <tr>\n",
       "      <th>30995</th>\n",
       "      <td>16</td>\n",
       "      <td>1266</td>\n",
       "    </tr>\n",
       "    <tr>\n",
       "      <th>33712</th>\n",
       "      <td>20</td>\n",
       "      <td>1267</td>\n",
       "    </tr>\n",
       "    <tr>\n",
       "      <th>36964</th>\n",
       "      <td>26</td>\n",
       "      <td>1268</td>\n",
       "    </tr>\n",
       "  </tbody>\n",
       "</table>\n",
       "</div>"
      ],
      "text/plain": [
       "       source_id  publisher_id\n",
       "29846          7          1264\n",
       "29853          8          1265\n",
       "30995         16          1266\n",
       "33712         20          1267\n",
       "36964         26          1268"
      ]
     },
     "execution_count": 58,
     "metadata": {},
     "output_type": "execute_result"
    }
   ],
   "source": [
    "new_publishers_df.head()"
   ]
  },
  {
   "cell_type": "code",
   "execution_count": 59,
   "metadata": {},
   "outputs": [
    {
     "data": {
      "text/plain": [
       "(14366, 7)"
      ]
     },
     "execution_count": 59,
     "metadata": {},
     "output_type": "execute_result"
    }
   ],
   "source": [
    "new_publishers_df.source_id.max(), new_publishers_df.source_id.min()"
   ]
  },
  {
   "cell_type": "code",
   "execution_count": 60,
   "metadata": {},
   "outputs": [
    {
     "data": {
      "text/plain": [
       "source_id       int32\n",
       "publisher_id    int64\n",
       "dtype: object"
      ]
     },
     "execution_count": 60,
     "metadata": {},
     "output_type": "execute_result"
    }
   ],
   "source": [
    "new_publishers_df.dtypes"
   ]
  },
  {
   "cell_type": "code",
   "execution_count": 61,
   "metadata": {},
   "outputs": [],
   "source": [
    "# old and new publishers merged\n",
    "fixed_source_publishers_df = source_publishers_df.dropna(subset='publisher_id')\n",
    "fixed_source_publishers_df = cudf.concat([fixed_source_publishers_df, new_publishers_df])"
   ]
  },
  {
   "cell_type": "code",
   "execution_count": 62,
   "metadata": {},
   "outputs": [
    {
     "data": {
      "text/plain": [
       "((14394, 2), (2996816, 4))"
      ]
     },
     "execution_count": 62,
     "metadata": {},
     "output_type": "execute_result"
    }
   ],
   "source": [
    "fixed_source_publishers_df.shape, documents_meta_df.shape"
   ]
  },
  {
   "cell_type": "code",
   "execution_count": 63,
   "metadata": {},
   "outputs": [
    {
     "data": {
      "text/html": [
       "<div>\n",
       "<style scoped>\n",
       "    .dataframe tbody tr th:only-of-type {\n",
       "        vertical-align: middle;\n",
       "    }\n",
       "\n",
       "    .dataframe tbody tr th {\n",
       "        vertical-align: top;\n",
       "    }\n",
       "\n",
       "    .dataframe thead th {\n",
       "        text-align: right;\n",
       "    }\n",
       "</style>\n",
       "<table border=\"1\" class=\"dataframe\">\n",
       "  <thead>\n",
       "    <tr style=\"text-align: right;\">\n",
       "      <th></th>\n",
       "      <th>source_id</th>\n",
       "      <th>publisher_id</th>\n",
       "    </tr>\n",
       "  </thead>\n",
       "  <tbody>\n",
       "    <tr>\n",
       "      <th>2990886</th>\n",
       "      <td>14354</td>\n",
       "      <td>6317</td>\n",
       "    </tr>\n",
       "    <tr>\n",
       "      <th>2990902</th>\n",
       "      <td>14355</td>\n",
       "      <td>6318</td>\n",
       "    </tr>\n",
       "    <tr>\n",
       "      <th>2990906</th>\n",
       "      <td>14356</td>\n",
       "      <td>6319</td>\n",
       "    </tr>\n",
       "    <tr>\n",
       "      <th>2991236</th>\n",
       "      <td>14365</td>\n",
       "      <td>6320</td>\n",
       "    </tr>\n",
       "    <tr>\n",
       "      <th>2991239</th>\n",
       "      <td>14366</td>\n",
       "      <td>6321</td>\n",
       "    </tr>\n",
       "  </tbody>\n",
       "</table>\n",
       "</div>"
      ],
      "text/plain": [
       "         source_id  publisher_id\n",
       "2990886      14354          6317\n",
       "2990902      14355          6318\n",
       "2990906      14356          6319\n",
       "2991236      14365          6320\n",
       "2991239      14366          6321"
      ]
     },
     "execution_count": 63,
     "metadata": {},
     "output_type": "execute_result"
    }
   ],
   "source": [
    "fixed_source_publishers_df.tail()"
   ]
  },
  {
   "cell_type": "code",
   "execution_count": 64,
   "metadata": {},
   "outputs": [
    {
     "name": "stdout",
     "output_type": "stream",
     "text": [
      "Update documents_meta with new publishers...\n"
     ]
    },
    {
     "data": {
      "text/html": [
       "<div>\n",
       "<style scoped>\n",
       "    .dataframe tbody tr th:only-of-type {\n",
       "        vertical-align: middle;\n",
       "    }\n",
       "\n",
       "    .dataframe tbody tr th {\n",
       "        vertical-align: top;\n",
       "    }\n",
       "\n",
       "    .dataframe thead th {\n",
       "        text-align: right;\n",
       "    }\n",
       "</style>\n",
       "<table border=\"1\" class=\"dataframe\">\n",
       "  <thead>\n",
       "    <tr style=\"text-align: right;\">\n",
       "      <th></th>\n",
       "      <th>document_id_doc</th>\n",
       "      <th>source_id</th>\n",
       "      <th>publish_time</th>\n",
       "      <th>publisher_id</th>\n",
       "    </tr>\n",
       "  </thead>\n",
       "  <tbody>\n",
       "    <tr>\n",
       "      <th>0</th>\n",
       "      <td>1250431</td>\n",
       "      <td>18</td>\n",
       "      <td>2016-04-04 16:00:00</td>\n",
       "      <td>1050</td>\n",
       "    </tr>\n",
       "    <tr>\n",
       "      <th>1</th>\n",
       "      <td>1173544</td>\n",
       "      <td>18</td>\n",
       "      <td>2016-03-22 00:00:00</td>\n",
       "      <td>1050</td>\n",
       "    </tr>\n",
       "    <tr>\n",
       "      <th>2</th>\n",
       "      <td>1206196</td>\n",
       "      <td>18</td>\n",
       "      <td>2016-03-29 10:00:00</td>\n",
       "      <td>1050</td>\n",
       "    </tr>\n",
       "    <tr>\n",
       "      <th>3</th>\n",
       "      <td>1263205</td>\n",
       "      <td>18</td>\n",
       "      <td>2016-04-06 14:00:00</td>\n",
       "      <td>1050</td>\n",
       "    </tr>\n",
       "    <tr>\n",
       "      <th>4</th>\n",
       "      <td>1248555</td>\n",
       "      <td>18</td>\n",
       "      <td>2016-04-04 12:00:00</td>\n",
       "      <td>1050</td>\n",
       "    </tr>\n",
       "  </tbody>\n",
       "</table>\n",
       "</div>"
      ],
      "text/plain": [
       "   document_id_doc  source_id         publish_time  publisher_id\n",
       "0          1250431         18  2016-04-04 16:00:00          1050\n",
       "1          1173544         18  2016-03-22 00:00:00          1050\n",
       "2          1206196         18  2016-03-29 10:00:00          1050\n",
       "3          1263205         18  2016-04-06 14:00:00          1050\n",
       "4          1248555         18  2016-04-04 12:00:00          1050"
      ]
     },
     "execution_count": 64,
     "metadata": {},
     "output_type": "execute_result"
    }
   ],
   "source": [
    "print('Update documents_meta with new publishers...')\n",
    "\n",
    "documents_meta_df = documents_meta_df.drop(columns='publisher_id').merge(fixed_source_publishers_df, on='source_id')\n",
    "documents_meta_df.head()"
   ]
  },
  {
   "cell_type": "code",
   "execution_count": 65,
   "metadata": {},
   "outputs": [
    {
     "data": {
      "text/html": [
       "<div>\n",
       "<style scoped>\n",
       "    .dataframe tbody tr th:only-of-type {\n",
       "        vertical-align: middle;\n",
       "    }\n",
       "\n",
       "    .dataframe tbody tr th {\n",
       "        vertical-align: top;\n",
       "    }\n",
       "\n",
       "    .dataframe thead th {\n",
       "        text-align: right;\n",
       "    }\n",
       "</style>\n",
       "<table border=\"1\" class=\"dataframe\">\n",
       "  <thead>\n",
       "    <tr style=\"text-align: right;\">\n",
       "      <th></th>\n",
       "      <th>document_id_doc</th>\n",
       "      <th>source_id</th>\n",
       "      <th>publish_time</th>\n",
       "      <th>publisher_id</th>\n",
       "    </tr>\n",
       "  </thead>\n",
       "  <tbody>\n",
       "    <tr>\n",
       "      <th>77284</th>\n",
       "      <td>2287601</td>\n",
       "      <td>26</td>\n",
       "      <td>2015-10-16 04:00:00</td>\n",
       "      <td>1268</td>\n",
       "    </tr>\n",
       "  </tbody>\n",
       "</table>\n",
       "</div>"
      ],
      "text/plain": [
       "       document_id_doc  source_id         publish_time  publisher_id\n",
       "77284          2287601         26  2015-10-16 04:00:00          1268"
      ]
     },
     "execution_count": 65,
     "metadata": {},
     "output_type": "execute_result"
    }
   ],
   "source": [
    "#publisher id is not same in spark dataframe.\n",
    "documents_meta_df[documents_meta_df['source_id'] == 26]"
   ]
  },
  {
   "cell_type": "code",
   "execution_count": 73,
   "metadata": {},
   "outputs": [],
   "source": [
    "documents_categories_df =  cudf.read_csv(\n",
    "    DATA_BUCKET_FOLDER + 'documents_categories.csv',\n",
    "    names=['document_id_cat', 'category_id', 'confidence_level_cat'],\n",
    "    dtype=['int64', 'int64','float32'], header=0)"
   ]
  },
  {
   "cell_type": "markdown",
   "metadata": {},
   "source": [
    "We need to convert cudf df to panda df to be able to do these ops. this takes long time."
   ]
  },
  {
   "cell_type": "code",
   "execution_count": 48,
   "metadata": {},
   "outputs": [],
   "source": [
    "#Grouping category_ids and confidence_levels..\n",
    "documents_categories_df = documents_categories_df.to_pandas()\n",
    "documents_categories_grouped_df = documents_categories_df.groupby('document_id_cat', \n",
    "    as_index=False)['category_id', 'confidence_level_cat'].agg(lambda x: list(x)).rename(\n",
    "    columns={'category_id': 'category_id_list', 'confidence_level_cat': 'confidence_level_cat_list'})"
   ]
  },
  {
   "cell_type": "code",
   "execution_count": 29,
   "metadata": {},
   "outputs": [
    {
     "data": {
      "text/html": [
       "<div>\n",
       "<style scoped>\n",
       "    .dataframe tbody tr th:only-of-type {\n",
       "        vertical-align: middle;\n",
       "    }\n",
       "\n",
       "    .dataframe tbody tr th {\n",
       "        vertical-align: top;\n",
       "    }\n",
       "\n",
       "    .dataframe thead th {\n",
       "        text-align: right;\n",
       "    }\n",
       "</style>\n",
       "<table border=\"1\" class=\"dataframe\">\n",
       "  <thead>\n",
       "    <tr style=\"text-align: right;\">\n",
       "      <th></th>\n",
       "      <th>document_id_cat</th>\n",
       "      <th>category_id_list</th>\n",
       "      <th>confidence_level_cat_list</th>\n",
       "    </tr>\n",
       "  </thead>\n",
       "  <tbody>\n",
       "    <tr>\n",
       "      <th>0</th>\n",
       "      <td>1</td>\n",
       "      <td>[1706, 1603]</td>\n",
       "      <td>[0.47122037410736084, 0.03585372492671013]</td>\n",
       "    </tr>\n",
       "    <tr>\n",
       "      <th>1</th>\n",
       "      <td>2</td>\n",
       "      <td>[1705, 1708]</td>\n",
       "      <td>[0.6000000238418579, 0.4000000059604645]</td>\n",
       "    </tr>\n",
       "    <tr>\n",
       "      <th>2</th>\n",
       "      <td>3</td>\n",
       "      <td>[2003, 1403]</td>\n",
       "      <td>[0.5228370428085327, 0.039781082421541214]</td>\n",
       "    </tr>\n",
       "    <tr>\n",
       "      <th>3</th>\n",
       "      <td>4</td>\n",
       "      <td>[2003, 2006]</td>\n",
       "      <td>[0.9199999570846558, 0.07000000029802322]</td>\n",
       "    </tr>\n",
       "    <tr>\n",
       "      <th>4</th>\n",
       "      <td>5</td>\n",
       "      <td>[2006, 2003]</td>\n",
       "      <td>[0.9199999570846558, 0.07000000029802322]</td>\n",
       "    </tr>\n",
       "  </tbody>\n",
       "</table>\n",
       "</div>"
      ],
      "text/plain": [
       "   document_id_cat category_id_list  \\\n",
       "0                1     [1706, 1603]   \n",
       "1                2     [1705, 1708]   \n",
       "2                3     [2003, 1403]   \n",
       "3                4     [2003, 2006]   \n",
       "4                5     [2006, 2003]   \n",
       "\n",
       "                    confidence_level_cat_list  \n",
       "0  [0.47122037410736084, 0.03585372492671013]  \n",
       "1    [0.6000000238418579, 0.4000000059604645]  \n",
       "2  [0.5228370428085327, 0.039781082421541214]  \n",
       "3   [0.9199999570846558, 0.07000000029802322]  \n",
       "4   [0.9199999570846558, 0.07000000029802322]  "
      ]
     },
     "execution_count": 29,
     "metadata": {},
     "output_type": "execute_result"
    }
   ],
   "source": [
    "documents_categories_grouped_df.head()"
   ]
  },
  {
   "cell_type": "code",
   "execution_count": 88,
   "metadata": {},
   "outputs": [],
   "source": [
    "#\"Reading documents_topics...\n",
    "documents_topics_df = cudf.read_csv(\n",
    "    DATA_BUCKET_FOLDER + 'documents_topics.csv',\n",
    "    names=['document_id_top', 'topic_id', 'confidence_level_top'],\n",
    "    dtype={'document_id_top': 'int64','topic_id': 'int64','confidence_level_top': 'float32'},\n",
    "    skiprows=1)"
   ]
  },
  {
   "cell_type": "code",
   "execution_count": null,
   "metadata": {},
   "outputs": [],
   "source": [
    "#\"Grouping topic_ids and confidence_levels...\"\n",
    "documents_topics_df = documents_topics_df.to_pandas()\n",
    "documents_topics_grouped_df = documents_topics_df.groupby('document_id_top', \n",
    "    as_index=False)['topic_id', 'confidence_level_top'].agg(lambda x: list(x)).rename(\n",
    "    columns={'topic_id': 'topic_id_list', 'confidence_level_top': 'confidence_level_top_list'})"
   ]
  },
  {
   "cell_type": "code",
   "execution_count": 31,
   "metadata": {},
   "outputs": [
    {
     "data": {
      "text/html": [
       "<div>\n",
       "<style scoped>\n",
       "    .dataframe tbody tr th:only-of-type {\n",
       "        vertical-align: middle;\n",
       "    }\n",
       "\n",
       "    .dataframe tbody tr th {\n",
       "        vertical-align: top;\n",
       "    }\n",
       "\n",
       "    .dataframe thead th {\n",
       "        text-align: right;\n",
       "    }\n",
       "</style>\n",
       "<table border=\"1\" class=\"dataframe\">\n",
       "  <thead>\n",
       "    <tr style=\"text-align: right;\">\n",
       "      <th></th>\n",
       "      <th>document_id_top</th>\n",
       "      <th>topic_id_list</th>\n",
       "      <th>confidence_level_top_list</th>\n",
       "    </tr>\n",
       "  </thead>\n",
       "  <tbody>\n",
       "    <tr>\n",
       "      <th>0</th>\n",
       "      <td>1</td>\n",
       "      <td>[252, 35, 150, 276, 137]</td>\n",
       "      <td>[0.020726216956973076, 0.012773293070495129, 0...</td>\n",
       "    </tr>\n",
       "    <tr>\n",
       "      <th>1</th>\n",
       "      <td>2</td>\n",
       "      <td>[216]</td>\n",
       "      <td>[0.013028857298195362]</td>\n",
       "    </tr>\n",
       "    <tr>\n",
       "      <th>2</th>\n",
       "      <td>3</td>\n",
       "      <td>[276, 107, 176, 160, 260, 283, 202, 156, 104, ...</td>\n",
       "      <td>[0.029913833364844322, 0.027589114382863045, 0...</td>\n",
       "    </tr>\n",
       "    <tr>\n",
       "      <th>3</th>\n",
       "      <td>4</td>\n",
       "      <td>[102, 75, 16, 244, 97, 239]</td>\n",
       "      <td>[0.08417084068059921, 0.08329997211694717, 0.0...</td>\n",
       "    </tr>\n",
       "    <tr>\n",
       "      <th>4</th>\n",
       "      <td>5</td>\n",
       "      <td>[75, 102, 244, 143, 130, 202, 16, 44, 64]</td>\n",
       "      <td>[0.10655508935451508, 0.08646664023399353, 0.0...</td>\n",
       "    </tr>\n",
       "  </tbody>\n",
       "</table>\n",
       "</div>"
      ],
      "text/plain": [
       "   document_id_top                                      topic_id_list  \\\n",
       "0                1                           [252, 35, 150, 276, 137]   \n",
       "1                2                                              [216]   \n",
       "2                3  [276, 107, 176, 160, 260, 283, 202, 156, 104, ...   \n",
       "3                4                        [102, 75, 16, 244, 97, 239]   \n",
       "4                5          [75, 102, 244, 143, 130, 202, 16, 44, 64]   \n",
       "\n",
       "                           confidence_level_top_list  \n",
       "0  [0.020726216956973076, 0.012773293070495129, 0...  \n",
       "1                             [0.013028857298195362]  \n",
       "2  [0.029913833364844322, 0.027589114382863045, 0...  \n",
       "3  [0.08417084068059921, 0.08329997211694717, 0.0...  \n",
       "4  [0.10655508935451508, 0.08646664023399353, 0.0...  "
      ]
     },
     "execution_count": 31,
     "metadata": {},
     "output_type": "execute_result"
    }
   ],
   "source": [
    "documents_topics_grouped_df.head()"
   ]
  },
  {
   "cell_type": "code",
   "execution_count": 91,
   "metadata": {},
   "outputs": [],
   "source": [
    "#Reading documents_entities...\"\n",
    "documents_entities_df = cudf.read_csv(\n",
    "    DATA_BUCKET_FOLDER + 'documents_entities.csv',\n",
    "    names=['document_id_ent', 'entity_id', 'confidence_level_ent'],\n",
    "    dtype={'document_id_ent': 'int64','entity_id': 'str','confidence_level_ent': 'float32'},\n",
    "    skiprows=1)"
   ]
  },
  {
   "cell_type": "code",
   "execution_count": null,
   "metadata": {},
   "outputs": [],
   "source": [
    "#Grouping entity_ids and confidence_levels...\n",
    "documents_entities_df = documents_entities_df.to_pandas()\n",
    "documents_entities_grouped_df = documents_entities_df.groupby('document_id_ent', \n",
    "    as_index=False)['entity_id', 'confidence_level_ent'].agg(lambda x: list(x)).rename(\n",
    "    columns={'entity_id': 'entity_id_list', 'confidence_level_ent': 'confidence_level_ent_list'})"
   ]
  },
  {
   "cell_type": "code",
   "execution_count": 33,
   "metadata": {},
   "outputs": [
    {
     "data": {
      "text/html": [
       "<div>\n",
       "<style scoped>\n",
       "    .dataframe tbody tr th:only-of-type {\n",
       "        vertical-align: middle;\n",
       "    }\n",
       "\n",
       "    .dataframe tbody tr th {\n",
       "        vertical-align: top;\n",
       "    }\n",
       "\n",
       "    .dataframe thead th {\n",
       "        text-align: right;\n",
       "    }\n",
       "</style>\n",
       "<table border=\"1\" class=\"dataframe\">\n",
       "  <thead>\n",
       "    <tr style=\"text-align: right;\">\n",
       "      <th></th>\n",
       "      <th>document_id_ent</th>\n",
       "      <th>entity_id_list</th>\n",
       "      <th>confidence_level_ent_list</th>\n",
       "    </tr>\n",
       "  </thead>\n",
       "  <tbody>\n",
       "    <tr>\n",
       "      <th>0</th>\n",
       "      <td>2</td>\n",
       "      <td>[e88e4cde6c6482ff01d4ad424904ffd1, a10e6138ae7...</td>\n",
       "      <td>[0.6539117097854614, 0.5391356348991394]</td>\n",
       "    </tr>\n",
       "    <tr>\n",
       "      <th>1</th>\n",
       "      <td>3</td>\n",
       "      <td>[7f77b6d24f62a1ad1b469fdf4bc0a7f4]</td>\n",
       "      <td>[0.3209395706653595]</td>\n",
       "    </tr>\n",
       "    <tr>\n",
       "      <th>2</th>\n",
       "      <td>12</td>\n",
       "      <td>[f5a390c1e5d342825b82bcc637a72e7a]</td>\n",
       "      <td>[0.7968870401382446]</td>\n",
       "    </tr>\n",
       "    <tr>\n",
       "      <th>3</th>\n",
       "      <td>23</td>\n",
       "      <td>[d89b0bbdcbdb66475028b32eb8098dd4]</td>\n",
       "      <td>[0.25853851437568665]</td>\n",
       "    </tr>\n",
       "    <tr>\n",
       "      <th>4</th>\n",
       "      <td>43</td>\n",
       "      <td>[015f6154b8850c35a261314b4eb88846, 94101adfc2f...</td>\n",
       "      <td>[0.8686161041259766, 0.36814022064208984, 0.26...</td>\n",
       "    </tr>\n",
       "  </tbody>\n",
       "</table>\n",
       "</div>"
      ],
      "text/plain": [
       "   document_id_ent                                     entity_id_list  \\\n",
       "0                2  [e88e4cde6c6482ff01d4ad424904ffd1, a10e6138ae7...   \n",
       "1                3                 [7f77b6d24f62a1ad1b469fdf4bc0a7f4]   \n",
       "2               12                 [f5a390c1e5d342825b82bcc637a72e7a]   \n",
       "3               23                 [d89b0bbdcbdb66475028b32eb8098dd4]   \n",
       "4               43  [015f6154b8850c35a261314b4eb88846, 94101adfc2f...   \n",
       "\n",
       "                           confidence_level_ent_list  \n",
       "0           [0.6539117097854614, 0.5391356348991394]  \n",
       "1                               [0.3209395706653595]  \n",
       "2                               [0.7968870401382446]  \n",
       "3                              [0.25853851437568665]  \n",
       "4  [0.8686161041259766, 0.36814022064208984, 0.26...  "
      ]
     },
     "execution_count": 33,
     "metadata": {},
     "output_type": "execute_result"
    }
   ],
   "source": [
    "documents_entities_grouped_df.head()"
   ]
  },
  {
   "cell_type": "code",
   "execution_count": 34,
   "metadata": {},
   "outputs": [
    {
     "data": {
      "text/html": [
       "<div>\n",
       "<style scoped>\n",
       "    .dataframe tbody tr th:only-of-type {\n",
       "        vertical-align: middle;\n",
       "    }\n",
       "\n",
       "    .dataframe tbody tr th {\n",
       "        vertical-align: top;\n",
       "    }\n",
       "\n",
       "    .dataframe thead th {\n",
       "        text-align: right;\n",
       "    }\n",
       "</style>\n",
       "<table border=\"1\" class=\"dataframe\">\n",
       "  <thead>\n",
       "    <tr style=\"text-align: right;\">\n",
       "      <th></th>\n",
       "      <th>document_id_cat</th>\n",
       "      <th>category_id_list</th>\n",
       "      <th>confidence_level_cat_list</th>\n",
       "    </tr>\n",
       "  </thead>\n",
       "  <tbody>\n",
       "    <tr>\n",
       "      <th>0</th>\n",
       "      <td>1</td>\n",
       "      <td>[1706, 1603]</td>\n",
       "      <td>[0.47122037410736084, 0.03585372492671013]</td>\n",
       "    </tr>\n",
       "    <tr>\n",
       "      <th>1</th>\n",
       "      <td>2</td>\n",
       "      <td>[1705, 1708]</td>\n",
       "      <td>[0.6000000238418579, 0.4000000059604645]</td>\n",
       "    </tr>\n",
       "    <tr>\n",
       "      <th>2</th>\n",
       "      <td>3</td>\n",
       "      <td>[2003, 1403]</td>\n",
       "      <td>[0.5228370428085327, 0.039781082421541214]</td>\n",
       "    </tr>\n",
       "    <tr>\n",
       "      <th>3</th>\n",
       "      <td>4</td>\n",
       "      <td>[2003, 2006]</td>\n",
       "      <td>[0.9199999570846558, 0.07000000029802322]</td>\n",
       "    </tr>\n",
       "    <tr>\n",
       "      <th>4</th>\n",
       "      <td>5</td>\n",
       "      <td>[2006, 2003]</td>\n",
       "      <td>[0.9199999570846558, 0.07000000029802322]</td>\n",
       "    </tr>\n",
       "  </tbody>\n",
       "</table>\n",
       "</div>"
      ],
      "text/plain": [
       "   document_id_cat category_id_list  \\\n",
       "0                1     [1706, 1603]   \n",
       "1                2     [1705, 1708]   \n",
       "2                3     [2003, 1403]   \n",
       "3                4     [2003, 2006]   \n",
       "4                5     [2006, 2003]   \n",
       "\n",
       "                    confidence_level_cat_list  \n",
       "0  [0.47122037410736084, 0.03585372492671013]  \n",
       "1    [0.6000000238418579, 0.4000000059604645]  \n",
       "2  [0.5228370428085327, 0.039781082421541214]  \n",
       "3   [0.9199999570846558, 0.07000000029802322]  \n",
       "4   [0.9199999570846558, 0.07000000029802322]  "
      ]
     },
     "execution_count": 34,
     "metadata": {},
     "output_type": "execute_result"
    }
   ],
   "source": [
    "documents_categories_grouped_df.head()"
   ]
  },
  {
   "cell_type": "code",
   "execution_count": 27,
   "metadata": {},
   "outputs": [],
   "source": [
    "documents_meta_df=documents_meta_df.to_pandas()"
   ]
  },
  {
   "cell_type": "code",
   "execution_count": 35,
   "metadata": {},
   "outputs": [],
   "source": [
    "documents_categories_grouped_df = pd.read_pickle('documents_categories_grouped_df.pkl')\n",
    "documents_topics_grouped_df = pd.read_pickle('documents_topics_grouped_df.pkl')\n",
    "# documents_entities_grouped_df.to_pickle('documents_entities_grouped_df.pkl')"
   ]
  },
  {
   "cell_type": "code",
   "execution_count": 30,
   "metadata": {},
   "outputs": [
    {
     "data": {
      "text/plain": [
       "document_id_cat               int64\n",
       "category_id_list             object\n",
       "confidence_level_cat_list    object\n",
       "dtype: object"
      ]
     },
     "execution_count": 30,
     "metadata": {},
     "output_type": "execute_result"
    }
   ],
   "source": [
    "documents_categories_grouped_df.dtypes"
   ]
  },
  {
   "cell_type": "code",
   "execution_count": 32,
   "metadata": {},
   "outputs": [
    {
     "data": {
      "text/html": [
       "<div>\n",
       "<style scoped>\n",
       "    .dataframe tbody tr th:only-of-type {\n",
       "        vertical-align: middle;\n",
       "    }\n",
       "\n",
       "    .dataframe tbody tr th {\n",
       "        vertical-align: top;\n",
       "    }\n",
       "\n",
       "    .dataframe thead th {\n",
       "        text-align: right;\n",
       "    }\n",
       "</style>\n",
       "<table border=\"1\" class=\"dataframe\">\n",
       "  <thead>\n",
       "    <tr style=\"text-align: right;\">\n",
       "      <th></th>\n",
       "      <th>document_id_cat</th>\n",
       "      <th>category_id_list</th>\n",
       "      <th>confidence_level_cat_list</th>\n",
       "    </tr>\n",
       "  </thead>\n",
       "  <tbody>\n",
       "    <tr>\n",
       "      <th>0</th>\n",
       "      <td>1</td>\n",
       "      <td>[1706, 1603]</td>\n",
       "      <td>[0.47122037410736084, 0.03585372492671013]</td>\n",
       "    </tr>\n",
       "    <tr>\n",
       "      <th>1</th>\n",
       "      <td>2</td>\n",
       "      <td>[1705, 1708]</td>\n",
       "      <td>[0.6000000238418579, 0.4000000059604645]</td>\n",
       "    </tr>\n",
       "    <tr>\n",
       "      <th>2</th>\n",
       "      <td>3</td>\n",
       "      <td>[2003, 1403]</td>\n",
       "      <td>[0.5228370428085327, 0.039781082421541214]</td>\n",
       "    </tr>\n",
       "    <tr>\n",
       "      <th>3</th>\n",
       "      <td>4</td>\n",
       "      <td>[2003, 2006]</td>\n",
       "      <td>[0.9199999570846558, 0.07000000029802322]</td>\n",
       "    </tr>\n",
       "    <tr>\n",
       "      <th>4</th>\n",
       "      <td>5</td>\n",
       "      <td>[2006, 2003]</td>\n",
       "      <td>[0.9199999570846558, 0.07000000029802322]</td>\n",
       "    </tr>\n",
       "  </tbody>\n",
       "</table>\n",
       "</div>"
      ],
      "text/plain": [
       "   document_id_cat category_id_list  \\\n",
       "0                1     [1706, 1603]   \n",
       "1                2     [1705, 1708]   \n",
       "2                3     [2003, 1403]   \n",
       "3                4     [2003, 2006]   \n",
       "4                5     [2006, 2003]   \n",
       "\n",
       "                    confidence_level_cat_list  \n",
       "0  [0.47122037410736084, 0.03585372492671013]  \n",
       "1    [0.6000000238418579, 0.4000000059604645]  \n",
       "2  [0.5228370428085327, 0.039781082421541214]  \n",
       "3   [0.9199999570846558, 0.07000000029802322]  \n",
       "4   [0.9199999570846558, 0.07000000029802322]  "
      ]
     },
     "execution_count": 32,
     "metadata": {},
     "output_type": "execute_result"
    }
   ],
   "source": [
    "documents_categories_grouped_df.head()"
   ]
  },
  {
   "cell_type": "code",
   "execution_count": 36,
   "metadata": {},
   "outputs": [
    {
     "data": {
      "text/html": [
       "<div>\n",
       "<style scoped>\n",
       "    .dataframe tbody tr th:only-of-type {\n",
       "        vertical-align: middle;\n",
       "    }\n",
       "\n",
       "    .dataframe tbody tr th {\n",
       "        vertical-align: top;\n",
       "    }\n",
       "\n",
       "    .dataframe thead th {\n",
       "        text-align: right;\n",
       "    }\n",
       "</style>\n",
       "<table border=\"1\" class=\"dataframe\">\n",
       "  <thead>\n",
       "    <tr style=\"text-align: right;\">\n",
       "      <th></th>\n",
       "      <th>document_id_top</th>\n",
       "      <th>topic_id_list</th>\n",
       "      <th>confidence_level_top_list</th>\n",
       "    </tr>\n",
       "  </thead>\n",
       "  <tbody>\n",
       "    <tr>\n",
       "      <th>0</th>\n",
       "      <td>1</td>\n",
       "      <td>[252, 35, 150, 276, 137]</td>\n",
       "      <td>[0.020726216956973076, 0.012773293070495129, 0...</td>\n",
       "    </tr>\n",
       "    <tr>\n",
       "      <th>1</th>\n",
       "      <td>2</td>\n",
       "      <td>[216]</td>\n",
       "      <td>[0.013028857298195362]</td>\n",
       "    </tr>\n",
       "    <tr>\n",
       "      <th>2</th>\n",
       "      <td>3</td>\n",
       "      <td>[276, 107, 176, 160, 260, 283, 202, 156, 104, ...</td>\n",
       "      <td>[0.029913833364844322, 0.027589114382863045, 0...</td>\n",
       "    </tr>\n",
       "    <tr>\n",
       "      <th>3</th>\n",
       "      <td>4</td>\n",
       "      <td>[102, 75, 16, 244, 97, 239]</td>\n",
       "      <td>[0.08417084068059921, 0.08329997211694717, 0.0...</td>\n",
       "    </tr>\n",
       "    <tr>\n",
       "      <th>4</th>\n",
       "      <td>5</td>\n",
       "      <td>[75, 102, 244, 143, 130, 202, 16, 44, 64]</td>\n",
       "      <td>[0.10655508935451508, 0.08646664023399353, 0.0...</td>\n",
       "    </tr>\n",
       "  </tbody>\n",
       "</table>\n",
       "</div>"
      ],
      "text/plain": [
       "   document_id_top                                      topic_id_list  \\\n",
       "0                1                           [252, 35, 150, 276, 137]   \n",
       "1                2                                              [216]   \n",
       "2                3  [276, 107, 176, 160, 260, 283, 202, 156, 104, ...   \n",
       "3                4                        [102, 75, 16, 244, 97, 239]   \n",
       "4                5          [75, 102, 244, 143, 130, 202, 16, 44, 64]   \n",
       "\n",
       "                           confidence_level_top_list  \n",
       "0  [0.020726216956973076, 0.012773293070495129, 0...  \n",
       "1                             [0.013028857298195362]  \n",
       "2  [0.029913833364844322, 0.027589114382863045, 0...  \n",
       "3  [0.08417084068059921, 0.08329997211694717, 0.0...  \n",
       "4  [0.10655508935451508, 0.08646664023399353, 0.0...  "
      ]
     },
     "execution_count": 36,
     "metadata": {},
     "output_type": "execute_result"
    }
   ],
   "source": [
    "documents_topics_grouped_df.head()"
   ]
  },
  {
   "cell_type": "code",
   "execution_count": 37,
   "metadata": {},
   "outputs": [
    {
     "data": {
      "text/plain": [
       "document_id_top               int64\n",
       "topic_id_list                object\n",
       "confidence_level_top_list    object\n",
       "dtype: object"
      ]
     },
     "execution_count": 37,
     "metadata": {},
     "output_type": "execute_result"
    }
   ],
   "source": [
    "documents_topics_grouped_df.dtypes"
   ]
  },
  {
   "cell_type": "code",
   "execution_count": 65,
   "metadata": {},
   "outputs": [],
   "source": [
    "# ### Left join: each document has documents_meta, but some have no categories, topic or entity\n",
    "\n",
    "documents_df1 = documents_meta_df.merge(documents_categories_grouped_df, how='left', left_on='document_id_doc', right_on='document_id_cat')\n",
    "\n",
    "documents_df2 = documents_df1.merge(documents_topics_grouped_df, how='left', left_on='document_id_doc', right_on='document_id_top')\n",
    "\n",
    "documents_df = documents_df2.merge(documents_entities_grouped_df, how='left', left_on='document_id_doc', right_on='document_id_ent')"
   ]
  },
  {
   "cell_type": "code",
   "execution_count": 21,
   "metadata": {},
   "outputs": [],
   "source": [
    "evaluation = False\n",
    "if evaluation:\n",
    "    # TODO: no read need if whole script run \n",
    "    validation_set_df = pd.read_parquet(args.output_directory+\"validation_set.parquet\")\n",
    "\n",
    "    users_to_profile = validation_set_df.loc[:, ['uuid_event']].drop_duplicates()\n",
    "\n",
    "    validation_user_docs_to_ignore = validation_set_df.loc[:, ['uuid_event', 'document_id_promo']].drop_duplicates().rename(\n",
    "        columns={'uuid_event': 'uuid_pv', 'document_id_promo': 'document_id_pv'})\n",
    "else:\n",
    "    events_df = cudf.read_csv(DATA_BUCKET_FOLDER+'events.csv', dtype=['int32','str','int32','int32','int32','str'], \n",
    "                                names=['display_id', 'uuid_event', 'document_id_event', 'timestamp_event', 'platform_event', 'geo_location_event'], header=0, na_values=['\\\\N', ''],\n",
    "    keep_default_na=False,\n",
    "    skiprows=1)\n",
    "   \n",
    "    events_df['event_country'] = events_df['geo_location_event'].str.slice(0,2)\n",
    "    events_df['day_event'] = (events_df['timestamp_event'] / 1000 / 60 / 60 / 24).astype(int)\n",
    "    # Drop rows with empty \"geo_location\"\n",
    "    events_df = events_df.dropna(subset=\"geo_location_event\")\n",
    "   \n",
    "    # Drop rows with empty \"platform\"\n",
    "    events_df = events_df.dropna(subset=\"platform_event\")\n",
    "    \n",
    "    promoted_content_df = cudf.read_csv(DATA_BUCKET_FOLDER+'promoted_content.csv', dtype=['int32', 'int32','int32','int32'], \n",
    "                                names=['ad_id', 'document_id_promo', 'campaign_id', 'advertiser_id'], header=0)\n",
    "\n",
    "    clicks_test_df = cudf.read_csv(DATA_BUCKET_FOLDER+'clicks_test.csv', dtype=['int32', 'int32'], \n",
    "                                names=['display_id', 'ad_id'], header=0)\n",
    "    test_set_df1 = clicks_test_df.merge(promoted_content_df, on='ad_id', how='left')\n",
    "    test_set_df = test_set_df1.merge(events_df, on='display_id', how='left')\n",
    "    users_to_profile = (np.unique(test_set_df['uuid_event'])).to_frame()\n",
    "    test_users_docs_timestamp_to_ignore = test_set_df[['uuid_event', 'document_id_promo', 'timestamp_event']].drop_duplicates().reset_index(drop=True)"
   ]
  },
  {
   "cell_type": "code",
   "execution_count": 6,
   "metadata": {},
   "outputs": [],
   "source": [
    "page_views_df = cudf.read_csv(DATA_BUCKET_FOLDER + \"page_views.csv\",\n",
    "    names=['uuid_pv', 'document_id_pv', 'timestamp_pv', 'platform_pv', 'geo_location_pv', 'traffic_source_pv'],\n",
    "    dtype={'uuid_pv': 'str', 'document_id_pv': 'int64', 'timestamp_pv': 'int64',\n",
    "           'platform_pv': 'int64', 'geo_location_pv': 'str', 'traffic_source_pv': 'int64'},\n",
    "    skiprows=1,\n",
    "    keep_default_na=False)"
   ]
  },
  {
   "cell_type": "raw",
   "metadata": {},
   "source": [
    "'''\n",
    "This part is not straightforward since it requires many merges.\n",
    "else:\n",
    "  additional_filter = '''\n",
    "    AND NOT EXISTS (SELECT uuid_event FROM test_users_docs_timestamp_to_ignore \n",
    "      WHERE uuid_event = p.uuid_pv\n",
    "      AND document_id_promo = p.document_id_pv\n",
    "      AND p.timestamp_pv >= timestamp_event)\n",
    "    '''\n",
    "\n",
    "  page_views_train_df = spark.sql('''\n",
    "  SELECT * FROM page_views p \n",
    "    WHERE EXISTS (SELECT uuid_event FROM users_to_profile\n",
    "    WHERE uuid_event = p.uuid_pv)                                     \n",
    "  ''' + additional_filter).alias('views') \\\n",
    "  .join(documents_df, on=F.col(\"document_id_pv\") == F.col(\"document_id_doc\"), how='left') \\\n",
    "  .filter('dummyDocumentsEntities is not null OR dummyDocumentsTopics is not null OR dummyDocumentsCategory is not null')\n",
    "'''"
   ]
  },
  {
   "cell_type": "code",
   "execution_count": 24,
   "metadata": {},
   "outputs": [],
   "source": [
    "# first apply (SELECT uuid_event FROM users_to_profile WHERE uuid_event = p.uuid_pv\n",
    "page_views_train_df1 = page_views_df.loc[page_views_df['uuid_pv'].isin(users_to_profile['uuid_event'])]"
   ]
  },
  {
   "cell_type": "code",
   "execution_count": 25,
   "metadata": {},
   "outputs": [
    {
     "data": {
      "text/html": [
       "<div>\n",
       "<style scoped>\n",
       "    .dataframe tbody tr th:only-of-type {\n",
       "        vertical-align: middle;\n",
       "    }\n",
       "\n",
       "    .dataframe tbody tr th {\n",
       "        vertical-align: top;\n",
       "    }\n",
       "\n",
       "    .dataframe thead th {\n",
       "        text-align: right;\n",
       "    }\n",
       "</style>\n",
       "<table border=\"1\" class=\"dataframe\">\n",
       "  <thead>\n",
       "    <tr style=\"text-align: right;\">\n",
       "      <th></th>\n",
       "      <th>uuid_pv</th>\n",
       "      <th>document_id_pv</th>\n",
       "      <th>timestamp_pv</th>\n",
       "      <th>platform_pv</th>\n",
       "      <th>geo_location_pv</th>\n",
       "      <th>traffic_source_pv</th>\n",
       "    </tr>\n",
       "  </thead>\n",
       "  <tbody>\n",
       "    <tr>\n",
       "      <th>273</th>\n",
       "      <td>7af903047336f7</td>\n",
       "      <td>5410</td>\n",
       "      <td>63553585</td>\n",
       "      <td>1</td>\n",
       "      <td>US&gt;MI&gt;505</td>\n",
       "      <td>2</td>\n",
       "    </tr>\n",
       "    <tr>\n",
       "      <th>290</th>\n",
       "      <td>5fe4adf60dce62</td>\n",
       "      <td>7012</td>\n",
       "      <td>42055742</td>\n",
       "      <td>1</td>\n",
       "      <td>CA&gt;ON</td>\n",
       "      <td>1</td>\n",
       "    </tr>\n",
       "    <tr>\n",
       "      <th>440</th>\n",
       "      <td>eeb8c46c2eb234</td>\n",
       "      <td>7012</td>\n",
       "      <td>23428200</td>\n",
       "      <td>1</td>\n",
       "      <td>GB&gt;H9</td>\n",
       "      <td>2</td>\n",
       "    </tr>\n",
       "    <tr>\n",
       "      <th>1241</th>\n",
       "      <td>1df91eb130564c</td>\n",
       "      <td>8226</td>\n",
       "      <td>24067562</td>\n",
       "      <td>3</td>\n",
       "      <td>GB&gt;L2</td>\n",
       "      <td>2</td>\n",
       "    </tr>\n",
       "    <tr>\n",
       "      <th>1523</th>\n",
       "      <td>a0d65bd8d74d7e</td>\n",
       "      <td>10653</td>\n",
       "      <td>68132570</td>\n",
       "      <td>3</td>\n",
       "      <td>US&gt;MN&gt;613</td>\n",
       "      <td>2</td>\n",
       "    </tr>\n",
       "  </tbody>\n",
       "</table>\n",
       "</div>"
      ],
      "text/plain": [
       "             uuid_pv  document_id_pv  timestamp_pv  platform_pv  \\\n",
       "273   7af903047336f7            5410      63553585            1   \n",
       "290   5fe4adf60dce62            7012      42055742            1   \n",
       "440   eeb8c46c2eb234            7012      23428200            1   \n",
       "1241  1df91eb130564c            8226      24067562            3   \n",
       "1523  a0d65bd8d74d7e           10653      68132570            3   \n",
       "\n",
       "     geo_location_pv  traffic_source_pv  \n",
       "273        US>MI>505                  2  \n",
       "290            CA>ON                  1  \n",
       "440            GB>H9                  2  \n",
       "1241           GB>L2                  2  \n",
       "1523       US>MN>613                  2  "
      ]
     },
     "execution_count": 25,
     "metadata": {},
     "output_type": "execute_result"
    }
   ],
   "source": [
    "page_views_train_df1.head()"
   ]
  },
  {
   "cell_type": "code",
   "execution_count": 50,
   "metadata": {},
   "outputs": [],
   "source": [
    "# apply SELECT uuid_event FROM test_users_docs_timestamp_to_ignore  WHERE uuid_event = p.uuid_pv \n",
    "# AND document_id_promo = p.document_id_pv\n",
    "page_views_joined_df1 = test_users_docs_timestamp_to_ignore.merge(page_views_df, how='outer', left_on=['uuid_event','document_id_promo'], right_on = ['uuid_pv','document_id_pv'])"
   ]
  },
  {
   "cell_type": "code",
   "execution_count": 51,
   "metadata": {},
   "outputs": [
    {
     "data": {
      "text/html": [
       "<div>\n",
       "<style scoped>\n",
       "    .dataframe tbody tr th:only-of-type {\n",
       "        vertical-align: middle;\n",
       "    }\n",
       "\n",
       "    .dataframe tbody tr th {\n",
       "        vertical-align: top;\n",
       "    }\n",
       "\n",
       "    .dataframe thead th {\n",
       "        text-align: right;\n",
       "    }\n",
       "</style>\n",
       "<table border=\"1\" class=\"dataframe\">\n",
       "  <thead>\n",
       "    <tr style=\"text-align: right;\">\n",
       "      <th></th>\n",
       "      <th>uuid_event</th>\n",
       "      <th>document_id_promo</th>\n",
       "      <th>timestamp_event</th>\n",
       "      <th>uuid_pv</th>\n",
       "      <th>document_id_pv</th>\n",
       "      <th>timestamp_pv</th>\n",
       "      <th>platform_pv</th>\n",
       "      <th>geo_location_pv</th>\n",
       "      <th>traffic_source_pv</th>\n",
       "    </tr>\n",
       "  </thead>\n",
       "  <tbody>\n",
       "    <tr>\n",
       "      <th>0</th>\n",
       "      <td>None</td>\n",
       "      <td>null</td>\n",
       "      <td>null</td>\n",
       "      <td>1fd5f051fba643</td>\n",
       "      <td>120</td>\n",
       "      <td>31905835</td>\n",
       "      <td>1</td>\n",
       "      <td>RS</td>\n",
       "      <td>2</td>\n",
       "    </tr>\n",
       "    <tr>\n",
       "      <th>1</th>\n",
       "      <td>None</td>\n",
       "      <td>null</td>\n",
       "      <td>null</td>\n",
       "      <td>8557aa9004be3b</td>\n",
       "      <td>120</td>\n",
       "      <td>32053104</td>\n",
       "      <td>1</td>\n",
       "      <td>VN&gt;44</td>\n",
       "      <td>2</td>\n",
       "    </tr>\n",
       "    <tr>\n",
       "      <th>2</th>\n",
       "      <td>None</td>\n",
       "      <td>null</td>\n",
       "      <td>null</td>\n",
       "      <td>c351b277a358f0</td>\n",
       "      <td>120</td>\n",
       "      <td>54013023</td>\n",
       "      <td>1</td>\n",
       "      <td>KR&gt;12</td>\n",
       "      <td>1</td>\n",
       "    </tr>\n",
       "    <tr>\n",
       "      <th>3</th>\n",
       "      <td>None</td>\n",
       "      <td>null</td>\n",
       "      <td>null</td>\n",
       "      <td>8205775c5387f9</td>\n",
       "      <td>120</td>\n",
       "      <td>44196592</td>\n",
       "      <td>1</td>\n",
       "      <td>IN&gt;16</td>\n",
       "      <td>2</td>\n",
       "    </tr>\n",
       "    <tr>\n",
       "      <th>4</th>\n",
       "      <td>None</td>\n",
       "      <td>null</td>\n",
       "      <td>null</td>\n",
       "      <td>9cb0ccd8458371</td>\n",
       "      <td>120</td>\n",
       "      <td>65817371</td>\n",
       "      <td>1</td>\n",
       "      <td>US&gt;CA&gt;807</td>\n",
       "      <td>2</td>\n",
       "    </tr>\n",
       "  </tbody>\n",
       "</table>\n",
       "</div>"
      ],
      "text/plain": [
       "  uuid_event document_id_promo timestamp_event         uuid_pv  \\\n",
       "0       None              null            null  1fd5f051fba643   \n",
       "1       None              null            null  8557aa9004be3b   \n",
       "2       None              null            null  c351b277a358f0   \n",
       "3       None              null            null  8205775c5387f9   \n",
       "4       None              null            null  9cb0ccd8458371   \n",
       "\n",
       "   document_id_pv  timestamp_pv  platform_pv geo_location_pv  \\\n",
       "0             120      31905835            1              RS   \n",
       "1             120      32053104            1           VN>44   \n",
       "2             120      54013023            1           KR>12   \n",
       "3             120      44196592            1           IN>16   \n",
       "4             120      65817371            1       US>CA>807   \n",
       "\n",
       "   traffic_source_pv  \n",
       "0                  2  \n",
       "1                  2  \n",
       "2                  1  \n",
       "3                  2  \n",
       "4                  2  "
      ]
     },
     "execution_count": 51,
     "metadata": {},
     "output_type": "execute_result"
    }
   ],
   "source": [
    "page_views_joined_df1.head()"
   ]
  },
  {
   "cell_type": "code",
   "execution_count": 52,
   "metadata": {},
   "outputs": [],
   "source": [
    "# apply AND p.timestamp_pv >= timestamp_event\n",
    "page_views_joined_df2= page_views_joined_df1[page_views_joined_df1.timestamp_event >= page_views_joined_df1.timestamp_pv]"
   ]
  },
  {
   "cell_type": "code",
   "execution_count": 53,
   "metadata": {},
   "outputs": [
    {
     "data": {
      "text/html": [
       "<div>\n",
       "<style scoped>\n",
       "    .dataframe tbody tr th:only-of-type {\n",
       "        vertical-align: middle;\n",
       "    }\n",
       "\n",
       "    .dataframe tbody tr th {\n",
       "        vertical-align: top;\n",
       "    }\n",
       "\n",
       "    .dataframe thead th {\n",
       "        text-align: right;\n",
       "    }\n",
       "</style>\n",
       "<table border=\"1\" class=\"dataframe\">\n",
       "  <thead>\n",
       "    <tr style=\"text-align: right;\">\n",
       "      <th></th>\n",
       "      <th>uuid_event</th>\n",
       "      <th>document_id_promo</th>\n",
       "      <th>timestamp_event</th>\n",
       "      <th>uuid_pv</th>\n",
       "      <th>document_id_pv</th>\n",
       "      <th>timestamp_pv</th>\n",
       "      <th>platform_pv</th>\n",
       "      <th>geo_location_pv</th>\n",
       "      <th>traffic_source_pv</th>\n",
       "    </tr>\n",
       "  </thead>\n",
       "  <tbody>\n",
       "    <tr>\n",
       "      <th>10974475</th>\n",
       "      <td>e61e946589a203</td>\n",
       "      <td>1362397</td>\n",
       "      <td>60406889</td>\n",
       "      <td>e61e946589a203</td>\n",
       "      <td>1362397</td>\n",
       "      <td>60299153</td>\n",
       "      <td>1</td>\n",
       "      <td>US&gt;PA&gt;504</td>\n",
       "      <td>1</td>\n",
       "    </tr>\n",
       "  </tbody>\n",
       "</table>\n",
       "</div>"
      ],
      "text/plain": [
       "              uuid_event  document_id_promo  timestamp_event         uuid_pv  \\\n",
       "10974475  e61e946589a203            1362397         60406889  e61e946589a203   \n",
       "\n",
       "          document_id_pv  timestamp_pv  platform_pv geo_location_pv  \\\n",
       "10974475         1362397      60299153            1       US>PA>504   \n",
       "\n",
       "          traffic_source_pv  \n",
       "10974475                  1  "
      ]
     },
     "execution_count": 53,
     "metadata": {},
     "output_type": "execute_result"
    }
   ],
   "source": [
    "page_views_joined_df2.head()"
   ]
  },
  {
   "cell_type": "code",
   "execution_count": 42,
   "metadata": {},
   "outputs": [
    {
     "data": {
      "text/plain": [
       "((11047850, 9), (1048575, 3), (9999999, 6))"
      ]
     },
     "execution_count": 42,
     "metadata": {},
     "output_type": "execute_result"
    }
   ],
   "source": [
    "page_views_joined_df1.shape, test_users_docs_timestamp_to_ignore.shape, page_views_df.shape"
   ]
  },
  {
   "cell_type": "code",
   "execution_count": 43,
   "metadata": {},
   "outputs": [],
   "source": [
    "#test_users_docs_timestamp_to_ignore.loc[(test_users_docs_timestamp_to_ignore['uuid_event'].isin(page_views_df['uuid_pv'])) & (test_users_docs_timestamp_to_ignore['document_id_promo'].isin(page_views_df['document_id_pv']))]"
   ]
  },
  {
   "cell_type": "code",
   "execution_count": 92,
   "metadata": {},
   "outputs": [
    {
     "name": "stdout",
     "output_type": "stream",
     "text": [
      "Processing document frequencies...\n"
     ]
    }
   ],
   "source": [
    "print('Processing document frequencies...')\n",
    "\n",
    "#both dfs here are cudf dataframes\n",
    "documents_total = documents_meta_df.shape[0]\n",
    "\n",
    "categories_docs_counts = documents_categories_df.groupby(['category_id']).count()\n",
    "len(categories_docs_counts)\n",
    "\n",
    "df_filenames_suffix = ''\n",
    "if evaluation:\n",
    "    df_filenames_suffix = '_eval'\n",
    "\n",
    "with open(OUTPUT_BUCKET_FOLDER + 'categories_docs_counts' + df_filenames_suffix + '.pickle', 'wb') as output:\n",
    "    pickle.dump(categories_docs_counts, output)\n",
    "\n",
    "topics_docs_counts = documents_topics_df.groupby(['topic_id']).count()\n",
    "len(topics_docs_counts)\n",
    "\n",
    "with open(OUTPUT_BUCKET_FOLDER + 'topics_docs_counts' + df_filenames_suffix + '.pickle', 'wb') as output:\n",
    "    pickle.dump(topics_docs_counts, output)\n",
    "    \n",
    "\n",
    "entities_docs_counts = documents_entities_df.groupby(['entity_id']).count()\n",
    "len(entities_docs_counts)\n",
    "\n",
    "with open(OUTPUT_BUCKET_FOLDER + 'entities_docs_counts' + df_filenames_suffix + '.pickle', 'wb') as output:\n",
    "    pickle.dump(entities_docs_counts, output)"
   ]
  },
  {
   "cell_type": "code",
   "execution_count": null,
   "metadata": {},
   "outputs": [],
   "source": [
    "print('Processing user profiles...')\n",
    "\n",
    "null_to_empty_list = lambda x: x if isinstance(x, list) else []\n",
    "null_to_empty_dict = lambda x: x if isinstance(x, dict) else {}\n",
    "null_to_empty_string = lambda x: x if isinstance(x, str) else ''\n",
    "null_to_minus_one = lambda x: -1 if np.isnan(x) else x\n",
    "null_to_zero = lambda x: 0 if np.isnan(x) else x"
   ]
  },
  {
   "cell_type": "code",
   "execution_count": 93,
   "metadata": {},
   "outputs": [],
   "source": [
    "def get_user_aspects(docs_aspects, aspect_docs_counts):\n",
    "    docs_aspects_merged_lists = defaultdict(list)\n",
    "  \n",
    "    for doc_aspects in docs_aspects:\n",
    "        #print(doc_aspects)\n",
    "        for key in doc_aspects.keys():\n",
    "            #print(key)\n",
    "            docs_aspects_merged_lists[key].append(doc_aspects[key])\n",
    "      \n",
    "    docs_aspects_stats = {}\n",
    "    \n",
    "    for key in docs_aspects_merged_lists.keys():\n",
    "        aspect_list = docs_aspects_merged_lists[key]\n",
    "        tf = len(aspect_list)\n",
    "        idf = math.log(documents_total / float(aspect_docs_counts[key]))\n",
    "    \n",
    "        confid_mean = sum(aspect_list) / float(len(aspect_list))\n",
    "        print([tf*idf, confid_mean])\n",
    "        docs_aspects_stats[key] = [tf*idf, confid_mean]\n",
    "      \n",
    "    return docs_aspects_stats\n",
    "\n",
    "\n",
    "def generate_user_profile(docs_aspects_list, docs_aspects_confidence_list, aspect_docs_counts = categories_docs_counts):\n",
    "    docs_aspects = []\n",
    "    for doc_aspects_list, doc_aspects_confidence_list in zip(docs_aspects_list, docs_aspects_confidence_list):\n",
    "        doc_aspects = dict(zip(doc_aspects_list, doc_aspects_confidence_list))\n",
    "        docs_aspects.append(doc_aspects)\n",
    "      \n",
    "    user_aspects = get_user_aspects(docs_aspects, aspect_docs_counts)\n",
    "    return user_aspects"
   ]
  },
  {
   "cell_type": "code",
   "execution_count": null,
   "metadata": {},
   "outputs": [],
   "source": [
    "user_profiles_pdf['categories'] = page_views_by_user_pdf.apply(lambda x: generate_user_profile(x.category_id_lists, x.cat_confidence_level_lists), axis=1)\n",
    "#user_profiles_pdf = pd.read_pickle('./outbrain/users_profile_pdf.pkl')"
   ]
  },
  {
   "cell_type": "code",
   "execution_count": null,
   "metadata": {},
   "outputs": [],
   "source": [
    "list_len_udf = lambda x: len(x) if isinstance(x, list) else 0\n",
    "user_profiles_pdf['views'] = page_views_by_user_pdf.loc[:, 'document_id_pv_list'].apply(list_len_udf)"
   ]
  }
 ],
 "metadata": {
  "kernelspec": {
   "display_name": "Python 3",
   "language": "python",
   "name": "python3"
  },
  "language_info": {
   "codemirror_mode": {
    "name": "ipython",
    "version": 3
   },
   "file_extension": ".py",
   "mimetype": "text/x-python",
   "name": "python",
   "nbconvert_exporter": "python",
   "pygments_lexer": "ipython3",
   "version": "3.7.6"
  }
 },
 "nbformat": 4,
 "nbformat_minor": 4
}
