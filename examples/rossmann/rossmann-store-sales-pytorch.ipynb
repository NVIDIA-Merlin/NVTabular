{
 "cells": [
  {
   "cell_type": "code",
   "execution_count": 1,
   "metadata": {
    "execution": {
     "iopub.execute_input": "2020-12-09T23:34:00.158056Z",
     "iopub.status.busy": "2020-12-09T23:34:00.157495Z",
     "iopub.status.idle": "2020-12-09T23:34:00.159833Z",
     "shell.execute_reply": "2020-12-09T23:34:00.159365Z"
    }
   },
   "outputs": [],
   "source": [
    "# Copyright 2020 NVIDIA Corporation. All Rights Reserved.\n",
    "#\n",
    "# Licensed under the Apache License, Version 2.0 (the \"License\");\n",
    "# you may not use this file except in compliance with the License.\n",
    "# You may obtain a copy of the License at\n",
    "#\n",
    "#     http://www.apache.org/licenses/LICENSE-2.0\n",
    "#\n",
    "# Unless required by applicable law or agreed to in writing, software\n",
    "# distributed under the License is distributed on an \"AS IS\" BASIS,\n",
    "# WITHOUT WARRANTIES OR CONDITIONS OF ANY KIND, either express or implied.\n",
    "# See the License for the specific language governing permissions and\n",
    "# limitations under the License.\n",
    "# =============================================================================="
   ]
  },
  {
   "cell_type": "markdown",
   "metadata": {},
   "source": [
    "<img src=\"http://developer.download.nvidia.com/compute/machine-learning/frameworks/nvidia_logo.png\" style=\"width: 90px; float: right;\">\n",
    "\n",
    "# NVTabular demo on Rossmann data - PyTorch\n",
    "\n",
    "## Overview\n",
    "\n",
    "NVTabular is a feature engineering and preprocessing library for tabular data designed to quickly and easily manipulate terabyte scale datasets used to train deep learning based recommender systems.  It provides a high level abstraction to simplify code and accelerates computation on the GPU using the RAPIDS cuDF library."
   ]
  },
  {
   "cell_type": "markdown",
   "metadata": {},
   "source": [
    "### Learning objectives\n",
    "\n",
    "In the previous notebooks ([rossmann-store-sales-preproc.ipynb](https://github.com/NVIDIA/NVTabular/blob/main/examples/rossmann/rossmann-store-sales-preproc.ipynb) and [rossmann-store-sales-feature-engineering.ipynb](https://github.com/NVIDIA/NVTabular/blob/main/examples/rossmann/rossmann-store-sales-feature-engineering.ipynb)), we downloaded, preprocessed and created features for the dataset. Now, we are ready to train our deep learning model on the dataset. In this notebook, we use **PyTorch** with the NVTabular data loader for PyTorch to accelereate the training pipeline."
   ]
  },
  {
   "cell_type": "code",
   "execution_count": 2,
   "metadata": {
    "execution": {
     "iopub.execute_input": "2020-12-09T23:34:00.163145Z",
     "iopub.status.busy": "2020-12-09T23:34:00.162689Z",
     "iopub.status.idle": "2020-12-09T23:34:02.057533Z",
     "shell.execute_reply": "2020-12-09T23:34:02.057909Z"
    }
   },
   "outputs": [],
   "source": [
    "import os\n",
    "import math\n",
    "import nvtabular as nvt\n",
    "import glob"
   ]
  },
  {
   "cell_type": "markdown",
   "metadata": {},
   "source": [
    "## Loading NVTabular workflow\n",
    "This time, we only need to define our data directories. We can load the data schema from the NVTabular workflow."
   ]
  },
  {
   "cell_type": "code",
   "execution_count": 3,
   "metadata": {
    "execution": {
     "iopub.execute_input": "2020-12-09T23:34:02.062672Z",
     "iopub.status.busy": "2020-12-09T23:34:02.062080Z",
     "iopub.status.idle": "2020-12-09T23:34:02.064319Z",
     "shell.execute_reply": "2020-12-09T23:34:02.063911Z"
    }
   },
   "outputs": [],
   "source": [
    "DATA_DIR = os.environ.get(\"OUTPUT_DATA_DIR\", \"./data\")\n",
    "INPUT_DATA_DIR = os.environ.get(\"INPUT_DATA_DIR\", \"./data\")\n",
    "PREPROCESS_DIR = os.path.join(INPUT_DATA_DIR, 'ross_pre/')\n",
    "PREPROCESS_DIR_TRAIN = os.path.join(PREPROCESS_DIR, 'train')\n",
    "PREPROCESS_DIR_VALID = os.path.join(PREPROCESS_DIR, 'valid')"
   ]
  },
  {
   "cell_type": "markdown",
   "metadata": {},
   "source": [
    "What files are available to train on in our directories?"
   ]
  },
  {
   "cell_type": "code",
   "execution_count": 4,
   "metadata": {
    "execution": {
     "iopub.execute_input": "2020-12-09T23:34:02.068105Z",
     "iopub.status.busy": "2020-12-09T23:34:02.067594Z",
     "iopub.status.idle": "2020-12-09T23:34:02.619485Z",
     "shell.execute_reply": "2020-12-09T23:34:02.619836Z"
    }
   },
   "outputs": [
    {
     "name": "stdout",
     "output_type": "stream",
     "text": [
      "stats_and_workflow  train  valid\n"
     ]
    }
   ],
   "source": [
    "!ls $PREPROCESS_DIR"
   ]
  },
  {
   "cell_type": "code",
   "execution_count": 5,
   "metadata": {
    "execution": {
     "iopub.execute_input": "2020-12-09T23:34:02.627413Z",
     "iopub.status.busy": "2020-12-09T23:34:02.623677Z",
     "iopub.status.idle": "2020-12-09T23:34:03.158154Z",
     "shell.execute_reply": "2020-12-09T23:34:03.158496Z"
    }
   },
   "outputs": [
    {
     "name": "stdout",
     "output_type": "stream",
     "text": [
      "0.7fcd6d8270764d4990ad7734342596f2.parquet  _file_list.txt  _metadata.json\n",
      "1.461032071b2343fd8477bf5b5dc18545.parquet  _metadata\n"
     ]
    }
   ],
   "source": [
    "!ls $PREPROCESS_DIR_TRAIN"
   ]
  },
  {
   "cell_type": "code",
   "execution_count": 6,
   "metadata": {
    "execution": {
     "iopub.execute_input": "2020-12-09T23:34:03.164912Z",
     "iopub.status.busy": "2020-12-09T23:34:03.161637Z",
     "iopub.status.idle": "2020-12-09T23:34:03.700836Z",
     "shell.execute_reply": "2020-12-09T23:34:03.701213Z"
    }
   },
   "outputs": [
    {
     "name": "stdout",
     "output_type": "stream",
     "text": [
      "_metadata  part.0.parquet\n"
     ]
    }
   ],
   "source": [
    "!ls $PREPROCESS_DIR_VALID"
   ]
  },
  {
   "cell_type": "markdown",
   "metadata": {},
   "source": [
    "To load a saved NVTabular workflow, we need to initalize a NVTabular workflow, first."
   ]
  },
  {
   "cell_type": "code",
   "execution_count": 7,
   "metadata": {
    "execution": {
     "iopub.execute_input": "2020-12-09T23:34:03.724731Z",
     "iopub.status.busy": "2020-12-09T23:34:03.715161Z",
     "iopub.status.idle": "2020-12-09T23:34:03.727038Z",
     "shell.execute_reply": "2020-12-09T23:34:03.726599Z"
    }
   },
   "outputs": [],
   "source": [
    "# Note, we can initialize it with an empty schema\n",
    "proc = nvt.Workflow(\n",
    "    cat_names=[],\n",
    "    cont_names=[],\n",
    "    label_name=[]\n",
    ")\n",
    "proc.load_stats(os.path.join(PREPROCESS_DIR, 'stats_and_workflow'))"
   ]
  },
  {
   "cell_type": "markdown",
   "metadata": {},
   "source": [
    "We extract the categorical, continuous and label column names from the NVTabular workflow."
   ]
  },
  {
   "cell_type": "code",
   "execution_count": 8,
   "metadata": {
    "execution": {
     "iopub.execute_input": "2020-12-09T23:34:03.730696Z",
     "iopub.status.busy": "2020-12-09T23:34:03.730253Z",
     "iopub.status.idle": "2020-12-09T23:34:03.732468Z",
     "shell.execute_reply": "2020-12-09T23:34:03.732102Z"
    }
   },
   "outputs": [],
   "source": [
    "CATEGORICAL_COLUMNS = proc.columns_ctx['final']['cols']['categorical']\n",
    "CONTINUOUS_COLUMNS = proc.columns_ctx['final']['cols']['continuous']\n",
    "LABEL_COLUMNS = proc.columns_ctx['final']['cols']['label']\n",
    "\n",
    "COLUMNS = CATEGORICAL_COLUMNS + CONTINUOUS_COLUMNS + LABEL_COLUMNS"
   ]
  },
  {
   "cell_type": "markdown",
   "metadata": {},
   "source": [
    "We load the statistics for embedding tables of our neural network. The following shows the cardinality of each categorical variable along with its associated embedding size. Each entry is of the form `(cardinality, embedding_size)`."
   ]
  },
  {
   "cell_type": "code",
   "execution_count": 9,
   "metadata": {
    "execution": {
     "iopub.execute_input": "2020-12-09T23:34:03.736225Z",
     "iopub.status.busy": "2020-12-09T23:34:03.735788Z",
     "iopub.status.idle": "2020-12-09T23:34:03.757466Z",
     "shell.execute_reply": "2020-12-09T23:34:03.757088Z"
    }
   },
   "outputs": [
    {
     "data": {
      "text/plain": [
       "{'Assortment': (4, 3),\n",
       " 'CompetitionMonthsOpen': (26, 10),\n",
       " 'CompetitionOpenSinceYear': (24, 9),\n",
       " 'Day': (32, 11),\n",
       " 'DayOfWeek': (8, 5),\n",
       " 'Events': (22, 9),\n",
       " 'Month': (13, 7),\n",
       " 'Promo2SinceYear': (9, 5),\n",
       " 'Promo2Weeks': (27, 10),\n",
       " 'PromoInterval': (4, 3),\n",
       " 'Promo_bw': (7, 5),\n",
       " 'Promo_fw': (7, 5),\n",
       " 'SchoolHoliday_bw': (9, 5),\n",
       " 'SchoolHoliday_fw': (9, 5),\n",
       " 'State': (13, 7),\n",
       " 'StateHoliday': (3, 3),\n",
       " 'StateHoliday_bw': (4, 3),\n",
       " 'StateHoliday_fw': (4, 3),\n",
       " 'Store': (1116, 16),\n",
       " 'StoreType': (5, 4),\n",
       " 'Week': (53, 15),\n",
       " 'Year': (4, 3)}"
      ]
     },
     "execution_count": 1,
     "metadata": {},
     "output_type": "execute_result"
    }
   ],
   "source": [
    "EMBEDDING_TABLE_SHAPES = nvt.ops.get_embedding_sizes(proc)\n",
    "EMBEDDING_TABLE_SHAPES"
   ]
  },
  {
   "cell_type": "code",
   "execution_count": 10,
   "metadata": {
    "execution": {
     "iopub.execute_input": "2020-12-09T23:34:03.760593Z",
     "iopub.status.busy": "2020-12-09T23:34:03.760134Z",
     "iopub.status.idle": "2020-12-09T23:34:03.762359Z",
     "shell.execute_reply": "2020-12-09T23:34:03.761914Z"
    }
   },
   "outputs": [],
   "source": [
    "# Note, we can initialize it with an empty schema\n",
    "proc = nvt.Workflow(\n",
    "    cat_names=CATEGORICAL_COLUMNS,\n",
    "    cont_names=CONTINUOUS_COLUMNS,\n",
    "    label_name=LABEL_COLUMNS\n",
    ")"
   ]
  },
  {
   "cell_type": "code",
   "execution_count": 11,
   "metadata": {
    "execution": {
     "iopub.execute_input": "2020-12-09T23:34:03.784115Z",
     "iopub.status.busy": "2020-12-09T23:34:03.780473Z",
     "iopub.status.idle": "2020-12-09T23:34:03.798723Z",
     "shell.execute_reply": "2020-12-09T23:34:03.798279Z"
    }
   },
   "outputs": [],
   "source": [
    "proc.load_stats(os.path.join(PREPROCESS_DIR, 'stats_and_workflow'))\n",
    "EMBEDDING_TABLE_SHAPES = nvt.ops.get_embedding_sizes(proc)"
   ]
  },
  {
   "cell_type": "markdown",
   "metadata": {},
   "source": [
    "## Training a Network\n",
    "\n",
    "Now that our data is preprocessed and saved out, we can leverage `dataset`s to read through the preprocessed parquet files in an online fashion to train neural networks.\n",
    "\n",
    "We'll start by setting some universal hyperparameters for our model and optimizer. These settings will be the same across all of the frameworks that we explore in the different notebooks."
   ]
  },
  {
   "cell_type": "code",
   "execution_count": 12,
   "metadata": {
    "execution": {
     "iopub.execute_input": "2020-12-09T23:34:03.803565Z",
     "iopub.status.busy": "2020-12-09T23:34:03.803050Z",
     "iopub.status.idle": "2020-12-09T23:34:03.805346Z",
     "shell.execute_reply": "2020-12-09T23:34:03.804981Z"
    }
   },
   "outputs": [],
   "source": [
    "EMBEDDING_DROPOUT_RATE = 0.04\n",
    "DROPOUT_RATES = [0.001, 0.01]\n",
    "HIDDEN_DIMS = [1000, 500]\n",
    "BATCH_SIZE = 65536\n",
    "LEARNING_RATE = 0.001\n",
    "EPOCHS = 25\n",
    "\n",
    "# TODO: Calculate on the fly rather than recalling from previous analysis.\n",
    "MAX_SALES_IN_TRAINING_SET = 38722.0\n",
    "MAX_LOG_SALES_PREDICTION = 1.2 * math.log(MAX_SALES_IN_TRAINING_SET + 1.0)\n",
    "\n",
    "TRAIN_PATHS = sorted(glob.glob(os.path.join(PREPROCESS_DIR_TRAIN, '*.parquet')))\n",
    "VALID_PATHS = sorted(glob.glob(os.path.join(PREPROCESS_DIR_VALID, '*.parquet')))"
   ]
  },
  {
   "cell_type": "markdown",
   "metadata": {},
   "source": [
    "## PyTorch<a id=\"PyTorch\"></a>\n"
   ]
  },
  {
   "cell_type": "markdown",
   "metadata": {},
   "source": [
    "### PyTorch: Preparing Datasets"
   ]
  },
  {
   "cell_type": "code",
   "execution_count": 13,
   "metadata": {
    "execution": {
     "iopub.execute_input": "2020-12-09T23:34:03.810511Z",
     "iopub.status.busy": "2020-12-09T23:34:03.810061Z",
     "iopub.status.idle": "2020-12-09T23:34:06.617231Z",
     "shell.execute_reply": "2020-12-09T23:34:06.617637Z"
    }
   },
   "outputs": [],
   "source": [
    "import torch\n",
    "from nvtabular.loader.torch import TorchAsyncItr, DLDataLoader\n",
    "from nvtabular.framework_utils.torch.models import Model\n",
    "from nvtabular.framework_utils.torch.utils import process_epoch\n",
    "\n",
    "# TensorItrDataset returns a single batch of x_cat, x_cont, y.\n",
    "collate_fn = lambda x: x\n",
    "\n",
    "train_dataset = TorchAsyncItr(nvt.Dataset(TRAIN_PATHS), batch_size=BATCH_SIZE, cats=CATEGORICAL_COLUMNS, conts=CONTINUOUS_COLUMNS, labels=LABEL_COLUMNS)\n",
    "train_loader = DLDataLoader(train_dataset, batch_size=None, collate_fn=collate_fn, pin_memory=False, num_workers=0)\n",
    "\n",
    "valid_dataset = TorchAsyncItr(nvt.Dataset(VALID_PATHS), batch_size=BATCH_SIZE, cats=CATEGORICAL_COLUMNS, conts=CONTINUOUS_COLUMNS, labels=LABEL_COLUMNS)\n",
    "valid_loader = DLDataLoader(valid_dataset, batch_size=None, collate_fn=collate_fn, pin_memory=False, num_workers=0)"
   ]
  },
  {
   "cell_type": "markdown",
   "metadata": {},
   "source": [
    "### PyTorch: Defining a Model"
   ]
  },
  {
   "cell_type": "code",
   "execution_count": 14,
   "metadata": {
    "execution": {
     "iopub.execute_input": "2020-12-09T23:34:06.621685Z",
     "iopub.status.busy": "2020-12-09T23:34:06.621214Z",
     "iopub.status.idle": "2020-12-09T23:34:10.337815Z",
     "shell.execute_reply": "2020-12-09T23:34:10.338194Z"
    }
   },
   "outputs": [],
   "source": [
    "model = Model(\n",
    "    embedding_table_shapes=EMBEDDING_TABLE_SHAPES,\n",
    "    num_continuous=len(CONTINUOUS_COLUMNS),\n",
    "    emb_dropout=EMBEDDING_DROPOUT_RATE,\n",
    "    layer_hidden_dims=HIDDEN_DIMS,\n",
    "    layer_dropout_rates=DROPOUT_RATES,\n",
    "    max_output=MAX_LOG_SALES_PREDICTION\n",
    ").to('cuda')"
   ]
  },
  {
   "cell_type": "markdown",
   "metadata": {},
   "source": [
    "### PyTorch: Training"
   ]
  },
  {
   "cell_type": "code",
   "execution_count": 15,
   "metadata": {
    "execution": {
     "iopub.execute_input": "2020-12-09T23:34:10.342538Z",
     "iopub.status.busy": "2020-12-09T23:34:10.342079Z",
     "iopub.status.idle": "2020-12-09T23:34:10.343989Z",
     "shell.execute_reply": "2020-12-09T23:34:10.344354Z"
    }
   },
   "outputs": [],
   "source": [
    "optimizer = torch.optim.Adam(model.parameters(), lr=LEARNING_RATE)"
   ]
  },
  {
   "cell_type": "code",
   "execution_count": 16,
   "metadata": {
    "execution": {
     "iopub.execute_input": "2020-12-09T23:34:10.348441Z",
     "iopub.status.busy": "2020-12-09T23:34:10.347958Z",
     "iopub.status.idle": "2020-12-09T23:34:10.349912Z",
     "shell.execute_reply": "2020-12-09T23:34:10.350272Z"
    }
   },
   "outputs": [],
   "source": [
    "def rmspe_func(y_pred, y):\n",
    "    \"Return y_pred and y to non-log space and compute RMSPE\"\n",
    "    y_pred, y = torch.exp(y_pred) - 1, torch.exp(y) - 1\n",
    "    pct_var = (y_pred - y) / y\n",
    "    return (pct_var**2).mean().pow(0.5)"
   ]
  },
  {
   "cell_type": "code",
   "execution_count": 17,
   "metadata": {
    "execution": {
     "iopub.execute_input": "2020-12-09T23:34:10.354663Z",
     "iopub.status.busy": "2020-12-09T23:34:10.354187Z",
     "iopub.status.idle": "2020-12-09T23:35:08.859553Z",
     "shell.execute_reply": "2020-12-09T23:35:08.859949Z"
    }
   },
   "outputs": [
    {
     "name": "stdout",
     "output_type": "stream",
     "text": [
      "Total batches: 12\n",
      "Total batches: 0\n",
      "Epoch 00. Train loss: 8.9780. Train RMSPE: inf. Valid loss: 3.8806. Valid RMSPE: 0.8406.\n",
      "Total batches: 12\n",
      "Total batches: 0\n",
      "Epoch 01. Train loss: 3.9594. Train RMSPE: 0.8126. Valid loss: 3.3898. Valid RMSPE: 0.8194.\n",
      "Total batches: 12\n",
      "Total batches: 0\n",
      "Epoch 02. Train loss: 2.5771. Train RMSPE: 0.7610. Valid loss: 1.8790. Valid RMSPE: 0.7111.\n",
      "Total batches: 12\n",
      "Total batches: 0\n",
      "Epoch 03. Train loss: 1.3235. Train RMSPE: 0.6399. Valid loss: 0.8465. Valid RMSPE: 0.5532.\n",
      "Total batches: 12\n",
      "Total batches: 0\n",
      "Epoch 04. Train loss: 0.4674. Train RMSPE: 0.5101. Valid loss: 0.2422. Valid RMSPE: 0.4450.\n",
      "Total batches: 12\n",
      "Total batches: 0\n",
      "Epoch 05. Train loss: 0.2244. Train RMSPE: 0.6031. Valid loss: 0.2010. Valid RMSPE: 0.5736.\n",
      "Total batches: 12\n",
      "Total batches: 0\n",
      "Epoch 06. Train loss: 0.2044. Train RMSPE: 0.6405. Valid loss: 0.1817. Valid RMSPE: 0.5311.\n",
      "Total batches: 12\n",
      "Total batches: 0\n",
      "Epoch 07. Train loss: 0.1788. Train RMSPE: 0.5585. Valid loss: 0.1588. Valid RMSPE: 0.4458.\n",
      "Total batches: 12\n",
      "Total batches: 0\n",
      "Epoch 08. Train loss: 0.1621. Train RMSPE: 0.5095. Valid loss: 0.1467. Valid RMSPE: 0.4035.\n",
      "Total batches: 12\n",
      "Total batches: 0\n",
      "Epoch 09. Train loss: 0.1511. Train RMSPE: 0.4498. Valid loss: 0.1330. Valid RMSPE: 0.3957.\n",
      "Total batches: 12\n",
      "Total batches: 0\n",
      "Epoch 10. Train loss: 0.1420. Train RMSPE: 0.4781. Valid loss: 0.1263. Valid RMSPE: 0.3852.\n",
      "Total batches: 12\n",
      "Total batches: 0\n",
      "Epoch 11. Train loss: 0.1340. Train RMSPE: 0.4367. Valid loss: 0.1193. Valid RMSPE: 0.3656.\n",
      "Total batches: 12\n",
      "Total batches: 0\n",
      "Epoch 12. Train loss: 0.1278. Train RMSPE: 0.4255. Valid loss: 0.1106. Valid RMSPE: 0.3626.\n",
      "Total batches: 12\n",
      "Total batches: 0\n",
      "Epoch 13. Train loss: 0.1217. Train RMSPE: 0.4061. Valid loss: 0.1062. Valid RMSPE: 0.3465.\n",
      "Total batches: 12\n",
      "Total batches: 0\n",
      "Epoch 14. Train loss: 0.1167. Train RMSPE: 0.4061. Valid loss: 0.1013. Valid RMSPE: 0.3446.\n",
      "Total batches: 12\n",
      "Total batches: 0\n",
      "Epoch 15. Train loss: 0.1121. Train RMSPE: 0.3919. Valid loss: 0.0966. Valid RMSPE: 0.3292.\n",
      "Total batches: 12\n",
      "Total batches: 0\n",
      "Epoch 16. Train loss: 0.1073. Train RMSPE: 0.3808. Valid loss: 0.0917. Valid RMSPE: 0.3217.\n",
      "Total batches: 12\n",
      "Total batches: 0\n",
      "Epoch 17. Train loss: 0.1038. Train RMSPE: 0.3774. Valid loss: 0.0915. Valid RMSPE: 0.3241.\n",
      "Total batches: 12\n",
      "Total batches: 0\n",
      "Epoch 18. Train loss: 0.1017. Train RMSPE: 0.3819. Valid loss: 0.0859. Valid RMSPE: 0.3019.\n",
      "Total batches: 12\n",
      "Total batches: 0\n",
      "Epoch 19. Train loss: 0.0974. Train RMSPE: 0.3639. Valid loss: 0.0834. Valid RMSPE: 0.3032.\n",
      "Total batches: 12\n",
      "Total batches: 0\n",
      "Epoch 20. Train loss: 0.0943. Train RMSPE: 0.3652. Valid loss: 0.0874. Valid RMSPE: 0.3060.\n",
      "Total batches: 12\n",
      "Total batches: 0\n",
      "Epoch 21. Train loss: 0.0942. Train RMSPE: 0.3691. Valid loss: 0.0826. Valid RMSPE: 0.3030.\n",
      "Total batches: 12\n",
      "Total batches: 0\n",
      "Epoch 22. Train loss: 0.0903. Train RMSPE: 0.3533. Valid loss: 0.0756. Valid RMSPE: 0.2910.\n",
      "Total batches: 12\n",
      "Total batches: 0\n",
      "Epoch 23. Train loss: 0.0860. Train RMSPE: 0.3708. Valid loss: 0.0709. Valid RMSPE: 0.2835.\n",
      "Total batches: 12\n",
      "Total batches: 0\n",
      "Epoch 24. Train loss: 0.0835. Train RMSPE: 0.3361. Valid loss: 0.0696. Valid RMSPE: 0.2766.\n",
      "CPU times: user 37.6 s, sys: 16.4 s, total: 54 s\n",
      "Wall time: 58.5 s\n"
     ]
    }
   ],
   "source": [
    "%%time\n",
    "\n",
    "for epoch in range(EPOCHS):\n",
    "    train_loss, y_pred, y = process_epoch(train_loader, model, train=True, optimizer=optimizer)\n",
    "    train_rmspe = rmspe_func(y_pred, y)\n",
    "    valid_loss, y_pred, y = process_epoch(valid_loader, model, train=False)\n",
    "    valid_rmspe = rmspe_func(y_pred, y)\n",
    "    print(f'Epoch {epoch:02d}. Train loss: {train_loss:.4f}. Train RMSPE: {train_rmspe:.4f}. Valid loss: {valid_loss:.4f}. Valid RMSPE: {valid_rmspe:.4f}.')"
   ]
  }
 ],
 "metadata": {
  "file_extension": ".py",
  "kernelspec": {
   "display_name": "Python 3",
   "language": "python",
   "name": "python3"
  },
  "language_info": {
   "codemirror_mode": {
    "name": "ipython",
    "version": 3
   },
   "file_extension": ".py",
   "mimetype": "text/x-python",
   "name": "python",
   "nbconvert_exporter": "python",
   "pygments_lexer": "ipython3",
   "version": "3.7.8"
  },
  "mimetype": "text/x-python",
  "name": "python",
  "npconvert_exporter": "python",
  "pygments_lexer": "ipython3",
  "version": 3
 },
 "nbformat": 4,
 "nbformat_minor": 4
}
