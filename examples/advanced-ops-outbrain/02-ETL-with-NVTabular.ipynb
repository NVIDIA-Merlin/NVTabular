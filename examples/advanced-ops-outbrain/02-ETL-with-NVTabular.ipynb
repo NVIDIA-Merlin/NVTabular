{
 "cells": [
  {
   "cell_type": "code",
   "execution_count": 1,
   "metadata": {},
   "outputs": [],
   "source": [
    "# Copyright 2020 NVIDIA Corporation. All Rights Reserved.\n",
    "#\n",
    "# Licensed under the Apache License, Version 2.0 (the \"License\");\n",
    "# you may not use this file except in compliance with the License.\n",
    "# You may obtain a copy of the License at\n",
    "#\n",
    "#     http://www.apache.org/licenses/LICENSE-2.0\n",
    "#\n",
    "# Unless required by applicable law or agreed to in writing, software\n",
    "# distributed under the License is distributed on an \"AS IS\" BASIS,\n",
    "# WITHOUT WARRANTIES OR CONDITIONS OF ANY KIND, either express or implied.\n",
    "# See the License for the specific language governing permissions and\n",
    "# limitations under the License.\n",
    "# =============================================================================="
   ]
  },
  {
   "cell_type": "markdown",
   "metadata": {},
   "source": [
    "# Getting Started Outbrain: ETL with NVTabular"
   ]
  },
  {
   "cell_type": "markdown",
   "metadata": {},
   "source": [
    "## Overview"
   ]
  },
  {
   "cell_type": "markdown",
   "metadata": {},
   "source": [
    "In this notebook we will do preprocessing and feature engineering using [Kaggle Outbrain dataset](https://www.kaggle.com/c/outbrain-click-prediction).\n",
    "\n",
    "**Learning objectives**\n",
    "\n",
    "In this notebook, we learn how to \n",
    "\n",
    "- Use LambdaOp for custom row-wise dataframe manipulations with NVTabular\n",
    "- Preprocess single-hot categorical input features with NVTabular\n",
    "- Apply TargetEncoding to categorical features\n",
    "- Create a custom operator to create time features\n",
    "- Apply ColumnSimilarity to calculate the similarity between two columns using tf-idf metric"
   ]
  },
  {
   "cell_type": "code",
   "execution_count": 2,
   "metadata": {},
   "outputs": [],
   "source": [
    "import os\n",
    "import glob\n",
    "import time\n",
    "import datetime\n",
    "import math\n",
    "import graphviz\n",
    "import gc\n",
    "\n",
    "import cupy\n",
    "import cudf\n",
    "import rmm\n",
    "from numba import cuda\n",
    "import numpy as np\n",
    "\n",
    "import nvtabular as nvt\n",
    "from nvtabular.io import Shuffle\n",
    "from nvtabular.ops import Normalize, FillMedian, FillMissing, Categorify, LogOp, JoinExternal, Dropna, LambdaOp, JoinGroupby, HashBucket, TargetEncoding, get_embedding_sizes, Rename\n",
    "from nvtabular.ops.column_similarity import ColumnSimilarity\n",
    "\n",
    "from nvtabular import ColumnGroup"
   ]
  },
  {
   "cell_type": "markdown",
   "metadata": {},
   "source": [
    "First, we set where the dataset should be saved once processed (OUTPUT_BUCKET_FOLDER), as well as where the dataset originally resides (DATA_BUCKET_FOLDER)."
   ]
  },
  {
   "cell_type": "code",
   "execution_count": 3,
   "metadata": {},
   "outputs": [],
   "source": [
    "OUTPUT_BUCKET_FOLDER = os.environ.get(\"OUTPUT_DATA_DIR\", \"./preprocessed/\")\n",
    "DATA_BUCKET_FOLDER = os.environ.get(\"INPUT_DATA_DIR\", \"/dataset/\")"
   ]
  },
  {
   "cell_type": "markdown",
   "metadata": {},
   "source": [
    "Let's read our saved train and valid datasets."
   ]
  },
  {
   "cell_type": "code",
   "execution_count": 4,
   "metadata": {},
   "outputs": [],
   "source": [
    "train_filename = os.path.join(OUTPUT_BUCKET_FOLDER, \"train_gdf.parquet\")\n",
    "valid_filename = os.path.join(OUTPUT_BUCKET_FOLDER, \"valid_gdf.parquet\")"
   ]
  },
  {
   "cell_type": "markdown",
   "metadata": {},
   "source": [
    "Let's create the output directories to store the preprocessed parquet files."
   ]
  },
  {
   "cell_type": "code",
   "execution_count": 5,
   "metadata": {},
   "outputs": [],
   "source": [
    "output_train_dir = os.path.join(OUTPUT_BUCKET_FOLDER, 'train/')\n",
    "output_valid_dir = os.path.join(OUTPUT_BUCKET_FOLDER, 'valid/')\n",
    "! mkdir -p $output_train_dir\n",
    "! mkdir -p $output_valid_dir"
   ]
  },
  {
   "cell_type": "markdown",
   "metadata": {},
   "source": [
    "We read in three more cudf data frames, <i>documents categories</i>, <i>topics</i>, and <i>entities</i>, and use them to create sparse matricies in cupy. We will use these later to calculate cosine similarity between event document (landing page context) and ad document profile vectors (TF-IDF), i.e., how close in profile an ad is to the page that it is being displayed."
   ]
  },
  {
   "cell_type": "code",
   "execution_count": 6,
   "metadata": {},
   "outputs": [],
   "source": [
    "documents_categories_cudf = cudf.read_csv(DATA_BUCKET_FOLDER + 'documents_categories.csv')\n",
    "documents_topics_cudf = cudf.read_csv(DATA_BUCKET_FOLDER + 'documents_topics.csv')\n",
    "documents_entities_cudf = cudf.read_csv(DATA_BUCKET_FOLDER + 'documents_entities.csv')\n",
    "# read in document categories/topics/entities as cupy sparse matrices\n",
    "def df_to_coo(df, row=\"document_id\", col=None, data=\"confidence_level\"):\n",
    "    return cupy.sparse.coo_matrix((df[data].values, (df[row].values, df[col].values)))\n",
    "\n",
    "categories = df_to_coo(documents_categories_cudf, col=\"category_id\")\n",
    "topics = df_to_coo(documents_topics_cudf, col=\"topic_id\")\n",
    "documents_entities_cudf['entity_id'] = documents_entities_cudf['entity_id'].astype(\"category\").cat.codes\n",
    "entities = df_to_coo(documents_entities_cudf, col=\"entity_id\")\n",
    "\n",
    "documents_categories_cudf = documents_topics_cudf = documents_entities_cudf =  None"
   ]
  },
  {
   "cell_type": "markdown",
   "metadata": {},
   "source": [
    "Below, we create a custom operator that calculates the time difference between a specified time column (either publish_time or publish_time_promo) and timestamp. This is used to calculate <i>time elapsed since publication</i> between the landing page and the ad."
   ]
  },
  {
   "cell_type": "code",
   "execution_count": 7,
   "metadata": {},
   "outputs": [],
   "source": [
    "#To save disk space, the timestamps in the entire dataset are relative to the first time in the dataset. \n",
    "#To recover the actual epoch time of the visit, we add 1465876799998 to the timestamp.\n",
    "TIMESTAMP_DELTA = 1465876799998\n",
    "\n",
    "from nvtabular.ops import Operator\n",
    "\n",
    "class DaysSincePublished(Operator):\n",
    "    def transform(self, columns, gdf):\n",
    "        for column in columns:\n",
    "            col = gdf[column]\n",
    "            col.loc[col == \"\"] = None\n",
    "            col = col.astype('datetime64[ns]')\n",
    "            timestamp = (gdf['timestamp']+TIMESTAMP_DELTA).astype('datetime64[ms]')\n",
    "            delta = (timestamp - col).dt.days\n",
    "            gdf[column + \"_since_published\"] = delta * (delta >=0) * (delta<=10*365)\n",
    "        return gdf\n",
    "            \n",
    "    def output_column_names(self, columns):\n",
    "        return [column + \"_since_published\" for column in columns]\n",
    "            \n",
    "    def dependencies(self):\n",
    "        return [\"timestamp\"]"
   ]
  },
  {
   "cell_type": "markdown",
   "metadata": {},
   "source": [
    "## Initiate NVTabular Workflow"
   ]
  },
  {
   "cell_type": "markdown",
   "metadata": {},
   "source": [
    "Now that our datasets, sparse matrices and udf are created, we can begin laying the groundwork for NVTabular. NVTabular requires input features to be defined as groups of columns , so we define our ColumnGroup features at this step. Note that feature engineering and preprocessing often happens to sets of columns, so we adopt that method and require the user to specify continuous and categoricals along with the target as lists within ColumnGroup."
   ]
  },
  {
   "cell_type": "markdown",
   "metadata": {},
   "source": [
    "At this point, our data still isn’t in a form that’s ideal for consumption by our W&D model that we will train in the next notebook. There are missing values, and our categorical variables are still represented by random, discrete identifiers, and need to be transformed into contiguous indices for embedding lookups. The distributions of our continuous variables are uncentered. We also would like to create new features that will help to increase the model accuracy."
   ]
  },
  {
   "cell_type": "markdown",
   "metadata": {},
   "source": [
    "Let's begin to create and process features using NVTabular ops:\n",
    " * <i>geo_location_state</i> and <i>geo_location_country</i> are created by stripping geo_location using the `LambdaOp`\n",
    " * <i>publish_time_days_since_published</i> and <i>publish_time_promo_days_since_published</i> features are created using the `calculate_delta` function in a `LambdaOp`\n",
    " * Missing values are filled using median value depending on the feature using `FillMedian()`op\n",
    " * Continuous features are log transformed with the `LogOp()`.\n",
    " \n",
    "`Categorify` op is used for categorification, i.e. encoding of categorical features. Categorify op takes a param called `freq_threshold` which is used for frequency capping. This handy functionality will map all categories which occur in the dataset with some threshold level of infrequency to the _same_ index, keeping the model from overfitting to sparse signals. We don't apply  frequency thresholds in this example, but one can easily create a frequency threshold dictionary, assign a custom threshold value for each categorical feature, and feed that dictionary into the `Categorify` op as `freq_threshold` param."
   ]
  },
  {
   "cell_type": "markdown",
   "metadata": {},
   "source": [
    "One of the important part of building recommender systems is to do feature engineering. As a very promising feature engineering technique, `Target Encoding` processes the categorical features and makes them easier accessible to the model during training and validation. *Target Encoding (TE)* has emerged as being both effective and efficient in many data science projects. For example, it is the major component of Nvidia Kaggle Grandmasters team’s [winning solution](https://medium.com/rapids-ai/winning-solution-of-recsys2020-challenge-gpu-accelerated-feature-engineering-and-training-for-cd67c5a87b1f) of [Recsys Challenge 2020](http://www.recsyschallenge.com/2020/). TE calculates the statistics from a target variable grouped by the unique values of one or more categorical features. For example in a binary classification problem, it calculates the probability that the target is true for each category value - a simple mean. In other words, for each distinct element in feature <b>$x$</b> we are going to compute the average of the corresponding values in target <i>y</i>. Then we are going to replace each $x_{i}$ with the corresponding mean value. For more details on TargetEncoding please visit [here](https://medium.com/rapids-ai/target-encoding-with-rapids-cuml-do-more-with-your-categorical-data-8c762c79e784) and [here](https://github.com/rapidsai/deeplearning/blob/main/RecSys2020Tutorial/03_3_TargetEncoding.ipynb).\n",
    "\n",
    "Here, we apply Target Encoding to certain categorical features with *kfold* of 5 and *smoothing* of 20 to avoid overfitting using [TargetEncoding op](https://github.com/NVIDIA/NVTabular/blob/a0141d0a710698470160bc2cbc42b18ce2d49133/nvtabular/ops/target_encoding.py)."
   ]
  },
  {
   "cell_type": "markdown",
   "metadata": {},
   "source": [
    "## Feature Engineering"
   ]
  },
  {
   "cell_type": "code",
   "execution_count": 8,
   "metadata": {},
   "outputs": [],
   "source": [
    "# geo processing: apply two different lambda operators to the ‘geo_location’ column, and \n",
    "# extract the country/state from the geo_location value. The geo_location column\n",
    "# looks something like \"US>CA>12345\", so we're using string slicing to pull out the country\n",
    "# and the country+state then \n",
    "geo_location = ColumnGroup([\"geo_location\"])\n",
    "country = geo_location >> (lambda col: col.str.slice(0, 2)) >> Rename(postfix=\"_country\")\n",
    "state = geo_location >> (lambda col: col.str.slice(0, 5)) >> Rename(postfix=\"_state\")\n",
    "geo_features = geo_location + country + state\n",
    "\n",
    "# categoricals processing: categorify certain input columns as well as the geo features\n",
    "cats = ColumnGroup(['ad_id', 'document_id', 'platform', 'document_id_promo', 'campaign_id', 'advertiser_id', 'source_id', 'publisher_id', 'source_id_promo', 'publisher_id_promo'])\n",
    "cat_features = geo_features + cats >> Categorify()\n",
    "\n",
    "# Apply TargetEncoding to certain categoricals with kfold of 1 and smoothing of 20\n",
    "te_features = cats >> TargetEncoding(\"clicked\", kfold=5, p_smooth=20)\n",
    " \n",
    "# process dates using the ‘DaysSincePublished’ custom operator\n",
    "dates = [\"publish_time\", \"publish_time_promo\"]\n",
    "date_features = dates >> DaysSincePublished() >> FillMedian() >> LogOp()"
   ]
  },
  {
   "cell_type": "markdown",
   "metadata": {},
   "source": [
    "Let's visualize our calculation graph with the column groups we used and created so far."
   ]
  },
  {
   "cell_type": "code",
   "execution_count": 9,
   "metadata": {},
   "outputs": [
    {
     "data": {
      "image/svg+xml": [
       "<?xml version=\"1.0\" encoding=\"UTF-8\" standalone=\"no\"?>\n",
       "<!DOCTYPE svg PUBLIC \"-//W3C//DTD SVG 1.1//EN\"\n",
       " \"http://www.w3.org/Graphics/SVG/1.1/DTD/svg11.dtd\">\n",
       "<!-- Generated by graphviz version 2.42.3 (20191010.1750)\n",
       " -->\n",
       "<!-- Title: %3 Pages: 1 -->\n",
       "<svg width=\"1375pt\" height=\"476pt\"\n",
       " viewBox=\"0.00 0.00 1375.13 476.00\" xmlns=\"http://www.w3.org/2000/svg\" xmlns:xlink=\"http://www.w3.org/1999/xlink\">\n",
       "<g id=\"graph0\" class=\"graph\" transform=\"scale(1 1) rotate(0) translate(4 472)\">\n",
       "<title>%3</title>\n",
       "<polygon fill=\"white\" stroke=\"transparent\" points=\"-4,4 -4,-472 1371.13,-472 1371.13,4 -4,4\"/>\n",
       "<!-- 0 -->\n",
       "<g id=\"node1\" class=\"node\">\n",
       "<title>0</title>\n",
       "<ellipse fill=\"none\" stroke=\"black\" cx=\"580.89\" cy=\"-306\" rx=\"40.09\" ry=\"18\"/>\n",
       "<text text-anchor=\"middle\" x=\"580.89\" y=\"-302.3\" font-family=\"Times,serif\" font-size=\"14.00\">Rename</text>\n",
       "</g>\n",
       "<!-- 15 -->\n",
       "<g id=\"node10\" class=\"node\">\n",
       "<title>15</title>\n",
       "<ellipse fill=\"none\" stroke=\"black\" cx=\"614.89\" cy=\"-234\" rx=\"27\" ry=\"18\"/>\n",
       "<text text-anchor=\"middle\" x=\"614.89\" y=\"-230.3\" font-family=\"Times,serif\" font-size=\"14.00\">+</text>\n",
       "</g>\n",
       "<!-- 0&#45;&gt;15 -->\n",
       "<g id=\"edge18\" class=\"edge\">\n",
       "<title>0&#45;&gt;15</title>\n",
       "<path fill=\"none\" stroke=\"black\" d=\"M589.12,-288.05C593.15,-279.77 598.08,-269.62 602.54,-260.42\"/>\n",
       "<polygon fill=\"black\" stroke=\"black\" points=\"605.75,-261.83 606.97,-251.31 599.45,-258.77 605.75,-261.83\"/>\n",
       "</g>\n",
       "<!-- 5 -->\n",
       "<g id=\"node2\" class=\"node\">\n",
       "<title>5</title>\n",
       "<ellipse fill=\"none\" stroke=\"black\" cx=\"569.89\" cy=\"-378\" rx=\"50.89\" ry=\"18\"/>\n",
       "<text text-anchor=\"middle\" x=\"569.89\" y=\"-374.3\" font-family=\"Times,serif\" font-size=\"14.00\">LambdaOp</text>\n",
       "</g>\n",
       "<!-- 5&#45;&gt;0 -->\n",
       "<g id=\"edge1\" class=\"edge\">\n",
       "<title>5&#45;&gt;0</title>\n",
       "<path fill=\"none\" stroke=\"black\" d=\"M572.61,-359.7C573.82,-351.98 575.28,-342.71 576.63,-334.11\"/>\n",
       "<polygon fill=\"black\" stroke=\"black\" points=\"580.11,-334.53 578.2,-324.1 573.19,-333.44 580.11,-334.53\"/>\n",
       "</g>\n",
       "<!-- 1 -->\n",
       "<g id=\"node3\" class=\"node\">\n",
       "<title>1</title>\n",
       "<ellipse fill=\"none\" stroke=\"black\" cx=\"81.89\" cy=\"-306\" rx=\"81.79\" ry=\"18\"/>\n",
       "<text text-anchor=\"middle\" x=\"81.89\" y=\"-302.3\" font-family=\"Times,serif\" font-size=\"14.00\">input cols=[clicked]</text>\n",
       "</g>\n",
       "<!-- 3 -->\n",
       "<g id=\"node7\" class=\"node\">\n",
       "<title>3</title>\n",
       "<ellipse fill=\"none\" stroke=\"black\" cx=\"351.89\" cy=\"-234\" rx=\"67.69\" ry=\"18\"/>\n",
       "<text text-anchor=\"middle\" x=\"351.89\" y=\"-230.3\" font-family=\"Times,serif\" font-size=\"14.00\">TargetEncoding</text>\n",
       "</g>\n",
       "<!-- 1&#45;&gt;3 -->\n",
       "<g id=\"edge5\" class=\"edge\">\n",
       "<title>1&#45;&gt;3</title>\n",
       "<path fill=\"none\" stroke=\"black\" d=\"M132.68,-291.83C178.88,-279.85 247.01,-262.19 295.02,-249.74\"/>\n",
       "<polygon fill=\"black\" stroke=\"black\" points=\"296.15,-253.07 304.95,-247.17 294.39,-246.29 296.15,-253.07\"/>\n",
       "</g>\n",
       "<!-- 2 -->\n",
       "<g id=\"node4\" class=\"node\">\n",
       "<title>2</title>\n",
       "<ellipse fill=\"none\" stroke=\"black\" cx=\"978.89\" cy=\"-306\" rx=\"83.39\" ry=\"18\"/>\n",
       "<text text-anchor=\"middle\" x=\"978.89\" y=\"-302.3\" font-family=\"Times,serif\" font-size=\"14.00\">DaysSincePublished</text>\n",
       "</g>\n",
       "<!-- 9 -->\n",
       "<g id=\"node13\" class=\"node\">\n",
       "<title>9</title>\n",
       "<ellipse fill=\"none\" stroke=\"black\" cx=\"864.89\" cy=\"-234\" rx=\"50.09\" ry=\"18\"/>\n",
       "<text text-anchor=\"middle\" x=\"864.89\" y=\"-230.3\" font-family=\"Times,serif\" font-size=\"14.00\">FillMedian</text>\n",
       "</g>\n",
       "<!-- 2&#45;&gt;9 -->\n",
       "<g id=\"edge9\" class=\"edge\">\n",
       "<title>2&#45;&gt;9</title>\n",
       "<path fill=\"none\" stroke=\"black\" d=\"M952.45,-288.76C936.21,-278.79 915.26,-265.93 897.93,-255.29\"/>\n",
       "<polygon fill=\"black\" stroke=\"black\" points=\"899.6,-252.2 889.24,-249.95 895.93,-258.17 899.6,-252.2\"/>\n",
       "</g>\n",
       "<!-- 12 -->\n",
       "<g id=\"node5\" class=\"node\">\n",
       "<title>12</title>\n",
       "<ellipse fill=\"none\" stroke=\"black\" cx=\"978.89\" cy=\"-378\" rx=\"181.97\" ry=\"18\"/>\n",
       "<text text-anchor=\"middle\" x=\"978.89\" y=\"-374.3\" font-family=\"Times,serif\" font-size=\"14.00\">input cols=[publish_time, publish_time_promo]</text>\n",
       "</g>\n",
       "<!-- 12&#45;&gt;2 -->\n",
       "<g id=\"edge2\" class=\"edge\">\n",
       "<title>12&#45;&gt;2</title>\n",
       "<path fill=\"none\" stroke=\"black\" d=\"M978.89,-359.7C978.89,-351.98 978.89,-342.71 978.89,-334.11\"/>\n",
       "<polygon fill=\"black\" stroke=\"black\" points=\"982.39,-334.1 978.89,-324.1 975.39,-334.1 982.39,-334.1\"/>\n",
       "</g>\n",
       "<!-- 11 -->\n",
       "<g id=\"node6\" class=\"node\">\n",
       "<title>11</title>\n",
       "<ellipse fill=\"none\" stroke=\"black\" cx=\"1272.89\" cy=\"-378\" rx=\"94.48\" ry=\"18\"/>\n",
       "<text text-anchor=\"middle\" x=\"1272.89\" y=\"-374.3\" font-family=\"Times,serif\" font-size=\"14.00\">input cols=[timestamp]</text>\n",
       "</g>\n",
       "<!-- 11&#45;&gt;2 -->\n",
       "<g id=\"edge3\" class=\"edge\">\n",
       "<title>11&#45;&gt;2</title>\n",
       "<path fill=\"none\" stroke=\"black\" d=\"M1216.21,-363.5C1166.62,-351.7 1094.64,-334.56 1042.97,-322.26\"/>\n",
       "<polygon fill=\"black\" stroke=\"black\" points=\"1043.46,-318.78 1032.92,-319.86 1041.84,-325.59 1043.46,-318.78\"/>\n",
       "</g>\n",
       "<!-- 10 -->\n",
       "<g id=\"node14\" class=\"node\">\n",
       "<title>10</title>\n",
       "<ellipse fill=\"none\" stroke=\"black\" cx=\"665.89\" cy=\"-90\" rx=\"27\" ry=\"18\"/>\n",
       "<text text-anchor=\"middle\" x=\"665.89\" y=\"-86.3\" font-family=\"Times,serif\" font-size=\"14.00\">+</text>\n",
       "</g>\n",
       "<!-- 3&#45;&gt;10 -->\n",
       "<g id=\"edge12\" class=\"edge\">\n",
       "<title>3&#45;&gt;10</title>\n",
       "<path fill=\"none\" stroke=\"black\" d=\"M384.61,-218.21C445.46,-190.68 575.28,-131.98 634.85,-105.04\"/>\n",
       "<polygon fill=\"black\" stroke=\"black\" points=\"636.45,-108.16 644.12,-100.85 633.57,-101.78 636.45,-108.16\"/>\n",
       "</g>\n",
       "<!-- 6 -->\n",
       "<g id=\"node8\" class=\"node\">\n",
       "<title>6</title>\n",
       "<ellipse fill=\"none\" stroke=\"black\" cx=\"351.89\" cy=\"-306\" rx=\"170.07\" ry=\"18\"/>\n",
       "<text text-anchor=\"middle\" x=\"351.89\" y=\"-302.3\" font-family=\"Times,serif\" font-size=\"14.00\">input cols=[ad_id, document_id, platform...]</text>\n",
       "</g>\n",
       "<!-- 6&#45;&gt;3 -->\n",
       "<g id=\"edge4\" class=\"edge\">\n",
       "<title>6&#45;&gt;3</title>\n",
       "<path fill=\"none\" stroke=\"black\" d=\"M351.89,-287.7C351.89,-279.98 351.89,-270.71 351.89,-262.11\"/>\n",
       "<polygon fill=\"black\" stroke=\"black\" points=\"355.39,-262.1 351.89,-252.1 348.39,-262.1 355.39,-262.1\"/>\n",
       "</g>\n",
       "<!-- 6&#45;&gt;15 -->\n",
       "<g id=\"edge19\" class=\"edge\">\n",
       "<title>6&#45;&gt;15</title>\n",
       "<path fill=\"none\" stroke=\"black\" d=\"M411.57,-289.12C463.77,-275.22 537.74,-255.54 580.57,-244.13\"/>\n",
       "<polygon fill=\"black\" stroke=\"black\" points=\"581.48,-247.51 590.25,-241.56 579.68,-240.75 581.48,-247.51\"/>\n",
       "</g>\n",
       "<!-- 4 -->\n",
       "<g id=\"node9\" class=\"node\">\n",
       "<title>4</title>\n",
       "<ellipse fill=\"none\" stroke=\"black\" cx=\"614.89\" cy=\"-162\" rx=\"48.19\" ry=\"18\"/>\n",
       "<text text-anchor=\"middle\" x=\"614.89\" y=\"-158.3\" font-family=\"Times,serif\" font-size=\"14.00\">Categorify</text>\n",
       "</g>\n",
       "<!-- 4&#45;&gt;10 -->\n",
       "<g id=\"edge11\" class=\"edge\">\n",
       "<title>4&#45;&gt;10</title>\n",
       "<path fill=\"none\" stroke=\"black\" d=\"M626.98,-144.41C633.45,-135.53 641.53,-124.44 648.65,-114.67\"/>\n",
       "<polygon fill=\"black\" stroke=\"black\" points=\"651.53,-116.65 654.59,-106.51 645.87,-112.53 651.53,-116.65\"/>\n",
       "</g>\n",
       "<!-- 15&#45;&gt;4 -->\n",
       "<g id=\"edge6\" class=\"edge\">\n",
       "<title>15&#45;&gt;4</title>\n",
       "<path fill=\"none\" stroke=\"black\" d=\"M614.89,-215.7C614.89,-207.98 614.89,-198.71 614.89,-190.11\"/>\n",
       "<polygon fill=\"black\" stroke=\"black\" points=\"618.39,-190.1 614.89,-180.1 611.39,-190.1 618.39,-190.1\"/>\n",
       "</g>\n",
       "<!-- 7 -->\n",
       "<g id=\"node11\" class=\"node\">\n",
       "<title>7</title>\n",
       "<ellipse fill=\"none\" stroke=\"black\" cx=\"648.89\" cy=\"-450\" rx=\"102.08\" ry=\"18\"/>\n",
       "<text text-anchor=\"middle\" x=\"648.89\" y=\"-446.3\" font-family=\"Times,serif\" font-size=\"14.00\">input cols=[geo_location]</text>\n",
       "</g>\n",
       "<!-- 7&#45;&gt;5 -->\n",
       "<g id=\"edge7\" class=\"edge\">\n",
       "<title>7&#45;&gt;5</title>\n",
       "<path fill=\"none\" stroke=\"black\" d=\"M629.77,-432.05C619.55,-423 606.83,-411.73 595.75,-401.91\"/>\n",
       "<polygon fill=\"black\" stroke=\"black\" points=\"597.83,-399.08 588.03,-395.07 593.19,-404.32 597.83,-399.08\"/>\n",
       "</g>\n",
       "<!-- 7&#45;&gt;15 -->\n",
       "<g id=\"edge16\" class=\"edge\">\n",
       "<title>7&#45;&gt;15</title>\n",
       "<path fill=\"none\" stroke=\"black\" d=\"M647.77,-431.94C645.63,-402.4 640.23,-339.89 629.89,-288 628.17,-279.33 625.73,-270.02 623.32,-261.65\"/>\n",
       "<polygon fill=\"black\" stroke=\"black\" points=\"626.66,-260.6 620.45,-252.02 619.96,-262.6 626.66,-260.6\"/>\n",
       "</g>\n",
       "<!-- 14 -->\n",
       "<g id=\"node17\" class=\"node\">\n",
       "<title>14</title>\n",
       "<ellipse fill=\"none\" stroke=\"black\" cx=\"727.89\" cy=\"-378\" rx=\"50.89\" ry=\"18\"/>\n",
       "<text text-anchor=\"middle\" x=\"727.89\" y=\"-374.3\" font-family=\"Times,serif\" font-size=\"14.00\">LambdaOp</text>\n",
       "</g>\n",
       "<!-- 7&#45;&gt;14 -->\n",
       "<g id=\"edge15\" class=\"edge\">\n",
       "<title>7&#45;&gt;14</title>\n",
       "<path fill=\"none\" stroke=\"black\" d=\"M668.02,-432.05C678.23,-423 690.95,-411.73 702.04,-401.91\"/>\n",
       "<polygon fill=\"black\" stroke=\"black\" points=\"704.6,-404.32 709.76,-395.07 699.95,-399.08 704.6,-404.32\"/>\n",
       "</g>\n",
       "<!-- 8 -->\n",
       "<g id=\"node12\" class=\"node\">\n",
       "<title>8</title>\n",
       "<ellipse fill=\"none\" stroke=\"black\" cx=\"716.89\" cy=\"-162\" rx=\"36\" ry=\"18\"/>\n",
       "<text text-anchor=\"middle\" x=\"716.89\" y=\"-158.3\" font-family=\"Times,serif\" font-size=\"14.00\">LogOp</text>\n",
       "</g>\n",
       "<!-- 8&#45;&gt;10 -->\n",
       "<g id=\"edge10\" class=\"edge\">\n",
       "<title>8&#45;&gt;10</title>\n",
       "<path fill=\"none\" stroke=\"black\" d=\"M705.06,-144.76C698.6,-135.89 690.47,-124.74 683.3,-114.89\"/>\n",
       "<polygon fill=\"black\" stroke=\"black\" points=\"686.02,-112.69 677.31,-106.67 680.37,-116.81 686.02,-112.69\"/>\n",
       "</g>\n",
       "<!-- 9&#45;&gt;8 -->\n",
       "<g id=\"edge8\" class=\"edge\">\n",
       "<title>9&#45;&gt;8</title>\n",
       "<path fill=\"none\" stroke=\"black\" d=\"M835.65,-219.17C811.45,-207.72 777.02,-191.44 751.45,-179.35\"/>\n",
       "<polygon fill=\"black\" stroke=\"black\" points=\"752.67,-176.05 742.13,-174.94 749.67,-182.38 752.67,-176.05\"/>\n",
       "</g>\n",
       "<!-- 17 -->\n",
       "<g id=\"node18\" class=\"node\">\n",
       "<title>17</title>\n",
       "<ellipse fill=\"none\" stroke=\"black\" cx=\"665.89\" cy=\"-18\" rx=\"365.84\" ry=\"18\"/>\n",
       "<text text-anchor=\"middle\" x=\"665.89\" y=\"-14.3\" font-family=\"Times,serif\" font-size=\"14.00\">output cols=[publish_time_since_published, publish_time_promo_since_published, geo_location...]</text>\n",
       "</g>\n",
       "<!-- 10&#45;&gt;17 -->\n",
       "<g id=\"edge20\" class=\"edge\">\n",
       "<title>10&#45;&gt;17</title>\n",
       "<path fill=\"none\" stroke=\"black\" d=\"M665.89,-71.7C665.89,-63.98 665.89,-54.71 665.89,-46.11\"/>\n",
       "<polygon fill=\"black\" stroke=\"black\" points=\"669.39,-46.1 665.89,-36.1 662.39,-46.1 669.39,-46.1\"/>\n",
       "</g>\n",
       "<!-- 16 -->\n",
       "<g id=\"node15\" class=\"node\">\n",
       "<title>16</title>\n",
       "<ellipse fill=\"none\" stroke=\"black\" cx=\"852.89\" cy=\"-162\" rx=\"81.79\" ry=\"18\"/>\n",
       "<text text-anchor=\"middle\" x=\"852.89\" y=\"-158.3\" font-family=\"Times,serif\" font-size=\"14.00\">input cols=[clicked]</text>\n",
       "</g>\n",
       "<!-- 16&#45;&gt;10 -->\n",
       "<g id=\"edge13\" class=\"edge\">\n",
       "<title>16&#45;&gt;10</title>\n",
       "<path fill=\"none\" stroke=\"black\" d=\"M813.23,-146.15C779.18,-133.41 730.67,-115.25 698.75,-103.3\"/>\n",
       "<polygon fill=\"black\" stroke=\"black\" points=\"699.6,-99.88 689.01,-99.65 697.15,-106.44 699.6,-99.88\"/>\n",
       "</g>\n",
       "<!-- 13 -->\n",
       "<g id=\"node16\" class=\"node\">\n",
       "<title>13</title>\n",
       "<ellipse fill=\"none\" stroke=\"black\" cx=\"722.89\" cy=\"-306\" rx=\"40.09\" ry=\"18\"/>\n",
       "<text text-anchor=\"middle\" x=\"722.89\" y=\"-302.3\" font-family=\"Times,serif\" font-size=\"14.00\">Rename</text>\n",
       "</g>\n",
       "<!-- 13&#45;&gt;15 -->\n",
       "<g id=\"edge17\" class=\"edge\">\n",
       "<title>13&#45;&gt;15</title>\n",
       "<path fill=\"none\" stroke=\"black\" d=\"M701.04,-290.83C684.09,-279.85 660.49,-264.56 642.28,-252.75\"/>\n",
       "<polygon fill=\"black\" stroke=\"black\" points=\"644.12,-249.78 633.83,-247.27 640.32,-255.65 644.12,-249.78\"/>\n",
       "</g>\n",
       "<!-- 14&#45;&gt;13 -->\n",
       "<g id=\"edge14\" class=\"edge\">\n",
       "<title>14&#45;&gt;13</title>\n",
       "<path fill=\"none\" stroke=\"black\" d=\"M726.66,-359.7C726.11,-351.98 725.44,-342.71 724.83,-334.11\"/>\n",
       "<polygon fill=\"black\" stroke=\"black\" points=\"728.32,-333.83 724.11,-324.1 721.34,-334.33 728.32,-333.83\"/>\n",
       "</g>\n",
       "</g>\n",
       "</svg>\n"
      ],
      "text/plain": [
       "<graphviz.dot.Digraph at 0x7f15dcea3cd0>"
      ]
     },
     "execution_count": 9,
     "metadata": {},
     "output_type": "execute_result"
    }
   ],
   "source": [
    "features = date_features + cat_features + te_features + \"clicked\"\n",
    "features.graph"
   ]
  },
  {
   "cell_type": "markdown",
   "metadata": {},
   "source": [
    "A user might sometimes be interested to continue reading about the same topics of the current page. Computing the similarity between the textual content of the current page and the pages linked to the displayed ads, can be a relevant feature for a model that predicts which ad the user would click next. A simple, yet effective way to compute the similarity between documents is generating the TF-IDF vectors for each of them, which captures their most relevant terms, and then computing the cosine similarity between those vectors.\n",
    " \n",
    "Below, we calculate <i>doc_event_doc_ad_sim_categories</i>, <i>topics</i>, and <i>entities</i> using the `ColumnSimilarity` op, which utilizes the sparse categories, topics, and entities matrices that were created above to calculate landing page similarity for categories, topics, and entities. We calculate Cosine similarity between event doc (landing page) and ad doc aspects vectors (TF-IDF). Creating these extra features help to improve model accuracy and predictability. "
   ]
  },
  {
   "cell_type": "markdown",
   "metadata": {},
   "source": [
    "Note that we rename the column names to avoid duplicated column names."
   ]
  },
  {
   "cell_type": "code",
   "execution_count": null,
   "metadata": {},
   "outputs": [],
   "source": [
    "sim_features_categ = [[\"document_id\", \"document_id_promo\"]] >> ColumnSimilarity(categories, metric='tfidf', on_device=False) >> Rename(postfix=\"_categories\")\n",
    "sim_features_topics= [[\"document_id\", \"document_id_promo\"]] >> ColumnSimilarity(topics, metric='tfidf', on_device=False) >> Rename(postfix=\"_topics\")\n",
    "sim_features_entities= [[\"document_id\", \"document_id_promo\"]] >> ColumnSimilarity(entities, metric='tfidf', on_device=False) >> Rename(postfix=\"_entities\")\n",
    "sim_features = sim_features_categ + sim_features_topics +  sim_features_entities"
   ]
  },
  {
   "cell_type": "code",
   "execution_count": 11,
   "metadata": {},
   "outputs": [],
   "source": [
    "# The workflow is created with the output node of the graph\n",
    "workflow = nvt.Workflow(features + sim_features)"
   ]
  },
  {
   "cell_type": "markdown",
   "metadata": {},
   "source": [
    "We then create an NVTabular Dataset object both for train and validation sets. We calculate statistics for this workflow on the input dataset, i.e. on our training set, using the `workflow.fit()` method so that our <i>Workflow</i> can use these stats to transform any given input. When our <i>Workflow</i> transorms our datasets and, we also save the results out to parquet files for fast reading at train time."
   ]
  },
  {
   "cell_type": "code",
   "execution_count": 13,
   "metadata": {},
   "outputs": [],
   "source": [
    "train_dataset = nvt.Dataset(train_filename)\n",
    "valid_dataset = nvt.Dataset(valid_filename)\n",
    "\n",
    "# Calculate statistics on the training set\n",
    "workflow.fit(train_dataset)"
   ]
  },
  {
   "cell_type": "code",
   "execution_count": 14,
   "metadata": {},
   "outputs": [],
   "source": [
    "# use the calculated statistics to transform the train/valid datasets \n",
    "# and write out each as parquet\n",
    "workflow.transform(train_dataset).to_parquet(output_path=output_train_dir, shuffle=Shuffle.PER_PARTITION, out_files_per_proc=5)\n",
    "workflow.transform(valid_dataset).to_parquet(output_path=output_valid_dir)"
   ]
  },
  {
   "cell_type": "markdown",
   "metadata": {},
   "source": [
    "We can save the stats from the workflow and load it anytime, so we can run training without doing preprocessing."
   ]
  },
  {
   "cell_type": "markdown",
   "metadata": {},
   "source": [
    "In the next notebooks, we will train a deep learning model. Our training pipeline requires information about the data schema to define the neural network architecture. We will save the NVTabular workflow to disk so that we can restore it in the next notebooks."
   ]
  },
  {
   "cell_type": "code",
   "execution_count": 16,
   "metadata": {},
   "outputs": [],
   "source": [
    "workflow.save(OUTPUT_BUCKET_FOLDER + 'workflow')"
   ]
  },
  {
   "cell_type": "markdown",
   "metadata": {},
   "source": [
    "## Reviewing processed data"
   ]
  },
  {
   "cell_type": "code",
   "execution_count": 21,
   "metadata": {},
   "outputs": [
    {
     "data": {
      "text/plain": [
       "(['/workspace/preprocessed/train2/0.12192edef2fe4295a5cd02f418b7c28a.parquet',\n",
       "  '/workspace/preprocessed/train2/1.99b705ea01ad49bdb682e5c92d14c973.parquet',\n",
       "  '/workspace/preprocessed/train2/2.aeadf29242af46aabca97d0e5a6396cf.parquet',\n",
       "  '/workspace/preprocessed/train2/3.ca6dccb367a6467cb9963743a4f83244.parquet',\n",
       "  '/workspace/preprocessed/train2/4.190d6098ae8d4b21ad85e861ed2703f0.parquet'],\n",
       " ['/workspace/preprocessed/valid2/0.f6a1a5df5a0f4347b49bf9532b1a28b2.parquet'])"
      ]
     },
     "execution_count": 21,
     "metadata": {},
     "output_type": "execute_result"
    }
   ],
   "source": [
    "TRAIN_PATHS = sorted(glob.glob(OUTPUT_BUCKET_FOLDER + 'train/*.parquet'))\n",
    "VALID_PATHS = sorted(glob.glob(OUTPUT_BUCKET_FOLDER + 'valid/*.parquet'))\n",
    "TRAIN_PATHS, VALID_PATHS"
   ]
  },
  {
   "cell_type": "code",
   "execution_count": 22,
   "metadata": {},
   "outputs": [
    {
     "data": {
      "text/html": [
       "<div>\n",
       "<style scoped>\n",
       "    .dataframe tbody tr th:only-of-type {\n",
       "        vertical-align: middle;\n",
       "    }\n",
       "\n",
       "    .dataframe tbody tr th {\n",
       "        vertical-align: top;\n",
       "    }\n",
       "\n",
       "    .dataframe thead th {\n",
       "        text-align: right;\n",
       "    }\n",
       "</style>\n",
       "<table border=\"1\" class=\"dataframe\">\n",
       "  <thead>\n",
       "    <tr style=\"text-align: right;\">\n",
       "      <th></th>\n",
       "      <th>publish_time_since_published</th>\n",
       "      <th>publish_time_promo_since_published</th>\n",
       "      <th>geo_location</th>\n",
       "      <th>geo_location_country</th>\n",
       "      <th>geo_location_state</th>\n",
       "      <th>ad_id</th>\n",
       "      <th>document_id</th>\n",
       "      <th>platform</th>\n",
       "      <th>document_id_promo</th>\n",
       "      <th>campaign_id</th>\n",
       "      <th>...</th>\n",
       "      <th>TE_campaign_id_clicked</th>\n",
       "      <th>TE_advertiser_id_clicked</th>\n",
       "      <th>TE_source_id_clicked</th>\n",
       "      <th>TE_publisher_id_clicked</th>\n",
       "      <th>TE_source_id_promo_clicked</th>\n",
       "      <th>TE_publisher_id_promo_clicked</th>\n",
       "      <th>clicked</th>\n",
       "      <th>document_id_document_id_promo_sim_categories</th>\n",
       "      <th>document_id_document_id_promo_sim_topics</th>\n",
       "      <th>document_id_document_id_promo_sim_entities</th>\n",
       "    </tr>\n",
       "  </thead>\n",
       "  <tbody>\n",
       "    <tr>\n",
       "      <th>0</th>\n",
       "      <td>1.945910</td>\n",
       "      <td>2.995732</td>\n",
       "      <td>2373</td>\n",
       "      <td>216</td>\n",
       "      <td>2331</td>\n",
       "      <td>168197</td>\n",
       "      <td>367448</td>\n",
       "      <td>3</td>\n",
       "      <td>70858</td>\n",
       "      <td>22486</td>\n",
       "      <td>...</td>\n",
       "      <td>0.044155</td>\n",
       "      <td>0.095542</td>\n",
       "      <td>0.131608</td>\n",
       "      <td>0.131346</td>\n",
       "      <td>0.090201</td>\n",
       "      <td>0.195288</td>\n",
       "      <td>0</td>\n",
       "      <td>0.000000</td>\n",
       "      <td>0.000000</td>\n",
       "      <td>0.0</td>\n",
       "    </tr>\n",
       "    <tr>\n",
       "      <th>1</th>\n",
       "      <td>4.143135</td>\n",
       "      <td>4.499810</td>\n",
       "      <td>2323</td>\n",
       "      <td>216</td>\n",
       "      <td>2323</td>\n",
       "      <td>160979</td>\n",
       "      <td>287406</td>\n",
       "      <td>3</td>\n",
       "      <td>63274</td>\n",
       "      <td>21847</td>\n",
       "      <td>...</td>\n",
       "      <td>0.187805</td>\n",
       "      <td>0.187805</td>\n",
       "      <td>0.210773</td>\n",
       "      <td>0.211029</td>\n",
       "      <td>0.176695</td>\n",
       "      <td>0.195288</td>\n",
       "      <td>0</td>\n",
       "      <td>0.000000</td>\n",
       "      <td>0.000000</td>\n",
       "      <td>0.0</td>\n",
       "    </tr>\n",
       "    <tr>\n",
       "      <th>2</th>\n",
       "      <td>1.386294</td>\n",
       "      <td>4.634729</td>\n",
       "      <td>98</td>\n",
       "      <td>18</td>\n",
       "      <td>98</td>\n",
       "      <td>83287</td>\n",
       "      <td>387262</td>\n",
       "      <td>2</td>\n",
       "      <td>35962</td>\n",
       "      <td>12639</td>\n",
       "      <td>...</td>\n",
       "      <td>0.167789</td>\n",
       "      <td>0.111336</td>\n",
       "      <td>0.168356</td>\n",
       "      <td>0.168356</td>\n",
       "      <td>0.111336</td>\n",
       "      <td>-0.774385</td>\n",
       "      <td>0</td>\n",
       "      <td>0.000000</td>\n",
       "      <td>0.000000</td>\n",
       "      <td>0.0</td>\n",
       "    </tr>\n",
       "    <tr>\n",
       "      <th>3</th>\n",
       "      <td>1.098612</td>\n",
       "      <td>5.902633</td>\n",
       "      <td>2671</td>\n",
       "      <td>216</td>\n",
       "      <td>2365</td>\n",
       "      <td>67853</td>\n",
       "      <td>342115</td>\n",
       "      <td>4</td>\n",
       "      <td>16870</td>\n",
       "      <td>8850</td>\n",
       "      <td>...</td>\n",
       "      <td>0.286833</td>\n",
       "      <td>0.278823</td>\n",
       "      <td>0.177821</td>\n",
       "      <td>0.177821</td>\n",
       "      <td>0.278850</td>\n",
       "      <td>0.275176</td>\n",
       "      <td>0</td>\n",
       "      <td>0.985014</td>\n",
       "      <td>0.222054</td>\n",
       "      <td>0.0</td>\n",
       "    </tr>\n",
       "    <tr>\n",
       "      <th>4</th>\n",
       "      <td>1.098612</td>\n",
       "      <td>5.932245</td>\n",
       "      <td>2363</td>\n",
       "      <td>216</td>\n",
       "      <td>2331</td>\n",
       "      <td>39241</td>\n",
       "      <td>272211</td>\n",
       "      <td>3</td>\n",
       "      <td>21870</td>\n",
       "      <td>6214</td>\n",
       "      <td>...</td>\n",
       "      <td>0.135645</td>\n",
       "      <td>0.171767</td>\n",
       "      <td>0.184543</td>\n",
       "      <td>0.184713</td>\n",
       "      <td>0.171622</td>\n",
       "      <td>-0.775562</td>\n",
       "      <td>0</td>\n",
       "      <td>0.000000</td>\n",
       "      <td>0.000000</td>\n",
       "      <td>0.0</td>\n",
       "    </tr>\n",
       "  </tbody>\n",
       "</table>\n",
       "<p>5 rows × 29 columns</p>\n",
       "</div>"
      ],
      "text/plain": [
       "   publish_time_since_published  publish_time_promo_since_published  \\\n",
       "0                      1.945910                            2.995732   \n",
       "1                      4.143135                            4.499810   \n",
       "2                      1.386294                            4.634729   \n",
       "3                      1.098612                            5.902633   \n",
       "4                      1.098612                            5.932245   \n",
       "\n",
       "   geo_location  geo_location_country  geo_location_state   ad_id  \\\n",
       "0          2373                   216                2331  168197   \n",
       "1          2323                   216                2323  160979   \n",
       "2            98                    18                  98   83287   \n",
       "3          2671                   216                2365   67853   \n",
       "4          2363                   216                2331   39241   \n",
       "\n",
       "   document_id  platform  document_id_promo  campaign_id  ...  \\\n",
       "0       367448         3              70858        22486  ...   \n",
       "1       287406         3              63274        21847  ...   \n",
       "2       387262         2              35962        12639  ...   \n",
       "3       342115         4              16870         8850  ...   \n",
       "4       272211         3              21870         6214  ...   \n",
       "\n",
       "   TE_campaign_id_clicked  TE_advertiser_id_clicked  TE_source_id_clicked  \\\n",
       "0                0.044155                  0.095542              0.131608   \n",
       "1                0.187805                  0.187805              0.210773   \n",
       "2                0.167789                  0.111336              0.168356   \n",
       "3                0.286833                  0.278823              0.177821   \n",
       "4                0.135645                  0.171767              0.184543   \n",
       "\n",
       "   TE_publisher_id_clicked  TE_source_id_promo_clicked  \\\n",
       "0                 0.131346                    0.090201   \n",
       "1                 0.211029                    0.176695   \n",
       "2                 0.168356                    0.111336   \n",
       "3                 0.177821                    0.278850   \n",
       "4                 0.184713                    0.171622   \n",
       "\n",
       "   TE_publisher_id_promo_clicked  clicked  \\\n",
       "0                       0.195288        0   \n",
       "1                       0.195288        0   \n",
       "2                      -0.774385        0   \n",
       "3                       0.275176        0   \n",
       "4                      -0.775562        0   \n",
       "\n",
       "   document_id_document_id_promo_sim_categories  \\\n",
       "0                                      0.000000   \n",
       "1                                      0.000000   \n",
       "2                                      0.000000   \n",
       "3                                      0.985014   \n",
       "4                                      0.000000   \n",
       "\n",
       "   document_id_document_id_promo_sim_topics  \\\n",
       "0                                  0.000000   \n",
       "1                                  0.000000   \n",
       "2                                  0.000000   \n",
       "3                                  0.222054   \n",
       "4                                  0.000000   \n",
       "\n",
       "   document_id_document_id_promo_sim_entities  \n",
       "0                                         0.0  \n",
       "1                                         0.0  \n",
       "2                                         0.0  \n",
       "3                                         0.0  \n",
       "4                                         0.0  \n",
       "\n",
       "[5 rows x 29 columns]"
      ]
     },
     "execution_count": 22,
     "metadata": {},
     "output_type": "execute_result"
    }
   ],
   "source": [
    "df = cudf.read_parquet(TRAIN_PATHS[0])\n",
    "df.head()"
   ]
  },
  {
   "cell_type": "code",
   "execution_count": 23,
   "metadata": {},
   "outputs": [
    {
     "data": {
      "text/plain": [
       "52"
      ]
     },
     "execution_count": 23,
     "metadata": {},
     "output_type": "execute_result"
    }
   ],
   "source": [
    "del df\n",
    "gc.collect()"
   ]
  }
 ],
 "metadata": {
  "kernelspec": {
   "display_name": "rapids",
   "language": "python",
   "name": "rapids"
  },
  "language_info": {
   "codemirror_mode": {
    "name": "ipython",
    "version": 3
   },
   "file_extension": ".py",
   "mimetype": "text/x-python",
   "name": "python",
   "nbconvert_exporter": "python",
   "pygments_lexer": "ipython3",
   "version": "3.7.8"
  }
 },
 "nbformat": 4,
 "nbformat_minor": 4
}
