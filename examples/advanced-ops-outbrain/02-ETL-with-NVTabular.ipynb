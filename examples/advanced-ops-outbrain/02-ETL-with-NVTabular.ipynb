{
 "cells": [
  {
   "cell_type": "code",
   "execution_count": null,
   "metadata": {},
   "outputs": [],
   "source": [
    "# Copyright 2021 NVIDIA Corporation. All Rights Reserved.\n",
    "#\n",
    "# Licensed under the Apache License, Version 2.0 (the \"License\");\n",
    "# you may not use this file except in compliance with the License.\n",
    "# You may obtain a copy of the License at\n",
    "#\n",
    "#     http://www.apache.org/licenses/LICENSE-2.0\n",
    "#\n",
    "# Unless required by applicable law or agreed to in writing, software\n",
    "# distributed under the License is distributed on an \"AS IS\" BASIS,\n",
    "# WITHOUT WARRANTIES OR CONDITIONS OF ANY KIND, either express or implied.\n",
    "# See the License for the specific language governing permissions and\n",
    "# limitations under the License.\n",
    "# =============================================================================="
   ]
  },
  {
   "cell_type": "markdown",
   "metadata": {},
   "source": [
    "# Getting Started Outbrain: ETL with NVTabular"
   ]
  },
  {
   "cell_type": "markdown",
   "metadata": {},
   "source": [
    "## Overview"
   ]
  },
  {
   "cell_type": "markdown",
   "metadata": {},
   "source": [
    "In this notebook we will do preprocessing and feature engineering using [Kaggle Outbrain dataset](https://www.kaggle.com/c/outbrain-click-prediction).\n",
    "\n",
    "**Learning objectives**\n",
    "\n",
    "In this notebook, we learn how to \n",
    "\n",
    "- Use LambdaOp for custom row-wise dataframe manipulations with NVTabular\n",
    "- Preprocess single-hot categorical input features with NVTabular\n",
    "- Apply TargetEncoding to categorical features\n",
    "- Create a custom operator to create time features\n",
    "- Apply ColumnSimilarity to calculate the similarity between two columns using tf-idf metric"
   ]
  },
  {
   "cell_type": "code",
   "execution_count": 2,
   "metadata": {},
   "outputs": [],
   "source": [
    "import os\n",
    "import glob\n",
    "import time\n",
    "import datetime\n",
    "import math\n",
    "import graphviz\n",
    "import gc\n",
    "\n",
    "import cupy\n",
    "import cudf\n",
    "import rmm\n",
    "from numba import cuda\n",
    "import numpy as np\n",
    "\n",
    "import nvtabular as nvt\n",
    "from nvtabular.io import Shuffle\n",
    "from nvtabular.ops import Normalize, FillMedian, FillMissing, Categorify, LogOp, JoinExternal, Dropna, LambdaOp, JoinGroupby, HashBucket, TargetEncoding, get_embedding_sizes, Rename\n",
    "from nvtabular.ops.column_similarity import ColumnSimilarity\n",
    "\n",
    "from nvtabular import ColumnGroup"
   ]
  },
  {
   "cell_type": "markdown",
   "metadata": {},
   "source": [
    "First, we set where the dataset should be saved once processed (OUTPUT_BUCKET_FOLDER), as well as where the dataset originally resides (DATA_BUCKET_FOLDER)."
   ]
  },
  {
   "cell_type": "code",
   "execution_count": 3,
   "metadata": {},
   "outputs": [],
   "source": [
    "DATA_BUCKET_FOLDER = os.environ.get(\"INPUT_DATA_DIR\", \"~/nvt-examples/outbrain/data\")\n",
    "OUTPUT_BUCKET_FOLDER = os.environ.get(\"OUTPUT_DATA_DIR\", \"./outbrain-preprocessed/\")"
   ]
  },
  {
   "cell_type": "markdown",
   "metadata": {},
   "source": [
    "Let's read our saved train and valid datasets."
   ]
  },
  {
   "cell_type": "code",
   "execution_count": 4,
   "metadata": {},
   "outputs": [],
   "source": [
    "train_filename = os.path.join(OUTPUT_BUCKET_FOLDER, \"train_gdf.parquet\")\n",
    "valid_filename = os.path.join(OUTPUT_BUCKET_FOLDER, \"valid_gdf.parquet\")"
   ]
  },
  {
   "cell_type": "markdown",
   "metadata": {},
   "source": [
    "## Preparing documents metadata"
   ]
  },
  {
   "cell_type": "markdown",
   "metadata": {},
   "source": [
    "Let's create the output directories to store the preprocessed parquet files."
   ]
  },
  {
   "cell_type": "code",
   "execution_count": 5,
   "metadata": {},
   "outputs": [],
   "source": [
    "output_train_dir = os.path.join(OUTPUT_BUCKET_FOLDER, 'train/')\n",
    "output_valid_dir = os.path.join(OUTPUT_BUCKET_FOLDER, 'valid/')\n",
    "! mkdir -p $output_train_dir\n",
    "! mkdir -p $output_valid_dir"
   ]
  },
  {
   "cell_type": "markdown",
   "metadata": {},
   "source": [
    "We read in three more cudf data frames, <i>documents categories</i>, <i>topics</i>, and <i>entities</i>, and use them to create sparse matrices in cupy. We will use these later to calculate cosine similarity between event document (landing page context) and ad document profile vectors (TF-IDF), i.e., how close in profile an ad is to the page that it is being displayed."
   ]
  },
  {
   "cell_type": "code",
   "execution_count": 6,
   "metadata": {},
   "outputs": [],
   "source": [
    "documents_categories_cudf = cudf.read_csv(DATA_BUCKET_FOLDER + 'documents_categories.csv')\n",
    "documents_topics_cudf = cudf.read_csv(DATA_BUCKET_FOLDER + 'documents_topics.csv')\n",
    "documents_entities_cudf = cudf.read_csv(DATA_BUCKET_FOLDER + 'documents_entities.csv')\n",
    "# read in document categories/topics/entities as cupy sparse matrices\n",
    "def df_to_coo(df, row=\"document_id\", col=None, data=\"confidence_level\"):\n",
    "    return cupy.sparse.coo_matrix((df[data].values, (df[row].values, df[col].values)))\n",
    "\n",
    "categories = df_to_coo(documents_categories_cudf, col=\"category_id\")\n",
    "topics = df_to_coo(documents_topics_cudf, col=\"topic_id\")\n",
    "documents_entities_cudf['entity_id'] = documents_entities_cudf['entity_id'].astype(\"category\").cat.codes\n",
    "entities = df_to_coo(documents_entities_cudf, col=\"entity_id\")\n",
    "\n",
    "documents_categories_cudf = documents_topics_cudf = documents_entities_cudf =  None"
   ]
  },
  {
   "cell_type": "markdown",
   "metadata": {},
   "source": [
    "## Initiate NVTabular Workflow"
   ]
  },
  {
   "cell_type": "markdown",
   "metadata": {},
   "source": [
    "Now that our datasets, sparse matrices and udf are created, we can begin laying the groundwork for NVTabular. NVTabular requires input features to be defined as groups of columns , so we define our ColumnGroup features at this step. Note that feature engineering and preprocessing often happens to sets of columns, so we adopt that method and require the user to specify continuous and categoricals along with the target as lists within ColumnGroup."
   ]
  },
  {
   "cell_type": "markdown",
   "metadata": {},
   "source": [
    "At this point, our data still isn’t in a form that’s ideal for consumption by our W&D model that we will train in the next notebook. There are missing values, and our categorical variables are still represented by random, discrete identifiers, and need to be transformed into contiguous indices for embedding lookups. The distributions of our continuous variables are uncentered. We also would like to create new features that will help to increase the model accuracy."
   ]
  },
  {
   "cell_type": "markdown",
   "metadata": {},
   "source": [
    "Let's begin to create and process features using NVTabular ops:\n",
    " * <i>geo_location_state</i> and <i>geo_location_country</i> are created by stripping geo_location using the `LambdaOp`\n",
    " * <i>publish_time_days_since_published</i> and <i>publish_time_promo_days_since_published</i> features are created using the `calculate_delta` function in a `LambdaOp`\n",
    " * Missing values are filled using median value depending on the feature using `FillMedian()`op\n",
    " * Continuous features are log transformed with the `LogOp()`.\n",
    " \n",
    "`Categorify` op is used for categorification, i.e. encoding of categorical features. Categorify op takes a param called `freq_threshold` which is used for frequency capping. This handy functionality will map all categories which occur in the dataset with some threshold level of infrequency to the _same_ index, keeping the model from overfitting to sparse signals. We don't apply  frequency thresholds in this example, but one can easily create a frequency threshold dictionary, assign a custom threshold value for each categorical feature, and feed that dictionary into the `Categorify` op as `freq_threshold` param."
   ]
  },
  {
   "cell_type": "markdown",
   "metadata": {},
   "source": [
    "One of the important part of building recommender systems is to do feature engineering. As a very promising feature engineering technique, `Target Encoding` processes the categorical features and makes them easier accessible to the model during training and validation. *Target Encoding (TE)* has emerged as being both effective and efficient in many data science projects. For example, it is the major component of Nvidia Kaggle Grandmasters team’s [winning solution](https://medium.com/rapids-ai/winning-solution-of-recsys2020-challenge-gpu-accelerated-feature-engineering-and-training-for-cd67c5a87b1f) of [Recsys Challenge 2020](http://www.recsyschallenge.com/2020/). TE calculates the statistics from a target variable grouped by the unique values of one or more categorical features. For example in a binary classification problem, it calculates the probability that the target is true for each category value - a simple mean. In other words, for each distinct element in feature <b>$x$</b> we are going to compute the average of the corresponding values in target <i>y</i>. Then we are going to replace each $x_{i}$ with the corresponding mean value. For more details on TargetEncoding please visit [here](https://medium.com/rapids-ai/target-encoding-with-rapids-cuml-do-more-with-your-categorical-data-8c762c79e784) and [here](https://github.com/rapidsai/deeplearning/blob/main/RecSys2020Tutorial/03_3_TargetEncoding.ipynb).\n",
    "\n",
    "Here, we apply Target Encoding to certain categorical features with *kfold* of 5 and *smoothing* of 20 to avoid overfitting using [TargetEncoding op](https://github.com/NVIDIA/NVTabular/blob/a0141d0a710698470160bc2cbc42b18ce2d49133/nvtabular/ops/target_encoding.py)."
   ]
  },
  {
   "cell_type": "markdown",
   "metadata": {},
   "source": [
    "## Feature Engineering"
   ]
  },
  {
   "cell_type": "markdown",
   "metadata": {},
   "source": [
    "Below, we create a custom operator that calculates the time difference between a specified time column (either publish_time or publish_time_promo) and timestamp. This is used to calculate <i>time elapsed since publication</i> between the landing page and the ad."
   ]
  },
  {
   "cell_type": "code",
   "execution_count": 7,
   "metadata": {},
   "outputs": [],
   "source": [
    "#To save disk space, the timestamps in the entire dataset are relative to the first time in the dataset. \n",
    "#To recover the actual epoch time of the visit, we add 1465876799998 to the timestamp.\n",
    "TIMESTAMP_DELTA = 1465876799998\n",
    "\n",
    "from nvtabular.ops import Operator\n",
    "\n",
    "class DaysSincePublished(Operator):\n",
    "    def transform(self, columns, gdf):\n",
    "        for column in columns:\n",
    "            col = gdf[column]\n",
    "            col.loc[col == \"\"] = None\n",
    "            col = col.astype('datetime64[ns]')\n",
    "            timestamp = (gdf['timestamp']+TIMESTAMP_DELTA).astype('datetime64[ms]')\n",
    "            delta = (timestamp - col).dt.days\n",
    "            gdf[column + \"_since_published\"] = delta * (delta >=0) * (delta<=10*365)\n",
    "        return gdf\n",
    "            \n",
    "    def output_column_names(self, columns):\n",
    "        return [column + \"_since_published\" for column in columns]\n",
    "            \n",
    "    def dependencies(self):\n",
    "        return [\"timestamp\"]"
   ]
  },
  {
   "cell_type": "code",
   "execution_count": 8,
   "metadata": {},
   "outputs": [],
   "source": [
    "# geo processing: apply two different lambda operators to the ‘geo_location’ column, and \n",
    "# extract the country/state from the geo_location value. The geo_location column\n",
    "# looks something like \"US>CA>12345\", so we're using string slicing to pull out the country\n",
    "# and the country+state then \n",
    "geo_location = ColumnGroup([\"geo_location\"])\n",
    "country = geo_location >> (lambda col: col.str.slice(0, 2)) >> Rename(postfix=\"_country\")\n",
    "state = geo_location >> (lambda col: col.str.slice(0, 5)) >> Rename(postfix=\"_state\")\n",
    "geo_features = geo_location + country + state\n",
    "\n",
    "# categoricals processing: categorify certain input columns as well as the geo features\n",
    "cats = ColumnGroup(['ad_id', 'document_id', 'platform', 'document_id_promo', 'campaign_id', 'advertiser_id', 'source_id', 'publisher_id', 'source_id_promo', 'publisher_id_promo'])\n",
    "cat_features = geo_features + cats >> Categorify()\n",
    "\n",
    "# Apply TargetEncoding to certain categoricals with kfold of 1 and smoothing of 20\n",
    "te_features = cats >> TargetEncoding(\"clicked\", kfold=5, p_smooth=20)\n",
    " \n",
    "# process dates using the ‘DaysSincePublished’ custom operator\n",
    "dates = [\"publish_time\", \"publish_time_promo\"]\n",
    "date_features = dates >> DaysSincePublished() >> FillMedian() >> LogOp()"
   ]
  },
  {
   "cell_type": "markdown",
   "metadata": {},
   "source": [
    "Let's visualize our calculation graph with the column groups we used and created so far."
   ]
  },
  {
   "cell_type": "code",
   "execution_count": 9,
   "metadata": {},
   "outputs": [
    {
     "data": {
      "image/svg+xml": [
       "<?xml version=\"1.0\" encoding=\"UTF-8\" standalone=\"no\"?>\n",
       "<!DOCTYPE svg PUBLIC \"-//W3C//DTD SVG 1.1//EN\"\n",
       " \"http://www.w3.org/Graphics/SVG/1.1/DTD/svg11.dtd\">\n",
       "<!-- Generated by graphviz version 2.43.0 (0)\n",
       " -->\n",
       "<!-- Title: %3 Pages: 1 -->\n",
       "<svg width=\"1504pt\" height=\"476pt\"\n",
       " viewBox=\"0.00 0.00 1504.47 476.00\" xmlns=\"http://www.w3.org/2000/svg\" xmlns:xlink=\"http://www.w3.org/1999/xlink\">\n",
       "<g id=\"graph0\" class=\"graph\" transform=\"scale(1 1) rotate(0) translate(4 472)\">\n",
       "<title>%3</title>\n",
       "<polygon fill=\"white\" stroke=\"transparent\" points=\"-4,4 -4,-472 1500.47,-472 1500.47,4 -4,4\"/>\n",
       "<!-- 0 -->\n",
       "<g id=\"node1\" class=\"node\">\n",
       "<title>0</title>\n",
       "<ellipse fill=\"none\" stroke=\"black\" cx=\"1228.43\" cy=\"-378\" rx=\"61.19\" ry=\"18\"/>\n",
       "<text text-anchor=\"middle\" x=\"1228.43\" y=\"-374.3\" font-family=\"Times,serif\" font-size=\"14.00\">LambdaOp</text>\n",
       "</g>\n",
       "<!-- 9 -->\n",
       "<g id=\"node14\" class=\"node\">\n",
       "<title>9</title>\n",
       "<ellipse fill=\"none\" stroke=\"black\" cx=\"1254.43\" cy=\"-306\" rx=\"48.19\" ry=\"18\"/>\n",
       "<text text-anchor=\"middle\" x=\"1254.43\" y=\"-302.3\" font-family=\"Times,serif\" font-size=\"14.00\">Rename</text>\n",
       "</g>\n",
       "<!-- 0&#45;&gt;9 -->\n",
       "<g id=\"edge9\" class=\"edge\">\n",
       "<title>0&#45;&gt;9</title>\n",
       "<path fill=\"none\" stroke=\"black\" d=\"M1234.72,-360.05C1237.65,-352.18 1241.2,-342.62 1244.48,-333.79\"/>\n",
       "<polygon fill=\"black\" stroke=\"black\" points=\"1247.81,-334.87 1248.01,-324.28 1241.25,-332.43 1247.81,-334.87\"/>\n",
       "</g>\n",
       "<!-- 7 -->\n",
       "<g id=\"node2\" class=\"node\">\n",
       "<title>7</title>\n",
       "<ellipse fill=\"none\" stroke=\"black\" cx=\"1368.43\" cy=\"-450\" rx=\"128.08\" ry=\"18\"/>\n",
       "<text text-anchor=\"middle\" x=\"1368.43\" y=\"-446.3\" font-family=\"Times,serif\" font-size=\"14.00\">input cols=[geo_location]</text>\n",
       "</g>\n",
       "<!-- 7&#45;&gt;0 -->\n",
       "<g id=\"edge1\" class=\"edge\">\n",
       "<title>7&#45;&gt;0</title>\n",
       "<path fill=\"none\" stroke=\"black\" d=\"M1335.61,-432.59C1315.19,-422.38 1288.83,-409.2 1267.36,-398.47\"/>\n",
       "<polygon fill=\"black\" stroke=\"black\" points=\"1268.7,-395.22 1258.19,-393.88 1265.56,-401.48 1268.7,-395.22\"/>\n",
       "</g>\n",
       "<!-- 15 -->\n",
       "<g id=\"node7\" class=\"node\">\n",
       "<title>15</title>\n",
       "<ellipse fill=\"none\" stroke=\"black\" cx=\"1368.43\" cy=\"-378\" rx=\"61.19\" ry=\"18\"/>\n",
       "<text text-anchor=\"middle\" x=\"1368.43\" y=\"-374.3\" font-family=\"Times,serif\" font-size=\"14.00\">LambdaOp</text>\n",
       "</g>\n",
       "<!-- 7&#45;&gt;15 -->\n",
       "<g id=\"edge19\" class=\"edge\">\n",
       "<title>7&#45;&gt;15</title>\n",
       "<path fill=\"none\" stroke=\"black\" d=\"M1368.43,-431.7C1368.43,-423.98 1368.43,-414.71 1368.43,-406.11\"/>\n",
       "<polygon fill=\"black\" stroke=\"black\" points=\"1371.93,-406.1 1368.43,-396.1 1364.93,-406.1 1371.93,-406.1\"/>\n",
       "</g>\n",
       "<!-- 13 -->\n",
       "<g id=\"node17\" class=\"node\">\n",
       "<title>13</title>\n",
       "<ellipse fill=\"none\" stroke=\"black\" cx=\"1254.43\" cy=\"-234\" rx=\"27\" ry=\"18\"/>\n",
       "<text text-anchor=\"middle\" x=\"1254.43\" y=\"-230.3\" font-family=\"Times,serif\" font-size=\"14.00\">+</text>\n",
       "</g>\n",
       "<!-- 7&#45;&gt;13 -->\n",
       "<g id=\"edge14\" class=\"edge\">\n",
       "<title>7&#45;&gt;13</title>\n",
       "<path fill=\"none\" stroke=\"black\" d=\"M1402.01,-432.53C1415.97,-423.77 1430.69,-411.56 1438.43,-396 1450.13,-372.47 1429.03,-292.07 1425.43,-288 1391.66,-249.84 1331,-238.82 1291.75,-235.83\"/>\n",
       "<polygon fill=\"black\" stroke=\"black\" points=\"1291.73,-232.32 1281.53,-235.19 1291.29,-239.31 1291.73,-232.32\"/>\n",
       "</g>\n",
       "<!-- 1 -->\n",
       "<g id=\"node3\" class=\"node\">\n",
       "<title>1</title>\n",
       "<ellipse fill=\"none\" stroke=\"black\" cx=\"513.43\" cy=\"-234\" rx=\"60.39\" ry=\"18\"/>\n",
       "<text text-anchor=\"middle\" x=\"513.43\" y=\"-230.3\" font-family=\"Times,serif\" font-size=\"14.00\">FillMedian</text>\n",
       "</g>\n",
       "<!-- 6 -->\n",
       "<g id=\"node11\" class=\"node\">\n",
       "<title>6</title>\n",
       "<ellipse fill=\"none\" stroke=\"black\" cx=\"805.43\" cy=\"-162\" rx=\"40.89\" ry=\"18\"/>\n",
       "<text text-anchor=\"middle\" x=\"805.43\" y=\"-158.3\" font-family=\"Times,serif\" font-size=\"14.00\">LogOp</text>\n",
       "</g>\n",
       "<!-- 1&#45;&gt;6 -->\n",
       "<g id=\"edge6\" class=\"edge\">\n",
       "<title>1&#45;&gt;6</title>\n",
       "<path fill=\"none\" stroke=\"black\" d=\"M563.42,-223.75C612.64,-214.25 689.76,-198.29 755.43,-180 758.57,-179.13 761.79,-178.17 765.03,-177.17\"/>\n",
       "<polygon fill=\"black\" stroke=\"black\" points=\"766.21,-180.46 774.66,-174.07 764.07,-173.8 766.21,-180.46\"/>\n",
       "</g>\n",
       "<!-- 4 -->\n",
       "<g id=\"node4\" class=\"node\">\n",
       "<title>4</title>\n",
       "<ellipse fill=\"none\" stroke=\"black\" cx=\"413.43\" cy=\"-306\" rx=\"104.78\" ry=\"18\"/>\n",
       "<text text-anchor=\"middle\" x=\"413.43\" y=\"-302.3\" font-family=\"Times,serif\" font-size=\"14.00\">DaysSincePublished</text>\n",
       "</g>\n",
       "<!-- 4&#45;&gt;1 -->\n",
       "<g id=\"edge2\" class=\"edge\">\n",
       "<title>4&#45;&gt;1</title>\n",
       "<path fill=\"none\" stroke=\"black\" d=\"M437.13,-288.41C450.74,-278.88 468,-266.8 482.65,-256.55\"/>\n",
       "<polygon fill=\"black\" stroke=\"black\" points=\"484.75,-259.35 490.93,-250.75 480.73,-253.62 484.75,-259.35\"/>\n",
       "</g>\n",
       "<!-- 2 -->\n",
       "<g id=\"node5\" class=\"node\">\n",
       "<title>2</title>\n",
       "<ellipse fill=\"none\" stroke=\"black\" cx=\"643.43\" cy=\"-162\" rx=\"102.88\" ry=\"18\"/>\n",
       "<text text-anchor=\"middle\" x=\"643.43\" y=\"-158.3\" font-family=\"Times,serif\" font-size=\"14.00\">input cols=[clicked]</text>\n",
       "</g>\n",
       "<!-- 12 -->\n",
       "<g id=\"node15\" class=\"node\">\n",
       "<title>12</title>\n",
       "<ellipse fill=\"none\" stroke=\"black\" cx=\"839.43\" cy=\"-90\" rx=\"27\" ry=\"18\"/>\n",
       "<text text-anchor=\"middle\" x=\"839.43\" y=\"-86.3\" font-family=\"Times,serif\" font-size=\"14.00\">+</text>\n",
       "</g>\n",
       "<!-- 2&#45;&gt;12 -->\n",
       "<g id=\"edge13\" class=\"edge\">\n",
       "<title>2&#45;&gt;12</title>\n",
       "<path fill=\"none\" stroke=\"black\" d=\"M686.44,-145.64C722.59,-132.73 773.51,-114.54 806.49,-102.77\"/>\n",
       "<polygon fill=\"black\" stroke=\"black\" points=\"807.87,-105.99 816.11,-99.33 805.52,-99.4 807.87,-105.99\"/>\n",
       "</g>\n",
       "<!-- 3 -->\n",
       "<g id=\"node6\" class=\"node\">\n",
       "<title>3</title>\n",
       "<ellipse fill=\"none\" stroke=\"black\" cx=\"1368.43\" cy=\"-306\" rx=\"48.19\" ry=\"18\"/>\n",
       "<text text-anchor=\"middle\" x=\"1368.43\" y=\"-302.3\" font-family=\"Times,serif\" font-size=\"14.00\">Rename</text>\n",
       "</g>\n",
       "<!-- 3&#45;&gt;13 -->\n",
       "<g id=\"edge15\" class=\"edge\">\n",
       "<title>3&#45;&gt;13</title>\n",
       "<path fill=\"none\" stroke=\"black\" d=\"M1344.53,-290.33C1326.38,-279.18 1301.38,-263.83 1282.32,-252.12\"/>\n",
       "<polygon fill=\"black\" stroke=\"black\" points=\"1284.11,-249.12 1273.76,-246.87 1280.45,-255.08 1284.11,-249.12\"/>\n",
       "</g>\n",
       "<!-- 15&#45;&gt;3 -->\n",
       "<g id=\"edge3\" class=\"edge\">\n",
       "<title>15&#45;&gt;3</title>\n",
       "<path fill=\"none\" stroke=\"black\" d=\"M1368.43,-359.7C1368.43,-351.98 1368.43,-342.71 1368.43,-334.11\"/>\n",
       "<polygon fill=\"black\" stroke=\"black\" points=\"1371.93,-334.1 1368.43,-324.1 1364.93,-334.1 1371.93,-334.1\"/>\n",
       "</g>\n",
       "<!-- 11 -->\n",
       "<g id=\"node8\" class=\"node\">\n",
       "<title>11</title>\n",
       "<ellipse fill=\"none\" stroke=\"black\" cx=\"229.43\" cy=\"-378\" rx=\"229.36\" ry=\"18\"/>\n",
       "<text text-anchor=\"middle\" x=\"229.43\" y=\"-374.3\" font-family=\"Times,serif\" font-size=\"14.00\">input cols=[publish_time, publish_time_promo]</text>\n",
       "</g>\n",
       "<!-- 11&#45;&gt;4 -->\n",
       "<g id=\"edge4\" class=\"edge\">\n",
       "<title>11&#45;&gt;4</title>\n",
       "<path fill=\"none\" stroke=\"black\" d=\"M273.5,-360.23C300.32,-350.03 334.68,-336.96 362.64,-326.32\"/>\n",
       "<polygon fill=\"black\" stroke=\"black\" points=\"364.14,-329.5 372.24,-322.67 361.65,-322.96 364.14,-329.5\"/>\n",
       "</g>\n",
       "<!-- 10 -->\n",
       "<g id=\"node9\" class=\"node\">\n",
       "<title>10</title>\n",
       "<ellipse fill=\"none\" stroke=\"black\" cx=\"597.43\" cy=\"-378\" rx=\"120.48\" ry=\"18\"/>\n",
       "<text text-anchor=\"middle\" x=\"597.43\" y=\"-374.3\" font-family=\"Times,serif\" font-size=\"14.00\">input cols=[timestamp]</text>\n",
       "</g>\n",
       "<!-- 10&#45;&gt;4 -->\n",
       "<g id=\"edge5\" class=\"edge\">\n",
       "<title>10&#45;&gt;4</title>\n",
       "<path fill=\"none\" stroke=\"black\" d=\"M555.68,-361.12C528.43,-350.75 492.71,-337.16 463.87,-326.19\"/>\n",
       "<polygon fill=\"black\" stroke=\"black\" points=\"464.97,-322.86 454.38,-322.58 462.48,-329.41 464.97,-322.86\"/>\n",
       "</g>\n",
       "<!-- 5 -->\n",
       "<g id=\"node10\" class=\"node\">\n",
       "<title>5</title>\n",
       "<ellipse fill=\"none\" stroke=\"black\" cx=\"973.43\" cy=\"-306\" rx=\"214.46\" ry=\"18\"/>\n",
       "<text text-anchor=\"middle\" x=\"973.43\" y=\"-302.3\" font-family=\"Times,serif\" font-size=\"14.00\">input cols=[ad_id, document_id, platform...]</text>\n",
       "</g>\n",
       "<!-- 8 -->\n",
       "<g id=\"node12\" class=\"node\">\n",
       "<title>8</title>\n",
       "<ellipse fill=\"none\" stroke=\"black\" cx=\"874.43\" cy=\"-234\" rx=\"84.49\" ry=\"18\"/>\n",
       "<text text-anchor=\"middle\" x=\"874.43\" y=\"-230.3\" font-family=\"Times,serif\" font-size=\"14.00\">TargetEncoding</text>\n",
       "</g>\n",
       "<!-- 5&#45;&gt;8 -->\n",
       "<g id=\"edge7\" class=\"edge\">\n",
       "<title>5&#45;&gt;8</title>\n",
       "<path fill=\"none\" stroke=\"black\" d=\"M949.46,-288.05C936.48,-278.87 920.27,-267.41 906.24,-257.49\"/>\n",
       "<polygon fill=\"black\" stroke=\"black\" points=\"908.02,-254.46 897.83,-251.55 903.98,-260.18 908.02,-254.46\"/>\n",
       "</g>\n",
       "<!-- 5&#45;&gt;13 -->\n",
       "<g id=\"edge17\" class=\"edge\">\n",
       "<title>5&#45;&gt;13</title>\n",
       "<path fill=\"none\" stroke=\"black\" d=\"M1038.6,-288.76C1095.01,-274.71 1174.41,-254.93 1219.51,-243.7\"/>\n",
       "<polygon fill=\"black\" stroke=\"black\" points=\"1220.54,-247.05 1229.4,-241.24 1218.85,-240.26 1220.54,-247.05\"/>\n",
       "</g>\n",
       "<!-- 6&#45;&gt;12 -->\n",
       "<g id=\"edge10\" class=\"edge\">\n",
       "<title>6&#45;&gt;12</title>\n",
       "<path fill=\"none\" stroke=\"black\" d=\"M813.66,-144.05C817.69,-135.77 822.62,-125.62 827.08,-116.42\"/>\n",
       "<polygon fill=\"black\" stroke=\"black\" points=\"830.29,-117.83 831.51,-107.31 823.99,-114.77 830.29,-117.83\"/>\n",
       "</g>\n",
       "<!-- 8&#45;&gt;12 -->\n",
       "<g id=\"edge12\" class=\"edge\">\n",
       "<title>8&#45;&gt;12</title>\n",
       "<path fill=\"none\" stroke=\"black\" d=\"M871.2,-215.84C867.72,-197.84 861.81,-168.79 855.43,-144 853.22,-135.4 850.52,-126.1 847.97,-117.73\"/>\n",
       "<polygon fill=\"black\" stroke=\"black\" points=\"851.28,-116.6 844.98,-108.08 844.6,-118.67 851.28,-116.6\"/>\n",
       "</g>\n",
       "<!-- 16 -->\n",
       "<g id=\"node13\" class=\"node\">\n",
       "<title>16</title>\n",
       "<ellipse fill=\"none\" stroke=\"black\" cx=\"638.43\" cy=\"-306\" rx=\"102.88\" ry=\"18\"/>\n",
       "<text text-anchor=\"middle\" x=\"638.43\" y=\"-302.3\" font-family=\"Times,serif\" font-size=\"14.00\">input cols=[clicked]</text>\n",
       "</g>\n",
       "<!-- 16&#45;&gt;8 -->\n",
       "<g id=\"edge8\" class=\"edge\">\n",
       "<title>16&#45;&gt;8</title>\n",
       "<path fill=\"none\" stroke=\"black\" d=\"M688.19,-290.24C725.97,-279.04 777.96,-263.62 817.41,-251.91\"/>\n",
       "<polygon fill=\"black\" stroke=\"black\" points=\"818.56,-255.22 827.15,-249.02 816.57,-248.51 818.56,-255.22\"/>\n",
       "</g>\n",
       "<!-- 9&#45;&gt;13 -->\n",
       "<g id=\"edge16\" class=\"edge\">\n",
       "<title>9&#45;&gt;13</title>\n",
       "<path fill=\"none\" stroke=\"black\" d=\"M1254.43,-287.7C1254.43,-279.98 1254.43,-270.71 1254.43,-262.11\"/>\n",
       "<polygon fill=\"black\" stroke=\"black\" points=\"1257.93,-262.1 1254.43,-252.1 1250.93,-262.1 1257.93,-262.1\"/>\n",
       "</g>\n",
       "<!-- 17 -->\n",
       "<g id=\"node18\" class=\"node\">\n",
       "<title>17</title>\n",
       "<ellipse fill=\"none\" stroke=\"black\" cx=\"839.43\" cy=\"-18\" rx=\"464.12\" ry=\"18\"/>\n",
       "<text text-anchor=\"middle\" x=\"839.43\" y=\"-14.3\" font-family=\"Times,serif\" font-size=\"14.00\">output cols=[publish_time_since_published, publish_time_promo_since_published, geo_location...]</text>\n",
       "</g>\n",
       "<!-- 12&#45;&gt;17 -->\n",
       "<g id=\"edge20\" class=\"edge\">\n",
       "<title>12&#45;&gt;17</title>\n",
       "<path fill=\"none\" stroke=\"black\" d=\"M839.43,-71.7C839.43,-63.98 839.43,-54.71 839.43,-46.11\"/>\n",
       "<polygon fill=\"black\" stroke=\"black\" points=\"842.93,-46.1 839.43,-36.1 835.93,-46.1 842.93,-46.1\"/>\n",
       "</g>\n",
       "<!-- 14 -->\n",
       "<g id=\"node16\" class=\"node\">\n",
       "<title>14</title>\n",
       "<ellipse fill=\"none\" stroke=\"black\" cx=\"1158.43\" cy=\"-162\" rx=\"59.59\" ry=\"18\"/>\n",
       "<text text-anchor=\"middle\" x=\"1158.43\" y=\"-158.3\" font-family=\"Times,serif\" font-size=\"14.00\">Categorify</text>\n",
       "</g>\n",
       "<!-- 14&#45;&gt;12 -->\n",
       "<g id=\"edge11\" class=\"edge\">\n",
       "<title>14&#45;&gt;12</title>\n",
       "<path fill=\"none\" stroke=\"black\" d=\"M1111.7,-150.75C1047.35,-136.63 932.85,-111.5 875,-98.8\"/>\n",
       "<polygon fill=\"black\" stroke=\"black\" points=\"875.39,-95.31 864.88,-96.58 873.89,-102.15 875.39,-95.31\"/>\n",
       "</g>\n",
       "<!-- 13&#45;&gt;14 -->\n",
       "<g id=\"edge18\" class=\"edge\">\n",
       "<title>13&#45;&gt;14</title>\n",
       "<path fill=\"none\" stroke=\"black\" d=\"M1236.82,-220.16C1223.39,-210.37 1204.58,-196.65 1188.74,-185.1\"/>\n",
       "<polygon fill=\"black\" stroke=\"black\" points=\"1190.45,-182.02 1180.31,-178.95 1186.33,-187.67 1190.45,-182.02\"/>\n",
       "</g>\n",
       "</g>\n",
       "</svg>\n"
      ],
      "text/plain": [
       "<graphviz.dot.Digraph at 0x7f9ff7fb9a00>"
      ]
     },
     "execution_count": 9,
     "metadata": {},
     "output_type": "execute_result"
    }
   ],
   "source": [
    "features = date_features + cat_features + te_features + \"clicked\"\n",
    "features.graph"
   ]
  },
  {
   "cell_type": "markdown",
   "metadata": {},
   "source": [
    "A user might sometimes be interested to continue reading about the same topics of the current page. Computing the similarity between the textual content of the current page and the pages linked to the displayed ads, can be a relevant feature for a model that predicts which ad the user would click next. A simple, yet effective way to compute the similarity between documents is generating the TF-IDF vectors for each of them, which captures their most relevant terms, and then computing the cosine similarity between those vectors.\n",
    " \n",
    "Below, we calculate <i>doc_event_doc_ad_sim_categories</i>, <i>topics</i>, and <i>entities</i> using the `ColumnSimilarity` op, which utilizes the sparse categories, topics, and entities matrices that were created above to calculate landing page similarity for categories, topics, and entities. We calculate Cosine similarity between event doc (landing page) and ad doc aspects vectors (TF-IDF). Creating these extra features help to improve model accuracy and predictability. "
   ]
  },
  {
   "cell_type": "markdown",
   "metadata": {},
   "source": [
    "Note that we rename the column names to avoid duplicated column names."
   ]
  },
  {
   "cell_type": "code",
   "execution_count": 10,
   "metadata": {},
   "outputs": [
    {
     "name": "stderr",
     "output_type": "stream",
     "text": [
      "/nvtabular/nvtabular/ops/column_similarity.py:229: RuntimeWarning: divide by zero encountered in true_divide\n",
      "  idf = np.log(N / np.bincount(X.col))\n"
     ]
    }
   ],
   "source": [
    "sim_features_categ = [[\"document_id\", \"document_id_promo\"]] >> ColumnSimilarity(categories, metric='tfidf', on_device=False) >> Rename(postfix=\"_categories\")\n",
    "sim_features_topics= [[\"document_id\", \"document_id_promo\"]] >> ColumnSimilarity(topics, metric='tfidf', on_device=False) >> Rename(postfix=\"_topics\")\n",
    "sim_features_entities= [[\"document_id\", \"document_id_promo\"]] >> ColumnSimilarity(entities, metric='tfidf', on_device=False) >> Rename(postfix=\"_entities\")\n",
    "sim_features = sim_features_categ + sim_features_topics +  sim_features_entities"
   ]
  },
  {
   "cell_type": "code",
   "execution_count": 11,
   "metadata": {},
   "outputs": [],
   "source": [
    "# The workflow is created with the output node of the graph\n",
    "workflow = nvt.Workflow(features + sim_features)"
   ]
  },
  {
   "cell_type": "markdown",
   "metadata": {},
   "source": [
    "We then create an NVTabular Dataset object both for train and validation sets. We calculate statistics for this workflow on the input dataset, i.e. on our training set, using the `workflow.fit()` method so that our <i>Workflow</i> can use these stats to transform any given input. When our <i>Workflow</i> transorms our datasets and, we also save the results out to parquet files for fast reading at train time."
   ]
  },
  {
   "cell_type": "code",
   "execution_count": 12,
   "metadata": {},
   "outputs": [],
   "source": [
    "train_dataset = nvt.Dataset(train_filename)\n",
    "valid_dataset = nvt.Dataset(valid_filename)\n",
    "\n",
    "# Calculate statistics on the training set\n",
    "workflow.fit(train_dataset)"
   ]
  },
  {
   "cell_type": "code",
   "execution_count": 13,
   "metadata": {},
   "outputs": [],
   "source": [
    "# use the calculated statistics to transform the train/valid datasets \n",
    "# and write out each as parquet\n",
    "workflow.transform(train_dataset).to_parquet(output_path=output_train_dir, shuffle=Shuffle.PER_PARTITION, out_files_per_proc=5)\n",
    "workflow.transform(valid_dataset).to_parquet(output_path=output_valid_dir)"
   ]
  },
  {
   "cell_type": "markdown",
   "metadata": {},
   "source": [
    "We can save the stats from the workflow and load it anytime, so we can run training without doing preprocessing."
   ]
  },
  {
   "cell_type": "markdown",
   "metadata": {},
   "source": [
    "In the next notebooks, we will train a deep learning model. Our training pipeline requires information about the data schema to define the neural network architecture. We will save the NVTabular workflow to disk so that we can restore it in the next notebooks."
   ]
  },
  {
   "cell_type": "code",
   "execution_count": 14,
   "metadata": {},
   "outputs": [],
   "source": [
    "workflow.save(os.path.join(OUTPUT_BUCKET_FOLDER, 'workflow'))"
   ]
  },
  {
   "cell_type": "markdown",
   "metadata": {},
   "source": [
    "## Reviewing processed data"
   ]
  },
  {
   "cell_type": "code",
   "execution_count": 15,
   "metadata": {},
   "outputs": [
    {
     "data": {
      "text/plain": [
       "(['./outbrain-preprocessed/train/0.a4c95471e61c4b1baa42627e49b563fa.parquet',\n",
       "  './outbrain-preprocessed/train/1.ea4d1aca0353457d835fd6fc4e941d99.parquet',\n",
       "  './outbrain-preprocessed/train/2.dc9c375407584d8aaf07d3604cb83b83.parquet',\n",
       "  './outbrain-preprocessed/train/3.c5f0569a9dab48cba5a47e63707c2b11.parquet',\n",
       "  './outbrain-preprocessed/train/4.947d86c7e980439199618a1ce39f044f.parquet'],\n",
       " ['./outbrain-preprocessed/valid/0.a7fed8c515d44825baed25d1557905ac.parquet'])"
      ]
     },
     "execution_count": 15,
     "metadata": {},
     "output_type": "execute_result"
    }
   ],
   "source": [
    "TRAIN_PATHS = sorted(glob.glob(os.path.join(OUTPUT_BUCKET_FOLDER, 'train/*.parquet')))\n",
    "VALID_PATHS = sorted(glob.glob(os.path.join(OUTPUT_BUCKET_FOLDER, 'valid/*.parquet')))\n",
    "TRAIN_PATHS, VALID_PATHS"
   ]
  },
  {
   "cell_type": "code",
   "execution_count": 16,
   "metadata": {},
   "outputs": [
    {
     "data": {
      "text/html": [
       "<div>\n",
       "<style scoped>\n",
       "    .dataframe tbody tr th:only-of-type {\n",
       "        vertical-align: middle;\n",
       "    }\n",
       "\n",
       "    .dataframe tbody tr th {\n",
       "        vertical-align: top;\n",
       "    }\n",
       "\n",
       "    .dataframe thead th {\n",
       "        text-align: right;\n",
       "    }\n",
       "</style>\n",
       "<table border=\"1\" class=\"dataframe\">\n",
       "  <thead>\n",
       "    <tr style=\"text-align: right;\">\n",
       "      <th></th>\n",
       "      <th>publish_time_since_published</th>\n",
       "      <th>publish_time_promo_since_published</th>\n",
       "      <th>geo_location</th>\n",
       "      <th>geo_location_country</th>\n",
       "      <th>geo_location_state</th>\n",
       "      <th>ad_id</th>\n",
       "      <th>document_id</th>\n",
       "      <th>platform</th>\n",
       "      <th>document_id_promo</th>\n",
       "      <th>campaign_id</th>\n",
       "      <th>...</th>\n",
       "      <th>TE_campaign_id_clicked</th>\n",
       "      <th>TE_advertiser_id_clicked</th>\n",
       "      <th>TE_source_id_clicked</th>\n",
       "      <th>TE_publisher_id_clicked</th>\n",
       "      <th>TE_source_id_promo_clicked</th>\n",
       "      <th>TE_publisher_id_promo_clicked</th>\n",
       "      <th>clicked</th>\n",
       "      <th>document_id_document_id_promo_sim_categories</th>\n",
       "      <th>document_id_document_id_promo_sim_topics</th>\n",
       "      <th>document_id_document_id_promo_sim_entities</th>\n",
       "    </tr>\n",
       "  </thead>\n",
       "  <tbody>\n",
       "    <tr>\n",
       "      <th>0</th>\n",
       "      <td>0.693147</td>\n",
       "      <td>4.553877</td>\n",
       "      <td>2596</td>\n",
       "      <td>215</td>\n",
       "      <td>2357</td>\n",
       "      <td>85565</td>\n",
       "      <td>404970</td>\n",
       "      <td>3</td>\n",
       "      <td>36211</td>\n",
       "      <td>12812</td>\n",
       "      <td>...</td>\n",
       "      <td>0.144099</td>\n",
       "      <td>0.240990</td>\n",
       "      <td>0.435256</td>\n",
       "      <td>0.435256</td>\n",
       "      <td>0.242040</td>\n",
       "      <td>-0.782593</td>\n",
       "      <td>0</td>\n",
       "      <td>1.000000</td>\n",
       "      <td>0.470287</td>\n",
       "      <td>0.0</td>\n",
       "    </tr>\n",
       "    <tr>\n",
       "      <th>1</th>\n",
       "      <td>5.105946</td>\n",
       "      <td>4.499810</td>\n",
       "      <td>2533</td>\n",
       "      <td>215</td>\n",
       "      <td>2350</td>\n",
       "      <td>55442</td>\n",
       "      <td>249763</td>\n",
       "      <td>2</td>\n",
       "      <td>26140</td>\n",
       "      <td>8215</td>\n",
       "      <td>...</td>\n",
       "      <td>0.064063</td>\n",
       "      <td>0.040250</td>\n",
       "      <td>0.176294</td>\n",
       "      <td>0.176373</td>\n",
       "      <td>0.064063</td>\n",
       "      <td>-0.780727</td>\n",
       "      <td>0</td>\n",
       "      <td>0.031506</td>\n",
       "      <td>0.000000</td>\n",
       "      <td>0.0</td>\n",
       "    </tr>\n",
       "    <tr>\n",
       "      <th>2</th>\n",
       "      <td>0.000000</td>\n",
       "      <td>5.564520</td>\n",
       "      <td>2364</td>\n",
       "      <td>215</td>\n",
       "      <td>2330</td>\n",
       "      <td>32135</td>\n",
       "      <td>416501</td>\n",
       "      <td>1</td>\n",
       "      <td>16864</td>\n",
       "      <td>4682</td>\n",
       "      <td>...</td>\n",
       "      <td>0.071239</td>\n",
       "      <td>0.064048</td>\n",
       "      <td>0.229829</td>\n",
       "      <td>0.231371</td>\n",
       "      <td>0.064048</td>\n",
       "      <td>0.064048</td>\n",
       "      <td>0</td>\n",
       "      <td>0.000000</td>\n",
       "      <td>0.000000</td>\n",
       "      <td>0.0</td>\n",
       "    </tr>\n",
       "    <tr>\n",
       "      <th>3</th>\n",
       "      <td>1.098612</td>\n",
       "      <td>4.219508</td>\n",
       "      <td>2723</td>\n",
       "      <td>215</td>\n",
       "      <td>2370</td>\n",
       "      <td>261557</td>\n",
       "      <td>82508</td>\n",
       "      <td>2</td>\n",
       "      <td>33795</td>\n",
       "      <td>25390</td>\n",
       "      <td>...</td>\n",
       "      <td>0.161606</td>\n",
       "      <td>0.159871</td>\n",
       "      <td>0.206112</td>\n",
       "      <td>0.206095</td>\n",
       "      <td>0.158806</td>\n",
       "      <td>-0.781577</td>\n",
       "      <td>0</td>\n",
       "      <td>0.000000</td>\n",
       "      <td>0.000000</td>\n",
       "      <td>0.0</td>\n",
       "    </tr>\n",
       "    <tr>\n",
       "      <th>4</th>\n",
       "      <td>6.184149</td>\n",
       "      <td>5.141664</td>\n",
       "      <td>2661</td>\n",
       "      <td>215</td>\n",
       "      <td>2364</td>\n",
       "      <td>73060</td>\n",
       "      <td>215207</td>\n",
       "      <td>3</td>\n",
       "      <td>26339</td>\n",
       "      <td>9421</td>\n",
       "      <td>...</td>\n",
       "      <td>0.306405</td>\n",
       "      <td>0.318230</td>\n",
       "      <td>0.177024</td>\n",
       "      <td>0.177015</td>\n",
       "      <td>0.306384</td>\n",
       "      <td>-0.782593</td>\n",
       "      <td>1</td>\n",
       "      <td>0.000000</td>\n",
       "      <td>0.000000</td>\n",
       "      <td>0.0</td>\n",
       "    </tr>\n",
       "  </tbody>\n",
       "</table>\n",
       "<p>5 rows × 29 columns</p>\n",
       "</div>"
      ],
      "text/plain": [
       "   publish_time_since_published  publish_time_promo_since_published  \\\n",
       "0                      0.693147                            4.553877   \n",
       "1                      5.105946                            4.499810   \n",
       "2                      0.000000                            5.564520   \n",
       "3                      1.098612                            4.219508   \n",
       "4                      6.184149                            5.141664   \n",
       "\n",
       "   geo_location  geo_location_country  geo_location_state   ad_id  \\\n",
       "0          2596                   215                2357   85565   \n",
       "1          2533                   215                2350   55442   \n",
       "2          2364                   215                2330   32135   \n",
       "3          2723                   215                2370  261557   \n",
       "4          2661                   215                2364   73060   \n",
       "\n",
       "   document_id  platform  document_id_promo  campaign_id  ...  \\\n",
       "0       404970         3              36211        12812  ...   \n",
       "1       249763         2              26140         8215  ...   \n",
       "2       416501         1              16864         4682  ...   \n",
       "3        82508         2              33795        25390  ...   \n",
       "4       215207         3              26339         9421  ...   \n",
       "\n",
       "   TE_campaign_id_clicked  TE_advertiser_id_clicked  TE_source_id_clicked  \\\n",
       "0                0.144099                  0.240990              0.435256   \n",
       "1                0.064063                  0.040250              0.176294   \n",
       "2                0.071239                  0.064048              0.229829   \n",
       "3                0.161606                  0.159871              0.206112   \n",
       "4                0.306405                  0.318230              0.177024   \n",
       "\n",
       "   TE_publisher_id_clicked  TE_source_id_promo_clicked  \\\n",
       "0                 0.435256                    0.242040   \n",
       "1                 0.176373                    0.064063   \n",
       "2                 0.231371                    0.064048   \n",
       "3                 0.206095                    0.158806   \n",
       "4                 0.177015                    0.306384   \n",
       "\n",
       "   TE_publisher_id_promo_clicked  clicked  \\\n",
       "0                      -0.782593        0   \n",
       "1                      -0.780727        0   \n",
       "2                       0.064048        0   \n",
       "3                      -0.781577        0   \n",
       "4                      -0.782593        1   \n",
       "\n",
       "   document_id_document_id_promo_sim_categories  \\\n",
       "0                                      1.000000   \n",
       "1                                      0.031506   \n",
       "2                                      0.000000   \n",
       "3                                      0.000000   \n",
       "4                                      0.000000   \n",
       "\n",
       "   document_id_document_id_promo_sim_topics  \\\n",
       "0                                  0.470287   \n",
       "1                                  0.000000   \n",
       "2                                  0.000000   \n",
       "3                                  0.000000   \n",
       "4                                  0.000000   \n",
       "\n",
       "   document_id_document_id_promo_sim_entities  \n",
       "0                                         0.0  \n",
       "1                                         0.0  \n",
       "2                                         0.0  \n",
       "3                                         0.0  \n",
       "4                                         0.0  \n",
       "\n",
       "[5 rows x 29 columns]"
      ]
     },
     "execution_count": 16,
     "metadata": {},
     "output_type": "execute_result"
    }
   ],
   "source": [
    "df = cudf.read_parquet(TRAIN_PATHS[0])\n",
    "df.head()"
   ]
  }
 ],
 "metadata": {
  "kernelspec": {
   "display_name": "Python 3",
   "language": "python",
   "name": "python3"
  },
  "language_info": {
   "codemirror_mode": {
    "name": "ipython",
    "version": 3
   },
   "file_extension": ".py",
   "mimetype": "text/x-python",
   "name": "python",
   "nbconvert_exporter": "python",
   "pygments_lexer": "ipython3",
   "version": "3.8.8"
  }
 },
 "nbformat": 4,
 "nbformat_minor": 4
}
