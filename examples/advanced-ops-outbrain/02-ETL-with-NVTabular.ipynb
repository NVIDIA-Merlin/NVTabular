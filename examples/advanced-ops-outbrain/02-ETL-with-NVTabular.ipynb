{
 "cells": [
  {
   "cell_type": "code",
   "execution_count": 1,
   "metadata": {},
   "outputs": [],
   "source": [
    "# Copyright 2021 NVIDIA Corporation. All Rights Reserved.\n",
    "#\n",
    "# Licensed under the Apache License, Version 2.0 (the \"License\");\n",
    "# you may not use this file except in compliance with the License.\n",
    "# You may obtain a copy of the License at\n",
    "#\n",
    "#     http://www.apache.org/licenses/LICENSE-2.0\n",
    "#\n",
    "# Unless required by applicable law or agreed to in writing, software\n",
    "# distributed under the License is distributed on an \"AS IS\" BASIS,\n",
    "# WITHOUT WARRANTIES OR CONDITIONS OF ANY KIND, either express or implied.\n",
    "# See the License for the specific language governing permissions and\n",
    "# limitations under the License.\n",
    "# =============================================================================="
   ]
  },
  {
   "cell_type": "markdown",
   "metadata": {},
   "source": [
    "# Getting Started Outbrain: ETL with NVTabular"
   ]
  },
  {
   "cell_type": "markdown",
   "metadata": {},
   "source": [
    "## Overview"
   ]
  },
  {
   "cell_type": "markdown",
   "metadata": {},
   "source": [
    "In this notebook we will do preprocessing and feature engineering using [Kaggle Outbrain dataset](https://www.kaggle.com/c/outbrain-click-prediction).\n",
    "\n",
    "**Learning objectives**\n",
    "\n",
    "In this notebook, we learn how to \n",
    "\n",
    "- Use LambdaOp for custom row-wise dataframe manipulations with NVTabular\n",
    "- Preprocess single-hot categorical input features with NVTabular\n",
    "- Apply TargetEncoding to categorical features\n",
    "- Create a custom operator to create time features\n",
    "- Apply ColumnSimilarity to calculate the similarity between two columns using tf-idf metric"
   ]
  },
  {
   "cell_type": "code",
   "execution_count": 2,
   "metadata": {},
   "outputs": [],
   "source": [
    "import os\n",
    "import glob\n",
    "\n",
    "import cupy\n",
    "\n",
    "# Get dataframe library - cudf or pandas\n",
    "from nvtabular.dispatch import get_lib\n",
    "df_lib = get_lib()\n",
    "\n",
    "import nvtabular as nvt\n",
    "from nvtabular.io import Shuffle\n",
    "from nvtabular.ops import (\n",
    "    FillMedian,\n",
    "    Categorify,\n",
    "    LogOp,\n",
    "    TargetEncoding,\n",
    "    Rename,\n",
    ")\n",
    "from nvtabular.ops.column_similarity import ColumnSimilarity\n",
    "\n",
    "from nvtabular import ColumnGroup"
   ]
  },
  {
   "cell_type": "markdown",
   "metadata": {},
   "source": [
    "First, we set where the dataset should be saved once processed (OUTPUT_BUCKET_FOLDER), as well as where the dataset originally resides (DATA_BUCKET_FOLDER)."
   ]
  },
  {
   "cell_type": "code",
   "execution_count": 3,
   "metadata": {},
   "outputs": [],
   "source": [
    "DATA_BUCKET_FOLDER = os.environ.get(\"INPUT_DATA_DIR\", \"~/nvt-examples/outbrain/data\")\n",
    "OUTPUT_BUCKET_FOLDER = os.environ.get(\"OUTPUT_DATA_DIR\", \"./outbrain-preprocessed/\")"
   ]
  },
  {
   "cell_type": "markdown",
   "metadata": {},
   "source": [
    "Let's read our saved train and valid datasets."
   ]
  },
  {
   "cell_type": "code",
   "execution_count": 4,
   "metadata": {},
   "outputs": [],
   "source": [
    "train_filename = os.path.join(OUTPUT_BUCKET_FOLDER, \"train_gdf.parquet\")\n",
    "valid_filename = os.path.join(OUTPUT_BUCKET_FOLDER, \"valid_gdf.parquet\")"
   ]
  },
  {
   "cell_type": "markdown",
   "metadata": {},
   "source": [
    "## Preparing documents metadata"
   ]
  },
  {
   "cell_type": "markdown",
   "metadata": {},
   "source": [
    "Let's create the output directories to store the preprocessed parquet files."
   ]
  },
  {
   "cell_type": "code",
   "execution_count": 5,
   "metadata": {},
   "outputs": [],
   "source": [
    "output_train_dir = os.path.join(OUTPUT_BUCKET_FOLDER, \"train/\")\n",
    "output_valid_dir = os.path.join(OUTPUT_BUCKET_FOLDER, \"valid/\")\n",
    "! mkdir -p $output_train_dir\n",
    "! mkdir -p $output_valid_dir"
   ]
  },
  {
   "cell_type": "markdown",
   "metadata": {},
   "source": [
    "We read in three more cudf data frames, <i>documents categories</i>, <i>topics</i>, and <i>entities</i>, and use them to create sparse matrices in cupy. We will use these later to calculate cosine similarity between event document (landing page context) and ad document profile vectors (TF-IDF), i.e., how close in profile an ad is to the page that it is being displayed."
   ]
  },
  {
   "cell_type": "code",
   "execution_count": 6,
   "metadata": {},
   "outputs": [],
   "source": [
    "# Alias for read_csv\n",
    "read_csv = df_lib.read_csv\n",
    "\n",
    "documents_categories_cudf = read_csv(DATA_BUCKET_FOLDER + \"documents_categories.csv\")\n",
    "documents_topics_cudf = read_csv(DATA_BUCKET_FOLDER + \"documents_topics.csv\")\n",
    "documents_entities_cudf = read_csv(DATA_BUCKET_FOLDER + \"documents_entities.csv\")\n",
    "\n",
    "\n",
    "# read in document categories/topics/entities as cupy sparse matrices\n",
    "def df_to_coo(df, row=\"document_id\", col=None, data=\"confidence_level\"):\n",
    "    return cupy.sparse.coo_matrix((df[data].values, (df[row].values, df[col].values)))\n",
    "\n",
    "\n",
    "categories = df_to_coo(documents_categories_cudf, col=\"category_id\")\n",
    "topics = df_to_coo(documents_topics_cudf, col=\"topic_id\")\n",
    "documents_entities_cudf[\"entity_id\"] = (\n",
    "    documents_entities_cudf[\"entity_id\"].astype(\"category\").cat.codes\n",
    ")\n",
    "entities = df_to_coo(documents_entities_cudf, col=\"entity_id\")\n",
    "\n",
    "documents_categories_cudf = documents_topics_cudf = documents_entities_cudf = None"
   ]
  },
  {
   "cell_type": "markdown",
   "metadata": {},
   "source": [
    "## Initiate NVTabular Workflow"
   ]
  },
  {
   "cell_type": "markdown",
   "metadata": {},
   "source": [
    "Now that our datasets, sparse matrices and udf are created, we can begin laying the groundwork for NVTabular. NVTabular requires input features to be defined as groups of columns , so we define our ColumnGroup features at this step. Note that feature engineering and preprocessing often happens to sets of columns, so we adopt that method and require the user to specify continuous and categoricals along with the target as lists within ColumnGroup."
   ]
  },
  {
   "cell_type": "markdown",
   "metadata": {},
   "source": [
    "At this point, our data still isn’t in a form that’s ideal for consumption by our W&D model that we will train in the next notebook. There are missing values, and our categorical variables are still represented by random, discrete identifiers, and need to be transformed into contiguous indices for embedding lookups. The distributions of our continuous variables are uncentered. We also would like to create new features that will help to increase the model accuracy."
   ]
  },
  {
   "cell_type": "markdown",
   "metadata": {},
   "source": [
    "Let's begin to create and process features using NVTabular ops:\n",
    " * <i>geo_location_state</i> and <i>geo_location_country</i> are created by stripping geo_location using the `LambdaOp`\n",
    " * <i>publish_time_days_since_published</i> and <i>publish_time_promo_days_since_published</i> features are created using the `calculate_delta` function in a `LambdaOp`\n",
    " * Missing values are filled using median value depending on the feature using `FillMedian()`op\n",
    " * Continuous features are log transformed with the `LogOp()`.\n",
    " \n",
    "`Categorify` op is used for categorification, i.e. encoding of categorical features. Categorify op takes a param called `freq_threshold` which is used for frequency capping. This handy functionality will map all categories which occur in the dataset with some threshold level of infrequency to the _same_ index, keeping the model from overfitting to sparse signals. We don't apply  frequency thresholds in this example, but one can easily create a frequency threshold dictionary, assign a custom threshold value for each categorical feature, and feed that dictionary into the `Categorify` op as `freq_threshold` param."
   ]
  },
  {
   "cell_type": "markdown",
   "metadata": {},
   "source": [
    "One of the important part of building recommender systems is to do feature engineering. As a very promising feature engineering technique, `Target Encoding` processes the categorical features and makes them easier accessible to the model during training and validation. *Target Encoding (TE)* has emerged as being both effective and efficient in many data science projects. For example, it is the major component of Nvidia Kaggle Grandmasters team’s [winning solution](https://medium.com/rapids-ai/winning-solution-of-recsys2020-challenge-gpu-accelerated-feature-engineering-and-training-for-cd67c5a87b1f) of [Recsys Challenge 2020](http://www.recsyschallenge.com/2020/). TE calculates the statistics from a target variable grouped by the unique values of one or more categorical features. For example in a binary classification problem, it calculates the probability that the target is true for each category value - a simple mean. In other words, for each distinct element in feature <b>$x$</b> we are going to compute the average of the corresponding values in target <i>y</i>. Then we are going to replace each $x_{i}$ with the corresponding mean value. For more details on TargetEncoding please visit [here](https://medium.com/rapids-ai/target-encoding-with-rapids-cuml-do-more-with-your-categorical-data-8c762c79e784) and [here](https://github.com/rapidsai/deeplearning/blob/main/RecSys2020Tutorial/03_3_TargetEncoding.ipynb).\n",
    "\n",
    "Here, we apply Target Encoding to certain categorical features with *kfold* of 5 and *smoothing* of 20 to avoid overfitting using [TargetEncoding op](https://github.com/NVIDIA/NVTabular/blob/a0141d0a710698470160bc2cbc42b18ce2d49133/nvtabular/ops/target_encoding.py)."
   ]
  },
  {
   "cell_type": "markdown",
   "metadata": {},
   "source": [
    "## Feature Engineering"
   ]
  },
  {
   "cell_type": "markdown",
   "metadata": {},
   "source": [
    "Below, we create a custom operator that calculates the time difference between a specified time column (either publish_time or publish_time_promo) and timestamp. This is used to calculate <i>time elapsed since publication</i> between the landing page and the ad."
   ]
  },
  {
   "cell_type": "code",
   "execution_count": 7,
   "metadata": {},
   "outputs": [],
   "source": [
    "# To save disk space, the timestamps in the entire dataset are relative to the first time in the dataset.\n",
    "# To recover the actual epoch time of the visit, we add 1465876799998 to the timestamp.\n",
    "TIMESTAMP_DELTA = 1465876799998\n",
    "\n",
    "from nvtabular.ops import Operator\n",
    "\n",
    "\n",
    "class DaysSincePublished(Operator):\n",
    "    def transform(self, columns, gdf):\n",
    "        for column in columns:\n",
    "            col = gdf[column]\n",
    "            col.loc[col == \"\"] = None\n",
    "            col = col.astype(\"datetime64[ns]\")\n",
    "            timestamp = (gdf[\"timestamp\"] + TIMESTAMP_DELTA).astype(\"datetime64[ms]\")\n",
    "            delta = (timestamp - col).dt.days\n",
    "            gdf[column + \"_since_published\"] = delta * (delta >= 0) * (delta <= 10 * 365)\n",
    "        return gdf\n",
    "\n",
    "    def output_column_names(self, columns):\n",
    "        return nvt.ColumnSelector([column + \"_since_published\" for column in columns])\n",
    "\n",
    "    def dependencies(self):\n",
    "        return [\"timestamp\"]"
   ]
  },
  {
   "cell_type": "code",
   "execution_count": 8,
   "metadata": {},
   "outputs": [],
   "source": [
    "# geo processing: apply two different lambda operators to the ‘geo_location’ column, and\n",
    "# extract the country/state from the geo_location value. The geo_location column\n",
    "# looks something like \"US>CA>12345\", so we're using string slicing to pull out the country\n",
    "# and the country+state then\n",
    "geo_location = ColumnGroup([\"geo_location\"])\n",
    "country = geo_location >> (lambda col: col.str.slice(0, 2)) >> Rename(postfix=\"_country\")\n",
    "state = geo_location >> (lambda col: col.str.slice(0, 5)) >> Rename(postfix=\"_state\")\n",
    "geo_features = geo_location + country + state\n",
    "\n",
    "# categoricals processing: categorify certain input columns as well as the geo features\n",
    "cats = ColumnGroup(\n",
    "    [\n",
    "        \"ad_id\",\n",
    "        \"document_id\",\n",
    "        \"platform\",\n",
    "        \"document_id_promo\",\n",
    "        \"campaign_id\",\n",
    "        \"advertiser_id\",\n",
    "        \"source_id\",\n",
    "        \"publisher_id\",\n",
    "        \"source_id_promo\",\n",
    "        \"publisher_id_promo\",\n",
    "    ]\n",
    ")\n",
    "cat_features = geo_features + cats >> Categorify()\n",
    "\n",
    "# Apply TargetEncoding to certain categoricals with kfold of 5 and smoothing of 20\n",
    "te_features = cats >> TargetEncoding(\"clicked\", kfold=5, p_smooth=20)\n",
    "\n",
    "# process dates using the ‘DaysSincePublished’ custom operator\n",
    "dates = [\"publish_time\", \"publish_time_promo\"]\n",
    "date_features = dates >> DaysSincePublished() >> FillMedian() >> LogOp()"
   ]
  },
  {
   "cell_type": "markdown",
   "metadata": {},
   "source": [
    "Let's visualize our calculation graph with the column groups we used and created so far."
   ]
  },
  {
   "cell_type": "code",
   "execution_count": 9,
   "metadata": {},
   "outputs": [
    {
     "data": {
      "image/svg+xml": [
       "<?xml version=\"1.0\" encoding=\"UTF-8\" standalone=\"no\"?>\n",
       "<!DOCTYPE svg PUBLIC \"-//W3C//DTD SVG 1.1//EN\"\n",
       " \"http://www.w3.org/Graphics/SVG/1.1/DTD/svg11.dtd\">\n",
       "<!-- Generated by graphviz version 2.40.1 (20161225.0304)\n",
       " -->\n",
       "<!-- Title: %3 Pages: 1 -->\n",
       "<svg width=\"876pt\" height=\"404pt\"\n",
       " viewBox=\"0.00 0.00 876.00 404.00\" xmlns=\"http://www.w3.org/2000/svg\" xmlns:xlink=\"http://www.w3.org/1999/xlink\">\n",
       "<g id=\"graph0\" class=\"graph\" transform=\"scale(1 1) rotate(0) translate(4 400)\">\n",
       "<title>%3</title>\n",
       "<polygon fill=\"#ffffff\" stroke=\"transparent\" points=\"-4,4 -4,-400 872.004,-400 872.004,4 -4,4\"/>\n",
       "<!-- 0 -->\n",
       "<g id=\"node1\" class=\"node\">\n",
       "<title>0</title>\n",
       "<ellipse fill=\"none\" stroke=\"#000000\" cx=\"120.8893\" cy=\"-378\" rx=\"120.7786\" ry=\"18\"/>\n",
       "<text text-anchor=\"middle\" x=\"120.8893\" y=\"-374.3\" font-family=\"Times,serif\" font-size=\"14.00\" fill=\"#000000\">(lambda col: col.str.slice(0, 5))</text>\n",
       "</g>\n",
       "<!-- 9 -->\n",
       "<g id=\"node8\" class=\"node\">\n",
       "<title>9</title>\n",
       "<ellipse fill=\"none\" stroke=\"#000000\" cx=\"200.8893\" cy=\"-306\" rx=\"40.0939\" ry=\"18\"/>\n",
       "<text text-anchor=\"middle\" x=\"200.8893\" y=\"-302.3\" font-family=\"Times,serif\" font-size=\"14.00\" fill=\"#000000\">Rename</text>\n",
       "</g>\n",
       "<!-- 0&#45;&gt;9 -->\n",
       "<g id=\"edge9\" class=\"edge\">\n",
       "<title>0&#45;&gt;9</title>\n",
       "<path fill=\"none\" stroke=\"#000000\" d=\"M140.6646,-360.2022C151.0153,-350.8866 163.818,-339.3641 174.9541,-329.3416\"/>\n",
       "<polygon fill=\"#000000\" stroke=\"#000000\" points=\"177.6179,-331.653 182.7095,-322.3618 172.9351,-326.45 177.6179,-331.653\"/>\n",
       "</g>\n",
       "<!-- 1 -->\n",
       "<g id=\"node2\" class=\"node\">\n",
       "<title>1</title>\n",
       "<ellipse fill=\"none\" stroke=\"#000000\" cx=\"470.8893\" cy=\"-162\" rx=\"35.9954\" ry=\"18\"/>\n",
       "<text text-anchor=\"middle\" x=\"470.8893\" y=\"-158.3\" font-family=\"Times,serif\" font-size=\"14.00\" fill=\"#000000\">LogOp</text>\n",
       "</g>\n",
       "<!-- 6 -->\n",
       "<g id=\"node9\" class=\"node\">\n",
       "<title>6</title>\n",
       "<ellipse fill=\"none\" stroke=\"#000000\" cx=\"470.8893\" cy=\"-90\" rx=\"27\" ry=\"18\"/>\n",
       "<text text-anchor=\"middle\" x=\"470.8893\" y=\"-86.3\" font-family=\"Times,serif\" font-size=\"14.00\" fill=\"#000000\">+</text>\n",
       "</g>\n",
       "<!-- 1&#45;&gt;6 -->\n",
       "<g id=\"edge5\" class=\"edge\">\n",
       "<title>1&#45;&gt;6</title>\n",
       "<path fill=\"none\" stroke=\"#000000\" d=\"M470.8893,-143.8314C470.8893,-136.131 470.8893,-126.9743 470.8893,-118.4166\"/>\n",
       "<polygon fill=\"#000000\" stroke=\"#000000\" points=\"474.3894,-118.4132 470.8893,-108.4133 467.3894,-118.4133 474.3894,-118.4132\"/>\n",
       "</g>\n",
       "<!-- 3 -->\n",
       "<g id=\"node3\" class=\"node\">\n",
       "<title>3</title>\n",
       "<ellipse fill=\"none\" stroke=\"#000000\" cx=\"475.8893\" cy=\"-234\" rx=\"50.0912\" ry=\"18\"/>\n",
       "<text text-anchor=\"middle\" x=\"475.8893\" y=\"-230.3\" font-family=\"Times,serif\" font-size=\"14.00\" fill=\"#000000\">FillMedian</text>\n",
       "</g>\n",
       "<!-- 3&#45;&gt;1 -->\n",
       "<g id=\"edge1\" class=\"edge\">\n",
       "<title>3&#45;&gt;1</title>\n",
       "<path fill=\"none\" stroke=\"#000000\" d=\"M474.6276,-215.8314C474.0928,-208.131 473.4569,-198.9743 472.8627,-190.4166\"/>\n",
       "<polygon fill=\"#000000\" stroke=\"#000000\" points=\"476.3524,-190.1467 472.168,-180.4133 469.3693,-190.6317 476.3524,-190.1467\"/>\n",
       "</g>\n",
       "<!-- 2 -->\n",
       "<g id=\"node4\" class=\"node\">\n",
       "<title>2</title>\n",
       "<ellipse fill=\"none\" stroke=\"#000000\" cx=\"480.8893\" cy=\"-306\" rx=\"83.3857\" ry=\"18\"/>\n",
       "<text text-anchor=\"middle\" x=\"480.8893\" y=\"-302.3\" font-family=\"Times,serif\" font-size=\"14.00\" fill=\"#000000\">DaysSincePublished</text>\n",
       "</g>\n",
       "<!-- 2&#45;&gt;3 -->\n",
       "<g id=\"edge2\" class=\"edge\">\n",
       "<title>2&#45;&gt;3</title>\n",
       "<path fill=\"none\" stroke=\"#000000\" d=\"M479.6276,-287.8314C479.0928,-280.131 478.4569,-270.9743 477.8627,-262.4166\"/>\n",
       "<polygon fill=\"#000000\" stroke=\"#000000\" points=\"481.3524,-262.1467 477.168,-252.4133 474.3693,-262.6317 481.3524,-262.1467\"/>\n",
       "</g>\n",
       "<!-- 4 -->\n",
       "<g id=\"node5\" class=\"node\">\n",
       "<title>4</title>\n",
       "<ellipse fill=\"none\" stroke=\"#000000\" cx=\"591.8893\" cy=\"-162\" rx=\"67.6881\" ry=\"18\"/>\n",
       "<text text-anchor=\"middle\" x=\"591.8893\" y=\"-158.3\" font-family=\"Times,serif\" font-size=\"14.00\" fill=\"#000000\">TargetEncoding</text>\n",
       "</g>\n",
       "<!-- 4&#45;&gt;6 -->\n",
       "<g id=\"edge7\" class=\"edge\">\n",
       "<title>4&#45;&gt;6</title>\n",
       "<path fill=\"none\" stroke=\"#000000\" d=\"M564.1294,-145.4817C544.9753,-134.0843 519.5559,-118.9587 500.0964,-107.3794\"/>\n",
       "<polygon fill=\"#000000\" stroke=\"#000000\" points=\"501.7313,-104.2796 491.3479,-102.1737 498.1518,-110.2951 501.7313,-104.2796\"/>\n",
       "</g>\n",
       "<!-- 5 -->\n",
       "<g id=\"node6\" class=\"node\">\n",
       "<title>5</title>\n",
       "<ellipse fill=\"none\" stroke=\"#000000\" cx=\"339.8893\" cy=\"-234\" rx=\"27\" ry=\"18\"/>\n",
       "<text text-anchor=\"middle\" x=\"339.8893\" y=\"-230.3\" font-family=\"Times,serif\" font-size=\"14.00\" fill=\"#000000\">+</text>\n",
       "</g>\n",
       "<!-- 10 -->\n",
       "<g id=\"node10\" class=\"node\">\n",
       "<title>10</title>\n",
       "<ellipse fill=\"none\" stroke=\"#000000\" cx=\"358.8893\" cy=\"-162\" rx=\"48.1917\" ry=\"18\"/>\n",
       "<text text-anchor=\"middle\" x=\"358.8893\" y=\"-158.3\" font-family=\"Times,serif\" font-size=\"14.00\" fill=\"#000000\">Categorify</text>\n",
       "</g>\n",
       "<!-- 5&#45;&gt;10 -->\n",
       "<g id=\"edge10\" class=\"edge\">\n",
       "<title>5&#45;&gt;10</title>\n",
       "<path fill=\"none\" stroke=\"#000000\" d=\"M344.5859,-216.2022C346.6711,-208.3005 349.1753,-198.811 351.5015,-189.9959\"/>\n",
       "<polygon fill=\"#000000\" stroke=\"#000000\" points=\"354.9472,-190.6552 354.1147,-180.0931 348.1789,-188.8691 354.9472,-190.6552\"/>\n",
       "</g>\n",
       "<!-- 7 -->\n",
       "<g id=\"node7\" class=\"node\">\n",
       "<title>7</title>\n",
       "<ellipse fill=\"none\" stroke=\"#000000\" cx=\"339.8893\" cy=\"-306\" rx=\"40.0939\" ry=\"18\"/>\n",
       "<text text-anchor=\"middle\" x=\"339.8893\" y=\"-302.3\" font-family=\"Times,serif\" font-size=\"14.00\" fill=\"#000000\">Rename</text>\n",
       "</g>\n",
       "<!-- 7&#45;&gt;5 -->\n",
       "<g id=\"edge3\" class=\"edge\">\n",
       "<title>7&#45;&gt;5</title>\n",
       "<path fill=\"none\" stroke=\"#000000\" d=\"M339.8893,-287.8314C339.8893,-280.131 339.8893,-270.9743 339.8893,-262.4166\"/>\n",
       "<polygon fill=\"#000000\" stroke=\"#000000\" points=\"343.3894,-262.4132 339.8893,-252.4133 336.3894,-262.4133 343.3894,-262.4132\"/>\n",
       "</g>\n",
       "<!-- 9&#45;&gt;5 -->\n",
       "<g id=\"edge4\" class=\"edge\">\n",
       "<title>9&#45;&gt;5</title>\n",
       "<path fill=\"none\" stroke=\"#000000\" d=\"M227.3613,-292.2879C250.8294,-280.1317 285.089,-262.3858 309.6339,-249.6718\"/>\n",
       "<polygon fill=\"#000000\" stroke=\"#000000\" points=\"311.2529,-252.7749 318.5226,-245.0676 308.0333,-246.5593 311.2529,-252.7749\"/>\n",
       "</g>\n",
       "<!-- 11 -->\n",
       "<g id=\"node12\" class=\"node\">\n",
       "<title>11</title>\n",
       "<ellipse fill=\"none\" stroke=\"#000000\" cx=\"470.8893\" cy=\"-18\" rx=\"397.2296\" ry=\"18\"/>\n",
       "<text text-anchor=\"middle\" x=\"470.8893\" y=\"-14.3\" font-family=\"Times,serif\" font-size=\"14.00\" fill=\"#000000\">output cols=[publish_time_since_published, publish_time_promo_since_published, geo_location_country...]</text>\n",
       "</g>\n",
       "<!-- 6&#45;&gt;11 -->\n",
       "<g id=\"edge11\" class=\"edge\">\n",
       "<title>6&#45;&gt;11</title>\n",
       "<path fill=\"none\" stroke=\"#000000\" d=\"M470.8893,-71.8314C470.8893,-64.131 470.8893,-54.9743 470.8893,-46.4166\"/>\n",
       "<polygon fill=\"#000000\" stroke=\"#000000\" points=\"474.3894,-46.4132 470.8893,-36.4133 467.3894,-46.4133 474.3894,-46.4132\"/>\n",
       "</g>\n",
       "<!-- 10&#45;&gt;6 -->\n",
       "<g id=\"edge6\" class=\"edge\">\n",
       "<title>10&#45;&gt;6</title>\n",
       "<path fill=\"none\" stroke=\"#000000\" d=\"M383.1916,-146.3771C400.6629,-135.1455 424.2718,-119.9683 442.5927,-108.1907\"/>\n",
       "<polygon fill=\"#000000\" stroke=\"#000000\" points=\"444.5925,-111.0659 451.1117,-102.7142 440.8072,-105.1777 444.5925,-111.0659\"/>\n",
       "</g>\n",
       "<!-- 8 -->\n",
       "<g id=\"node11\" class=\"node\">\n",
       "<title>8</title>\n",
       "<ellipse fill=\"none\" stroke=\"#000000\" cx=\"380.8893\" cy=\"-378\" rx=\"120.7786\" ry=\"18\"/>\n",
       "<text text-anchor=\"middle\" x=\"380.8893\" y=\"-374.3\" font-family=\"Times,serif\" font-size=\"14.00\" fill=\"#000000\">(lambda col: col.str.slice(0, 2))</text>\n",
       "</g>\n",
       "<!-- 8&#45;&gt;7 -->\n",
       "<g id=\"edge8\" class=\"edge\">\n",
       "<title>8&#45;&gt;7</title>\n",
       "<path fill=\"none\" stroke=\"#000000\" d=\"M370.5432,-359.8314C365.8951,-351.6688 360.3152,-341.87 355.1975,-332.8827\"/>\n",
       "<polygon fill=\"#000000\" stroke=\"#000000\" points=\"358.0799,-330.8713 350.09,-323.9134 351.9969,-334.3352 358.0799,-330.8713\"/>\n",
       "</g>\n",
       "</g>\n",
       "</svg>\n"
      ],
      "text/plain": [
       "<graphviz.dot.Digraph at 0x7fac640dceb0>"
      ]
     },
     "execution_count": 9,
     "metadata": {},
     "output_type": "execute_result"
    }
   ],
   "source": [
    "features = date_features + cat_features + te_features + \"clicked\"\n",
    "features.graph"
   ]
  },
  {
   "cell_type": "markdown",
   "metadata": {},
   "source": [
    "A user might sometimes be interested to continue reading about the same topics of the current page. Computing the similarity between the textual content of the current page and the pages linked to the displayed ads, can be a relevant feature for a model that predicts which ad the user would click next. A simple, yet effective way to compute the similarity between documents is generating the TF-IDF vectors for each of them, which captures their most relevant terms, and then computing the cosine similarity between those vectors.\n",
    " \n",
    "Below, we calculate <i>doc_event_doc_ad_sim_categories</i>, <i>topics</i>, and <i>entities</i> using the `ColumnSimilarity` op, which utilizes the sparse categories, topics, and entities matrices that were created above to calculate landing page similarity for categories, topics, and entities. We calculate Cosine similarity between event doc (landing page) and ad doc aspects vectors (TF-IDF). Creating these extra features help to improve model accuracy and predictability. "
   ]
  },
  {
   "cell_type": "markdown",
   "metadata": {},
   "source": [
    "Note that we rename the column names to avoid duplicated column names."
   ]
  },
  {
   "cell_type": "code",
   "execution_count": 10,
   "metadata": {},
   "outputs": [],
   "source": [
    "sim_features_categ = (\n",
    "    [[\"document_id\", \"document_id_promo\"]]\n",
    "    >> ColumnSimilarity(categories, metric=\"tfidf\", on_device=False)\n",
    "    >> Rename(postfix=\"_categories\")\n",
    ")\n",
    "sim_features_topics = (\n",
    "    [[\"document_id\", \"document_id_promo\"]]\n",
    "    >> ColumnSimilarity(topics, metric=\"tfidf\", on_device=False)\n",
    "    >> Rename(postfix=\"_topics\")\n",
    ")\n",
    "sim_features_entities = (\n",
    "    [[\"document_id\", \"document_id_promo\"]]\n",
    "    >> ColumnSimilarity(entities, metric=\"tfidf\", on_device=False)\n",
    "    >> Rename(postfix=\"_entities\")\n",
    ")\n",
    "sim_features = sim_features_categ + sim_features_topics + sim_features_entities"
   ]
  },
  {
   "cell_type": "code",
   "execution_count": 11,
   "metadata": {},
   "outputs": [],
   "source": [
    "# The workflow is created with the output node of the graph\n",
    "workflow = nvt.Workflow(features + sim_features)"
   ]
  },
  {
   "cell_type": "markdown",
   "metadata": {},
   "source": [
    "We then create an NVTabular Dataset object both for train and validation sets. We calculate statistics for this workflow on the input dataset, i.e. on our training set, using the `workflow.fit()` method so that our <i>Workflow</i> can use these stats to transform any given input. When our <i>Workflow</i> transorms our datasets and, we also save the results out to parquet files for fast reading at train time."
   ]
  },
  {
   "cell_type": "code",
   "execution_count": 12,
   "metadata": {},
   "outputs": [
    {
     "name": "stderr",
     "output_type": "stream",
     "text": [
      "/home/ben/code/nvtabular/nvtabular/ops/column_similarity.py:253: RuntimeWarning: divide by zero encountered in true_divide\n",
      "  idf = np.log(N / np.bincount(X.col))\n"
     ]
    }
   ],
   "source": [
    "train_dataset = nvt.Dataset(train_filename)\n",
    "valid_dataset = nvt.Dataset(valid_filename)\n",
    "\n",
    "# Calculate statistics on the training set\n",
    "workflow.fit(train_dataset)"
   ]
  },
  {
   "cell_type": "code",
   "execution_count": 13,
   "metadata": {},
   "outputs": [],
   "source": [
    "# use the calculated statistics to transform the train/valid datasets\n",
    "# and write out each as parquet\n",
    "workflow.transform(train_dataset).to_parquet(\n",
    "    output_path=output_train_dir, shuffle=Shuffle.PER_PARTITION, out_files_per_proc=5\n",
    ")\n",
    "workflow.transform(valid_dataset).to_parquet(output_path=output_valid_dir)"
   ]
  },
  {
   "cell_type": "markdown",
   "metadata": {},
   "source": [
    "We can save the stats from the workflow and load it anytime, so we can run training without doing preprocessing."
   ]
  },
  {
   "cell_type": "markdown",
   "metadata": {},
   "source": [
    "In the next notebooks, we will train a deep learning model. Our training pipeline requires information about the data schema to define the neural network architecture. We will save the NVTabular workflow to disk so that we can restore it in the next notebooks."
   ]
  },
  {
   "cell_type": "code",
   "execution_count": 14,
   "metadata": {},
   "outputs": [],
   "source": [
    "workflow.save(os.path.join(OUTPUT_BUCKET_FOLDER, \"workflow\"))"
   ]
  },
  {
   "cell_type": "markdown",
   "metadata": {},
   "source": [
    "## Reviewing processed data"
   ]
  },
  {
   "cell_type": "code",
   "execution_count": 15,
   "metadata": {},
   "outputs": [
    {
     "data": {
      "text/plain": [
       "(['./outbrain-preprocessed/train/part_0.parquet',\n",
       "  './outbrain-preprocessed/train/part_1.parquet',\n",
       "  './outbrain-preprocessed/train/part_2.parquet',\n",
       "  './outbrain-preprocessed/train/part_3.parquet',\n",
       "  './outbrain-preprocessed/train/part_4.parquet'],\n",
       " ['./outbrain-preprocessed/valid/part_0.parquet'])"
      ]
     },
     "execution_count": 15,
     "metadata": {},
     "output_type": "execute_result"
    }
   ],
   "source": [
    "TRAIN_PATHS = sorted(glob.glob(os.path.join(OUTPUT_BUCKET_FOLDER, \"train/*.parquet\")))\n",
    "VALID_PATHS = sorted(glob.glob(os.path.join(OUTPUT_BUCKET_FOLDER, \"valid/*.parquet\")))\n",
    "TRAIN_PATHS, VALID_PATHS"
   ]
  },
  {
   "cell_type": "code",
   "execution_count": 16,
   "metadata": {},
   "outputs": [
    {
     "data": {
      "text/html": [
       "<div>\n",
       "<style scoped>\n",
       "    .dataframe tbody tr th:only-of-type {\n",
       "        vertical-align: middle;\n",
       "    }\n",
       "\n",
       "    .dataframe tbody tr th {\n",
       "        vertical-align: top;\n",
       "    }\n",
       "\n",
       "    .dataframe thead th {\n",
       "        text-align: right;\n",
       "    }\n",
       "</style>\n",
       "<table border=\"1\" class=\"dataframe\">\n",
       "  <thead>\n",
       "    <tr style=\"text-align: right;\">\n",
       "      <th></th>\n",
       "      <th>publish_time_since_published</th>\n",
       "      <th>publish_time_promo_since_published</th>\n",
       "      <th>geo_location_country</th>\n",
       "      <th>geo_location</th>\n",
       "      <th>geo_location_state</th>\n",
       "      <th>ad_id</th>\n",
       "      <th>document_id</th>\n",
       "      <th>platform</th>\n",
       "      <th>document_id_promo</th>\n",
       "      <th>campaign_id</th>\n",
       "      <th>...</th>\n",
       "      <th>TE_campaign_id_clicked</th>\n",
       "      <th>TE_advertiser_id_clicked</th>\n",
       "      <th>TE_source_id_clicked</th>\n",
       "      <th>TE_publisher_id_clicked</th>\n",
       "      <th>TE_source_id_promo_clicked</th>\n",
       "      <th>TE_publisher_id_promo_clicked</th>\n",
       "      <th>clicked</th>\n",
       "      <th>document_id_document_id_promo_sim_categories</th>\n",
       "      <th>document_id_document_id_promo_sim_topics</th>\n",
       "      <th>document_id_document_id_promo_sim_entities</th>\n",
       "    </tr>\n",
       "  </thead>\n",
       "  <tbody>\n",
       "    <tr>\n",
       "      <th>0</th>\n",
       "      <td>0.000000</td>\n",
       "      <td>4.477337</td>\n",
       "      <td>1</td>\n",
       "      <td>3</td>\n",
       "      <td>1</td>\n",
       "      <td>2886</td>\n",
       "      <td>4027</td>\n",
       "      <td>1</td>\n",
       "      <td>2554</td>\n",
       "      <td>2387</td>\n",
       "      <td>...</td>\n",
       "      <td>0.166234</td>\n",
       "      <td>0.161369</td>\n",
       "      <td>0.231515</td>\n",
       "      <td>0.229051</td>\n",
       "      <td>0.161369</td>\n",
       "      <td>-0.782049</td>\n",
       "      <td>0</td>\n",
       "      <td>0.000000</td>\n",
       "      <td>0.000000</td>\n",
       "      <td>0.0</td>\n",
       "    </tr>\n",
       "    <tr>\n",
       "      <th>1</th>\n",
       "      <td>6.545350</td>\n",
       "      <td>4.644391</td>\n",
       "      <td>1</td>\n",
       "      <td>25</td>\n",
       "      <td>1</td>\n",
       "      <td>99127</td>\n",
       "      <td>583</td>\n",
       "      <td>2</td>\n",
       "      <td>19927</td>\n",
       "      <td>15674</td>\n",
       "      <td>...</td>\n",
       "      <td>0.159574</td>\n",
       "      <td>0.206136</td>\n",
       "      <td>0.103541</td>\n",
       "      <td>0.103524</td>\n",
       "      <td>0.206136</td>\n",
       "      <td>-0.781798</td>\n",
       "      <td>0</td>\n",
       "      <td>0.993707</td>\n",
       "      <td>0.000000</td>\n",
       "      <td>0.0</td>\n",
       "    </tr>\n",
       "    <tr>\n",
       "      <th>2</th>\n",
       "      <td>0.000000</td>\n",
       "      <td>5.081404</td>\n",
       "      <td>1</td>\n",
       "      <td>58</td>\n",
       "      <td>49</td>\n",
       "      <td>1526</td>\n",
       "      <td>156</td>\n",
       "      <td>2</td>\n",
       "      <td>1534</td>\n",
       "      <td>1733</td>\n",
       "      <td>...</td>\n",
       "      <td>0.268236</td>\n",
       "      <td>0.214920</td>\n",
       "      <td>0.210852</td>\n",
       "      <td>0.211082</td>\n",
       "      <td>0.175226</td>\n",
       "      <td>0.175356</td>\n",
       "      <td>0</td>\n",
       "      <td>0.000000</td>\n",
       "      <td>0.000000</td>\n",
       "      <td>0.0</td>\n",
       "    </tr>\n",
       "    <tr>\n",
       "      <th>3</th>\n",
       "      <td>0.000000</td>\n",
       "      <td>2.772589</td>\n",
       "      <td>1</td>\n",
       "      <td>4</td>\n",
       "      <td>7</td>\n",
       "      <td>9139</td>\n",
       "      <td>189231</td>\n",
       "      <td>2</td>\n",
       "      <td>312</td>\n",
       "      <td>775</td>\n",
       "      <td>...</td>\n",
       "      <td>0.101583</td>\n",
       "      <td>0.088386</td>\n",
       "      <td>0.295873</td>\n",
       "      <td>0.302554</td>\n",
       "      <td>0.105329</td>\n",
       "      <td>-0.781798</td>\n",
       "      <td>0</td>\n",
       "      <td>0.000000</td>\n",
       "      <td>0.000000</td>\n",
       "      <td>0.0</td>\n",
       "    </tr>\n",
       "    <tr>\n",
       "      <th>4</th>\n",
       "      <td>7.298445</td>\n",
       "      <td>3.433987</td>\n",
       "      <td>1</td>\n",
       "      <td>8</td>\n",
       "      <td>2</td>\n",
       "      <td>27894</td>\n",
       "      <td>16684</td>\n",
       "      <td>2</td>\n",
       "      <td>3061</td>\n",
       "      <td>4409</td>\n",
       "      <td>...</td>\n",
       "      <td>0.059228</td>\n",
       "      <td>0.107805</td>\n",
       "      <td>0.198529</td>\n",
       "      <td>0.198391</td>\n",
       "      <td>0.107805</td>\n",
       "      <td>0.107805</td>\n",
       "      <td>1</td>\n",
       "      <td>1.000000</td>\n",
       "      <td>0.026944</td>\n",
       "      <td>0.0</td>\n",
       "    </tr>\n",
       "  </tbody>\n",
       "</table>\n",
       "<p>5 rows × 29 columns</p>\n",
       "</div>"
      ],
      "text/plain": [
       "   publish_time_since_published  publish_time_promo_since_published  \\\n",
       "0                      0.000000                            4.477337   \n",
       "1                      6.545350                            4.644391   \n",
       "2                      0.000000                            5.081404   \n",
       "3                      0.000000                            2.772589   \n",
       "4                      7.298445                            3.433987   \n",
       "\n",
       "   geo_location_country  geo_location  geo_location_state  ad_id  document_id  \\\n",
       "0                     1             3                   1   2886         4027   \n",
       "1                     1            25                   1  99127          583   \n",
       "2                     1            58                  49   1526          156   \n",
       "3                     1             4                   7   9139       189231   \n",
       "4                     1             8                   2  27894        16684   \n",
       "\n",
       "   platform  document_id_promo  campaign_id  ...  TE_campaign_id_clicked  \\\n",
       "0         1               2554         2387  ...                0.166234   \n",
       "1         2              19927        15674  ...                0.159574   \n",
       "2         2               1534         1733  ...                0.268236   \n",
       "3         2                312          775  ...                0.101583   \n",
       "4         2               3061         4409  ...                0.059228   \n",
       "\n",
       "   TE_advertiser_id_clicked  TE_source_id_clicked  TE_publisher_id_clicked  \\\n",
       "0                  0.161369              0.231515                 0.229051   \n",
       "1                  0.206136              0.103541                 0.103524   \n",
       "2                  0.214920              0.210852                 0.211082   \n",
       "3                  0.088386              0.295873                 0.302554   \n",
       "4                  0.107805              0.198529                 0.198391   \n",
       "\n",
       "   TE_source_id_promo_clicked  TE_publisher_id_promo_clicked  clicked  \\\n",
       "0                    0.161369                      -0.782049        0   \n",
       "1                    0.206136                      -0.781798        0   \n",
       "2                    0.175226                       0.175356        0   \n",
       "3                    0.105329                      -0.781798        0   \n",
       "4                    0.107805                       0.107805        1   \n",
       "\n",
       "   document_id_document_id_promo_sim_categories  \\\n",
       "0                                      0.000000   \n",
       "1                                      0.993707   \n",
       "2                                      0.000000   \n",
       "3                                      0.000000   \n",
       "4                                      1.000000   \n",
       "\n",
       "   document_id_document_id_promo_sim_topics  \\\n",
       "0                                  0.000000   \n",
       "1                                  0.000000   \n",
       "2                                  0.000000   \n",
       "3                                  0.000000   \n",
       "4                                  0.026944   \n",
       "\n",
       "   document_id_document_id_promo_sim_entities  \n",
       "0                                         0.0  \n",
       "1                                         0.0  \n",
       "2                                         0.0  \n",
       "3                                         0.0  \n",
       "4                                         0.0  \n",
       "\n",
       "[5 rows x 29 columns]"
      ]
     },
     "execution_count": 16,
     "metadata": {},
     "output_type": "execute_result"
    }
   ],
   "source": [
    "df = df_lib.read_parquet(TRAIN_PATHS[0])\n",
    "df.head()"
   ]
  }
 ],
 "metadata": {
  "kernelspec": {
   "display_name": "Python 3 (ipykernel)",
   "language": "python",
   "name": "python3"
  },
  "language_info": {
   "codemirror_mode": {
    "name": "ipython",
    "version": 3
   },
   "file_extension": ".py",
   "mimetype": "text/x-python",
   "name": "python",
   "nbconvert_exporter": "python",
   "pygments_lexer": "ipython3",
   "version": "3.8.11"
  }
 },
 "nbformat": 4,
 "nbformat_minor": 4
}
