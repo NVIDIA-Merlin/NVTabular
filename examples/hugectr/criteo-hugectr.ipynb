{
 "cells": [
  {
   "cell_type": "code",
   "execution_count": 1,
   "metadata": {},
   "outputs": [],
   "source": [
    "# Copyright 2020 NVIDIA Corporation. All Rights Reserved.\n",
    "#\n",
    "# Licensed under the Apache License, Version 2.0 (the \"License\");\n",
    "# you may not use this file except in compliance with the License.\n",
    "# You may obtain a copy of the License at\n",
    "#\n",
    "#     http://www.apache.org/licenses/LICENSE-2.0\n",
    "#\n",
    "# Unless required by applicable law or agreed to in writing, software\n",
    "# distributed under the License is distributed on an \"AS IS\" BASIS,\n",
    "# WITHOUT WARRANTIES OR CONDITIONS OF ANY KIND, either express or implied.\n",
    "# See the License for the specific language governing permissions and\n",
    "# limitations under the License.\n",
    "# =============================================================================="
   ]
  },
  {
   "cell_type": "markdown",
   "metadata": {},
   "source": [
    "# NVTabular / HugeCTR Criteo Example \n",
    "Here we'll show how to use NVTabular first as a preprocessing library to prepare the [Criteo Display Advertising Challenge](https://www.kaggle.com/c/criteo-display-ad-challenge) dataset, and then train a model using HugeCTR.\n",
    "\n",
    "### Data Prep\n",
    "Before we get started, make sure you've run the [optimize_criteo notebook](../optimize_criteo.ipynb), which will convert the tsv data published by Criteo into the parquet format that our accelerated readers prefer. It's fair to mention at this point that that notebook will take ~30 minutes to run. While we're hoping to release accelerated csv readers in the near future, we also believe that inefficiencies in existing data representations like csv are in no small part a consequence of inefficiencies in the existing hardware/software stack. Accelerating these pipelines on new hardware like GPUs may require us to make new choices about the representations we use to store that data, and parquet represents a strong alternative."
   ]
  },
  {
   "cell_type": "code",
   "execution_count": 2,
   "metadata": {},
   "outputs": [
    {
     "name": "stderr",
     "output_type": "stream",
     "text": [
      "/opt/conda/envs/rapids/lib/python3.7/site-packages/numba/cuda/envvars.py:17: NumbaWarning: \u001b[1m\n",
      "Environment variables with the 'NUMBAPRO' prefix are deprecated and consequently ignored, found use of NUMBAPRO_NVVM=/usr/local/cuda/nvvm/lib64/libnvvm.so.\n",
      "\n",
      "For more information about alternatives visit: ('http://numba.pydata.org/numba-doc/latest/cuda/overview.html', '#cudatoolkit-lookup')\u001b[0m\n",
      "  warnings.warn(errors.NumbaWarning(msg))\n",
      "/opt/conda/envs/rapids/lib/python3.7/site-packages/numba/cuda/envvars.py:17: NumbaWarning: \u001b[1m\n",
      "Environment variables with the 'NUMBAPRO' prefix are deprecated and consequently ignored, found use of NUMBAPRO_LIBDEVICE=/usr/local/cuda/nvvm/libdevice/.\n",
      "\n",
      "For more information about alternatives visit: ('http://numba.pydata.org/numba-doc/latest/cuda/overview.html', '#cudatoolkit-lookup')\u001b[0m\n",
      "  warnings.warn(errors.NumbaWarning(msg))\n"
     ]
    }
   ],
   "source": [
    "import os\n",
    "from time import time\n",
    "import re\n",
    "import glob\n",
    "import warnings\n",
    "\n",
    "\n",
    "# tools for data preproc/loading\n",
    "import torch\n",
    "import rmm\n",
    "import nvtabular as nvt\n",
    "from nvtabular.ops import Normalize, Categorify, LogOp, FillMissing, Clip, get_embedding_sizes\n",
    "from nvtabular.utils import device_mem_size\n"
   ]
  },
  {
   "cell_type": "markdown",
   "metadata": {},
   "source": [
    "### Initializing the Memory Pool\n",
    "For applications like the one that follows where RAPIDS will be the only workhorse user of GPU memory and resource, a best practice is to use the RAPIDS Memory Manager library `rmm` to allocate a dedicated pool of GPU memory that allows for fast, asynchronous memory management. Here, we'll dedicate 80% of free GPU memory to this pool to make sure we get the most utilization possible."
   ]
  },
  {
   "cell_type": "code",
   "execution_count": 3,
   "metadata": {},
   "outputs": [
    {
     "name": "stderr",
     "output_type": "stream",
     "text": [
      "/nvtabular/nvtabular/io.py:113: UserWarning: get_memory_info is not supported. Using total device memory from NVML.\n",
      "  warnings.warn(\"get_memory_info is not supported. Using total device memory from NVML.\")\n"
     ]
    }
   ],
   "source": [
    "rmm.reinitialize(pool_allocator=True, initial_pool_size=0.8 * device_mem_size(kind='free'))"
   ]
  },
  {
   "cell_type": "markdown",
   "metadata": {},
   "source": [
    "### Dataset and Dataset Schema\n",
    "Once our data is ready, we'll define some high level parameters to describe where our data is and what it \"looks like\" at a high level."
   ]
  },
  {
   "cell_type": "code",
   "execution_count": 4,
   "metadata": {},
   "outputs": [],
   "source": [
    "# define some information about where to get our data\n",
    "INPUT_DATA_DIR = os.environ.get('INPUT_DATA_DIR', '/raid/criteo/tests/crit_int_pq')\n",
    "OUTPUT_DATA_DIR = os.environ.get('OUTPUT_DATA_DIR', '/raid/criteo/tests/test_dask') # where we'll save our procesed data to\n",
    "\n",
    "BATCH_SIZE = int(os.environ.get('BATCH_SIZE', 800000))\n",
    "NUM_PARTS = int(os.environ.get('NUM_PARTS', 2))\n",
    "NUM_TRAIN_DAYS = 23 # number of days worth of data to use for training, the rest will be used for validation\n",
    "\n",
    "# define our dataset schema\n",
    "CONTINUOUS_COLUMNS = ['I' + str(x) for x in range(1,14)]\n",
    "CATEGORICAL_COLUMNS =  ['C' + str(x) for x in range(1,27)]\n",
    "LABEL_COLUMNS = ['label']\n",
    "COLUMNS = CONTINUOUS_COLUMNS + CATEGORICAL_COLUMNS + LABEL_COLUMNS"
   ]
  },
  {
   "cell_type": "code",
   "execution_count": 5,
   "metadata": {},
   "outputs": [
    {
     "name": "stdout",
     "output_type": "stream",
     "text": [
      "_metadata\tday_12.parquet\tday_17.parquet\tday_21.parquet\tday_5.parquet\n",
      "day_0.parquet\tday_13.parquet\tday_18.parquet\tday_22.parquet\tday_6.parquet\n",
      "day_1.parquet\tday_14.parquet\tday_19.parquet\tday_23.parquet\tday_7.parquet\n",
      "day_10.parquet\tday_15.parquet\tday_2.parquet\tday_3.parquet\tday_8.parquet\n",
      "day_11.parquet\tday_16.parquet\tday_20.parquet\tday_4.parquet\tday_9.parquet\n"
     ]
    }
   ],
   "source": [
    "! ls $INPUT_DATA_DIR"
   ]
  },
  {
   "cell_type": "code",
   "execution_count": 6,
   "metadata": {},
   "outputs": [],
   "source": [
    "fname = 'day_{}.parquet'\n",
    "num_days = len([i for i in os.listdir(INPUT_DATA_DIR) if re.match(fname.format('[0-9]{1,2}'), i) is not None])\n",
    "train_paths = [os.path.join(INPUT_DATA_DIR, fname.format(day)) for day in range(NUM_TRAIN_DAYS)]\n",
    "valid_paths = [os.path.join(INPUT_DATA_DIR, fname.format(day)) for day in range(NUM_TRAIN_DAYS, num_days)]"
   ]
  },
  {
   "cell_type": "markdown",
   "metadata": {},
   "source": [
    "### Preprocessing\n",
    "At this point, our data still isn't in a form that's ideal for consumption by neural networks. The most pressing issues are missing values and the fact that our categorical variables are still represented by random, discrete identifiers, and need to be transformed into contiguous indices that can be leveraged by a learned embedding. Less pressing, but still important for learning dynamics, are the distributions of our continuous variables, which are distributed across multiple orders of magnitude and are uncentered (i.e. E[x] != 0).\n",
    "\n",
    "We can fix these issues in a conscise and GPU-accelerated manner with an NVTabular `Workflow`. We'll instantiate one with our current dataset schema, then symbolically add operations _on_ that schema. By setting all these `Ops` to use `replace=True`, the schema itself will remain unmodified, while the variables represented by each field in the schema will be transformed.\n",
    "\n",
    "#### Frequency Thresholding\n",
    "One interesting thing worth pointing out is that we're using _frequency thresholding_ in our `Categorify` op. This handy functionality will map all categories which occur in the dataset with some threshold level of infrequency (which we've set here to be 15 occurrences throughout the dataset) to the _same_ index, keeping the model from overfitting to sparse signals."
   ]
  },
  {
   "cell_type": "code",
   "execution_count": 7,
   "metadata": {},
   "outputs": [],
   "source": [
    "proc = nvt.Workflow(\n",
    "    cat_names=CATEGORICAL_COLUMNS,\n",
    "    cont_names=CONTINUOUS_COLUMNS,\n",
    "    label_name=LABEL_COLUMNS)\n",
    "\n",
    "# log -> normalize continuous features. Note that doing this in the opposite\n",
    "# order wouldn't make sense! Note also that we're zero filling continuous\n",
    "# values before the log: this is a good time to remember that LogOp\n",
    "# performs log(1+x), not log(x)\n",
    "proc.add_cont_feature([FillMissing(), Clip(min_value=0), LogOp()])\n",
    "proc.add_cont_preprocess(Normalize())\n",
    "\n",
    "# categorification with frequency thresholding\n",
    "proc.add_cat_preprocess(Categorify(freq_threshold=15, out_path=OUTPUT_DATA_DIR))"
   ]
  },
  {
   "cell_type": "markdown",
   "metadata": {},
   "source": [
    "Now instantiate dataset iterators to loop through our dataset (which we couldn't fit into GPU memory). We need to enforce the required HugeCTR data types, so we set them in a dictionary and give as an argument when creating our dataset"
   ]
  },
  {
   "cell_type": "code",
   "execution_count": 8,
   "metadata": {},
   "outputs": [],
   "source": [
    "import numpy as np\n",
    "\n",
    "dict_dtypes={}\n",
    "\n",
    "for col in CONTINUOUS_COLUMNS:\n",
    "    dict_dtypes[col] = np.float32\n",
    "    \n",
    "for col in CATEGORICAL_COLUMNS:\n",
    "    dict_dtypes[col] = np.int64\n",
    "    \n",
    "for col in LABEL_COLUMNS:\n",
    "    dict_dtypes[col] = np.float32"
   ]
  },
  {
   "cell_type": "code",
   "execution_count": 9,
   "metadata": {},
   "outputs": [],
   "source": [
    "train_dataset = nvt.Dataset(train_paths, engine='parquet', part_mem_fraction=0.15, dtypes=dict_dtypes)\n",
    "valid_dataset = nvt.Dataset(valid_paths, engine='parquet', part_mem_fraction=0.15, dtypes=dict_dtypes)"
   ]
  },
  {
   "cell_type": "markdown",
   "metadata": {},
   "source": [
    "Now run them through our workflows to collect statistics on the train set, then transform and save to parquet files."
   ]
  },
  {
   "cell_type": "code",
   "execution_count": 10,
   "metadata": {},
   "outputs": [],
   "source": [
    "output_train_dir = os.path.join(OUTPUT_DATA_DIR, 'train/')\n",
    "output_valid_dir = os.path.join(OUTPUT_DATA_DIR, 'valid/')\n",
    "! mkdir -p $output_train_dir\n",
    "! mkdir -p $output_valid_dir"
   ]
  },
  {
   "cell_type": "markdown",
   "metadata": {},
   "source": [
    "For reference, let's time it to see how long it takes..."
   ]
  },
  {
   "cell_type": "code",
   "execution_count": 11,
   "metadata": {},
   "outputs": [
    {
     "name": "stdout",
     "output_type": "stream",
     "text": [
      "CPU times: user 20min 37s, sys: 13min 14s, total: 33min 52s\n",
      "Wall time: 1h 14min 31s\n"
     ]
    }
   ],
   "source": [
    "%%time\n",
    "proc.apply(train_dataset, shuffle=nvt.io.Shuffle.PER_PARTITION, output_format=\"parquet\", output_path=output_train_dir, out_files_per_proc=15)"
   ]
  },
  {
   "cell_type": "code",
   "execution_count": 12,
   "metadata": {},
   "outputs": [
    {
     "name": "stdout",
     "output_type": "stream",
     "text": [
      "CPU times: user 29 s, sys: 26.1 s, total: 55.1 s\n",
      "Wall time: 2min 30s\n"
     ]
    }
   ],
   "source": [
    "%%time\n",
    "proc.apply(valid_dataset ,record_stats=False, shuffle=nvt.io.Shuffle.PER_PARTITION, output_format=\"parquet\", output_path=output_valid_dir, out_files_per_proc=15)"
   ]
  },
  {
   "cell_type": "code",
   "execution_count": 13,
   "metadata": {},
   "outputs": [
    {
     "name": "stdout",
     "output_type": "stream",
     "text": [
      "dict_values([(7599500, 16), (5345303, 16), (561810, 16), (242827, 16), (11, 6), (2209, 16), (10616, 16), (100, 16), (4, 3), (968, 16), (15, 7), (33521, 16), (7838519, 16), (2580502, 16), (6878028, 16), (298771, 16), (11951, 16), (97, 16), (35, 12), (17022, 16), (7339, 16), (20046, 16), (4, 3), (7068, 16), (1377, 16), (63, 16)])\n"
     ]
    }
   ],
   "source": [
    "embeddings = get_embedding_sizes(proc)\n",
    "print(embeddings.values())"
   ]
  },
  {
   "cell_type": "markdown",
   "metadata": {},
   "source": [
    "And just like that, we have training and validation sets ready to feed to a model!"
   ]
  },
  {
   "cell_type": "markdown",
   "metadata": {},
   "source": [
    "## HugeCTR\n",
    "### Training\n",
    "We'll run huge_ctr using the DLRM configuration file.\n",
    "\n",
    "First, we'll reinitialize our memory pool from earlier to free up some memory so that we can share it with HugeCTR."
   ]
  },
  {
   "cell_type": "code",
   "execution_count": 14,
   "metadata": {},
   "outputs": [],
   "source": [
    "rmm.reinitialize(pool_allocator=False)"
   ]
  },
  {
   "cell_type": "markdown",
   "metadata": {},
   "source": [
    "Finally, we run HugeCTR. For reference, let's time it to see how long it takes..."
   ]
  },
  {
   "cell_type": "code",
   "execution_count": 27,
   "metadata": {},
   "outputs": [
    {
     "name": "stdout",
     "output_type": "stream",
     "text": [
      "[0, init_start, ]\n",
      "HugeCTR Version: 2.2.1\n",
      "Config file: dlrm_fp32_16k.json\n",
      "[28d23h07m10s][HUGECTR][INFO]: algorithm_search is not specified using default: 1\n",
      "[28d23h07m10s][HUGECTR][INFO]: Algorithm search: ON\n",
      "Device 0: Tesla P100-DGXS-16GB\n",
      "Device 1: Tesla P100-DGXS-16GB\n",
      "[28d23h07m15s][HUGECTR][INFO]: Initial seed is 104555387\n",
      "[28d23h07m15s][HUGECTR][INFO]: cache_eval_data is not specified using default: 0\n",
      "[28d23h07m15s][HUGECTR][INFO]: num_internal_buffers 1\n",
      "[28d23h07m15s][HUGECTR][INFO]: num_internal_buffers 1\n",
      "[28d23h07m15s][HUGECTR][INFO]: Vocabulary size: 31457706\n",
      "[28d23h07m15s][HUGECTR][INFO]: max_vocabulary_size_per_gpu_=15500000\n",
      "[28d23h07m15s][HUGECTR][INFO]: All2All Warmup Start\n",
      "[28d23h07m15s][HUGECTR][INFO]: All2All Warmup End\n",
      "[28d23h07m36s][HUGECTR][INFO]: gpu0 start to init embedding\n",
      "[28d23h07m36s][HUGECTR][INFO]: gpu1 start to init embedding\n",
      "[28d23h07m37s][HUGECTR][INFO]: gpu0 init embedding done\n",
      "[28d23h07m37s][HUGECTR][INFO]: gpu1 init embedding done\n",
      "[28418.6, init_end, ]\n",
      "[28418.7, run_start, ]\n",
      "HugeCTR training start:\n",
      "[28418.7, train_epoch_start, 0, ]\n",
      "[28d23h08m13s][HUGECTR][INFO]: Iter: 1000 Time(1000 iters): 35.098988s Loss: 0.130554 lr:1.001000\n",
      "[28d23h08m48s][HUGECTR][INFO]: Iter: 2000 Time(1000 iters): 34.997547s Loss: 0.133759 lr:2.001000\n",
      "[28d23h09m23s][HUGECTR][INFO]: Iter: 3000 Time(1000 iters): 34.888029s Loss: 0.136231 lr:3.001000\n",
      "[140359, eval_start, 0.032, ]\n",
      "[28d23h10m53s][HUGECTR][INFO]: Evaluation, AUC: 0.729536\n",
      "[222983, eval_accuracy, 0.729536, 0.032, 3200, ]\n",
      "[28d23h10m53s][HUGECTR][INFO]: Eval Time for 5440 iters: 82.624101s\n",
      "[222983, eval_stop, 0.032, ]\n",
      "[28d23h11m24s][HUGECTR][INFO]: Iter: 4000 Time(1000 iters): 120.358955s Loss: 0.132684 lr:4.001000\n",
      "[28d23h12m02s][HUGECTR][INFO]: Iter: 5000 Time(1000 iters): 38.544305s Loss: 0.119664 lr:5.001000\n",
      "[28d23h12m41s][HUGECTR][INFO]: Iter: 6000 Time(1000 iters): 38.445513s Loss: 0.121679 lr:6.001000\n",
      "[346374, eval_start, 0.064, ]\n",
      "[28d23h14m18s][HUGECTR][INFO]: Evaluation, AUC: 0.754327\n",
      "[427758, eval_accuracy, 0.754327, 0.064, 6400, ]\n",
      "[28d23h14m18s][HUGECTR][INFO]: Eval Time for 5440 iters: 81.383839s\n",
      "[427758, eval_stop, 0.064, ]\n",
      "[28d23h14m41s][HUGECTR][INFO]: Iter: 7000 Time(1000 iters): 119.988648s Loss: 0.128801 lr:7.001000\n",
      "[28d23h15m19s][HUGECTR][INFO]: Iter: 8000 Time(1000 iters): 38.559991s Loss: 0.125091 lr:8.000000\n",
      "[28d23h15m58s][HUGECTR][INFO]: Iter: 9000 Time(1000 iters): 38.992278s Loss: 0.139365 lr:8.000000\n",
      "[551288, eval_start, 0.096, ]\n",
      "[28d23h17m42s][HUGECTR][INFO]: Evaluation, AUC: 673643.375000\n",
      "[632540, eval_accuracy, 673643, 0.096, 9600, ]\n",
      "[632540, train_samples, 157302784, ]\n",
      "Hit target accuracy AUC 0.772500 at epoch 0.096000 with batchsize: 16384 in 604.12 s. Average speed 260355.76 records/s.\n",
      "[632539.75, eval_stop, 0.096000, ]\n",
      "[632539.75, train_epoch_end, 1, ]\n",
      "[632539.76, run_stop, ]\n",
      "CPU times: user 11.7 s, sys: 3.62 s, total: 15.3 s\n",
      "Wall time: 10min 35s\n"
     ]
    }
   ],
   "source": [
    "%%time\n",
    "! /usr/local/hugectr/bin/huge_ctr --train dlrm_fp32_16k.json"
   ]
  },
  {
   "cell_type": "code",
   "execution_count": null,
   "metadata": {},
   "outputs": [],
   "source": []
  }
 ],
 "metadata": {
  "file_extension": ".py",
  "kernelspec": {
   "display_name": "Python 3",
   "language": "python",
   "name": "python3"
  },
  "language_info": {
   "codemirror_mode": {
    "name": "ipython",
    "version": 3
   },
   "file_extension": ".py",
   "mimetype": "text/x-python",
   "name": "python",
   "nbconvert_exporter": "python",
   "pygments_lexer": "ipython3",
   "version": "3.7.6"
  },
  "mimetype": "text/x-python",
  "name": "python",
  "npconvert_exporter": "python",
  "pygments_lexer": "ipython3",
  "version": 3
 },
 "nbformat": 4,
 "nbformat_minor": 4
}
