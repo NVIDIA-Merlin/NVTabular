{
 "cells": [
  {
   "cell_type": "markdown",
   "metadata": {},
   "source": [
    "# NVTabular / HugeCTR Criteo Example \n",
    "Here we'll show how to use NVTabular first as a preprocessing library to prepare the [Criteo Display Advertising Challenge](https://www.kaggle.com/c/criteo-display-ad-challenge) dataset, and then train a model using HugeCTR.\n",
    "\n",
    "### Data Prep\n",
    "Before we get started, make sure you've run the [`optimize_criteo` notebook](./optimize_criteo.ipynb), which will convert the tsv data published by Criteo into the parquet format that our accelerated readers prefer. It's fair to mention at this point that that notebook will take ~4 hours to run. While we're hoping to release accelerated csv readers in the near future, we also believe that inefficiencies in existing data representations like csv are in no small part a consequence of inefficiencies in the existing hardware/software stack. Accelerating these pipelines on new hardware like GPUs may require us to make new choices about the representations we use to store that data, and parquet represents a strong alternative."
   ]
  },
  {
   "cell_type": "markdown",
   "metadata": {},
   "source": [
    "#### Quick Aside: Clearing Cache\n",
    "The following line is not strictly necessary, but is included for those who want to validate NVIDIA's benchmarks. We start by clearing the existing cache to start as \"fresh\" as possible. If you're having trouble running it, try executing the container with the `--privileged` flag."
   ]
  },
  {
   "cell_type": "code",
   "execution_count": 1,
   "metadata": {},
   "outputs": [
    {
     "name": "stdout",
     "output_type": "stream",
     "text": [
      "/bin/sh: 1: cannot create /proc/sys/vm/drop_caches: Read-only file system\n"
     ]
    }
   ],
   "source": [
    "!sync; echo 3 > /proc/sys/vm/drop_caches"
   ]
  },
  {
   "cell_type": "code",
   "execution_count": 2,
   "metadata": {},
   "outputs": [
    {
     "name": "stderr",
     "output_type": "stream",
     "text": [
      "/conda/lib/python3.7/site-packages/numba/cuda/envvars.py:17: NumbaWarning: \n",
      "Environment variables with the 'NUMBAPRO' prefix are deprecated and consequently ignored, found use of NUMBAPRO_NVVM=/usr/local/cuda/nvvm/lib64/libnvvm.so.\n",
      "\n",
      "For more information about alternatives visit: ('https://numba.pydata.org/numba-doc/latest/cuda/overview.html', '#cudatoolkit-lookup')\n",
      "  warnings.warn(errors.NumbaWarning(msg))\n",
      "/conda/lib/python3.7/site-packages/numba/cuda/envvars.py:17: NumbaWarning: \n",
      "Environment variables with the 'NUMBAPRO' prefix are deprecated and consequently ignored, found use of NUMBAPRO_LIBDEVICE=/usr/local/cuda/nvvm/libdevice/.\n",
      "\n",
      "For more information about alternatives visit: ('https://numba.pydata.org/numba-doc/latest/cuda/overview.html', '#cudatoolkit-lookup')\n",
      "  warnings.warn(errors.NumbaWarning(msg))\n"
     ]
    }
   ],
   "source": [
    "import os\n",
    "from time import time\n",
    "import re\n",
    "import glob\n",
    "import warnings\n",
    "\n",
    "# tools for data preproc/loading\n",
    "import torch\n",
    "import rmm\n",
    "import nvtabular as nvt\n",
    "from nvtabular.ops import Normalize,  Categorify,  LogOp, FillMissing, Clip, get_embedding_sizes"
   ]
  },
  {
   "cell_type": "markdown",
   "metadata": {},
   "source": [
    "### Initializing the Memory Pool\n",
    "For applications like the one that follows where RAPIDS will be the only workhorse user of GPU memory and resource, a good best practices is to use the RAPIDS Memory Manager library `rmm` to allocate a dedicated pool of GPU memory that allows for fast, asynchronous memory management. Here, we'll dedicate 80% of free GPU memory to this pool to make sure we get the most utilization possible."
   ]
  },
  {
   "cell_type": "code",
   "execution_count": 3,
   "metadata": {},
   "outputs": [
    {
     "name": "stderr",
     "output_type": "stream",
     "text": [
      "/nvt/nvtabular/io.py:113: UserWarning: get_memory_info is not supported. Using total device memory from NVML.\n",
      "  warnings.warn(\"get_memory_info is not supported. Using total device memory from NVML.\")\n"
     ]
    }
   ],
   "source": [
    "rmm.reinitialize(pool_allocator=True, initial_pool_size=0.8 * nvt.io.device_mem_size(kind='free'))"
   ]
  },
  {
   "cell_type": "markdown",
   "metadata": {},
   "source": [
    "### Dataset and Dataset Schema\n",
    "Once our data is ready, we'll define some high level parameters to describe where our data is and what it \"looks like\" at a high level."
   ]
  },
  {
   "cell_type": "code",
   "execution_count": 4,
   "metadata": {},
   "outputs": [],
   "source": [
    "# define some information about where to get our data\n",
    "INPUT_DATA_DIR = os.environ.get('INPUT_DATA_DIR', '/raid/criteo/tests/crit_int_pq')\n",
    "OUTPUT_DATA_DIR = os.environ.get('OUTPUT_DATA_DIR', '/raid/criteo/tests/test_dask') # where we'll save our procesed data to\n",
    "BATCH_SIZE = int(os.environ.get('BATCH_SIZE', 800000))\n",
    "NUM_PARTS = int(os.environ.get('NUM_PARTS', 2))\n",
    "NUM_TRAIN_DAYS = 23 # number of days worth of data to use for training, the rest will be used for validation\n",
    "\n",
    "# define our dataset schema\n",
    "CONTINUOUS_COLUMNS = ['I' + str(x) for x in range(1,14)]\n",
    "CATEGORICAL_COLUMNS =  ['C' + str(x) for x in range(1,27)]\n",
    "LABEL_COLUMNS = ['label']\n",
    "COLUMNS = CONTINUOUS_COLUMNS + CATEGORICAL_COLUMNS + LABEL_COLUMNS"
   ]
  },
  {
   "cell_type": "code",
   "execution_count": 5,
   "metadata": {},
   "outputs": [
    {
     "output_type": "error",
     "ename": "Error",
     "evalue": "Jupyter cannot be started. Error attempting to locate jupyter: Data Science libraries jupyter and notebook are not installed in interpreter Python 3.6.9 64-bit.",
     "traceback": [
      "Error: Jupyter cannot be started. Error attempting to locate jupyter: Data Science libraries jupyter and notebook are not installed in interpreter Python 3.6.9 64-bit.",
      "at b.startServer (/home/albertoa/.vscode/extensions/ms-python.python-2020.8.101144/out/client/extension.js:48:315192)",
      "at runMicrotasks (<anonymous>)",
      "at processTicksAndRejections (internal/process/task_queues.js:85:5)",
      "at async b.createServer (/home/albertoa/.vscode/extensions/ms-python.python-2020.8.101144/out/client/extension.js:48:314634)",
      "at async connect (/home/albertoa/.vscode/extensions/ms-python.python-2020.8.101144/out/client/extension.js:48:442792)",
      "at async f.ensureConnectionAndNotebookImpl (/home/albertoa/.vscode/extensions/ms-python.python-2020.8.101144/out/client/extension.js:24:590098)",
      "at async f.ensureConnectionAndNotebook (/home/albertoa/.vscode/extensions/ms-python.python-2020.8.101144/out/client/extension.js:24:589400)",
      "at async f.clearResult (/home/albertoa/.vscode/extensions/ms-python.python-2020.8.101144/out/client/extension.js:24:585202)",
      "at async f.reexecuteCell (/home/albertoa/.vscode/extensions/ms-python.python-2020.8.101144/out/client/extension.js:9:123769)",
      "at async f.reexecuteCells (/home/albertoa/.vscode/extensions/ms-python.python-2020.8.101144/out/client/extension.js:9:120292)"
     ]
    }
   ],
   "source": [
    "# ! ls $INPUT_DATA_DIR"
   ]
  },
  {
   "cell_type": "code",
   "execution_count": 6,
   "metadata": {},
   "outputs": [
    {
     "name": "stdout",
     "output_type": "stream",
     "text": [
      "['/dataset/crit_int_pq/day_0.parquet']\n",
      "['/dataset/crit_int_pq/day_23.parquet']\n"
     ]
    }
   ],
   "source": [
    "fname = 'day_{}.parquet'\n",
    "num_days = len([i for i in os.listdir(INPUT_DATA_DIR) if re.match(fname.format('[0-9]{1,2}'), i) is not None])\n",
    "train_paths = [os.path.join(INPUT_DATA_DIR, fname.format(day)) for day in range(NUM_TRAIN_DAYS)]\n",
    "valid_paths = [os.path.join(INPUT_DATA_DIR, fname.format(day)) for day in range(NUM_TRAIN_DAYS, num_days)]\n",
    "#print(train_paths)\n",
    "#print(valid_paths)"
   ]
  },
  {
   "cell_type": "markdown",
   "metadata": {},
   "source": [
    "### Preprocessing\n",
    "At this point, our data still isn't in a form that's ideal for consumption by neural networks. The most pressing issues are missing values and the fact that our categorical variables are still represented by random, discrete identifiers, and need to be transformed into contiguous indices that can be leveraged by a learned embedding. Less pressing, but still important for learning dynamics, are the distributions of our continuous variables, which are distributed across multiple orders of magnitude and are uncentered (i.e. E[x] != 0).\n",
    "\n",
    "We can fix these issues in a conscise and GPU-accelerated manner with an NVTabular `Workflow`. We'll instantiate one with our current dataset schema, then symbolically add operations _on_ that schema. By setting all these `Ops` to use `replace=True`, the schema itself will remain unmodified, while the variables represented by each field in the schema will be transformed.\n",
    "\n",
    "#### Frequency Thresholding\n",
    "One interesting thing worth pointing out is that we're using _frequency thresholding_ in our `Categorify` op. This handy functionality will map all categories which occur in the dataset with some threshold level of infrequency (which we've set here to be 15 occurrences throughout the dataset) to the _same_ index, keeping the model from overfitting to sparse signals."
   ]
  },
  {
   "cell_type": "code",
   "execution_count": 7,
   "metadata": {},
   "outputs": [],
   "source": [
    "proc = nvt.Workflow(\n",
    "    cat_names=CATEGORICAL_COLUMNS,\n",
    "    cont_names=CONTINUOUS_COLUMNS,\n",
    "    label_name=LABEL_COLUMNS)\n",
    "\n",
    "# log -> normalize continuous features. Note that doing this in the opposite\n",
    "# order wouldn't make sense! Note also that we're zero filling continuous\n",
    "# values before the log: this is a good time to remember that LogOp\n",
    "# performs log(1+x), not log(x)\n",
    "proc.add_cont_feature([FillMissing(), Clip(min_value=0), LogOp()])\n",
    "proc.add_cont_preprocess(Normalize())\n",
    "\n",
    "# categorification with frequency thresholding\n",
    "proc.add_cat_preprocess(Categorify(freq_threshold=15, out_path=OUTPUT_DATA_DIR))"
   ]
  },
  {
   "cell_type": "markdown",
   "metadata": {},
   "source": [
    "Now instantiate dataset iterators to loop through our dataset (which we couldn't fit into GPU memory)"
   ]
  },
  {
   "cell_type": "code",
   "execution_count": 8,
   "metadata": {},
   "outputs": [
    {
     "name": "stdout",
     "output_type": "stream",
     "text": [
      "{'I1': <class 'numpy.float32'>, 'I2': <class 'numpy.float32'>, 'I3': <class 'numpy.float32'>, 'I4': <class 'numpy.float32'>, 'I5': <class 'numpy.float32'>, 'I6': <class 'numpy.float32'>, 'I7': <class 'numpy.float32'>, 'I8': <class 'numpy.float32'>, 'I9': <class 'numpy.float32'>, 'I10': <class 'numpy.float32'>, 'I11': <class 'numpy.float32'>, 'I12': <class 'numpy.float32'>, 'I13': <class 'numpy.float32'>, 'C1': <class 'numpy.int64'>, 'C2': <class 'numpy.int64'>, 'C3': <class 'numpy.int64'>, 'C4': <class 'numpy.int64'>, 'C5': <class 'numpy.int64'>, 'C6': <class 'numpy.int64'>, 'C7': <class 'numpy.int64'>, 'C8': <class 'numpy.int64'>, 'C9': <class 'numpy.int64'>, 'C10': <class 'numpy.int64'>, 'C11': <class 'numpy.int64'>, 'C12': <class 'numpy.int64'>, 'C13': <class 'numpy.int64'>, 'C14': <class 'numpy.int64'>, 'C15': <class 'numpy.int64'>, 'C16': <class 'numpy.int64'>, 'C17': <class 'numpy.int64'>, 'C18': <class 'numpy.int64'>, 'C19': <class 'numpy.int64'>, 'C20': <class 'numpy.int64'>, 'C21': <class 'numpy.int64'>, 'C22': <class 'numpy.int64'>, 'C23': <class 'numpy.int64'>, 'C24': <class 'numpy.int64'>, 'C25': <class 'numpy.int64'>, 'C26': <class 'numpy.int64'>, 'label': <class 'numpy.float32'>}\n"
     ]
    }
   ],
   "source": [
    "import numpy as np\n",
    "\n",
    "dict_dtypes={}\n",
    "\n",
    "for col in CONTINUOUS_COLUMNS:\n",
    "    dict_dtypes[col] = np.float32\n",
    "    \n",
    "for col in CATEGORICAL_COLUMNS:\n",
    "    dict_dtypes[col] = np.int64\n",
    "    \n",
    "for col in LABEL_COLUMNS:\n",
    "    dict_dtypes[col] = np.float32\n",
    "\n",
    "#print(dict_dtypes)"
   ]
  },
  {
   "cell_type": "code",
   "execution_count": 9,
   "metadata": {},
   "outputs": [],
   "source": [
    "train_dataset = nvt.Dataset(train_paths, engine='parquet', part_mem_fraction=0.15, dtypes=dict_dtypes)\n",
    "valid_dataset = nvt.Dataset(valid_paths, engine='parquet', part_mem_fraction=0.15, dtypes=dict_dtypes)"
   ]
  },
  {
   "cell_type": "markdown",
   "metadata": {},
   "source": [
    "Now run them through our workflows to collect statistics on the train set, then transform and save to parquet files."
   ]
  },
  {
   "cell_type": "code",
   "execution_count": 10,
   "metadata": {},
   "outputs": [],
   "source": [
    "output_train_dir = os.path.join(OUTPUT_DATA_DIR, 'train/')\n",
    "output_valid_dir = os.path.join(OUTPUT_DATA_DIR, 'valid/')\n",
    "! mkdir -p $output_train_dir\n",
    "! mkdir -p $output_valid_dir"
   ]
  },
  {
   "cell_type": "markdown",
   "metadata": {},
   "source": [
    "For reference, let's time it to see how long it takes..."
   ]
  },
  {
   "cell_type": "code",
   "execution_count": 11,
   "metadata": {},
   "outputs": [
    {
     "name": "stdout",
     "output_type": "stream",
     "text": [
      "CPU times: user 1min 13s, sys: 29.9 s, total: 1min 43s\n",
      "Wall time: 2min 31s\n"
     ]
    }
   ],
   "source": [
    "%%time\n",
    "proc.apply(train_dataset, apply_offline=True, record_stats=True, shuffle=False, output_format=\"parquet\", output_path=output_train_dir, out_files_per_proc=15)"
   ]
  },
  {
   "cell_type": "code",
   "execution_count": 13,
   "metadata": {},
   "outputs": [
    {
     "name": "stdout",
     "output_type": "stream",
     "text": [
      "CPU times: user 24.1 s, sys: 23.5 s, total: 47.6 s\n",
      "Wall time: 1min 32s\n"
     ]
    }
   ],
   "source": [
    "%%time\n",
    "proc.apply(valid_dataset, apply_offline=True, record_stats=False, shuffle=False, output_format=\"parquet\", output_path=output_valid_dir, out_files_per_proc=15)"
   ]
  },
  {
   "cell_type": "code",
   "execution_count": null,
   "metadata": {},
   "outputs": [],
   "source": [
    "embeddings = get_embedding_sizes(proc)\n",
    "print(embeddings.values())"
   ]
  },
  {
   "cell_type": "markdown",
   "metadata": {},
   "source": [
    "And just like that, we have training and validation sets ready to feed to a model!"
   ]
  },
  {
   "cell_type": "markdown",
   "metadata": {},
   "source": [
    "## HugeCTR\n",
    "### Training\n",
    "We'll run huge_ctr using the configuration file.\n",
    "\n",
    "First, we'll reinitialize our memory pool from earlier to free up some memory so that we can share it with PyTorch."
   ]
  },
  {
   "cell_type": "code",
   "execution_count": 15,
   "metadata": {},
   "outputs": [],
   "source": [
    "rmm.reinitialize(pool_allocator=False)"
   ]
  },
  {
   "cell_type": "code",
   "execution_count": 18,
   "metadata": {},
   "outputs": [
    {
     "name": "stdout",
     "output_type": "stream",
     "text": [
      "[0.001, init_start, ]\n",
      "HugeCTR Version: 2.2.1\n",
      "Config file: dcn_parquet.json\n",
      "[25d20h38m04s][HUGECTR][INFO]: Default evaluation metric is AUC without threshold value\n",
      "[25d20h38m04s][HUGECTR][INFO]: algorithm_search is not specified using default: 1\n",
      "[25d20h38m04s][HUGECTR][INFO]: Algorithm search: ON\n",
      "[25d20h38m06s][HUGECTR][INFO]: Peer-to-peer access cannot be fully enabled.\n",
      "Device 0: Tesla V100-DGXS-16GB\n",
      "[25d20h38m06s][HUGECTR][INFO]: Initial seed is 2794287524\n",
      "[25d20h38m06s][HUGECTR][INFO]: cache_eval_data is not specified using default: 0\n",
      "[25d20h38m07s][HUGECTR][INFO]: Vocabulary size: 2116453\n",
      "[25d20h38m08s][HUGECTR][INFO]: num_internal_buffers 1\n",
      "[25d20h38m08s][HUGECTR][INFO]: num_internal_buffers 1\n",
      "[25d20h38m08s][HUGECTR][INFO]: max_vocabulary_size_per_gpu_=2700000\n",
      "[25d20h38m08s][HUGECTR][INFO]: All2All Warmup Start\n",
      "[25d20h38m08s][HUGECTR][INFO]: All2All Warmup End\n",
      "[25d20h38m09s][HUGECTR][INFO]: gpu0 start to init embedding\n",
      "[25d20h38m09s][HUGECTR][INFO]: gpu0 init embedding done\n",
      "[25d20h38m09s][HUGECTR][INFO]: warmup_steps is not specified using default: 1\n",
      "[25d20h38m09s][HUGECTR][INFO]: decay_start is not specified using default: 0\n",
      "[25d20h38m09s][HUGECTR][INFO]: decay_steps is not specified using default: 1\n",
      "[25d20h38m09s][HUGECTR][INFO]: decay_power is not specified using default: 2.000000\n",
      "[25d20h38m09s][HUGECTR][INFO]: end_lr is not specified using default: 0.000000\n",
      "[4663.16, init_end, ]\n",
      "[4663.17, run_start, ]\n",
      "HugeCTR training start:\n",
      "[4663.18, train_epoch_start, 0, ]\n",
      "[25d20h38m12s][HUGECTR][INFO]: Iter: 100 Time(100 iters): 2.690068s Loss: 0.133227 lr:0.001000\n",
      "[25d20h38m14s][HUGECTR][INFO]: Iter: 200 Time(100 iters): 2.646925s Loss: 0.130028 lr:0.001000\n",
      "[25d20h38m17s][HUGECTR][INFO]: Iter: 300 Time(100 iters): 2.637935s Loss: 0.129158 lr:0.001000\n",
      "[25d20h38m20s][HUGECTR][INFO]: Iter: 400 Time(100 iters): 2.618589s Loss: 0.134818 lr:0.001000\n",
      "[25d20h38m22s][HUGECTR][INFO]: Iter: 500 Time(100 iters): 2.627229s Loss: 0.124502 lr:0.001000\n",
      "[25d20h38m25s][HUGECTR][INFO]: Iter: 600 Time(100 iters): 2.634780s Loss: 0.117442 lr:0.001000\n",
      "[25d20h38m28s][HUGECTR][INFO]: Iter: 700 Time(100 iters): 2.634976s Loss: 0.122512 lr:0.001000\n",
      "[25d20h38m30s][HUGECTR][INFO]: Iter: 800 Time(100 iters): 2.632954s Loss: 0.117518 lr:0.001000\n",
      "[25d20h38m33s][HUGECTR][INFO]: Iter: 900 Time(100 iters): 2.609023s Loss: 0.123270 lr:0.001000\n",
      "[25d20h38m35s][HUGECTR][INFO]: Iter: 1000 Time(100 iters): 2.638226s Loss: 0.124973 lr:0.001000\n",
      "[25d20h38m38s][HUGECTR][INFO]: Iter: 1100 Time(100 iters): 2.637300s Loss: 0.124177 lr:0.001000\n",
      "[25d20h38m41s][HUGECTR][INFO]: Iter: 1200 Time(100 iters): 2.635439s Loss: 0.126173 lr:0.001000\n",
      "[25d20h38m43s][HUGECTR][INFO]: Iter: 1300 Time(100 iters): 2.609512s Loss: 0.117550 lr:0.001000\n",
      "[25d20h38m46s][HUGECTR][INFO]: Iter: 1400 Time(100 iters): 2.631900s Loss: 0.116511 lr:0.001000\n",
      "[25d20h38m49s][HUGECTR][INFO]: Iter: 1500 Time(100 iters): 2.631698s Loss: 0.119112 lr:0.001000\n",
      "[25d20h38m51s][HUGECTR][INFO]: Iter: 1600 Time(100 iters): 2.629566s Loss: 0.116431 lr:0.001000\n",
      "[25d20h38m54s][HUGECTR][INFO]: Iter: 1700 Time(100 iters): 2.615489s Loss: 0.114597 lr:0.001000\n",
      "[25d20h38m56s][HUGECTR][INFO]: Iter: 1800 Time(100 iters): 2.627121s Loss: 0.125127 lr:0.001000\n",
      "[25d20h38m59s][HUGECTR][INFO]: Iter: 1900 Time(100 iters): 2.635954s Loss: 0.127147 lr:0.001000\n",
      "[25d20h39m02s][HUGECTR][INFO]: Iter: 2000 Time(100 iters): 2.634639s Loss: 0.122965 lr:0.001000\n",
      "[25d20h39m04s][HUGECTR][INFO]: Iter: 2100 Time(100 iters): 2.606407s Loss: 0.120732 lr:0.001000\n",
      "[25d20h39m07s][HUGECTR][INFO]: Iter: 2200 Time(100 iters): 2.632016s Loss: 0.118385 lr:0.001000\n",
      "[25d20h39m10s][HUGECTR][INFO]: Iter: 2300 Time(100 iters): 2.632461s Loss: 0.123062 lr:0.001000\n",
      "[25d20h39m12s][HUGECTR][INFO]: Iter: 2400 Time(100 iters): 2.625666s Loss: 0.121781 lr:0.001000\n",
      "[25d20h39m15s][HUGECTR][INFO]: Iter: 2500 Time(100 iters): 2.613086s Loss: 0.123004 lr:0.001000\n",
      "[25d20h39m17s][HUGECTR][INFO]: Iter: 2600 Time(100 iters): 2.628439s Loss: 0.130568 lr:0.001000\n",
      "[25d20h39m20s][HUGECTR][INFO]: Iter: 2700 Time(100 iters): 2.634628s Loss: 0.126688 lr:0.001000\n",
      "[25d20h39m23s][HUGECTR][INFO]: Iter: 2800 Time(100 iters): 2.631991s Loss: 0.133538 lr:0.001000\n",
      "[25d20h39m25s][HUGECTR][INFO]: Iter: 2900 Time(100 iters): 2.613102s Loss: 0.126905 lr:0.001000\n",
      "[83547.6, train_epoch_end, 1, ]\n",
      "[83547.6, run_stop, ]\n"
     ]
    }
   ],
   "source": [
    "! /usr/local/hugectr/bin/huge_ctr --train dcn_parquet.json"
   ]
  },
  {
   "cell_type": "code",
   "execution_count": 1,
   "metadata": {},
   "outputs": [
    {
     "name": "stdout",
     "output_type": "stream",
     "text": [
      "[0.001, init_start, ]\n",
      "HugeCTR Version: 2.2.1\n",
      "Config file: dlrm_fp32_64k-ALL.json\n",
      "[25d23h08m44s][HUGECTR][INFO]: algorithm_search is not specified using default: 1\n",
      "[25d23h08m44s][HUGECTR][INFO]: Algorithm search: ON\n",
      "Device 0: Tesla V100-DGXS-16GB\n",
      "Device 1: Tesla V100-DGXS-16GB\n",
      "Device 2: Tesla V100-DGXS-16GB\n",
      "Device 3: Tesla V100-DGXS-16GB\n",
      "[25d23h08m56s][HUGECTR][INFO]: Initial seed is 2705795868\n",
      "[25d23h08m56s][HUGECTR][INFO]: cache_eval_data is not specified using default: 0\n",
      "[25d23h08m56s][HUGECTR][INFO]: Vocabulary size: 2116453\n",
      "[25d23h08m57s][HUGECTR][INFO]: num_internal_buffers 1\n",
      "[25d23h08m57s][HUGECTR][INFO]: num_internal_buffers 1\n",
      "[25d23h08m57s][HUGECTR][INFO]: max_vocabulary_size_per_gpu_=15500000\n",
      "[25d23h08m57s][HUGECTR][INFO]: All2All Warmup Start\n",
      "[25d23h08m57s][HUGECTR][INFO]: All2All Warmup End\n",
      "[25d23h09m27s][HUGECTR][INFO]: gpu0 start to init embedding\n",
      "[25d23h09m27s][HUGECTR][INFO]: gpu1 start to init embedding\n",
      "[25d23h09m27s][HUGECTR][INFO]: gpu2 start to init embedding\n",
      "[25d23h09m27s][HUGECTR][INFO]: gpu3 start to init embedding\n",
      "[25d23h09m28s][HUGECTR][INFO]: gpu0 init embedding done\n",
      "[25d23h09m28s][HUGECTR][INFO]: gpu1 init embedding done\n",
      "[25d23h09m28s][HUGECTR][INFO]: gpu2 init embedding done\n",
      "[25d23h09m28s][HUGECTR][INFO]: gpu3 init embedding done\n",
      "[45584.5, init_end, ]\n",
      "[45584.5, run_start, ]\n",
      "HugeCTR training start:\n",
      "[45584.5, train_epoch_start, 0, ]\n",
      "[25d23h11m10s][HUGECTR][INFO]: Iter: 1000 Time(1000 iters): 100.084478s Loss: 0.133391 lr:3.003000\n",
      "[25d23h13m39s][HUGECTR][INFO]: Iter: 2000 Time(1000 iters): 149.319258s Loss: 0.128674 lr:6.003000\n",
      "[25d23h15m21s][HUGECTR][INFO]: Iter: 3000 Time(1000 iters): 102.214485s Loss: 0.126883 lr:9.003000\n",
      "[416579, eval_start, 0.0499898, ]\n",
      "[25d23h16m18s][HUGECTR][INFO]: Evaluation, AUC: 0.752958\n",
      "[453431, eval_accuracy, 0.752958, 0.0499898, 3200, ]\n",
      "[25d23h16m18s][HUGECTR][INFO]: Eval Time for 681 iters: 36.852490s\n",
      "[453431, eval_stop, 0.0499898, ]\n",
      "[25d23h17m35s][HUGECTR][INFO]: Iter: 4000 Time(1000 iters): 133.337324s Loss: 0.130538 lr:12.003000\n",
      "[25d23h19m11s][HUGECTR][INFO]: Iter: 5000 Time(1000 iters): 96.445196s Loss: 0.121739 lr:15.003000\n",
      "[25d23h20m48s][HUGECTR][INFO]: Iter: 6000 Time(1000 iters): 96.376692s Loss: 0.147898 lr:18.003000\n",
      "[762013, eval_start, 0.0999797, ]\n",
      "[25d23h22m03s][HUGECTR][INFO]: Evaluation, AUC: 0.763501\n",
      "[799084, eval_accuracy, 0.763501, 0.0999797, 6400, ]\n",
      "[25d23h22m03s][HUGECTR][INFO]: Eval Time for 681 iters: 37.071270s\n",
      "[799084, eval_stop, 0.0999797, ]\n",
      "[25d23h23m01s][HUGECTR][INFO]: Iter: 7000 Time(1000 iters): 133.523179s Loss: 0.123030 lr:21.003000\n",
      "[25d23h24m37s][HUGECTR][INFO]: Iter: 8000 Time(1000 iters): 96.392846s Loss: 0.120841 lr:24.000000\n",
      "[25d23h26m14s][HUGECTR][INFO]: Iter: 9000 Time(1000 iters): 96.392736s Loss: 0.123775 lr:24.000000\n",
      "[1.10761e+06, eval_start, 0.14997, ]\n",
      "[25d23h27m49s][HUGECTR][INFO]: Evaluation, AUC: 0.768882\n",
      "[1.14456e+06, eval_accuracy, 0.768882, 0.14997, 9600, ]\n",
      "[25d23h27m49s][HUGECTR][INFO]: Eval Time for 681 iters: 36.949496s\n",
      "[1.14456e+06, eval_stop, 0.14997, ]\n",
      "[25d23h28m27s][HUGECTR][INFO]: Iter: 10000 Time(1000 iters): 133.377321s Loss: 0.123326 lr:24.000000\n",
      "[25d23h30m04s][HUGECTR][INFO]: Iter: 11000 Time(1000 iters): 96.395550s Loss: 0.114435 lr:24.000000\n",
      "[25d23h31m40s][HUGECTR][INFO]: Iter: 12000 Time(1000 iters): 96.319668s Loss: 0.124952 lr:24.000000\n",
      "[1.45295e+06, eval_start, 0.199959, ]\n",
      "[25d23h33m31s][HUGECTR][INFO]: Evaluation, AUC: 0.770979\n",
      "[1.4871e+06, eval_accuracy, 0.770979, 0.199959, 12800, ]\n",
      "[25d23h33m31s][HUGECTR][INFO]: Eval Time for 681 iters: 34.152376s\n",
      "[1.4871e+06, eval_stop, 0.199959, ]\n",
      "[25d23h33m51s][HUGECTR][INFO]: Iter: 13000 Time(1000 iters): 130.591539s Loss: 0.116685 lr:24.000000\n",
      "[25d23h35m27s][HUGECTR][INFO]: Iter: 14000 Time(1000 iters): 96.393529s Loss: 0.132531 lr:24.000000\n",
      "[25d23h37m03s][HUGECTR][INFO]: Iter: 15000 Time(1000 iters): 96.392875s Loss: 0.121369 lr:24.000000\n",
      "[25d23h38m40s][HUGECTR][INFO]: Iter: 16000 Time(1000 iters): 96.366916s Loss: 0.118185 lr:24.000000\n",
      "[1.79564e+06, eval_start, 0.249949, ]\n",
      "[25d23h39m10s][HUGECTR][INFO]: Evaluation, AUC: 0.772311\n",
      "[1.82575e+06, eval_accuracy, 0.772311, 0.249949, 16000, ]\n",
      "[25d23h39m10s][HUGECTR][INFO]: Eval Time for 681 iters: 30.106363s\n",
      "[1.82575e+06, eval_stop, 0.249949, ]\n",
      "[25d23h40m46s][HUGECTR][INFO]: Iter: 17000 Time(1000 iters): 126.476062s Loss: 0.120882 lr:24.000000\n",
      "[25d23h42m23s][HUGECTR][INFO]: Iter: 18000 Time(1000 iters): 96.348360s Loss: 0.119466 lr:24.000000\n",
      "[25d23h43m59s][HUGECTR][INFO]: Iter: 19000 Time(1000 iters): 96.372775s Loss: 0.118659 lr:24.000000\n",
      "[2.13411e+06, eval_start, 0.299939, ]\n",
      "[25d23h44m48s][HUGECTR][INFO]: Evaluation, AUC: 0.772999\n",
      "[2.16411e+06, eval_accuracy, 0.772999, 0.299939, 19200, ]\n",
      "[25d23h44m48s][HUGECTR][INFO]: Eval Time for 681 iters: 30.004357s\n",
      "[2.16411e+06, eval_stop, 0.299939, ]\n",
      "[25d23h46m05s][HUGECTR][INFO]: Iter: 20000 Time(1000 iters): 126.472304s Loss: 0.123662 lr:24.000000\n",
      "[25d23h47m42s][HUGECTR][INFO]: Iter: 21000 Time(1000 iters): 96.333783s Loss: 0.119458 lr:24.000000\n",
      "[25d23h49m18s][HUGECTR][INFO]: Iter: 22000 Time(1000 iters): 96.425383s Loss: 0.129963 lr:24.000000\n",
      "[2.47261e+06, eval_start, 0.349929, ]\n",
      "^C\n"
     ]
    }
   ],
   "source": [
    "! /usr/local/hugectr/bin/huge_ctr --train dlrm_fp32_64k.json"
   ]
  },
  {
   "cell_type": "code",
   "execution_count": null,
   "metadata": {},
   "outputs": [],
   "source": []
  }
 ],
 "metadata": {
  "file_extension": ".py",
  "kernelspec": {
   "display_name": "Python 3",
   "language": "python",
   "name": "python3"
  },
  "language_info": {
   "codemirror_mode": {
    "name": "ipython",
    "version": 3
   },
   "file_extension": ".py",
   "mimetype": "text/x-python",
   "name": "python",
   "nbconvert_exporter": "python",
   "pygments_lexer": "ipython3",
   "version": "3.7.7"
  },
  "mimetype": "text/x-python",
  "name": "python",
  "npconvert_exporter": "python",
  "pygments_lexer": "ipython3",
  "version": 3
 },
 "nbformat": 4,
 "nbformat_minor": 4
}