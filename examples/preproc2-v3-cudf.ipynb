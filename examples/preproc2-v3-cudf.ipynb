{
 "cells": [
  {
   "cell_type": "markdown",
   "metadata": {},
   "source": [
    "<b>Author: Ronay Ak</b>"
   ]
  },
  {
   "cell_type": "code",
   "execution_count": 1,
   "metadata": {},
   "outputs": [],
   "source": [
    "import os\n",
    "os.environ[\"CUDA_DEVICE_ORDER\"] = \"PCI_BUS_ID\"\n",
    "os.environ[\"CUDA_VISIBLE_DEVICES\"] = \"2,3\""
   ]
  },
  {
   "cell_type": "code",
   "execution_count": 2,
   "metadata": {},
   "outputs": [],
   "source": [
    "import cudf\n",
    "import pandas as pd\n",
    "import cupy \n",
    "import math\n",
    "import time\n",
    "from datetime import datetime\n",
    "import numpy as np\n",
    "import pickle"
   ]
  },
  {
   "cell_type": "code",
   "execution_count": 3,
   "metadata": {},
   "outputs": [],
   "source": [
    "OUTPUT_BUCKET_FOLDER = \"./preprocessed/\"\n",
    "DATA_BUCKET_FOLDER = \"./dataset/\"\n",
    "#SPARK_TEMP_FOLDER = \"/outbrain/spark-temp/\""
   ]
  },
  {
   "cell_type": "markdown",
   "metadata": {},
   "source": [
    "Here some csv files are subsets of the originals due to large dataset size."
   ]
  },
  {
   "cell_type": "code",
   "execution_count": 4,
   "metadata": {},
   "outputs": [],
   "source": [
    "# for now we skip the validation\n",
    "evaluation = False"
   ]
  },
  {
   "cell_type": "markdown",
   "metadata": {},
   "source": [
    "Start loading csv files.."
   ]
  },
  {
   "cell_type": "code",
   "execution_count": 5,
   "metadata": {},
   "outputs": [
    {
     "name": "stdout",
     "output_type": "stream",
     "text": [
      "(2999334, 4)\n"
     ]
    },
    {
     "data": {
      "text/plain": [
       "document_id_doc     int32\n",
       "source_id           int32\n",
       "publisher_id        int32\n",
       "publish_time       object\n",
       "dtype: object"
      ]
     },
     "execution_count": 5,
     "metadata": {},
     "output_type": "execute_result"
    }
   ],
   "source": [
    "documents_meta_df = cudf.read_csv(DATA_BUCKET_FOLDER+ 'documents_meta.csv', dtype=['int32','int32','int32','str'], \n",
    "                                names=['document_id_doc', 'source_id', 'publisher_id', 'publish_time'], header=0)\n",
    "print(documents_meta_df.shape)\n",
    "documents_meta_df.dtypes"
   ]
  },
  {
   "cell_type": "code",
   "execution_count": 6,
   "metadata": {},
   "outputs": [
    {
     "name": "stdout",
     "output_type": "stream",
     "text": [
      "Drop rows with empty \"source_id\"...\n"
     ]
    },
    {
     "data": {
      "text/plain": [
       "(14394, 2)"
      ]
     },
     "execution_count": 6,
     "metadata": {},
     "output_type": "execute_result"
    }
   ],
   "source": [
    "# APPLY DROPNA\n",
    "print('Drop rows with empty \"source_id\"...')\n",
    "documents_meta_df = documents_meta_df.dropna(subset=['source_id'])\n",
    "\n",
    "source_publishers_df = documents_meta_df[[\"source_id\", \"publisher_id\"]].drop_duplicates()\n",
    "\n",
    "#replace drop_duplicates with groupby\n",
    "# source_publishers_df = documents_meta_df.groupby(['source_id', \"publisher_id\"], as_index = False, dropna=False).count().drop(['document_id_doc', 'publish_time'])\n",
    "source_publishers_df.shape"
   ]
  },
  {
   "cell_type": "code",
   "execution_count": 7,
   "metadata": {},
   "outputs": [
    {
     "data": {
      "text/html": [
       "<div>\n",
       "<style scoped>\n",
       "    .dataframe tbody tr th:only-of-type {\n",
       "        vertical-align: middle;\n",
       "    }\n",
       "\n",
       "    .dataframe tbody tr th {\n",
       "        vertical-align: top;\n",
       "    }\n",
       "\n",
       "    .dataframe thead th {\n",
       "        text-align: right;\n",
       "    }\n",
       "</style>\n",
       "<table border=\"1\" class=\"dataframe\">\n",
       "  <thead>\n",
       "    <tr style=\"text-align: right;\">\n",
       "      <th></th>\n",
       "      <th>source_id</th>\n",
       "      <th>publisher_id</th>\n",
       "    </tr>\n",
       "  </thead>\n",
       "  <tbody>\n",
       "    <tr>\n",
       "      <th>0</th>\n",
       "      <td>1</td>\n",
       "      <td>603</td>\n",
       "    </tr>\n",
       "    <tr>\n",
       "      <th>12867</th>\n",
       "      <td>2</td>\n",
       "      <td>85</td>\n",
       "    </tr>\n",
       "  </tbody>\n",
       "</table>\n",
       "</div>"
      ],
      "text/plain": [
       "       source_id  publisher_id\n",
       "0              1           603\n",
       "12867          2            85"
      ]
     },
     "execution_count": 7,
     "metadata": {},
     "output_type": "execute_result"
    }
   ],
   "source": [
    "source_publishers_df.head(2)"
   ]
  },
  {
   "cell_type": "code",
   "execution_count": 8,
   "metadata": {},
   "outputs": [
    {
     "name": "stdout",
     "output_type": "stream",
     "text": [
      "(5058, 1)\n"
     ]
    },
    {
     "data": {
      "text/html": [
       "<div>\n",
       "<style scoped>\n",
       "    .dataframe tbody tr th:only-of-type {\n",
       "        vertical-align: middle;\n",
       "    }\n",
       "\n",
       "    .dataframe tbody tr th {\n",
       "        vertical-align: top;\n",
       "    }\n",
       "\n",
       "    .dataframe thead th {\n",
       "        text-align: right;\n",
       "    }\n",
       "</style>\n",
       "<table border=\"1\" class=\"dataframe\">\n",
       "  <thead>\n",
       "    <tr style=\"text-align: right;\">\n",
       "      <th></th>\n",
       "      <th>source_id</th>\n",
       "    </tr>\n",
       "  </thead>\n",
       "  <tbody>\n",
       "    <tr>\n",
       "      <th>29846</th>\n",
       "      <td>7</td>\n",
       "    </tr>\n",
       "    <tr>\n",
       "      <th>29853</th>\n",
       "      <td>8</td>\n",
       "    </tr>\n",
       "  </tbody>\n",
       "</table>\n",
       "</div>"
      ],
      "text/plain": [
       "       source_id\n",
       "29846          7\n",
       "29853          8"
      ]
     },
     "execution_count": 8,
     "metadata": {},
     "output_type": "execute_result"
    }
   ],
   "source": [
    "# get list of source_ids without publisher_id\n",
    "source_ids_without_publisher_df = source_publishers_df.loc[source_publishers_df.loc[:, 'publisher_id'].isnull()]\n",
    "new_publishers_df = source_ids_without_publisher_df.loc[:, ['source_id']]\n",
    "print(new_publishers_df.shape)\n",
    "new_publishers_df.head(2)"
   ]
  },
  {
   "cell_type": "code",
   "execution_count": 9,
   "metadata": {},
   "outputs": [
    {
     "data": {
      "text/html": [
       "<div>\n",
       "<style scoped>\n",
       "    .dataframe tbody tr th:only-of-type {\n",
       "        vertical-align: middle;\n",
       "    }\n",
       "\n",
       "    .dataframe tbody tr th {\n",
       "        vertical-align: top;\n",
       "    }\n",
       "\n",
       "    .dataframe thead th {\n",
       "        text-align: right;\n",
       "    }\n",
       "</style>\n",
       "<table border=\"1\" class=\"dataframe\">\n",
       "  <thead>\n",
       "    <tr style=\"text-align: right;\">\n",
       "      <th></th>\n",
       "      <th>source_id</th>\n",
       "      <th>publisher_id</th>\n",
       "    </tr>\n",
       "  </thead>\n",
       "  <tbody>\n",
       "    <tr>\n",
       "      <th>29846</th>\n",
       "      <td>7</td>\n",
       "      <td>null</td>\n",
       "    </tr>\n",
       "    <tr>\n",
       "      <th>29853</th>\n",
       "      <td>8</td>\n",
       "      <td>null</td>\n",
       "    </tr>\n",
       "    <tr>\n",
       "      <th>30995</th>\n",
       "      <td>16</td>\n",
       "      <td>null</td>\n",
       "    </tr>\n",
       "    <tr>\n",
       "      <th>33712</th>\n",
       "      <td>20</td>\n",
       "      <td>null</td>\n",
       "    </tr>\n",
       "    <tr>\n",
       "      <th>36964</th>\n",
       "      <td>26</td>\n",
       "      <td>null</td>\n",
       "    </tr>\n",
       "  </tbody>\n",
       "</table>\n",
       "</div>"
      ],
      "text/plain": [
       "       source_id publisher_id\n",
       "29846          7         null\n",
       "29853          8         null\n",
       "30995         16         null\n",
       "33712         20         null\n",
       "36964         26         null"
      ]
     },
     "execution_count": 9,
     "metadata": {},
     "output_type": "execute_result"
    }
   ],
   "source": [
    "source_ids_without_publisher_df.head()"
   ]
  },
  {
   "cell_type": "code",
   "execution_count": 10,
   "metadata": {},
   "outputs": [
    {
     "name": "stdout",
     "output_type": "stream",
     "text": [
      "Maximum value of publisher_id used so far...\n"
     ]
    },
    {
     "data": {
      "text/plain": [
       "1263"
      ]
     },
     "execution_count": 10,
     "metadata": {},
     "output_type": "execute_result"
    }
   ],
   "source": [
    "print('Maximum value of publisher_id used so far...')\n",
    "max_pub =source_publishers_df.dropna(subset='publisher_id')['publisher_id'].max()\n",
    "max_pub"
   ]
  },
  {
   "cell_type": "markdown",
   "metadata": {},
   "source": [
    "NOTE: \"source_id\" column of new_publishers_df generated by spark is not in order. Here, with cudf it is in order."
   ]
  },
  {
   "cell_type": "code",
   "execution_count": 11,
   "metadata": {},
   "outputs": [
    {
     "data": {
      "text/plain": [
       "(5058, 2)"
      ]
     },
     "execution_count": 11,
     "metadata": {},
     "output_type": "execute_result"
    }
   ],
   "source": [
    "# maximum value of publisher_id used so far\n",
    "new_publisher_cnt = source_ids_without_publisher_df.shape[0]\n",
    "# rows filled with new publisher_ids\n",
    "new_publishers_df['publisher_id'] = np.arange(max_pub + 1, max_pub + 1 + new_publisher_cnt)\n",
    "new_publishers_df.shape"
   ]
  },
  {
   "cell_type": "code",
   "execution_count": 12,
   "metadata": {},
   "outputs": [
    {
     "data": {
      "text/html": [
       "<div>\n",
       "<style scoped>\n",
       "    .dataframe tbody tr th:only-of-type {\n",
       "        vertical-align: middle;\n",
       "    }\n",
       "\n",
       "    .dataframe tbody tr th {\n",
       "        vertical-align: top;\n",
       "    }\n",
       "\n",
       "    .dataframe thead th {\n",
       "        text-align: right;\n",
       "    }\n",
       "</style>\n",
       "<table border=\"1\" class=\"dataframe\">\n",
       "  <thead>\n",
       "    <tr style=\"text-align: right;\">\n",
       "      <th></th>\n",
       "      <th>source_id</th>\n",
       "      <th>publisher_id</th>\n",
       "    </tr>\n",
       "  </thead>\n",
       "  <tbody>\n",
       "    <tr>\n",
       "      <th>29846</th>\n",
       "      <td>7</td>\n",
       "      <td>1264</td>\n",
       "    </tr>\n",
       "    <tr>\n",
       "      <th>29853</th>\n",
       "      <td>8</td>\n",
       "      <td>1265</td>\n",
       "    </tr>\n",
       "    <tr>\n",
       "      <th>30995</th>\n",
       "      <td>16</td>\n",
       "      <td>1266</td>\n",
       "    </tr>\n",
       "    <tr>\n",
       "      <th>33712</th>\n",
       "      <td>20</td>\n",
       "      <td>1267</td>\n",
       "    </tr>\n",
       "    <tr>\n",
       "      <th>36964</th>\n",
       "      <td>26</td>\n",
       "      <td>1268</td>\n",
       "    </tr>\n",
       "  </tbody>\n",
       "</table>\n",
       "</div>"
      ],
      "text/plain": [
       "       source_id  publisher_id\n",
       "29846          7          1264\n",
       "29853          8          1265\n",
       "30995         16          1266\n",
       "33712         20          1267\n",
       "36964         26          1268"
      ]
     },
     "execution_count": 12,
     "metadata": {},
     "output_type": "execute_result"
    }
   ],
   "source": [
    "new_publishers_df.head()"
   ]
  },
  {
   "cell_type": "code",
   "execution_count": 13,
   "metadata": {},
   "outputs": [],
   "source": [
    "# old and new publishers merged\n",
    "fixed_source_publishers_df = source_publishers_df.dropna(subset='publisher_id')\n",
    "fixed_source_publishers_df = cudf.concat([fixed_source_publishers_df, new_publishers_df])"
   ]
  },
  {
   "cell_type": "code",
   "execution_count": 14,
   "metadata": {},
   "outputs": [
    {
     "data": {
      "text/html": [
       "<div>\n",
       "<style scoped>\n",
       "    .dataframe tbody tr th:only-of-type {\n",
       "        vertical-align: middle;\n",
       "    }\n",
       "\n",
       "    .dataframe tbody tr th {\n",
       "        vertical-align: top;\n",
       "    }\n",
       "\n",
       "    .dataframe thead th {\n",
       "        text-align: right;\n",
       "    }\n",
       "</style>\n",
       "<table border=\"1\" class=\"dataframe\">\n",
       "  <thead>\n",
       "    <tr style=\"text-align: right;\">\n",
       "      <th></th>\n",
       "      <th>source_id</th>\n",
       "      <th>publisher_id</th>\n",
       "    </tr>\n",
       "  </thead>\n",
       "  <tbody>\n",
       "    <tr>\n",
       "      <th>0</th>\n",
       "      <td>1</td>\n",
       "      <td>603</td>\n",
       "    </tr>\n",
       "    <tr>\n",
       "      <th>12867</th>\n",
       "      <td>2</td>\n",
       "      <td>85</td>\n",
       "    </tr>\n",
       "  </tbody>\n",
       "</table>\n",
       "</div>"
      ],
      "text/plain": [
       "       source_id  publisher_id\n",
       "0              1           603\n",
       "12867          2            85"
      ]
     },
     "execution_count": 14,
     "metadata": {},
     "output_type": "execute_result"
    }
   ],
   "source": [
    "fixed_source_publishers_df.head(2)"
   ]
  },
  {
   "cell_type": "code",
   "execution_count": 15,
   "metadata": {},
   "outputs": [
    {
     "data": {
      "text/plain": [
       "source_id       False\n",
       "publisher_id    False\n",
       "dtype: bool"
      ]
     },
     "execution_count": 15,
     "metadata": {},
     "output_type": "execute_result"
    }
   ],
   "source": [
    "#no null values\n",
    "fixed_source_publishers_df.isnull().any()"
   ]
  },
  {
   "cell_type": "code",
   "execution_count": 16,
   "metadata": {},
   "outputs": [
    {
     "name": "stdout",
     "output_type": "stream",
     "text": [
      "Update documents_meta with new publishers...\n"
     ]
    },
    {
     "data": {
      "text/html": [
       "<div>\n",
       "<style scoped>\n",
       "    .dataframe tbody tr th:only-of-type {\n",
       "        vertical-align: middle;\n",
       "    }\n",
       "\n",
       "    .dataframe tbody tr th {\n",
       "        vertical-align: top;\n",
       "    }\n",
       "\n",
       "    .dataframe thead th {\n",
       "        text-align: right;\n",
       "    }\n",
       "</style>\n",
       "<table border=\"1\" class=\"dataframe\">\n",
       "  <thead>\n",
       "    <tr style=\"text-align: right;\">\n",
       "      <th></th>\n",
       "      <th>document_id_doc</th>\n",
       "      <th>source_id</th>\n",
       "      <th>publish_time</th>\n",
       "      <th>publisher_id</th>\n",
       "    </tr>\n",
       "  </thead>\n",
       "  <tbody>\n",
       "    <tr>\n",
       "      <th>0</th>\n",
       "      <td>1434716</td>\n",
       "      <td>12</td>\n",
       "      <td>2016-05-13 14:00:00</td>\n",
       "      <td>594</td>\n",
       "    </tr>\n",
       "    <tr>\n",
       "      <th>1</th>\n",
       "      <td>1470964</td>\n",
       "      <td>12</td>\n",
       "      <td>2016-05-20 03:00:00</td>\n",
       "      <td>594</td>\n",
       "    </tr>\n",
       "    <tr>\n",
       "      <th>2</th>\n",
       "      <td>1459969</td>\n",
       "      <td>12</td>\n",
       "      <td>2016-05-18 18:00:00</td>\n",
       "      <td>594</td>\n",
       "    </tr>\n",
       "    <tr>\n",
       "      <th>3</th>\n",
       "      <td>1316610</td>\n",
       "      <td>12</td>\n",
       "      <td>2015-06-18 00:00:00</td>\n",
       "      <td>594</td>\n",
       "    </tr>\n",
       "    <tr>\n",
       "      <th>4</th>\n",
       "      <td>1425170</td>\n",
       "      <td>12</td>\n",
       "      <td>2016-05-11 00:00:00</td>\n",
       "      <td>594</td>\n",
       "    </tr>\n",
       "  </tbody>\n",
       "</table>\n",
       "</div>"
      ],
      "text/plain": [
       "   document_id_doc  source_id         publish_time  publisher_id\n",
       "0          1434716         12  2016-05-13 14:00:00           594\n",
       "1          1470964         12  2016-05-20 03:00:00           594\n",
       "2          1459969         12  2016-05-18 18:00:00           594\n",
       "3          1316610         12  2015-06-18 00:00:00           594\n",
       "4          1425170         12  2016-05-11 00:00:00           594"
      ]
     },
     "execution_count": 16,
     "metadata": {},
     "output_type": "execute_result"
    }
   ],
   "source": [
    "print('Update documents_meta with new publishers...')\n",
    "\n",
    "documents_meta_df = documents_meta_df.drop(columns='publisher_id').merge(fixed_source_publishers_df, on='source_id')\n",
    "documents_meta_df.head()"
   ]
  },
  {
   "cell_type": "code",
   "execution_count": 17,
   "metadata": {},
   "outputs": [
    {
     "data": {
      "text/html": [
       "<div>\n",
       "<style scoped>\n",
       "    .dataframe tbody tr th:only-of-type {\n",
       "        vertical-align: middle;\n",
       "    }\n",
       "\n",
       "    .dataframe tbody tr th {\n",
       "        vertical-align: top;\n",
       "    }\n",
       "\n",
       "    .dataframe thead th {\n",
       "        text-align: right;\n",
       "    }\n",
       "</style>\n",
       "<table border=\"1\" class=\"dataframe\">\n",
       "  <thead>\n",
       "    <tr style=\"text-align: right;\">\n",
       "      <th></th>\n",
       "      <th>document_id_doc</th>\n",
       "      <th>source_id</th>\n",
       "      <th>publish_time</th>\n",
       "      <th>publisher_id</th>\n",
       "    </tr>\n",
       "  </thead>\n",
       "  <tbody>\n",
       "    <tr>\n",
       "      <th>1304507</th>\n",
       "      <td>714935</td>\n",
       "      <td>1595</td>\n",
       "      <td>2015-05-22 00:00:00</td>\n",
       "      <td>420</td>\n",
       "    </tr>\n",
       "  </tbody>\n",
       "</table>\n",
       "</div>"
      ],
      "text/plain": [
       "         document_id_doc  source_id         publish_time  publisher_id\n",
       "1304507           714935       1595  2015-05-22 00:00:00           420"
      ]
     },
     "execution_count": 17,
     "metadata": {},
     "output_type": "execute_result"
    }
   ],
   "source": [
    "documents_meta_df[documents_meta_df['document_id_doc']==714935]"
   ]
  },
  {
   "cell_type": "markdown",
   "metadata": {},
   "source": [
    "# Calculate IDF for categories"
   ]
  },
  {
   "cell_type": "code",
   "execution_count": 18,
   "metadata": {},
   "outputs": [
    {
     "data": {
      "text/html": [
       "<div>\n",
       "<style scoped>\n",
       "    .dataframe tbody tr th:only-of-type {\n",
       "        vertical-align: middle;\n",
       "    }\n",
       "\n",
       "    .dataframe tbody tr th {\n",
       "        vertical-align: top;\n",
       "    }\n",
       "\n",
       "    .dataframe thead th {\n",
       "        text-align: right;\n",
       "    }\n",
       "</style>\n",
       "<table border=\"1\" class=\"dataframe\">\n",
       "  <thead>\n",
       "    <tr style=\"text-align: right;\">\n",
       "      <th></th>\n",
       "      <th>document_id_cat</th>\n",
       "      <th>category_id</th>\n",
       "      <th>confidence_level_cat</th>\n",
       "    </tr>\n",
       "  </thead>\n",
       "  <tbody>\n",
       "    <tr>\n",
       "      <th>0</th>\n",
       "      <td>1595802</td>\n",
       "      <td>1611</td>\n",
       "      <td>0.92</td>\n",
       "    </tr>\n",
       "    <tr>\n",
       "      <th>1</th>\n",
       "      <td>1595802</td>\n",
       "      <td>1610</td>\n",
       "      <td>0.07</td>\n",
       "    </tr>\n",
       "  </tbody>\n",
       "</table>\n",
       "</div>"
      ],
      "text/plain": [
       "   document_id_cat  category_id  confidence_level_cat\n",
       "0          1595802         1611                  0.92\n",
       "1          1595802         1610                  0.07"
      ]
     },
     "execution_count": 18,
     "metadata": {},
     "output_type": "execute_result"
    }
   ],
   "source": [
    "documents_categories_df =  cudf.read_csv(\n",
    "    DATA_BUCKET_FOLDER + 'documents_categories.csv',\n",
    "    names=['document_id_cat', 'category_id', 'confidence_level_cat'],\n",
    "    dtype=['int64', 'int64','float32'], header=0)\n",
    "\n",
    "documents_categories_df.head(2)"
   ]
  },
  {
   "cell_type": "code",
   "execution_count": 19,
   "metadata": {},
   "outputs": [
    {
     "data": {
      "text/plain": [
       "(5481475, 3)"
      ]
     },
     "execution_count": 19,
     "metadata": {},
     "output_type": "execute_result"
    }
   ],
   "source": [
    "documents_categories_df.shape"
   ]
  },
  {
   "cell_type": "code",
   "execution_count": 20,
   "metadata": {},
   "outputs": [
    {
     "name": "stdout",
     "output_type": "stream",
     "text": [
      "2996816\n"
     ]
    }
   ],
   "source": [
    "# calculate the number of documents in the corpus\n",
    "documents_total = documents_meta_df.shape[0]\n",
    "print(documents_total)"
   ]
  },
  {
   "cell_type": "markdown",
   "metadata": {},
   "source": [
    "In our case TF is always 1. "
   ]
  },
  {
   "cell_type": "code",
   "execution_count": 21,
   "metadata": {},
   "outputs": [
    {
     "name": "stdout",
     "output_type": "stream",
     "text": [
      "CPU times: user 20.8 ms, sys: 381 µs, total: 21.2 ms\n",
      "Wall time: 20.4 ms\n"
     ]
    }
   ],
   "source": [
    "%%time\n",
    "#Document Frequency for the category\n",
    "TF =1 \n",
    "\n",
    "# groupby on category_id, and count the num of categories\n",
    "\n",
    "categories_docs_counts = documents_categories_df.groupby('category_id').size().rename('count').reset_index()\n",
    "\n",
    "#calculate TF*IDFs\n",
    "categories_docs_counts['categories']=np.log(documents_total/(categories_docs_counts['count']+1))"
   ]
  },
  {
   "cell_type": "code",
   "execution_count": 22,
   "metadata": {},
   "outputs": [
    {
     "data": {
      "text/html": [
       "<div>\n",
       "<style scoped>\n",
       "    .dataframe tbody tr th:only-of-type {\n",
       "        vertical-align: middle;\n",
       "    }\n",
       "\n",
       "    .dataframe tbody tr th {\n",
       "        vertical-align: top;\n",
       "    }\n",
       "\n",
       "    .dataframe thead th {\n",
       "        text-align: right;\n",
       "    }\n",
       "</style>\n",
       "<table border=\"1\" class=\"dataframe\">\n",
       "  <thead>\n",
       "    <tr style=\"text-align: right;\">\n",
       "      <th></th>\n",
       "      <th>category_id</th>\n",
       "      <th>count</th>\n",
       "      <th>categories</th>\n",
       "    </tr>\n",
       "  </thead>\n",
       "  <tbody>\n",
       "    <tr>\n",
       "      <th>0</th>\n",
       "      <td>1000</td>\n",
       "      <td>5074</td>\n",
       "      <td>6.380979</td>\n",
       "    </tr>\n",
       "    <tr>\n",
       "      <th>1</th>\n",
       "      <td>1100</td>\n",
       "      <td>212249</td>\n",
       "      <td>2.647541</td>\n",
       "    </tr>\n",
       "    <tr>\n",
       "      <th>2</th>\n",
       "      <td>1200</td>\n",
       "      <td>7</td>\n",
       "      <td>12.833619</td>\n",
       "    </tr>\n",
       "    <tr>\n",
       "      <th>3</th>\n",
       "      <td>1202</td>\n",
       "      <td>3259</td>\n",
       "      <td>6.823578</td>\n",
       "    </tr>\n",
       "    <tr>\n",
       "      <th>4</th>\n",
       "      <td>1203</td>\n",
       "      <td>30511</td>\n",
       "      <td>4.587186</td>\n",
       "    </tr>\n",
       "  </tbody>\n",
       "</table>\n",
       "</div>"
      ],
      "text/plain": [
       "   category_id   count  categories\n",
       "0         1000    5074    6.380979\n",
       "1         1100  212249    2.647541\n",
       "2         1200       7   12.833619\n",
       "3         1202    3259    6.823578\n",
       "4         1203   30511    4.587186"
      ]
     },
     "execution_count": 22,
     "metadata": {},
     "output_type": "execute_result"
    }
   ],
   "source": [
    "categories_docs_counts.head(5)"
   ]
  },
  {
   "cell_type": "code",
   "execution_count": 23,
   "metadata": {},
   "outputs": [
    {
     "name": "stdout",
     "output_type": "stream",
     "text": [
      "(5481475, 5)\n"
     ]
    },
    {
     "data": {
      "text/html": [
       "<div>\n",
       "<style scoped>\n",
       "    .dataframe tbody tr th:only-of-type {\n",
       "        vertical-align: middle;\n",
       "    }\n",
       "\n",
       "    .dataframe tbody tr th {\n",
       "        vertical-align: top;\n",
       "    }\n",
       "\n",
       "    .dataframe thead th {\n",
       "        text-align: right;\n",
       "    }\n",
       "</style>\n",
       "<table border=\"1\" class=\"dataframe\">\n",
       "  <thead>\n",
       "    <tr style=\"text-align: right;\">\n",
       "      <th></th>\n",
       "      <th>document_id_cat</th>\n",
       "      <th>category_id</th>\n",
       "      <th>confidence_level_cat</th>\n",
       "      <th>count</th>\n",
       "      <th>categories</th>\n",
       "    </tr>\n",
       "  </thead>\n",
       "  <tbody>\n",
       "    <tr>\n",
       "      <th>0</th>\n",
       "      <td>1166221</td>\n",
       "      <td>1807</td>\n",
       "      <td>0.92</td>\n",
       "      <td>43922</td>\n",
       "      <td>4.222868</td>\n",
       "    </tr>\n",
       "    <tr>\n",
       "      <th>1</th>\n",
       "      <td>1166221</td>\n",
       "      <td>1608</td>\n",
       "      <td>0.07</td>\n",
       "      <td>57479</td>\n",
       "      <td>3.953869</td>\n",
       "    </tr>\n",
       "    <tr>\n",
       "      <th>2</th>\n",
       "      <td>1266801</td>\n",
       "      <td>1608</td>\n",
       "      <td>0.92</td>\n",
       "      <td>57479</td>\n",
       "      <td>3.953869</td>\n",
       "    </tr>\n",
       "    <tr>\n",
       "      <th>3</th>\n",
       "      <td>1266801</td>\n",
       "      <td>1807</td>\n",
       "      <td>0.07</td>\n",
       "      <td>43922</td>\n",
       "      <td>4.222868</td>\n",
       "    </tr>\n",
       "    <tr>\n",
       "      <th>4</th>\n",
       "      <td>1211101</td>\n",
       "      <td>1807</td>\n",
       "      <td>0.92</td>\n",
       "      <td>43922</td>\n",
       "      <td>4.222868</td>\n",
       "    </tr>\n",
       "  </tbody>\n",
       "</table>\n",
       "</div>"
      ],
      "text/plain": [
       "   document_id_cat  category_id  confidence_level_cat  count  categories\n",
       "0          1166221         1807                  0.92  43922    4.222868\n",
       "1          1166221         1608                  0.07  57479    3.953869\n",
       "2          1266801         1608                  0.92  57479    3.953869\n",
       "3          1266801         1807                  0.07  43922    4.222868\n",
       "4          1211101         1807                  0.92  43922    4.222868"
      ]
     },
     "execution_count": 23,
     "metadata": {},
     "output_type": "execute_result"
    }
   ],
   "source": [
    "#merge doc_meta_categories_merged and categories_docs_counts \n",
    "doc_category_idf = documents_categories_df.merge(categories_docs_counts, how='inner', on='category_id')\n",
    "print(doc_category_idf.shape)\n",
    "doc_category_idf.head()"
   ]
  },
  {
   "cell_type": "code",
   "execution_count": 24,
   "metadata": {},
   "outputs": [],
   "source": [
    "doc_category_idf.to_parquet(OUTPUT_BUCKET_FOLDER+'doc_category_idf.parquet')"
   ]
  },
  {
   "cell_type": "markdown",
   "metadata": {},
   "source": [
    "# Calculate IDF for topics"
   ]
  },
  {
   "cell_type": "code",
   "execution_count": 25,
   "metadata": {},
   "outputs": [],
   "source": [
    "#\"Reading documents_topics...\n",
    "documents_topics_df = cudf.read_csv(\n",
    "    DATA_BUCKET_FOLDER + 'documents_topics.csv',\n",
    "    names=['document_id_top', 'topic_id', 'confidence_level_top'],\n",
    "    dtype={'document_id_top': 'int64','topic_id': 'int64','confidence_level_top': 'float32'},\n",
    "    skiprows=1)"
   ]
  },
  {
   "cell_type": "code",
   "execution_count": 26,
   "metadata": {},
   "outputs": [
    {
     "data": {
      "text/html": [
       "<div>\n",
       "<style scoped>\n",
       "    .dataframe tbody tr th:only-of-type {\n",
       "        vertical-align: middle;\n",
       "    }\n",
       "\n",
       "    .dataframe tbody tr th {\n",
       "        vertical-align: top;\n",
       "    }\n",
       "\n",
       "    .dataframe thead th {\n",
       "        text-align: right;\n",
       "    }\n",
       "</style>\n",
       "<table border=\"1\" class=\"dataframe\">\n",
       "  <thead>\n",
       "    <tr style=\"text-align: right;\">\n",
       "      <th></th>\n",
       "      <th>document_id_top</th>\n",
       "      <th>topic_id</th>\n",
       "      <th>confidence_level_top</th>\n",
       "    </tr>\n",
       "  </thead>\n",
       "  <tbody>\n",
       "    <tr>\n",
       "      <th>0</th>\n",
       "      <td>1595802</td>\n",
       "      <td>140</td>\n",
       "      <td>0.073113</td>\n",
       "    </tr>\n",
       "    <tr>\n",
       "      <th>1</th>\n",
       "      <td>1595802</td>\n",
       "      <td>16</td>\n",
       "      <td>0.059416</td>\n",
       "    </tr>\n",
       "    <tr>\n",
       "      <th>2</th>\n",
       "      <td>1595802</td>\n",
       "      <td>143</td>\n",
       "      <td>0.045421</td>\n",
       "    </tr>\n",
       "    <tr>\n",
       "      <th>3</th>\n",
       "      <td>1595802</td>\n",
       "      <td>170</td>\n",
       "      <td>0.038867</td>\n",
       "    </tr>\n",
       "    <tr>\n",
       "      <th>4</th>\n",
       "      <td>1524246</td>\n",
       "      <td>113</td>\n",
       "      <td>0.196450</td>\n",
       "    </tr>\n",
       "  </tbody>\n",
       "</table>\n",
       "</div>"
      ],
      "text/plain": [
       "   document_id_top  topic_id  confidence_level_top\n",
       "0          1595802       140              0.073113\n",
       "1          1595802        16              0.059416\n",
       "2          1595802       143              0.045421\n",
       "3          1595802       170              0.038867\n",
       "4          1524246       113              0.196450"
      ]
     },
     "execution_count": 26,
     "metadata": {},
     "output_type": "execute_result"
    }
   ],
   "source": [
    "documents_topics_df.head()"
   ]
  },
  {
   "cell_type": "code",
   "execution_count": 27,
   "metadata": {},
   "outputs": [
    {
     "data": {
      "text/plain": [
       "document_id_top         False\n",
       "topic_id                False\n",
       "confidence_level_top    False\n",
       "dtype: bool"
      ]
     },
     "execution_count": 27,
     "metadata": {},
     "output_type": "execute_result"
    }
   ],
   "source": [
    "documents_topics_df.isnull().any()"
   ]
  },
  {
   "cell_type": "code",
   "execution_count": 28,
   "metadata": {},
   "outputs": [
    {
     "data": {
      "text/plain": [
       "184064"
      ]
     },
     "execution_count": 28,
     "metadata": {},
     "output_type": "execute_result"
    }
   ],
   "source": [
    "documents_topics_df['document_id_top'].nunique()"
   ]
  },
  {
   "cell_type": "code",
   "execution_count": 29,
   "metadata": {},
   "outputs": [
    {
     "name": "stdout",
     "output_type": "stream",
     "text": [
      "CPU times: user 16.6 ms, sys: 290 µs, total: 16.9 ms\n",
      "Wall time: 16.2 ms\n"
     ]
    }
   ],
   "source": [
    "%%time\n",
    "#Document Frequency for the category\n",
    "TF =1 \n",
    "# groupby on topic_id, and count the num of categories.\n",
    "topics_docs_counts = documents_topics_df.groupby('topic_id').size().rename('count').reset_index()\n",
    "#calculcate IDFs\n",
    "topics_docs_counts['topics']=np.log(documents_total/(topics_docs_counts['count']+1))"
   ]
  },
  {
   "cell_type": "code",
   "execution_count": 30,
   "metadata": {},
   "outputs": [
    {
     "data": {
      "text/html": [
       "<div>\n",
       "<style scoped>\n",
       "    .dataframe tbody tr th:only-of-type {\n",
       "        vertical-align: middle;\n",
       "    }\n",
       "\n",
       "    .dataframe tbody tr th {\n",
       "        vertical-align: top;\n",
       "    }\n",
       "\n",
       "    .dataframe thead th {\n",
       "        text-align: right;\n",
       "    }\n",
       "</style>\n",
       "<table border=\"1\" class=\"dataframe\">\n",
       "  <thead>\n",
       "    <tr style=\"text-align: right;\">\n",
       "      <th></th>\n",
       "      <th>topic_id</th>\n",
       "      <th>count</th>\n",
       "      <th>topics</th>\n",
       "    </tr>\n",
       "  </thead>\n",
       "  <tbody>\n",
       "    <tr>\n",
       "      <th>0</th>\n",
       "      <td>0</td>\n",
       "      <td>1734</td>\n",
       "      <td>7.454298</td>\n",
       "    </tr>\n",
       "    <tr>\n",
       "      <th>1</th>\n",
       "      <td>1</td>\n",
       "      <td>3400</td>\n",
       "      <td>6.781236</td>\n",
       "    </tr>\n",
       "    <tr>\n",
       "      <th>2</th>\n",
       "      <td>2</td>\n",
       "      <td>5881</td>\n",
       "      <td>6.233409</td>\n",
       "    </tr>\n",
       "    <tr>\n",
       "      <th>3</th>\n",
       "      <td>3</td>\n",
       "      <td>264</td>\n",
       "      <td>9.333331</td>\n",
       "    </tr>\n",
       "    <tr>\n",
       "      <th>4</th>\n",
       "      <td>4</td>\n",
       "      <td>819</td>\n",
       "      <td>8.203757</td>\n",
       "    </tr>\n",
       "  </tbody>\n",
       "</table>\n",
       "</div>"
      ],
      "text/plain": [
       "   topic_id  count    topics\n",
       "0         0   1734  7.454298\n",
       "1         1   3400  6.781236\n",
       "2         2   5881  6.233409\n",
       "3         3    264  9.333331\n",
       "4         4    819  8.203757"
      ]
     },
     "execution_count": 30,
     "metadata": {},
     "output_type": "execute_result"
    }
   ],
   "source": [
    "topics_docs_counts.head()"
   ]
  },
  {
   "cell_type": "code",
   "execution_count": 31,
   "metadata": {},
   "outputs": [
    {
     "data": {
      "text/html": [
       "<div>\n",
       "<style scoped>\n",
       "    .dataframe tbody tr th:only-of-type {\n",
       "        vertical-align: middle;\n",
       "    }\n",
       "\n",
       "    .dataframe tbody tr th {\n",
       "        vertical-align: top;\n",
       "    }\n",
       "\n",
       "    .dataframe thead th {\n",
       "        text-align: right;\n",
       "    }\n",
       "</style>\n",
       "<table border=\"1\" class=\"dataframe\">\n",
       "  <thead>\n",
       "    <tr style=\"text-align: right;\">\n",
       "      <th></th>\n",
       "      <th>document_id_top</th>\n",
       "      <th>topic_id</th>\n",
       "      <th>confidence_level_top</th>\n",
       "      <th>count</th>\n",
       "      <th>topics</th>\n",
       "    </tr>\n",
       "  </thead>\n",
       "  <tbody>\n",
       "    <tr>\n",
       "      <th>0</th>\n",
       "      <td>625973</td>\n",
       "      <td>140</td>\n",
       "      <td>0.026515</td>\n",
       "      <td>22665</td>\n",
       "      <td>4.884440</td>\n",
       "    </tr>\n",
       "    <tr>\n",
       "      <th>1</th>\n",
       "      <td>625973</td>\n",
       "      <td>198</td>\n",
       "      <td>0.010992</td>\n",
       "      <td>6103</td>\n",
       "      <td>6.196361</td>\n",
       "    </tr>\n",
       "    <tr>\n",
       "      <th>2</th>\n",
       "      <td>625973</td>\n",
       "      <td>108</td>\n",
       "      <td>0.008011</td>\n",
       "      <td>3194</td>\n",
       "      <td>6.843719</td>\n",
       "    </tr>\n",
       "    <tr>\n",
       "      <th>3</th>\n",
       "      <td>694406</td>\n",
       "      <td>113</td>\n",
       "      <td>0.193123</td>\n",
       "      <td>11599</td>\n",
       "      <td>5.554301</td>\n",
       "    </tr>\n",
       "    <tr>\n",
       "      <th>4</th>\n",
       "      <td>694406</td>\n",
       "      <td>260</td>\n",
       "      <td>0.165055</td>\n",
       "      <td>18135</td>\n",
       "      <td>5.107407</td>\n",
       "    </tr>\n",
       "  </tbody>\n",
       "</table>\n",
       "</div>"
      ],
      "text/plain": [
       "   document_id_top  topic_id  confidence_level_top  count    topics\n",
       "0           625973       140              0.026515  22665  4.884440\n",
       "1           625973       198              0.010992   6103  6.196361\n",
       "2           625973       108              0.008011   3194  6.843719\n",
       "3           694406       113              0.193123  11599  5.554301\n",
       "4           694406       260              0.165055  18135  5.107407"
      ]
     },
     "execution_count": 31,
     "metadata": {},
     "output_type": "execute_result"
    }
   ],
   "source": [
    "#merge doc_meta_categories_merged and categories_docs_counts \n",
    "doc_topics_idf = documents_topics_df.merge(topics_docs_counts, how='inner', on='topic_id')\n",
    "doc_topics_idf.head()"
   ]
  },
  {
   "cell_type": "code",
   "execution_count": 32,
   "metadata": {},
   "outputs": [],
   "source": [
    "doc_topics_idf.to_parquet(OUTPUT_BUCKET_FOLDER+'doc_topics_idf.parquet')"
   ]
  },
  {
   "cell_type": "markdown",
   "metadata": {},
   "source": [
    "# calcualte TF- IDF for entities"
   ]
  },
  {
   "cell_type": "code",
   "execution_count": 33,
   "metadata": {},
   "outputs": [],
   "source": [
    "#Reading documents_entities...\"\n",
    "documents_entities_df = cudf.read_csv(\n",
    "    DATA_BUCKET_FOLDER + 'documents_entities.csv',\n",
    "    names=['document_id_ent', 'entity_id', 'confidence_level_ent'],\n",
    "    dtype={'document_id_ent': 'int64','entity_id': 'str','confidence_level_ent': 'float32'},\n",
    "    skiprows=1)"
   ]
  },
  {
   "cell_type": "code",
   "execution_count": 34,
   "metadata": {},
   "outputs": [
    {
     "name": "stdout",
     "output_type": "stream",
     "text": [
      "CPU times: user 28.8 ms, sys: 28.6 ms, total: 57.4 ms\n",
      "Wall time: 68 ms\n"
     ]
    }
   ],
   "source": [
    "%%time\n",
    "#Document Frequency for the category\n",
    "TF =1 \n",
    "# groupby on topic_id, and count the num of categories.\n",
    "entities_docs_counts = documents_entities_df.groupby('entity_id').size().rename('count').reset_index()\n",
    "\n",
    "#calculcate IDFs\n",
    "entities_docs_counts['entities']=np.log(documents_total/(entities_docs_counts['count']+1))"
   ]
  },
  {
   "cell_type": "code",
   "execution_count": 35,
   "metadata": {},
   "outputs": [
    {
     "data": {
      "text/html": [
       "<div>\n",
       "<style scoped>\n",
       "    .dataframe tbody tr th:only-of-type {\n",
       "        vertical-align: middle;\n",
       "    }\n",
       "\n",
       "    .dataframe tbody tr th {\n",
       "        vertical-align: top;\n",
       "    }\n",
       "\n",
       "    .dataframe thead th {\n",
       "        text-align: right;\n",
       "    }\n",
       "</style>\n",
       "<table border=\"1\" class=\"dataframe\">\n",
       "  <thead>\n",
       "    <tr style=\"text-align: right;\">\n",
       "      <th></th>\n",
       "      <th>entity_id</th>\n",
       "      <th>count</th>\n",
       "      <th>entities</th>\n",
       "    </tr>\n",
       "  </thead>\n",
       "  <tbody>\n",
       "    <tr>\n",
       "      <th>0</th>\n",
       "      <td>000009e46a0ce7ce4a1692b3ae016425</td>\n",
       "      <td>1</td>\n",
       "      <td>14.219914</td>\n",
       "    </tr>\n",
       "    <tr>\n",
       "      <th>1</th>\n",
       "      <td>000067b4ed70ce24f928cc4db2ec9c46</td>\n",
       "      <td>2</td>\n",
       "      <td>13.814449</td>\n",
       "    </tr>\n",
       "    <tr>\n",
       "      <th>2</th>\n",
       "      <td>00007d2d430fb184718f9beb183ca857</td>\n",
       "      <td>1</td>\n",
       "      <td>14.219914</td>\n",
       "    </tr>\n",
       "    <tr>\n",
       "      <th>3</th>\n",
       "      <td>0000c3af6a63e9c42c35215bf47f3ae5</td>\n",
       "      <td>8</td>\n",
       "      <td>12.715836</td>\n",
       "    </tr>\n",
       "    <tr>\n",
       "      <th>4</th>\n",
       "      <td>0000f6ee06a6525d954484dfae01ee82</td>\n",
       "      <td>18</td>\n",
       "      <td>11.968622</td>\n",
       "    </tr>\n",
       "  </tbody>\n",
       "</table>\n",
       "</div>"
      ],
      "text/plain": [
       "                          entity_id  count   entities\n",
       "0  000009e46a0ce7ce4a1692b3ae016425      1  14.219914\n",
       "1  000067b4ed70ce24f928cc4db2ec9c46      2  13.814449\n",
       "2  00007d2d430fb184718f9beb183ca857      1  14.219914\n",
       "3  0000c3af6a63e9c42c35215bf47f3ae5      8  12.715836\n",
       "4  0000f6ee06a6525d954484dfae01ee82     18  11.968622"
      ]
     },
     "execution_count": 35,
     "metadata": {},
     "output_type": "execute_result"
    }
   ],
   "source": [
    "entities_docs_counts.head()"
   ]
  },
  {
   "cell_type": "code",
   "execution_count": 36,
   "metadata": {},
   "outputs": [
    {
     "data": {
      "text/html": [
       "<div>\n",
       "<style scoped>\n",
       "    .dataframe tbody tr th:only-of-type {\n",
       "        vertical-align: middle;\n",
       "    }\n",
       "\n",
       "    .dataframe tbody tr th {\n",
       "        vertical-align: top;\n",
       "    }\n",
       "\n",
       "    .dataframe thead th {\n",
       "        text-align: right;\n",
       "    }\n",
       "</style>\n",
       "<table border=\"1\" class=\"dataframe\">\n",
       "  <thead>\n",
       "    <tr style=\"text-align: right;\">\n",
       "      <th></th>\n",
       "      <th>document_id_ent</th>\n",
       "      <th>entity_id</th>\n",
       "      <th>confidence_level_ent</th>\n",
       "      <th>count</th>\n",
       "      <th>entities</th>\n",
       "    </tr>\n",
       "  </thead>\n",
       "  <tbody>\n",
       "    <tr>\n",
       "      <th>0</th>\n",
       "      <td>356480</td>\n",
       "      <td>191b73bc928fcdf21c29ba43ce90dd94</td>\n",
       "      <td>0.388640</td>\n",
       "      <td>1</td>\n",
       "      <td>14.219914</td>\n",
       "    </tr>\n",
       "    <tr>\n",
       "      <th>1</th>\n",
       "      <td>356480</td>\n",
       "      <td>b095704f91399e30c31d8ba5c72805e3</td>\n",
       "      <td>0.339668</td>\n",
       "      <td>7</td>\n",
       "      <td>12.833619</td>\n",
       "    </tr>\n",
       "    <tr>\n",
       "      <th>2</th>\n",
       "      <td>356480</td>\n",
       "      <td>e52fdc9244e521b17f54843db8873faf</td>\n",
       "      <td>0.253893</td>\n",
       "      <td>2</td>\n",
       "      <td>13.814449</td>\n",
       "    </tr>\n",
       "    <tr>\n",
       "      <th>3</th>\n",
       "      <td>356480</td>\n",
       "      <td>c19e072898f1d9c05ba08351636ada98</td>\n",
       "      <td>0.249627</td>\n",
       "      <td>14</td>\n",
       "      <td>12.205011</td>\n",
       "    </tr>\n",
       "    <tr>\n",
       "      <th>4</th>\n",
       "      <td>369988</td>\n",
       "      <td>f73f3befe92d0a167d3a0f50b7c696c1</td>\n",
       "      <td>0.532634</td>\n",
       "      <td>253</td>\n",
       "      <td>9.375727</td>\n",
       "    </tr>\n",
       "  </tbody>\n",
       "</table>\n",
       "</div>"
      ],
      "text/plain": [
       "   document_id_ent                         entity_id  confidence_level_ent  \\\n",
       "0           356480  191b73bc928fcdf21c29ba43ce90dd94              0.388640   \n",
       "1           356480  b095704f91399e30c31d8ba5c72805e3              0.339668   \n",
       "2           356480  e52fdc9244e521b17f54843db8873faf              0.253893   \n",
       "3           356480  c19e072898f1d9c05ba08351636ada98              0.249627   \n",
       "4           369988  f73f3befe92d0a167d3a0f50b7c696c1              0.532634   \n",
       "\n",
       "   count   entities  \n",
       "0      1  14.219914  \n",
       "1      7  12.833619  \n",
       "2      2  13.814449  \n",
       "3     14  12.205011  \n",
       "4    253   9.375727  "
      ]
     },
     "execution_count": 36,
     "metadata": {},
     "output_type": "execute_result"
    }
   ],
   "source": [
    "#merge doc_meta_categories_merged and categories_docs_counts \n",
    "doc_entities_idf = documents_entities_df.merge(entities_docs_counts, how='inner', on='entity_id')\n",
    "doc_entities_idf.head()"
   ]
  },
  {
   "cell_type": "code",
   "execution_count": 37,
   "metadata": {},
   "outputs": [],
   "source": [
    "doc_entities_idf.to_parquet(OUTPUT_BUCKET_FOLDER+'doc_entities_idf.parquet')"
   ]
  },
  {
   "cell_type": "code",
   "execution_count": 38,
   "metadata": {},
   "outputs": [],
   "source": [
    "# ### Left join: each document has documents_meta, but some have no categories, topic or entity\n",
    "\n",
    "# documents_df1 = documents_meta_df.merge(doc_category_idf, how='left', left_on='document_id_doc', right_on='document_id_cat')\n",
    "\n",
    "# documents_df2 = documents_df1.merge(doc_topics_idf, how='left', left_on='document_id_doc', right_on='document_id_top')\n",
    "\n",
    "# documents_df = documents_df2.merge(doc_entities_idf, how='left', left_on='document_id_doc', right_on='document_id_ent')"
   ]
  },
  {
   "cell_type": "code",
   "execution_count": 39,
   "metadata": {},
   "outputs": [],
   "source": [
    "documents_df= documents_meta_df.copy(deep=False)"
   ]
  },
  {
   "cell_type": "code",
   "execution_count": 40,
   "metadata": {},
   "outputs": [
    {
     "data": {
      "text/plain": [
       "(2996816, 4)"
      ]
     },
     "execution_count": 40,
     "metadata": {},
     "output_type": "execute_result"
    }
   ],
   "source": [
    "documents_df.shape"
   ]
  },
  {
   "cell_type": "code",
   "execution_count": 41,
   "metadata": {},
   "outputs": [
    {
     "data": {
      "text/html": [
       "<div>\n",
       "<style scoped>\n",
       "    .dataframe tbody tr th:only-of-type {\n",
       "        vertical-align: middle;\n",
       "    }\n",
       "\n",
       "    .dataframe tbody tr th {\n",
       "        vertical-align: top;\n",
       "    }\n",
       "\n",
       "    .dataframe thead th {\n",
       "        text-align: right;\n",
       "    }\n",
       "</style>\n",
       "<table border=\"1\" class=\"dataframe\">\n",
       "  <thead>\n",
       "    <tr style=\"text-align: right;\">\n",
       "      <th></th>\n",
       "      <th>document_id_doc</th>\n",
       "      <th>source_id</th>\n",
       "      <th>publish_time</th>\n",
       "      <th>publisher_id</th>\n",
       "    </tr>\n",
       "  </thead>\n",
       "  <tbody>\n",
       "    <tr>\n",
       "      <th>0</th>\n",
       "      <td>1434716</td>\n",
       "      <td>12</td>\n",
       "      <td>2016-05-13 14:00:00</td>\n",
       "      <td>594</td>\n",
       "    </tr>\n",
       "    <tr>\n",
       "      <th>1</th>\n",
       "      <td>1470964</td>\n",
       "      <td>12</td>\n",
       "      <td>2016-05-20 03:00:00</td>\n",
       "      <td>594</td>\n",
       "    </tr>\n",
       "    <tr>\n",
       "      <th>2</th>\n",
       "      <td>1459969</td>\n",
       "      <td>12</td>\n",
       "      <td>2016-05-18 18:00:00</td>\n",
       "      <td>594</td>\n",
       "    </tr>\n",
       "    <tr>\n",
       "      <th>3</th>\n",
       "      <td>1316610</td>\n",
       "      <td>12</td>\n",
       "      <td>2015-06-18 00:00:00</td>\n",
       "      <td>594</td>\n",
       "    </tr>\n",
       "    <tr>\n",
       "      <th>4</th>\n",
       "      <td>1425170</td>\n",
       "      <td>12</td>\n",
       "      <td>2016-05-11 00:00:00</td>\n",
       "      <td>594</td>\n",
       "    </tr>\n",
       "  </tbody>\n",
       "</table>\n",
       "</div>"
      ],
      "text/plain": [
       "   document_id_doc  source_id         publish_time  publisher_id\n",
       "0          1434716         12  2016-05-13 14:00:00           594\n",
       "1          1470964         12  2016-05-20 03:00:00           594\n",
       "2          1459969         12  2016-05-18 18:00:00           594\n",
       "3          1316610         12  2015-06-18 00:00:00           594\n",
       "4          1425170         12  2016-05-11 00:00:00           594"
      ]
     },
     "execution_count": 41,
     "metadata": {},
     "output_type": "execute_result"
    }
   ],
   "source": [
    "documents_df.head()"
   ]
  },
  {
   "cell_type": "code",
   "execution_count": 42,
   "metadata": {},
   "outputs": [],
   "source": [
    "evaluation = False\n",
    "if evaluation:\n",
    "    validation_set_df = cudf.read_parquet(args.output_directory+\"validation_set.parquet\")\n",
    "\n",
    "    users_to_profile = validation_set_df.loc[:, ['uuid_event']].drop_duplicates()\n",
    "\n",
    "    validation_user_docs_to_ignore = validation_set_df.loc[:, ['uuid_event', 'document_id_promo']].drop_duplicates().rename(\n",
    "        columns={'uuid_event': 'uuid_pv', 'document_id_promo': 'document_id_pv'})\n",
    "else:\n",
    "    events_df = cudf.read_csv(DATA_BUCKET_FOLDER+'events.csv', dtype=['int32','str','int32','int32','int32','str'], \n",
    "                                names=['display_id', 'uuid_event', 'document_id_event', 'timestamp_event', 'platform_event', 'geo_location_event'], header=0, na_values=['\\\\N', ''],\n",
    "    keep_default_na=False,\n",
    "    skiprows=1)\n",
    "   \n",
    "    events_df['event_country'] = events_df['geo_location_event'].str.slice(0,2)\n",
    "    events_df['day_event'] = (events_df['timestamp_event'] / 1000 / 60 / 60 / 24).astype(int)\n",
    "    # Drop rows with empty \"geo_location\"\n",
    "    events_df = events_df.dropna(subset=\"geo_location_event\")\n",
    "   \n",
    "    # Drop rows with empty \"platform\"\n",
    "    events_df = events_df.dropna(subset=\"platform_event\")\n",
    "    \n",
    "    promoted_content_df = cudf.read_csv(DATA_BUCKET_FOLDER+'promoted_content.csv', dtype=['int32', 'int32','int32','int32'], \n",
    "                                names=['ad_id', 'document_id_promo', 'campaign_id', 'advertiser_id'], header=0)\n",
    "\n",
    "    clicks_test_df = cudf.read_csv(DATA_BUCKET_FOLDER+'clicks_test.csv', dtype=['int32', 'int32'], \n",
    "                                names=['display_id', 'ad_id'], header=0)\n",
    "    test_set_df1 = clicks_test_df.merge(promoted_content_df, on='ad_id', how='left')\n",
    "    test_set_df = test_set_df1.merge(events_df, on='display_id', how='left')\n",
    "    users_to_profile = test_set_df['uuid_event'].drop_duplicates().reset_index(drop=True).to_frame()\n",
    "    test_users_docs_timestamp_to_ignore = test_set_df[['uuid_event', 'document_id_promo', 'timestamp_event']].drop_duplicates().reset_index(drop=True)"
   ]
  },
  {
   "cell_type": "code",
   "execution_count": 43,
   "metadata": {},
   "outputs": [
    {
     "data": {
      "text/html": [
       "<div>\n",
       "<style scoped>\n",
       "    .dataframe tbody tr th:only-of-type {\n",
       "        vertical-align: middle;\n",
       "    }\n",
       "\n",
       "    .dataframe tbody tr th {\n",
       "        vertical-align: top;\n",
       "    }\n",
       "\n",
       "    .dataframe thead th {\n",
       "        text-align: right;\n",
       "    }\n",
       "</style>\n",
       "<table border=\"1\" class=\"dataframe\">\n",
       "  <thead>\n",
       "    <tr style=\"text-align: right;\">\n",
       "      <th></th>\n",
       "      <th>uuid_event</th>\n",
       "    </tr>\n",
       "  </thead>\n",
       "  <tbody>\n",
       "    <tr>\n",
       "      <th>0</th>\n",
       "      <td>None</td>\n",
       "    </tr>\n",
       "    <tr>\n",
       "      <th>1</th>\n",
       "      <td>10000b6df44162</td>\n",
       "    </tr>\n",
       "    <tr>\n",
       "      <th>2</th>\n",
       "      <td>1001b1687f2e73</td>\n",
       "    </tr>\n",
       "    <tr>\n",
       "      <th>3</th>\n",
       "      <td>10020e2d1802e9</td>\n",
       "    </tr>\n",
       "    <tr>\n",
       "      <th>4</th>\n",
       "      <td>100275aabf71b3</td>\n",
       "    </tr>\n",
       "  </tbody>\n",
       "</table>\n",
       "</div>"
      ],
      "text/plain": [
       "       uuid_event\n",
       "0            None\n",
       "1  10000b6df44162\n",
       "2  1001b1687f2e73\n",
       "3  10020e2d1802e9\n",
       "4  100275aabf71b3"
      ]
     },
     "execution_count": 43,
     "metadata": {},
     "output_type": "execute_result"
    }
   ],
   "source": [
    "users_to_profile.head()"
   ]
  },
  {
   "cell_type": "code",
   "execution_count": 44,
   "metadata": {},
   "outputs": [
    {
     "data": {
      "text/html": [
       "<div>\n",
       "<style scoped>\n",
       "    .dataframe tbody tr th:only-of-type {\n",
       "        vertical-align: middle;\n",
       "    }\n",
       "\n",
       "    .dataframe tbody tr th {\n",
       "        vertical-align: top;\n",
       "    }\n",
       "\n",
       "    .dataframe thead th {\n",
       "        text-align: right;\n",
       "    }\n",
       "</style>\n",
       "<table border=\"1\" class=\"dataframe\">\n",
       "  <thead>\n",
       "    <tr style=\"text-align: right;\">\n",
       "      <th></th>\n",
       "      <th>display_id</th>\n",
       "      <th>uuid_event</th>\n",
       "      <th>document_id_event</th>\n",
       "      <th>timestamp_event</th>\n",
       "      <th>platform_event</th>\n",
       "      <th>geo_location_event</th>\n",
       "      <th>event_country</th>\n",
       "      <th>day_event</th>\n",
       "    </tr>\n",
       "  </thead>\n",
       "  <tbody>\n",
       "    <tr>\n",
       "      <th>0</th>\n",
       "      <td>2</td>\n",
       "      <td>79a85fa78311b9</td>\n",
       "      <td>1794259</td>\n",
       "      <td>81</td>\n",
       "      <td>2</td>\n",
       "      <td>US&gt;CA&gt;807</td>\n",
       "      <td>US</td>\n",
       "      <td>0</td>\n",
       "    </tr>\n",
       "    <tr>\n",
       "      <th>1</th>\n",
       "      <td>3</td>\n",
       "      <td>822932ce3d8757</td>\n",
       "      <td>1179111</td>\n",
       "      <td>182</td>\n",
       "      <td>2</td>\n",
       "      <td>US&gt;MI&gt;505</td>\n",
       "      <td>US</td>\n",
       "      <td>0</td>\n",
       "    </tr>\n",
       "  </tbody>\n",
       "</table>\n",
       "</div>"
      ],
      "text/plain": [
       "   display_id      uuid_event  document_id_event  timestamp_event  \\\n",
       "0           2  79a85fa78311b9            1794259               81   \n",
       "1           3  822932ce3d8757            1179111              182   \n",
       "\n",
       "   platform_event geo_location_event event_country  day_event  \n",
       "0               2          US>CA>807            US          0  \n",
       "1               2          US>MI>505            US          0  "
      ]
     },
     "execution_count": 44,
     "metadata": {},
     "output_type": "execute_result"
    }
   ],
   "source": [
    "events_df.head(2)"
   ]
  },
  {
   "cell_type": "code",
   "execution_count": 45,
   "metadata": {},
   "outputs": [],
   "source": [
    "#smaller set than the original size\n",
    "page_views_df = cudf.read_csv(DATA_BUCKET_FOLDER + \"page_views.csv\",\n",
    "    names=['uuid_pv', 'document_id_pv', 'timestamp_pv', 'platform_pv', 'geo_location_pv', 'traffic_source_pv'],\n",
    "    dtype={'uuid_pv': 'str', 'document_id_pv': 'int64', 'timestamp_pv': 'int64',\n",
    "           'platform_pv': 'int64', 'geo_location_pv': 'str', 'traffic_source_pv': 'int64'},\n",
    "    skiprows=1,\n",
    "    keep_default_na=False)"
   ]
  },
  {
   "cell_type": "code",
   "execution_count": 46,
   "metadata": {},
   "outputs": [
    {
     "data": {
      "text/html": [
       "<div>\n",
       "<style scoped>\n",
       "    .dataframe tbody tr th:only-of-type {\n",
       "        vertical-align: middle;\n",
       "    }\n",
       "\n",
       "    .dataframe tbody tr th {\n",
       "        vertical-align: top;\n",
       "    }\n",
       "\n",
       "    .dataframe thead th {\n",
       "        text-align: right;\n",
       "    }\n",
       "</style>\n",
       "<table border=\"1\" class=\"dataframe\">\n",
       "  <thead>\n",
       "    <tr style=\"text-align: right;\">\n",
       "      <th></th>\n",
       "      <th>uuid_pv</th>\n",
       "      <th>document_id_pv</th>\n",
       "      <th>timestamp_pv</th>\n",
       "      <th>platform_pv</th>\n",
       "      <th>geo_location_pv</th>\n",
       "      <th>traffic_source_pv</th>\n",
       "    </tr>\n",
       "  </thead>\n",
       "  <tbody>\n",
       "    <tr>\n",
       "      <th>0</th>\n",
       "      <td>1fd5f051fba643</td>\n",
       "      <td>120</td>\n",
       "      <td>31905835</td>\n",
       "      <td>1</td>\n",
       "      <td>RS</td>\n",
       "      <td>2</td>\n",
       "    </tr>\n",
       "    <tr>\n",
       "      <th>1</th>\n",
       "      <td>8557aa9004be3b</td>\n",
       "      <td>120</td>\n",
       "      <td>32053104</td>\n",
       "      <td>1</td>\n",
       "      <td>VN&gt;44</td>\n",
       "      <td>2</td>\n",
       "    </tr>\n",
       "  </tbody>\n",
       "</table>\n",
       "</div>"
      ],
      "text/plain": [
       "          uuid_pv  document_id_pv  timestamp_pv  platform_pv geo_location_pv  \\\n",
       "0  1fd5f051fba643             120      31905835            1              RS   \n",
       "1  8557aa9004be3b             120      32053104            1           VN>44   \n",
       "\n",
       "   traffic_source_pv  \n",
       "0                  2  \n",
       "1                  2  "
      ]
     },
     "execution_count": 46,
     "metadata": {},
     "output_type": "execute_result"
    }
   ],
   "source": [
    "page_views_df.head(2)"
   ]
  },
  {
   "cell_type": "code",
   "execution_count": 47,
   "metadata": {},
   "outputs": [
    {
     "name": "stdout",
     "output_type": "stream",
     "text": [
      "(43810, 6)\n"
     ]
    },
    {
     "data": {
      "text/html": [
       "<div>\n",
       "<style scoped>\n",
       "    .dataframe tbody tr th:only-of-type {\n",
       "        vertical-align: middle;\n",
       "    }\n",
       "\n",
       "    .dataframe tbody tr th {\n",
       "        vertical-align: top;\n",
       "    }\n",
       "\n",
       "    .dataframe thead th {\n",
       "        text-align: right;\n",
       "    }\n",
       "</style>\n",
       "<table border=\"1\" class=\"dataframe\">\n",
       "  <thead>\n",
       "    <tr style=\"text-align: right;\">\n",
       "      <th></th>\n",
       "      <th>uuid_pv</th>\n",
       "      <th>document_id_pv</th>\n",
       "      <th>timestamp_pv</th>\n",
       "      <th>platform_pv</th>\n",
       "      <th>geo_location_pv</th>\n",
       "      <th>traffic_source_pv</th>\n",
       "    </tr>\n",
       "  </thead>\n",
       "  <tbody>\n",
       "    <tr>\n",
       "      <th>0</th>\n",
       "      <td>8f5685b4ea8de6</td>\n",
       "      <td>25792</td>\n",
       "      <td>42937578</td>\n",
       "      <td>1</td>\n",
       "      <td>US&gt;CA&gt;803</td>\n",
       "      <td>1</td>\n",
       "    </tr>\n",
       "    <tr>\n",
       "      <th>1</th>\n",
       "      <td>75278f75fd80ae</td>\n",
       "      <td>25792</td>\n",
       "      <td>61170710</td>\n",
       "      <td>1</td>\n",
       "      <td>US&gt;NJ&gt;504</td>\n",
       "      <td>1</td>\n",
       "    </tr>\n",
       "  </tbody>\n",
       "</table>\n",
       "</div>"
      ],
      "text/plain": [
       "          uuid_pv  document_id_pv  timestamp_pv  platform_pv geo_location_pv  \\\n",
       "0  8f5685b4ea8de6           25792      42937578            1       US>CA>803   \n",
       "1  75278f75fd80ae           25792      61170710            1       US>NJ>504   \n",
       "\n",
       "   traffic_source_pv  \n",
       "0                  1  \n",
       "1                  1  "
      ]
     },
     "execution_count": 47,
     "metadata": {},
     "output_type": "execute_result"
    }
   ],
   "source": [
    "# first apply (SELECT uuid_event FROM users_to_profile WHERE uuid_event = p.uuid_pv)\n",
    "page_views_train_df1 = page_views_df.merge(users_to_profile, how='inner', left_on=['uuid_pv'], right_on = ['uuid_event']).drop(columns=['uuid_event'])\n",
    "print(page_views_train_df1.shape)\n",
    "page_views_train_df1.head(2)"
   ]
  },
  {
   "cell_type": "code",
   "execution_count": 48,
   "metadata": {},
   "outputs": [
    {
     "data": {
      "text/html": [
       "<div>\n",
       "<style scoped>\n",
       "    .dataframe tbody tr th:only-of-type {\n",
       "        vertical-align: middle;\n",
       "    }\n",
       "\n",
       "    .dataframe tbody tr th {\n",
       "        vertical-align: top;\n",
       "    }\n",
       "\n",
       "    .dataframe thead th {\n",
       "        text-align: right;\n",
       "    }\n",
       "</style>\n",
       "<table border=\"1\" class=\"dataframe\">\n",
       "  <thead>\n",
       "    <tr style=\"text-align: right;\">\n",
       "      <th></th>\n",
       "      <th>id</th>\n",
       "      <th>uuid_pv</th>\n",
       "      <th>document_id_pv</th>\n",
       "      <th>timestamp_pv</th>\n",
       "      <th>platform_pv</th>\n",
       "      <th>geo_location_pv</th>\n",
       "      <th>traffic_source_pv</th>\n",
       "    </tr>\n",
       "  </thead>\n",
       "  <tbody>\n",
       "    <tr>\n",
       "      <th>0</th>\n",
       "      <td>1</td>\n",
       "      <td>8f5685b4ea8de6</td>\n",
       "      <td>25792</td>\n",
       "      <td>42937578</td>\n",
       "      <td>1</td>\n",
       "      <td>US&gt;CA&gt;803</td>\n",
       "      <td>1</td>\n",
       "    </tr>\n",
       "    <tr>\n",
       "      <th>1</th>\n",
       "      <td>2</td>\n",
       "      <td>75278f75fd80ae</td>\n",
       "      <td>25792</td>\n",
       "      <td>61170710</td>\n",
       "      <td>1</td>\n",
       "      <td>US&gt;NJ&gt;504</td>\n",
       "      <td>1</td>\n",
       "    </tr>\n",
       "    <tr>\n",
       "      <th>2</th>\n",
       "      <td>3</td>\n",
       "      <td>1f216b99537a63</td>\n",
       "      <td>25792</td>\n",
       "      <td>28582318</td>\n",
       "      <td>1</td>\n",
       "      <td>US&gt;TX&gt;618</td>\n",
       "      <td>1</td>\n",
       "    </tr>\n",
       "    <tr>\n",
       "      <th>3</th>\n",
       "      <td>4</td>\n",
       "      <td>f78fd19c40e614</td>\n",
       "      <td>25792</td>\n",
       "      <td>46714915</td>\n",
       "      <td>1</td>\n",
       "      <td>US&gt;LA&gt;716</td>\n",
       "      <td>2</td>\n",
       "    </tr>\n",
       "    <tr>\n",
       "      <th>4</th>\n",
       "      <td>5</td>\n",
       "      <td>8ae7e9f764b528</td>\n",
       "      <td>25792</td>\n",
       "      <td>34958035</td>\n",
       "      <td>3</td>\n",
       "      <td>US&gt;OR&gt;801</td>\n",
       "      <td>1</td>\n",
       "    </tr>\n",
       "  </tbody>\n",
       "</table>\n",
       "</div>"
      ],
      "text/plain": [
       "   id         uuid_pv  document_id_pv  timestamp_pv  platform_pv  \\\n",
       "0   1  8f5685b4ea8de6           25792      42937578            1   \n",
       "1   2  75278f75fd80ae           25792      61170710            1   \n",
       "2   3  1f216b99537a63           25792      28582318            1   \n",
       "3   4  f78fd19c40e614           25792      46714915            1   \n",
       "4   5  8ae7e9f764b528           25792      34958035            3   \n",
       "\n",
       "  geo_location_pv  traffic_source_pv  \n",
       "0       US>CA>803                  1  \n",
       "1       US>NJ>504                  1  \n",
       "2       US>TX>618                  1  \n",
       "3       US>LA>716                  2  \n",
       "4       US>OR>801                  1  "
      ]
     },
     "execution_count": 48,
     "metadata": {},
     "output_type": "execute_result"
    }
   ],
   "source": [
    "page_views_train_df1['id']=range(1,page_views_train_df1.shape[0]+1)\n",
    "page_views_train_df1 = page_views_train_df1.set_index('id').reset_index()\n",
    "page_views_train_df1.head()"
   ]
  },
  {
   "cell_type": "code",
   "execution_count": 49,
   "metadata": {},
   "outputs": [
    {
     "name": "stdout",
     "output_type": "stream",
     "text": [
      "(724, 10)\n",
      "(723, 7)\n"
     ]
    },
    {
     "data": {
      "text/html": [
       "<div>\n",
       "<style scoped>\n",
       "    .dataframe tbody tr th:only-of-type {\n",
       "        vertical-align: middle;\n",
       "    }\n",
       "\n",
       "    .dataframe tbody tr th {\n",
       "        vertical-align: top;\n",
       "    }\n",
       "\n",
       "    .dataframe thead th {\n",
       "        text-align: right;\n",
       "    }\n",
       "</style>\n",
       "<table border=\"1\" class=\"dataframe\">\n",
       "  <thead>\n",
       "    <tr style=\"text-align: right;\">\n",
       "      <th></th>\n",
       "      <th>id</th>\n",
       "      <th>uuid_pv</th>\n",
       "      <th>document_id_pv</th>\n",
       "      <th>timestamp_pv</th>\n",
       "      <th>platform_pv</th>\n",
       "      <th>geo_location_pv</th>\n",
       "      <th>traffic_source_pv</th>\n",
       "    </tr>\n",
       "  </thead>\n",
       "  <tbody>\n",
       "    <tr>\n",
       "      <th>0</th>\n",
       "      <td>15046</td>\n",
       "      <td>1118d78752a6a0</td>\n",
       "      <td>1758447</td>\n",
       "      <td>53905549</td>\n",
       "      <td>1</td>\n",
       "      <td>US&gt;CA&gt;862</td>\n",
       "      <td>1</td>\n",
       "    </tr>\n",
       "    <tr>\n",
       "      <th>1</th>\n",
       "      <td>19896</td>\n",
       "      <td>18ad2d88dc0f5d</td>\n",
       "      <td>1649150</td>\n",
       "      <td>56591321</td>\n",
       "      <td>2</td>\n",
       "      <td>US&gt;NJ&gt;501</td>\n",
       "      <td>1</td>\n",
       "    </tr>\n",
       "    <tr>\n",
       "      <th>2</th>\n",
       "      <td>2304</td>\n",
       "      <td>1c2498998aed00</td>\n",
       "      <td>1552983</td>\n",
       "      <td>22328151</td>\n",
       "      <td>2</td>\n",
       "      <td>US&gt;VA&gt;511</td>\n",
       "      <td>1</td>\n",
       "    </tr>\n",
       "    <tr>\n",
       "      <th>3</th>\n",
       "      <td>19848</td>\n",
       "      <td>106e47d7a3d3c2</td>\n",
       "      <td>1649150</td>\n",
       "      <td>59539770</td>\n",
       "      <td>2</td>\n",
       "      <td>US&gt;VA&gt;511</td>\n",
       "      <td>1</td>\n",
       "    </tr>\n",
       "    <tr>\n",
       "      <th>4</th>\n",
       "      <td>27200</td>\n",
       "      <td>184c61fe87f265</td>\n",
       "      <td>1649400</td>\n",
       "      <td>3614613</td>\n",
       "      <td>1</td>\n",
       "      <td>US&gt;FL&gt;534</td>\n",
       "      <td>1</td>\n",
       "    </tr>\n",
       "  </tbody>\n",
       "</table>\n",
       "</div>"
      ],
      "text/plain": [
       "      id         uuid_pv  document_id_pv  timestamp_pv  platform_pv  \\\n",
       "0  15046  1118d78752a6a0         1758447      53905549            1   \n",
       "1  19896  18ad2d88dc0f5d         1649150      56591321            2   \n",
       "2   2304  1c2498998aed00         1552983      22328151            2   \n",
       "3  19848  106e47d7a3d3c2         1649150      59539770            2   \n",
       "4  27200  184c61fe87f265         1649400       3614613            1   \n",
       "\n",
       "  geo_location_pv  traffic_source_pv  \n",
       "0       US>CA>862                  1  \n",
       "1       US>NJ>501                  1  \n",
       "2       US>VA>511                  1  \n",
       "3       US>VA>511                  1  \n",
       "4       US>FL>534                  1  "
      ]
     },
     "execution_count": 49,
     "metadata": {},
     "output_type": "execute_result"
    }
   ],
   "source": [
    "# apply SELECT uuid_event FROM test_users_docs_timestamp_to_ignore  WHERE uuid_event = p.uuid_pv \n",
    "# AND document_id_promo = p.document_id_pv\n",
    "page_views_joined_df1 = page_views_train_df1.merge(test_users_docs_timestamp_to_ignore, how='inner', left_on=['uuid_pv','document_id_pv'], right_on = ['uuid_event','document_id_promo'])\n",
    "print(page_views_joined_df1.shape)\n",
    "\n",
    "page_views_joined_df1= page_views_joined_df1[page_views_joined_df1.timestamp_pv >= page_views_joined_df1.timestamp_event].drop(columns=['uuid_event','document_id_promo', 'timestamp_event'])\n",
    "print(page_views_joined_df1.shape)\n",
    "page_views_joined_df1.head()"
   ]
  },
  {
   "cell_type": "code",
   "execution_count": 50,
   "metadata": {},
   "outputs": [
    {
     "data": {
      "text/html": [
       "<div>\n",
       "<style scoped>\n",
       "    .dataframe tbody tr th:only-of-type {\n",
       "        vertical-align: middle;\n",
       "    }\n",
       "\n",
       "    .dataframe tbody tr th {\n",
       "        vertical-align: top;\n",
       "    }\n",
       "\n",
       "    .dataframe thead th {\n",
       "        text-align: right;\n",
       "    }\n",
       "</style>\n",
       "<table border=\"1\" class=\"dataframe\">\n",
       "  <thead>\n",
       "    <tr style=\"text-align: right;\">\n",
       "      <th></th>\n",
       "      <th>uuid_pv</th>\n",
       "      <th>document_id_pv</th>\n",
       "      <th>timestamp_pv</th>\n",
       "      <th>platform_pv</th>\n",
       "      <th>geo_location_pv</th>\n",
       "      <th>traffic_source_pv</th>\n",
       "    </tr>\n",
       "  </thead>\n",
       "  <tbody>\n",
       "    <tr>\n",
       "      <th>0</th>\n",
       "      <td>b8d28005a8aa6c</td>\n",
       "      <td>60164</td>\n",
       "      <td>35341632</td>\n",
       "      <td>1</td>\n",
       "      <td>US&gt;GA&gt;525</td>\n",
       "      <td>1</td>\n",
       "    </tr>\n",
       "    <tr>\n",
       "      <th>1</th>\n",
       "      <td>924ae0f5cccb99</td>\n",
       "      <td>60164</td>\n",
       "      <td>2436947</td>\n",
       "      <td>1</td>\n",
       "      <td>US&gt;GA&gt;530</td>\n",
       "      <td>1</td>\n",
       "    </tr>\n",
       "  </tbody>\n",
       "</table>\n",
       "</div>"
      ],
      "text/plain": [
       "          uuid_pv  document_id_pv  timestamp_pv  platform_pv geo_location_pv  \\\n",
       "0  b8d28005a8aa6c           60164      35341632            1       US>GA>525   \n",
       "1  924ae0f5cccb99           60164       2436947            1       US>GA>530   \n",
       "\n",
       "   traffic_source_pv  \n",
       "0                  1  \n",
       "1                  1  "
      ]
     },
     "execution_count": 50,
     "metadata": {},
     "output_type": "execute_result"
    }
   ],
   "source": [
    "page_views_train_df2 = page_views_train_df1.merge(page_views_joined_df1, how='left', on='id')\n",
    "\n",
    "page_views_train_df2 = page_views_train_df2[page_views_train_df2['uuid_pv_y'].isnull()]\n",
    "page_views_train_df2=page_views_train_df2[['uuid_pv_x', 'document_id_pv_x', 'timestamp_pv_x', 'platform_pv_x', 'geo_location_pv_x', 'traffic_source_pv_x']].rename(\n",
    "    columns={'uuid_pv_x': 'uuid_pv', 'document_id_pv_x': 'document_id_pv', 'timestamp_pv_x': 'timestamp_pv', 'platform_pv_x':'platform_pv', 'geo_location_pv_x':'geo_location_pv',\n",
    "            'traffic_source_pv_x':'traffic_source_pv'})\n",
    "\n",
    "page_views_train_df2.head(2)"
   ]
  },
  {
   "cell_type": "code",
   "execution_count": 51,
   "metadata": {},
   "outputs": [
    {
     "data": {
      "text/html": [
       "<div>\n",
       "<style scoped>\n",
       "    .dataframe tbody tr th:only-of-type {\n",
       "        vertical-align: middle;\n",
       "    }\n",
       "\n",
       "    .dataframe tbody tr th {\n",
       "        vertical-align: top;\n",
       "    }\n",
       "\n",
       "    .dataframe thead th {\n",
       "        text-align: right;\n",
       "    }\n",
       "</style>\n",
       "<table border=\"1\" class=\"dataframe\">\n",
       "  <thead>\n",
       "    <tr style=\"text-align: right;\">\n",
       "      <th></th>\n",
       "      <th>document_id_doc</th>\n",
       "      <th>source_id</th>\n",
       "      <th>publish_time</th>\n",
       "      <th>publisher_id</th>\n",
       "    </tr>\n",
       "  </thead>\n",
       "  <tbody>\n",
       "    <tr>\n",
       "      <th>0</th>\n",
       "      <td>1434716</td>\n",
       "      <td>12</td>\n",
       "      <td>2016-05-13 14:00:00</td>\n",
       "      <td>594</td>\n",
       "    </tr>\n",
       "    <tr>\n",
       "      <th>1</th>\n",
       "      <td>1470964</td>\n",
       "      <td>12</td>\n",
       "      <td>2016-05-20 03:00:00</td>\n",
       "      <td>594</td>\n",
       "    </tr>\n",
       "  </tbody>\n",
       "</table>\n",
       "</div>"
      ],
      "text/plain": [
       "   document_id_doc  source_id         publish_time  publisher_id\n",
       "0          1434716         12  2016-05-13 14:00:00           594\n",
       "1          1470964         12  2016-05-20 03:00:00           594"
      ]
     },
     "execution_count": 51,
     "metadata": {},
     "output_type": "execute_result"
    }
   ],
   "source": [
    "documents_df.head(2)"
   ]
  },
  {
   "cell_type": "code",
   "execution_count": 52,
   "metadata": {},
   "outputs": [
    {
     "name": "stdout",
     "output_type": "stream",
     "text": [
      "(43087, 10)\n"
     ]
    },
    {
     "data": {
      "text/html": [
       "<div>\n",
       "<style scoped>\n",
       "    .dataframe tbody tr th:only-of-type {\n",
       "        vertical-align: middle;\n",
       "    }\n",
       "\n",
       "    .dataframe tbody tr th {\n",
       "        vertical-align: top;\n",
       "    }\n",
       "\n",
       "    .dataframe thead th {\n",
       "        text-align: right;\n",
       "    }\n",
       "</style>\n",
       "<table border=\"1\" class=\"dataframe\">\n",
       "  <thead>\n",
       "    <tr style=\"text-align: right;\">\n",
       "      <th></th>\n",
       "      <th>uuid_pv</th>\n",
       "      <th>document_id_pv</th>\n",
       "      <th>timestamp_pv</th>\n",
       "      <th>platform_pv</th>\n",
       "      <th>geo_location_pv</th>\n",
       "      <th>traffic_source_pv</th>\n",
       "      <th>document_id_doc</th>\n",
       "      <th>source_id</th>\n",
       "      <th>publish_time</th>\n",
       "      <th>publisher_id</th>\n",
       "    </tr>\n",
       "  </thead>\n",
       "  <tbody>\n",
       "    <tr>\n",
       "      <th>0</th>\n",
       "      <td>e77a43f2b28254</td>\n",
       "      <td>25792</td>\n",
       "      <td>36324077</td>\n",
       "      <td>1</td>\n",
       "      <td>US&gt;NY&gt;501</td>\n",
       "      <td>2</td>\n",
       "      <td>25792</td>\n",
       "      <td>10517</td>\n",
       "      <td>2011-08-04 10:00:00</td>\n",
       "      <td>240</td>\n",
       "    </tr>\n",
       "    <tr>\n",
       "      <th>1</th>\n",
       "      <td>914d976a9cc043</td>\n",
       "      <td>25792</td>\n",
       "      <td>43657733</td>\n",
       "      <td>1</td>\n",
       "      <td>US&gt;FL&gt;534</td>\n",
       "      <td>1</td>\n",
       "      <td>25792</td>\n",
       "      <td>10517</td>\n",
       "      <td>2011-08-04 10:00:00</td>\n",
       "      <td>240</td>\n",
       "    </tr>\n",
       "  </tbody>\n",
       "</table>\n",
       "</div>"
      ],
      "text/plain": [
       "          uuid_pv  document_id_pv  timestamp_pv  platform_pv geo_location_pv  \\\n",
       "0  e77a43f2b28254           25792      36324077            1       US>NY>501   \n",
       "1  914d976a9cc043           25792      43657733            1       US>FL>534   \n",
       "\n",
       "   traffic_source_pv  document_id_doc  source_id         publish_time  \\\n",
       "0                  2            25792      10517  2011-08-04 10:00:00   \n",
       "1                  1            25792      10517  2011-08-04 10:00:00   \n",
       "\n",
       "   publisher_id  \n",
       "0           240  \n",
       "1           240  "
      ]
     },
     "execution_count": 52,
     "metadata": {},
     "output_type": "execute_result"
    }
   ],
   "source": [
    "page_views_train_df = page_views_train_df2.merge(documents_df,left_on='document_id_pv', right_on='document_id_doc', how='left') \n",
    "print(page_views_train_df.shape)\n",
    "page_views_train_df.head(2)"
   ]
  },
  {
   "cell_type": "code",
   "execution_count": 53,
   "metadata": {},
   "outputs": [
    {
     "data": {
      "text/plain": [
       "Index(['uuid_pv', 'document_id_pv', 'timestamp_pv', 'platform_pv',\n",
       "       'geo_location_pv', 'traffic_source_pv', 'document_id_doc', 'source_id',\n",
       "       'publish_time', 'publisher_id'],\n",
       "      dtype='object')"
      ]
     },
     "execution_count": 53,
     "metadata": {},
     "output_type": "execute_result"
    }
   ],
   "source": [
    "page_views_train_df.columns"
   ]
  },
  {
   "cell_type": "code",
   "execution_count": 54,
   "metadata": {},
   "outputs": [
    {
     "name": "stdout",
     "output_type": "stream",
     "text": [
      "Processing user profiles...\n"
     ]
    }
   ],
   "source": [
    "print('Processing user profiles...')\n",
    "\n",
    "null_to_minus_one = lambda x: -1 if np.isnan(x) else x\n",
    "null_to_zero = lambda x: 0 if np.isnan(x) else x"
   ]
  },
  {
   "cell_type": "code",
   "execution_count": 55,
   "metadata": {},
   "outputs": [],
   "source": [
    "page_views_train_df.fillna({'timestamp_pv': -1}, inplace=True)"
   ]
  },
  {
   "cell_type": "code",
   "execution_count": 56,
   "metadata": {},
   "outputs": [
    {
     "data": {
      "text/html": [
       "<div>\n",
       "<style scoped>\n",
       "    .dataframe tbody tr th:only-of-type {\n",
       "        vertical-align: middle;\n",
       "    }\n",
       "\n",
       "    .dataframe tbody tr th {\n",
       "        vertical-align: top;\n",
       "    }\n",
       "\n",
       "    .dataframe thead th {\n",
       "        text-align: right;\n",
       "    }\n",
       "</style>\n",
       "<table border=\"1\" class=\"dataframe\">\n",
       "  <thead>\n",
       "    <tr style=\"text-align: right;\">\n",
       "      <th></th>\n",
       "      <th>uuid_pv</th>\n",
       "      <th>document_id_pv</th>\n",
       "      <th>timestamp_pv</th>\n",
       "      <th>platform_pv</th>\n",
       "      <th>geo_location_pv</th>\n",
       "      <th>traffic_source_pv</th>\n",
       "      <th>document_id_doc</th>\n",
       "      <th>source_id</th>\n",
       "      <th>publish_time</th>\n",
       "      <th>publisher_id</th>\n",
       "    </tr>\n",
       "  </thead>\n",
       "  <tbody>\n",
       "    <tr>\n",
       "      <th>0</th>\n",
       "      <td>e77a43f2b28254</td>\n",
       "      <td>25792</td>\n",
       "      <td>36324077</td>\n",
       "      <td>1</td>\n",
       "      <td>US&gt;NY&gt;501</td>\n",
       "      <td>2</td>\n",
       "      <td>25792</td>\n",
       "      <td>10517</td>\n",
       "      <td>2011-08-04 10:00:00</td>\n",
       "      <td>240</td>\n",
       "    </tr>\n",
       "    <tr>\n",
       "      <th>1</th>\n",
       "      <td>914d976a9cc043</td>\n",
       "      <td>25792</td>\n",
       "      <td>43657733</td>\n",
       "      <td>1</td>\n",
       "      <td>US&gt;FL&gt;534</td>\n",
       "      <td>1</td>\n",
       "      <td>25792</td>\n",
       "      <td>10517</td>\n",
       "      <td>2011-08-04 10:00:00</td>\n",
       "      <td>240</td>\n",
       "    </tr>\n",
       "    <tr>\n",
       "      <th>2</th>\n",
       "      <td>aae35dd5ea3c33</td>\n",
       "      <td>25792</td>\n",
       "      <td>1167439</td>\n",
       "      <td>1</td>\n",
       "      <td>AU&gt;04</td>\n",
       "      <td>1</td>\n",
       "      <td>25792</td>\n",
       "      <td>10517</td>\n",
       "      <td>2011-08-04 10:00:00</td>\n",
       "      <td>240</td>\n",
       "    </tr>\n",
       "    <tr>\n",
       "      <th>3</th>\n",
       "      <td>9057ee11931c5b</td>\n",
       "      <td>25792</td>\n",
       "      <td>40065247</td>\n",
       "      <td>1</td>\n",
       "      <td>US&gt;CA&gt;803</td>\n",
       "      <td>1</td>\n",
       "      <td>25792</td>\n",
       "      <td>10517</td>\n",
       "      <td>2011-08-04 10:00:00</td>\n",
       "      <td>240</td>\n",
       "    </tr>\n",
       "    <tr>\n",
       "      <th>4</th>\n",
       "      <td>2e92ea3f3c5941</td>\n",
       "      <td>25792</td>\n",
       "      <td>51216385</td>\n",
       "      <td>1</td>\n",
       "      <td>US&gt;MI&gt;553</td>\n",
       "      <td>2</td>\n",
       "      <td>25792</td>\n",
       "      <td>10517</td>\n",
       "      <td>2011-08-04 10:00:00</td>\n",
       "      <td>240</td>\n",
       "    </tr>\n",
       "  </tbody>\n",
       "</table>\n",
       "</div>"
      ],
      "text/plain": [
       "          uuid_pv  document_id_pv  timestamp_pv  platform_pv geo_location_pv  \\\n",
       "0  e77a43f2b28254           25792      36324077            1       US>NY>501   \n",
       "1  914d976a9cc043           25792      43657733            1       US>FL>534   \n",
       "2  aae35dd5ea3c33           25792       1167439            1           AU>04   \n",
       "3  9057ee11931c5b           25792      40065247            1       US>CA>803   \n",
       "4  2e92ea3f3c5941           25792      51216385            1       US>MI>553   \n",
       "\n",
       "   traffic_source_pv  document_id_doc  source_id         publish_time  \\\n",
       "0                  2            25792      10517  2011-08-04 10:00:00   \n",
       "1                  1            25792      10517  2011-08-04 10:00:00   \n",
       "2                  1            25792      10517  2011-08-04 10:00:00   \n",
       "3                  1            25792      10517  2011-08-04 10:00:00   \n",
       "4                  2            25792      10517  2011-08-04 10:00:00   \n",
       "\n",
       "   publisher_id  \n",
       "0           240  \n",
       "1           240  \n",
       "2           240  \n",
       "3           240  \n",
       "4           240  "
      ]
     },
     "execution_count": 56,
     "metadata": {},
     "output_type": "execute_result"
    }
   ],
   "source": [
    "page_views_train_df.head()"
   ]
  },
  {
   "cell_type": "code",
   "execution_count": 99,
   "metadata": {},
   "outputs": [],
   "source": [
    "users_profile= cudf.DataFrame()\n",
    "users_profile['uuid'] = page_views_train_df.loc[:, 'uuid_pv']\n",
    "users_profile['doc_ids'] = page_views_train_df.loc[:, 'document_id_pv']"
   ]
  },
  {
   "cell_type": "code",
   "execution_count": 100,
   "metadata": {},
   "outputs": [
    {
     "data": {
      "text/html": [
       "<div>\n",
       "<style scoped>\n",
       "    .dataframe tbody tr th:only-of-type {\n",
       "        vertical-align: middle;\n",
       "    }\n",
       "\n",
       "    .dataframe tbody tr th {\n",
       "        vertical-align: top;\n",
       "    }\n",
       "\n",
       "    .dataframe thead th {\n",
       "        text-align: right;\n",
       "    }\n",
       "</style>\n",
       "<table border=\"1\" class=\"dataframe\">\n",
       "  <thead>\n",
       "    <tr style=\"text-align: right;\">\n",
       "      <th></th>\n",
       "      <th>uuid</th>\n",
       "      <th>doc_ids</th>\n",
       "    </tr>\n",
       "  </thead>\n",
       "  <tbody>\n",
       "    <tr>\n",
       "      <th>0</th>\n",
       "      <td>e77a43f2b28254</td>\n",
       "      <td>25792</td>\n",
       "    </tr>\n",
       "    <tr>\n",
       "      <th>1</th>\n",
       "      <td>914d976a9cc043</td>\n",
       "      <td>25792</td>\n",
       "    </tr>\n",
       "    <tr>\n",
       "      <th>2</th>\n",
       "      <td>aae35dd5ea3c33</td>\n",
       "      <td>25792</td>\n",
       "    </tr>\n",
       "    <tr>\n",
       "      <th>3</th>\n",
       "      <td>9057ee11931c5b</td>\n",
       "      <td>25792</td>\n",
       "    </tr>\n",
       "    <tr>\n",
       "      <th>4</th>\n",
       "      <td>2e92ea3f3c5941</td>\n",
       "      <td>25792</td>\n",
       "    </tr>\n",
       "  </tbody>\n",
       "</table>\n",
       "</div>"
      ],
      "text/plain": [
       "             uuid  doc_ids\n",
       "0  e77a43f2b28254    25792\n",
       "1  914d976a9cc043    25792\n",
       "2  aae35dd5ea3c33    25792\n",
       "3  9057ee11931c5b    25792\n",
       "4  2e92ea3f3c5941    25792"
      ]
     },
     "execution_count": 100,
     "metadata": {},
     "output_type": "execute_result"
    }
   ],
   "source": [
    "users_profile.head()"
   ]
  },
  {
   "cell_type": "code",
   "execution_count": 114,
   "metadata": {},
   "outputs": [
    {
     "name": "stdout",
     "output_type": "stream",
     "text": [
      "(35215, 2)\n"
     ]
    }
   ],
   "source": [
    "views = page_views_train_df.groupby(['uuid_pv'], as_index=False)['document_id_pv'].count()\n",
    "views = views.reset_index()\n",
    "#users_profile=users_profile.rename(columns={'uuid_pv':'uuid'})\n",
    "print(views.shape)"
   ]
  },
  {
   "cell_type": "code",
   "execution_count": 115,
   "metadata": {},
   "outputs": [
    {
     "data": {
      "text/html": [
       "<div>\n",
       "<style scoped>\n",
       "    .dataframe tbody tr th:only-of-type {\n",
       "        vertical-align: middle;\n",
       "    }\n",
       "\n",
       "    .dataframe tbody tr th {\n",
       "        vertical-align: top;\n",
       "    }\n",
       "\n",
       "    .dataframe thead th {\n",
       "        text-align: right;\n",
       "    }\n",
       "</style>\n",
       "<table border=\"1\" class=\"dataframe\">\n",
       "  <thead>\n",
       "    <tr style=\"text-align: right;\">\n",
       "      <th></th>\n",
       "      <th>uuid_pv</th>\n",
       "      <th>document_id_pv</th>\n",
       "    </tr>\n",
       "  </thead>\n",
       "  <tbody>\n",
       "    <tr>\n",
       "      <th>0</th>\n",
       "      <td>100614d664a6c3</td>\n",
       "      <td>1</td>\n",
       "    </tr>\n",
       "    <tr>\n",
       "      <th>1</th>\n",
       "      <td>100ce200bea586</td>\n",
       "      <td>1</td>\n",
       "    </tr>\n",
       "    <tr>\n",
       "      <th>2</th>\n",
       "      <td>100d0ddfadd845</td>\n",
       "      <td>1</td>\n",
       "    </tr>\n",
       "    <tr>\n",
       "      <th>3</th>\n",
       "      <td>100fd99bcbcb85</td>\n",
       "      <td>1</td>\n",
       "    </tr>\n",
       "    <tr>\n",
       "      <th>4</th>\n",
       "      <td>100fdd39838d25</td>\n",
       "      <td>1</td>\n",
       "    </tr>\n",
       "  </tbody>\n",
       "</table>\n",
       "</div>"
      ],
      "text/plain": [
       "          uuid_pv  document_id_pv\n",
       "0  100614d664a6c3               1\n",
       "1  100ce200bea586               1\n",
       "2  100d0ddfadd845               1\n",
       "3  100fd99bcbcb85               1\n",
       "4  100fdd39838d25               1"
      ]
     },
     "execution_count": 115,
     "metadata": {},
     "output_type": "execute_result"
    }
   ],
   "source": [
    "#we can keep the views as a seperate df.\n",
    "views.head()"
   ]
  },
  {
   "cell_type": "code",
   "execution_count": 336,
   "metadata": {},
   "outputs": [],
   "source": [
    "# ## Write user profiles to pickle\n",
    "\n",
    "if evaluation:\n",
    "    table_name = 'user_profiles_eval.parquet'\n",
    "else:\n",
    "    table_name = 'user_profiles.parquet'\n",
    "\n",
    "users_profile_df.to_pickle(OUTPUT_BUCKET_FOLDER+table_name)"
   ]
  }
 ],
 "metadata": {
  "kernelspec": {
   "display_name": "Python 3",
   "language": "python",
   "name": "python3"
  },
  "language_info": {
   "codemirror_mode": {
    "name": "ipython",
    "version": 3
   },
   "file_extension": ".py",
   "mimetype": "text/x-python",
   "name": "python",
   "nbconvert_exporter": "python",
   "pygments_lexer": "ipython3",
   "version": "3.7.6"
  }
 },
 "nbformat": 4,
 "nbformat_minor": 4
}
