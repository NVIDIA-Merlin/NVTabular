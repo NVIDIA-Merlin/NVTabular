{
 "cells": [
  {
   "cell_type": "code",
   "execution_count": 1,
   "id": "d813a4ce",
   "metadata": {},
   "outputs": [],
   "source": [
    "# Copyright 2021 NVIDIA Corporation. All Rights Reserved.\n",
    "#\n",
    "# Licensed under the Apache License, Version 2.0 (the \"License\");\n",
    "# you may not use this file except in compliance with the License.\n",
    "# You may obtain a copy of the License at\n",
    "#\n",
    "#     http://www.apache.org/licenses/LICENSE-2.0\n",
    "#\n",
    "# Unless required by applicable law or agreed to in writing, software\n",
    "# distributed under the License is distributed on an \"AS IS\" BASIS,\n",
    "# WITHOUT WARRANTIES OR CONDITIONS OF ANY KIND, either express or implied.\n",
    "# See the License for the specific language governing permissions and\n",
    "# limitations under the License.\n",
    "# ==================================="
   ]
  },
  {
   "cell_type": "markdown",
   "id": "260dbfff",
   "metadata": {},
   "source": [
    "<img src=\"http://developer.download.nvidia.com/compute/machine-learning/frameworks/nvidia_logo.png\" style=\"width: 90px; float: right;\">\n",
    "\n",
    "## Overview\n",
    "\n",
    "In this notebook, we will show how we do inference with our trained deep learning recommender model using Triton Inference Server. In this example, we deploy the NVTabular workflow and HugeCTR model with Triton Inference Server. We deploy them as an ensemble. For each request, Triton Inference Server will feed the input data through the NVTabular workflow and its output through the HugeCR model."
   ]
  },
  {
   "cell_type": "markdown",
   "id": "e0157e1c",
   "metadata": {},
   "source": [
    "## Getting Started"
   ]
  },
  {
   "cell_type": "markdown",
   "id": "71304a10",
   "metadata": {},
   "source": [
    "We need to write configuration files with the stored model weights and model configuration."
   ]
  },
  {
   "cell_type": "code",
   "execution_count": 2,
   "id": "6a9fbb6d",
   "metadata": {
    "tags": [
     "flake8-noqa-cell"
    ]
   },
   "outputs": [
    {
     "name": "stdout",
     "output_type": "stream",
     "text": [
      "Overwriting /model/movielens_hugectr/config.pbtxt\n"
     ]
    }
   ],
   "source": [
    "%%writefile /model/movielens_hugectr/config.pbtxt\n",
    "name: \"movielens_hugectr\"\n",
    "backend: \"hugectr\"\n",
    "max_batch_size: 64\n",
    "input [\n",
    "   {\n",
    "    name: \"DES\"\n",
    "    data_type: TYPE_FP32\n",
    "    dims: [ -1 ]\n",
    "  },\n",
    "  {\n",
    "    name: \"CATCOLUMN\"\n",
    "    data_type: TYPE_INT64\n",
    "    dims: [ -1 ]\n",
    "  },\n",
    "  {\n",
    "    name: \"ROWINDEX\"\n",
    "    data_type: TYPE_INT32\n",
    "    dims: [ -1 ]\n",
    "  }\n",
    "]\n",
    "output [\n",
    "  {\n",
    "    name: \"OUTPUT0\"\n",
    "    data_type: TYPE_FP32\n",
    "    dims: [ -1 ]\n",
    "  }\n",
    "]\n",
    "instance_group [\n",
    "  {\n",
    "    count: 1\n",
    "    kind : KIND_GPU\n",
    "    gpus:[0]\n",
    "  }\n",
    "]\n",
    "\n",
    "parameters [\n",
    "  {\n",
    "  key: \"config\"\n",
    "  value: { string_value: \"/model/movielens_hugectr/1/movielens.json\" }\n",
    "  },\n",
    "  {\n",
    "  key: \"gpucache\"\n",
    "  value: { string_value: \"true\" }\n",
    "  },\n",
    "  {\n",
    "  key: \"hit_rate_threshold\"\n",
    "  value: { string_value: \"0.8\" }\n",
    "  },\n",
    "  {\n",
    "  key: \"gpucacheper\"\n",
    "  value: { string_value: \"0.5\" }\n",
    "  },\n",
    "  {\n",
    "  key: \"label_dim\"\n",
    "  value: { string_value: \"1\" }\n",
    "  },\n",
    "  {\n",
    "  key: \"slots\"\n",
    "  value: { string_value: \"3\" }\n",
    "  },\n",
    "  {\n",
    "  key: \"cat_feature_num\"\n",
    "  value: { string_value: \"4\" }\n",
    "  },\n",
    " {\n",
    "  key: \"des_feature_num\"\n",
    "  value: { string_value: \"0\" }\n",
    "  },\n",
    "  {\n",
    "  key: \"max_nnz\"\n",
    "  value: { string_value: \"2\" }\n",
    "  },\n",
    "  {\n",
    "  key: \"embedding_vector_size\"\n",
    "  value: { string_value: \"16\" }\n",
    "  },\n",
    "  {\n",
    "  key: \"embeddingkey_long_type\"\n",
    "  value: { string_value: \"true\" }\n",
    "  }\n",
    "]"
   ]
  },
  {
   "cell_type": "code",
   "execution_count": 3,
   "id": "0a23cb52",
   "metadata": {
    "tags": [
     "flake8-noqa-cell"
    ]
   },
   "outputs": [
    {
     "name": "stdout",
     "output_type": "stream",
     "text": [
      "Overwriting /model/ps.json\n"
     ]
    }
   ],
   "source": [
    "%%writefile /model/ps.json\n",
    "{\n",
    "    \"supportlonglong\":true,\n",
    "    \"models\":[\n",
    "        {\n",
    "            \"model\":\"movielens_hugectr\",\n",
    "            \"sparse_files\":[\"/model/movielens_hugectr/0_sparse_1900.model\"],\n",
    "            \"dense_file\":\"/model/movielens_hugectr/_dense_1900.model\",\n",
    "            \"network_file\":\"/model/movielens_hugectr/1/movielens.json\",\n",
    "            \"num_of_worker_buffer_in_pool\": \"1\",\n",
    "            \"num_of_refresher_buffer_in_pool\": \"1\",\n",
    "            \"cache_refresh_percentage_per_iteration\": \"0.2\",\n",
    "            \"deployed_device_list\":[\"0\"],\n",
    "            \"max_batch_size\":\"64\",\n",
    "            \"default_value_for_each_table\":[\"0.0\",\"0.0\"],\n",
    "            \"hit_rate_threshold\":\"0.9\",\n",
    "            \"gpucacheper\":\"0.5\",\n",
    "            \"gpucache\":\"true\"\n",
    "        }\n",
    "    ]  \n",
    "}"
   ]
  },
  {
   "cell_type": "markdown",
   "id": "5eb3627f",
   "metadata": {},
   "source": [
    "Let's import required libraries."
   ]
  },
  {
   "cell_type": "code",
   "execution_count": 4,
   "id": "f5b54092",
   "metadata": {},
   "outputs": [],
   "source": [
    "import tritonclient.grpc as httpclient\n",
    "import cudf\n",
    "import numpy as np"
   ]
  },
  {
   "cell_type": "markdown",
   "id": "4e4592a9",
   "metadata": {},
   "source": [
    "### Load Models on Triton Server"
   ]
  },
  {
   "cell_type": "markdown",
   "id": "150b4754",
   "metadata": {},
   "source": [
    "At this stage, you should launch the Triton Inference Server docker container with the following script:"
   ]
  },
  {
   "cell_type": "markdown",
   "id": "0a350fce",
   "metadata": {},
   "source": [
    "```\n",
    "docker run -it --gpus=all -p 8000:8000 -p 8001:8001 -p 8002:8002 -v ${PWD}:/model nvcr.io/nvidia/merlin/merlin-inference:21.11\n",
    "```"
   ]
  },
  {
   "cell_type": "markdown",
   "id": "c6f50e9e",
   "metadata": {},
   "source": [
    "After you started the container you can start triton server with the command below:"
   ]
  },
  {
   "cell_type": "markdown",
   "id": "bc8aa849",
   "metadata": {},
   "source": [
    "```\n",
    "tritonserver --model-repository=<path_to_models> --backend-config=hugectr,ps=<path_to_models>/ps.json --model-control-mode=explicit\n",
    "```"
   ]
  },
  {
   "cell_type": "markdown",
   "id": "9b7de550",
   "metadata": {},
   "source": [
    "Note: The model-repository path is `/model/`. The models haven't been loaded, yet. We can request triton server to load the saved ensemble.  We initialize a triton client. The path for the json file is `/model/movielens_hugectr/1/movielens.json`."
   ]
  },
  {
   "cell_type": "code",
   "execution_count": 5,
   "id": "a9d1c74a",
   "metadata": {},
   "outputs": [],
   "source": [
    "# disable warnings\n",
    "import warnings\n",
    "\n",
    "warnings.filterwarnings(\"ignore\")"
   ]
  },
  {
   "cell_type": "code",
   "execution_count": 6,
   "id": "f86290af",
   "metadata": {},
   "outputs": [
    {
     "name": "stdout",
     "output_type": "stream",
     "text": [
      "client created.\n"
     ]
    },
    {
     "name": "stderr",
     "output_type": "stream",
     "text": [
      "/usr/local/lib/python3.8/dist-packages/tritonhttpclient/__init__.py:31: DeprecationWarning: The package `tritonhttpclient` is deprecated and will be removed in a future version. Please use instead `tritonclient.http`\n",
      "  warnings.warn(\n"
     ]
    }
   ],
   "source": [
    "import tritonhttpclient\n",
    "\n",
    "try:\n",
    "    triton_client = tritonhttpclient.InferenceServerClient(url=\"localhost:8000\", verbose=True)\n",
    "    print(\"client created.\")\n",
    "except Exception as e:\n",
    "    print(\"channel creation failed: \" + str(e))"
   ]
  },
  {
   "cell_type": "code",
   "execution_count": 7,
   "id": "a2a2bed5",
   "metadata": {},
   "outputs": [
    {
     "name": "stdout",
     "output_type": "stream",
     "text": [
      "GET /v2/health/live, headers None\n",
      "<HTTPSocketPoolResponse status=200 headers={'content-length': '0', 'content-type': 'text/plain'}>\n"
     ]
    },
    {
     "data": {
      "text/plain": [
       "True"
      ]
     },
     "execution_count": 7,
     "metadata": {},
     "output_type": "execute_result"
    }
   ],
   "source": [
    "triton_client.is_server_live()"
   ]
  },
  {
   "cell_type": "code",
   "execution_count": 8,
   "id": "dac3dd79",
   "metadata": {},
   "outputs": [
    {
     "name": "stdout",
     "output_type": "stream",
     "text": [
      "POST /v2/repository/index, headers None\n",
      "\n",
      "<HTTPSocketPoolResponse status=200 headers={'content-type': 'application/json', 'content-length': '46'}>\n",
      "bytearray(b'[{\"name\":\"data\"},{\"name\":\"movielens_hugectr\"}]')\n"
     ]
    },
    {
     "data": {
      "text/plain": [
       "[{'name': 'data'}, {'name': 'movielens_hugectr'}]"
      ]
     },
     "execution_count": 8,
     "metadata": {},
     "output_type": "execute_result"
    }
   ],
   "source": [
    "triton_client.get_model_repository_index()"
   ]
  },
  {
   "cell_type": "markdown",
   "id": "23b2df62",
   "metadata": {},
   "source": [
    "Let's load our model to Triton Server."
   ]
  },
  {
   "cell_type": "code",
   "execution_count": 9,
   "id": "2a1ec18b",
   "metadata": {},
   "outputs": [
    {
     "name": "stdout",
     "output_type": "stream",
     "text": [
      "POST /v2/repository/models/movielens_hugectr/load, headers None\n",
      "\n",
      "<HTTPSocketPoolResponse status=200 headers={'content-type': 'application/json', 'content-length': '0'}>\n",
      "Loaded model 'movielens_hugectr'\n",
      "CPU times: user 2.6 ms, sys: 2.57 ms, total: 5.17 ms\n",
      "Wall time: 3.62 s\n"
     ]
    }
   ],
   "source": [
    "%%time\n",
    "\n",
    "triton_client.load_model(model_name=\"movielens_hugectr\")"
   ]
  },
  {
   "cell_type": "markdown",
   "id": "eec2d617",
   "metadata": {},
   "source": [
    "Let's send a request to Inference Server and print out the response. Since in our example above we do not have continuous columns, below our only inputs are categorical columns."
   ]
  },
  {
   "cell_type": "code",
   "execution_count": 10,
   "id": "e5aea0b9",
   "metadata": {},
   "outputs": [],
   "source": [
    "import pandas as pd\n",
    "df = pd.read_parquet(\"/model/data/valid/part_0.parquet\")"
   ]
  },
  {
   "cell_type": "code",
   "execution_count": 11,
   "id": "5f696c53",
   "metadata": {},
   "outputs": [
    {
     "data": {
      "text/html": [
       "<div>\n",
       "<style scoped>\n",
       "    .dataframe tbody tr th:only-of-type {\n",
       "        vertical-align: middle;\n",
       "    }\n",
       "\n",
       "    .dataframe tbody tr th {\n",
       "        vertical-align: top;\n",
       "    }\n",
       "\n",
       "    .dataframe thead th {\n",
       "        text-align: right;\n",
       "    }\n",
       "</style>\n",
       "<table border=\"1\" class=\"dataframe\">\n",
       "  <thead>\n",
       "    <tr style=\"text-align: right;\">\n",
       "      <th></th>\n",
       "      <th>userId</th>\n",
       "      <th>movieId</th>\n",
       "      <th>genres</th>\n",
       "      <th>rating</th>\n",
       "    </tr>\n",
       "  </thead>\n",
       "  <tbody>\n",
       "    <tr>\n",
       "      <th>0</th>\n",
       "      <td>32187</td>\n",
       "      <td>520</td>\n",
       "      <td>[2, 6]</td>\n",
       "      <td>1.0</td>\n",
       "    </tr>\n",
       "    <tr>\n",
       "      <th>1</th>\n",
       "      <td>67974</td>\n",
       "      <td>8</td>\n",
       "      <td>[1, 14]</td>\n",
       "      <td>0.0</td>\n",
       "    </tr>\n",
       "    <tr>\n",
       "      <th>2</th>\n",
       "      <td>41311</td>\n",
       "      <td>1026</td>\n",
       "      <td>[1, 7]</td>\n",
       "      <td>0.0</td>\n",
       "    </tr>\n",
       "    <tr>\n",
       "      <th>3</th>\n",
       "      <td>5951</td>\n",
       "      <td>336</td>\n",
       "      <td>[2, 4]</td>\n",
       "      <td>1.0</td>\n",
       "    </tr>\n",
       "    <tr>\n",
       "      <th>4</th>\n",
       "      <td>16913</td>\n",
       "      <td>335</td>\n",
       "      <td>[3, 8, 11, 4]</td>\n",
       "      <td>1.0</td>\n",
       "    </tr>\n",
       "  </tbody>\n",
       "</table>\n",
       "</div>"
      ],
      "text/plain": [
       "   userId  movieId         genres  rating\n",
       "0   32187      520         [2, 6]     1.0\n",
       "1   67974        8        [1, 14]     0.0\n",
       "2   41311     1026         [1, 7]     0.0\n",
       "3    5951      336         [2, 4]     1.0\n",
       "4   16913      335  [3, 8, 11, 4]     1.0"
      ]
     },
     "execution_count": 11,
     "metadata": {},
     "output_type": "execute_result"
    }
   ],
   "source": [
    "df.head()"
   ]
  },
  {
   "cell_type": "code",
   "execution_count": 12,
   "id": "8d78ad75",
   "metadata": {},
   "outputs": [
    {
     "name": "stdout",
     "output_type": "stream",
     "text": [
      "Overwriting ./wdl2predict.py\n"
     ]
    }
   ],
   "source": [
    "%%writefile ./wdl2predict.py\n",
    "from tritonclient.utils import *\n",
    "import tritonclient.http as httpclient\n",
    "import numpy as np\n",
    "import pandas as pd\n",
    "import sys\n",
    "\n",
    "model_name = 'movielens_hugectr'\n",
    "CATEGORICAL_COLUMNS = [\"userId\", \"movieId\", \"genres\"]\n",
    "CONTINUOUS_COLUMNS = []\n",
    "LABEL_COLUMNS = ['label']\n",
    "emb_size_array = [162542, 29434, 20]\n",
    "shift = np.insert(np.cumsum(emb_size_array), 0, 0)[:-1]\n",
    "df = pd.read_parquet(\"/model/data/valid/part_0.parquet\")\n",
    "test_df = df.head(10)\n",
    "\n",
    "rp_lst = [0]\n",
    "cur = 0\n",
    "for i in range(1, 31):\n",
    "    if i % 3 == 0:\n",
    "        cur += 2\n",
    "        rp_lst.append(cur)\n",
    "    else:\n",
    "        cur += 1\n",
    "        rp_lst.append(cur)\n",
    "\n",
    "with httpclient.InferenceServerClient(\"localhost:8000\") as client:\n",
    "    test_df.iloc[:, :2] = test_df.iloc[:, :2] + shift[:2]\n",
    "    test_df.iloc[:, 2] = test_df.iloc[:, 2].apply(lambda x: [e + shift[2] for e in x])\n",
    "    embedding_columns = np.array([list(np.hstack(np.hstack(test_df[CATEGORICAL_COLUMNS].values)))], dtype='int64')\n",
    "    dense_features = np.array([[]], dtype='float32')\n",
    "    row_ptrs = np.array([rp_lst], dtype='int32')\n",
    "\n",
    "    inputs = [httpclient.InferInput(\"DES\", dense_features.shape, np_to_triton_dtype(dense_features.dtype)),\n",
    "              httpclient.InferInput(\"CATCOLUMN\", embedding_columns.shape, np_to_triton_dtype(embedding_columns.dtype)),\n",
    "              httpclient.InferInput(\"ROWINDEX\", row_ptrs.shape, np_to_triton_dtype(row_ptrs.dtype))]\n",
    "\n",
    "    inputs[0].set_data_from_numpy(dense_features)\n",
    "    inputs[1].set_data_from_numpy(embedding_columns)\n",
    "    inputs[2].set_data_from_numpy(row_ptrs)\n",
    "    outputs = [httpclient.InferRequestedOutput(\"OUTPUT0\")]\n",
    "\n",
    "    response = client.infer(model_name, inputs, request_id=str(1), outputs=outputs)\n",
    "\n",
    "    result = response.get_response()\n",
    "    print(result)\n",
    "    print(\"Prediction Result:\")\n",
    "    print(response.as_numpy(\"OUTPUT0\"))"
   ]
  },
  {
   "cell_type": "code",
   "execution_count": 13,
   "id": "339340c6",
   "metadata": {},
   "outputs": [
    {
     "name": "stdout",
     "output_type": "stream",
     "text": [
      "/usr/local/lib/python3.8/dist-packages/pandas/core/indexing.py:1851: SettingWithCopyWarning: \n",
      "A value is trying to be set on a copy of a slice from a DataFrame.\n",
      "Try using .loc[row_indexer,col_indexer] = value instead\n",
      "\n",
      "See the caveats in the documentation: https://pandas.pydata.org/pandas-docs/stable/user_guide/indexing.html#returning-a-view-versus-a-copy\n",
      "  self._setitem_single_column(loc, val, pi)\n",
      "/usr/local/lib/python3.8/dist-packages/pandas/core/indexing.py:1773: SettingWithCopyWarning: \n",
      "A value is trying to be set on a copy of a slice from a DataFrame.\n",
      "Try using .loc[row_indexer,col_indexer] = value instead\n",
      "\n",
      "See the caveats in the documentation: https://pandas.pydata.org/pandas-docs/stable/user_guide/indexing.html#returning-a-view-versus-a-copy\n",
      "  self._setitem_single_column(ilocs[0], value, pi)\n",
      "Traceback (most recent call last):\n",
      "  File \"./wdl2predict.py\", line 50, in <module>\n",
      "    response = client.infer(model_name,\n",
      "  File \"/usr/local/lib/python3.8/dist-packages/tritonclient/http/__init__.py\", line 1256, in infer\n",
      "    _raise_if_error(response)\n",
      "  File \"/usr/local/lib/python3.8/dist-packages/tritonclient/http/__init__.py\", line 64, in _raise_if_error\n",
      "    raise error\n",
      "tritonclient.utils.InferenceServerException: The CATCOLUMN input sample size in request is not match with configuration. The input sample size to be an integer multiple of the configuration.\n"
     ]
    }
   ],
   "source": [
    "!python3 ./wdl2predict.py"
   ]
  }
 ],
 "metadata": {
  "celltoolbar": "Tags",
  "kernelspec": {
   "display_name": "Python 3 (ipykernel)",
   "language": "python",
   "name": "python3"
  },
  "language_info": {
   "codemirror_mode": {
    "name": "ipython",
    "version": 3
   },
   "file_extension": ".py",
   "mimetype": "text/x-python",
   "name": "python",
   "nbconvert_exporter": "python",
   "pygments_lexer": "ipython3",
   "version": "3.8.10"
  }
 },
 "nbformat": 4,
 "nbformat_minor": 5
}
