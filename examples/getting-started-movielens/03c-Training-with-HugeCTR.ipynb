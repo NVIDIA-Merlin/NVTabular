{
 "cells": [
  {
   "cell_type": "code",
   "execution_count": 1,
   "id": "inclusive-demonstration",
   "metadata": {},
   "outputs": [],
   "source": [
    "# Copyright 2021 NVIDIA Corporation. All Rights Reserved.\n",
    "#\n",
    "# Licensed under the Apache License, Version 2.0 (the \"License\");\n",
    "# you may not use this file except in compliance with the License.\n",
    "# You may obtain a copy of the License at\n",
    "#\n",
    "#     http://www.apache.org/licenses/LICENSE-2.0\n",
    "#\n",
    "# Unless required by applicable law or agreed to in writing, software\n",
    "# distributed under the License is distributed on an \"AS IS\" BASIS,\n",
    "# WITHOUT WARRANTIES OR CONDITIONS OF ANY KIND, either express or implied.\n",
    "# See the License for the specific language governing permissions and\n",
    "# limitations under the License.\n",
    "# =============================================================================="
   ]
  },
  {
   "cell_type": "markdown",
   "id": "exposed-optimization",
   "metadata": {},
   "source": [
    "<img src=\"http://developer.download.nvidia.com/compute/machine-learning/frameworks/nvidia_logo.png\" style=\"width: 90px; float: right;\">\n",
    "\n",
    "## Overview\n",
    "\n",
    "In this notebook, we want to provide an overview what HugeCTR framework is, its features and benefits. We will use HugeCTR to train a basic neural network architecture and deploy the saved model to Triton Inference Server. \n",
    "\n",
    "<b>Learning Objectives</b>:\n",
    "* Adopt NVTabular workflow to provide input files to HugeCTR\n",
    "* Define HugeCTR neural network architecture\n",
    "* Train a deep learning model with HugeCTR\n",
    "* Deploy HugeCTR to Triton Inference Server"
   ]
  },
  {
   "cell_type": "markdown",
   "id": "looking-jaguar",
   "metadata": {},
   "source": [
    "### Why using HugeCTR?\n",
    "\n",
    "HugeCTR is a GPU-accelerated recommender framework designed to distribute training across multiple GPUs and nodes and estimate Click-Through Rates (CTRs).<br>\n",
    "\n",
    "HugeCTR offers multiple advantages to train deep learning recommender systems:\n",
    "1. **Speed**: HugeCTR is a highly efficient framework written C++. We experienced up to 10x speed up. HugeCTR on a NVIDIA DGX A100 system proved to be the fastest commercially available solution for training the architecture Deep Learning Recommender Model (DLRM) developed by Facebook.\n",
    "2. **Scale**: HugeCTR supports model parallel scaling. It distributes the large embedding tables over multiple GPUs or multiple nodes. \n",
    "3. **Easy-to-use**: Easy-to-use Python API similar to Keras. Examples for popular deep learning recommender systems architectures (Wide&Deep, DLRM, DCN, DeepFM) are available."
   ]
  },
  {
   "cell_type": "markdown",
   "id": "extra-agreement",
   "metadata": {},
   "source": [
    "### Other Features of HugeCTR\n",
    "\n",
    "HugeCTR is designed to scale deep learning models for recommender systems. It provides a list of other important features:\n",
    "* Proficiency in oversubscribing models to train embedding tables with single nodes that don’t fit within the GPU or CPU memory (only required embeddings are prefetched from a parameter server per batch)\n",
    "* Asynchronous and multithreaded data pipelines\n",
    "* A highly optimized data loader.\n",
    "* Supported data formats such as parquet and binary\n",
    "* Integration with Triton Inference Server for deployment to production\n"
   ]
  },
  {
   "cell_type": "markdown",
   "id": "iraqi-better",
   "metadata": {},
   "source": [
    "### Getting Started"
   ]
  },
  {
   "cell_type": "markdown",
   "id": "7ffbd5f9-049f-4b64-adc7-b69d09ce6eb4",
   "metadata": {},
   "source": [
    "As HugeCTR optimizes the training in CUDA++, we need to define the training pipeline and model architecture and execute it via the commandline. We will use the Python API, which is similar to Keras models.\n",
    "\n",
    "If you are not familiar with HugeCTR's Python API and parameters, you can read more in its GitHub repository:\n",
    "\n",
    "- HugeCTR User Guide\n",
    "- HugeCTR Python API\n",
    "- HugeCTR Configuration File\n",
    "- HugeCTR example architectures"
   ]
  },
  {
   "cell_type": "markdown",
   "id": "attended-accommodation",
   "metadata": {},
   "source": [
    "In this example, we will train a neural network with HugeCTR. We will use NVTabular for preprocessing."
   ]
  },
  {
   "cell_type": "markdown",
   "id": "representative-coupon",
   "metadata": {},
   "source": [
    "#### Preprocessing and Feature Engineering with NVTabular\n",
    "\n",
    "We use NVTabular to `Categorify` our categorical input columns."
   ]
  },
  {
   "cell_type": "code",
   "execution_count": 2,
   "id": "embedded-cache",
   "metadata": {},
   "outputs": [],
   "source": [
    "# External dependencies\n",
    "import os\n",
    "import time\n",
    "import gc\n",
    "\n",
    "import nvtabular as nvt\n",
    "import cudf \n",
    "import numpy as np\n",
    "\n",
    "from os import path\n",
    "from sklearn.model_selection import train_test_split"
   ]
  },
  {
   "cell_type": "markdown",
   "id": "infinite-handling",
   "metadata": {},
   "source": [
    "We define our base directory, containing the data."
   ]
  },
  {
   "cell_type": "code",
   "execution_count": 3,
   "id": "desirable-china",
   "metadata": {},
   "outputs": [],
   "source": [
    "# path to store raw and preprocessed data\n",
    "\n",
    "INPUT_DATA_DIR = os.environ.get('INPUT_DATA_DIR', os.path.expanduser(\"~/nvt-examples/movielens/data/\"))\n",
    "MODEL_BASE_DIR = os.environ.get('MODEL_BASE_DIR', '/model/')"
   ]
  },
  {
   "cell_type": "markdown",
   "id": "moving-ecology",
   "metadata": {},
   "source": [
    "## Scaling Accelerated training with HugeCTR"
   ]
  },
  {
   "cell_type": "markdown",
   "id": "african-filling",
   "metadata": {},
   "source": [
    "HugeCTR is a deep learning framework dedicated to recommendation systems. It is written in CUDA C++. As HugeCTR optimizes the training in CUDA++, we need to define the training pipeline and model architecture and execute it via the commandline. We will use the Python API, which is similar to Keras models."
   ]
  },
  {
   "cell_type": "markdown",
   "id": "improved-volunteer",
   "metadata": {},
   "source": [
    "HugeCTR has three main components:\n",
    "* Solver: Specifies various details such as active GPU list, batchsize, and model_file\n",
    "* Optimizer: Specifies the type of optimizer and its hyperparameters\n",
    "* Model: Specifies training/evaluation data (and their paths), embeddings, and dense layers. Note that embeddings must precede the dense layers"
   ]
  },
  {
   "cell_type": "markdown",
   "id": "several-bearing",
   "metadata": {},
   "source": [
    "**Solver**\n",
    "\n",
    "Let's take a look on the parameter for the `Solver`. We should be familiar from other frameworks for the hyperparameter.\n",
    "\n",
    "```\n",
    "solver = hugectr.solver_parser_helper(\n",
    "- vvgpu: GPU indices used in the training process, which has two levels. For example: [[0,1],[1,2]] indicates that two nodes are used in the first node. GPUs 0 and 1 are used while GPUs 1 and 2 are used for the second node. It is also possible to specify non-continuous GPU indices such as [0, 2, 4, 7]  \n",
    "- max_iter: Total number of training iterations\n",
    "- batchsize: Minibatch size used in training\n",
    "- display: Intervals to print loss on the screen\n",
    "- eval_interval: Evaluation interval in the unit of training iteration\n",
    "- max_eval_batches: Maximum number of batches used in evaluation. It is recommended that the number is equal to or bigger than the actual number of bathces in the evaluation dataset.\n",
    "If max_iter is used, the evaluation happens for max_eval_batches by repeating the evaluation dataset infinitely.\n",
    "On the other hand, with num_epochs, HugeCTR stops the evaluation if all the evaluation data is consumed    \n",
    "- batchsize_eval: Maximum number of batches used in evaluation. It is recommended that the number is equal to or\n",
    "  bigger than the actual number of bathces in the evaluation dataset\n",
    "- mixed_precision: Enables mixed precision training with the scaler specified here. Only 128,256, 512, and 1024 scalers are supported\n",
    ")\n",
    "```"
   ]
  },
  {
   "cell_type": "markdown",
   "id": "weird-heater",
   "metadata": {},
   "source": [
    "**Optimizer**\n",
    "\n",
    "The optimizer is the algorithm to update the model parameters. HugeCTR supports the common algorithms.\n",
    "\n",
    "\n",
    "```\n",
    "optimizer = CreateOptimizer(\n",
    "- optimizer_type: Optimizer algorithm - Adam, MomentumSGD, Nesterov, and SGD \n",
    "- learning_rate: Learning Rate for optimizer\n",
    ")\n",
    "```"
   ]
  },
  {
   "cell_type": "markdown",
   "id": "social-macro",
   "metadata": {},
   "source": [
    "**Model**\n",
    "\n",
    "We initialize the model with the solver and optimizer:\n",
    "\n",
    "```\n",
    "model = hugectr.Model(solver, optimizer)\n",
    "```\n",
    "\n",
    "We can add multiple layers to the model with `model.add` function. We will focus on:\n",
    "- `Input` defines the input data\n",
    "- `SparseEmbedding` defines the embedding layer\n",
    "- `DenseLayer` defines dense layers, such as fully connected, ReLU, BatchNorm, etc.\n",
    "\n",
    "**HugeCTR organizes the layers by names. For each layer, we define the input and output names.**"
   ]
  },
  {
   "cell_type": "markdown",
   "id": "waiting-depression",
   "metadata": {},
   "source": [
    "Input layer:\n",
    "\n",
    "This layer is required to define the input data.\n",
    "\n",
    "```\n",
    "hugectr.Input(\n",
    "    data_reader_type: Data format to read\n",
    "    source: The training dataset file list.\n",
    "    eval_source: The evaluation dataset file list.\n",
    "    check_type: The data error detection machanism (Sum: Checksum, None: no detection).\n",
    "    label_dim: Number of label columns\n",
    "    label_name: Name of label columns in network architecture\n",
    "    dense_dim: Number of continous columns\n",
    "    dense_name: Name of contiunous columns in network architecture\n",
    "    slot_size_array: The list of categorical feature cardinalities\n",
    "    data_reader_sparse_param_array: Configuration how to read sparse data\n",
    "    sparse_names: Name of sparse/categorical columns in network architecture\n",
    ")\n",
    "```\n",
    "\n",
    "SparseEmbedding:\n",
    "\n",
    "This layer defines embedding table\n",
    "\n",
    "```\n",
    "hugectr.SparseEmbedding(\n",
    "    embedding_type: Different embedding options to distribute embedding tables \n",
    "    max_vocabulary_size_per_gpu: Maximum vocabulary size or cardinality across all the input features\n",
    "    embedding_vec_size: Embedding vector size\n",
    "    combiner: Intra-slot reduction op (0=sum, 1=average)\n",
    "    sparse_embedding_name: Layer name\n",
    "    bottom_name: Input layer names\n",
    ")\n",
    "```\n",
    "\n",
    "DenseLayer:\n",
    "\n",
    "This layer is copied to each GPU and is normally used for the MLP tower.\n",
    "\n",
    "```\n",
    "hugectr.DenseLayer(\n",
    "    layer_type: Layer type, such as FullyConnected, Reshape, Concat, Loss, BatchNorm, etc.\n",
    "    bottom_names: Input layer names\n",
    "    top_names: Layer name\n",
    "    ...: Depending on the layer type additional parameter can be defined\n",
    ")\n",
    "```"
   ]
  },
  {
   "cell_type": "markdown",
   "id": "overhead-tomato",
   "metadata": {},
   "source": [
    "## Let's define our model\n",
    "\n",
    "We walked through the documentation, but it is useful to understand the API. Finally, we can define our model. We will write the model to `./model.py` and execute it afterwards."
   ]
  },
  {
   "cell_type": "markdown",
   "id": "exclusive-criticism",
   "metadata": {},
   "source": [
    "We need the cardinalities of each categorical feature to assign as `slot_size_array` in the model below."
   ]
  },
  {
   "cell_type": "code",
   "execution_count": 20,
   "id": "absent-navigation",
   "metadata": {},
   "outputs": [
    {
     "name": "stdout",
     "output_type": "stream",
     "text": [
      "{'movieId': (56586, 512), 'userId': (162542, 512)}\n"
     ]
    }
   ],
   "source": [
    "from nvtabular.ops import get_embedding_sizes\n",
    "\n",
    "embeddings = get_embedding_sizes(workflow)\n",
    "print(embeddings)"
   ]
  },
  {
   "cell_type": "markdown",
   "id": "earned-wrong",
   "metadata": {},
   "source": [
    "In addition, we need the total cardinalities to be assigned as `max_vocabulary_size_per_gpu` parameter."
   ]
  },
  {
   "cell_type": "code",
   "execution_count": 21,
   "id": "weekly-federation",
   "metadata": {},
   "outputs": [
    {
     "data": {
      "text/plain": [
       "219128"
      ]
     },
     "execution_count": 21,
     "metadata": {},
     "output_type": "execute_result"
    }
   ],
   "source": [
    "total_cardinality = embeddings['movieId'][0] + embeddings['userId'][0] \n",
    "total_cardinality"
   ]
  },
  {
   "cell_type": "markdown",
   "id": "02678675-c1c8-4d4b-a3e4-4700e1dd223f",
   "metadata": {},
   "source": [
    "We will write the code to a ./model.py file and execute it. It will create snapshot, which we will use for inference in the next notebook."
   ]
  },
  {
   "cell_type": "code",
   "execution_count": 22,
   "id": "abroad-oklahoma",
   "metadata": {},
   "outputs": [
    {
     "name": "stdout",
     "output_type": "stream",
     "text": [
      "Writing ./model.py\n"
     ]
    }
   ],
   "source": [
    "%%writefile './model.py'\n",
    "\n",
    "import hugectr\n",
    "from mpi4py import MPI\n",
    "\n",
    "solver = hugectr.solver_parser_helper(vvgpu = [[0]],\n",
    "                                      max_iter = 2000,\n",
    "                                      batchsize = 2048,\n",
    "                                      display = 100,\n",
    "                                      eval_interval = 200,\n",
    "                                      batchsize_eval = 2048,\n",
    "                                      max_eval_batches = 160,\n",
    "                                      i64_input_key = True,\n",
    "                                      use_mixed_precision = False,\n",
    "                                      repeat_dataset = True,\n",
    "                                      snapshot = 1900\n",
    "                                      )\n",
    "optimizer = hugectr.optimizer.CreateOptimizer(\n",
    "    optimizer_type = hugectr.Optimizer_t.Adam,\n",
    "    use_mixed_precision = False\n",
    ")\n",
    "model = hugectr.Model(solver, optimizer)\n",
    "\n",
    "model.add(\n",
    "    hugectr.Input(\n",
    "        data_reader_type = hugectr.DataReaderType_t.Parquet,\n",
    "        source = \"/model/data/train/_file_list.txt\",\n",
    "        eval_source = \"/model/data/valid/_file_list.txt\",\n",
    "        check_type = hugectr.Check_t.Non,\n",
    "        label_dim = 1, \n",
    "        label_name = \"label\",\n",
    "        dense_dim = 0, \n",
    "        dense_name = \"dense\",\n",
    "        slot_size_array = [56586, 162542],\n",
    "        data_reader_sparse_param_array = [\n",
    "            hugectr.DataReaderSparseParam(hugectr.DataReaderSparse_t.Distributed, 3, 1, 2)\n",
    "        ],\n",
    "        sparse_names = [\"data1\"]\n",
    "    )\n",
    ")\n",
    "model.add(\n",
    "    hugectr.SparseEmbedding(\n",
    "        embedding_type = hugectr.Embedding_t.DistributedSlotSparseEmbeddingHash, \n",
    "        max_vocabulary_size_per_gpu = 219128,\n",
    "        embedding_vec_size = 16,\n",
    "        combiner = 0,\n",
    "        sparse_embedding_name = \"sparse_embedding1\",\n",
    "        bottom_name = \"data1\"\n",
    "    )\n",
    ")\n",
    "model.add(\n",
    "    hugectr.DenseLayer(\n",
    "        layer_type = hugectr.Layer_t.Reshape,\n",
    "        bottom_names = [\"sparse_embedding1\"],\n",
    "        top_names = [\"reshape1\"],\n",
    "        leading_dim=32\n",
    "    )\n",
    ")\n",
    "model.add(\n",
    "    hugectr.DenseLayer(\n",
    "        layer_type = hugectr.Layer_t.InnerProduct,\n",
    "        bottom_names = [\"reshape1\"], \n",
    "        top_names = [\"fc1\"],\n",
    "        num_output=128\n",
    "    )\n",
    ")\n",
    "model.add(\n",
    "    hugectr.DenseLayer(\n",
    "        layer_type = hugectr.Layer_t.ReLU,\n",
    "        bottom_names = [\"fc1\"], \n",
    "        top_names = [\"relu1\"],\n",
    "    )\n",
    ")\n",
    "model.add(\n",
    "    hugectr.DenseLayer(\n",
    "        layer_type = hugectr.Layer_t.InnerProduct,\n",
    "        bottom_names = [\"relu1\"], \n",
    "        top_names = [\"fc2\"],\n",
    "        num_output=128\n",
    "    )\n",
    ")\n",
    "model.add(\n",
    "    hugectr.DenseLayer(\n",
    "        layer_type = hugectr.Layer_t.ReLU,\n",
    "        bottom_names = [\"fc2\"], \n",
    "        top_names = [\"relu2\"],\n",
    "    )\n",
    ")\n",
    "model.add(\n",
    "    hugectr.DenseLayer(\n",
    "        layer_type = hugectr.Layer_t.InnerProduct,\n",
    "        bottom_names = [\"relu2\"], \n",
    "        top_names = [\"fc3\"],\n",
    "        num_output=1\n",
    "    )\n",
    ")\n",
    "model.add(\n",
    "    hugectr.DenseLayer(\n",
    "        layer_type = hugectr.Layer_t.BinaryCrossEntropyLoss,\n",
    "        bottom_names = [\"fc3\", \"label\"],\n",
    "        top_names = [\"loss\"])\n",
    ")\n",
    "model.compile()\n",
    "model.summary()\n",
    "model.fit()"
   ]
  },
  {
   "cell_type": "code",
   "execution_count": 23,
   "id": "centered-sauce",
   "metadata": {},
   "outputs": [
    {
     "name": "stdout",
     "output_type": "stream",
     "text": [
      "===================================Model Init====================================\n",
      "[11d22h07m20s][HUGECTR][INFO]: Global seed is 1182778607\n",
      "[11d22h07m22s][HUGECTR][INFO]: Peer-to-peer access cannot be fully enabled.\n",
      "Device 0: Tesla V100-DGXS-16GB\n",
      "[11d22h07m22s][HUGECTR][INFO]: num of DataReader workers: 1\n",
      "[11d22h07m22s][HUGECTR][INFO]: num_internal_buffers 1\n",
      "[11d22h07m22s][HUGECTR][INFO]: num_internal_buffers 1\n",
      "[11d22h07m22s][HUGECTR][INFO]: Vocabulary size: 219128\n",
      "[11d22h07m22s][HUGECTR][INFO]: max_vocabulary_size_per_gpu_=219128\n",
      "[11d22h07m23s][HUGECTR][INFO]: gpu0 start to init embedding\n",
      "[11d22h07m23s][HUGECTR][INFO]: gpu0 init embedding done\n",
      "==================================Model Summary==================================\n",
      "Label Name                    Dense Name                    Sparse Name                   \n",
      "label                         dense                         data1                         \n",
      "--------------------------------------------------------------------------------\n",
      "Layer Type                    Input Name                    Output Name                   \n",
      "--------------------------------------------------------------------------------\n",
      "DistributedHash               data1                         sparse_embedding1             \n",
      "Reshape                       sparse_embedding1             reshape1                      \n",
      "InnerProduct                  reshape1                      fc1                           \n",
      "ReLU                          fc1                           relu1                         \n",
      "InnerProduct                  relu1                         fc2                           \n",
      "ReLU                          fc2                           relu2                         \n",
      "InnerProduct                  relu2                         fc3                           \n",
      "BinaryCrossEntropyLoss        fc3, label                    loss                          \n",
      "--------------------------------------------------------------------------------\n",
      "=====================================Model Fit====================================\n",
      "[11d22h70m23s][HUGECTR][INFO]: Use non-epoch mode with number of iterations: 2000\n",
      "[11d22h70m23s][HUGECTR][INFO]: Training batchsize: 2048, evaluation batchsize: 2048\n",
      "[11d22h70m23s][HUGECTR][INFO]: Evaluation interval: 200, snapshot interval: 1900\n",
      "[11d22h70m23s][HUGECTR][INFO]: Iter: 100 Time(100 iters): 0.056858s Loss: 0.591121 lr:0.001000\n",
      "[11d22h70m23s][HUGECTR][INFO]: Iter: 200 Time(100 iters): 0.053634s Loss: 0.564416 lr:0.001000\n",
      "[11d22h70m23s][HUGECTR][INFO]: Evaluation, AUC: 0.743987\n",
      "[11d22h70m23s][HUGECTR][INFO]: Eval Time for 160 iters: 0.038483s\n",
      "[11d22h70m23s][HUGECTR][INFO]: Iter: 300 Time(100 iters): 0.102818s Loss: 0.566298 lr:0.001000\n",
      "[11d22h70m23s][HUGECTR][INFO]: Iter: 400 Time(100 iters): 0.053446s Loss: 0.539269 lr:0.001000\n",
      "[11d22h70m23s][HUGECTR][INFO]: Evaluation, AUC: 0.763787\n",
      "[11d22h70m23s][HUGECTR][INFO]: Eval Time for 160 iters: 0.034829s\n",
      "[11d22h70m23s][HUGECTR][INFO]: Iter: 500 Time(100 iters): 0.100928s Loss: 0.554708 lr:0.001000\n",
      "[11d22h70m23s][HUGECTR][INFO]: Iter: 600 Time(100 iters): 0.053452s Loss: 0.539525 lr:0.001000\n",
      "[11d22h70m23s][HUGECTR][INFO]: Evaluation, AUC: 0.772562\n",
      "[11d22h70m23s][HUGECTR][INFO]: Eval Time for 160 iters: 0.034294s\n",
      "[11d22h70m23s][HUGECTR][INFO]: Iter: 700 Time(100 iters): 0.089169s Loss: 0.533822 lr:0.001000\n",
      "[11d22h70m23s][HUGECTR][INFO]: Iter: 800 Time(100 iters): 0.053729s Loss: 0.547485 lr:0.001000\n",
      "[11d22h70m24s][HUGECTR][INFO]: Evaluation, AUC: 0.779771\n",
      "[11d22h70m24s][HUGECTR][INFO]: Eval Time for 160 iters: 0.045291s\n",
      "[11d22h70m24s][HUGECTR][INFO]: Iter: 900 Time(100 iters): 0.099816s Loss: 0.521559 lr:0.001000\n",
      "[11d22h70m24s][HUGECTR][INFO]: Iter: 1000 Time(100 iters): 0.064345s Loss: 0.524825 lr:0.001000\n",
      "[11d22h70m24s][HUGECTR][INFO]: Evaluation, AUC: 0.783923\n",
      "[11d22h70m24s][HUGECTR][INFO]: Eval Time for 160 iters: 0.034748s\n",
      "[11d22h70m24s][HUGECTR][INFO]: Iter: 1100 Time(100 iters): 0.089246s Loss: 0.541518 lr:0.001000\n",
      "[11d22h70m24s][HUGECTR][INFO]: Iter: 1200 Time(100 iters): 0.053427s Loss: 0.517627 lr:0.001000\n",
      "[11d22h70m24s][HUGECTR][INFO]: Evaluation, AUC: 0.785172\n",
      "[11d22h70m24s][HUGECTR][INFO]: Eval Time for 160 iters: 0.035040s\n",
      "[11d22h70m24s][HUGECTR][INFO]: Iter: 1300 Time(100 iters): 0.089587s Loss: 0.532193 lr:0.001000\n",
      "[11d22h70m24s][HUGECTR][INFO]: Iter: 1400 Time(100 iters): 0.053467s Loss: 0.546165 lr:0.001000\n",
      "[11d22h70m24s][HUGECTR][INFO]: Evaluation, AUC: 0.790062\n",
      "[11d22h70m24s][HUGECTR][INFO]: Eval Time for 160 iters: 0.046366s\n",
      "[11d22h70m24s][HUGECTR][INFO]: Iter: 1500 Time(100 iters): 0.112205s Loss: 0.528746 lr:0.001000\n",
      "[11d22h70m24s][HUGECTR][INFO]: Iter: 1600 Time(100 iters): 0.053563s Loss: 0.518219 lr:0.001000\n",
      "[11d22h70m24s][HUGECTR][INFO]: Evaluation, AUC: 0.792964\n",
      "[11d22h70m24s][HUGECTR][INFO]: Eval Time for 160 iters: 0.035604s\n",
      "[11d22h70m24s][HUGECTR][INFO]: Iter: 1700 Time(100 iters): 0.090292s Loss: 0.513209 lr:0.001000\n",
      "[11d22h70m24s][HUGECTR][INFO]: Iter: 1800 Time(100 iters): 0.053419s Loss: 0.536347 lr:0.001000\n",
      "[11d22h70m24s][HUGECTR][INFO]: Evaluation, AUC: 0.793697\n",
      "[11d22h70m24s][HUGECTR][INFO]: Eval Time for 160 iters: 0.034481s\n",
      "[11d22h70m24s][HUGECTR][INFO]: Iter: 1900 Time(100 iters): 0.089039s Loss: 0.501846 lr:0.001000\n",
      "[11d22h70m24s][HUGECTR][INFO]: Rank0: Dump hash table from GPU0\n",
      "[11d22h70m24s][HUGECTR][INFO]: Rank0: Write hash table <key,value> pairs to file\n",
      "[11d22h70m24s][HUGECTR][INFO]: Done\n"
     ]
    }
   ],
   "source": [
    "!python model.py"
   ]
  },
  {
   "cell_type": "markdown",
   "id": "domestic-former",
   "metadata": {},
   "source": [
    "We trained our model."
   ]
  },
  {
   "cell_type": "markdown",
   "id": "white-essex",
   "metadata": {},
   "source": [
    "After training terminates, we can see that two `.model` files are generated. We need to move them inside `1` folder under the `movielens_hugectr` folder. Let's create these folders first."
   ]
  },
  {
   "cell_type": "code",
   "execution_count": 24,
   "id": "bright-platform",
   "metadata": {},
   "outputs": [],
   "source": [
    "!mkdir -p /model/movielens_hugectr/1"
   ]
  },
  {
   "cell_type": "markdown",
   "id": "fatal-softball",
   "metadata": {},
   "source": [
    "Now we move our saved `.model` files inside `1` folder."
   ]
  },
  {
   "cell_type": "code",
   "execution_count": 25,
   "id": "swedish-preview",
   "metadata": {},
   "outputs": [],
   "source": [
    "!mv *.model /model/movielens_hugectr/1/"
   ]
  },
  {
   "cell_type": "markdown",
   "id": "studied-bahrain",
   "metadata": {},
   "source": [
    "Note that these stored `.model` files will be used in the inference. Now we have to create a JSON file for inference which has a similar configuration as our training file. We should remove the solver and optimizer clauses and add the inference clause in the JSON file. The paths of the stored dense model and sparse model(s) should be specified at dense_model_file and sparse_model_file within the inference clause. We need to make some modifications to data in the layers clause. Besides, we need to change the last layer from BinaryCrossEntropyLoss to Sigmoid. The rest of \"layers\" should be exactly the same as that in the training model.py file.\n",
    "\n",
    "Now let's create a `movielens.json` file inside the `movielens/1` folder. We have already retrieved the cardinality of each categorical column using `get_embedding_sizes` function above. We will use these cardinalities below in the `movielens.json` file as well."
   ]
  },
  {
   "cell_type": "code",
   "execution_count": 26,
   "id": "vocational-penny",
   "metadata": {},
   "outputs": [
    {
     "name": "stdout",
     "output_type": "stream",
     "text": [
      "Overwriting /model/movielens_hugectr/1/movielens.json\n"
     ]
    }
   ],
   "source": [
    "%%writefile '/model/movielens_hugectr/1/movielens.json'\n",
    "\n",
    "{\n",
    "   \"inference\": {\n",
    "    \"max_batchsize\": 64,\n",
    "    \"hit_rate_threshold\": 0.6,\n",
    "    \"dense_model_file\": \"/model/models/movielens/1/_dense_1900.model\",\n",
    "    \"sparse_model_file\": \"/model/models/movielens/1/0_sparse_1900.model\",\n",
    "    \"label\": 1,\n",
    "    \"input_key_type\": \"I64\"\n",
    "  },\n",
    "  \"layers\": [\n",
    "    {\n",
    "      \"name\": \"data\",\n",
    "      \"type\": \"Data\",\n",
    "      \"format\": \"Parquet\",\n",
    "      \"slot_size_array\": [56586, 162542],\n",
    "      \"source\": \"/model/data/train/_file_list.txt\",\n",
    "      \"eval_source\": \"/model/data/valid/_file_list.txt\",\n",
    "      \"check\": \"Sum\",\n",
    "      \"label\": {\n",
    "        \"top\": \"label\",\n",
    "        \"label_dim\": 1\n",
    "      },\n",
    "      \"dense\": {\n",
    "        \"top\": \"dense\",\n",
    "        \"dense_dim\": 0\n",
    "      },\n",
    "      \"sparse\": [\n",
    "        {\n",
    "          \"top\": \"data1\",\n",
    "          \"type\": \"DistributedSlot\",\n",
    "          \"max_feature_num_per_sample\": 3,\n",
    "          \"slot_num\": 2\n",
    "        }\n",
    "      ]\n",
    "    },\n",
    "    {\n",
    "      \"name\": \"sparse_embedding1\",\n",
    "      \"type\": \"DistributedSlotSparseEmbeddingHash\",\n",
    "      \"bottom\": \"data1\",\n",
    "      \"top\": \"sparse_embedding1\",\n",
    "      \"sparse_embedding_hparam\": {\n",
    "        \"max_vocabulary_size_per_gpu\": 219128,\n",
    "        \"embedding_vec_size\": 16,\n",
    "        \"combiner\": 0\n",
    "      }\n",
    "    },\n",
    "    {\n",
    "      \"name\": \"reshape1\",\n",
    "      \"type\": \"Reshape\",\n",
    "      \"bottom\": \"sparse_embedding1\",\n",
    "      \"top\": \"reshape1\",\n",
    "      \"leading_dim\": 32\n",
    "    },\n",
    "    {\n",
    "      \"name\": \"fc1\",\n",
    "      \"type\": \"InnerProduct\",\n",
    "      \"bottom\": \"reshape1\",\n",
    "      \"top\": \"fc1\",\n",
    "      \"fc_param\": {\n",
    "        \"num_output\": 128\n",
    "      }\n",
    "    },\n",
    "    {\n",
    "      \"name\": \"relu1\",\n",
    "      \"type\": \"ReLU\",\n",
    "      \"bottom\": \"fc1\",\n",
    "      \"top\": \"relu1\"\n",
    "    },\n",
    "    {\n",
    "      \"name\": \"fc2\",\n",
    "      \"type\": \"InnerProduct\",\n",
    "      \"bottom\": \"relu1\",\n",
    "      \"top\": \"fc2\",\n",
    "      \"fc_param\": {\n",
    "        \"num_output\": 128\n",
    "      }\n",
    "    },\n",
    "    {\n",
    "      \"name\": \"relu2\",\n",
    "      \"type\": \"ReLU\",\n",
    "      \"bottom\": \"fc2\",\n",
    "      \"top\": \"relu2\"\n",
    "    },\n",
    "    {\n",
    "      \"name\": \"fc3\",\n",
    "      \"type\": \"InnerProduct\",\n",
    "      \"bottom\": \"relu2\",\n",
    "      \"top\": \"fc3\",\n",
    "      \"fc_param\": {\n",
    "        \"num_output\": 1\n",
    "      }\n",
    "    },\n",
    "    {\n",
    "      \"name\": \"sigmoid\",\n",
    "      \"type\": \"Sigmoid\",\n",
    "      \"bottom\": \"fc3\",\n",
    "      \"top\": \"sigmoid\"\n",
    "    } \n",
    "  ]\n",
    "}"
   ]
  },
  {
   "cell_type": "markdown",
   "id": "hungarian-tuner",
   "metadata": {},
   "source": [
    "Now we can save our models to be deployed at the inference stage. To do so we will use `export_hugectr_ensemble` method below. With this method, we can generate the `config.pbtxt` files automatically for each model. In doing so, we should also create a `hugectr_params` dictionary, and define the parameters  like where the `movielens.json` file will be read, `slots` which corresponds to number of categorical features, `embedding_vector_size`, `max_nnz`, and `n_outputs` which is number of outputs."
   ]
  },
  {
   "cell_type": "markdown",
   "id": "black-brave",
   "metadata": {},
   "source": [
    "The script below creates an ensemble triton server model where  \n",
    "\n",
    "- `workflow` is the the nvtabular workflow used in preprocessing, \n",
    "- `hugectr_model_path` is the HugeCTR model that should be served. This path includes the `.model` files.\n",
    "- `name` is the base name of the various triton models\n",
    "- `output_path` is the path where is model will be saved to."
   ]
  },
  {
   "cell_type": "code",
   "execution_count": 27,
   "id": "nominated-bankruptcy",
   "metadata": {},
   "outputs": [],
   "source": [
    "from nvtabular.inference.triton import export_hugectr_ensemble\n",
    "hugectr_params = dict()\n",
    "hugectr_params[\"config\"] = \"/model/models/movielens/1/movielens.json\"\n",
    "hugectr_params[\"slots\"] = 2\n",
    "hugectr_params[\"max_nnz\"] = 2\n",
    "hugectr_params[\"embedding_vector_size\"] = 16\n",
    "hugectr_params[\"n_outputs\"] = 1\n",
    "export_hugectr_ensemble(workflow=workflow, \n",
    "                        hugectr_model_path=\"/model/movielens_hugectr/1/\",\n",
    "                        hugectr_params=hugectr_params,\n",
    "                        name=\"movielens\", \n",
    "                        output_path=\"/model/models/\", \n",
    "                        label_columns=[\"rating\"], \n",
    "                        cats=CATEGORICAL_COLUMNS,\n",
    "                        max_batch_size=64)"
   ]
  },
  {
   "cell_type": "markdown",
   "id": "silver-indie",
   "metadata": {},
   "source": [
    "After we run the script above, we will have three model folders saved as `movielens_nvt`, `movielens` and `movielens_ens`. Now we can move to the next notebook, `movielens-HugeCTR-inference`, to send request to the Triton Inference Server using the saved ensemble model."
   ]
  }
 ],
 "metadata": {
  "kernelspec": {
   "display_name": "Python 3",
   "language": "python",
   "name": "python3"
  },
  "language_info": {
   "codemirror_mode": {
    "name": "ipython",
    "version": 3
   },
   "file_extension": ".py",
   "mimetype": "text/x-python",
   "name": "python",
   "nbconvert_exporter": "python",
   "pygments_lexer": "ipython3",
   "version": "3.8.8"
  }
 },
 "nbformat": 4,
 "nbformat_minor": 5
}
