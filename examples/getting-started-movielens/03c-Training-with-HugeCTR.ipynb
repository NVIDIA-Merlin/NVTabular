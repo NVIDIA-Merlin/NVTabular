{
 "cells": [
  {
   "cell_type": "code",
   "execution_count": 1,
   "id": "inclusive-demonstration",
   "metadata": {},
   "outputs": [],
   "source": [
    "# Copyright 2021 NVIDIA Corporation. All Rights Reserved.\n",
    "#\n",
    "# Licensed under the Apache License, Version 2.0 (the \"License\");\n",
    "# you may not use this file except in compliance with the License.\n",
    "# You may obtain a copy of the License at\n",
    "#\n",
    "#     http://www.apache.org/licenses/LICENSE-2.0\n",
    "#\n",
    "# Unless required by applicable law or agreed to in writing, software\n",
    "# distributed under the License is distributed on an \"AS IS\" BASIS,\n",
    "# WITHOUT WARRANTIES OR CONDITIONS OF ANY KIND, either express or implied.\n",
    "# See the License for the specific language governing permissions and\n",
    "# limitations under the License.\n",
    "# =============================================================================="
   ]
  },
  {
   "cell_type": "markdown",
   "id": "exposed-optimization",
   "metadata": {},
   "source": [
    "<img src=\"http://developer.download.nvidia.com/compute/machine-learning/frameworks/nvidia_logo.png\" style=\"width: 90px; float: right;\">\n",
    "\n",
    "## Overview\n",
    "\n",
    "In this notebook, we want to provide an overview what HugeCTR framework is, its features and benefits. We will use HugeCTR to train a basic neural network architecture and deploy the saved model to Triton Inference Server. \n",
    "\n",
    "<b>Learning Objectives</b>:\n",
    "* Adopt NVTabular workflow to provide input files to HugeCTR\n",
    "* Define HugeCTR neural network architecture\n",
    "* Train a deep learning model with HugeCTR\n",
    "* Deploy HugeCTR to Triton Inference Server"
   ]
  },
  {
   "cell_type": "markdown",
   "id": "looking-jaguar",
   "metadata": {},
   "source": [
    "### Why using HugeCTR?\n",
    "\n",
    "HugeCTR is a GPU-accelerated recommender framework designed to distribute training across multiple GPUs and nodes and estimate Click-Through Rates (CTRs).<br>\n",
    "\n",
    "HugeCTR offers multiple advantages to train deep learning recommender systems:\n",
    "1. **Speed**: HugeCTR is a highly efficient framework written C++. We experienced up to 10x speed up. HugeCTR on a NVIDIA DGX A100 system proved to be the fastest commercially available solution for training the architecture Deep Learning Recommender Model (DLRM) developed by Facebook.\n",
    "2. **Scale**: HugeCTR supports model parallel scaling. It distributes the large embedding tables over multiple GPUs or multiple nodes. \n",
    "3. **Easy-to-use**: Easy-to-use Python API similar to Keras. Examples for popular deep learning recommender systems architectures (Wide&Deep, DLRM, DCN, DeepFM) are available."
   ]
  },
  {
   "cell_type": "markdown",
   "id": "extra-agreement",
   "metadata": {},
   "source": [
    "### Other Features of HugeCTR\n",
    "\n",
    "HugeCTR is designed to scale deep learning models for recommender systems. It provides a list of other important features:\n",
    "* Proficiency in oversubscribing models to train embedding tables with single nodes that don’t fit within the GPU or CPU memory (only required embeddings are prefetched from a parameter server per batch)\n",
    "* Asynchronous and multithreaded data pipelines\n",
    "* A highly optimized data loader.\n",
    "* Supported data formats such as parquet and binary\n",
    "* Integration with Triton Inference Server for deployment to production\n"
   ]
  },
  {
   "cell_type": "markdown",
   "id": "iraqi-better",
   "metadata": {},
   "source": [
    "### Getting Started"
   ]
  },
  {
   "cell_type": "markdown",
   "id": "7ffbd5f9-049f-4b64-adc7-b69d09ce6eb4",
   "metadata": {},
   "source": [
    "As HugeCTR optimizes the training in CUDA++, we need to define the training pipeline and model architecture and execute it via the commandline. We will use the Python API, which is similar to Keras models.\n",
    "\n",
    "If you are not familiar with HugeCTR's Python API and parameters, you can read more in its GitHub repository:\n",
    "\n",
    "- HugeCTR User Guide\n",
    "- HugeCTR Python API\n",
    "- HugeCTR Configuration File\n",
    "- HugeCTR example architectures"
   ]
  },
  {
   "cell_type": "markdown",
   "id": "attended-accommodation",
   "metadata": {},
   "source": [
    "In this example, we will train a neural network with HugeCTR. We will use NVTabular for preprocessing."
   ]
  },
  {
   "cell_type": "markdown",
   "id": "representative-coupon",
   "metadata": {},
   "source": [
    "#### Preprocessing and Feature Engineering with NVTabular\n",
    "\n",
    "We use NVTabular to `Categorify` our categorical input columns."
   ]
  },
  {
   "cell_type": "code",
   "execution_count": 1,
   "id": "embedded-cache",
   "metadata": {},
   "outputs": [],
   "source": [
    "# External dependencies\n",
    "import os\n",
    "import time\n",
    "import gc\n",
    "\n",
    "import nvtabular as nvt\n",
    "import cudf \n",
    "import numpy as np\n",
    "\n",
    "from os import path"
   ]
  },
  {
   "cell_type": "markdown",
   "id": "infinite-handling",
   "metadata": {},
   "source": [
    "We define our base directory, containing the data."
   ]
  },
  {
   "cell_type": "code",
   "execution_count": 2,
   "id": "desirable-china",
   "metadata": {},
   "outputs": [],
   "source": [
    "# path to store raw and preprocessed data\n",
    "\n",
    "INPUT_DATA_DIR = os.environ.get('INPUT_DATA_DIR', os.path.expanduser(\"~/nvt-examples/movielens/data/\"))\n",
    "MODEL_BASE_DIR = os.environ.get('MODEL_BASE_DIR', '/model/')"
   ]
  },
  {
   "cell_type": "markdown",
   "id": "moving-ecology",
   "metadata": {},
   "source": [
    "## Scaling Accelerated training with HugeCTR"
   ]
  },
  {
   "cell_type": "markdown",
   "id": "african-filling",
   "metadata": {},
   "source": [
    "HugeCTR is a deep learning framework dedicated to recommendation systems. It is written in CUDA C++. As HugeCTR optimizes the training in CUDA++, we need to define the training pipeline and model architecture and execute it via the commandline. We will use the Python API, which is similar to Keras models."
   ]
  },
  {
   "cell_type": "markdown",
   "id": "improved-volunteer",
   "metadata": {},
   "source": [
    "HugeCTR has three main components:\n",
    "* Solver: Specifies various details such as active GPU list, batchsize, and model_file\n",
    "* Optimizer: Specifies the type of optimizer and its hyperparameters\n",
    "* Model: Specifies training/evaluation data (and their paths), embeddings, and dense layers. Note that embeddings must precede the dense layers"
   ]
  },
  {
   "cell_type": "markdown",
   "id": "several-bearing",
   "metadata": {},
   "source": [
    "**Solver**\n",
    "\n",
    "Let's take a look on the parameter for the `Solver`. We should be familiar from other frameworks for the hyperparameter.\n",
    "\n",
    "```\n",
    "solver = hugectr.solver_parser_helper(\n",
    "- vvgpu: GPU indices used in the training process, which has two levels. For example: [[0,1],[1,2]] indicates that two nodes are used in the first node. GPUs 0 and 1 are used while GPUs 1 and 2 are used for the second node. It is also possible to specify non-continuous GPU indices such as [0, 2, 4, 7]  \n",
    "- max_iter: Total number of training iterations\n",
    "- batchsize: Minibatch size used in training\n",
    "- display: Intervals to print loss on the screen\n",
    "- eval_interval: Evaluation interval in the unit of training iteration\n",
    "- max_eval_batches: Maximum number of batches used in evaluation. It is recommended that the number is equal to or bigger than the actual number of bathces in the evaluation dataset.\n",
    "If max_iter is used, the evaluation happens for max_eval_batches by repeating the evaluation dataset infinitely.\n",
    "On the other hand, with num_epochs, HugeCTR stops the evaluation if all the evaluation data is consumed    \n",
    "- batchsize_eval: Maximum number of batches used in evaluation. It is recommended that the number is equal to or\n",
    "  bigger than the actual number of bathces in the evaluation dataset\n",
    "- mixed_precision: Enables mixed precision training with the scaler specified here. Only 128,256, 512, and 1024 scalers are supported\n",
    ")\n",
    "```"
   ]
  },
  {
   "cell_type": "markdown",
   "id": "weird-heater",
   "metadata": {},
   "source": [
    "**Optimizer**\n",
    "\n",
    "The optimizer is the algorithm to update the model parameters. HugeCTR supports the common algorithms.\n",
    "\n",
    "\n",
    "```\n",
    "optimizer = CreateOptimizer(\n",
    "- optimizer_type: Optimizer algorithm - Adam, MomentumSGD, Nesterov, and SGD \n",
    "- learning_rate: Learning Rate for optimizer\n",
    ")\n",
    "```"
   ]
  },
  {
   "cell_type": "markdown",
   "id": "social-macro",
   "metadata": {},
   "source": [
    "**Model**\n",
    "\n",
    "We initialize the model with the solver and optimizer:\n",
    "\n",
    "```\n",
    "model = hugectr.Model(solver, optimizer)\n",
    "```\n",
    "\n",
    "We can add multiple layers to the model with `model.add` function. We will focus on:\n",
    "- `Input` defines the input data\n",
    "- `SparseEmbedding` defines the embedding layer\n",
    "- `DenseLayer` defines dense layers, such as fully connected, ReLU, BatchNorm, etc.\n",
    "\n",
    "**HugeCTR organizes the layers by names. For each layer, we define the input and output names.**"
   ]
  },
  {
   "cell_type": "markdown",
   "id": "waiting-depression",
   "metadata": {},
   "source": [
    "Input layer:\n",
    "\n",
    "This layer is required to define the input data.\n",
    "\n",
    "```\n",
    "hugectr.Input(\n",
    "    data_reader_type: Data format to read\n",
    "    source: The training dataset file list.\n",
    "    eval_source: The evaluation dataset file list.\n",
    "    check_type: The data error detection machanism (Sum: Checksum, None: no detection).\n",
    "    label_dim: Number of label columns\n",
    "    label_name: Name of label columns in network architecture\n",
    "    dense_dim: Number of continous columns\n",
    "    dense_name: Name of contiunous columns in network architecture\n",
    "    slot_size_array: The list of categorical feature cardinalities\n",
    "    data_reader_sparse_param_array: Configuration how to read sparse data\n",
    "    sparse_names: Name of sparse/categorical columns in network architecture\n",
    ")\n",
    "```\n",
    "\n",
    "SparseEmbedding:\n",
    "\n",
    "This layer defines embedding table\n",
    "\n",
    "```\n",
    "hugectr.SparseEmbedding(\n",
    "    embedding_type: Different embedding options to distribute embedding tables \n",
    "    max_vocabulary_size_per_gpu: Maximum vocabulary size or cardinality across all the input features\n",
    "    embedding_vec_size: Embedding vector size\n",
    "    combiner: Intra-slot reduction op (0=sum, 1=average)\n",
    "    sparse_embedding_name: Layer name\n",
    "    bottom_name: Input layer names\n",
    ")\n",
    "```\n",
    "\n",
    "DenseLayer:\n",
    "\n",
    "This layer is copied to each GPU and is normally used for the MLP tower.\n",
    "\n",
    "```\n",
    "hugectr.DenseLayer(\n",
    "    layer_type: Layer type, such as FullyConnected, Reshape, Concat, Loss, BatchNorm, etc.\n",
    "    bottom_names: Input layer names\n",
    "    top_names: Layer name\n",
    "    ...: Depending on the layer type additional parameter can be defined\n",
    ")\n",
    "```"
   ]
  },
  {
   "cell_type": "markdown",
   "id": "overhead-tomato",
   "metadata": {},
   "source": [
    "## Let's define our model\n",
    "\n",
    "We walked through the documentation, but it is useful to understand the API. Finally, we can define our model. We will write the model to `./model.py` and execute it afterwards."
   ]
  },
  {
   "cell_type": "markdown",
   "id": "exclusive-criticism",
   "metadata": {},
   "source": [
    "We need the cardinalities of each categorical feature to assign as `slot_size_array` in the model below."
   ]
  },
  {
   "cell_type": "code",
   "execution_count": 3,
   "id": "627cbf00-c37e-498c-b3fc-0e5f902905d8",
   "metadata": {},
   "outputs": [],
   "source": [
    "workflow = nvt.Workflow.load(os.path.join(INPUT_DATA_DIR, \"workflow\"))"
   ]
  },
  {
   "cell_type": "code",
   "execution_count": 4,
   "id": "absent-navigation",
   "metadata": {},
   "outputs": [
    {
     "name": "stdout",
     "output_type": "stream",
     "text": [
      "{'genres': (21, 16), 'movieId': (56586, 512), 'userId': (162542, 512)}\n"
     ]
    }
   ],
   "source": [
    "from nvtabular.ops import get_embedding_sizes\n",
    "\n",
    "embeddings = get_embedding_sizes(workflow)\n",
    "print(embeddings)"
   ]
  },
  {
   "cell_type": "markdown",
   "id": "earned-wrong",
   "metadata": {},
   "source": [
    "In addition, we will use the total cardinality value as `max_vocabulary_size_per_gpu` parameter. Since are training HugeCTR model only with `movieId` and `userId` columns, we will only need their cardinalities. "
   ]
  },
  {
   "cell_type": "code",
   "execution_count": 5,
   "id": "weekly-federation",
   "metadata": {},
   "outputs": [
    {
     "data": {
      "text/plain": [
       "219128"
      ]
     },
     "execution_count": 5,
     "metadata": {},
     "output_type": "execute_result"
    }
   ],
   "source": [
    "total_cardinality = embeddings['movieId'][0] + embeddings['userId'][0] \n",
    "total_cardinality"
   ]
  },
  {
   "cell_type": "markdown",
   "id": "02678675-c1c8-4d4b-a3e4-4700e1dd223f",
   "metadata": {},
   "source": [
    "We will write the code to a ./model.py file and execute it. It will create snapshot, which we will use for inference in the next notebook."
   ]
  },
  {
   "cell_type": "code",
   "execution_count": 6,
   "id": "abroad-oklahoma",
   "metadata": {},
   "outputs": [
    {
     "name": "stdout",
     "output_type": "stream",
     "text": [
      "Writing ./model.py\n"
     ]
    }
   ],
   "source": [
    "%%writefile './model.py'\n",
    "\n",
    "import hugectr\n",
    "from mpi4py import MPI\n",
    "\n",
    "solver = hugectr.solver_parser_helper(vvgpu = [[0]],\n",
    "                                      max_iter = 2000,\n",
    "                                      batchsize = 2048,\n",
    "                                      display = 100,\n",
    "                                      eval_interval = 200,\n",
    "                                      batchsize_eval = 2048,\n",
    "                                      max_eval_batches = 160,\n",
    "                                      i64_input_key = True,\n",
    "                                      use_mixed_precision = False,\n",
    "                                      repeat_dataset = True,\n",
    "                                      snapshot = 1900\n",
    "                                      )\n",
    "optimizer = hugectr.optimizer.CreateOptimizer(\n",
    "    optimizer_type = hugectr.Optimizer_t.Adam,\n",
    "    use_mixed_precision = False\n",
    ")\n",
    "model = hugectr.Model(solver, optimizer)\n",
    "\n",
    "model.add(\n",
    "    hugectr.Input(\n",
    "        data_reader_type = hugectr.DataReaderType_t.Parquet,\n",
    "        source = \"/model/data/train/_file_list.txt\",\n",
    "        eval_source = \"/model/data/valid/_file_list.txt\",\n",
    "        check_type = hugectr.Check_t.Non,\n",
    "        label_dim = 1, \n",
    "        label_name = \"label\",\n",
    "        dense_dim = 0, \n",
    "        dense_name = \"dense\",\n",
    "        slot_size_array = [56586, 162542],\n",
    "        data_reader_sparse_param_array = [\n",
    "            hugectr.DataReaderSparseParam(hugectr.DataReaderSparse_t.Distributed, 3, 1, 2)\n",
    "        ],\n",
    "        sparse_names = [\"data1\"]\n",
    "    )\n",
    ")\n",
    "model.add(\n",
    "    hugectr.SparseEmbedding(\n",
    "        embedding_type = hugectr.Embedding_t.DistributedSlotSparseEmbeddingHash, \n",
    "        max_vocabulary_size_per_gpu = 219128,\n",
    "        embedding_vec_size = 16,\n",
    "        combiner = 0,\n",
    "        sparse_embedding_name = \"sparse_embedding1\",\n",
    "        bottom_name = \"data1\"\n",
    "    )\n",
    ")\n",
    "model.add(\n",
    "    hugectr.DenseLayer(\n",
    "        layer_type = hugectr.Layer_t.Reshape,\n",
    "        bottom_names = [\"sparse_embedding1\"],\n",
    "        top_names = [\"reshape1\"],\n",
    "        leading_dim=32\n",
    "    )\n",
    ")\n",
    "model.add(\n",
    "    hugectr.DenseLayer(\n",
    "        layer_type = hugectr.Layer_t.InnerProduct,\n",
    "        bottom_names = [\"reshape1\"], \n",
    "        top_names = [\"fc1\"],\n",
    "        num_output=128\n",
    "    )\n",
    ")\n",
    "model.add(\n",
    "    hugectr.DenseLayer(\n",
    "        layer_type = hugectr.Layer_t.ReLU,\n",
    "        bottom_names = [\"fc1\"], \n",
    "        top_names = [\"relu1\"],\n",
    "    )\n",
    ")\n",
    "model.add(\n",
    "    hugectr.DenseLayer(\n",
    "        layer_type = hugectr.Layer_t.InnerProduct,\n",
    "        bottom_names = [\"relu1\"], \n",
    "        top_names = [\"fc2\"],\n",
    "        num_output=128\n",
    "    )\n",
    ")\n",
    "model.add(\n",
    "    hugectr.DenseLayer(\n",
    "        layer_type = hugectr.Layer_t.ReLU,\n",
    "        bottom_names = [\"fc2\"], \n",
    "        top_names = [\"relu2\"],\n",
    "    )\n",
    ")\n",
    "model.add(\n",
    "    hugectr.DenseLayer(\n",
    "        layer_type = hugectr.Layer_t.InnerProduct,\n",
    "        bottom_names = [\"relu2\"], \n",
    "        top_names = [\"fc3\"],\n",
    "        num_output=1\n",
    "    )\n",
    ")\n",
    "model.add(\n",
    "    hugectr.DenseLayer(\n",
    "        layer_type = hugectr.Layer_t.BinaryCrossEntropyLoss,\n",
    "        bottom_names = [\"fc3\", \"label\"],\n",
    "        top_names = [\"loss\"])\n",
    ")\n",
    "model.compile()\n",
    "model.summary()\n",
    "model.fit()"
   ]
  },
  {
   "cell_type": "code",
   "execution_count": 7,
   "id": "centered-sauce",
   "metadata": {},
   "outputs": [
    {
     "name": "stdout",
     "output_type": "stream",
     "text": [
      "===================================Model Init====================================\n",
      "[09d22h30m43s][HUGECTR][INFO]: Global seed is 1740424067\n",
      "[09d22h30m45s][HUGECTR][INFO]: Peer-to-peer access cannot be fully enabled.\n",
      "Device 0: Tesla V100-DGXS-16GB\n",
      "[09d22h30m45s][HUGECTR][INFO]: num of DataReader workers: 1\n",
      "[09d22h30m45s][HUGECTR][INFO]: num_internal_buffers 1\n",
      "[09d22h30m45s][HUGECTR][INFO]: num_internal_buffers 1\n",
      "[09d22h30m45s][HUGECTR][INFO]: Vocabulary size: 219128\n",
      "[09d22h30m45s][HUGECTR][INFO]: max_vocabulary_size_per_gpu_=219128\n",
      "[09d22h30m46s][HUGECTR][INFO]: gpu0 start to init embedding\n",
      "[09d22h30m46s][HUGECTR][INFO]: gpu0 init embedding done\n",
      "==================================Model Summary==================================\n",
      "Label Name                    Dense Name                    Sparse Name                   \n",
      "label                         dense                         data1                         \n",
      "--------------------------------------------------------------------------------\n",
      "Layer Type                    Input Name                    Output Name                   \n",
      "--------------------------------------------------------------------------------\n",
      "DistributedHash               data1                         sparse_embedding1             \n",
      "Reshape                       sparse_embedding1             reshape1                      \n",
      "InnerProduct                  reshape1                      fc1                           \n",
      "ReLU                          fc1                           relu1                         \n",
      "InnerProduct                  relu1                         fc2                           \n",
      "ReLU                          fc2                           relu2                         \n",
      "InnerProduct                  relu2                         fc3                           \n",
      "BinaryCrossEntropyLoss        fc3, label                    loss                          \n",
      "--------------------------------------------------------------------------------\n",
      "=====================================Model Fit====================================\n",
      "[90d22h30m46s][HUGECTR][INFO]: Use non-epoch mode with number of iterations: 2000\n",
      "[90d22h30m46s][HUGECTR][INFO]: Training batchsize: 2048, evaluation batchsize: 2048\n",
      "[90d22h30m46s][HUGECTR][INFO]: Evaluation interval: 200, snapshot interval: 1900\n",
      "[90d22h30m46s][HUGECTR][INFO]: Iter: 100 Time(100 iters): 0.052872s Loss: 0.580953 lr:0.001000\n",
      "[90d22h30m46s][HUGECTR][INFO]: Iter: 200 Time(100 iters): 0.050924s Loss: 0.570789 lr:0.001000\n",
      "[90d22h30m46s][HUGECTR][INFO]: Evaluation, AUC: 0.743519\n",
      "[90d22h30m46s][HUGECTR][INFO]: Eval Time for 160 iters: 0.036838s\n",
      "[90d22h30m46s][HUGECTR][INFO]: Iter: 300 Time(100 iters): 0.098415s Loss: 0.553080 lr:0.001000\n",
      "[90d22h30m47s][HUGECTR][INFO]: Iter: 400 Time(100 iters): 0.051083s Loss: 0.545768 lr:0.001000\n",
      "[90d22h30m47s][HUGECTR][INFO]: Evaluation, AUC: 0.763955\n",
      "[90d22h30m47s][HUGECTR][INFO]: Eval Time for 160 iters: 0.035712s\n",
      "[90d22h30m47s][HUGECTR][INFO]: Iter: 500 Time(100 iters): 0.130658s Loss: 0.541426 lr:0.001000\n",
      "[90d22h30m47s][HUGECTR][INFO]: Iter: 600 Time(100 iters): 0.051082s Loss: 0.539705 lr:0.001000\n",
      "[90d22h30m47s][HUGECTR][INFO]: Evaluation, AUC: 0.773200\n",
      "[90d22h30m47s][HUGECTR][INFO]: Eval Time for 160 iters: 0.035931s\n",
      "[90d22h30m47s][HUGECTR][INFO]: Iter: 700 Time(100 iters): 0.088430s Loss: 0.552321 lr:0.001000\n",
      "[90d22h30m47s][HUGECTR][INFO]: Iter: 800 Time(100 iters): 0.051081s Loss: 0.531731 lr:0.001000\n",
      "[90d22h30m47s][HUGECTR][INFO]: Evaluation, AUC: 0.779543\n",
      "[90d22h30m47s][HUGECTR][INFO]: Eval Time for 160 iters: 0.078178s\n",
      "[90d22h30m47s][HUGECTR][INFO]: Iter: 900 Time(100 iters): 0.130170s Loss: 0.532124 lr:0.001000\n",
      "[90d22h30m47s][HUGECTR][INFO]: Iter: 1000 Time(100 iters): 0.094209s Loss: 0.540983 lr:0.001000\n",
      "[90d22h30m47s][HUGECTR][INFO]: Evaluation, AUC: 0.783682\n",
      "[90d22h30m47s][HUGECTR][INFO]: Eval Time for 160 iters: 0.033599s\n",
      "[90d22h30m47s][HUGECTR][INFO]: Iter: 1100 Time(100 iters): 0.085806s Loss: 0.556637 lr:0.001000\n",
      "[90d22h30m47s][HUGECTR][INFO]: Iter: 1200 Time(100 iters): 0.051066s Loss: 0.536522 lr:0.001000\n",
      "[90d22h30m47s][HUGECTR][INFO]: Evaluation, AUC: 0.785579\n",
      "[90d22h30m47s][HUGECTR][INFO]: Eval Time for 160 iters: 0.032606s\n",
      "[90d22h30m47s][HUGECTR][INFO]: Iter: 1300 Time(100 iters): 0.084725s Loss: 0.530917 lr:0.001000\n",
      "[90d22h30m47s][HUGECTR][INFO]: Iter: 1400 Time(100 iters): 0.051220s Loss: 0.527665 lr:0.001000\n",
      "[90d22h30m47s][HUGECTR][INFO]: Evaluation, AUC: 0.790735\n",
      "[90d22h30m47s][HUGECTR][INFO]: Eval Time for 160 iters: 0.080230s\n",
      "[90d22h30m48s][HUGECTR][INFO]: Iter: 1500 Time(100 iters): 0.177106s Loss: 0.534116 lr:0.001000\n",
      "[90d22h30m48s][HUGECTR][INFO]: Iter: 1600 Time(100 iters): 0.051080s Loss: 0.550417 lr:0.001000\n",
      "[90d22h30m48s][HUGECTR][INFO]: Evaluation, AUC: 0.792831\n",
      "[90d22h30m48s][HUGECTR][INFO]: Eval Time for 160 iters: 0.034054s\n",
      "[90d22h30m48s][HUGECTR][INFO]: Iter: 1700 Time(100 iters): 0.086184s Loss: 0.535532 lr:0.001000\n",
      "[90d22h30m48s][HUGECTR][INFO]: Iter: 1800 Time(100 iters): 0.051262s Loss: 0.507717 lr:0.001000\n",
      "[90d22h30m48s][HUGECTR][INFO]: Evaluation, AUC: 0.794159\n",
      "[90d22h30m48s][HUGECTR][INFO]: Eval Time for 160 iters: 0.033858s\n",
      "[90d22h30m48s][HUGECTR][INFO]: Iter: 1900 Time(100 iters): 0.086101s Loss: 0.533243 lr:0.001000\n",
      "[90d22h30m48s][HUGECTR][INFO]: Rank0: Dump hash table from GPU0\n",
      "[90d22h30m48s][HUGECTR][INFO]: Rank0: Write hash table <key,value> pairs to file\n",
      "[90d22h30m48s][HUGECTR][INFO]: Done\n"
     ]
    }
   ],
   "source": [
    "!python model.py"
   ]
  },
  {
   "cell_type": "markdown",
   "id": "domestic-former",
   "metadata": {},
   "source": [
    "We trained the model and created snapshots."
   ]
  }
 ],
 "metadata": {
  "kernelspec": {
   "display_name": "Python 3",
   "language": "python",
   "name": "python3"
  },
  "language_info": {
   "codemirror_mode": {
    "name": "ipython",
    "version": 3
   },
   "file_extension": ".py",
   "mimetype": "text/x-python",
   "name": "python",
   "nbconvert_exporter": "python",
   "pygments_lexer": "ipython3",
   "version": "3.8.8"
  }
 },
 "nbformat": 4,
 "nbformat_minor": 5
}
