{
 "cells": [
  {
   "cell_type": "code",
   "execution_count": 1,
   "id": "f964d0c7",
   "metadata": {},
   "outputs": [],
   "source": [
    "# Copyright 2021 NVIDIA Corporation. All Rights Reserved.\n",
    "#\n",
    "# Licensed under the Apache License, Version 2.0 (the \"License\");\n",
    "# you may not use this file except in compliance with the License.\n",
    "# You may obtain a copy of the License at\n",
    "#\n",
    "#     http://www.apache.org/licenses/LICENSE-2.0\n",
    "#\n",
    "# Unless required by applicable law or agreed to in writing, software\n",
    "# distributed under the License is distributed on an \"AS IS\" BASIS,\n",
    "# WITHOUT WARRANTIES OR CONDITIONS OF ANY KIND, either express or implied.\n",
    "# See the License for the specific language governing permissions and\n",
    "# limitations under the License.\n",
    "# =============================================================================="
   ]
  },
  {
   "cell_type": "markdown",
   "id": "60009337",
   "metadata": {},
   "source": [
    "<img src=\"http://developer.download.nvidia.com/compute/machine-learning/frameworks/nvidia_logo.png\" style=\"width: 90px; float: right;\">\n",
    "\n",
    "## Overview\n",
    "\n",
    "In this notebook, we want to provide an overview what HugeCTR framework is, its features and benefits. We will use HugeCTR to train a basic neural network architecture.\n",
    "\n",
    "<b>Learning Objectives</b>:\n",
    "* Adopt NVTabular workflow to provide input files to HugeCTR\n",
    "* Define HugeCTR neural network architecture\n",
    "* Train a deep learning model with HugeCTR"
   ]
  },
  {
   "cell_type": "markdown",
   "id": "5570acea",
   "metadata": {},
   "source": [
    "### Why using HugeCTR?\n",
    "\n",
    "HugeCTR is a GPU-accelerated recommender framework designed to distribute training across multiple GPUs and nodes and estimate Click-Through Rates (CTRs).<br>\n",
    "\n",
    "HugeCTR offers multiple advantages to train deep learning recommender systems:\n",
    "1. **Speed**: HugeCTR is a highly efficient framework written C++. We experienced up to 10x speed up. HugeCTR on a NVIDIA DGX A100 system proved to be the fastest commercially available solution for training the architecture Deep Learning Recommender Model (DLRM) developed by Facebook.\n",
    "2. **Scale**: HugeCTR supports model parallel scaling. It distributes the large embedding tables over multiple GPUs or multiple nodes. \n",
    "3. **Easy-to-use**: Easy-to-use Python API similar to Keras. Examples for popular deep learning recommender systems architectures (Wide&Deep, DLRM, DCN, DeepFM) are available."
   ]
  },
  {
   "cell_type": "markdown",
   "id": "b16398ad",
   "metadata": {},
   "source": [
    "### Other Features of HugeCTR\n",
    "\n",
    "HugeCTR is designed to scale deep learning models for recommender systems. It provides a list of other important features:\n",
    "* Proficiency in oversubscribing models to train embedding tables with single nodes that don’t fit within the GPU or CPU memory (only required embeddings are prefetched from a parameter server per batch)\n",
    "* Asynchronous and multithreaded data pipelines\n",
    "* A highly optimized data loader.\n",
    "* Supported data formats such as parquet and binary\n",
    "* Integration with Triton Inference Server for deployment to production"
   ]
  },
  {
   "cell_type": "markdown",
   "id": "c1728db7",
   "metadata": {},
   "source": [
    "### Getting Started"
   ]
  },
  {
   "cell_type": "markdown",
   "id": "2c27bc5d",
   "metadata": {},
   "source": [
    "In this example, we will train a neural network with HugeCTR. We will use preprocessed datasets generated via NVTabular in `02-ETL-with-NVTabular` notebook."
   ]
  },
  {
   "cell_type": "code",
   "execution_count": 2,
   "id": "b4830094",
   "metadata": {},
   "outputs": [],
   "source": [
    "# External dependencies\n",
    "import os\n",
    "import nvtabular as nvt"
   ]
  },
  {
   "cell_type": "markdown",
   "id": "ac6ef2c3",
   "metadata": {},
   "source": [
    "We define our base directory, containing the data."
   ]
  },
  {
   "cell_type": "code",
   "execution_count": 3,
   "id": "7a6fca66",
   "metadata": {},
   "outputs": [],
   "source": [
    "# path to preprocessed data\n",
    "INPUT_DATA_DIR = os.environ.get(\n",
    "    \"INPUT_DATA_DIR\", os.path.expanduser(\"~/nvt-examples/movielens/data/\")\n",
    ")\n",
    "\n",
    "# path to save the models\n",
    "MODEL_BASE_DIR = os.environ.get(\"MODEL_BASE_DIR\", os.path.expanduser(\"~/nvt-examples/\"))"
   ]
  },
  {
   "cell_type": "markdown",
   "id": "2045f02f",
   "metadata": {},
   "source": [
    "Let's load our saved workflow from the `02-ETL-with-NVTabular` notebook."
   ]
  },
  {
   "cell_type": "code",
   "execution_count": 4,
   "id": "7bcc6245",
   "metadata": {},
   "outputs": [],
   "source": [
    "workflow = nvt.Workflow.load(os.path.join(INPUT_DATA_DIR, \"workflow\"))"
   ]
  },
  {
   "cell_type": "code",
   "execution_count": 5,
   "id": "1ad755cb",
   "metadata": {},
   "outputs": [
    {
     "data": {
      "text/plain": [
       "{'userId': dtype('int64'),\n",
       " 'movieId': dtype('int64'),\n",
       " 'genres': ListDtype(int64),\n",
       " 'rating': dtype('int8')}"
      ]
     },
     "execution_count": 5,
     "metadata": {},
     "output_type": "execute_result"
    }
   ],
   "source": [
    "workflow.output_dtypes"
   ]
  },
  {
   "cell_type": "markdown",
   "id": "07a73ebf",
   "metadata": {},
   "source": [
    "Note: We do not have numerical output columns"
   ]
  },
  {
   "cell_type": "markdown",
   "id": "f690c87c",
   "metadata": {},
   "source": [
    "Let's clear existing directory and create the output folders."
   ]
  },
  {
   "cell_type": "code",
   "execution_count": 6,
   "id": "531f08a9",
   "metadata": {},
   "outputs": [],
   "source": [
    "MODEL_DIR = os.path.join(INPUT_DATA_DIR, \"model/movielens_hugectr/\")\n",
    "!rm -rf {MODEL_DIR}\n",
    "!mkdir -p {MODEL_DIR}\"1\""
   ]
  },
  {
   "cell_type": "markdown",
   "id": "4c83fb29",
   "metadata": {},
   "source": [
    "## Scaling Accelerated training with HugeCTR"
   ]
  },
  {
   "cell_type": "markdown",
   "id": "bc83942a",
   "metadata": {},
   "source": [
    "HugeCTR is a deep learning framework dedicated to recommendation systems. It is written in CUDA C++. As HugeCTR optimizes the training in CUDA++, we need to define the training pipeline and model architecture and execute it via the commandline. We will use the Python API, which is similar to Keras models."
   ]
  },
  {
   "cell_type": "markdown",
   "id": "a55a9e21",
   "metadata": {},
   "source": [
    "HugeCTR has three main components:\n",
    "* Solver: Specifies various details such as active GPU list, batchsize, and model_file\n",
    "* Optimizer: Specifies the type of optimizer and its hyperparameters\n",
    "* DataReader: Specifies the training/evaludation data\n",
    "* Model: Specifies embeddings, and dense layers. Note that embeddings must precede the dense layers"
   ]
  },
  {
   "cell_type": "markdown",
   "id": "97defd10",
   "metadata": {},
   "source": [
    "**Solver**\n",
    "\n",
    "Let's take a look on the parameter for the `Solver`. We should be familiar from other frameworks for the hyperparameter.\n",
    "\n",
    "```\n",
    "solver = hugectr.CreateSolver(\n",
    "- vvgpu: GPU indices used in the training process, which has two levels. For example: [[0,1],[1,2]] indicates that two nodes are used in the first node. GPUs 0 and 1 are used while GPUs 1 and 2 are used for the second node. It is also possible to specify non-continuous GPU indices such as [0, 2, 4, 7]  \n",
    "- batchsize: Minibatch size used in training\n",
    "- max_eval_batches: Maximum number of batches used in evaluation. It is recommended that the number is equal to or bigger than the actual number of bathces in the evaluation dataset.\n",
    "If max_iter is used, the evaluation happens for max_eval_batches by repeating the evaluation dataset infinitely.\n",
    "On the other hand, with num_epochs, HugeCTR stops the evaluation if all the evaluation data is consumed    \n",
    "- batchsize_eval: Maximum number of batches used in evaluation. It is recommended that the number is equal to or\n",
    "  bigger than the actual number of bathces in the evaluation dataset\n",
    "- mixed_precision: Enables mixed precision training with the scaler specified here. Only 128,256, 512, and 1024 scalers are supported\n",
    ")\n",
    "```"
   ]
  },
  {
   "cell_type": "markdown",
   "id": "a21cb3e4",
   "metadata": {},
   "source": [
    "**Optimizer**\n",
    "\n",
    "The optimizer is the algorithm to update the model parameters. HugeCTR supports the common algorithms.\n",
    "\n",
    "\n",
    "```\n",
    "optimizer = CreateOptimizer(\n",
    "- optimizer_type: Optimizer algorithm - Adam, MomentumSGD, Nesterov, and SGD \n",
    "- learning_rate: Learning Rate for optimizer\n",
    ")\n",
    "```"
   ]
  },
  {
   "cell_type": "markdown",
   "id": "6c098066",
   "metadata": {},
   "source": [
    "**DataReader**\n",
    "\n",
    "The data reader defines the training and evaluation dataset.\n",
    "\n",
    "\n",
    "```\n",
    "reader = hugectr.DataReaderParams(\n",
    "- data_reader_type: Data format to read\n",
    "- source: The training dataset file list. IMPORTANT: This should be a list\n",
    "- eval_source: The evaluation dataset file list.\n",
    "- check_type: The data error detection mechanism (Sum: Checksum, None: no detection).\n",
    "- slot_size_array: The list of categorical feature cardinalities\n",
    ")\n",
    "```"
   ]
  },
  {
   "cell_type": "markdown",
   "id": "a430f272",
   "metadata": {},
   "source": [
    "**Model**\n",
    "\n",
    "We initialize the model with the solver, optimizer and data reader:\n",
    "\n",
    "```\n",
    "model = hugectr.Model(solver, reader, optimizer)\n",
    "```\n",
    "\n",
    "We can add multiple layers to the model with `model.add` function. We will focus on:\n",
    "- `Input` defines the input data\n",
    "- `SparseEmbedding` defines the embedding layer\n",
    "- `DenseLayer` defines dense layers, such as fully connected, ReLU, BatchNorm, etc.\n",
    "\n",
    "**HugeCTR organizes the layers by names. For each layer, we define the input and output names.**"
   ]
  },
  {
   "cell_type": "markdown",
   "id": "167b9a4e",
   "metadata": {},
   "source": [
    "Input layer:\n",
    "\n",
    "This layer is required to define the input data.\n",
    "\n",
    "```\n",
    "hugectr.Input(\n",
    "    label_dim: Number of label columns\n",
    "    label_name: Name of label columns in network architecture\n",
    "    dense_dim: Number of continuous columns\n",
    "    dense_name: Name of contiunous columns in network architecture\n",
    "    data_reader_sparse_param_array: Configuration how to read sparse data and its names\n",
    ")\n",
    "```\n",
    "\n",
    "SparseEmbedding:\n",
    "\n",
    "This layer defines embedding table\n",
    "\n",
    "```\n",
    "hugectr.SparseEmbedding(\n",
    "    embedding_type: Different embedding options to distribute embedding tables \n",
    "    workspace_size_per_gpu_in_mb: Maximum embedding table size in MB\n",
    "    embedding_vec_size: Embedding vector size\n",
    "    combiner: Intra-slot reduction op\n",
    "    sparse_embedding_name: Layer name\n",
    "    bottom_name: Input layer names\n",
    "    optimizer: Optimizer to use\n",
    ")\n",
    "```\n",
    "\n",
    "DenseLayer:\n",
    "\n",
    "This layer is copied to each GPU and is normally used for the MLP tower.\n",
    "\n",
    "```\n",
    "hugectr.DenseLayer(\n",
    "    layer_type: Layer type, such as FullyConnected, Reshape, Concat, Loss, BatchNorm, etc.\n",
    "    bottom_names: Input layer names\n",
    "    top_names: Layer name\n",
    "    ...: Depending on the layer type additional parameter can be defined\n",
    ")\n",
    "```\n",
    "\n",
    "This is only a short introduction in the API. You can read more in the official docs: [Python Interface](https://github.com/NVIDIA/HugeCTR/blob/master/docs/python_interface.md) and [Layer Book](https://github.com/NVIDIA/HugeCTR/blob/master/docs/hugectr_layer_book.md)"
   ]
  },
  {
   "cell_type": "markdown",
   "id": "84ec0a84",
   "metadata": {},
   "source": [
    "## Let's define our model\n",
    "\n",
    "We walked through the documentation, but it is useful to understand the API. Finally, we can define our model. We will write the model to `./model.py` and execute it afterwards."
   ]
  },
  {
   "cell_type": "markdown",
   "id": "f4993dc0",
   "metadata": {},
   "source": [
    "We need the cardinalities of each categorical feature to assign as `slot_size_array` in the model below."
   ]
  },
  {
   "cell_type": "code",
   "execution_count": 7,
   "id": "8f2b8134",
   "metadata": {},
   "outputs": [
    {
     "name": "stdout",
     "output_type": "stream",
     "text": [
      "({'userId': (162542, 512), 'movieId': (56586, 512)}, {'genres': (21, 16)})\n"
     ]
    }
   ],
   "source": [
    "from nvtabular.ops import get_embedding_sizes\n",
    "\n",
    "embeddings = get_embedding_sizes(workflow)\n",
    "print(embeddings)"
   ]
  },
  {
   "cell_type": "markdown",
   "id": "dd7ae16f",
   "metadata": {},
   "source": [
    "We use `graph_to_json` to convert the model to a JSON configuration, required for the inference."
   ]
  },
  {
   "cell_type": "code",
   "execution_count": 8,
   "id": "b534f4f0",
   "metadata": {},
   "outputs": [],
   "source": [
    "from IPython.core.magic import register_line_cell_magic\n",
    "\n",
    "@register_line_cell_magic\n",
    "def writetemplate(line, cell):\n",
    "    with open(line, 'w') as f:\n",
    "        f.write(cell.format(**globals()))"
   ]
  },
  {
   "cell_type": "code",
   "execution_count": 9,
   "id": "f2378e4f",
   "metadata": {},
   "outputs": [],
   "source": [
    "%%writetemplate model.py\n",
    "\n",
    "import hugectr\n",
    "from mpi4py import MPI  # noqa\n",
    "\n",
    "solver = hugectr.CreateSolver(\n",
    "    vvgpu=[[0]],\n",
    "    batchsize=2048,\n",
    "    batchsize_eval=2048,\n",
    "    max_eval_batches=160,\n",
    "    i64_input_key=True,\n",
    "    use_mixed_precision=False,\n",
    "    repeat_dataset=True,\n",
    ")\n",
    "optimizer = hugectr.CreateOptimizer(optimizer_type=hugectr.Optimizer_t.Adam)\n",
    "reader = hugectr.DataReaderParams(\n",
    "    data_reader_type=hugectr.DataReaderType_t.Parquet,\n",
    "    source=[\"{INPUT_DATA_DIR}train/_file_list.txt\"],\n",
    "    eval_source=\"{INPUT_DATA_DIR}valid/_file_list.txt\",\n",
    "    check_type=hugectr.Check_t.Non,\n",
    "    slot_size_array=[162542, 56586, 21],\n",
    ")\n",
    "\n",
    "\n",
    "model = hugectr.Model(solver, reader, optimizer)\n",
    "\n",
    "model.add(\n",
    "    hugectr.Input(\n",
    "        label_dim=1,\n",
    "        label_name=\"label\",\n",
    "        dense_dim=0,\n",
    "        dense_name=\"dense\",\n",
    "        data_reader_sparse_param_array=[\n",
    "            hugectr.DataReaderSparseParam(\"data1\", nnz_per_slot=10, is_fixed_length=False, slot_num=3)\n",
    "        ],\n",
    "    )\n",
    ")\n",
    "model.add(\n",
    "    hugectr.SparseEmbedding(\n",
    "        embedding_type=hugectr.Embedding_t.LocalizedSlotSparseEmbeddingHash,\n",
    "        workspace_size_per_gpu_in_mb=200,\n",
    "        embedding_vec_size=16,\n",
    "        combiner=\"sum\",\n",
    "        sparse_embedding_name=\"sparse_embedding1\",\n",
    "        bottom_name=\"data1\",\n",
    "        optimizer=optimizer,\n",
    "    )\n",
    ")\n",
    "model.add(\n",
    "    hugectr.DenseLayer(\n",
    "        layer_type=hugectr.Layer_t.Reshape,\n",
    "        bottom_names=[\"sparse_embedding1\"],\n",
    "        top_names=[\"reshape1\"],\n",
    "        leading_dim=48,\n",
    "    )\n",
    ")\n",
    "model.add(\n",
    "    hugectr.DenseLayer(\n",
    "        layer_type=hugectr.Layer_t.InnerProduct,\n",
    "        bottom_names=[\"reshape1\"],\n",
    "        top_names=[\"fc1\"],\n",
    "        num_output=128,\n",
    "    )\n",
    ")\n",
    "model.add(\n",
    "    hugectr.DenseLayer(\n",
    "        layer_type=hugectr.Layer_t.ReLU,\n",
    "        bottom_names=[\"fc1\"],\n",
    "        top_names=[\"relu1\"],\n",
    "    )\n",
    ")\n",
    "model.add(\n",
    "    hugectr.DenseLayer(\n",
    "        layer_type=hugectr.Layer_t.InnerProduct,\n",
    "        bottom_names=[\"relu1\"],\n",
    "        top_names=[\"fc2\"],\n",
    "        num_output=128,\n",
    "    )\n",
    ")\n",
    "model.add(\n",
    "    hugectr.DenseLayer(\n",
    "        layer_type=hugectr.Layer_t.ReLU,\n",
    "        bottom_names=[\"fc2\"],\n",
    "        top_names=[\"relu2\"],\n",
    "    )\n",
    ")\n",
    "model.add(\n",
    "    hugectr.DenseLayer(\n",
    "        layer_type=hugectr.Layer_t.InnerProduct,\n",
    "        bottom_names=[\"relu2\"],\n",
    "        top_names=[\"fc3\"],\n",
    "        num_output=1,\n",
    "    )\n",
    ")\n",
    "model.add(\n",
    "    hugectr.DenseLayer(\n",
    "        layer_type=hugectr.Layer_t.BinaryCrossEntropyLoss,\n",
    "        bottom_names=[\"fc3\", \"label\"],\n",
    "        top_names=[\"loss\"],\n",
    "    )\n",
    ")\n",
    "model.compile()\n",
    "model.summary()\n",
    "model.fit(max_iter=2000, display=100, eval_interval=200, snapshot=1900)\n",
    "model.graph_to_json(graph_config_file=\"{MODEL_DIR}1/movielens.json\")"
   ]
  },
  {
   "cell_type": "markdown",
   "id": "bb081302",
   "metadata": {},
   "source": [
    "We train our model."
   ]
  },
  {
   "cell_type": "code",
   "execution_count": 10,
   "id": "d4cb53d7",
   "metadata": {},
   "outputs": [
    {
     "name": "stdout",
     "output_type": "stream",
     "text": [
      "Illegal instruction (core dumped)\n"
     ]
    }
   ],
   "source": [
    "!python model.py"
   ]
  },
  {
   "cell_type": "markdown",
   "id": "21f46ab9",
   "metadata": {},
   "source": [
    "After training terminates, we can see that multiple `.model` files and folders are generated. We need to move them inside `1` folder under the `movielens_hugectr` folder. "
   ]
  },
  {
   "cell_type": "code",
   "execution_count": 11,
   "id": "a9b2de3d",
   "metadata": {},
   "outputs": [],
   "source": [
    "!mv *.model {MODEL_DIR}"
   ]
  },
  {
   "cell_type": "code",
   "execution_count": 12,
   "id": "8fa794d7",
   "metadata": {},
   "outputs": [
    {
     "name": "stdout",
     "output_type": "stream",
     "text": [
      "/root/nvt-examples/movielens/data/model/movielens_hugectr/\n"
     ]
    }
   ],
   "source": [
    "!echo {MODEL_DIR}"
   ]
  }
 ],
 "metadata": {
  "kernelspec": {
   "display_name": "Python 3 (ipykernel)",
   "language": "python",
   "name": "python3"
  },
  "language_info": {
   "codemirror_mode": {
    "name": "ipython",
    "version": 3
   },
   "file_extension": ".py",
   "mimetype": "text/x-python",
   "name": "python",
   "nbconvert_exporter": "python",
   "pygments_lexer": "ipython3",
   "version": "3.8.10"
  }
 },
 "nbformat": 4,
 "nbformat_minor": 5
}
