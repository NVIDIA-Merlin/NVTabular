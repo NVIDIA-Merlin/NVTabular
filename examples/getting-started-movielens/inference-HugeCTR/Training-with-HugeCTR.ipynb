{
 "cells": [
  {
   "cell_type": "code",
   "execution_count": 1,
   "id": "90a62eba",
   "metadata": {},
   "outputs": [],
   "source": [
    "# Copyright 2021 NVIDIA Corporation. All Rights Reserved.\n",
    "#\n",
    "# Licensed under the Apache License, Version 2.0 (the \"License\");\n",
    "# you may not use this file except in compliance with the License.\n",
    "# You may obtain a copy of the License at\n",
    "#\n",
    "#     http://www.apache.org/licenses/LICENSE-2.0\n",
    "#\n",
    "# Unless required by applicable law or agreed to in writing, software\n",
    "# distributed under the License is distributed on an \"AS IS\" BASIS,\n",
    "# WITHOUT WARRANTIES OR CONDITIONS OF ANY KIND, either express or implied.\n",
    "# See the License for the specific language governing permissions and\n",
    "# limitations under the License.\n",
    "# =============================================================================="
   ]
  },
  {
   "cell_type": "markdown",
   "id": "16d63e2b",
   "metadata": {},
   "source": [
    "<img src=\"http://developer.download.nvidia.com/compute/machine-learning/frameworks/nvidia_logo.png\" style=\"width: 90px; float: right;\">\n",
    "\n",
    "## Overview\n",
    "\n",
    "In this notebook, we want to provide an overview what HugeCTR framework is, its features and benefits. We will use HugeCTR to train a basic neural network architecture and deploy the saved model to Triton Inference Server. \n",
    "\n",
    "<b>Learning Objectives</b>:\n",
    "* Adopt NVTabular workflow to provide input files to HugeCTR\n",
    "* Define HugeCTR neural network architecture\n",
    "* Train a deep learning model with HugeCTR\n",
    "* Deploy HugeCTR to Triton Inference Server"
   ]
  },
  {
   "cell_type": "markdown",
   "id": "0d5964d4",
   "metadata": {},
   "source": [
    "### Why using HugeCTR?\n",
    "\n",
    "HugeCTR is a GPU-accelerated recommender framework designed to distribute training across multiple GPUs and nodes and estimate Click-Through Rates (CTRs).<br>\n",
    "\n",
    "HugeCTR offers multiple advantages to train deep learning recommender systems:\n",
    "1. **Speed**: HugeCTR is a highly efficient framework written C++. We experienced up to 10x speed up. HugeCTR on a NVIDIA DGX A100 system proved to be the fastest commercially available solution for training the architecture Deep Learning Recommender Model (DLRM) developed by Facebook.\n",
    "2. **Scale**: HugeCTR supports model parallel scaling. It distributes the large embedding tables over multiple GPUs or multiple nodes. \n",
    "3. **Easy-to-use**: Easy-to-use Python API similar to Keras. Examples for popular deep learning recommender systems architectures (Wide&Deep, DLRM, DCN, DeepFM) are available."
   ]
  },
  {
   "cell_type": "markdown",
   "id": "c24d9028",
   "metadata": {},
   "source": [
    "### Other Features of HugeCTR\n",
    "\n",
    "HugeCTR is designed to scale deep learning models for recommender systems. It provides a list of other important features:\n",
    "* Proficiency in oversubscribing models to train embedding tables with single nodes that don’t fit within the GPU or CPU memory (only required embeddings are prefetched from a parameter server per batch)\n",
    "* Asynchronous and multithreaded data pipelines\n",
    "* A highly optimized data loader.\n",
    "* Supported data formats such as parquet and binary\n",
    "* Integration with Triton Inference Server for deployment to production\n"
   ]
  },
  {
   "cell_type": "markdown",
   "id": "409ac806",
   "metadata": {},
   "source": [
    "### Getting Started"
   ]
  },
  {
   "cell_type": "markdown",
   "id": "62355d3c",
   "metadata": {},
   "source": [
    "In this example, we will train a neural network with HugeCTR. We will use NVTabular for preprocessing."
   ]
  },
  {
   "cell_type": "markdown",
   "id": "20190e7c",
   "metadata": {},
   "source": [
    "#### Preprocessing and Feature Engineering with NVTabular\n",
    "\n",
    "We use NVTabular to `Categorify` our categorical input columns."
   ]
  },
  {
   "cell_type": "code",
   "execution_count": 1,
   "id": "b974dd5b",
   "metadata": {},
   "outputs": [],
   "source": [
    "# External dependencies\n",
    "import os\n",
    "import shutil\n",
    "import gc\n",
    "\n",
    "import nvtabular as nvt\n",
    "import cudf\n",
    "import numpy as np\n",
    "import pandas as pd\n",
    "\n",
    "from os import path\n",
    "from sklearn.model_selection import train_test_split\n",
    "\n",
    "from nvtabular.utils import download_file"
   ]
  },
  {
   "cell_type": "markdown",
   "id": "5865bc7e",
   "metadata": {},
   "source": [
    "We define our base directory, containing the data."
   ]
  },
  {
   "cell_type": "code",
   "execution_count": 2,
   "id": "27bdb4f5",
   "metadata": {},
   "outputs": [],
   "source": [
    "# path to store raw and preprocessed data\n",
    "BASE_DIR = \"/model/data/\""
   ]
  },
  {
   "cell_type": "markdown",
   "id": "eaa25a23",
   "metadata": {},
   "source": [
    "If the data is not available in the base directory, we will download and unzip the data."
   ]
  },
  {
   "cell_type": "code",
   "execution_count": 3,
   "id": "4729abc6",
   "metadata": {},
   "outputs": [
    {
     "name": "stderr",
     "output_type": "stream",
     "text": [
      "downloading ml-25m.zip: 262MB [01:07, 3.88MB/s]                                                                                    \n",
      "unzipping files: 100%|████████████████████████████████████████████████████████████████████████████| 8/8 [00:04<00:00,  1.68files/s]\n"
     ]
    }
   ],
   "source": [
    "download_file(\n",
    "    \"http://files.grouplens.org/datasets/movielens/ml-25m.zip\", os.path.join(BASE_DIR, \"ml-25m.zip\")\n",
    ")"
   ]
  },
  {
   "cell_type": "markdown",
   "id": "12903b76",
   "metadata": {},
   "source": [
    "## Preparing the dataset with NVTabular"
   ]
  },
  {
   "cell_type": "markdown",
   "id": "24107f47",
   "metadata": {},
   "source": [
    "First, we take a look at the movie metadata.\n",
    "\n",
    "Let's load the movie ratings."
   ]
  },
  {
   "cell_type": "code",
   "execution_count": 4,
   "id": "21593656",
   "metadata": {},
   "outputs": [
    {
     "data": {
      "text/html": [
       "<div>\n",
       "<style scoped>\n",
       "    .dataframe tbody tr th:only-of-type {\n",
       "        vertical-align: middle;\n",
       "    }\n",
       "\n",
       "    .dataframe tbody tr th {\n",
       "        vertical-align: top;\n",
       "    }\n",
       "\n",
       "    .dataframe thead th {\n",
       "        text-align: right;\n",
       "    }\n",
       "</style>\n",
       "<table border=\"1\" class=\"dataframe\">\n",
       "  <thead>\n",
       "    <tr style=\"text-align: right;\">\n",
       "      <th></th>\n",
       "      <th>userId</th>\n",
       "      <th>movieId</th>\n",
       "      <th>rating</th>\n",
       "      <th>timestamp</th>\n",
       "    </tr>\n",
       "  </thead>\n",
       "  <tbody>\n",
       "    <tr>\n",
       "      <th>0</th>\n",
       "      <td>1</td>\n",
       "      <td>296</td>\n",
       "      <td>5.0</td>\n",
       "      <td>1147880044</td>\n",
       "    </tr>\n",
       "    <tr>\n",
       "      <th>1</th>\n",
       "      <td>1</td>\n",
       "      <td>306</td>\n",
       "      <td>3.5</td>\n",
       "      <td>1147868817</td>\n",
       "    </tr>\n",
       "    <tr>\n",
       "      <th>2</th>\n",
       "      <td>1</td>\n",
       "      <td>307</td>\n",
       "      <td>5.0</td>\n",
       "      <td>1147868828</td>\n",
       "    </tr>\n",
       "    <tr>\n",
       "      <th>3</th>\n",
       "      <td>1</td>\n",
       "      <td>665</td>\n",
       "      <td>5.0</td>\n",
       "      <td>1147878820</td>\n",
       "    </tr>\n",
       "    <tr>\n",
       "      <th>4</th>\n",
       "      <td>1</td>\n",
       "      <td>899</td>\n",
       "      <td>3.5</td>\n",
       "      <td>1147868510</td>\n",
       "    </tr>\n",
       "  </tbody>\n",
       "</table>\n",
       "</div>"
      ],
      "text/plain": [
       "   userId  movieId  rating   timestamp\n",
       "0       1      296     5.0  1147880044\n",
       "1       1      306     3.5  1147868817\n",
       "2       1      307     5.0  1147868828\n",
       "3       1      665     5.0  1147878820\n",
       "4       1      899     3.5  1147868510"
      ]
     },
     "execution_count": 4,
     "metadata": {},
     "output_type": "execute_result"
    }
   ],
   "source": [
    "ratings = cudf.read_csv(os.path.join(BASE_DIR, \"ml-25m\", \"ratings.csv\"))\n",
    "ratings.head()"
   ]
  },
  {
   "cell_type": "code",
   "execution_count": 5,
   "id": "230a3458",
   "metadata": {},
   "outputs": [
    {
     "name": "stdout",
     "output_type": "stream",
     "text": [
      "README.txt\t   genome-tags.csv  movies.csv\t tags.csv\n",
      "genome-scores.csv  links.csv\t    ratings.csv\n"
     ]
    }
   ],
   "source": [
    "!ls /model/data/ml-25m"
   ]
  },
  {
   "cell_type": "code",
   "execution_count": 6,
   "id": "0b14569d",
   "metadata": {},
   "outputs": [],
   "source": [
    "movies = pd.read_csv(os.path.join(BASE_DIR, \"ml-25m\", \"movies.csv\"))\n",
    "movies = movies[['movieId', 'genres']]\n",
    "movies['genres'] = movies['genres'].apply(lambda x: x.split(\"|\"))\n",
    "movies['num_genre'] = movies['genres'].apply(lambda x: len(x))\n",
    "# movies = movies[movies['num_genre'] > 1]\n",
    "# movies['genres'] = movies['genres'].apply(lambda x: np.random.choice(np.array(x), 2, replace=False))"
   ]
  },
  {
   "cell_type": "code",
   "execution_count": 7,
   "id": "4dd202bc",
   "metadata": {},
   "outputs": [
    {
     "data": {
      "text/html": [
       "<div>\n",
       "<style scoped>\n",
       "    .dataframe tbody tr th:only-of-type {\n",
       "        vertical-align: middle;\n",
       "    }\n",
       "\n",
       "    .dataframe tbody tr th {\n",
       "        vertical-align: top;\n",
       "    }\n",
       "\n",
       "    .dataframe thead th {\n",
       "        text-align: right;\n",
       "    }\n",
       "</style>\n",
       "<table border=\"1\" class=\"dataframe\">\n",
       "  <thead>\n",
       "    <tr style=\"text-align: right;\">\n",
       "      <th></th>\n",
       "      <th>movieId</th>\n",
       "      <th>genres</th>\n",
       "      <th>num_genre</th>\n",
       "    </tr>\n",
       "  </thead>\n",
       "  <tbody>\n",
       "    <tr>\n",
       "      <th>0</th>\n",
       "      <td>1</td>\n",
       "      <td>[Adventure, Animation, Children, Comedy, Fantasy]</td>\n",
       "      <td>5</td>\n",
       "    </tr>\n",
       "    <tr>\n",
       "      <th>1</th>\n",
       "      <td>2</td>\n",
       "      <td>[Adventure, Children, Fantasy]</td>\n",
       "      <td>3</td>\n",
       "    </tr>\n",
       "    <tr>\n",
       "      <th>2</th>\n",
       "      <td>3</td>\n",
       "      <td>[Comedy, Romance]</td>\n",
       "      <td>2</td>\n",
       "    </tr>\n",
       "    <tr>\n",
       "      <th>3</th>\n",
       "      <td>4</td>\n",
       "      <td>[Comedy, Drama, Romance]</td>\n",
       "      <td>3</td>\n",
       "    </tr>\n",
       "    <tr>\n",
       "      <th>4</th>\n",
       "      <td>5</td>\n",
       "      <td>[Comedy]</td>\n",
       "      <td>1</td>\n",
       "    </tr>\n",
       "  </tbody>\n",
       "</table>\n",
       "</div>"
      ],
      "text/plain": [
       "   movieId                                             genres  num_genre\n",
       "0        1  [Adventure, Animation, Children, Comedy, Fantasy]          5\n",
       "1        2                     [Adventure, Children, Fantasy]          3\n",
       "2        3                                  [Comedy, Romance]          2\n",
       "3        4                           [Comedy, Drama, Romance]          3\n",
       "4        5                                           [Comedy]          1"
      ]
     },
     "execution_count": 7,
     "metadata": {},
     "output_type": "execute_result"
    }
   ],
   "source": [
    "#movies.drop(columns='num_genre', inplace=True)\n",
    "movies = cudf.from_pandas(movies)\n",
    "movies.head()"
   ]
  },
  {
   "cell_type": "markdown",
   "id": "43a63a61",
   "metadata": {},
   "source": [
    "We drop the timestamp column and split the ratings into training and test dataset. We use a simple random split."
   ]
  },
  {
   "cell_type": "code",
   "execution_count": 12,
   "id": "5c8c3f96",
   "metadata": {},
   "outputs": [
    {
     "data": {
      "text/html": [
       "<div>\n",
       "<style scoped>\n",
       "    .dataframe tbody tr th:only-of-type {\n",
       "        vertical-align: middle;\n",
       "    }\n",
       "\n",
       "    .dataframe tbody tr th {\n",
       "        vertical-align: top;\n",
       "    }\n",
       "\n",
       "    .dataframe thead th {\n",
       "        text-align: right;\n",
       "    }\n",
       "</style>\n",
       "<table border=\"1\" class=\"dataframe\">\n",
       "  <thead>\n",
       "    <tr style=\"text-align: right;\">\n",
       "      <th></th>\n",
       "      <th>userId</th>\n",
       "      <th>movieId</th>\n",
       "      <th>rating</th>\n",
       "    </tr>\n",
       "  </thead>\n",
       "  <tbody>\n",
       "    <tr>\n",
       "      <th>0</th>\n",
       "      <td>1</td>\n",
       "      <td>296</td>\n",
       "      <td>5.0</td>\n",
       "    </tr>\n",
       "    <tr>\n",
       "      <th>1</th>\n",
       "      <td>1</td>\n",
       "      <td>306</td>\n",
       "      <td>3.5</td>\n",
       "    </tr>\n",
       "    <tr>\n",
       "      <th>2</th>\n",
       "      <td>1</td>\n",
       "      <td>307</td>\n",
       "      <td>5.0</td>\n",
       "    </tr>\n",
       "    <tr>\n",
       "      <th>3</th>\n",
       "      <td>1</td>\n",
       "      <td>665</td>\n",
       "      <td>5.0</td>\n",
       "    </tr>\n",
       "    <tr>\n",
       "      <th>4</th>\n",
       "      <td>1</td>\n",
       "      <td>899</td>\n",
       "      <td>3.5</td>\n",
       "    </tr>\n",
       "  </tbody>\n",
       "</table>\n",
       "</div>"
      ],
      "text/plain": [
       "   userId  movieId  rating\n",
       "0       1      296     5.0\n",
       "1       1      306     3.5\n",
       "2       1      307     5.0\n",
       "3       1      665     5.0\n",
       "4       1      899     3.5"
      ]
     },
     "execution_count": 12,
     "metadata": {},
     "output_type": "execute_result"
    }
   ],
   "source": [
    "ratings = ratings.drop(\"timestamp\", axis=1)\n",
    "ratings.head()"
   ]
  },
  {
   "cell_type": "code",
   "execution_count": 13,
   "id": "95b4d579",
   "metadata": {},
   "outputs": [
    {
     "data": {
      "text/html": [
       "<div>\n",
       "<style scoped>\n",
       "    .dataframe tbody tr th:only-of-type {\n",
       "        vertical-align: middle;\n",
       "    }\n",
       "\n",
       "    .dataframe tbody tr th {\n",
       "        vertical-align: top;\n",
       "    }\n",
       "\n",
       "    .dataframe thead th {\n",
       "        text-align: right;\n",
       "    }\n",
       "</style>\n",
       "<table border=\"1\" class=\"dataframe\">\n",
       "  <thead>\n",
       "    <tr style=\"text-align: right;\">\n",
       "      <th></th>\n",
       "      <th>userId</th>\n",
       "      <th>movieId</th>\n",
       "      <th>rating</th>\n",
       "      <th>genres</th>\n",
       "      <th>num_genre</th>\n",
       "    </tr>\n",
       "  </thead>\n",
       "  <tbody>\n",
       "    <tr>\n",
       "      <th>0</th>\n",
       "      <td>18</td>\n",
       "      <td>2423</td>\n",
       "      <td>4.0</td>\n",
       "      <td>[Comedy]</td>\n",
       "      <td>1</td>\n",
       "    </tr>\n",
       "    <tr>\n",
       "      <th>1</th>\n",
       "      <td>18</td>\n",
       "      <td>2529</td>\n",
       "      <td>1.5</td>\n",
       "      <td>[Action, Drama, Sci-Fi]</td>\n",
       "      <td>3</td>\n",
       "    </tr>\n",
       "    <tr>\n",
       "      <th>2</th>\n",
       "      <td>18</td>\n",
       "      <td>2571</td>\n",
       "      <td>5.0</td>\n",
       "      <td>[Action, Sci-Fi, Thriller]</td>\n",
       "      <td>3</td>\n",
       "    </tr>\n",
       "    <tr>\n",
       "      <th>3</th>\n",
       "      <td>18</td>\n",
       "      <td>2617</td>\n",
       "      <td>5.0</td>\n",
       "      <td>[Action, Adventure, Comedy, Fantasy, Horror, T...</td>\n",
       "      <td>6</td>\n",
       "    </tr>\n",
       "    <tr>\n",
       "      <th>4</th>\n",
       "      <td>18</td>\n",
       "      <td>2628</td>\n",
       "      <td>4.0</td>\n",
       "      <td>[Action, Adventure, Sci-Fi]</td>\n",
       "      <td>3</td>\n",
       "    </tr>\n",
       "  </tbody>\n",
       "</table>\n",
       "</div>"
      ],
      "text/plain": [
       "   userId  movieId  rating                                             genres  \\\n",
       "0      18     2423     4.0                                           [Comedy]   \n",
       "1      18     2529     1.5                            [Action, Drama, Sci-Fi]   \n",
       "2      18     2571     5.0                         [Action, Sci-Fi, Thriller]   \n",
       "3      18     2617     5.0  [Action, Adventure, Comedy, Fantasy, Horror, T...   \n",
       "4      18     2628     4.0                        [Action, Adventure, Sci-Fi]   \n",
       "\n",
       "   num_genre  \n",
       "0          1  \n",
       "1          3  \n",
       "2          3  \n",
       "3          6  \n",
       "4          3  "
      ]
     },
     "execution_count": 13,
     "metadata": {},
     "output_type": "execute_result"
    }
   ],
   "source": [
    "combined = movies.merge(ratings, how='right', on=['movieId'])\n",
    "combined.dropna(how='any', inplace=True)\n",
    "combined.head()"
   ]
  },
  {
   "cell_type": "code",
   "execution_count": 22,
   "id": "85af6d63",
   "metadata": {},
   "outputs": [
    {
     "data": {
      "text/html": [
       "<div>\n",
       "<style scoped>\n",
       "    .dataframe tbody tr th:only-of-type {\n",
       "        vertical-align: middle;\n",
       "    }\n",
       "\n",
       "    .dataframe tbody tr th {\n",
       "        vertical-align: top;\n",
       "    }\n",
       "\n",
       "    .dataframe thead th {\n",
       "        text-align: right;\n",
       "    }\n",
       "</style>\n",
       "<table border=\"1\" class=\"dataframe\">\n",
       "  <thead>\n",
       "    <tr style=\"text-align: right;\">\n",
       "      <th></th>\n",
       "      <th>userId</th>\n",
       "      <th>movieId</th>\n",
       "      <th>rating</th>\n",
       "      <th>genres</th>\n",
       "      <th>num_genre</th>\n",
       "    </tr>\n",
       "  </thead>\n",
       "  <tbody>\n",
       "    <tr>\n",
       "      <th>14406156</th>\n",
       "      <td>93285</td>\n",
       "      <td>66934</td>\n",
       "      <td>3.0</td>\n",
       "      <td>[Comedy, Drama, Musical, Sci-Fi]</td>\n",
       "      <td>4</td>\n",
       "    </tr>\n",
       "    <tr>\n",
       "      <th>13813349</th>\n",
       "      <td>89590</td>\n",
       "      <td>1405</td>\n",
       "      <td>2.0</td>\n",
       "      <td>[Adventure, Animation, Comedy, Crime]</td>\n",
       "      <td>4</td>\n",
       "    </tr>\n",
       "    <tr>\n",
       "      <th>9876454</th>\n",
       "      <td>64246</td>\n",
       "      <td>44199</td>\n",
       "      <td>4.0</td>\n",
       "      <td>[Crime, Drama, Thriller]</td>\n",
       "      <td>3</td>\n",
       "    </tr>\n",
       "    <tr>\n",
       "      <th>17545020</th>\n",
       "      <td>113750</td>\n",
       "      <td>356</td>\n",
       "      <td>1.0</td>\n",
       "      <td>[Comedy, Drama, Romance, War]</td>\n",
       "      <td>4</td>\n",
       "    </tr>\n",
       "    <tr>\n",
       "      <th>13256739</th>\n",
       "      <td>85757</td>\n",
       "      <td>95</td>\n",
       "      <td>4.0</td>\n",
       "      <td>[Action, Adventure, Thriller]</td>\n",
       "      <td>3</td>\n",
       "    </tr>\n",
       "  </tbody>\n",
       "</table>\n",
       "</div>"
      ],
      "text/plain": [
       "          userId  movieId  rating                                 genres  \\\n",
       "14406156   93285    66934     3.0       [Comedy, Drama, Musical, Sci-Fi]   \n",
       "13813349   89590     1405     2.0  [Adventure, Animation, Comedy, Crime]   \n",
       "9876454    64246    44199     4.0               [Crime, Drama, Thriller]   \n",
       "17545020  113750      356     1.0          [Comedy, Drama, Romance, War]   \n",
       "13256739   85757       95     4.0          [Action, Adventure, Thriller]   \n",
       "\n",
       "          num_genre  \n",
       "14406156          4  \n",
       "13813349          4  \n",
       "9876454           3  \n",
       "17545020          4  \n",
       "13256739          3  "
      ]
     },
     "execution_count": 22,
     "metadata": {},
     "output_type": "execute_result"
    }
   ],
   "source": [
    "shuffled = combined.sample(frac=1)\n",
    "train = shuffled[:int(0.8*len(shuffled))]\n",
    "valid = shuffled[int(0.8*len(shuffled)):]\n",
    "train.head()"
   ]
  },
  {
   "cell_type": "markdown",
   "id": "710a9b6d",
   "metadata": {},
   "source": [
    "We save our train and valid datasets as parquet files on disk, and below we will read them in while initializing the Dataset objects."
   ]
  },
  {
   "cell_type": "code",
   "execution_count": 23,
   "id": "f2a15089",
   "metadata": {},
   "outputs": [],
   "source": [
    "train.to_parquet(BASE_DIR + \"train.parquet\", index=False)\n",
    "valid.to_parquet(BASE_DIR + \"valid.parquet\", index=False)"
   ]
  },
  {
   "cell_type": "code",
   "execution_count": 24,
   "id": "d84d43e0",
   "metadata": {},
   "outputs": [
    {
     "data": {
      "text/plain": [
       "104"
      ]
     },
     "execution_count": 24,
     "metadata": {},
     "output_type": "execute_result"
    }
   ],
   "source": [
    "del train\n",
    "del valid\n",
    "gc.collect()"
   ]
  },
  {
   "cell_type": "markdown",
   "id": "9f1440c1",
   "metadata": {},
   "source": [
    "Let's define our categorical and label columns. Note that in that example we do not have numerical columns."
   ]
  },
  {
   "cell_type": "code",
   "execution_count": 25,
   "id": "a48835d2",
   "metadata": {},
   "outputs": [],
   "source": [
    "CATEGORICAL_COLUMNS = [\"userId\", \"movieId\", \"genres\"]\n",
    "LABEL_COLUMNS = [\"rating\"]"
   ]
  },
  {
   "cell_type": "markdown",
   "id": "a6c58bff",
   "metadata": {},
   "source": [
    "Let's add Categorify op for our categorical features, userId, movieId."
   ]
  },
  {
   "cell_type": "code",
   "execution_count": 26,
   "id": "8ce1cd73",
   "metadata": {},
   "outputs": [],
   "source": [
    "cat_features = CATEGORICAL_COLUMNS >> nvt.ops.Categorify()"
   ]
  },
  {
   "cell_type": "markdown",
   "id": "3369c06a",
   "metadata": {},
   "source": [
    "The ratings are on a scale between 1-5. We want to predict a binary target with 1 are all ratings >=4 and 0 are all ratings <=3. We use the LambdaOp for it."
   ]
  },
  {
   "cell_type": "code",
   "execution_count": 27,
   "id": "06289bee",
   "metadata": {},
   "outputs": [],
   "source": [
    "ratings = nvt.ColumnGroup([\"rating\"]) >> (lambda col: (col > 3).astype(\"int8\"))"
   ]
  },
  {
   "cell_type": "markdown",
   "id": "c1557938",
   "metadata": {},
   "source": [
    "We can visualize our calculation graph."
   ]
  },
  {
   "cell_type": "code",
   "execution_count": 28,
   "id": "7c062f46",
   "metadata": {},
   "outputs": [],
   "source": [
    "output = cat_features + ratings\n",
    "#(output).graph"
   ]
  },
  {
   "cell_type": "markdown",
   "id": "91a8246c",
   "metadata": {},
   "source": [
    "We initialize our NVTabular workflow."
   ]
  },
  {
   "cell_type": "code",
   "execution_count": 29,
   "id": "209eb5d2",
   "metadata": {},
   "outputs": [],
   "source": [
    "workflow = nvt.Workflow(output)"
   ]
  },
  {
   "cell_type": "markdown",
   "id": "21ae495d",
   "metadata": {},
   "source": [
    "We initialize NVTabular Datasets, and use the part_size parameter, which defines the size read into GPU-memory at once, in nvt.Dataset."
   ]
  },
  {
   "cell_type": "code",
   "execution_count": 30,
   "id": "14802b17",
   "metadata": {},
   "outputs": [],
   "source": [
    "train_dataset = nvt.Dataset(BASE_DIR + \"train.parquet\", part_size=\"100MB\")\n",
    "valid_dataset = nvt.Dataset(BASE_DIR + \"valid.parquet\", part_size=\"100MB\")"
   ]
  },
  {
   "cell_type": "markdown",
   "id": "529cd02f",
   "metadata": {},
   "source": [
    "First, we collect the training dataset statistics."
   ]
  },
  {
   "cell_type": "code",
   "execution_count": 31,
   "id": "3c6db085",
   "metadata": {},
   "outputs": [
    {
     "name": "stdout",
     "output_type": "stream",
     "text": [
      "CPU times: user 3.34 s, sys: 796 ms, total: 4.14 s\n",
      "Wall time: 4.32 s\n"
     ]
    },
    {
     "data": {
      "text/plain": [
       "<nvtabular.workflow.workflow.Workflow at 0x7f2ab1c62130>"
      ]
     },
     "execution_count": 31,
     "metadata": {},
     "output_type": "execute_result"
    }
   ],
   "source": [
    "%%time\n",
    "\n",
    "workflow.fit(train_dataset)"
   ]
  },
  {
   "cell_type": "markdown",
   "id": "de98be7e",
   "metadata": {},
   "source": [
    "This step is slightly different for HugeCTR. HugeCTR expect the categorical input columns as `int64` and continuous/label columns as `float32`  We can define output datatypes for our NVTabular workflow."
   ]
  },
  {
   "cell_type": "code",
   "execution_count": 32,
   "id": "0917ab7f",
   "metadata": {},
   "outputs": [],
   "source": [
    "dict_dtypes = {}\n",
    "\n",
    "for col in [\"userId\", \"movieId\"]:\n",
    "    dict_dtypes[col] = np.int64\n",
    "\n",
    "for col in LABEL_COLUMNS:\n",
    "    dict_dtypes[col] = np.float32"
   ]
  },
  {
   "cell_type": "markdown",
   "id": "6da9348e",
   "metadata": {},
   "source": [
    "Note: We do not have numerical output columns"
   ]
  },
  {
   "cell_type": "code",
   "execution_count": 33,
   "id": "3641abde",
   "metadata": {},
   "outputs": [],
   "source": [
    "train_dir = os.path.join(BASE_DIR, \"train\")\n",
    "valid_dir = os.path.join(BASE_DIR, \"valid\")\n",
    "if path.exists(train_dir):\n",
    "    shutil.rmtree(train_dir)\n",
    "if path.exists(valid_dir):\n",
    "    shutil.rmtree(valid_dir)"
   ]
  },
  {
   "cell_type": "markdown",
   "id": "2c3177bf",
   "metadata": {},
   "source": [
    "In addition, we need to provide the data schema to the output calls. We need to define which output columns are `categorical`, `continuous` and which is the `label` columns. NVTabular will write metadata files, which HugeCTR requires to load the data and optimize training."
   ]
  },
  {
   "cell_type": "code",
   "execution_count": 34,
   "id": "f267467a",
   "metadata": {},
   "outputs": [],
   "source": [
    "workflow.transform(train_dataset).to_parquet(\n",
    "    output_path=BASE_DIR + \"train/\",\n",
    "    shuffle=nvt.io.Shuffle.PER_PARTITION,\n",
    "    cats=CATEGORICAL_COLUMNS,\n",
    "    labels=LABEL_COLUMNS,\n",
    "    dtypes=dict_dtypes,\n",
    ")\n",
    "workflow.transform(valid_dataset).to_parquet(\n",
    "    output_path=BASE_DIR + \"valid/\",\n",
    "    shuffle=False,\n",
    "    cats=CATEGORICAL_COLUMNS,\n",
    "    labels=LABEL_COLUMNS,\n",
    "    dtypes=dict_dtypes,\n",
    ")"
   ]
  },
  {
   "cell_type": "code",
   "execution_count": 35,
   "id": "2ae07321",
   "metadata": {},
   "outputs": [
    {
     "name": "stdout",
     "output_type": "stream",
     "text": [
      "_file_list.txt\t_metadata  _metadata.json  part_0.parquet  schema.pbtxt\n"
     ]
    }
   ],
   "source": [
    "!ls $BASE_DIR/train"
   ]
  },
  {
   "cell_type": "code",
   "execution_count": 38,
   "id": "a9403952",
   "metadata": {},
   "outputs": [],
   "source": [
    "dff = cudf.read_parquet(BASE_DIR + \"/train/part_0.parquet\")"
   ]
  },
  {
   "cell_type": "code",
   "execution_count": 39,
   "id": "e84affc2",
   "metadata": {},
   "outputs": [
    {
     "data": {
      "text/html": [
       "<div>\n",
       "<style scoped>\n",
       "    .dataframe tbody tr th:only-of-type {\n",
       "        vertical-align: middle;\n",
       "    }\n",
       "\n",
       "    .dataframe tbody tr th {\n",
       "        vertical-align: top;\n",
       "    }\n",
       "\n",
       "    .dataframe thead th {\n",
       "        text-align: right;\n",
       "    }\n",
       "</style>\n",
       "<table border=\"1\" class=\"dataframe\">\n",
       "  <thead>\n",
       "    <tr style=\"text-align: right;\">\n",
       "      <th></th>\n",
       "      <th>userId</th>\n",
       "      <th>movieId</th>\n",
       "      <th>genres</th>\n",
       "      <th>rating</th>\n",
       "    </tr>\n",
       "  </thead>\n",
       "  <tbody>\n",
       "    <tr>\n",
       "      <th>0</th>\n",
       "      <td>28584</td>\n",
       "      <td>98</td>\n",
       "      <td>[5, 1, 7]</td>\n",
       "      <td>1.0</td>\n",
       "    </tr>\n",
       "    <tr>\n",
       "      <th>1</th>\n",
       "      <td>35690</td>\n",
       "      <td>3340</td>\n",
       "      <td>[1]</td>\n",
       "      <td>1.0</td>\n",
       "    </tr>\n",
       "    <tr>\n",
       "      <th>2</th>\n",
       "      <td>153</td>\n",
       "      <td>4621</td>\n",
       "      <td>[2, 8, 1]</td>\n",
       "      <td>1.0</td>\n",
       "    </tr>\n",
       "    <tr>\n",
       "      <th>3</th>\n",
       "      <td>16906</td>\n",
       "      <td>2297</td>\n",
       "      <td>[8, 1, 4]</td>\n",
       "      <td>1.0</td>\n",
       "    </tr>\n",
       "    <tr>\n",
       "      <th>4</th>\n",
       "      <td>26523</td>\n",
       "      <td>2669</td>\n",
       "      <td>[1]</td>\n",
       "      <td>1.0</td>\n",
       "    </tr>\n",
       "  </tbody>\n",
       "</table>\n",
       "</div>"
      ],
      "text/plain": [
       "   userId  movieId     genres  rating\n",
       "0   28584       98  [5, 1, 7]     1.0\n",
       "1   35690     3340        [1]     1.0\n",
       "2     153     4621  [2, 8, 1]     1.0\n",
       "3   16906     2297  [8, 1, 4]     1.0\n",
       "4   26523     2669        [1]     1.0"
      ]
     },
     "execution_count": 39,
     "metadata": {},
     "output_type": "execute_result"
    }
   ],
   "source": [
    "dff.head()"
   ]
  },
  {
   "cell_type": "markdown",
   "id": "d0cb99f2",
   "metadata": {},
   "source": [
    "## Scaling Accelerated training with HugeCTR"
   ]
  },
  {
   "cell_type": "markdown",
   "id": "284d9307",
   "metadata": {},
   "source": [
    "HugeCTR is a deep learning framework dedicated to recommendation systems. It is written in CUDA C++. As HugeCTR optimizes the training in CUDA++, we need to define the training pipeline and model architecture and execute it via the commandline. We will use the Python API, which is similar to Keras models."
   ]
  },
  {
   "cell_type": "markdown",
   "id": "8544093b",
   "metadata": {},
   "source": [
    "HugeCTR has three main components:\n",
    "* Solver: Specifies various details such as active GPU list, batchsize, and model_file\n",
    "* Optimizer: Specifies the type of optimizer and its hyperparameters\n",
    "* DataReader: Specifies the training/evaludation data\n",
    "* Model: Specifies embeddings, and dense layers. Note that embeddings must precede the dense layers"
   ]
  },
  {
   "cell_type": "markdown",
   "id": "fab9ef4a",
   "metadata": {},
   "source": [
    "**Solver**\n",
    "\n",
    "Let's take a look on the parameter for the `Solver`. We should be familiar from other frameworks for the hyperparameter.\n",
    "\n",
    "```\n",
    "solver = hugectr.CreateSolver(\n",
    "- vvgpu: GPU indices used in the training process, which has two levels. For example: [[0,1],[1,2]] indicates that two nodes are used in the first node. GPUs 0 and 1 are used while GPUs 1 and 2 are used for the second node. It is also possible to specify non-continuous GPU indices such as [0, 2, 4, 7]  \n",
    "- batchsize: Minibatch size used in training\n",
    "- max_eval_batches: Maximum number of batches used in evaluation. It is recommended that the number is equal to or bigger than the actual number of bathces in the evaluation dataset.\n",
    "If max_iter is used, the evaluation happens for max_eval_batches by repeating the evaluation dataset infinitely.\n",
    "On the other hand, with num_epochs, HugeCTR stops the evaluation if all the evaluation data is consumed    \n",
    "- batchsize_eval: Maximum number of batches used in evaluation. It is recommended that the number is equal to or\n",
    "  bigger than the actual number of bathces in the evaluation dataset\n",
    "- mixed_precision: Enables mixed precision training with the scaler specified here. Only 128,256, 512, and 1024 scalers are supported\n",
    ")\n",
    "```"
   ]
  },
  {
   "cell_type": "markdown",
   "id": "52f52379",
   "metadata": {},
   "source": [
    "**Optimizer**\n",
    "\n",
    "The optimizer is the algorithm to update the model parameters. HugeCTR supports the common algorithms.\n",
    "\n",
    "\n",
    "```\n",
    "optimizer = CreateOptimizer(\n",
    "- optimizer_type: Optimizer algorithm - Adam, MomentumSGD, Nesterov, and SGD \n",
    "- learning_rate: Learning Rate for optimizer\n",
    ")\n",
    "```"
   ]
  },
  {
   "cell_type": "markdown",
   "id": "e8674099",
   "metadata": {},
   "source": [
    "**DataReader**\n",
    "\n",
    "The data reader defines the training and evaluation dataset.\n",
    "\n",
    "\n",
    "```\n",
    "reader = hugectr.DataReaderParams(\n",
    "- data_reader_type: Data format to read\n",
    "- source: The training dataset file list. IMPORTANT: This should be a list\n",
    "- eval_source: The evaluation dataset file list.\n",
    "- check_type: The data error detection machanism (Sum: Checksum, None: no detection).\n",
    "- slot_size_array: The list of categorical feature cardinalities\n",
    ")\n",
    "```"
   ]
  },
  {
   "cell_type": "markdown",
   "id": "e60b8a3a",
   "metadata": {},
   "source": [
    "**Model**\n",
    "\n",
    "We initialize the model with the solver, optimizer and data reader:\n",
    "\n",
    "```\n",
    "model = hugectr.Model(solver, reader, optimizer)\n",
    "```\n",
    "\n",
    "We can add multiple layers to the model with `model.add` function. We will focus on:\n",
    "- `Input` defines the input data\n",
    "- `SparseEmbedding` defines the embedding layer\n",
    "- `DenseLayer` defines dense layers, such as fully connected, ReLU, BatchNorm, etc.\n",
    "\n",
    "**HugeCTR organizes the layers by names. For each layer, we define the input and output names.**"
   ]
  },
  {
   "cell_type": "markdown",
   "id": "21d8ac0e",
   "metadata": {},
   "source": [
    "Input layer:\n",
    "\n",
    "This layer is required to define the input data.\n",
    "\n",
    "```\n",
    "hugectr.Input(\n",
    "    label_dim: Number of label columns\n",
    "    label_name: Name of label columns in network architecture\n",
    "    dense_dim: Number of continous columns\n",
    "    dense_name: Name of contiunous columns in network architecture\n",
    "    data_reader_sparse_param_array: Configuration how to read sparse data and its names\n",
    ")\n",
    "```\n",
    "\n",
    "SparseEmbedding:\n",
    "\n",
    "This layer defines embedding table\n",
    "\n",
    "```\n",
    "hugectr.SparseEmbedding(\n",
    "    embedding_type: Different embedding options to distribute embedding tables \n",
    "    workspace_size_per_gpu_in_mb: Maximum embedding table size in MB\n",
    "    embedding_vec_size: Embedding vector size\n",
    "    combiner: Intra-slot reduction op\n",
    "    sparse_embedding_name: Layer name\n",
    "    bottom_name: Input layer names\n",
    "    optimizer: Optimizer to use\n",
    ")\n",
    "```\n",
    "\n",
    "DenseLayer:\n",
    "\n",
    "This layer is copied to each GPU and is normally used for the MLP tower.\n",
    "\n",
    "```\n",
    "hugectr.DenseLayer(\n",
    "    layer_type: Layer type, such as FullyConnected, Reshape, Concat, Loss, BatchNorm, etc.\n",
    "    bottom_names: Input layer names\n",
    "    top_names: Layer name\n",
    "    ...: Depending on the layer type additional parameter can be defined\n",
    ")\n",
    "```\n",
    "\n",
    "This is only a short introduction in the API. You can read more in the official docs: [Python Interface](https://github.com/NVIDIA/HugeCTR/blob/master/docs/python_interface.md) and [Layer Book](https://github.com/NVIDIA/HugeCTR/blob/master/docs/hugectr_layer_book.md)"
   ]
  },
  {
   "cell_type": "markdown",
   "id": "3c06eead",
   "metadata": {},
   "source": [
    "## Let's define our model\n",
    "\n",
    "We walked through the documentation, but it is useful to understand the API. Finally, we can define our model. We will write the model to `./model.py` and execute it afterwards."
   ]
  },
  {
   "cell_type": "markdown",
   "id": "60ac091c",
   "metadata": {},
   "source": [
    "We need the cardinalities of each categorical feature to assign as `slot_size_array` in the model below."
   ]
  },
  {
   "cell_type": "code",
   "execution_count": 40,
   "id": "3ed37c9a",
   "metadata": {},
   "outputs": [
    {
     "name": "stdout",
     "output_type": "stream",
     "text": [
      "({'userId': (162542, 512), 'movieId': (56653, 512)}, {'genres': (21, 16)})\n"
     ]
    }
   ],
   "source": [
    "from nvtabular.ops import get_embedding_sizes\n",
    "\n",
    "embeddings = get_embedding_sizes(workflow)\n",
    "print(embeddings)"
   ]
  },
  {
   "cell_type": "markdown",
   "id": "c8ab2c01",
   "metadata": {},
   "source": [
    "Let's clear the directory and create the output folders"
   ]
  },
  {
   "cell_type": "markdown",
   "id": "3ea4620e",
   "metadata": {},
   "source": [
    "We use `graph_to_json` to convert the model to a JSON configuration, required for the inference."
   ]
  },
  {
   "cell_type": "code",
   "execution_count": 41,
   "id": "00d0a077",
   "metadata": {},
   "outputs": [
    {
     "name": "stdout",
     "output_type": "stream",
     "text": [
      "Writing ./model.py\n"
     ]
    }
   ],
   "source": [
    "%%writefile './model.py'\n",
    "\n",
    "import hugectr\n",
    "from mpi4py import MPI  # noqa\n",
    "\n",
    "solver = hugectr.CreateSolver(\n",
    "    vvgpu=[[3]],\n",
    "    batchsize=2048,\n",
    "    batchsize_eval=2048,\n",
    "    max_eval_batches=160,\n",
    "    i64_input_key=True,\n",
    "    use_mixed_precision=False,\n",
    "    repeat_dataset=True,\n",
    ")\n",
    "optimizer = hugectr.CreateOptimizer(optimizer_type=hugectr.Optimizer_t.Adam)\n",
    "reader = hugectr.DataReaderParams(\n",
    "    data_reader_type=hugectr.DataReaderType_t.Parquet,\n",
    "    source=[\"/model/data/train/_file_list.txt\"],\n",
    "    eval_source=\"/model/data/valid/_file_list.txt\",\n",
    "    check_type=hugectr.Check_t.Non,\n",
    "    slot_size_array=[162542, 56653, 21],\n",
    ")\n",
    "\n",
    "\n",
    "model = hugectr.Model(solver, reader, optimizer)\n",
    "\n",
    "model.add(\n",
    "    hugectr.Input(\n",
    "        label_dim=1,\n",
    "        label_name=\"label\",\n",
    "        dense_dim=0,\n",
    "        dense_name=\"dense\",\n",
    "        data_reader_sparse_param_array=[\n",
    "            hugectr.DataReaderSparseParam(\"data1\", nnz_per_slot=[1, 1, 10], is_fixed_length=False, slot_num=3)\n",
    "        ],\n",
    "    )\n",
    ")\n",
    "model.add(\n",
    "    hugectr.SparseEmbedding(\n",
    "        embedding_type=hugectr.Embedding_t.LocalizedSlotSparseEmbeddingHash,\n",
    "        workspace_size_per_gpu_in_mb=200,\n",
    "        embedding_vec_size=16,\n",
    "        combiner=\"sum\",\n",
    "        sparse_embedding_name=\"sparse_embedding1\",\n",
    "        bottom_name=\"data1\",\n",
    "        optimizer=optimizer,\n",
    "    )\n",
    ")\n",
    "model.add(\n",
    "    hugectr.DenseLayer(\n",
    "        layer_type=hugectr.Layer_t.Reshape,\n",
    "        bottom_names=[\"sparse_embedding1\"],\n",
    "        top_names=[\"reshape1\"],\n",
    "        leading_dim=48,\n",
    "    )\n",
    ")\n",
    "model.add(\n",
    "    hugectr.DenseLayer(\n",
    "        layer_type=hugectr.Layer_t.InnerProduct,\n",
    "        bottom_names=[\"reshape1\"],\n",
    "        top_names=[\"fc1\"],\n",
    "        num_output=128,\n",
    "    )\n",
    ")\n",
    "model.add(\n",
    "    hugectr.DenseLayer(\n",
    "        layer_type=hugectr.Layer_t.ReLU,\n",
    "        bottom_names=[\"fc1\"],\n",
    "        top_names=[\"relu1\"],\n",
    "    )\n",
    ")\n",
    "model.add(\n",
    "    hugectr.DenseLayer(\n",
    "        layer_type=hugectr.Layer_t.InnerProduct,\n",
    "        bottom_names=[\"relu1\"],\n",
    "        top_names=[\"fc2\"],\n",
    "        num_output=128,\n",
    "    )\n",
    ")\n",
    "model.add(\n",
    "    hugectr.DenseLayer(\n",
    "        layer_type=hugectr.Layer_t.ReLU,\n",
    "        bottom_names=[\"fc2\"],\n",
    "        top_names=[\"relu2\"],\n",
    "    )\n",
    ")\n",
    "model.add(\n",
    "    hugectr.DenseLayer(\n",
    "        layer_type=hugectr.Layer_t.InnerProduct,\n",
    "        bottom_names=[\"relu2\"],\n",
    "        top_names=[\"fc3\"],\n",
    "        num_output=1,\n",
    "    )\n",
    ")\n",
    "model.add(\n",
    "    hugectr.DenseLayer(\n",
    "        layer_type=hugectr.Layer_t.BinaryCrossEntropyLoss,\n",
    "        bottom_names=[\"fc3\", \"label\"],\n",
    "        top_names=[\"loss\"],\n",
    "    )\n",
    ")\n",
    "model.compile()\n",
    "model.summary()\n",
    "model.fit(max_iter=2000, display=100, eval_interval=200, snapshot=1900)\n",
    "model.graph_to_json(graph_config_file=\"/model/movielens_hugectr/1/movielens.json\")"
   ]
  },
  {
   "cell_type": "markdown",
   "id": "7295ed0a",
   "metadata": {},
   "source": [
    "We trained our model."
   ]
  },
  {
   "cell_type": "code",
   "execution_count": 42,
   "id": "17a0cd39",
   "metadata": {},
   "outputs": [
    {
     "name": "stdout",
     "output_type": "stream",
     "text": [
      "HugeCTR Version: 3.2\n",
      "====================================================Model Init=====================================================\n",
      "[HUGECTR][08:24:44][INFO][RANK0]: Global seed is 262911398\n",
      "[HUGECTR][08:24:44][INFO][RANK0]: Device to NUMA mapping:\n",
      "  GPU 3 ->  node 0\n",
      "\n",
      "[HUGECTR][08:24:46][WARNING][RANK0]: Peer-to-peer access cannot be fully enabled.\n",
      "[HUGECTR][08:24:46][INFO][RANK0]: Start all2all warmup\n",
      "[HUGECTR][08:24:46][INFO][RANK0]: End all2all warmup\n",
      "[HUGECTR][08:24:46][INFO][RANK0]: Using All-reduce algorithm: NCCL\n",
      "[HUGECTR][08:24:46][INFO][RANK0]: Device 3: Tesla V100-PCIE-32GB\n",
      "[HUGECTR][08:24:46][INFO][RANK0]: num of DataReader workers: 1\n",
      "[HUGECTR][08:24:46][INFO][RANK0]: Vocabulary size: 219216\n",
      "[HUGECTR][08:24:46][INFO][RANK0]: max_vocabulary_size_per_gpu_=3276800\n",
      "[HUGECTR][08:24:46][INFO][RANK0]: Graph analysis to resolve tensor dependency\n",
      "===================================================Model Compile===================================================\n",
      "[HUGECTR][08:24:48][INFO][RANK0]: gpu0 start to init embedding\n",
      "[HUGECTR][08:24:48][INFO][RANK0]: gpu0 init embedding done\n",
      "[HUGECTR][08:24:48][INFO][RANK0]: Starting AUC NCCL warm-up\n",
      "[HUGECTR][08:24:48][INFO][RANK0]: Warm-up done\n",
      "===================================================Model Summary===================================================\n",
      "label                                   Dense                         Sparse                        \n",
      "label                                   dense                          data1                         \n",
      "(None, 1)                               (None, 0)                               \n",
      "------------------------------------------------------------------------------------------------------------------\n",
      "Layer Type                              Input Name                    Output Name                   Output Shape                  \n",
      "------------------------------------------------------------------------------------------------------------------\n",
      "LocalizedSlotSparseEmbeddingHash        data1                         sparse_embedding1             (None, 3, 16)                 \n",
      "Reshape                                 sparse_embedding1             reshape1                      (None, 48)                    \n",
      "InnerProduct                            reshape1                      fc1                           (None, 128)                   \n",
      "ReLU                                    fc1                           relu1                         (None, 128)                   \n",
      "InnerProduct                            relu1                         fc2                           (None, 128)                   \n",
      "ReLU                                    fc2                           relu2                         (None, 128)                   \n",
      "InnerProduct                            relu2                         fc3                           (None, 1)                     \n",
      "BinaryCrossEntropyLoss                  fc3,label                     loss                                                        \n",
      "------------------------------------------------------------------------------------------------------------------\n",
      "=====================================================Model Fit=====================================================\n",
      "[HUGECTR][08:24:48][INFO][RANK0]: Use non-epoch mode with number of iterations: 2000\n",
      "[HUGECTR][08:24:48][INFO][RANK0]: Training batchsize: 2048, evaluation batchsize: 2048\n",
      "[HUGECTR][08:24:48][INFO][RANK0]: Evaluation interval: 200, snapshot interval: 1900\n",
      "[HUGECTR][08:24:48][INFO][RANK0]: Sparse embedding trainable: 1, dense network trainable: 1\n",
      "[HUGECTR][08:24:48][INFO][RANK0]: Use mixed precision: 0, scaler: 1, use cuda graph: 2137837130\n",
      "[HUGECTR][08:24:48][INFO][RANK0]: lr: 0.001000, warmup_steps: 1, decay_start: 0, decay_steps: 1, decay_power: 2.000000, end_lr: 0.000000\n",
      "[HUGECTR][08:24:48][INFO][RANK0]: Training source file: /model/data/train/_file_list.txt\n",
      "[HUGECTR][08:24:48][INFO][RANK0]: Evaluation source file: /model/data/valid/_file_list.txt\n",
      "[HUGECTR][08:24:48][INFO][RANK0]: Iter: 100 Time(100 iters): 0.237222s Loss: 0.599877 lr:0.001000\n",
      "[HUGECTR][08:24:48][INFO][RANK0]: Iter: 200 Time(100 iters): 0.233033s Loss: 0.561987 lr:0.001000\n",
      "[HUGECTR][08:24:48][INFO][RANK0]: Evaluation, AUC: 0.748063\n",
      "[HUGECTR][08:24:48][INFO][RANK0]: Eval Time for 160 iters: 0.029850s\n",
      "[HUGECTR][08:24:49][INFO][RANK0]: Iter: 300 Time(100 iters): 0.264095s Loss: 0.545734 lr:0.001000\n",
      "[HUGECTR][08:24:49][INFO][RANK0]: Iter: 400 Time(100 iters): 0.233068s Loss: 0.552889 lr:0.001000\n",
      "[HUGECTR][08:24:49][INFO][RANK0]: Evaluation, AUC: 0.766551\n",
      "[HUGECTR][08:24:49][INFO][RANK0]: Eval Time for 160 iters: 0.029911s\n",
      "[HUGECTR][08:24:49][INFO][RANK0]: Iter: 500 Time(100 iters): 0.294182s Loss: 0.536627 lr:0.001000\n",
      "[HUGECTR][08:24:49][INFO][RANK0]: Iter: 600 Time(100 iters): 0.233301s Loss: 0.551799 lr:0.001000\n",
      "[HUGECTR][08:24:49][INFO][RANK0]: Evaluation, AUC: 0.774019\n",
      "[HUGECTR][08:24:49][INFO][RANK0]: Eval Time for 160 iters: 0.028862s\n",
      "[HUGECTR][08:24:50][INFO][RANK0]: Iter: 700 Time(100 iters): 0.263164s Loss: 0.552280 lr:0.001000\n",
      "[HUGECTR][08:24:50][INFO][RANK0]: Iter: 800 Time(100 iters): 0.233222s Loss: 0.537739 lr:0.001000\n",
      "[HUGECTR][08:24:50][INFO][RANK0]: Evaluation, AUC: 0.779055\n",
      "[HUGECTR][08:24:50][INFO][RANK0]: Eval Time for 160 iters: 0.061518s\n",
      "[HUGECTR][08:24:50][INFO][RANK0]: Iter: 900 Time(100 iters): 0.295963s Loss: 0.547214 lr:0.001000\n",
      "[HUGECTR][08:24:50][INFO][RANK0]: Iter: 1000 Time(100 iters): 0.262252s Loss: 0.553276 lr:0.001000\n",
      "[HUGECTR][08:24:50][INFO][RANK0]: Evaluation, AUC: 0.783419\n",
      "[HUGECTR][08:24:50][INFO][RANK0]: Eval Time for 160 iters: 0.029384s\n",
      "[HUGECTR][08:24:51][INFO][RANK0]: Iter: 1100 Time(100 iters): 0.263913s Loss: 0.525009 lr:0.001000\n",
      "[HUGECTR][08:24:51][INFO][RANK0]: Iter: 1200 Time(100 iters): 0.233401s Loss: 0.535338 lr:0.001000\n",
      "[HUGECTR][08:24:51][INFO][RANK0]: Evaluation, AUC: 0.788443\n",
      "[HUGECTR][08:24:51][INFO][RANK0]: Eval Time for 160 iters: 0.029681s\n",
      "[HUGECTR][08:24:51][INFO][RANK0]: Iter: 1300 Time(100 iters): 0.263982s Loss: 0.512936 lr:0.001000\n",
      "[HUGECTR][08:24:51][INFO][RANK0]: Iter: 1400 Time(100 iters): 0.233197s Loss: 0.522590 lr:0.001000\n",
      "[HUGECTR][08:24:51][INFO][RANK0]: Evaluation, AUC: 0.791929\n",
      "[HUGECTR][08:24:51][INFO][RANK0]: Eval Time for 160 iters: 0.061078s\n",
      "[HUGECTR][08:24:52][INFO][RANK0]: Iter: 1500 Time(100 iters): 0.325465s Loss: 0.526607 lr:0.001000\n",
      "[HUGECTR][08:24:52][INFO][RANK0]: Iter: 1600 Time(100 iters): 0.233602s Loss: 0.509995 lr:0.001000\n",
      "[HUGECTR][08:24:52][INFO][RANK0]: Evaluation, AUC: 0.795853\n",
      "[HUGECTR][08:24:52][INFO][RANK0]: Eval Time for 160 iters: 0.028767s\n",
      "[HUGECTR][08:24:52][INFO][RANK0]: Iter: 1700 Time(100 iters): 0.263246s Loss: 0.517645 lr:0.001000\n",
      "[HUGECTR][08:24:52][INFO][RANK0]: Iter: 1800 Time(100 iters): 0.233246s Loss: 0.522451 lr:0.001000\n",
      "[HUGECTR][08:24:52][INFO][RANK0]: Evaluation, AUC: 0.795728\n",
      "[HUGECTR][08:24:52][INFO][RANK0]: Eval Time for 160 iters: 0.028972s\n",
      "[HUGECTR][08:24:53][INFO][RANK0]: Iter: 1900 Time(100 iters): 0.263459s Loss: 0.517955 lr:0.001000\n",
      "[HUGECTR][08:24:53][INFO][RANK0]: Rank0: Dump hash table from GPU0\n",
      "[HUGECTR][08:24:53][INFO][RANK0]: Rank0: Write hash table <key,value> pairs to file\n",
      "[HUGECTR][08:24:53][INFO][RANK0]: Done\n",
      "[HUGECTR][08:24:53][INFO][RANK0]: Dumping sparse weights to files, successful\n",
      "[HUGECTR][08:24:53][INFO][RANK0]: Rank0: Write optimzer state to file\n",
      "[HUGECTR][08:24:53][INFO][RANK0]: Done\n",
      "[HUGECTR][08:24:53][INFO][RANK0]: Rank0: Write optimzer state to file\n",
      "[HUGECTR][08:24:53][INFO][RANK0]: Done\n",
      "[HUGECTR][08:24:54][INFO][RANK0]: Dumping sparse optimzer states to files, successful\n",
      "[HUGECTR][08:24:54][INFO][RANK0]: Dumping dense weights to file, successful\n",
      "[HUGECTR][08:24:54][INFO][RANK0]: Dumping dense optimizer states to file, successful\n",
      "[HUGECTR][08:24:54][INFO][RANK0]: Dumping untrainable weights to file, successful\n",
      "[HUGECTR][08:24:54][INFO][RANK0]: Finish 2000 iterations with batchsize: 2048 in 6.08s.\n",
      "[HUGECTR][08:24:54][INFO][RANK0]: Save the model graph to /model/movielens_hugectr/1/movielens.json successfully\n"
     ]
    }
   ],
   "source": [
    "!python model.py"
   ]
  },
  {
   "cell_type": "markdown",
   "id": "4bbd54db",
   "metadata": {},
   "source": [
    "After training terminates, we can see that multiple `.model` files and folders are generated. We need to move them inside `1` folder under the `movielens_hugectr` folder. Let's create these folders first."
   ]
  },
  {
   "cell_type": "markdown",
   "id": "4a18556c",
   "metadata": {},
   "source": [
    "Now we move our saved `.model` files inside `1` folder."
   ]
  },
  {
   "cell_type": "code",
   "execution_count": 43,
   "id": "18643916",
   "metadata": {},
   "outputs": [
    {
     "name": "stdout",
     "output_type": "stream",
     "text": [
      "mv: target '/model/movielens_hugectr/1/' is not a directory\n"
     ]
    }
   ],
   "source": [
    "!mv *.model /model/movielens_hugectr/1/"
   ]
  },
  {
   "cell_type": "code",
   "execution_count": null,
   "id": "13661ce1",
   "metadata": {},
   "outputs": [],
   "source": []
  }
 ],
 "metadata": {
  "kernelspec": {
   "display_name": "Python 3 (ipykernel)",
   "language": "python",
   "name": "python3"
  },
  "language_info": {
   "codemirror_mode": {
    "name": "ipython",
    "version": 3
   },
   "file_extension": ".py",
   "mimetype": "text/x-python",
   "name": "python",
   "nbconvert_exporter": "python",
   "pygments_lexer": "ipython3",
   "version": "3.8.10"
  }
 },
 "nbformat": 4,
 "nbformat_minor": 5
}
