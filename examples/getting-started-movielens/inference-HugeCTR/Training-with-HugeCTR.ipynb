{
 "cells": [
  {
   "cell_type": "code",
   "execution_count": 1,
   "id": "8583aeb3",
   "metadata": {},
   "outputs": [],
   "source": [
    "# Copyright 2021 NVIDIA Corporation. All Rights Reserved.\n",
    "#\n",
    "# Licensed under the Apache License, Version 2.0 (the \"License\");\n",
    "# you may not use this file except in compliance with the License.\n",
    "# You may obtain a copy of the License at\n",
    "#\n",
    "#     http://www.apache.org/licenses/LICENSE-2.0\n",
    "#\n",
    "# Unless required by applicable law or agreed to in writing, software\n",
    "# distributed under the License is distributed on an \"AS IS\" BASIS,\n",
    "# WITHOUT WARRANTIES OR CONDITIONS OF ANY KIND, either express or implied.\n",
    "# See the License for the specific language governing permissions and\n",
    "# limitations under the License.\n",
    "# =============================================================================="
   ]
  },
  {
   "cell_type": "markdown",
   "id": "53145162",
   "metadata": {},
   "source": [
    "<img src=\"http://developer.download.nvidia.com/compute/machine-learning/frameworks/nvidia_logo.png\" style=\"width: 90px; float: right;\">\n",
    "\n",
    "## Overview\n",
    "\n",
    "In this notebook, we want to provide an overview what HugeCTR framework is, its features and benefits. We will use HugeCTR to train a basic neural network architecture and deploy the saved model to Triton Inference Server. \n",
    "\n",
    "<b>Learning Objectives</b>:\n",
    "* Adopt NVTabular workflow to provide input files to HugeCTR\n",
    "* Define HugeCTR neural network architecture\n",
    "* Train a deep learning model with HugeCTR\n",
    "* Deploy HugeCTR to Triton Inference Server"
   ]
  },
  {
   "cell_type": "markdown",
   "id": "f2c14e83",
   "metadata": {},
   "source": [
    "### Why using HugeCTR?\n",
    "\n",
    "HugeCTR is a GPU-accelerated recommender framework designed to distribute training across multiple GPUs and nodes and estimate Click-Through Rates (CTRs).<br>\n",
    "\n",
    "HugeCTR offers multiple advantages to train deep learning recommender systems:\n",
    "1. **Speed**: HugeCTR is a highly efficient framework written C++. We experienced up to 10x speed up. HugeCTR on a NVIDIA DGX A100 system proved to be the fastest commercially available solution for training the architecture Deep Learning Recommender Model (DLRM) developed by Facebook.\n",
    "2. **Scale**: HugeCTR supports model parallel scaling. It distributes the large embedding tables over multiple GPUs or multiple nodes. \n",
    "3. **Easy-to-use**: Easy-to-use Python API similar to Keras. Examples for popular deep learning recommender systems architectures (Wide&Deep, DLRM, DCN, DeepFM) are available."
   ]
  },
  {
   "cell_type": "markdown",
   "id": "06141872",
   "metadata": {},
   "source": [
    "### Other Features of HugeCTR\n",
    "\n",
    "HugeCTR is designed to scale deep learning models for recommender systems. It provides a list of other important features:\n",
    "* Proficiency in oversubscribing models to train embedding tables with single nodes that don’t fit within the GPU or CPU memory (only required embeddings are prefetched from a parameter server per batch)\n",
    "* Asynchronous and multithreaded data pipelines\n",
    "* A highly optimized data loader.\n",
    "* Supported data formats such as parquet and binary\n",
    "* Integration with Triton Inference Server for deployment to production\n"
   ]
  },
  {
   "cell_type": "markdown",
   "id": "f4f9946c",
   "metadata": {},
   "source": [
    "### Getting Started"
   ]
  },
  {
   "cell_type": "markdown",
   "id": "ca2852ed",
   "metadata": {},
   "source": [
    "In this example, we will train a neural network with HugeCTR. We will use NVTabular for preprocessing."
   ]
  },
  {
   "cell_type": "markdown",
   "id": "31229b65",
   "metadata": {},
   "source": [
    "#### Preprocessing and Feature Engineering with NVTabular\n",
    "\n",
    "We use NVTabular to `Categorify` our categorical input columns."
   ]
  },
  {
   "cell_type": "code",
   "execution_count": 5,
   "id": "2d83a582",
   "metadata": {},
   "outputs": [],
   "source": [
    "# External dependencies\n",
    "import os\n",
    "import shutil\n",
    "import gc\n",
    "\n",
    "import nvtabular as nvt\n",
    "import cudf\n",
    "import numpy as np\n",
    "import pandas as pd\n",
    "\n",
    "from os import path\n",
    "from sklearn.model_selection import train_test_split\n",
    "\n",
    "from nvtabular.utils import download_file"
   ]
  },
  {
   "cell_type": "markdown",
   "id": "c538c2ee",
   "metadata": {},
   "source": [
    "We define our base directory, containing the data."
   ]
  },
  {
   "cell_type": "code",
   "execution_count": 3,
   "id": "824ecefd",
   "metadata": {},
   "outputs": [],
   "source": [
    "# path to store raw and preprocessed data\n",
    "BASE_DIR = \"/model/data/\""
   ]
  },
  {
   "cell_type": "markdown",
   "id": "cf474069",
   "metadata": {},
   "source": [
    "If the data is not available in the base directory, we will download and unzip the data."
   ]
  },
  {
   "cell_type": "code",
   "execution_count": 3,
   "id": "e2ecf84d",
   "metadata": {},
   "outputs": [
    {
     "name": "stderr",
     "output_type": "stream",
     "text": [
      "downloading ml-25m.zip: 262MB [02:01, 2.15MB/s]                                                                                                                                                                 \n",
      "unzipping files: 100%|█████████████████████████████████████████████████████████████████████████████████████████████████████████████████████████████████████████████████████████| 8/8 [00:05<00:00,  1.48files/s]\n"
     ]
    }
   ],
   "source": [
    "download_file(\n",
    "    \"http://files.grouplens.org/datasets/movielens/ml-25m.zip\", os.path.join(BASE_DIR, \"ml-25m.zip\")\n",
    ")"
   ]
  },
  {
   "cell_type": "markdown",
   "id": "16d3a7b2",
   "metadata": {},
   "source": [
    "## Preparing the dataset with NVTabular"
   ]
  },
  {
   "cell_type": "markdown",
   "id": "83449765",
   "metadata": {},
   "source": [
    "First, we take a look at the movie metadata.\n",
    "\n",
    "Let's load the movie ratings."
   ]
  },
  {
   "cell_type": "code",
   "execution_count": 4,
   "id": "3cea232e",
   "metadata": {},
   "outputs": [
    {
     "data": {
      "text/html": [
       "<div>\n",
       "<style scoped>\n",
       "    .dataframe tbody tr th:only-of-type {\n",
       "        vertical-align: middle;\n",
       "    }\n",
       "\n",
       "    .dataframe tbody tr th {\n",
       "        vertical-align: top;\n",
       "    }\n",
       "\n",
       "    .dataframe thead th {\n",
       "        text-align: right;\n",
       "    }\n",
       "</style>\n",
       "<table border=\"1\" class=\"dataframe\">\n",
       "  <thead>\n",
       "    <tr style=\"text-align: right;\">\n",
       "      <th></th>\n",
       "      <th>userId</th>\n",
       "      <th>movieId</th>\n",
       "      <th>rating</th>\n",
       "      <th>timestamp</th>\n",
       "    </tr>\n",
       "  </thead>\n",
       "  <tbody>\n",
       "    <tr>\n",
       "      <th>0</th>\n",
       "      <td>1</td>\n",
       "      <td>296</td>\n",
       "      <td>5.0</td>\n",
       "      <td>1147880044</td>\n",
       "    </tr>\n",
       "    <tr>\n",
       "      <th>1</th>\n",
       "      <td>1</td>\n",
       "      <td>306</td>\n",
       "      <td>3.5</td>\n",
       "      <td>1147868817</td>\n",
       "    </tr>\n",
       "    <tr>\n",
       "      <th>2</th>\n",
       "      <td>1</td>\n",
       "      <td>307</td>\n",
       "      <td>5.0</td>\n",
       "      <td>1147868828</td>\n",
       "    </tr>\n",
       "    <tr>\n",
       "      <th>3</th>\n",
       "      <td>1</td>\n",
       "      <td>665</td>\n",
       "      <td>5.0</td>\n",
       "      <td>1147878820</td>\n",
       "    </tr>\n",
       "    <tr>\n",
       "      <th>4</th>\n",
       "      <td>1</td>\n",
       "      <td>899</td>\n",
       "      <td>3.5</td>\n",
       "      <td>1147868510</td>\n",
       "    </tr>\n",
       "  </tbody>\n",
       "</table>\n",
       "</div>"
      ],
      "text/plain": [
       "   userId  movieId  rating   timestamp\n",
       "0       1      296     5.0  1147880044\n",
       "1       1      306     3.5  1147868817\n",
       "2       1      307     5.0  1147868828\n",
       "3       1      665     5.0  1147878820\n",
       "4       1      899     3.5  1147868510"
      ]
     },
     "execution_count": 4,
     "metadata": {},
     "output_type": "execute_result"
    }
   ],
   "source": [
    "ratings = cudf.read_csv(os.path.join(BASE_DIR, \"ml-25m\", \"ratings.csv\"))\n",
    "ratings.head()"
   ]
  },
  {
   "cell_type": "code",
   "execution_count": 5,
   "id": "4899faa2-6f17-48b4-a5eb-f6563ff6fc1f",
   "metadata": {},
   "outputs": [
    {
     "name": "stdout",
     "output_type": "stream",
     "text": [
      "README.txt\t   genome-tags.csv  movies.csv\t tags.csv\n",
      "genome-scores.csv  links.csv\t    ratings.csv\n"
     ]
    }
   ],
   "source": [
    "!ls /model/data/ml-25m"
   ]
  },
  {
   "cell_type": "code",
   "execution_count": 6,
   "id": "18595b15-8477-4abc-a697-7e6bc2d88e67",
   "metadata": {},
   "outputs": [],
   "source": [
    "movies = pd.read_csv(os.path.join(BASE_DIR, \"ml-25m\", \"movies.csv\"))\n",
    "movies = movies[['movieId', 'genres']]\n",
    "movies['genres'] = movies['genres'].apply(lambda x: x.split(\"|\"))\n",
    "movies['num_genre'] = movies['genres'].apply(lambda x: len(x))\n",
    "movies = movies[movies['num_genre'] > 1]\n",
    "movies['genres'] = movies['genres'].apply(lambda x: np.random.choice(np.array(x), 2, replace=False))"
   ]
  },
  {
   "cell_type": "code",
   "execution_count": 7,
   "id": "15f81c10-98e1-4a31-8a81-5ecf41818336",
   "metadata": {},
   "outputs": [
    {
     "data": {
      "text/html": [
       "<div>\n",
       "<style scoped>\n",
       "    .dataframe tbody tr th:only-of-type {\n",
       "        vertical-align: middle;\n",
       "    }\n",
       "\n",
       "    .dataframe tbody tr th {\n",
       "        vertical-align: top;\n",
       "    }\n",
       "\n",
       "    .dataframe thead th {\n",
       "        text-align: right;\n",
       "    }\n",
       "</style>\n",
       "<table border=\"1\" class=\"dataframe\">\n",
       "  <thead>\n",
       "    <tr style=\"text-align: right;\">\n",
       "      <th></th>\n",
       "      <th>movieId</th>\n",
       "      <th>genres</th>\n",
       "    </tr>\n",
       "  </thead>\n",
       "  <tbody>\n",
       "    <tr>\n",
       "      <th>0</th>\n",
       "      <td>1</td>\n",
       "      <td>[Fantasy, Comedy]</td>\n",
       "    </tr>\n",
       "    <tr>\n",
       "      <th>1</th>\n",
       "      <td>2</td>\n",
       "      <td>[Children, Adventure]</td>\n",
       "    </tr>\n",
       "    <tr>\n",
       "      <th>2</th>\n",
       "      <td>3</td>\n",
       "      <td>[Comedy, Romance]</td>\n",
       "    </tr>\n",
       "    <tr>\n",
       "      <th>3</th>\n",
       "      <td>4</td>\n",
       "      <td>[Romance, Drama]</td>\n",
       "    </tr>\n",
       "    <tr>\n",
       "      <th>5</th>\n",
       "      <td>6</td>\n",
       "      <td>[Thriller, Action]</td>\n",
       "    </tr>\n",
       "  </tbody>\n",
       "</table>\n",
       "</div>"
      ],
      "text/plain": [
       "   movieId                 genres\n",
       "0        1      [Fantasy, Comedy]\n",
       "1        2  [Children, Adventure]\n",
       "2        3      [Comedy, Romance]\n",
       "3        4       [Romance, Drama]\n",
       "5        6     [Thriller, Action]"
      ]
     },
     "execution_count": 7,
     "metadata": {},
     "output_type": "execute_result"
    }
   ],
   "source": [
    "movies.drop(columns='num_genre', inplace=True)\n",
    "movies = cudf.from_pandas(movies)\n",
    "movies.head()"
   ]
  },
  {
   "cell_type": "markdown",
   "id": "397b91bc",
   "metadata": {},
   "source": [
    "We drop the timestamp column and split the ratings into training and test dataset. We use a simple random split."
   ]
  },
  {
   "cell_type": "code",
   "execution_count": 8,
   "id": "c130abae",
   "metadata": {},
   "outputs": [
    {
     "data": {
      "text/html": [
       "<div>\n",
       "<style scoped>\n",
       "    .dataframe tbody tr th:only-of-type {\n",
       "        vertical-align: middle;\n",
       "    }\n",
       "\n",
       "    .dataframe tbody tr th {\n",
       "        vertical-align: top;\n",
       "    }\n",
       "\n",
       "    .dataframe thead th {\n",
       "        text-align: right;\n",
       "    }\n",
       "</style>\n",
       "<table border=\"1\" class=\"dataframe\">\n",
       "  <thead>\n",
       "    <tr style=\"text-align: right;\">\n",
       "      <th></th>\n",
       "      <th>userId</th>\n",
       "      <th>movieId</th>\n",
       "      <th>rating</th>\n",
       "    </tr>\n",
       "  </thead>\n",
       "  <tbody>\n",
       "    <tr>\n",
       "      <th>0</th>\n",
       "      <td>1</td>\n",
       "      <td>296</td>\n",
       "      <td>5.0</td>\n",
       "    </tr>\n",
       "    <tr>\n",
       "      <th>1</th>\n",
       "      <td>1</td>\n",
       "      <td>306</td>\n",
       "      <td>3.5</td>\n",
       "    </tr>\n",
       "    <tr>\n",
       "      <th>2</th>\n",
       "      <td>1</td>\n",
       "      <td>307</td>\n",
       "      <td>5.0</td>\n",
       "    </tr>\n",
       "    <tr>\n",
       "      <th>3</th>\n",
       "      <td>1</td>\n",
       "      <td>665</td>\n",
       "      <td>5.0</td>\n",
       "    </tr>\n",
       "    <tr>\n",
       "      <th>4</th>\n",
       "      <td>1</td>\n",
       "      <td>899</td>\n",
       "      <td>3.5</td>\n",
       "    </tr>\n",
       "  </tbody>\n",
       "</table>\n",
       "</div>"
      ],
      "text/plain": [
       "   userId  movieId  rating\n",
       "0       1      296     5.0\n",
       "1       1      306     3.5\n",
       "2       1      307     5.0\n",
       "3       1      665     5.0\n",
       "4       1      899     3.5"
      ]
     },
     "execution_count": 8,
     "metadata": {},
     "output_type": "execute_result"
    }
   ],
   "source": [
    "ratings = ratings.drop(\"timestamp\", axis=1)\n",
    "ratings.head()"
   ]
  },
  {
   "cell_type": "code",
   "execution_count": 10,
   "id": "592226fa-e4ae-41ac-ae34-304a4c906b48",
   "metadata": {},
   "outputs": [
    {
     "data": {
      "text/html": [
       "<div>\n",
       "<style scoped>\n",
       "    .dataframe tbody tr th:only-of-type {\n",
       "        vertical-align: middle;\n",
       "    }\n",
       "\n",
       "    .dataframe tbody tr th {\n",
       "        vertical-align: top;\n",
       "    }\n",
       "\n",
       "    .dataframe thead th {\n",
       "        text-align: right;\n",
       "    }\n",
       "</style>\n",
       "<table border=\"1\" class=\"dataframe\">\n",
       "  <thead>\n",
       "    <tr style=\"text-align: right;\">\n",
       "      <th></th>\n",
       "      <th>userId</th>\n",
       "      <th>movieId</th>\n",
       "      <th>rating</th>\n",
       "      <th>genres</th>\n",
       "    </tr>\n",
       "  </thead>\n",
       "  <tbody>\n",
       "    <tr>\n",
       "      <th>0</th>\n",
       "      <td>187</td>\n",
       "      <td>87522</td>\n",
       "      <td>3.5</td>\n",
       "      <td>[Romance, Comedy]</td>\n",
       "    </tr>\n",
       "    <tr>\n",
       "      <th>1</th>\n",
       "      <td>187</td>\n",
       "      <td>87529</td>\n",
       "      <td>3.5</td>\n",
       "      <td>[Adventure, Comedy]</td>\n",
       "    </tr>\n",
       "    <tr>\n",
       "      <th>2</th>\n",
       "      <td>187</td>\n",
       "      <td>87869</td>\n",
       "      <td>4.0</td>\n",
       "      <td>[Comedy, Crime]</td>\n",
       "    </tr>\n",
       "    <tr>\n",
       "      <th>3</th>\n",
       "      <td>187</td>\n",
       "      <td>87876</td>\n",
       "      <td>4.0</td>\n",
       "      <td>[Comedy, Adventure]</td>\n",
       "    </tr>\n",
       "    <tr>\n",
       "      <th>4</th>\n",
       "      <td>187</td>\n",
       "      <td>87911</td>\n",
       "      <td>4.0</td>\n",
       "      <td>[Drama, Thriller]</td>\n",
       "    </tr>\n",
       "  </tbody>\n",
       "</table>\n",
       "</div>"
      ],
      "text/plain": [
       "   userId  movieId  rating               genres\n",
       "0     187    87522     3.5    [Romance, Comedy]\n",
       "1     187    87529     3.5  [Adventure, Comedy]\n",
       "2     187    87869     4.0      [Comedy, Crime]\n",
       "3     187    87876     4.0  [Comedy, Adventure]\n",
       "4     187    87911     4.0    [Drama, Thriller]"
      ]
     },
     "execution_count": 10,
     "metadata": {},
     "output_type": "execute_result"
    }
   ],
   "source": [
    "combined = movies.merge(ratings, how='right', on=['movieId'])\n",
    "combined.dropna(how='any', inplace=True)\n",
    "combined.head()"
   ]
  },
  {
   "cell_type": "code",
   "execution_count": 11,
   "id": "185e4a76",
   "metadata": {},
   "outputs": [
    {
     "data": {
      "text/html": [
       "<div>\n",
       "<style scoped>\n",
       "    .dataframe tbody tr th:only-of-type {\n",
       "        vertical-align: middle;\n",
       "    }\n",
       "\n",
       "    .dataframe tbody tr th {\n",
       "        vertical-align: top;\n",
       "    }\n",
       "\n",
       "    .dataframe thead th {\n",
       "        text-align: right;\n",
       "    }\n",
       "</style>\n",
       "<table border=\"1\" class=\"dataframe\">\n",
       "  <thead>\n",
       "    <tr style=\"text-align: right;\">\n",
       "      <th></th>\n",
       "      <th>userId</th>\n",
       "      <th>movieId</th>\n",
       "      <th>rating</th>\n",
       "      <th>genres</th>\n",
       "    </tr>\n",
       "  </thead>\n",
       "  <tbody>\n",
       "    <tr>\n",
       "      <th>22828912</th>\n",
       "      <td>148460</td>\n",
       "      <td>7153</td>\n",
       "      <td>3.5</td>\n",
       "      <td>[Fantasy, Drama]</td>\n",
       "    </tr>\n",
       "    <tr>\n",
       "      <th>6187299</th>\n",
       "      <td>39954</td>\n",
       "      <td>3477</td>\n",
       "      <td>4.0</td>\n",
       "      <td>[Comedy, Drama]</td>\n",
       "    </tr>\n",
       "    <tr>\n",
       "      <th>4398075</th>\n",
       "      <td>28983</td>\n",
       "      <td>1127</td>\n",
       "      <td>3.0</td>\n",
       "      <td>[Sci-Fi, Adventure]</td>\n",
       "    </tr>\n",
       "    <tr>\n",
       "      <th>3879844</th>\n",
       "      <td>25431</td>\n",
       "      <td>1201</td>\n",
       "      <td>3.5</td>\n",
       "      <td>[Adventure, Action]</td>\n",
       "    </tr>\n",
       "    <tr>\n",
       "      <th>8768032</th>\n",
       "      <td>57127</td>\n",
       "      <td>2628</td>\n",
       "      <td>2.0</td>\n",
       "      <td>[Action, Adventure]</td>\n",
       "    </tr>\n",
       "  </tbody>\n",
       "</table>\n",
       "</div>"
      ],
      "text/plain": [
       "          userId  movieId  rating               genres\n",
       "22828912  148460     7153     3.5     [Fantasy, Drama]\n",
       "6187299    39954     3477     4.0      [Comedy, Drama]\n",
       "4398075    28983     1127     3.0  [Sci-Fi, Adventure]\n",
       "3879844    25431     1201     3.5  [Adventure, Action]\n",
       "8768032    57127     2628     2.0  [Action, Adventure]"
      ]
     },
     "execution_count": 11,
     "metadata": {},
     "output_type": "execute_result"
    }
   ],
   "source": [
    "train, valid = train_test_split(combined, test_size=0.2, random_state=42)\n",
    "train.head()"
   ]
  },
  {
   "cell_type": "markdown",
   "id": "8892ebb2",
   "metadata": {},
   "source": [
    "We save our train and valid datasets as parquet files on disk, and below we will read them in while initializing the Dataset objects."
   ]
  },
  {
   "cell_type": "code",
   "execution_count": 12,
   "id": "cdc3aafe",
   "metadata": {},
   "outputs": [],
   "source": [
    "train.to_parquet(BASE_DIR + \"train.parquet\")\n",
    "valid.to_parquet(BASE_DIR + \"valid.parquet\")"
   ]
  },
  {
   "cell_type": "code",
   "execution_count": 13,
   "id": "ae1d2dca",
   "metadata": {},
   "outputs": [
    {
     "data": {
      "text/plain": [
       "46"
      ]
     },
     "execution_count": 13,
     "metadata": {},
     "output_type": "execute_result"
    }
   ],
   "source": [
    "del train\n",
    "del valid\n",
    "gc.collect()"
   ]
  },
  {
   "cell_type": "markdown",
   "id": "61623eb7",
   "metadata": {},
   "source": [
    "Let's define our categorical and label columns. Note that in that example we do not have numerical columns."
   ]
  },
  {
   "cell_type": "code",
   "execution_count": 14,
   "id": "944ef63b",
   "metadata": {},
   "outputs": [],
   "source": [
    "CATEGORICAL_COLUMNS = [\"userId\", \"movieId\", \"genres\"]\n",
    "LABEL_COLUMNS = [\"rating\"]"
   ]
  },
  {
   "cell_type": "markdown",
   "id": "3cfdf9c4",
   "metadata": {},
   "source": [
    "Let's add Categorify op for our categorical features, userId, movieId."
   ]
  },
  {
   "cell_type": "code",
   "execution_count": 15,
   "id": "ac64541b",
   "metadata": {},
   "outputs": [],
   "source": [
    "cat_features = CATEGORICAL_COLUMNS >> nvt.ops.Categorify()"
   ]
  },
  {
   "cell_type": "markdown",
   "id": "499a9160",
   "metadata": {},
   "source": [
    "The ratings are on a scale between 1-5. We want to predict a binary target with 1 are all ratings >=4 and 0 are all ratings <=3. We use the LambdaOp for it."
   ]
  },
  {
   "cell_type": "code",
   "execution_count": 16,
   "id": "a3c2eaee",
   "metadata": {},
   "outputs": [],
   "source": [
    "ratings = nvt.ColumnGroup([\"rating\"]) >> (lambda col: (col > 3).astype(\"int8\"))"
   ]
  },
  {
   "cell_type": "markdown",
   "id": "18f0fe5e",
   "metadata": {},
   "source": [
    "We can visualize our calculation graph."
   ]
  },
  {
   "cell_type": "code",
   "execution_count": 17,
   "id": "cb8983ed",
   "metadata": {},
   "outputs": [],
   "source": [
    "output = cat_features + ratings\n",
    "#(output).graph"
   ]
  },
  {
   "cell_type": "markdown",
   "id": "c6eb2208",
   "metadata": {},
   "source": [
    "We initialize our NVTabular workflow."
   ]
  },
  {
   "cell_type": "code",
   "execution_count": 18,
   "id": "99696044",
   "metadata": {},
   "outputs": [],
   "source": [
    "workflow = nvt.Workflow(output)"
   ]
  },
  {
   "cell_type": "markdown",
   "id": "364bd5bf",
   "metadata": {},
   "source": [
    "We initialize NVTabular Datasets, and use the part_size parameter, which defines the size read into GPU-memory at once, in nvt.Dataset."
   ]
  },
  {
   "cell_type": "code",
   "execution_count": 19,
   "id": "f264042d",
   "metadata": {},
   "outputs": [],
   "source": [
    "train_dataset = nvt.Dataset(BASE_DIR + \"train.parquet\", part_size=\"100MB\")\n",
    "valid_dataset = nvt.Dataset(BASE_DIR + \"valid.parquet\", part_size=\"100MB\")"
   ]
  },
  {
   "cell_type": "markdown",
   "id": "dcd6867a",
   "metadata": {},
   "source": [
    "First, we collect the training dataset statistics."
   ]
  },
  {
   "cell_type": "code",
   "execution_count": 20,
   "id": "906d2cba",
   "metadata": {},
   "outputs": [
    {
     "name": "stdout",
     "output_type": "stream",
     "text": [
      "CPU times: user 2.32 s, sys: 384 ms, total: 2.71 s\n",
      "Wall time: 10.5 s\n"
     ]
    }
   ],
   "source": [
    "%%time\n",
    "\n",
    "workflow.fit(train_dataset)"
   ]
  },
  {
   "cell_type": "markdown",
   "id": "b0a7c934",
   "metadata": {},
   "source": [
    "This step is slightly different for HugeCTR. HugeCTR expect the categorical input columns as `int64` and continuous/label columns as `float32`  We can define output datatypes for our NVTabular workflow."
   ]
  },
  {
   "cell_type": "code",
   "execution_count": 21,
   "id": "f827683f",
   "metadata": {},
   "outputs": [],
   "source": [
    "dict_dtypes = {}\n",
    "\n",
    "for col in [\"userId\", \"movieId\"]:\n",
    "    dict_dtypes[col] = np.int64\n",
    "\n",
    "for col in LABEL_COLUMNS:\n",
    "    dict_dtypes[col] = np.float32"
   ]
  },
  {
   "cell_type": "markdown",
   "id": "14cf6b9b",
   "metadata": {},
   "source": [
    "Note: We do not have numerical output columns"
   ]
  },
  {
   "cell_type": "code",
   "execution_count": 22,
   "id": "d0632270",
   "metadata": {},
   "outputs": [],
   "source": [
    "train_dir = os.path.join(BASE_DIR, \"train\")\n",
    "valid_dir = os.path.join(BASE_DIR, \"valid\")\n",
    "if path.exists(train_dir):\n",
    "    shutil.rmtree(train_dir)\n",
    "if path.exists(valid_dir):\n",
    "    shutil.rmtree(valid_dir)"
   ]
  },
  {
   "cell_type": "markdown",
   "id": "4976be09",
   "metadata": {},
   "source": [
    "In addition, we need to provide the data schema to the output calls. We need to define which output columns are `categorical`, `continuous` and which is the `label` columns. NVTabular will write metadata files, which HugeCTR requires to load the data and optimize training."
   ]
  },
  {
   "cell_type": "code",
   "execution_count": 23,
   "id": "8c9d0955",
   "metadata": {},
   "outputs": [],
   "source": [
    "workflow.transform(train_dataset).to_parquet(\n",
    "    output_path=BASE_DIR + \"train/\",\n",
    "    shuffle=nvt.io.Shuffle.PER_PARTITION,\n",
    "    cats=CATEGORICAL_COLUMNS,\n",
    "    labels=LABEL_COLUMNS,\n",
    "    dtypes=dict_dtypes,\n",
    ")\n",
    "workflow.transform(valid_dataset).to_parquet(\n",
    "    output_path=BASE_DIR + \"valid/\",\n",
    "    shuffle=False,\n",
    "    cats=CATEGORICAL_COLUMNS,\n",
    "    labels=LABEL_COLUMNS,\n",
    "    dtypes=dict_dtypes,\n",
    ")"
   ]
  },
  {
   "cell_type": "code",
   "execution_count": 35,
   "id": "9657f45c-140f-4cf0-8114-6bc0e141678d",
   "metadata": {},
   "outputs": [
    {
     "name": "stdout",
     "output_type": "stream",
     "text": [
      "0.94b5f166a02e42f2b04d94b668e60004.parquet  _metadata\n",
      "_file_list.txt\t\t\t\t    _metadata.json\n"
     ]
    }
   ],
   "source": [
    "!ls $BASE_DIR/train"
   ]
  },
  {
   "cell_type": "code",
   "execution_count": 36,
   "id": "d6196c91-639f-4fce-9cf9-4e690a1fa625",
   "metadata": {},
   "outputs": [],
   "source": [
    "dff = pd.read_parquet(BASE_DIR + \"/train/0.94b5f166a02e42f2b04d94b668e60004.parquet\")"
   ]
  },
  {
   "cell_type": "code",
   "execution_count": 37,
   "id": "f2e39783-9db3-40d3-b42a-55793ed06db1",
   "metadata": {},
   "outputs": [
    {
     "data": {
      "text/html": [
       "<div>\n",
       "<style scoped>\n",
       "    .dataframe tbody tr th:only-of-type {\n",
       "        vertical-align: middle;\n",
       "    }\n",
       "\n",
       "    .dataframe tbody tr th {\n",
       "        vertical-align: top;\n",
       "    }\n",
       "\n",
       "    .dataframe thead th {\n",
       "        text-align: right;\n",
       "    }\n",
       "</style>\n",
       "<table border=\"1\" class=\"dataframe\">\n",
       "  <thead>\n",
       "    <tr style=\"text-align: right;\">\n",
       "      <th></th>\n",
       "      <th>userId</th>\n",
       "      <th>movieId</th>\n",
       "      <th>genres</th>\n",
       "      <th>rating</th>\n",
       "    </tr>\n",
       "  </thead>\n",
       "  <tbody>\n",
       "    <tr>\n",
       "      <th>0</th>\n",
       "      <td>89679</td>\n",
       "      <td>11175</td>\n",
       "      <td>[5, 8]</td>\n",
       "      <td>1.0</td>\n",
       "    </tr>\n",
       "    <tr>\n",
       "      <th>1</th>\n",
       "      <td>86828</td>\n",
       "      <td>4385</td>\n",
       "      <td>[5, 15]</td>\n",
       "      <td>1.0</td>\n",
       "    </tr>\n",
       "    <tr>\n",
       "      <th>2</th>\n",
       "      <td>66856</td>\n",
       "      <td>736</td>\n",
       "      <td>[11, 16]</td>\n",
       "      <td>1.0</td>\n",
       "    </tr>\n",
       "    <tr>\n",
       "      <th>3</th>\n",
       "      <td>31213</td>\n",
       "      <td>669</td>\n",
       "      <td>[13, 4]</td>\n",
       "      <td>1.0</td>\n",
       "    </tr>\n",
       "    <tr>\n",
       "      <th>4</th>\n",
       "      <td>99412</td>\n",
       "      <td>1033</td>\n",
       "      <td>[15, 8]</td>\n",
       "      <td>1.0</td>\n",
       "    </tr>\n",
       "  </tbody>\n",
       "</table>\n",
       "</div>"
      ],
      "text/plain": [
       "   userId  movieId    genres  rating\n",
       "0   89679    11175    [5, 8]     1.0\n",
       "1   86828     4385   [5, 15]     1.0\n",
       "2   66856      736  [11, 16]     1.0\n",
       "3   31213      669   [13, 4]     1.0\n",
       "4   99412     1033   [15, 8]     1.0"
      ]
     },
     "execution_count": 37,
     "metadata": {},
     "output_type": "execute_result"
    }
   ],
   "source": [
    "dff.head()"
   ]
  },
  {
   "cell_type": "markdown",
   "id": "09548b93",
   "metadata": {},
   "source": [
    "## Scaling Accelerated training with HugeCTR"
   ]
  },
  {
   "cell_type": "markdown",
   "id": "ae175c6c",
   "metadata": {},
   "source": [
    "HugeCTR is a deep learning framework dedicated to recommendation systems. It is written in CUDA C++. As HugeCTR optimizes the training in CUDA++, we need to define the training pipeline and model architecture and execute it via the commandline. We will use the Python API, which is similar to Keras models."
   ]
  },
  {
   "cell_type": "markdown",
   "id": "4870f8e0",
   "metadata": {},
   "source": [
    "HugeCTR has three main components:\n",
    "* Solver: Specifies various details such as active GPU list, batchsize, and model_file\n",
    "* Optimizer: Specifies the type of optimizer and its hyperparameters\n",
    "* DataReader: Specifies the training/evaludation data\n",
    "* Model: Specifies embeddings, and dense layers. Note that embeddings must precede the dense layers"
   ]
  },
  {
   "cell_type": "markdown",
   "id": "f056fa29",
   "metadata": {},
   "source": [
    "**Solver**\n",
    "\n",
    "Let's take a look on the parameter for the `Solver`. We should be familiar from other frameworks for the hyperparameter.\n",
    "\n",
    "```\n",
    "solver = hugectr.CreateSolver(\n",
    "- vvgpu: GPU indices used in the training process, which has two levels. For example: [[0,1],[1,2]] indicates that two nodes are used in the first node. GPUs 0 and 1 are used while GPUs 1 and 2 are used for the second node. It is also possible to specify non-continuous GPU indices such as [0, 2, 4, 7]  \n",
    "- batchsize: Minibatch size used in training\n",
    "- max_eval_batches: Maximum number of batches used in evaluation. It is recommended that the number is equal to or bigger than the actual number of bathces in the evaluation dataset.\n",
    "If max_iter is used, the evaluation happens for max_eval_batches by repeating the evaluation dataset infinitely.\n",
    "On the other hand, with num_epochs, HugeCTR stops the evaluation if all the evaluation data is consumed    \n",
    "- batchsize_eval: Maximum number of batches used in evaluation. It is recommended that the number is equal to or\n",
    "  bigger than the actual number of bathces in the evaluation dataset\n",
    "- mixed_precision: Enables mixed precision training with the scaler specified here. Only 128,256, 512, and 1024 scalers are supported\n",
    ")\n",
    "```"
   ]
  },
  {
   "cell_type": "markdown",
   "id": "ab63fe71",
   "metadata": {},
   "source": [
    "**Optimizer**\n",
    "\n",
    "The optimizer is the algorithm to update the model parameters. HugeCTR supports the common algorithms.\n",
    "\n",
    "\n",
    "```\n",
    "optimizer = CreateOptimizer(\n",
    "- optimizer_type: Optimizer algorithm - Adam, MomentumSGD, Nesterov, and SGD \n",
    "- learning_rate: Learning Rate for optimizer\n",
    ")\n",
    "```"
   ]
  },
  {
   "cell_type": "markdown",
   "id": "3c852787",
   "metadata": {},
   "source": [
    "**DataReader**\n",
    "\n",
    "The data reader defines the training and evaluation dataset.\n",
    "\n",
    "\n",
    "```\n",
    "reader = hugectr.DataReaderParams(\n",
    "- data_reader_type: Data format to read\n",
    "- source: The training dataset file list. IMPORTANT: This should be a list\n",
    "- eval_source: The evaluation dataset file list.\n",
    "- check_type: The data error detection machanism (Sum: Checksum, None: no detection).\n",
    "- slot_size_array: The list of categorical feature cardinalities\n",
    ")\n",
    "```"
   ]
  },
  {
   "cell_type": "markdown",
   "id": "c49501eb",
   "metadata": {},
   "source": [
    "**Model**\n",
    "\n",
    "We initialize the model with the solver, optimizer and data reader:\n",
    "\n",
    "```\n",
    "model = hugectr.Model(solver, reader, optimizer)\n",
    "```\n",
    "\n",
    "We can add multiple layers to the model with `model.add` function. We will focus on:\n",
    "- `Input` defines the input data\n",
    "- `SparseEmbedding` defines the embedding layer\n",
    "- `DenseLayer` defines dense layers, such as fully connected, ReLU, BatchNorm, etc.\n",
    "\n",
    "**HugeCTR organizes the layers by names. For each layer, we define the input and output names.**"
   ]
  },
  {
   "cell_type": "markdown",
   "id": "fc02f26e",
   "metadata": {},
   "source": [
    "Input layer:\n",
    "\n",
    "This layer is required to define the input data.\n",
    "\n",
    "```\n",
    "hugectr.Input(\n",
    "    label_dim: Number of label columns\n",
    "    label_name: Name of label columns in network architecture\n",
    "    dense_dim: Number of continous columns\n",
    "    dense_name: Name of contiunous columns in network architecture\n",
    "    data_reader_sparse_param_array: Configuration how to read sparse data and its names\n",
    ")\n",
    "```\n",
    "\n",
    "SparseEmbedding:\n",
    "\n",
    "This layer defines embedding table\n",
    "\n",
    "```\n",
    "hugectr.SparseEmbedding(\n",
    "    embedding_type: Different embedding options to distribute embedding tables \n",
    "    workspace_size_per_gpu_in_mb: Maximum embedding table size in MB\n",
    "    embedding_vec_size: Embedding vector size\n",
    "    combiner: Intra-slot reduction op\n",
    "    sparse_embedding_name: Layer name\n",
    "    bottom_name: Input layer names\n",
    "    optimizer: Optimizer to use\n",
    ")\n",
    "```\n",
    "\n",
    "DenseLayer:\n",
    "\n",
    "This layer is copied to each GPU and is normally used for the MLP tower.\n",
    "\n",
    "```\n",
    "hugectr.DenseLayer(\n",
    "    layer_type: Layer type, such as FullyConnected, Reshape, Concat, Loss, BatchNorm, etc.\n",
    "    bottom_names: Input layer names\n",
    "    top_names: Layer name\n",
    "    ...: Depending on the layer type additional parameter can be defined\n",
    ")\n",
    "```\n",
    "\n",
    "This is only a short introduction in the API. You can read more in the official docs: [Python Interface](https://github.com/NVIDIA/HugeCTR/blob/master/docs/python_interface.md) and [Layer Book](https://github.com/NVIDIA/HugeCTR/blob/master/docs/hugectr_layer_book.md)"
   ]
  },
  {
   "cell_type": "markdown",
   "id": "59aacb72",
   "metadata": {},
   "source": [
    "## Let's define our model\n",
    "\n",
    "We walked through the documentation, but it is useful to understand the API. Finally, we can define our model. We will write the model to `./model.py` and execute it afterwards."
   ]
  },
  {
   "cell_type": "markdown",
   "id": "49452178",
   "metadata": {},
   "source": [
    "We need the cardinalities of each categorical feature to assign as `slot_size_array` in the model below."
   ]
  },
  {
   "cell_type": "code",
   "execution_count": 24,
   "id": "feceba94",
   "metadata": {},
   "outputs": [
    {
     "name": "stdout",
     "output_type": "stream",
     "text": [
      "({'movieId': (29434, 509), 'userId': (162542, 512)}, {'genres': (20, 16)})\n"
     ]
    }
   ],
   "source": [
    "from nvtabular.ops import get_embedding_sizes\n",
    "\n",
    "embeddings = get_embedding_sizes(workflow)\n",
    "print(embeddings)"
   ]
  },
  {
   "cell_type": "markdown",
   "id": "af77cf68",
   "metadata": {},
   "source": [
    "Let's clear the directory and create the output folders"
   ]
  },
  {
   "cell_type": "markdown",
   "id": "a932bc42",
   "metadata": {},
   "source": [
    "We use `graph_to_json` to convert the model to a JSON configuration, required for the inference."
   ]
  },
  {
   "cell_type": "code",
   "execution_count": 42,
   "id": "168d3855",
   "metadata": {},
   "outputs": [
    {
     "name": "stdout",
     "output_type": "stream",
     "text": [
      "Overwriting ./model.py\n"
     ]
    }
   ],
   "source": [
    "%%writefile './model.py'\n",
    "\n",
    "import hugectr\n",
    "from mpi4py import MPI  # noqa\n",
    "\n",
    "solver = hugectr.CreateSolver(\n",
    "    vvgpu=[[3]],\n",
    "    batchsize=2048,\n",
    "    batchsize_eval=2048,\n",
    "    max_eval_batches=160,\n",
    "    i64_input_key=True,\n",
    "    use_mixed_precision=False,\n",
    "    repeat_dataset=True,\n",
    ")\n",
    "optimizer = hugectr.CreateOptimizer(optimizer_type=hugectr.Optimizer_t.Adam)\n",
    "reader = hugectr.DataReaderParams(\n",
    "    data_reader_type=hugectr.DataReaderType_t.Parquet,\n",
    "    source=[\"/model/data/train/_file_list.txt\"],\n",
    "    eval_source=\"/model/data/valid/_file_list.txt\",\n",
    "    check_type=hugectr.Check_t.Non,\n",
    "    slot_size_array=[162542, 29434, 20],\n",
    ")\n",
    "\n",
    "\n",
    "model = hugectr.Model(solver, reader, optimizer)\n",
    "\n",
    "model.add(\n",
    "    hugectr.Input(\n",
    "        label_dim=1,\n",
    "        label_name=\"label\",\n",
    "        dense_dim=0,\n",
    "        dense_name=\"dense\",\n",
    "        data_reader_sparse_param_array=[\n",
    "            hugectr.DataReaderSparseParam(\"data1\", nnz_per_slot=[1, 1, 2], is_fixed_length=False, slot_num=3)\n",
    "        ],\n",
    "    )\n",
    ")\n",
    "model.add(\n",
    "    hugectr.SparseEmbedding(\n",
    "        embedding_type=hugectr.Embedding_t.LocalizedSlotSparseEmbeddingHash,\n",
    "        workspace_size_per_gpu_in_mb=200,\n",
    "        embedding_vec_size=16,\n",
    "        combiner=\"sum\",\n",
    "        sparse_embedding_name=\"sparse_embedding1\",\n",
    "        bottom_name=\"data1\",\n",
    "        optimizer=optimizer,\n",
    "    )\n",
    ")\n",
    "model.add(\n",
    "    hugectr.DenseLayer(\n",
    "        layer_type=hugectr.Layer_t.Reshape,\n",
    "        bottom_names=[\"sparse_embedding1\"],\n",
    "        top_names=[\"reshape1\"],\n",
    "        leading_dim=48,\n",
    "    )\n",
    ")\n",
    "model.add(\n",
    "    hugectr.DenseLayer(\n",
    "        layer_type=hugectr.Layer_t.InnerProduct,\n",
    "        bottom_names=[\"reshape1\"],\n",
    "        top_names=[\"fc1\"],\n",
    "        num_output=128,\n",
    "    )\n",
    ")\n",
    "model.add(\n",
    "    hugectr.DenseLayer(\n",
    "        layer_type=hugectr.Layer_t.ReLU,\n",
    "        bottom_names=[\"fc1\"],\n",
    "        top_names=[\"relu1\"],\n",
    "    )\n",
    ")\n",
    "model.add(\n",
    "    hugectr.DenseLayer(\n",
    "        layer_type=hugectr.Layer_t.InnerProduct,\n",
    "        bottom_names=[\"relu1\"],\n",
    "        top_names=[\"fc2\"],\n",
    "        num_output=128,\n",
    "    )\n",
    ")\n",
    "model.add(\n",
    "    hugectr.DenseLayer(\n",
    "        layer_type=hugectr.Layer_t.ReLU,\n",
    "        bottom_names=[\"fc2\"],\n",
    "        top_names=[\"relu2\"],\n",
    "    )\n",
    ")\n",
    "model.add(\n",
    "    hugectr.DenseLayer(\n",
    "        layer_type=hugectr.Layer_t.InnerProduct,\n",
    "        bottom_names=[\"relu2\"],\n",
    "        top_names=[\"fc3\"],\n",
    "        num_output=1,\n",
    "    )\n",
    ")\n",
    "model.add(\n",
    "    hugectr.DenseLayer(\n",
    "        layer_type=hugectr.Layer_t.BinaryCrossEntropyLoss,\n",
    "        bottom_names=[\"fc3\", \"label\"],\n",
    "        top_names=[\"loss\"],\n",
    "    )\n",
    ")\n",
    "model.compile()\n",
    "model.summary()\n",
    "model.fit(max_iter=2000, display=100, eval_interval=200, snapshot=1900)\n",
    "model.graph_to_json(graph_config_file=\"/model/movielens_hugectr/1/movielens.json\")"
   ]
  },
  {
   "cell_type": "markdown",
   "id": "e3fce5fa",
   "metadata": {},
   "source": [
    "We trained our model."
   ]
  },
  {
   "cell_type": "code",
   "execution_count": 4,
   "id": "969bfc3c-a5ce-4bba-b1b1-3f5b19a7d9d3",
   "metadata": {},
   "outputs": [
    {
     "name": "stdout",
     "output_type": "stream",
     "text": [
      "====================================================Model Init=====================================================\n",
      "[06d02h00m45s][HUGECTR][INFO]: Global seed is 3979425881\n",
      "[06d02h00m45s][HUGECTR][INFO]: Device to NUMA mapping:\n",
      "  GPU 3 ->  node 1\n",
      "\n",
      "[06d02h00m57s][HUGECTR][INFO]: Peer-to-peer access cannot be fully enabled.\n",
      "[06d02h00m57s][HUGECTR][INFO]: Start all2all warmup\n",
      "[06d02h00m57s][HUGECTR][INFO]: End all2all warmup\n",
      "[06d02h00m57s][HUGECTR][INFO]: Using All-reduce algorithm NCCL\n",
      "Device 3: Tesla T4\n",
      "[06d02h00m57s][HUGECTR][INFO]: num of DataReader workers: 1\n",
      "[06d02h00m57s][HUGECTR][INFO]: Vocabulary size: 191996\n",
      "[06d02h00m57s][HUGECTR][INFO]: max_vocabulary_size_per_gpu_=3276800\n",
      "[06d02h00m57s][HUGECTR][INFO]: All2All Warmup Start\n",
      "[06d02h00m57s][HUGECTR][INFO]: All2All Warmup End\n",
      "===================================================Model Compile===================================================\n",
      "[06d02h00m59s][HUGECTR][INFO]: gpu0 start to init embedding\n",
      "[06d02h00m59s][HUGECTR][INFO]: gpu0 init embedding done\n",
      "[06d02h00m59s][HUGECTR][INFO]: Starting AUC NCCL warm-up\n",
      "[06d02h00m59s][HUGECTR][INFO]: Warm-up done\n",
      "===================================================Model Summary===================================================\n",
      "Label                                   Dense                         Sparse                        \n",
      "label                                   dense                          data1                         \n",
      "(None, 1)                               (None, 0)                               \n",
      "------------------------------------------------------------------------------------------------------------------\n",
      "Layer Type                              Input Name                    Output Name                   Output Shape                  \n",
      "------------------------------------------------------------------------------------------------------------------\n",
      "LocalizedSlotSparseEmbeddingHash        data1                         sparse_embedding1             (None, 3, 16)                 \n",
      "Reshape                                 sparse_embedding1             reshape1                      (None, 48)                    \n",
      "InnerProduct                            reshape1                      fc1                           (None, 128)                   \n",
      "ReLU                                    fc1                           relu1                         (None, 128)                   \n",
      "InnerProduct                            relu1                         fc2                           (None, 128)                   \n",
      "ReLU                                    fc2                           relu2                         (None, 128)                   \n",
      "InnerProduct                            relu2                         fc3                           (None, 1)                     \n",
      "BinaryCrossEntropyLoss                  fc3,label                     loss                                                        \n",
      "------------------------------------------------------------------------------------------------------------------\n",
      "=====================================================Model Fit=====================================================\n",
      "[60d20h00m59s][HUGECTR][INFO]: Use non-epoch mode with number of iterations: 2000\n",
      "[60d20h00m59s][HUGECTR][INFO]: Training batchsize: 2048, evaluation batchsize: 2048\n",
      "[60d20h00m59s][HUGECTR][INFO]: Evaluation interval: 200, snapshot interval: 1900\n",
      "[60d20h00m59s][HUGECTR][INFO]: Sparse embedding trainable: 1, dense network trainable: 1\n",
      "[60d20h00m59s][HUGECTR][INFO]: Use mixed precision: 0, scaler: 1.000000, use cuda graph: 1\n",
      "[60d20h00m59s][HUGECTR][INFO]: lr: 0.001000, warmup_steps: 1, decay_start: 0, decay_steps: 1, decay_power: 2.000000, end_lr: 0.000000\n",
      "[60d20h00m59s][HUGECTR][INFO]: Training source file: /model/data/train/_file_list.txt\n",
      "[60d20h00m59s][HUGECTR][INFO]: Evaluation source file: /model/data/valid/_file_list.txt\n",
      "[60d20h10m00s][HUGECTR][INFO]: Iter: 100 Time(100 iters): 0.771271s Loss: 0.586938 lr:0.001000\n",
      "[60d20h10m00s][HUGECTR][INFO]: Iter: 200 Time(100 iters): 0.760605s Loss: 0.553492 lr:0.001000\n",
      "[60d20h10m10s][HUGECTR][INFO]: Evaluation, AUC: 0.748900\n",
      "[60d20h10m10s][HUGECTR][INFO]: Eval Time for 160 iters: 0.072014s\n",
      "[60d20h10m10s][HUGECTR][INFO]: Iter: 300 Time(100 iters): 0.834911s Loss: 0.533008 lr:0.001000\n",
      "[60d20h10m20s][HUGECTR][INFO]: Iter: 400 Time(100 iters): 0.760472s Loss: 0.540755 lr:0.001000\n",
      "[60d20h10m20s][HUGECTR][INFO]: Evaluation, AUC: 0.768625\n",
      "[60d20h10m20s][HUGECTR][INFO]: Eval Time for 160 iters: 0.042619s\n",
      "[60d20h10m30s][HUGECTR][INFO]: Iter: 500 Time(100 iters): 0.834338s Loss: 0.546981 lr:0.001000\n",
      "[60d20h10m40s][HUGECTR][INFO]: Iter: 600 Time(100 iters): 0.761889s Loss: 0.536132 lr:0.001000\n",
      "[60d20h10m40s][HUGECTR][INFO]: Evaluation, AUC: 0.775299\n",
      "[60d20h10m40s][HUGECTR][INFO]: Eval Time for 160 iters: 0.043507s\n",
      "[60d20h10m40s][HUGECTR][INFO]: Iter: 700 Time(100 iters): 0.807555s Loss: 0.560075 lr:0.001000\n",
      "[60d20h10m50s][HUGECTR][INFO]: Iter: 800 Time(100 iters): 0.762022s Loss: 0.546006 lr:0.001000\n",
      "[60d20h10m50s][HUGECTR][INFO]: Evaluation, AUC: 0.780453\n",
      "[60d20h10m50s][HUGECTR][INFO]: Eval Time for 160 iters: 0.067765s\n",
      "[60d20h10m60s][HUGECTR][INFO]: Iter: 900 Time(100 iters): 0.831733s Loss: 0.534707 lr:0.001000\n",
      "[60d20h10m70s][HUGECTR][INFO]: Iter: 1000 Time(100 iters): 0.784091s Loss: 0.527165 lr:0.001000\n",
      "[60d20h10m70s][HUGECTR][INFO]: Evaluation, AUC: 0.784375\n",
      "[60d20h10m70s][HUGECTR][INFO]: Eval Time for 160 iters: 0.043306s\n",
      "[60d20h10m80s][HUGECTR][INFO]: Iter: 1100 Time(100 iters): 0.807928s Loss: 0.531112 lr:0.001000\n",
      "[60d20h10m80s][HUGECTR][INFO]: Iter: 1200 Time(100 iters): 0.761908s Loss: 0.546146 lr:0.001000\n",
      "[60d20h10m90s][HUGECTR][INFO]: Evaluation, AUC: 0.786480\n",
      "[60d20h10m90s][HUGECTR][INFO]: Eval Time for 160 iters: 0.043322s\n",
      "[60d20h10m90s][HUGECTR][INFO]: Iter: 1300 Time(100 iters): 0.807096s Loss: 0.527774 lr:0.001000\n",
      "[60d20h10m10s][HUGECTR][INFO]: Iter: 1400 Time(100 iters): 0.761917s Loss: 0.524942 lr:0.001000\n",
      "[60d20h10m10s][HUGECTR][INFO]: Evaluation, AUC: 0.790914\n",
      "[60d20h10m10s][HUGECTR][INFO]: Eval Time for 160 iters: 0.069303s\n",
      "[60d20h10m11s][HUGECTR][INFO]: Iter: 1500 Time(100 iters): 0.856426s Loss: 0.523951 lr:0.001000\n",
      "[60d20h10m12s][HUGECTR][INFO]: Iter: 1600 Time(100 iters): 0.761968s Loss: 0.531200 lr:0.001000\n",
      "[60d20h10m12s][HUGECTR][INFO]: Evaluation, AUC: 0.793755\n",
      "[60d20h10m12s][HUGECTR][INFO]: Eval Time for 160 iters: 0.042483s\n",
      "[60d20h10m13s][HUGECTR][INFO]: Iter: 1700 Time(100 iters): 0.806804s Loss: 0.522479 lr:0.001000\n",
      "[60d20h10m13s][HUGECTR][INFO]: Iter: 1800 Time(100 iters): 0.761869s Loss: 0.518037 lr:0.001000\n",
      "[60d20h10m13s][HUGECTR][INFO]: Evaluation, AUC: 0.795719\n",
      "[60d20h10m13s][HUGECTR][INFO]: Eval Time for 160 iters: 0.043017s\n",
      "[60d20h10m14s][HUGECTR][INFO]: Iter: 1900 Time(100 iters): 0.807099s Loss: 0.538295 lr:0.001000\n",
      "[60d20h10m14s][HUGECTR][INFO]: Rank0: Dump hash table from GPU0\n",
      "[60d20h10m14s][HUGECTR][INFO]: Rank0: Write hash table <key,value> pairs to file\n",
      "[60d20h10m14s][HUGECTR][INFO]: Done\n",
      "[60d20h10m14s][HUGECTR][INFO]: Dumping sparse weights to files, successful\n",
      "[60d20h10m14s][HUGECTR][INFO]: Rank0: Write optimzer state to file\n",
      "[60d20h10m14s][HUGECTR][INFO]: Done\n",
      "[60d20h10m15s][HUGECTR][INFO]: Rank0: Write optimzer state to file\n",
      "[60d20h10m15s][HUGECTR][INFO]: Done\n",
      "[60d20h10m15s][HUGECTR][INFO]: Dumping sparse optimzer states to files, successful\n",
      "[60d20h10m15s][HUGECTR][INFO]: Dumping dense weights to file, successful\n",
      "[60d20h10m15s][HUGECTR][INFO]: Dumping dense optimizer states to file, successful\n",
      "[60d20h10m15s][HUGECTR][INFO]: Dumping untrainable weights to file, successful\n",
      "Finish 2000 iterations with batchsize: 2048 in 16.56s\n",
      "[60d20h10m15s][HUGECTR][INFO]: Save the model graph to /model/movielens_hugectr/1/movielens.json, successful\n"
     ]
    }
   ],
   "source": [
    "!python model.py"
   ]
  },
  {
   "cell_type": "markdown",
   "id": "b5faf367",
   "metadata": {},
   "source": [
    "After training terminates, we can see that multiple `.model` files and folders are generated. We need to move them inside `1` folder under the `movielens_hugectr` folder. Let's create these folders first."
   ]
  },
  {
   "cell_type": "markdown",
   "id": "db6c625b",
   "metadata": {},
   "source": [
    "Now we move our saved `.model` files inside `1` folder."
   ]
  },
  {
   "cell_type": "code",
   "execution_count": 44,
   "id": "a0cbb256",
   "metadata": {},
   "outputs": [],
   "source": [
    "!mv *.model /model/movielens_hugectr/1/"
   ]
  }
 ],
 "metadata": {
  "kernelspec": {
   "display_name": "Python 3 (ipykernel)",
   "language": "python",
   "name": "python3"
  },
  "language_info": {
   "codemirror_mode": {
    "name": "ipython",
    "version": 3
   },
   "file_extension": ".py",
   "mimetype": "text/x-python",
   "name": "python",
   "nbconvert_exporter": "python",
   "pygments_lexer": "ipython3",
   "version": "3.8.10"
  }
 },
 "nbformat": 4,
 "nbformat_minor": 5
}
