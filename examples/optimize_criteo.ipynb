{
 "cells": [
  {
   "cell_type": "code",
   "execution_count": null,
   "metadata": {},
   "outputs": [],
   "source": [
    "import os\n",
    "import cudf\n",
    "import numpy as np\n",
    "import nvtabular as nvt\n",
    "from cudf.io.parquet import ParquetWriter\n",
    "\n",
    "data_path = '/datasets/criteo/crit_orig/'\n",
    "\n",
    "train_set = [os.path.join(data_path, x) for x in os.listdir(data_path) if x.startswith(\"day_\") and not x.endswith(\"parquet\")] \n",
    "train_set.sort()\n",
    "\n",
    "cont_names = [\"I\" + str(x) for x in range(1, 14)]\n",
    "cat_names = [\"C\" + str(x) for x in range(1, 27)]\n",
    "cols = [\"label\"] + cont_names + cat_names\n",
    "\n",
    "\n",
    "dtypes = {}\n",
    "dtypes[\"label\"] = np.int64\n",
    "for x in cont_names:\n",
    "    dtypes[x] = np.int64\n",
    "for x in cat_names:\n",
    "    dtypes[x] = \"hex\"\n",
    "    \n",
    "    \n",
    "def file_to_pq(target_files, file_type, output_folder='par_out', cols=[], dtypes=None):\n",
    "    target_files.sort()\n",
    "    tar_data = nvt.Dataset(target_files, engine=file_type, names=cols, part_mem_fraction=0.05, sep='\\t', dtypes=dtypes)\n",
    "    count = 0\n",
    "    old_file_path = None\n",
    "    writer = None\n",
    "    tar = tar_data.to_iter()\n",
    "    for gdf in tar:\n",
    "        file_path = os.path.join(output_folder, os.path.split(tar.cur_path)[1].split('.')[0])\n",
    "        path = f'{file_path}.parquet'\n",
    "        if file_path != old_file_path:\n",
    "            writer = ParquetWriter(path)\n",
    "        writer.write_table(gdf)\n",
    "        old_file_path = file_path\n",
    "        del gdf\n",
    "path_out = '/raid/criteo/tests/demo_out/'\n",
    "file_to_pq(train_set, 'csv', output_folder=path_out, cols=cols, dtypes=dtypes)"
   ]
  },
  {
   "cell_type": "code",
   "execution_count": null,
   "metadata": {},
   "outputs": [],
   "source": []
  }
 ],
 "metadata": {
  "kernelspec": {
   "display_name": "Python 3",
   "language": "python",
   "name": "python3"
  },
  "language_info": {
   "codemirror_mode": {
    "name": "ipython",
    "version": 3
   },
   "file_extension": ".py",
   "mimetype": "text/x-python",
   "name": "python",
   "nbconvert_exporter": "python",
   "pygments_lexer": "ipython3",
   "version": "3.7.6"
  }
 },
 "nbformat": 4,
 "nbformat_minor": 4
}
