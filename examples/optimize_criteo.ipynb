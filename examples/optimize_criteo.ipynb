{
 "cells": [
  {
   "cell_type": "code",
   "execution_count": null,
   "metadata": {},
   "outputs": [],
   "source": [
    "import fsspec\n",
    "import os\n",
    "import cudf\n",
    "import numpy as np\n",
    "import nvtabular as nvt\n",
    "from cudf.io.parquet import ParquetWriter\n",
    "\n",
    "INPUT_PATH = os.environ.get('INPUT_PATH', '/datasets/criteo/crit_orig/')\n",
    "OUTPUT_PATH = os.environ.get('OUTPUT_PATH', '/raid/criteo/tests/demo_out/')\n",
    "\n",
    "train_set = [os.path.join(INPUT_PATH, x) for x in os.listdir(INPUT_PATH) if x.startswith(\"day_\") and not x.endswith(\"parquet\")] \n",
    "train_set.sort()\n",
    "\n",
    "cont_names = [\"I\" + str(x) for x in range(1, 14)]\n",
    "cat_names = [\"C\" + str(x) for x in range(1, 27)]\n",
    "cols = [\"label\"] + cont_names + cat_names\n",
    "\n",
    "dtypes = {}\n",
    "dtypes[\"label\"] = np.int64\n",
    "for x in cont_names:\n",
    "    dtypes[x] = np.int64\n",
    "for x in cat_names:\n",
    "    dtypes[x] = \"hex\"\n",
    "    \n",
    "for filename in train_set:\n",
    "    file_path = os.path.join(OUTPUT_PATH, os.path.split(filename)[1].split('.')[0])\n",
    "    writer = ParquetWriter(f'{file_path}.parquet')\n",
    "    fs = fsspec.filesystem('file')   \n",
    "    for gdf in nvt.io.CSVFileReader(filename, fs, names=cols, gpu_memory_frac=0.05, sep='\\t', dtypes=dtypes):\n",
    "        writer.write_table(gdf)\n",
    "        "
   ]
  },
  {
   "cell_type": "code",
   "execution_count": null,
   "metadata": {},
   "outputs": [],
   "source": []
  }
 ],
 "metadata": {
  "kernelspec": {
   "display_name": "Python 3",
   "language": "python",
   "name": "python3"
  },
  "language_info": {
   "codemirror_mode": {
    "name": "ipython",
    "version": 3
   },
   "file_extension": ".py",
   "mimetype": "text/x-python",
   "name": "python",
   "nbconvert_exporter": "python",
   "pygments_lexer": "ipython3",
   "version": "3.7.6"
  }
 },
 "nbformat": 4,
 "nbformat_minor": 4
}
