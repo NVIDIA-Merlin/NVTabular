{
 "cells": [
  {
   "cell_type": "code",
   "execution_count": 1,
   "metadata": {},
   "outputs": [
    {
     "name": "stderr",
     "output_type": "stream",
     "text": [
      "/conda/envs/rapids/lib/python3.7/site-packages/numba/cuda/envvars.py:17: NumbaWarning: \n",
      "Environment variables with the 'NUMBAPRO' prefix are deprecated and consequently ignored, found use of NUMBAPRO_NVVM=/usr/local/cuda/nvvm/lib64/libnvvm.so.\n",
      "\n",
      "For more information about alternatives visit: ('http://numba.pydata.org/numba-doc/latest/cuda/overview.html', '#cudatoolkit-lookup')\n",
      "  warnings.warn(errors.NumbaWarning(msg))\n",
      "/conda/envs/rapids/lib/python3.7/site-packages/numba/cuda/envvars.py:17: NumbaWarning: \n",
      "Environment variables with the 'NUMBAPRO' prefix are deprecated and consequently ignored, found use of NUMBAPRO_LIBDEVICE=/usr/local/cuda/nvvm/libdevice/.\n",
      "\n",
      "For more information about alternatives visit: ('http://numba.pydata.org/numba-doc/latest/cuda/overview.html', '#cudatoolkit-lookup')\n",
      "  warnings.warn(errors.NumbaWarning(msg))\n"
     ]
    }
   ],
   "source": [
    "import os\n",
    "GPU_id = 4\n",
    "os.environ['CUDA_VISIBLE_DEVICES'] = str(GPU_id)\n",
    "import cudf\n",
    "import numpy as np\n",
    "import nvtabular as nvt\n",
    "from cudf.io.parquet import ParquetWriter\n",
    "\n",
    "data_path = '/datasets/criteo/crit_orig/'\n",
    "df_train = ''\n",
    "df_valid = 'valid/'\n",
    "df_test = 'test/'\n",
    "\n",
    "train_set = [data_path + df_train + x for x in os.listdir(data_path + df_train) if x.startswith(\"day_\") and not x.endswith(\"parquet\")][:1] \n",
    "train_set.sort()\n",
    "\n",
    "cont_names = [\"I\" + str(x) for x in range(1, 14)]\n",
    "cat_names = [\"C\" + str(x) for x in range(1, 27)]\n",
    "cols = [\"label\"] + cont_names + cat_names\n",
    "\n",
    "\n",
    "dtypes = {}\n",
    "dtypes[\"label\"] = np.int64\n",
    "for x in cont_names:\n",
    "    dtypes[x] = np.int64\n",
    "for x in cat_names:\n",
    "    dtypes[x] = np.object\n",
    "    \n",
    "    \n",
    "def file_to_pq(target_files, file_type, output_folder='par_out', cols=[], dtypes=None):\n",
    "    target_files.sort()\n",
    "    tar = nvt.dataset(target_files, engine=file_type, names=cols, gpu_memory_frac=0.05, sep='\\t', dtypes=dtypes)\n",
    "    count = 0\n",
    "    old_file_path = None\n",
    "    writer = None\n",
    "    for gdf in tar:\n",
    "        #gdf.to_parquet(output_folder)\n",
    "        file_path = os.path.join(output_folder, os.path.split(tar.cur_path)[1].split('.')[0])\n",
    "        path = f'{file_path}.parquet'\n",
    "        if file_path != old_file_path:\n",
    "            writer = ParquetWriter(path)\n",
    "        writer.write_table(gdf)\n",
    "        old_file_path = file_path\n",
    "        del gdf\n",
    "path_out = '/raid/criteo/tests/demo_out/'\n",
    "file_to_pq(train_set, 'csv', output_folder=path_out, cols=cols, dtypes=dtypes)"
   ]
  },
  {
   "cell_type": "code",
   "execution_count": null,
   "metadata": {},
   "outputs": [],
   "source": []
  }
 ],
 "metadata": {
  "kernelspec": {
   "display_name": "Python 3",
   "language": "python",
   "name": "python3"
  },
  "language_info": {
   "codemirror_mode": {
    "name": "ipython",
    "version": 3
   },
   "file_extension": ".py",
   "mimetype": "text/x-python",
   "name": "python",
   "nbconvert_exporter": "python",
   "pygments_lexer": "ipython3",
   "version": "3.7.6"
  }
 },
 "nbformat": 4,
 "nbformat_minor": 4
}
