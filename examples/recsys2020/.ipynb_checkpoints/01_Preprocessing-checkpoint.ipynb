{
 "cells": [
  {
   "cell_type": "markdown",
   "metadata": {},
   "source": [
    "# NVTabular"
   ]
  },
  {
   "cell_type": "code",
   "execution_count": 1,
   "metadata": {},
   "outputs": [
    {
     "name": "stderr",
     "output_type": "stream",
     "text": [
      "/conda/envs/rapids/lib/python3.7/site-packages/numba/cuda/envvars.py:17: NumbaWarning: \n",
      "Environment variables with the 'NUMBAPRO' prefix are deprecated and consequently ignored, found use of NUMBAPRO_NVVM=/usr/local/cuda/nvvm/lib64/libnvvm.so.\n",
      "\n",
      "For more information about alternatives visit: ('http://numba.pydata.org/numba-doc/latest/cuda/overview.html', '#cudatoolkit-lookup')\n",
      "  warnings.warn(errors.NumbaWarning(msg))\n",
      "/conda/envs/rapids/lib/python3.7/site-packages/numba/cuda/envvars.py:17: NumbaWarning: \n",
      "Environment variables with the 'NUMBAPRO' prefix are deprecated and consequently ignored, found use of NUMBAPRO_LIBDEVICE=/usr/local/cuda/nvvm/libdevice/.\n",
      "\n",
      "For more information about alternatives visit: ('http://numba.pydata.org/numba-doc/latest/cuda/overview.html', '#cudatoolkit-lookup')\n",
      "  warnings.warn(errors.NumbaWarning(msg))\n"
     ]
    }
   ],
   "source": [
    "# External Dependencies\n",
    "import cupy as cp\n",
    "import cudf\n",
    "import dask\n",
    "import dask_cudf\n",
    "from dask_cuda import LocalCUDACluster\n",
    "from dask.distributed import Client\n",
    "from dask.utils import parse_bytes\n",
    "from dask.delayed import delayed\n",
    "import rmm\n",
    "\n",
    "from nvtabular.utils import device_mem_size\n",
    "\n",
    "import dask as dask, dask_cudf\n",
    "from dask.distributed import Client, wait\n",
    "from dask_cuda import LocalCUDACluster\n",
    "\n",
    "import numpy as np"
   ]
  },
  {
   "cell_type": "code",
   "execution_count": 2,
   "metadata": {},
   "outputs": [],
   "source": [
    "BASE_DIR = '/raid/'"
   ]
  },
  {
   "cell_type": "code",
   "execution_count": 3,
   "metadata": {},
   "outputs": [
    {
     "data": {
      "text/html": [
       "<table style=\"border: 2px solid white;\">\n",
       "<tr>\n",
       "<td style=\"vertical-align: top; border: 0px solid white\">\n",
       "<h3 style=\"text-align: left;\">Client</h3>\n",
       "<ul style=\"text-align: left; list-style: none; margin: 0; padding: 0;\">\n",
       "  <li><b>Scheduler: </b>tcp://127.0.0.1:33471</li>\n",
       "  <li><b>Dashboard: </b><a href='http://127.0.0.1:8787/status' target='_blank'>http://127.0.0.1:8787/status</a></li>\n",
       "</ul>\n",
       "</td>\n",
       "<td style=\"vertical-align: top; border: 0px solid white\">\n",
       "<h3 style=\"text-align: left;\">Cluster</h3>\n",
       "<ul style=\"text-align: left; list-style:none; margin: 0; padding: 0;\">\n",
       "  <li><b>Workers: </b>8</li>\n",
       "  <li><b>Cores: </b>8</li>\n",
       "  <li><b>Memory: </b>429.50 GB</li>\n",
       "</ul>\n",
       "</td>\n",
       "</tr>\n",
       "</table>"
      ],
      "text/plain": [
       "<Client: 'tcp://127.0.0.1:33471' processes=8 threads=8, memory=429.50 GB>"
      ]
     },
     "execution_count": 3,
     "metadata": {},
     "output_type": "execute_result"
    }
   ],
   "source": [
    "cluster = LocalCUDACluster(protocol=\"tcp\", \n",
    "                           rmm_pool_size=\"31GB\")\n",
    "#cluster = LocalCUDACluster()\n",
    "client = Client(cluster)\n",
    "client"
   ]
  },
  {
   "cell_type": "code",
   "execution_count": 4,
   "metadata": {},
   "outputs": [
    {
     "data": {
      "text/plain": [
       "{'tcp://127.0.0.1:33537': None,\n",
       " 'tcp://127.0.0.1:34189': None,\n",
       " 'tcp://127.0.0.1:35929': None,\n",
       " 'tcp://127.0.0.1:36359': None,\n",
       " 'tcp://127.0.0.1:37795': None,\n",
       " 'tcp://127.0.0.1:43307': None,\n",
       " 'tcp://127.0.0.1:44655': None,\n",
       " 'tcp://127.0.0.1:46699': None}"
      ]
     },
     "execution_count": 4,
     "metadata": {},
     "output_type": "execute_result"
    }
   ],
   "source": [
    "# Initialize RMM pool on ALL workers\n",
    "def _rmm_pool():\n",
    "    rmm.reinitialize(\n",
    "        pool_allocator=True,\n",
    "        initial_pool_size=None, # Use default size\n",
    "    )\n",
    "    \n",
    "client.run(_rmm_pool)"
   ]
  },
  {
   "cell_type": "code",
   "execution_count": 5,
   "metadata": {},
   "outputs": [],
   "source": [
    "import nvtabular as nvt"
   ]
  },
  {
   "cell_type": "code",
   "execution_count": 6,
   "metadata": {},
   "outputs": [],
   "source": [
    "features = [\n",
    "    'text_tokens',    ###############\n",
    "    'hashtags',       #Tweet Features\n",
    "    'tweet_id',       #\n",
    "    'media',          #\n",
    "    'links',          #\n",
    "    'domains',        #\n",
    "    'tweet_type',     #\n",
    "    'language',       #\n",
    "    'timestamp',      ###############\n",
    "    'a_user_id',              ###########################\n",
    "    'a_follower_count',       #Engaged With User Features\n",
    "    'a_following_count',      #\n",
    "    'a_is_verified',          #\n",
    "    'a_account_creation',     ###########################\n",
    "    'b_user_id',              #######################\n",
    "    'b_follower_count',       #Engaging User Features\n",
    "    'b_following_count',      #\n",
    "    'b_is_verified',          #\n",
    "    'b_account_creation',     #######################\n",
    "    'b_follows_a',    #################### Engagement Features\n",
    "    'reply',          #Target Reply\n",
    "    'retweet',        #Target Retweet    \n",
    "    'retweet_comment',#Target Retweet with comment\n",
    "    'like',           #Target Like\n",
    "                      ####################\n",
    "]\n",
    "\n",
    "cat_names = [ \n",
    "    'hashtags', \n",
    "    'tweet_id', \n",
    "    'media', \n",
    "    'links',\n",
    "    'domains', \n",
    "    'tweet_type', \n",
    "    'language', \n",
    "    'a_user_id',\n",
    "    'a_is_verified',\n",
    "    'b_user_id', \n",
    "    'b_is_verified', \n",
    "    'b_follows_a', \n",
    "\n",
    "]\n",
    "\n",
    "cont_names = [\n",
    "    'timestamp',\n",
    "    'a_follower_count', \n",
    "    'a_following_count',\n",
    "    'a_account_creation',\n",
    "    'b_follower_count',\n",
    "    'b_following_count',\n",
    "    'b_account_creation'\n",
    "]\n",
    "\n",
    "label_name = [\n",
    "    'reply', \n",
    "    'retweet', \n",
    "    'retweet_comment', \n",
    "    'like'\n",
    "]"
   ]
  },
  {
   "cell_type": "code",
   "execution_count": 7,
   "metadata": {},
   "outputs": [],
   "source": [
    "proc = nvt.Workflow(cat_names=cat_names, \n",
    "                    cont_names=cont_names, \n",
    "                    label_name=label_name)"
   ]
  },
  {
   "cell_type": "code",
   "execution_count": 8,
   "metadata": {},
   "outputs": [],
   "source": [
    "def splitmedia2(col):\n",
    "    if col.shape[0] == 0:\n",
    "        return(col)\n",
    "    else:\n",
    "        return(col.str.split('\\t')[0].fillna('') + '_' + col.str.split('\\t')[1].fillna(''))\n",
    "    \n",
    "def count_token(col,token):\n",
    "    not_null = col.isnull()==0\n",
    "    return ((col.str.count(token)+1)*not_null).fillna(0)"
   ]
  },
  {
   "cell_type": "code",
   "execution_count": 9,
   "metadata": {},
   "outputs": [],
   "source": [
    "trains_itrs = nvt.Dataset(BASE_DIR + 'training.tsv', header=None, names=features, engine='csv', sep='\\x01', part_size='1GB')"
   ]
  },
  {
   "cell_type": "code",
   "execution_count": 10,
   "metadata": {},
   "outputs": [],
   "source": [
    "proc.add_feature([\n",
    "    nvt.ops.LambdaOp(\n",
    "        op_name='count_t',\n",
    "        f=lambda col, gdf: count_token(col,'\\t'),\n",
    "        columns=['hashtags', 'domains', 'links'],\n",
    "        replace=False\n",
    "    ),\n",
    "    nvt.ops.FillMissing(columns=label_name + ['hashtags', 'domains', 'links']),\n",
    "    nvt.ops.LambdaOp(\n",
    "        op_name='astypeint32',\n",
    "        f=lambda col, gdf: col.astype(np.uint32),\n",
    "        columns=label_name + ['timestamp',\n",
    "                              'a_follower_count', \n",
    "                              'a_following_count',\n",
    "                              'a_account_creation',\n",
    "                              'b_follower_count',\n",
    "                              'b_following_count',\n",
    "                              'b_account_creation'],\n",
    "        replace=True\n",
    "    ),\n",
    "    nvt.ops.LambdaOp(\n",
    "        op_name='splitmedia',\n",
    "        f=lambda col, gdf: splitmedia2(col),\n",
    "        columns=['media'],\n",
    "        replace=False\n",
    "    ),\n",
    "    nvt.ops.Categorify(\n",
    "        columns=['media_splitmedia', 'language', 'tweet_type', 'tweet_id', 'a_user_id', 'b_user_id', 'hashtags', 'domains', 'links']\n",
    "    ), \n",
    "    nvt.ops.LambdaOp(\n",
    "        op_name='astypeint32_2',\n",
    "        f=lambda col, gdf: col.astype(np.uint32),\n",
    "        replace=True,\n",
    "        columns=['media_splitmedia', 'language', 'tweet_type', 'tweet_id', 'a_user_id', 'b_user_id', 'hashtags', 'domains', 'links']\n",
    "    )\n",
    "])"
   ]
  },
  {
   "cell_type": "code",
   "execution_count": 11,
   "metadata": {},
   "outputs": [
    {
     "name": "stderr",
     "output_type": "stream",
     "text": [
      "/conda/envs/rapids/lib/python3.7/site-packages/cudf-0.15.0a0+4566.g7718ddbb6-py3.7-linux-x86_64.egg/cudf/core/column/string.py:1992: UserWarning: `expand` parameter defatults to True.\n",
      "  warnings.warn(\"`expand` parameter defatults to True.\")\n",
      "/conda/envs/rapids/lib/python3.7/site-packages/cudf-0.15.0a0+4566.g7718ddbb6-py3.7-linux-x86_64.egg/cudf/core/column/string.py:1992: UserWarning: `expand` parameter defatults to True.\n",
      "  warnings.warn(\"`expand` parameter defatults to True.\")\n"
     ]
    }
   ],
   "source": [
    "proc.apply(trains_itrs, record_stats=True, output_path=BASE_DIR + 'preprocess/')"
   ]
  },
  {
   "cell_type": "code",
   "execution_count": 12,
   "metadata": {},
   "outputs": [
    {
     "name": "stdout",
     "output_type": "stream",
     "text": [
      "_metadata\t part.22.parquet  part.37.parquet  part.51.parquet\r\n",
      "part.0.parquet\t part.23.parquet  part.38.parquet  part.52.parquet\r\n",
      "part.1.parquet\t part.24.parquet  part.39.parquet  part.53.parquet\r\n",
      "part.10.parquet  part.25.parquet  part.4.parquet   part.54.parquet\r\n",
      "part.11.parquet  part.26.parquet  part.40.parquet  part.55.parquet\r\n",
      "part.12.parquet  part.27.parquet  part.41.parquet  part.56.parquet\r\n",
      "part.13.parquet  part.28.parquet  part.42.parquet  part.57.parquet\r\n",
      "part.14.parquet  part.29.parquet  part.43.parquet  part.58.parquet\r\n",
      "part.15.parquet  part.3.parquet   part.44.parquet  part.59.parquet\r\n",
      "part.16.parquet  part.30.parquet  part.45.parquet  part.6.parquet\r\n",
      "part.17.parquet  part.31.parquet  part.46.parquet  part.60.parquet\r\n",
      "part.18.parquet  part.32.parquet  part.47.parquet  part.61.parquet\r\n",
      "part.19.parquet  part.33.parquet  part.48.parquet  part.7.parquet\r\n",
      "part.2.parquet\t part.34.parquet  part.49.parquet  part.8.parquet\r\n",
      "part.20.parquet  part.35.parquet  part.5.parquet   part.9.parquet\r\n",
      "part.21.parquet  part.36.parquet  part.50.parquet\r\n"
     ]
    }
   ],
   "source": [
    "!ls $BASE_DIR/preprocess"
   ]
  },
  {
   "cell_type": "code",
   "execution_count": null,
   "metadata": {},
   "outputs": [],
   "source": []
  }
 ],
 "metadata": {
  "kernelspec": {
   "display_name": "rapids",
   "language": "python",
   "name": "rapids"
  },
  "language_info": {
   "codemirror_mode": {
    "name": "ipython",
    "version": 3
   },
   "file_extension": ".py",
   "mimetype": "text/x-python",
   "name": "python",
   "nbconvert_exporter": "python",
   "pygments_lexer": "ipython3",
   "version": "3.7.8"
  }
 },
 "nbformat": 4,
 "nbformat_minor": 4
}
