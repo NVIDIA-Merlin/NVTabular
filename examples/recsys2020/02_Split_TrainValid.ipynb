{
 "cells": [
  {
   "cell_type": "code",
   "execution_count": 1,
   "metadata": {},
   "outputs": [],
   "source": [
    "import glob\n",
    "import pandas as pd"
   ]
  },
  {
   "cell_type": "code",
   "execution_count": 2,
   "metadata": {},
   "outputs": [],
   "source": [
    "df = pd.concat([pd.read_parquet(x) for x in glob.glob('/raid/preprocess/*.parquet')])"
   ]
  },
  {
   "cell_type": "code",
   "execution_count": 3,
   "metadata": {},
   "outputs": [],
   "source": [
    "df['hashtags'] = df['hashtags'].fillna('UNKNOWN')\n",
    "df['links'] = df['links'].fillna('UNKNOWN')\n",
    "df['domains'] = df['domains'].fillna('UNKNOWN')"
   ]
  },
  {
   "cell_type": "code",
   "execution_count": 7,
   "metadata": {},
   "outputs": [
    {
     "data": {
      "text/html": [
       "<div>\n",
       "<style scoped>\n",
       "    .dataframe tbody tr th:only-of-type {\n",
       "        vertical-align: middle;\n",
       "    }\n",
       "\n",
       "    .dataframe tbody tr th {\n",
       "        vertical-align: top;\n",
       "    }\n",
       "\n",
       "    .dataframe thead th {\n",
       "        text-align: right;\n",
       "    }\n",
       "</style>\n",
       "<table border=\"1\" class=\"dataframe\">\n",
       "  <thead>\n",
       "    <tr style=\"text-align: right;\">\n",
       "      <th></th>\n",
       "      <th>timestamp</th>\n",
       "      <th>a_follower_count</th>\n",
       "      <th>a_following_count</th>\n",
       "      <th>a_account_creation</th>\n",
       "      <th>b_follower_count</th>\n",
       "      <th>b_following_count</th>\n",
       "      <th>b_account_creation</th>\n",
       "      <th>hashtags</th>\n",
       "      <th>tweet_id</th>\n",
       "      <th>media</th>\n",
       "      <th>...</th>\n",
       "      <th>b_is_verified</th>\n",
       "      <th>b_follows_a</th>\n",
       "      <th>reply</th>\n",
       "      <th>retweet</th>\n",
       "      <th>retweet_comment</th>\n",
       "      <th>like</th>\n",
       "      <th>hashtags_count_t</th>\n",
       "      <th>domains_count_t</th>\n",
       "      <th>links_count_t</th>\n",
       "      <th>media_splitmedia</th>\n",
       "    </tr>\n",
       "  </thead>\n",
       "  <tbody>\n",
       "    <tr>\n",
       "      <th>0</th>\n",
       "      <td>1581378009</td>\n",
       "      <td>2730024</td>\n",
       "      <td>651</td>\n",
       "      <td>1295048494</td>\n",
       "      <td>80</td>\n",
       "      <td>322</td>\n",
       "      <td>1427577415</td>\n",
       "      <td>1</td>\n",
       "      <td>42322883</td>\n",
       "      <td>None</td>\n",
       "      <td>...</td>\n",
       "      <td>False</td>\n",
       "      <td>False</td>\n",
       "      <td>0</td>\n",
       "      <td>0</td>\n",
       "      <td>0</td>\n",
       "      <td>0</td>\n",
       "      <td>0</td>\n",
       "      <td>0</td>\n",
       "      <td>0</td>\n",
       "      <td>13</td>\n",
       "    </tr>\n",
       "    <tr>\n",
       "      <th>1</th>\n",
       "      <td>1581485160</td>\n",
       "      <td>744</td>\n",
       "      <td>1047</td>\n",
       "      <td>1528286720</td>\n",
       "      <td>780</td>\n",
       "      <td>1584</td>\n",
       "      <td>1436342848</td>\n",
       "      <td>1</td>\n",
       "      <td>12838860</td>\n",
       "      <td>Photo\\tPhoto\\tPhoto\\tPhoto</td>\n",
       "      <td>...</td>\n",
       "      <td>False</td>\n",
       "      <td>False</td>\n",
       "      <td>0</td>\n",
       "      <td>0</td>\n",
       "      <td>0</td>\n",
       "      <td>0</td>\n",
       "      <td>0</td>\n",
       "      <td>0</td>\n",
       "      <td>0</td>\n",
       "      <td>7</td>\n",
       "    </tr>\n",
       "    <tr>\n",
       "      <th>2</th>\n",
       "      <td>1581512501</td>\n",
       "      <td>630</td>\n",
       "      <td>642</td>\n",
       "      <td>1533800339</td>\n",
       "      <td>280</td>\n",
       "      <td>253</td>\n",
       "      <td>1570192118</td>\n",
       "      <td>1</td>\n",
       "      <td>12056524</td>\n",
       "      <td>Photo</td>\n",
       "      <td>...</td>\n",
       "      <td>False</td>\n",
       "      <td>True</td>\n",
       "      <td>0</td>\n",
       "      <td>0</td>\n",
       "      <td>0</td>\n",
       "      <td>1581539236</td>\n",
       "      <td>0</td>\n",
       "      <td>0</td>\n",
       "      <td>0</td>\n",
       "      <td>5</td>\n",
       "    </tr>\n",
       "    <tr>\n",
       "      <th>3</th>\n",
       "      <td>1581048122</td>\n",
       "      <td>16235992</td>\n",
       "      <td>9</td>\n",
       "      <td>1221417992</td>\n",
       "      <td>250</td>\n",
       "      <td>234</td>\n",
       "      <td>1393788996</td>\n",
       "      <td>1</td>\n",
       "      <td>14683415</td>\n",
       "      <td>Photo</td>\n",
       "      <td>...</td>\n",
       "      <td>False</td>\n",
       "      <td>False</td>\n",
       "      <td>0</td>\n",
       "      <td>0</td>\n",
       "      <td>0</td>\n",
       "      <td>0</td>\n",
       "      <td>0</td>\n",
       "      <td>0</td>\n",
       "      <td>0</td>\n",
       "      <td>5</td>\n",
       "    </tr>\n",
       "    <tr>\n",
       "      <th>4</th>\n",
       "      <td>1581267159</td>\n",
       "      <td>88386</td>\n",
       "      <td>4994</td>\n",
       "      <td>1221280889</td>\n",
       "      <td>19</td>\n",
       "      <td>139</td>\n",
       "      <td>1500997563</td>\n",
       "      <td>1</td>\n",
       "      <td>12081839</td>\n",
       "      <td>None</td>\n",
       "      <td>...</td>\n",
       "      <td>False</td>\n",
       "      <td>False</td>\n",
       "      <td>0</td>\n",
       "      <td>0</td>\n",
       "      <td>0</td>\n",
       "      <td>1581269009</td>\n",
       "      <td>0</td>\n",
       "      <td>0</td>\n",
       "      <td>0</td>\n",
       "      <td>13</td>\n",
       "    </tr>\n",
       "  </tbody>\n",
       "</table>\n",
       "<p>5 rows × 27 columns</p>\n",
       "</div>"
      ],
      "text/plain": [
       "    timestamp  a_follower_count  a_following_count  a_account_creation  \\\n",
       "0  1581378009           2730024                651          1295048494   \n",
       "1  1581485160               744               1047          1528286720   \n",
       "2  1581512501               630                642          1533800339   \n",
       "3  1581048122          16235992                  9          1221417992   \n",
       "4  1581267159             88386               4994          1221280889   \n",
       "\n",
       "   b_follower_count  b_following_count  b_account_creation  hashtags  \\\n",
       "0                80                322          1427577415         1   \n",
       "1               780               1584          1436342848         1   \n",
       "2               280                253          1570192118         1   \n",
       "3               250                234          1393788996         1   \n",
       "4                19                139          1500997563         1   \n",
       "\n",
       "   tweet_id                       media  ...  b_is_verified  b_follows_a  \\\n",
       "0  42322883                        None  ...          False        False   \n",
       "1  12838860  Photo\\tPhoto\\tPhoto\\tPhoto  ...          False        False   \n",
       "2  12056524                       Photo  ...          False         True   \n",
       "3  14683415                       Photo  ...          False        False   \n",
       "4  12081839                        None  ...          False        False   \n",
       "\n",
       "   reply  retweet  retweet_comment        like  hashtags_count_t  \\\n",
       "0      0        0                0           0                 0   \n",
       "1      0        0                0           0                 0   \n",
       "2      0        0                0  1581539236                 0   \n",
       "3      0        0                0           0                 0   \n",
       "4      0        0                0  1581269009                 0   \n",
       "\n",
       "   domains_count_t  links_count_t  media_splitmedia  \n",
       "0                0              0                13  \n",
       "1                0              0                 7  \n",
       "2                0              0                 5  \n",
       "3                0              0                 5  \n",
       "4                0              0                13  \n",
       "\n",
       "[5 rows x 27 columns]"
      ]
     },
     "execution_count": 7,
     "metadata": {},
     "output_type": "execute_result"
    }
   ],
   "source": [
    "df.head()"
   ]
  },
  {
   "cell_type": "code",
   "execution_count": 11,
   "metadata": {},
   "outputs": [],
   "source": [
    "df['media'] = df['media_splitmedia'].values"
   ]
  },
  {
   "cell_type": "code",
   "execution_count": 12,
   "metadata": {},
   "outputs": [],
   "source": [
    "df['dt_dow'] = pd.to_datetime(df['timestamp'], unit='s').dt.weekday"
   ]
  },
  {
   "cell_type": "code",
   "execution_count": 13,
   "metadata": {},
   "outputs": [
    {
     "name": "stdout",
     "output_type": "stream",
     "text": [
      "CPU times: user 19 s, sys: 14.3 s, total: 33.3 s\n",
      "Wall time: 33.3 s\n"
     ]
    }
   ],
   "source": [
    "%%time\n",
    "# TRAIN FIRST 5 DAYS. VALIDATE LAST 2 DAYS\n",
    "VALID_DOW = [1, 2]# order is [3, 4, 5, 6, 0, 1, 2]\n",
    "valid = df[df['dt_dow'].isin(VALID_DOW)].reset_index(drop=True)\n",
    "train = df[~df['dt_dow'].isin(VALID_DOW)].reset_index(drop=True)"
   ]
  },
  {
   "cell_type": "code",
   "execution_count": 14,
   "metadata": {},
   "outputs": [],
   "source": [
    "train = train.sort_values([\"b_user_id\", \"timestamp\"]).reset_index()\n",
    "valid = valid.sort_values([\"b_user_id\", \"timestamp\"]).reset_index()"
   ]
  },
  {
   "cell_type": "code",
   "execution_count": 15,
   "metadata": {},
   "outputs": [
    {
     "data": {
      "text/plain": [
       "((87914868, 29), (33471563, 29))"
      ]
     },
     "execution_count": 15,
     "metadata": {},
     "output_type": "execute_result"
    }
   ],
   "source": [
    "train.shape, valid.shape"
   ]
  },
  {
   "cell_type": "code",
   "execution_count": 16,
   "metadata": {},
   "outputs": [],
   "source": [
    "train.to_parquet('/raid/nv_train-1-train.parquet', row_group_size=1024)"
   ]
  },
  {
   "cell_type": "code",
   "execution_count": 17,
   "metadata": {},
   "outputs": [],
   "source": [
    "valid.to_parquet('/raid/nv_train-1-valid.parquet', row_group_size=1024)"
   ]
  }
 ],
 "metadata": {
  "kernelspec": {
   "display_name": "rapids",
   "language": "python",
   "name": "rapids"
  },
  "language_info": {
   "codemirror_mode": {
    "name": "ipython",
    "version": 3
   },
   "file_extension": ".py",
   "mimetype": "text/x-python",
   "name": "python",
   "nbconvert_exporter": "python",
   "pygments_lexer": "ipython3",
   "version": "3.7.8"
  }
 },
 "nbformat": 4,
 "nbformat_minor": 4
}
