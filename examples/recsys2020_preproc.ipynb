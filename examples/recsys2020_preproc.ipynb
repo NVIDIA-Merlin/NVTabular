{
 "cells": [
  {
   "cell_type": "code",
   "execution_count": 1,
   "metadata": {},
   "outputs": [],
   "source": [
    "import glob\n",
    "import pandas as pd"
   ]
  },
  {
   "cell_type": "code",
   "execution_count": 2,
   "metadata": {},
   "outputs": [],
   "source": [
    "df = pd.concat([pd.read_parquet(x) for x in glob.glob('/raid/train-1.parquet')])"
   ]
  },
  {
   "cell_type": "code",
   "execution_count": 3,
   "metadata": {},
   "outputs": [
    {
     "data": {
      "text/html": [
       "<div>\n",
       "<style scoped>\n",
       "    .dataframe tbody tr th:only-of-type {\n",
       "        vertical-align: middle;\n",
       "    }\n",
       "\n",
       "    .dataframe tbody tr th {\n",
       "        vertical-align: top;\n",
       "    }\n",
       "\n",
       "    .dataframe thead th {\n",
       "        text-align: right;\n",
       "    }\n",
       "</style>\n",
       "<table border=\"1\" class=\"dataframe\">\n",
       "  <thead>\n",
       "    <tr style=\"text-align: right;\">\n",
       "      <th></th>\n",
       "      <th>hashtags</th>\n",
       "      <th>tweet_id</th>\n",
       "      <th>media</th>\n",
       "      <th>links</th>\n",
       "      <th>domains</th>\n",
       "      <th>tweet_type</th>\n",
       "      <th>language</th>\n",
       "      <th>timestamp</th>\n",
       "      <th>a_user_id</th>\n",
       "      <th>a_follower_count</th>\n",
       "      <th>...</th>\n",
       "      <th>b_account_creation</th>\n",
       "      <th>b_follows_a</th>\n",
       "      <th>reply</th>\n",
       "      <th>retweet</th>\n",
       "      <th>retweet_comment</th>\n",
       "      <th>like</th>\n",
       "      <th>id</th>\n",
       "      <th>len_hashtags</th>\n",
       "      <th>len_domains</th>\n",
       "      <th>len_links</th>\n",
       "    </tr>\n",
       "  </thead>\n",
       "  <tbody>\n",
       "    <tr>\n",
       "      <th>0</th>\n",
       "      <td>None</td>\n",
       "      <td>0</td>\n",
       "      <td>0</td>\n",
       "      <td>None</td>\n",
       "      <td>None</td>\n",
       "      <td>2</td>\n",
       "      <td>11</td>\n",
       "      <td>1581262691</td>\n",
       "      <td>0</td>\n",
       "      <td>986</td>\n",
       "      <td>...</td>\n",
       "      <td>1478011810</td>\n",
       "      <td>False</td>\n",
       "      <td>0</td>\n",
       "      <td>0</td>\n",
       "      <td>0</td>\n",
       "      <td>0</td>\n",
       "      <td>0</td>\n",
       "      <td>0</td>\n",
       "      <td>0</td>\n",
       "      <td>0</td>\n",
       "    </tr>\n",
       "    <tr>\n",
       "      <th>1</th>\n",
       "      <td>83D6C79F5FCEC8D1CAD9E82C2C261611\\tFFAD2DCF664C...</td>\n",
       "      <td>1</td>\n",
       "      <td>0</td>\n",
       "      <td>None</td>\n",
       "      <td>None</td>\n",
       "      <td>1</td>\n",
       "      <td>11</td>\n",
       "      <td>1581497241</td>\n",
       "      <td>1</td>\n",
       "      <td>1225</td>\n",
       "      <td>...</td>\n",
       "      <td>1540395738</td>\n",
       "      <td>True</td>\n",
       "      <td>0</td>\n",
       "      <td>1581497559</td>\n",
       "      <td>0</td>\n",
       "      <td>1581497622</td>\n",
       "      <td>1</td>\n",
       "      <td>5</td>\n",
       "      <td>0</td>\n",
       "      <td>0</td>\n",
       "    </tr>\n",
       "    <tr>\n",
       "      <th>2</th>\n",
       "      <td>None</td>\n",
       "      <td>2</td>\n",
       "      <td>0</td>\n",
       "      <td>DDFFB4C01DB85921C3580F614575AA6D</td>\n",
       "      <td>BE4539C53C53FFABCFD232DB100C792B</td>\n",
       "      <td>2</td>\n",
       "      <td>11</td>\n",
       "      <td>1580978528</td>\n",
       "      <td>2</td>\n",
       "      <td>3016</td>\n",
       "      <td>...</td>\n",
       "      <td>1432084055</td>\n",
       "      <td>True</td>\n",
       "      <td>0</td>\n",
       "      <td>0</td>\n",
       "      <td>0</td>\n",
       "      <td>1581060554</td>\n",
       "      <td>2</td>\n",
       "      <td>0</td>\n",
       "      <td>1</td>\n",
       "      <td>1</td>\n",
       "    </tr>\n",
       "    <tr>\n",
       "      <th>3</th>\n",
       "      <td>None</td>\n",
       "      <td>3</td>\n",
       "      <td>0</td>\n",
       "      <td>None</td>\n",
       "      <td>None</td>\n",
       "      <td>1</td>\n",
       "      <td>54</td>\n",
       "      <td>1581321849</td>\n",
       "      <td>3</td>\n",
       "      <td>2121</td>\n",
       "      <td>...</td>\n",
       "      <td>1534313747</td>\n",
       "      <td>False</td>\n",
       "      <td>0</td>\n",
       "      <td>0</td>\n",
       "      <td>0</td>\n",
       "      <td>1581328518</td>\n",
       "      <td>3</td>\n",
       "      <td>0</td>\n",
       "      <td>0</td>\n",
       "      <td>0</td>\n",
       "    </tr>\n",
       "    <tr>\n",
       "      <th>4</th>\n",
       "      <td>None</td>\n",
       "      <td>4</td>\n",
       "      <td>5</td>\n",
       "      <td>None</td>\n",
       "      <td>None</td>\n",
       "      <td>2</td>\n",
       "      <td>11</td>\n",
       "      <td>1580956787</td>\n",
       "      <td>4</td>\n",
       "      <td>813505</td>\n",
       "      <td>...</td>\n",
       "      <td>1490166885</td>\n",
       "      <td>False</td>\n",
       "      <td>0</td>\n",
       "      <td>0</td>\n",
       "      <td>0</td>\n",
       "      <td>1580957807</td>\n",
       "      <td>4</td>\n",
       "      <td>0</td>\n",
       "      <td>0</td>\n",
       "      <td>0</td>\n",
       "    </tr>\n",
       "  </tbody>\n",
       "</table>\n",
       "<p>5 rows × 27 columns</p>\n",
       "</div>"
      ],
      "text/plain": [
       "                                            hashtags  tweet_id  media  \\\n",
       "0                                               None         0      0   \n",
       "1  83D6C79F5FCEC8D1CAD9E82C2C261611\\tFFAD2DCF664C...         1      0   \n",
       "2                                               None         2      0   \n",
       "3                                               None         3      0   \n",
       "4                                               None         4      5   \n",
       "\n",
       "                              links                           domains  \\\n",
       "0                              None                              None   \n",
       "1                              None                              None   \n",
       "2  DDFFB4C01DB85921C3580F614575AA6D  BE4539C53C53FFABCFD232DB100C792B   \n",
       "3                              None                              None   \n",
       "4                              None                              None   \n",
       "\n",
       "   tweet_type  language   timestamp  a_user_id  a_follower_count  ...  \\\n",
       "0           2        11  1581262691          0               986  ...   \n",
       "1           1        11  1581497241          1              1225  ...   \n",
       "2           2        11  1580978528          2              3016  ...   \n",
       "3           1        54  1581321849          3              2121  ...   \n",
       "4           2        11  1580956787          4            813505  ...   \n",
       "\n",
       "   b_account_creation  b_follows_a  reply     retweet  retweet_comment  \\\n",
       "0          1478011810        False      0           0                0   \n",
       "1          1540395738         True      0  1581497559                0   \n",
       "2          1432084055         True      0           0                0   \n",
       "3          1534313747        False      0           0                0   \n",
       "4          1490166885        False      0           0                0   \n",
       "\n",
       "         like  id  len_hashtags  len_domains  len_links  \n",
       "0           0   0             0            0          0  \n",
       "1  1581497622   1             5            0          0  \n",
       "2  1581060554   2             0            1          1  \n",
       "3  1581328518   3             0            0          0  \n",
       "4  1580957807   4             0            0          0  \n",
       "\n",
       "[5 rows x 27 columns]"
      ]
     },
     "execution_count": 3,
     "metadata": {},
     "output_type": "execute_result"
    }
   ],
   "source": [
    "df.head()"
   ]
  },
  {
   "cell_type": "code",
   "execution_count": 8,
   "metadata": {},
   "outputs": [],
   "source": [
    "df['dt_dow'] = pd.to_datetime(df['timestamp'], unit='s').dt.weekday"
   ]
  },
  {
   "cell_type": "code",
   "execution_count": 9,
   "metadata": {},
   "outputs": [
    {
     "name": "stdout",
     "output_type": "stream",
     "text": [
      "CPU times: user 29.2 s, sys: 22.2 s, total: 51.3 s\n",
      "Wall time: 51.3 s\n"
     ]
    }
   ],
   "source": [
    "%%time\n",
    "# TRAIN FIRST 5 DAYS. VALIDATE LAST 2 DAYS\n",
    "VALID_DOW = [1, 2]# order is [3, 4, 5, 6, 0, 1, 2]\n",
    "valid = df[df['dt_dow'].isin(VALID_DOW)].reset_index(drop=True)\n",
    "train = df[~df['dt_dow'].isin(VALID_DOW)].reset_index(drop=True)"
   ]
  },
  {
   "cell_type": "code",
   "execution_count": 10,
   "metadata": {},
   "outputs": [],
   "source": [
    "train = train.sort_values([\"b_user_id\", \"timestamp\"]).reset_index()\n",
    "valid = valid.sort_values([\"b_user_id\", \"timestamp\"]).reset_index()"
   ]
  },
  {
   "cell_type": "code",
   "execution_count": 11,
   "metadata": {},
   "outputs": [
    {
     "data": {
      "text/plain": [
       "((87914868, 29), (33471563, 29))"
      ]
     },
     "execution_count": 11,
     "metadata": {},
     "output_type": "execute_result"
    }
   ],
   "source": [
    "train.shape, valid.shape"
   ]
  },
  {
   "cell_type": "code",
   "execution_count": 12,
   "metadata": {},
   "outputs": [],
   "source": [
    "train.to_parquet('/raid/org_train-1-train.parquet', row_group_size=1024)"
   ]
  },
  {
   "cell_type": "code",
   "execution_count": 13,
   "metadata": {},
   "outputs": [],
   "source": [
    "valid.to_parquet('/raid/org_train-1-valid.parquet', row_group_size=1024)"
   ]
  },
  {
   "cell_type": "code",
   "execution_count": null,
   "metadata": {},
   "outputs": [],
   "source": []
  }
 ],
 "metadata": {
  "kernelspec": {
   "display_name": "rapids",
   "language": "python",
   "name": "rapids"
  },
  "language_info": {
   "codemirror_mode": {
    "name": "ipython",
    "version": 3
   },
   "file_extension": ".py",
   "mimetype": "text/x-python",
   "name": "python",
   "nbconvert_exporter": "python",
   "pygments_lexer": "ipython3",
   "version": "3.7.8"
  }
 },
 "nbformat": 4,
 "nbformat_minor": 4
}
