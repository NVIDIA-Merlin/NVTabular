{
 "cells": [
  {
   "cell_type": "code",
   "execution_count": 1,
   "metadata": {},
   "outputs": [],
   "source": [
    "import os\n",
    "# os.environ[\"CUDA_DEVICE_ORDER\"] = \"PCI_BUS_ID\"\n",
    "# os.environ[\"CUDA_VISIBLE_DEVICES\"] = \"3\""
   ]
  },
  {
   "cell_type": "code",
   "execution_count": 2,
   "metadata": {},
   "outputs": [],
   "source": [
    "evaluation = False\n",
    "evaluation_verbose = False\n",
    "OUTPUT_BUCKET_FOLDER = \"./preprocessed/\"\n",
    "DATA_BUCKET_FOLDER = \"/dataset/\""
   ]
  },
  {
   "cell_type": "code",
   "execution_count": 88,
   "metadata": {},
   "outputs": [],
   "source": [
    "import numpy as np\n",
    "\n",
    "import math\n",
    "import datetime\n",
    "import time\n",
    "\n",
    "import pandas as pd\n",
    "import cudf\n",
    "import cupy\n",
    "from numba import cuda\n",
    "import rmm\n",
    "\n",
    "import nvtabular as nvt\n",
    "\n",
    "from nvtabular.ops import Normalize, FillMissing, Categorify, LogOp, JoinExternal, Dropna, LambdaOp, JoinGroupby, Filter\n",
    "from nvtabular.column_similarity import ColumnSimilarity"
   ]
  },
  {
   "cell_type": "code",
   "execution_count": 13,
   "metadata": {},
   "outputs": [
    {
     "name": "stdout",
     "output_type": "stream",
     "text": [
      "CPU times: user 29 µs, sys: 25 µs, total: 54 µs\n",
      "Wall time: 65.6 µs\n"
     ]
    }
   ],
   "source": [
    "%%time\n",
    "import cudf\n",
    "import cupy\n",
    "#from pandas import read_csv\n",
    "from cudf import read_csv\n",
    "import rmm\n",
    "# rmm.reinitialize(managed_memory=True)  \n",
    "\n",
    "# documents_meta = read_csv(DATA_BUCKET_FOLDER + 'documents_meta.csv')\n",
    "# train_set = (read_csv(DATA_BUCKET_FOLDER+'clicks_train.csv')\n",
    "#              .merge(read_csv(DATA_BUCKET_FOLDER + 'events.csv'), on=\"display_id\", how=\"left\", suffixes=('', '_event'))\n",
    "#              .merge(read_csv(DATA_BUCKET_FOLDER+'promoted_content.csv'), on=\"ad_id\", how=\"left\", suffixes=('', '_promo'))\n",
    "#              .merge(documents_meta, on=\"document_id\", how=\"left\")\n",
    "#              .merge(documents_meta, left_on=\"document_id_promo\", right_on=\"document_id\", how=\"left\", suffixes=('', \"_promo\"))\n",
    "#             )\n",
    "# train_set.to_parquet(\"train_pdf.parquet\", compression=None)\n",
    "# train_set = None"
   ]
  },
  {
   "cell_type": "code",
   "execution_count": 8,
   "metadata": {},
   "outputs": [],
   "source": [
    "# country_utc_dst_cudf = cudf.read_csv('./data/country_codes_utc_dst_tz_delta.csv', keep_default_na=False)\n",
    "# us_states_utc_dst_cudf = cudf.read_csv('./data/us_states_abbrev_bst.csv', keep_default_na=False)\n",
    "# ca_states_utc_dst_cudf = cudf.read_csv('./data/ca_states_abbrev_bst.csv', keep_default_na=False)"
   ]
  },
  {
   "cell_type": "code",
   "execution_count": 26,
   "metadata": {},
   "outputs": [],
   "source": [
    "train_df = cudf.read_parquet('train_df.parquet', num_rows=10000)"
   ]
  },
  {
   "cell_type": "code",
   "execution_count": 27,
   "metadata": {},
   "outputs": [
    {
     "data": {
      "text/plain": [
       "Index(['display_id', 'ad_id', 'clicked', 'uuid', 'document_id', 'timestamp',\n",
       "       'platform', 'geo_location', 'document_id_promo', 'campaign_id',\n",
       "       'advertiser_id', 'source_id', 'publisher_id', 'publish_time',\n",
       "       'source_id_promo', 'publisher_id_promo', 'publish_time_promo'],\n",
       "      dtype='object')"
      ]
     },
     "execution_count": 27,
     "metadata": {},
     "output_type": "execute_result"
    }
   ],
   "source": [
    "train_df.columns"
   ]
  },
  {
   "cell_type": "code",
   "execution_count": 28,
   "metadata": {},
   "outputs": [],
   "source": [
    "CATEGORICAL_COLUMNS =['display_id', 'ad_id', 'uuid', 'document_id',\n",
    "       'platform', 'geo_location', 'document_id_promo', 'campaign_id',\n",
    "       'advertiser_id', 'source_id', 'publisher_id', 'publish_time',\n",
    "       'source_id_promo', 'publisher_id_promo', 'publish_time_promo']\n",
    "CONTINUOUS_COLUMNS = ['timestamp']"
   ]
  },
  {
   "cell_type": "code",
   "execution_count": 90,
   "metadata": {},
   "outputs": [
    {
     "name": "stderr",
     "output_type": "stream",
     "text": [
      "/nvtabular/nvtabular/io.py:742: UserWarning: part_mem_fraction is ignored for DataFrame input.\n",
      "  warnings.warn(\"part_mem_fraction is ignored for DataFrame input.\")\n"
     ]
    }
   ],
   "source": [
    "proc = nvt.Workflow(\n",
    "    cat_names=CATEGORICAL_COLUMNS,\n",
    "    cont_names= CONTINUOUS_COLUMNS,\n",
    "    label_name=['clicked'])\n",
    "\n",
    "proc.add_preprocess(\n",
    "    [\n",
    "    LambdaOp(\n",
    "        op_name='day',\n",
    "        f=lambda col, gdf: (col / 1000 / 60 / 60 / 24).astype(int),\n",
    "        columns=['timestamp'],\n",
    "        replace=False\n",
    "    ),\n",
    "    LambdaOp(\n",
    "        op_name='country',\n",
    "        f=lambda col, gdf: col.str.slice(0,2),\n",
    "        columns=['geo_location'],\n",
    "        replace=False\n",
    "    ),\n",
    "    LambdaOp(\n",
    "    op_name='state',\n",
    "    f=lambda col, gdf: col.str.slice(0,5),\n",
    "    columns=['geo_location'],\n",
    "    replace=False\n",
    "    ),\n",
    "    Categorify(columns=['uuid'])\n",
    "    ]\n",
    ")\n",
    "#apply dropna\n",
    "proc.add_feature(\n",
    "    [\n",
    "    Dropna(['geo_location']),\n",
    "    Dropna(['platform']),\n",
    "    JoinGroupby(columns=['ad_id', 'source_id', 'document_id_promo', 'publisher_id', 'advertiser_id', 'campaign_id'], \n",
    "        cont_names=['clicked'],\n",
    "        stats=['sum','count'])\n",
    "    ])\n",
    "\n",
    "proc.finalize()\n",
    "\n",
    "\n",
    "GPU_MEMORY_FRAC = 0.2\n",
    "\n",
    "train_dataset = nvt.Dataset(train_df, engine='parquet',  part_mem_fraction=GPU_MEMORY_FRAC)\n",
    "\n",
    "proc.apply(train_dataset, apply_offline=True, record_stats=True, output_path='./preprocessed/pop_count/', shuffle=False, out_files_per_proc=1)"
   ]
  },
  {
   "cell_type": "code",
   "execution_count": 91,
   "metadata": {},
   "outputs": [],
   "source": [
    "train_gdf= cudf.read_parquet('./preprocessed/pop_count/*.parquet')"
   ]
  },
  {
   "cell_type": "code",
   "execution_count": 92,
   "metadata": {},
   "outputs": [
    {
     "data": {
      "text/html": [
       "<div>\n",
       "<style scoped>\n",
       "    .dataframe tbody tr th:only-of-type {\n",
       "        vertical-align: middle;\n",
       "    }\n",
       "\n",
       "    .dataframe tbody tr th {\n",
       "        vertical-align: top;\n",
       "    }\n",
       "\n",
       "    .dataframe thead th {\n",
       "        text-align: right;\n",
       "    }\n",
       "</style>\n",
       "<table border=\"1\" class=\"dataframe\">\n",
       "  <thead>\n",
       "    <tr style=\"text-align: right;\">\n",
       "      <th></th>\n",
       "      <th>timestamp</th>\n",
       "      <th>display_id</th>\n",
       "      <th>ad_id</th>\n",
       "      <th>uuid</th>\n",
       "      <th>document_id</th>\n",
       "      <th>platform</th>\n",
       "      <th>geo_location</th>\n",
       "      <th>document_id_promo</th>\n",
       "      <th>campaign_id</th>\n",
       "      <th>advertiser_id</th>\n",
       "      <th>...</th>\n",
       "      <th>source_id_count</th>\n",
       "      <th>source_id_clicked_sum</th>\n",
       "      <th>document_id_promo_count</th>\n",
       "      <th>document_id_promo_clicked_sum</th>\n",
       "      <th>publisher_id_count</th>\n",
       "      <th>publisher_id_clicked_sum</th>\n",
       "      <th>advertiser_id_count</th>\n",
       "      <th>advertiser_id_clicked_sum</th>\n",
       "      <th>campaign_id_count</th>\n",
       "      <th>campaign_id_clicked_sum</th>\n",
       "    </tr>\n",
       "  </thead>\n",
       "  <tbody>\n",
       "    <tr>\n",
       "      <th>0</th>\n",
       "      <td>27679</td>\n",
       "      <td>371</td>\n",
       "      <td>67292</td>\n",
       "      <td>761</td>\n",
       "      <td>1179111</td>\n",
       "      <td>2</td>\n",
       "      <td>US&gt;MI&gt;505</td>\n",
       "      <td>1043039</td>\n",
       "      <td>8711</td>\n",
       "      <td>1919</td>\n",
       "      <td>...</td>\n",
       "      <td>197</td>\n",
       "      <td>31</td>\n",
       "      <td>37</td>\n",
       "      <td>2</td>\n",
       "      <td>197</td>\n",
       "      <td>31</td>\n",
       "      <td>238</td>\n",
       "      <td>7</td>\n",
       "      <td>37</td>\n",
       "      <td>2</td>\n",
       "    </tr>\n",
       "    <tr>\n",
       "      <th>1</th>\n",
       "      <td>27679</td>\n",
       "      <td>371</td>\n",
       "      <td>80033</td>\n",
       "      <td>761</td>\n",
       "      <td>1179111</td>\n",
       "      <td>2</td>\n",
       "      <td>US&gt;MI&gt;505</td>\n",
       "      <td>1087952</td>\n",
       "      <td>10565</td>\n",
       "      <td>407</td>\n",
       "      <td>...</td>\n",
       "      <td>197</td>\n",
       "      <td>31</td>\n",
       "      <td>5</td>\n",
       "      <td>3</td>\n",
       "      <td>197</td>\n",
       "      <td>31</td>\n",
       "      <td>46</td>\n",
       "      <td>10</td>\n",
       "      <td>5</td>\n",
       "      <td>3</td>\n",
       "    </tr>\n",
       "  </tbody>\n",
       "</table>\n",
       "<p>2 rows × 32 columns</p>\n",
       "</div>"
      ],
      "text/plain": [
       "   timestamp  display_id  ad_id  uuid  document_id platform geo_location  \\\n",
       "0      27679         371  67292   761      1179111        2    US>MI>505   \n",
       "1      27679         371  80033   761      1179111        2    US>MI>505   \n",
       "\n",
       "   document_id_promo  campaign_id  advertiser_id  ...  source_id_count  \\\n",
       "0            1043039         8711           1919  ...              197   \n",
       "1            1087952        10565            407  ...              197   \n",
       "\n",
       "   source_id_clicked_sum  document_id_promo_count  \\\n",
       "0                     31                       37   \n",
       "1                     31                        5   \n",
       "\n",
       "   document_id_promo_clicked_sum  publisher_id_count  \\\n",
       "0                              2                 197   \n",
       "1                              3                 197   \n",
       "\n",
       "   publisher_id_clicked_sum  advertiser_id_count  advertiser_id_clicked_sum  \\\n",
       "0                        31                  238                          7   \n",
       "1                        31                   46                         10   \n",
       "\n",
       "   campaign_id_count  campaign_id_clicked_sum  \n",
       "0                 37                        2  \n",
       "1                  5                        3  \n",
       "\n",
       "[2 rows x 32 columns]"
      ]
     },
     "execution_count": 92,
     "metadata": {},
     "output_type": "execute_result"
    }
   ],
   "source": [
    "train_gdf.head(2)"
   ]
  },
  {
   "cell_type": "code",
   "execution_count": 93,
   "metadata": {},
   "outputs": [
    {
     "data": {
      "text/plain": [
       "Index(['timestamp', 'display_id', 'ad_id', 'uuid', 'document_id', 'platform',\n",
       "       'geo_location', 'document_id_promo', 'campaign_id', 'advertiser_id',\n",
       "       'source_id', 'publisher_id', 'publish_time', 'source_id_promo',\n",
       "       'publisher_id_promo', 'publish_time_promo', 'clicked', 'timestamp_day',\n",
       "       'geo_location_country', 'geo_location_state', 'ad_id_count',\n",
       "       'ad_id_clicked_sum', 'source_id_count', 'source_id_clicked_sum',\n",
       "       'document_id_promo_count', 'document_id_promo_clicked_sum',\n",
       "       'publisher_id_count', 'publisher_id_clicked_sum', 'advertiser_id_count',\n",
       "       'advertiser_id_clicked_sum', 'campaign_id_count',\n",
       "       'campaign_id_clicked_sum'],\n",
       "      dtype='object')"
      ]
     },
     "execution_count": 93,
     "metadata": {},
     "output_type": "execute_result"
    }
   ],
   "source": [
    "train_gdf.columns"
   ]
  },
  {
   "cell_type": "code",
   "execution_count": 94,
   "metadata": {},
   "outputs": [
    {
     "name": "stderr",
     "output_type": "stream",
     "text": [
      "/nvtabular/nvtabular/io.py:742: UserWarning: part_mem_fraction is ignored for DataFrame input.\n",
      "  warnings.warn(\"part_mem_fraction is ignored for DataFrame input.\")\n"
     ]
    }
   ],
   "source": [
    "proc = nvt.Workflow(\n",
    "    cat_names=['display_id', 'ad_id', 'uuid', 'document_id', 'platform',\n",
    "       'geo_location', 'document_id_promo', 'campaign_id', 'advertiser_id',\n",
    "       'source_id', 'publisher_id', 'publish_time', 'source_id_promo',\n",
    "       'publisher_id_promo', 'publish_time_promo', 'timestamp_day',\n",
    "       'geo_location_country', 'geo_location_state'],\n",
    "    cont_names=['timestamp', 'ad_id_clicked_sum', 'ad_id_count', 'source_id_count', 'source_id_clicked_sum',\n",
    "       'document_id_promo_count', 'document_id_promo_clicked_sum', 'publisher_id_count', 'publisher_id_clicked_sum', 'advertiser_id_count',\n",
    "       'advertiser_id_clicked_sum', 'campaign_id_count','campaign_id_clicked_sum'],\n",
    "    label_name=['clicked'])\n",
    "\n",
    "proc.add_preprocess(\n",
    "    [\n",
    "     LambdaOp(\n",
    "         op_name='ctr',\n",
    "         f=lambda col, gdf: col/gdf['ad_id_count'],\n",
    "         columns=['ad_id_clicked_sum'],\n",
    "         replace=False\n",
    "     ),\n",
    "     LambdaOp(\n",
    "         op_name='ctr',\n",
    "         f=lambda col, gdf: col/gdf['source_id_count'],\n",
    "         columns=['source_id_clicked_sum'],\n",
    "         replace=False\n",
    "     ),\n",
    "      LambdaOp(\n",
    "         op_name='ctr',\n",
    "         f=lambda col, gdf: col/gdf['document_id_promo_count'],\n",
    "         columns=['document_id_promo_clicked_sum'],\n",
    "         replace=False),\n",
    "     LambdaOp(\n",
    "        op_name='ctr',\n",
    "        f=lambda col, gdf: col/gdf['publisher_id_count'],\n",
    "        columns=['publisher_id_clicked_sum'],\n",
    "        replace=False),\n",
    "    LambdaOp(\n",
    "        op_name='ctr',\n",
    "        f=lambda col, gdf: col/gdf['advertiser_id_count'],\n",
    "        columns=['advertiser_id_clicked_sum'],\n",
    "        replace=False),\n",
    "     LambdaOp(\n",
    "        op_name='ctr',\n",
    "        f=lambda col, gdf: col/gdf['campaign_id_count'],\n",
    "        columns=['campaign_id_clicked_sum'],\n",
    "        replace=False)   \n",
    "    ])\n",
    "    \n",
    "proc.add_feature([\n",
    "    Dropna(['ad_id']),\n",
    "    Dropna(['source_id']),\n",
    "    Dropna(['document_id_promo']),\n",
    "    Dropna(['publisher_id']),\n",
    "    Dropna(['advertiser_id']),\n",
    "    Dropna(['campaign_id'])\n",
    "    ])\n",
    "\n",
    "proc.add_preprocess([\n",
    "    Filter(f=lambda gdf: gdf[gdf.ad_id_count > 5]),\n",
    "    Filter(f=lambda gdf: gdf[gdf.source_id_count > 10]),\n",
    "    Filter(f=lambda gdf: gdf[gdf.document_id_promo_count > 5]),\n",
    "    Filter(f=lambda gdf: gdf[gdf.publisher_id_count > 10]),\n",
    "    Filter(f=lambda gdf: gdf[gdf.advertiser_id_count > 10]),\n",
    "    Filter(f=lambda gdf: gdf[gdf.campaign_id_count > 10]),\n",
    "])\n",
    "\n",
    "proc.finalize()\n",
    "\n",
    "GPU_MEMORY_FRAC = 0.2\n",
    "train_dataset = nvt.Dataset(train_gdf, engine='parquet',  part_mem_fraction=GPU_MEMORY_FRAC)\n",
    "proc.apply(train_dataset, apply_offline=True, record_stats=True, output_path='./preprocessed/ctr/', shuffle=False, out_files_per_proc=1)"
   ]
  },
  {
   "cell_type": "code",
   "execution_count": 95,
   "metadata": {},
   "outputs": [],
   "source": [
    "train_gdf= cudf.read_parquet('./preprocessed/ctr/*.parquet')"
   ]
  },
  {
   "cell_type": "code",
   "execution_count": 96,
   "metadata": {},
   "outputs": [
    {
     "data": {
      "text/plain": [
       "(2205, 38)"
      ]
     },
     "execution_count": 96,
     "metadata": {},
     "output_type": "execute_result"
    }
   ],
   "source": [
    "train_gdf.shape"
   ]
  },
  {
   "cell_type": "code",
   "execution_count": 99,
   "metadata": {},
   "outputs": [
    {
     "data": {
      "text/html": [
       "<div>\n",
       "<style scoped>\n",
       "    .dataframe tbody tr th:only-of-type {\n",
       "        vertical-align: middle;\n",
       "    }\n",
       "\n",
       "    .dataframe tbody tr th {\n",
       "        vertical-align: top;\n",
       "    }\n",
       "\n",
       "    .dataframe thead th {\n",
       "        text-align: right;\n",
       "    }\n",
       "</style>\n",
       "<table border=\"1\" class=\"dataframe\">\n",
       "  <thead>\n",
       "    <tr style=\"text-align: right;\">\n",
       "      <th></th>\n",
       "      <th>timestamp</th>\n",
       "      <th>ad_id_clicked_sum</th>\n",
       "      <th>ad_id_count</th>\n",
       "      <th>source_id_count</th>\n",
       "      <th>source_id_clicked_sum</th>\n",
       "      <th>document_id_promo_count</th>\n",
       "      <th>document_id_promo_clicked_sum</th>\n",
       "      <th>publisher_id_count</th>\n",
       "      <th>publisher_id_clicked_sum</th>\n",
       "      <th>advertiser_id_count</th>\n",
       "      <th>...</th>\n",
       "      <th>timestamp_day</th>\n",
       "      <th>geo_location_country</th>\n",
       "      <th>geo_location_state</th>\n",
       "      <th>clicked</th>\n",
       "      <th>ad_id_clicked_sum_ctr</th>\n",
       "      <th>source_id_clicked_sum_ctr</th>\n",
       "      <th>document_id_promo_clicked_sum_ctr</th>\n",
       "      <th>publisher_id_clicked_sum_ctr</th>\n",
       "      <th>advertiser_id_clicked_sum_ctr</th>\n",
       "      <th>campaign_id_clicked_sum_ctr</th>\n",
       "    </tr>\n",
       "  </thead>\n",
       "  <tbody>\n",
       "    <tr>\n",
       "      <th>0</th>\n",
       "      <td>843199</td>\n",
       "      <td>3</td>\n",
       "      <td>21</td>\n",
       "      <td>194</td>\n",
       "      <td>36</td>\n",
       "      <td>47</td>\n",
       "      <td>7</td>\n",
       "      <td>218</td>\n",
       "      <td>41</td>\n",
       "      <td>52</td>\n",
       "      <td>...</td>\n",
       "      <td>0</td>\n",
       "      <td>US</td>\n",
       "      <td>US&gt;FL</td>\n",
       "      <td>0</td>\n",
       "      <td>0.142857</td>\n",
       "      <td>0.185567</td>\n",
       "      <td>0.148936</td>\n",
       "      <td>0.188073</td>\n",
       "      <td>0.134615</td>\n",
       "      <td>0.159091</td>\n",
       "    </tr>\n",
       "    <tr>\n",
       "      <th>1</th>\n",
       "      <td>451121</td>\n",
       "      <td>9</td>\n",
       "      <td>44</td>\n",
       "      <td>87</td>\n",
       "      <td>19</td>\n",
       "      <td>47</td>\n",
       "      <td>10</td>\n",
       "      <td>97</td>\n",
       "      <td>22</td>\n",
       "      <td>50</td>\n",
       "      <td>...</td>\n",
       "      <td>0</td>\n",
       "      <td>US</td>\n",
       "      <td>US&gt;NV</td>\n",
       "      <td>0</td>\n",
       "      <td>0.204545</td>\n",
       "      <td>0.218391</td>\n",
       "      <td>0.212766</td>\n",
       "      <td>0.226804</td>\n",
       "      <td>0.200000</td>\n",
       "      <td>0.183673</td>\n",
       "    </tr>\n",
       "  </tbody>\n",
       "</table>\n",
       "<p>2 rows × 38 columns</p>\n",
       "</div>"
      ],
      "text/plain": [
       "   timestamp  ad_id_clicked_sum  ad_id_count  source_id_count  \\\n",
       "0     843199                  3           21              194   \n",
       "1     451121                  9           44               87   \n",
       "\n",
       "   source_id_clicked_sum  document_id_promo_count  \\\n",
       "0                     36                       47   \n",
       "1                     19                       47   \n",
       "\n",
       "   document_id_promo_clicked_sum  publisher_id_count  \\\n",
       "0                              7                 218   \n",
       "1                             10                  97   \n",
       "\n",
       "   publisher_id_clicked_sum  advertiser_id_count  ...  timestamp_day  \\\n",
       "0                        41                   52  ...              0   \n",
       "1                        22                   50  ...              0   \n",
       "\n",
       "   geo_location_country geo_location_state clicked  ad_id_clicked_sum_ctr  \\\n",
       "0                    US              US>FL       0               0.142857   \n",
       "1                    US              US>NV       0               0.204545   \n",
       "\n",
       "   source_id_clicked_sum_ctr  document_id_promo_clicked_sum_ctr  \\\n",
       "0                   0.185567                           0.148936   \n",
       "1                   0.218391                           0.212766   \n",
       "\n",
       "   publisher_id_clicked_sum_ctr  advertiser_id_clicked_sum_ctr  \\\n",
       "0                      0.188073                       0.134615   \n",
       "1                      0.226804                       0.200000   \n",
       "\n",
       "   campaign_id_clicked_sum_ctr  \n",
       "0                     0.159091  \n",
       "1                     0.183673  \n",
       "\n",
       "[2 rows x 38 columns]"
      ]
     },
     "execution_count": 99,
     "metadata": {},
     "output_type": "execute_result"
    }
   ],
   "source": [
    "train_gdf.head(2)"
   ]
  },
  {
   "cell_type": "code",
   "execution_count": 97,
   "metadata": {},
   "outputs": [
    {
     "data": {
      "text/plain": [
       "Index(['timestamp', 'ad_id_clicked_sum', 'ad_id_count', 'source_id_count',\n",
       "       'source_id_clicked_sum', 'document_id_promo_count',\n",
       "       'document_id_promo_clicked_sum', 'publisher_id_count',\n",
       "       'publisher_id_clicked_sum', 'advertiser_id_count',\n",
       "       'advertiser_id_clicked_sum', 'campaign_id_count',\n",
       "       'campaign_id_clicked_sum', 'display_id', 'ad_id', 'uuid', 'document_id',\n",
       "       'platform', 'geo_location', 'document_id_promo', 'campaign_id',\n",
       "       'advertiser_id', 'source_id', 'publisher_id', 'publish_time',\n",
       "       'source_id_promo', 'publisher_id_promo', 'publish_time_promo',\n",
       "       'timestamp_day', 'geo_location_country', 'geo_location_state',\n",
       "       'clicked', 'ad_id_clicked_sum_ctr', 'source_id_clicked_sum_ctr',\n",
       "       'document_id_promo_clicked_sum_ctr', 'publisher_id_clicked_sum_ctr',\n",
       "       'advertiser_id_clicked_sum_ctr', 'campaign_id_clicked_sum_ctr'],\n",
       "      dtype='object')"
      ]
     },
     "execution_count": 97,
     "metadata": {},
     "output_type": "execute_result"
    }
   ],
   "source": [
    "train_gdf.columns"
   ]
  },
  {
   "cell_type": "code",
   "execution_count": 98,
   "metadata": {},
   "outputs": [
    {
     "data": {
      "text/plain": [
       "(0, 0, 0, 0)"
      ]
     },
     "execution_count": 98,
     "metadata": {},
     "output_type": "execute_result"
    }
   ],
   "source": [
    "#just to check if there is any nulls \n",
    "train_gdf['ad_id'].isnull().sum(), train_gdf['publisher_id'].isnull().sum(),  train_gdf['campaign_id'].isnull().sum(),  train_gdf['document_id_promo'].isnull().sum()"
   ]
  },
  {
   "cell_type": "code",
   "execution_count": 101,
   "metadata": {},
   "outputs": [
    {
     "data": {
      "text/plain": [
       "(6, 11, 6)"
      ]
     },
     "execution_count": 101,
     "metadata": {},
     "output_type": "execute_result"
    }
   ],
   "source": [
    "# just to check the min `views`\n",
    "train_gdf['ad_id_count'].min(), train_gdf['source_id_count'].min(), train_gdf['document_id_promo_count'].min()"
   ]
  },
  {
   "cell_type": "code",
   "execution_count": 30,
   "metadata": {},
   "outputs": [],
   "source": [
    "TIMESTAMP_DELTA = 1465876799998\n",
    "(new_gdf['timestamp'] + TIMESTAMP_DELTA).astype('datetime64[ms]')\n",
    "new_gdf['event_hour'] = (new_gdf['timestamp'] + TIMESTAMP_DELTA).astype('datetime64[ms]').dt.hour"
   ]
  },
  {
   "cell_type": "code",
   "execution_count": null,
   "metadata": {},
   "outputs": [],
   "source": []
  },
  {
   "cell_type": "code",
   "execution_count": 31,
   "metadata": {},
   "outputs": [
    {
     "data": {
      "text/plain": [
       "0     5\n",
       "1     5\n",
       "2     4\n",
       "3     4\n",
       "4     4\n",
       "     ..\n",
       "95    5\n",
       "96    5\n",
       "97    5\n",
       "98    5\n",
       "99    4\n",
       "Name: event_hour, Length: 100, dtype: int16"
      ]
     },
     "execution_count": 31,
     "metadata": {},
     "output_type": "execute_result"
    }
   ],
   "source": [
    "new_gdf['event_hour']"
   ]
  },
  {
   "cell_type": "code",
   "execution_count": null,
   "metadata": {},
   "outputs": [],
   "source": [
    "# page_views_cudf = cudf.read_csv(\n",
    "#     DATA_BUCKET_FOLDER + 'page_views.csv',\n",
    "#     names=['uuid_pv', 'document_id_pv', 'timestamp_pv', 'platform_pv', 'geo_location_pv', 'traffic_source_pv'],\n",
    "#     dtype={'uuid_pv': 'str', 'document_id_pv': 'int64', 'timestamp_pv': 'int64',\n",
    "#            'platform_pv': 'int64', 'geo_location_pv': 'str', 'traffic_source_pv': 'int64'},\n",
    "#     skiprows=1,\n",
    "#     keep_default_na=False)\n",
    "\n",
    "# page_views_cudf['day_pv'] = (page_views_cudf['timestamp_pv'] / 1000 / 60 / 60 / 24).astype(int)\n",
    "\n",
    "# page_views_users_cudf =page_views_cudf.groupby(by=['uuid_pv', 'document_id_pv'])['timestamp_pv'].agg('max').reset_index()\n"
   ]
  },
  {
   "cell_type": "code",
   "execution_count": 6,
   "metadata": {},
   "outputs": [],
   "source": [
    "documents_categories_cudf = cudf.read_csv(\n",
    "    DATA_BUCKET_FOLDER + 'documents_categories.csv',\n",
    "    names=['document_id_cat', 'category_id', 'confidence_level_cat'],\n",
    "    dtype={'document_id_cat': 'int64','category_id': 'int64','confidence_level_cat': 'float32'},\n",
    "    skiprows=1)\n",
    "\n",
    "documents_topics_cudf = cudf.read_csv(\n",
    "    DATA_BUCKET_FOLDER + 'documents_topics.csv',\n",
    "    names=['document_id_top', 'topic_id', 'confidence_level_top'],\n",
    "    dtype={'document_id_top': 'int64','topic_id': 'int64','confidence_level_top': 'float32'},\n",
    "    skiprows=1)\n",
    "\n",
    "documents_entities_cudf = cudf.read_csv(\n",
    "    DATA_BUCKET_FOLDER + 'documents_entities.csv',\n",
    "\n",
    "    names=['document_id_ent', 'entity_id', 'confidence_level_ent'],\n",
    "    dtype={'document_id_ent': 'int64','entity_id': 'str','confidence_level_ent': 'float32'},\n",
    "    skiprows=1)"
   ]
  },
  {
   "cell_type": "code",
   "execution_count": 23,
   "metadata": {},
   "outputs": [],
   "source": [
    "def get_category_field_values_counts(field, df, min_threshold=10):\n",
    "    category_counts = dict(list(filter(lambda x: not is_null(x[0]) and x[1] >= min_threshold, df.select(field).groupBy(field).count().rdd.map(lambda x: (x[0], x[1])).collect())))\n",
    "    #Adding a special value to create a feature for values in this category that are less than min_threshold \n",
    "    category_counts[LESS_SPECIAL_CAT_VALUE] = -1\n",
    "    return category_counts\n"
   ]
  },
  {
   "cell_type": "code",
   "execution_count": 24,
   "metadata": {},
   "outputs": [],
   "source": [
    "LESS_SPECIAL_CAT_VALUE = 'less'"
   ]
  },
  {
   "cell_type": "code",
   "execution_count": 25,
   "metadata": {},
   "outputs": [],
   "source": [
    " def get_category_field_values_counts_cudf(field, df, min_threshold=10):\n",
    "    df = df.groupby(field)[field].agg('count').to_frame()\n",
    "\n",
    "\n",
    "    df.rename(columns={field:'count'},inplace =True)\n",
    "\n",
    "    df = df[df['count'] >= min_threshold].reset_index()\n",
    "    df = cudf.concat([df,cudf.DataFrame({field:['less'], \"count\":[-1]})],ignore_index=True)\n",
    "    return df"
   ]
  },
  {
   "cell_type": "code",
   "execution_count": 26,
   "metadata": {},
   "outputs": [],
   "source": [
    "event_country_values_counts = get_category_field_values_counts_cudf('event_country', events_cudf, min_threshold=10)\n",
    "#All non-null categories: 230\n",
    "\n",
    "event_country_state_values_counts = get_category_field_values_counts_cudf('event_country_state', events_cudf, min_threshold=10)\n",
    "\n",
    "event_geo_location_values_counts = get_category_field_values_counts_cudf('geo_location_event', events_cudf, min_threshold=10)\n",
    "#All non-null categories: 2988\n",
    "\n",
    "doc_entity_id_values_counts = get_category_field_values_counts_cudf('entity_id', documents_entities_cudf, min_threshold=10)"
   ]
  },
  {
   "cell_type": "code",
   "execution_count": 21,
   "metadata": {},
   "outputs": [],
   "source": [
    "#documents_total = len(documents_meta_cudf)"
   ]
  },
  {
   "cell_type": "code",
   "execution_count": 59,
   "metadata": {},
   "outputs": [],
   "source": [
    "def get_ctr(df):\n",
    "    return df['clicks'] /df['views']"
   ]
  },
  {
   "cell_type": "code",
   "execution_count": 60,
   "metadata": {},
   "outputs": [],
   "source": [
    "def gather_stats(gdf):\n",
    "    avg_ctr = gdf['ctr'].sum() / len(gdf['ctr'])\n",
    "    weighted_avg_ctr = (gdf['ctr'] * gdf['views']).sum() / gdf['views'].sum()\n",
    "    median_views = gdf['views'].median()\n",
    "    mean_views= gdf['views'].mean()\n",
    "    return avg_ctr,weighted_avg_ctr,median_views,mean_views"
   ]
  },
  {
   "cell_type": "code",
   "execution_count": 65,
   "metadata": {},
   "outputs": [],
   "source": [
    "def get_popularity_cudf(gdf, fields,get_distinct_ad_ids = True,additional_output=[]):\n",
    "    grouped = gdf.groupby(fields)\n",
    "    gdf = gdf.groupby(fields)['clicked'].agg(['sum','count']).rename(columns={'sum':'clicks','count':'views'})\n",
    "    #print(gdf.head())\n",
    "    if(get_distinct_ad_ids):\n",
    "        gdf['distinct_ad_ids'] = grouped['ad_id'].nunique()\n",
    "    gdf['ctr'] = get_ctr(gdf)\n",
    "    for field in additional_output:\n",
    "        gdf[field[0]] = grouped[field[1]].agg([field[2]])\n",
    "    gdf.reset_index(inplace=True)\n",
    "    final_fields = fields + ['clicks','views','ctr']\n",
    "    if(get_distinct_ad_ids):\n",
    "        final_fields.append('distinct_ad_ids')\n",
    "    final_fields += [field[0] for field in additional_output]\n",
    "    gdf = gdf[final_fields]\n",
    "   \n",
    "    return gdf"
   ]
  },
  {
   "cell_type": "code",
   "execution_count": 66,
   "metadata": {},
   "outputs": [
    {
     "data": {
      "text/html": [
       "<div>\n",
       "<style scoped>\n",
       "    .dataframe tbody tr th:only-of-type {\n",
       "        vertical-align: middle;\n",
       "    }\n",
       "\n",
       "    .dataframe tbody tr th {\n",
       "        vertical-align: top;\n",
       "    }\n",
       "\n",
       "    .dataframe thead th {\n",
       "        text-align: right;\n",
       "    }\n",
       "</style>\n",
       "<table border=\"1\" class=\"dataframe\">\n",
       "  <thead>\n",
       "    <tr style=\"text-align: right;\">\n",
       "      <th></th>\n",
       "      <th>ad_id</th>\n",
       "      <th>clicks</th>\n",
       "      <th>views</th>\n",
       "      <th>ctr</th>\n",
       "      <th>distinct_ad_ids</th>\n",
       "    </tr>\n",
       "  </thead>\n",
       "  <tbody>\n",
       "    <tr>\n",
       "      <th>0</th>\n",
       "      <td>1174</td>\n",
       "      <td>0</td>\n",
       "      <td>1</td>\n",
       "      <td>0.0</td>\n",
       "      <td>1</td>\n",
       "    </tr>\n",
       "    <tr>\n",
       "      <th>1</th>\n",
       "      <td>1222</td>\n",
       "      <td>0</td>\n",
       "      <td>1</td>\n",
       "      <td>0.0</td>\n",
       "      <td>1</td>\n",
       "    </tr>\n",
       "    <tr>\n",
       "      <th>2</th>\n",
       "      <td>1266</td>\n",
       "      <td>0</td>\n",
       "      <td>1</td>\n",
       "      <td>0.0</td>\n",
       "      <td>1</td>\n",
       "    </tr>\n",
       "    <tr>\n",
       "      <th>3</th>\n",
       "      <td>1605</td>\n",
       "      <td>0</td>\n",
       "      <td>1</td>\n",
       "      <td>0.0</td>\n",
       "      <td>1</td>\n",
       "    </tr>\n",
       "    <tr>\n",
       "      <th>4</th>\n",
       "      <td>2138</td>\n",
       "      <td>0</td>\n",
       "      <td>1</td>\n",
       "      <td>0.0</td>\n",
       "      <td>1</td>\n",
       "    </tr>\n",
       "    <tr>\n",
       "      <th>...</th>\n",
       "      <td>...</td>\n",
       "      <td>...</td>\n",
       "      <td>...</td>\n",
       "      <td>...</td>\n",
       "      <td>...</td>\n",
       "    </tr>\n",
       "    <tr>\n",
       "      <th>4382</th>\n",
       "      <td>347979</td>\n",
       "      <td>0</td>\n",
       "      <td>2</td>\n",
       "      <td>0.0</td>\n",
       "      <td>1</td>\n",
       "    </tr>\n",
       "    <tr>\n",
       "      <th>4383</th>\n",
       "      <td>348052</td>\n",
       "      <td>0</td>\n",
       "      <td>1</td>\n",
       "      <td>0.0</td>\n",
       "      <td>1</td>\n",
       "    </tr>\n",
       "    <tr>\n",
       "      <th>4384</th>\n",
       "      <td>348078</td>\n",
       "      <td>1</td>\n",
       "      <td>2</td>\n",
       "      <td>0.5</td>\n",
       "      <td>1</td>\n",
       "    </tr>\n",
       "    <tr>\n",
       "      <th>4385</th>\n",
       "      <td>348721</td>\n",
       "      <td>0</td>\n",
       "      <td>1</td>\n",
       "      <td>0.0</td>\n",
       "      <td>1</td>\n",
       "    </tr>\n",
       "    <tr>\n",
       "      <th>4386</th>\n",
       "      <td>349751</td>\n",
       "      <td>0</td>\n",
       "      <td>1</td>\n",
       "      <td>0.0</td>\n",
       "      <td>1</td>\n",
       "    </tr>\n",
       "  </tbody>\n",
       "</table>\n",
       "<p>4387 rows × 5 columns</p>\n",
       "</div>"
      ],
      "text/plain": [
       "       ad_id  clicks  views  ctr  distinct_ad_ids\n",
       "0       1174       0      1  0.0                1\n",
       "1       1222       0      1  0.0                1\n",
       "2       1266       0      1  0.0                1\n",
       "3       1605       0      1  0.0                1\n",
       "4       2138       0      1  0.0                1\n",
       "...      ...     ...    ...  ...              ...\n",
       "4382  347979       0      2  0.0                1\n",
       "4383  348052       0      1  0.0                1\n",
       "4384  348078       1      2  0.5                1\n",
       "4385  348721       0      1  0.0                1\n",
       "4386  349751       0      1  0.0                1\n",
       "\n",
       "[4387 rows x 5 columns]"
      ]
     },
     "execution_count": 66,
     "metadata": {},
     "output_type": "execute_result"
    }
   ],
   "source": [
    "get_popularity_cudf(train_df,['ad_id'])"
   ]
  },
  {
   "cell_type": "code",
   "execution_count": 68,
   "metadata": {},
   "outputs": [],
   "source": [
    "#train_set_cudf = clicks_train_joined_cudf"
   ]
  },
  {
   "cell_type": "code",
   "execution_count": 69,
   "metadata": {},
   "outputs": [],
   "source": [
    "def get_confidence_sample_size(sample, max_for_reference=100000):\n",
    "    #Avoiding overflow for large sample size\n",
    "\n",
    "    return (np.log(1+sample) / float(math.log(1+max_for_reference, 2))).where(sample <= max_for_reference, 1.0)"
   ]
  },
  {
   "cell_type": "code",
   "execution_count": 97,
   "metadata": {},
   "outputs": [
    {
     "data": {
      "text/html": [
       "<div>\n",
       "<style scoped>\n",
       "    .dataframe tbody tr th:only-of-type {\n",
       "        vertical-align: middle;\n",
       "    }\n",
       "\n",
       "    .dataframe tbody tr th {\n",
       "        vertical-align: top;\n",
       "    }\n",
       "\n",
       "    .dataframe thead th {\n",
       "        text-align: right;\n",
       "    }\n",
       "</style>\n",
       "<table border=\"1\" class=\"dataframe\">\n",
       "  <thead>\n",
       "    <tr style=\"text-align: right;\">\n",
       "      <th></th>\n",
       "      <th>ad_id</th>\n",
       "      <th>clicks</th>\n",
       "      <th>views</th>\n",
       "      <th>ctr</th>\n",
       "      <th>distinct_ad_ids</th>\n",
       "    </tr>\n",
       "  </thead>\n",
       "  <tbody>\n",
       "    <tr>\n",
       "      <th>0</th>\n",
       "      <td>3358</td>\n",
       "      <td>0</td>\n",
       "      <td>1</td>\n",
       "      <td>0.0</td>\n",
       "      <td>1</td>\n",
       "    </tr>\n",
       "    <tr>\n",
       "      <th>1</th>\n",
       "      <td>3510</td>\n",
       "      <td>0</td>\n",
       "      <td>1</td>\n",
       "      <td>0.0</td>\n",
       "      <td>1</td>\n",
       "    </tr>\n",
       "  </tbody>\n",
       "</table>\n",
       "</div>"
      ],
      "text/plain": [
       "   ad_id  clicks  views  ctr  distinct_ad_ids\n",
       "0   3358       0      1  0.0                1\n",
       "1   3510       0      1  0.0                1"
      ]
     },
     "execution_count": 97,
     "metadata": {},
     "output_type": "execute_result"
    }
   ],
   "source": [
    "#ad_id_popularity_cudf = get_popularity_cudf(train_set_cudf,['ad_id'])\n",
    "ad_id_popularity_cudf = get_popularity_cudf(train_df,['ad_id'])\n",
    "ad_id_popularity_cudf.head(2)"
   ]
  },
  {
   "cell_type": "code",
   "execution_count": 98,
   "metadata": {},
   "outputs": [],
   "source": [
    "ad_id_popularity_cudf = ad_id_popularity_cudf[ad_id_popularity_cudf['views'] >5]\n",
    "ad_id_avg_ctr_cudf,ad_id_weighted_avg_ctr_cudf,ad_id_views_median_cudf,ad_id_views_mean_cudf= gather_stats(ad_id_popularity_cudf)\n",
    "ad_id_popularity_cudf = ad_id_popularity_cudf\n",
    "ad_id_popularity_cudf['distinct_ad_ids'] = 1\n",
    "ad_id_popularity_cudf['confidence'] = get_confidence_sample_size( \\\n",
    "            ad_id_popularity_cudf['views'] / \\\n",
    "            ad_id_popularity_cudf['distinct_ad_ids'].astype(float))"
   ]
  },
  {
   "cell_type": "code",
   "execution_count": 99,
   "metadata": {},
   "outputs": [
    {
     "data": {
      "text/html": [
       "<div>\n",
       "<style scoped>\n",
       "    .dataframe tbody tr th:only-of-type {\n",
       "        vertical-align: middle;\n",
       "    }\n",
       "\n",
       "    .dataframe tbody tr th {\n",
       "        vertical-align: top;\n",
       "    }\n",
       "\n",
       "    .dataframe thead th {\n",
       "        text-align: right;\n",
       "    }\n",
       "</style>\n",
       "<table border=\"1\" class=\"dataframe\">\n",
       "  <thead>\n",
       "    <tr style=\"text-align: right;\">\n",
       "      <th></th>\n",
       "      <th>ad_id</th>\n",
       "      <th>clicks</th>\n",
       "      <th>views</th>\n",
       "      <th>ctr</th>\n",
       "      <th>distinct_ad_ids</th>\n",
       "      <th>confidence</th>\n",
       "    </tr>\n",
       "  </thead>\n",
       "  <tbody>\n",
       "    <tr>\n",
       "      <th>337</th>\n",
       "      <td>139682</td>\n",
       "      <td>5</td>\n",
       "      <td>9</td>\n",
       "      <td>0.555556</td>\n",
       "      <td>1</td>\n",
       "      <td>0.138629</td>\n",
       "    </tr>\n",
       "    <tr>\n",
       "      <th>470</th>\n",
       "      <td>173005</td>\n",
       "      <td>2</td>\n",
       "      <td>6</td>\n",
       "      <td>0.333333</td>\n",
       "      <td>1</td>\n",
       "      <td>0.117155</td>\n",
       "    </tr>\n",
       "    <tr>\n",
       "      <th>481</th>\n",
       "      <td>174547</td>\n",
       "      <td>0</td>\n",
       "      <td>6</td>\n",
       "      <td>0.000000</td>\n",
       "      <td>1</td>\n",
       "      <td>0.117155</td>\n",
       "    </tr>\n",
       "  </tbody>\n",
       "</table>\n",
       "</div>"
      ],
      "text/plain": [
       "      ad_id  clicks  views       ctr  distinct_ad_ids  confidence\n",
       "337  139682       5      9  0.555556                1    0.138629\n",
       "470  173005       2      6  0.333333                1    0.117155\n",
       "481  174547       0      6  0.000000                1    0.117155"
      ]
     },
     "execution_count": 99,
     "metadata": {},
     "output_type": "execute_result"
    }
   ],
   "source": [
    "ad_id_popularity_cudf"
   ]
  },
  {
   "cell_type": "code",
   "execution_count": 70,
   "metadata": {},
   "outputs": [],
   "source": [
    "\n",
    "#document_id_popularity_cudf = get_popularity_cudf(train_set_cudf,['document_id_promo'])\n",
    "document_id_popularity_cudf = get_popularity_cudf(train_df,['document_id_promo'])\n",
    "document_id_popularity_cudf = document_id_popularity_cudf[document_id_popularity_cudf['views'] >5]\n",
    "#document_id_avg_ctr_cudf,document_id_weighted_avg_ctr_cudf,document_id_views_median_cudf,document_id_views_mean_cudf = gather_stats(document_id_popularity_cudf)\n",
    "#document_id_popularity_cudf = document_id_popularity_cudf\n",
    "document_id_popularity_cudf['confidence'] = get_confidence_sample_size( \\\n",
    "            document_id_popularity_cudf['views'] / \\\n",
    "            document_id_popularity_cudf['distinct_ad_ids'].astype(float))"
   ]
  },
  {
   "cell_type": "code",
   "execution_count": 71,
   "metadata": {},
   "outputs": [
    {
     "data": {
      "text/html": [
       "<div>\n",
       "<style scoped>\n",
       "    .dataframe tbody tr th:only-of-type {\n",
       "        vertical-align: middle;\n",
       "    }\n",
       "\n",
       "    .dataframe tbody tr th {\n",
       "        vertical-align: top;\n",
       "    }\n",
       "\n",
       "    .dataframe thead th {\n",
       "        text-align: right;\n",
       "    }\n",
       "</style>\n",
       "<table border=\"1\" class=\"dataframe\">\n",
       "  <thead>\n",
       "    <tr style=\"text-align: right;\">\n",
       "      <th></th>\n",
       "      <th>document_id_promo</th>\n",
       "      <th>clicks</th>\n",
       "      <th>views</th>\n",
       "      <th>ctr</th>\n",
       "      <th>distinct_ad_ids</th>\n",
       "      <th>confidence</th>\n",
       "    </tr>\n",
       "  </thead>\n",
       "  <tbody>\n",
       "    <tr>\n",
       "      <th>5</th>\n",
       "      <td>25191</td>\n",
       "      <td>1</td>\n",
       "      <td>7</td>\n",
       "      <td>0.142857</td>\n",
       "      <td>1</td>\n",
       "      <td>0.125195</td>\n",
       "    </tr>\n",
       "    <tr>\n",
       "      <th>14</th>\n",
       "      <td>136145</td>\n",
       "      <td>0</td>\n",
       "      <td>7</td>\n",
       "      <td>0.000000</td>\n",
       "      <td>1</td>\n",
       "      <td>0.125195</td>\n",
       "    </tr>\n",
       "    <tr>\n",
       "      <th>21</th>\n",
       "      <td>153509</td>\n",
       "      <td>5</td>\n",
       "      <td>22</td>\n",
       "      <td>0.227273</td>\n",
       "      <td>3</td>\n",
       "      <td>0.127652</td>\n",
       "    </tr>\n",
       "    <tr>\n",
       "      <th>36</th>\n",
       "      <td>208091</td>\n",
       "      <td>2</td>\n",
       "      <td>29</td>\n",
       "      <td>0.068966</td>\n",
       "      <td>12</td>\n",
       "      <td>0.073973</td>\n",
       "    </tr>\n",
       "    <tr>\n",
       "      <th>42</th>\n",
       "      <td>257734</td>\n",
       "      <td>2</td>\n",
       "      <td>13</td>\n",
       "      <td>0.153846</td>\n",
       "      <td>6</td>\n",
       "      <td>0.069398</td>\n",
       "    </tr>\n",
       "    <tr>\n",
       "      <th>...</th>\n",
       "      <td>...</td>\n",
       "      <td>...</td>\n",
       "      <td>...</td>\n",
       "      <td>...</td>\n",
       "      <td>...</td>\n",
       "      <td>...</td>\n",
       "    </tr>\n",
       "    <tr>\n",
       "      <th>2704</th>\n",
       "      <td>1748636</td>\n",
       "      <td>2</td>\n",
       "      <td>6</td>\n",
       "      <td>0.333333</td>\n",
       "      <td>1</td>\n",
       "      <td>0.117155</td>\n",
       "    </tr>\n",
       "    <tr>\n",
       "      <th>2705</th>\n",
       "      <td>1749429</td>\n",
       "      <td>1</td>\n",
       "      <td>15</td>\n",
       "      <td>0.066667</td>\n",
       "      <td>5</td>\n",
       "      <td>0.083463</td>\n",
       "    </tr>\n",
       "    <tr>\n",
       "      <th>2716</th>\n",
       "      <td>1760291</td>\n",
       "      <td>7</td>\n",
       "      <td>49</td>\n",
       "      <td>0.142857</td>\n",
       "      <td>2</td>\n",
       "      <td>0.194988</td>\n",
       "    </tr>\n",
       "    <tr>\n",
       "      <th>2730</th>\n",
       "      <td>1778599</td>\n",
       "      <td>2</td>\n",
       "      <td>15</td>\n",
       "      <td>0.133333</td>\n",
       "      <td>2</td>\n",
       "      <td>0.128845</td>\n",
       "    </tr>\n",
       "    <tr>\n",
       "      <th>2732</th>\n",
       "      <td>1779424</td>\n",
       "      <td>6</td>\n",
       "      <td>17</td>\n",
       "      <td>0.352941</td>\n",
       "      <td>1</td>\n",
       "      <td>0.174018</td>\n",
       "    </tr>\n",
       "  </tbody>\n",
       "</table>\n",
       "<p>393 rows × 6 columns</p>\n",
       "</div>"
      ],
      "text/plain": [
       "      document_id_promo  clicks  views       ctr  distinct_ad_ids  confidence\n",
       "5                 25191       1      7  0.142857                1    0.125195\n",
       "14               136145       0      7  0.000000                1    0.125195\n",
       "21               153509       5     22  0.227273                3    0.127652\n",
       "36               208091       2     29  0.068966               12    0.073973\n",
       "42               257734       2     13  0.153846                6    0.069398\n",
       "...                 ...     ...    ...       ...              ...         ...\n",
       "2704            1748636       2      6  0.333333                1    0.117155\n",
       "2705            1749429       1     15  0.066667                5    0.083463\n",
       "2716            1760291       7     49  0.142857                2    0.194988\n",
       "2730            1778599       2     15  0.133333                2    0.128845\n",
       "2732            1779424       6     17  0.352941                1    0.174018\n",
       "\n",
       "[393 rows x 6 columns]"
      ]
     },
     "execution_count": 71,
     "metadata": {},
     "output_type": "execute_result"
    }
   ],
   "source": [
    "document_id_popularity_cudf"
   ]
  },
  {
   "cell_type": "code",
   "execution_count": 35,
   "metadata": {},
   "outputs": [],
   "source": [
    "\n",
    "# doc_event_doc_ad_avg_ctr_cudf = get_popularity_cudf(train_set_cudf,['document_id_event','document_id_promo'])\n",
    "# doc_event_doc_ad_avg_ctr_cudf = doc_event_doc_ad_avg_ctr_cudf[doc_event_doc_ad_avg_ctr_cudf['views'] >5]\n",
    "# doc_event_doc_ad_avg_ctr_cudf =doc_event_doc_ad_avg_ctr_cudf.set_index(['document_id_event','document_id_promo'])\n",
    "\n",
    "# source_id_by_country_popularity_cudf = get_popularity_cudf(train_set_cudf,['event_country','source_id'])\n",
    "# source_id_by_country_popularity_cudf = source_id_by_country_popularity_cudf[source_id_by_country_popularity_cudf['views'] >5]\n",
    "# source_id_by_country_avg_ctr_cudf, source_id_by_country_weighted_avg_ctr_cudf,source_id_by_country_views_median_cudf,source_id_by_country_views_mean_cudf = gather_stats(source_id_by_country_popularity_cudf)\n"
   ]
  },
  {
   "cell_type": "code",
   "execution_count": 73,
   "metadata": {},
   "outputs": [],
   "source": [
    "source_id_popularity_cudf = get_popularity_cudf(train_df,['source_id'])\n",
    "source_id_popularity_cudf = source_id_popularity_cudf[source_id_popularity_cudf['views'] > 10]\n",
    "source_id_popularity_cudf = source_id_popularity_cudf[source_id_popularity_cudf['source_id'].isnull() != True]\n",
    "source_id_popularity_cudf['confidence'] = get_confidence_sample_size( \\\n",
    "            source_id_popularity_cudf['views'] / \\\n",
    "            source_id_popularity_cudf['distinct_ad_ids'].astype(float))"
   ]
  },
  {
   "cell_type": "code",
   "execution_count": 75,
   "metadata": {},
   "outputs": [
    {
     "data": {
      "text/plain": [
       "False"
      ]
     },
     "execution_count": 75,
     "metadata": {},
     "output_type": "execute_result"
    }
   ],
   "source": [
    "source_id_popularity_cudf['source_id'].isnull().any()"
   ]
  },
  {
   "cell_type": "code",
   "execution_count": 38,
   "metadata": {},
   "outputs": [],
   "source": [
    "publisher_popularity_cudf = get_popularity_cudf(train_set_cudf,['publisher_id'])\n",
    "publisher_popularity_cudf = publisher_popularity_cudf[publisher_popularity_cudf['views'] > 10]\n",
    "publisher_popularity_cudf = publisher_popularity_cudf[publisher_popularity_cudf['publisher_id'].isnull() != True]\n",
    "publisher_popularity_cudf['confidence'] = get_confidence_sample_size( \\\n",
    "            publisher_popularity_cudf['views'] / \\\n",
    "            publisher_popularity_cudf['distinct_ad_ids'].astype(float))"
   ]
  },
  {
   "cell_type": "code",
   "execution_count": 39,
   "metadata": {},
   "outputs": [],
   "source": [
    "advertiser_id_popularity_cudf = get_popularity_cudf(train_set_cudf,['advertiser_id'])\n",
    "advertiser_id_popularity_cudf = advertiser_id_popularity_cudf[advertiser_id_popularity_cudf['views'] > 10]\n",
    "advertiser_id_popularity_cudf = advertiser_id_popularity_cudf[advertiser_id_popularity_cudf['advertiser_id'].isnull() != True]\n",
    "advertiser_id_popularity_cudf['confidence'] = get_confidence_sample_size( \\\n",
    "            advertiser_id_popularity_cudf['views'] / \\\n",
    "            advertiser_id_popularity_cudf['distinct_ad_ids'].astype(float))"
   ]
  },
  {
   "cell_type": "code",
   "execution_count": 40,
   "metadata": {},
   "outputs": [],
   "source": [
    "campaign_id_popularity_cudf = get_popularity_cudf(train_set_cudf,['campaign_id'])\n",
    "campaign_id_popularity_cudf = campaign_id_popularity_cudf[campaign_id_popularity_cudf['views'] > 10]\n",
    "campaign_id_popularity_cudf = campaign_id_popularity_cudf[campaign_id_popularity_cudf['campaign_id'].isnull() != True]\n",
    "campaign_id_popularity_cudf['confidence'] = get_confidence_sample_size( \\\n",
    "            campaign_id_popularity_cudf['views'] / \\\n",
    "            campaign_id_popularity_cudf['distinct_ad_ids'].astype(float))"
   ]
  },
  {
   "cell_type": "code",
   "execution_count": 41,
   "metadata": {},
   "outputs": [
    {
     "data": {
      "text/html": [
       "<div>\n",
       "<style scoped>\n",
       "    .dataframe tbody tr th:only-of-type {\n",
       "        vertical-align: middle;\n",
       "    }\n",
       "\n",
       "    .dataframe tbody tr th {\n",
       "        vertical-align: top;\n",
       "    }\n",
       "\n",
       "    .dataframe thead th {\n",
       "        text-align: right;\n",
       "    }\n",
       "</style>\n",
       "<table border=\"1\" class=\"dataframe\">\n",
       "  <thead>\n",
       "    <tr style=\"text-align: right;\">\n",
       "      <th></th>\n",
       "      <th>document_id_cat</th>\n",
       "      <th>popularity</th>\n",
       "      <th>confidence</th>\n",
       "    </tr>\n",
       "  </thead>\n",
       "  <tbody>\n",
       "    <tr>\n",
       "      <th>0</th>\n",
       "      <td>1</td>\n",
       "      <td>0.194951</td>\n",
       "      <td>0.021813</td>\n",
       "    </tr>\n",
       "    <tr>\n",
       "      <th>1</th>\n",
       "      <td>2</td>\n",
       "      <td>0.237396</td>\n",
       "      <td>0.020293</td>\n",
       "    </tr>\n",
       "    <tr>\n",
       "      <th>2</th>\n",
       "      <td>3</td>\n",
       "      <td>0.121363</td>\n",
       "      <td>0.039605</td>\n",
       "    </tr>\n",
       "    <tr>\n",
       "      <th>3</th>\n",
       "      <td>4</td>\n",
       "      <td>0.120381</td>\n",
       "      <td>0.069690</td>\n",
       "    </tr>\n",
       "    <tr>\n",
       "      <th>4</th>\n",
       "      <td>5</td>\n",
       "      <td>0.213627</td>\n",
       "      <td>0.048685</td>\n",
       "    </tr>\n",
       "    <tr>\n",
       "      <th>...</th>\n",
       "      <td>...</td>\n",
       "      <td>...</td>\n",
       "      <td>...</td>\n",
       "    </tr>\n",
       "    <tr>\n",
       "      <th>2828608</th>\n",
       "      <td>2999330</td>\n",
       "      <td>0.222853</td>\n",
       "      <td>0.017828</td>\n",
       "    </tr>\n",
       "    <tr>\n",
       "      <th>2828609</th>\n",
       "      <td>2999331</td>\n",
       "      <td>0.208737</td>\n",
       "      <td>0.008119</td>\n",
       "    </tr>\n",
       "    <tr>\n",
       "      <th>2828610</th>\n",
       "      <td>2999332</td>\n",
       "      <td>0.229040</td>\n",
       "      <td>0.014847</td>\n",
       "    </tr>\n",
       "    <tr>\n",
       "      <th>2828611</th>\n",
       "      <td>2999333</td>\n",
       "      <td>0.238811</td>\n",
       "      <td>0.006728</td>\n",
       "    </tr>\n",
       "    <tr>\n",
       "      <th>2828612</th>\n",
       "      <td>2999334</td>\n",
       "      <td>0.277225</td>\n",
       "      <td>0.038219</td>\n",
       "    </tr>\n",
       "  </tbody>\n",
       "</table>\n",
       "<p>2828613 rows × 3 columns</p>\n",
       "</div>"
      ],
      "text/plain": [
       "         document_id_cat  popularity  confidence\n",
       "0                      1    0.194951    0.021813\n",
       "1                      2    0.237396    0.020293\n",
       "2                      3    0.121363    0.039605\n",
       "3                      4    0.120381    0.069690\n",
       "4                      5    0.213627    0.048685\n",
       "...                  ...         ...         ...\n",
       "2828608          2999330    0.222853    0.017828\n",
       "2828609          2999331    0.208737    0.008119\n",
       "2828610          2999332    0.229040    0.014847\n",
       "2828611          2999333    0.238811    0.006728\n",
       "2828612          2999334    0.277225    0.038219\n",
       "\n",
       "[2828613 rows x 3 columns]"
      ]
     },
     "execution_count": 41,
     "metadata": {},
     "output_type": "execute_result"
    }
   ],
   "source": [
    "train_aug_cat=train_set_cudf.merge(documents_categories_cudf,left_on='document_id_promo',right_on='document_id_cat',how='inner')\n",
    "\n",
    "category_id_popularity_cudf = get_popularity_cudf(train_aug_cat,['category_id'],additional_output=[['avg_confidence_level_cat','confidence_level_cat','mean']])\n",
    "\n",
    "category_id_popularity_cudf = category_id_popularity_cudf[category_id_popularity_cudf['views'] > 10]\n",
    "category_id_popularity_cudf = category_id_popularity_cudf[category_id_popularity_cudf['category_id'].isnull() != True]\n",
    "category_id_popularity_cudf['confidence'] = get_confidence_sample_size( \\\n",
    "            category_id_popularity_cudf['views'] / \\\n",
    "            category_id_popularity_cudf['distinct_ad_ids'].astype(float)) * \\\n",
    "            category_id_popularity_cudf['avg_confidence_level_cat']\n",
    "categories_weights = documents_categories_cudf.merge(category_id_popularity_cudf,on='category_id')\n",
    "categories_weights['popularity_weighted'] = categories_weights['ctr'] * categories_weights['confidence'] * categories_weights['confidence_level_cat']\n",
    "categories_weights['confidence_weighted'] = categories_weights['confidence'] * categories_weights['confidence_level_cat']\n",
    "categories_weights = categories_weights.groupby('document_id_cat').agg({'popularity_weighted':['sum'],'confidence_weighted':['sum','max']})\n",
    "categories_weights['popularity'] = categories_weights['popularity_weighted']['sum'] /categories_weights['confidence_weighted']['sum']\n",
    "categories_weights['confidence'] = categories_weights['confidence_weighted']['max']\n",
    "categories_weights = categories_weights[['popularity','confidence']].reset_index()\n",
    "categories_weights.columns = categories_weights.columns.get_level_values(0)\n",
    "categories_weights"
   ]
  },
  {
   "cell_type": "code",
   "execution_count": 42,
   "metadata": {},
   "outputs": [],
   "source": [
    "category_id_by_country_popularity_cudf = get_popularity_cudf(train_aug_cat,['event_country','category_id'],additional_output=[['avg_confidence_level_cat','confidence_level_cat','mean']])\n",
    "category_id_by_country_popularity_cudf = category_id_by_country_popularity_cudf[category_id_by_country_popularity_cudf['views'] > 10]\n",
    "category_id_by_country_popularity_cudf = category_id_by_country_popularity_cudf[category_id_by_country_popularity_cudf['category_id'].isnull() != True]\n",
    "category_id_by_country_popularity_cudf = category_id_by_country_popularity_cudf.set_index(['event_country','category_id'])"
   ]
  },
  {
   "cell_type": "code",
   "execution_count": 43,
   "metadata": {},
   "outputs": [
    {
     "data": {
      "text/html": [
       "<div>\n",
       "<style scoped>\n",
       "    .dataframe tbody tr th:only-of-type {\n",
       "        vertical-align: middle;\n",
       "    }\n",
       "\n",
       "    .dataframe tbody tr th {\n",
       "        vertical-align: top;\n",
       "    }\n",
       "\n",
       "    .dataframe thead th {\n",
       "        text-align: right;\n",
       "    }\n",
       "</style>\n",
       "<table border=\"1\" class=\"dataframe\">\n",
       "  <thead>\n",
       "    <tr style=\"text-align: right;\">\n",
       "      <th></th>\n",
       "      <th>document_id_top</th>\n",
       "      <th>popularity</th>\n",
       "      <th>confidence</th>\n",
       "    </tr>\n",
       "  </thead>\n",
       "  <tbody>\n",
       "    <tr>\n",
       "      <th>0</th>\n",
       "      <td>1</td>\n",
       "      <td>0.214295</td>\n",
       "      <td>0.000221</td>\n",
       "    </tr>\n",
       "    <tr>\n",
       "      <th>1</th>\n",
       "      <td>2</td>\n",
       "      <td>0.276231</td>\n",
       "      <td>0.000047</td>\n",
       "    </tr>\n",
       "    <tr>\n",
       "      <th>2</th>\n",
       "      <td>3</td>\n",
       "      <td>0.184072</td>\n",
       "      <td>0.000840</td>\n",
       "    </tr>\n",
       "    <tr>\n",
       "      <th>3</th>\n",
       "      <td>4</td>\n",
       "      <td>0.185568</td>\n",
       "      <td>0.000828</td>\n",
       "    </tr>\n",
       "    <tr>\n",
       "      <th>4</th>\n",
       "      <td>5</td>\n",
       "      <td>0.188762</td>\n",
       "      <td>0.000851</td>\n",
       "    </tr>\n",
       "    <tr>\n",
       "      <th>...</th>\n",
       "      <td>...</td>\n",
       "      <td>...</td>\n",
       "      <td>...</td>\n",
       "    </tr>\n",
       "    <tr>\n",
       "      <th>2488494</th>\n",
       "      <td>2999325</td>\n",
       "      <td>0.201087</td>\n",
       "      <td>0.000357</td>\n",
       "    </tr>\n",
       "    <tr>\n",
       "      <th>2488495</th>\n",
       "      <td>2999327</td>\n",
       "      <td>0.203246</td>\n",
       "      <td>0.000427</td>\n",
       "    </tr>\n",
       "    <tr>\n",
       "      <th>2488496</th>\n",
       "      <td>2999330</td>\n",
       "      <td>0.152047</td>\n",
       "      <td>0.000177</td>\n",
       "    </tr>\n",
       "    <tr>\n",
       "      <th>2488497</th>\n",
       "      <td>2999332</td>\n",
       "      <td>0.232653</td>\n",
       "      <td>0.000136</td>\n",
       "    </tr>\n",
       "    <tr>\n",
       "      <th>2488498</th>\n",
       "      <td>2999333</td>\n",
       "      <td>0.243963</td>\n",
       "      <td>0.000238</td>\n",
       "    </tr>\n",
       "  </tbody>\n",
       "</table>\n",
       "<p>2488499 rows × 3 columns</p>\n",
       "</div>"
      ],
      "text/plain": [
       "         document_id_top  popularity  confidence\n",
       "0                      1    0.214295    0.000221\n",
       "1                      2    0.276231    0.000047\n",
       "2                      3    0.184072    0.000840\n",
       "3                      4    0.185568    0.000828\n",
       "4                      5    0.188762    0.000851\n",
       "...                  ...         ...         ...\n",
       "2488494          2999325    0.201087    0.000357\n",
       "2488495          2999327    0.203246    0.000427\n",
       "2488496          2999330    0.152047    0.000177\n",
       "2488497          2999332    0.232653    0.000136\n",
       "2488498          2999333    0.243963    0.000238\n",
       "\n",
       "[2488499 rows x 3 columns]"
      ]
     },
     "execution_count": 43,
     "metadata": {},
     "output_type": "execute_result"
    }
   ],
   "source": [
    "train_aug_top = train_set_cudf.merge(documents_topics_cudf,left_on='document_id_promo',right_on='document_id_top',how='inner')\n",
    "topic_id_popularity_cudf = get_popularity_cudf(train_aug_top,['topic_id'],additional_output=[['avg_confidence_level_top','confidence_level_top','mean']])\n",
    "topic_id_popularity_cudf = topic_id_popularity_cudf[topic_id_popularity_cudf['views'] > 10]\n",
    "topic_id_popularity_cudf['confidence'] = get_confidence_sample_size( \\\n",
    "            topic_id_popularity_cudf['views'] / \\\n",
    "            topic_id_popularity_cudf['distinct_ad_ids'].astype(float)) * \\\n",
    "            topic_id_popularity_cudf['avg_confidence_level_top']\n",
    "topics_weights = documents_topics_cudf.merge(topic_id_popularity_cudf,on='topic_id')\n",
    "topics_weights['popularity_weighted'] = topics_weights['ctr'] * topics_weights['confidence'] * topics_weights['confidence_level_top']\n",
    "topics_weights['confidence_weighted'] = topics_weights['confidence'] * topics_weights['confidence_level_top']\n",
    "topics_weights = topics_weights.groupby('document_id_top').agg({'popularity_weighted':['sum'],'confidence_weighted':['sum','max']})\n",
    "topics_weights['popularity'] = topics_weights['popularity_weighted']['sum'] /topics_weights['confidence_weighted']['sum']\n",
    "topics_weights['confidence'] = topics_weights['confidence_weighted']['max']\n",
    "topics_weights = topics_weights[['popularity','confidence']].reset_index()\n",
    "topics_weights.columns = topics_weights.columns.get_level_values(0)\n",
    "topics_weights\n"
   ]
  },
  {
   "cell_type": "code",
   "execution_count": 44,
   "metadata": {},
   "outputs": [],
   "source": [
    "topic_id_by_country_popularity_cudf  = get_popularity_cudf(train_aug_top,['event_country','topic_id'],additional_output=[['avg_confidence_level_top','confidence_level_top','mean']])\n",
    "topic_id_by_country_popularity_cudf  = topic_id_by_country_popularity_cudf[topic_id_by_country_popularity_cudf['views'] > 10]\n",
    "topic_id_by_country_popularity_cudf = topic_id_by_country_popularity_cudf[topic_id_by_country_popularity_cudf['event_country'].isnull() != True]\n",
    "topic_id_by_country_popularity_cudf = topic_id_by_country_popularity_cudf.set_index(['event_country','topic_id'])"
   ]
  },
  {
   "cell_type": "code",
   "execution_count": 45,
   "metadata": {},
   "outputs": [],
   "source": [
    "train_aug_ent = train_set_cudf.merge(documents_entities_cudf,left_on='document_id_promo',right_on='document_id_ent',how='inner')\n",
    "\n",
    "entity_id_popularity_cudf = get_popularity_cudf(train_aug_ent,['entity_id'],additional_output=[['avg_confidence_level_ent','confidence_level_ent','mean']])\n",
    "entity_id_popularity_cudf  = entity_id_popularity_cudf[entity_id_popularity_cudf['views'] > 5]\n",
    "\n",
    "entity_id_popularity_cudf['confidence'] = get_confidence_sample_size( \\\n",
    "            entity_id_popularity_cudf['views'] / \\\n",
    "            entity_id_popularity_cudf['distinct_ad_ids'].astype(float)) * \\\n",
    "            entity_id_popularity_cudf['avg_confidence_level_ent']\n",
    "entities_weights = documents_entities_cudf.merge(entity_id_popularity_cudf,on='entity_id')\n",
    "entities_weights['popularity_weighted'] = entities_weights['ctr'] * entities_weights['confidence'] * entities_weights['confidence_level_ent']\n",
    "entities_weights['confidence_weighted'] = entities_weights['confidence'] * entities_weights['confidence_level_ent']\n",
    "entities_weights = entities_weights.groupby('document_id_ent').agg({'popularity_weighted':['sum'],'confidence_weighted':['sum','max']})\n",
    "entities_weights['popularity'] = entities_weights['popularity_weighted']['sum'] /entities_weights['confidence_weighted']['sum']\n",
    "entities_weights['confidence'] = entities_weights['confidence_weighted']['max']\n",
    "entities_weights = entities_weights[['popularity','confidence']].reset_index()\n",
    "entities_weights.columns = entities_weights.columns.get_level_values(0)\n"
   ]
  },
  {
   "cell_type": "code",
   "execution_count": 46,
   "metadata": {},
   "outputs": [],
   "source": [
    "entity_id_by_country_popularity_cudf = get_popularity_cudf(train_aug_ent,['event_country','entity_id'],additional_output=[['avg_confidence_level_ent','confidence_level_ent','mean']])\n",
    "entity_id_by_country_popularity_cudf  = entity_id_by_country_popularity_cudf[entity_id_by_country_popularity_cudf['views'] > 5]\n",
    "entity_id_by_country_popularity_cudf = entity_id_by_country_popularity_cudf[entity_id_by_country_popularity_cudf['event_country'].isnull() != True]\n",
    "entity_id_by_country_popularity_cudf = entity_id_by_country_popularity_cudf.set_index(['event_country','entity_id'])"
   ]
  },
  {
   "cell_type": "code",
   "execution_count": 47,
   "metadata": {},
   "outputs": [],
   "source": [
    "def get_percentiles(cudf, field, quantiles_levels=None, max_error_rate=0.0):\n",
    "    if quantiles_levels == None:\n",
    "        quantiles_levels = np.arange(0.0, 1.1, 0.1).tolist() \n",
    "    print(quantiles_levels)\n",
    "    quantiles = cudf[field].quantile(quantiles_levels[0])\n",
    "    return quantiles\n"
   ]
  },
  {
   "cell_type": "code",
   "execution_count": 48,
   "metadata": {},
   "outputs": [],
   "source": [
    "publish_times_cudf = train_set_cudf[train_set_cudf['publish_time'].isnull()!=True]\n",
    "\n",
    "publish_times_cudf = publish_times_cudf[['document_id_promo','publish_time']].drop_duplicates()\n",
    "publish_times_cudf['publish_time']= (cudf.to_datetime(publish_times_cudf['publish_time']).astype(int) /10**9).astype(int)\n"
   ]
  },
  {
   "cell_type": "code",
   "execution_count": 49,
   "metadata": {},
   "outputs": [],
   "source": [
    "publish_time_median_cudf = publish_times_cudf['publish_time'].median()"
   ]
  },
  {
   "cell_type": "code",
   "execution_count": 50,
   "metadata": {},
   "outputs": [
    {
     "data": {
      "text/plain": [
       "1458.0"
      ]
     },
     "execution_count": 50,
     "metadata": {},
     "output_type": "execute_result"
    }
   ],
   "source": [
    "publish_time_median_cudf"
   ]
  },
  {
   "cell_type": "code",
   "execution_count": 52,
   "metadata": {},
   "outputs": [],
   "source": [
    "countries_utc_dst_dict =country_utc_dst_cudf.set_index('country_code')['utc_dst_time_offset_cleaned']\n",
    "us_states_utc_dst_dict =us_states_utc_dst_cudf.set_index('state_abb')['utc_dst_time_offset_cleaned']\n",
    "ca_states_utc_dst_dict =ca_states_utc_dst_cudf.set_index('state_abb')['utc_dst_time_offset_cleaned']"
   ]
  },
  {
   "cell_type": "code",
   "execution_count": 53,
   "metadata": {},
   "outputs": [],
   "source": [
    "TIME_DECAY_ALPHA = 0.0005\n",
    "ref_dates = [\n",
    "                1476714880, # 7 days\n",
    "                1474727680, # 30 days\n",
    "                1469370880, # 90 days\n",
    "                1461508480,  # 180 days\n",
    "                1445697280, # 1 year\n",
    "                1414161280 # 2 years\n",
    "]\n",
    "# ### Get local time\n",
    "DEFAULT_TZ_EST = -7.0\n",
    "def get_local_utc_bst_tz(event_country, event_country_state):\n",
    "    print(event_country)\n",
    "    local_tz = DEFAULT_TZ_EST\n",
    "    if len(event_country) > 0:\n",
    "        if event_country in countries_utc_dst_dict:\n",
    "            print(event_country)\n",
    "            local_tz = countries_utc_dst_dict[event_country]\n",
    "            print(len(event_country_state))\n",
    "            if len(event_country_state)>2:\n",
    "                state = event_country_state[3:5]\n",
    "                print(state)\n",
    "                if event_country == 'US':  \n",
    "                    if state in us_states_utc_dst_dict:\n",
    "                        local_tz = us_states_utc_dst_dict[state]                \n",
    "                elif event_country == 'CA':\n",
    "                    if state in ca_states_utc_dst_dict:\n",
    "                        local_tz = ca_states_dst_dict[state] \n",
    "    return float(local_tz)\n",
    "\n",
    "def get_hour_bin(hour):\n",
    "    if hour >= 5 and hour < 8:\n",
    "        hour_bin = 0\n",
    "    elif hour >= 8 and hour < 11:\n",
    "        hour_bin = 1\n",
    "    elif hour >= 11 and hour < 14:\n",
    "        hour_bin = 2\n",
    "    elif hour >= 14 and hour < 19:\n",
    "        hour_bin = 3\n",
    "    elif hour >= 19 and hour < 22:\n",
    "        hour_bin = 4\n",
    "    else:\n",
    "        hour_bin = 5\n",
    "    return hour_bin\n"
   ]
  },
  {
   "cell_type": "code",
   "execution_count": 102,
   "metadata": {},
   "outputs": [
    {
     "data": {
      "text/html": [
       "<div>\n",
       "<style scoped>\n",
       "    .dataframe tbody tr th:only-of-type {\n",
       "        vertical-align: middle;\n",
       "    }\n",
       "\n",
       "    .dataframe tbody tr th {\n",
       "        vertical-align: top;\n",
       "    }\n",
       "\n",
       "    .dataframe thead th {\n",
       "        text-align: right;\n",
       "    }\n",
       "</style>\n",
       "<table border=\"1\" class=\"dataframe\">\n",
       "  <thead>\n",
       "    <tr style=\"text-align: right;\">\n",
       "      <th></th>\n",
       "      <th>ad_id</th>\n",
       "      <th>clicks</th>\n",
       "      <th>views</th>\n",
       "      <th>ctr</th>\n",
       "      <th>distinct_ad_ids</th>\n",
       "      <th>confidence</th>\n",
       "    </tr>\n",
       "  </thead>\n",
       "  <tbody>\n",
       "    <tr>\n",
       "      <th>337</th>\n",
       "      <td>139682</td>\n",
       "      <td>5</td>\n",
       "      <td>9</td>\n",
       "      <td>0.555556</td>\n",
       "      <td>1</td>\n",
       "      <td>0.138629</td>\n",
       "    </tr>\n",
       "    <tr>\n",
       "      <th>470</th>\n",
       "      <td>173005</td>\n",
       "      <td>2</td>\n",
       "      <td>6</td>\n",
       "      <td>0.333333</td>\n",
       "      <td>1</td>\n",
       "      <td>0.117155</td>\n",
       "    </tr>\n",
       "    <tr>\n",
       "      <th>481</th>\n",
       "      <td>174547</td>\n",
       "      <td>0</td>\n",
       "      <td>6</td>\n",
       "      <td>0.000000</td>\n",
       "      <td>1</td>\n",
       "      <td>0.117155</td>\n",
       "    </tr>\n",
       "  </tbody>\n",
       "</table>\n",
       "</div>"
      ],
      "text/plain": [
       "      ad_id  clicks  views       ctr  distinct_ad_ids  confidence\n",
       "337  139682       5      9  0.555556                1    0.138629\n",
       "470  173005       2      6  0.333333                1    0.117155\n",
       "481  174547       0      6  0.000000                1    0.117155"
      ]
     },
     "execution_count": 102,
     "metadata": {},
     "output_type": "execute_result"
    }
   ],
   "source": [
    "ad_id_popularity_cudf"
   ]
  },
  {
   "cell_type": "code",
   "execution_count": 54,
   "metadata": {},
   "outputs": [],
   "source": [
    "FV = train_set_cudf.merge(ad_id_popularity_cudf[['ad_id','views','ctr','confidence']].rename(columns={'views':'ad_views','ctr':'pop_ad_id','confidence':'pop_ad_id_conf'}), left_on='ad_id',right_on='ad_id',how='left')"
   ]
  },
  {
   "cell_type": "code",
   "execution_count": 55,
   "metadata": {},
   "outputs": [],
   "source": [
    "#Adding doc_views and popularity"
   ]
  },
  {
   "cell_type": "code",
   "execution_count": 56,
   "metadata": {},
   "outputs": [],
   "source": [
    "FV = FV.merge(document_id_popularity_cudf[['document_id_promo','views','ctr','confidence']].rename(columns={'views':'doc_views','ctr':'pop_document_id','confidence':'pop_document_id_conf'}), left_on='document_id_promo',right_on='document_id_promo',how='left')"
   ]
  },
  {
   "cell_type": "code",
   "execution_count": 57,
   "metadata": {},
   "outputs": [],
   "source": [
    "#Note here that user_views comes from user profiles, so is not a viable option immediately"
   ]
  },
  {
   "cell_type": "markdown",
   "metadata": {},
   "source": [
    "# doc_ad_days_since_published and doc_event_days_since_published need to be fixed"
   ]
  },
  {
   "cell_type": "code",
   "execution_count": 58,
   "metadata": {},
   "outputs": [],
   "source": [
    "#Add doc_ad_days_since_published\n"
   ]
  },
  {
   "cell_type": "code",
   "execution_count": 59,
   "metadata": {},
   "outputs": [],
   "source": [
    "TIMESTAMP_DELTA = 1465876799998\n",
    "FV['dt_timestamp_event'] = cudf.to_datetime(FV['timestamp_event'].astype(int)+TIMESTAMP_DELTA,unit='ms')\n",
    "FV['doc_ad_days_since_published'] = FV['dt_timestamp_event'].astype(int) //  (1000000000 * 86400) - FV['publish_time'].astype(int) // (1000 * 86400)"
   ]
  },
  {
   "cell_type": "code",
   "execution_count": null,
   "metadata": {},
   "outputs": [],
   "source": []
  },
  {
   "cell_type": "code",
   "execution_count": 60,
   "metadata": {},
   "outputs": [],
   "source": [
    "# Add doc_event_days_since_published"
   ]
  },
  {
   "cell_type": "code",
   "execution_count": 61,
   "metadata": {},
   "outputs": [
    {
     "name": "stdout",
     "output_type": "stream",
     "text": [
      "11897299.0\n",
      "11006617.0\n"
     ]
    }
   ],
   "source": [
    "FV['doc_event_days_since_published'] = FV['dt_timestamp_event'].astype(int) //  (1000000000 * 86400) - FV['publish_time_doc_event'].astype(int) // (1000 * 86400)\n",
    "print(FV['doc_event_days_since_published'].sum())\n",
    "FV['doc_event_days_since_published'] = FV['doc_event_days_since_published'].where((FV['doc_event_days_since_published'] >= 0) & (FV['doc_event_days_since_published'] <= 365*10),other=0)\n",
    "print(FV['doc_event_days_since_published'].sum())"
   ]
  },
  {
   "cell_type": "markdown",
   "metadata": {},
   "source": [
    "# Weekend and event_hour need to be fixed"
   ]
  },
  {
   "cell_type": "code",
   "execution_count": 62,
   "metadata": {},
   "outputs": [],
   "source": [
    "#Check if weekend"
   ]
  },
  {
   "cell_type": "code",
   "execution_count": 63,
   "metadata": {},
   "outputs": [],
   "source": [
    "FV['event_weekend'] = FV['dt_timestamp_event'].dt.weekday > 4"
   ]
  },
  {
   "cell_type": "code",
   "execution_count": 64,
   "metadata": {},
   "outputs": [],
   "source": [
    "\n",
    "\n",
    "\n",
    "FV['tz_area'] = FV['event_country']\n",
    "FV['tz_area'] = FV['tz_area'].where(~FV['event_country'].isin(['CA','US']),other=FV['event_country_state'])\n",
    "\n",
    "FV = FV.merge(geo_code,left_on='tz_area',right_on='geo_code',how='left')\n",
    "\n"
   ]
  },
  {
   "cell_type": "code",
   "execution_count": 65,
   "metadata": {},
   "outputs": [],
   "source": [
    "FV['event_hour'] = ((FV['dt_timestamp_event'].dt.hour + FV['utc_dst_time_offset_cleaned'])%24).applymap(get_hour_bin)"
   ]
  },
  {
   "cell_type": "code",
   "execution_count": 66,
   "metadata": {},
   "outputs": [],
   "source": [
    "# Changing categorical countries to less value if below threshold (CATEGORIFY)"
   ]
  },
  {
   "cell_type": "code",
   "execution_count": 67,
   "metadata": {},
   "outputs": [],
   "source": [
    "FV['event_country'].loc[~FV['event_country'].isin(event_country_values_counts['event_country'])] = 'less'"
   ]
  },
  {
   "cell_type": "code",
   "execution_count": 68,
   "metadata": {},
   "outputs": [],
   "source": [
    "# Changing categorical states to less value if below threshold (CATEGORIFY)"
   ]
  },
  {
   "cell_type": "code",
   "execution_count": 69,
   "metadata": {},
   "outputs": [],
   "source": [
    "FV['event_country_state'].loc[~FV['event_country_state'].isin(event_country_state_values_counts['event_country_state'])] = 'less'"
   ]
  },
  {
   "cell_type": "code",
   "execution_count": 70,
   "metadata": {},
   "outputs": [],
   "source": [
    "# Changing categorical geo_location to less value if below threshold (CATEGORIFY)"
   ]
  },
  {
   "cell_type": "code",
   "execution_count": 71,
   "metadata": {},
   "outputs": [],
   "source": [
    "FV['geo_location_event'].loc[~FV['geo_location_event'].isin(event_geo_location_values_counts['geo_location_event'])] = 'less'\n",
    "FV.rename(columns={'geo_location_event':'event_geo_location'},inplace=True)"
   ]
  },
  {
   "cell_type": "code",
   "execution_count": 72,
   "metadata": {},
   "outputs": [],
   "source": [
    "#Readjusting traffic source per source"
   ]
  },
  {
   "cell_type": "code",
   "execution_count": 73,
   "metadata": {},
   "outputs": [],
   "source": [
    "FV['traffic_source'] = FV['traffic_source_pv'] -1"
   ]
  },
  {
   "cell_type": "code",
   "execution_count": 74,
   "metadata": {},
   "outputs": [],
   "source": [
    "#Readjusting event platform"
   ]
  },
  {
   "cell_type": "code",
   "execution_count": 75,
   "metadata": {},
   "outputs": [],
   "source": [
    "FV['event_platform'] = FV['platform_event'] -1"
   ]
  },
  {
   "cell_type": "code",
   "execution_count": 76,
   "metadata": {},
   "outputs": [],
   "source": [
    "# column renaming"
   ]
  },
  {
   "cell_type": "code",
   "execution_count": 77,
   "metadata": {},
   "outputs": [
    {
     "data": {
      "text/html": [
       "<div>\n",
       "<style scoped>\n",
       "    .dataframe tbody tr th:only-of-type {\n",
       "        vertical-align: middle;\n",
       "    }\n",
       "\n",
       "    .dataframe tbody tr th {\n",
       "        vertical-align: top;\n",
       "    }\n",
       "\n",
       "    .dataframe thead th {\n",
       "        text-align: right;\n",
       "    }\n",
       "</style>\n",
       "<table border=\"1\" class=\"dataframe\">\n",
       "  <thead>\n",
       "    <tr style=\"text-align: right;\">\n",
       "      <th></th>\n",
       "      <th>publisher_id</th>\n",
       "      <th>clicks</th>\n",
       "      <th>views</th>\n",
       "      <th>ctr</th>\n",
       "      <th>distinct_ad_ids</th>\n",
       "      <th>confidence</th>\n",
       "    </tr>\n",
       "  </thead>\n",
       "  <tbody>\n",
       "    <tr>\n",
       "      <th>0</th>\n",
       "      <td>5</td>\n",
       "      <td>13</td>\n",
       "      <td>36</td>\n",
       "      <td>0.361111</td>\n",
       "      <td>7</td>\n",
       "      <td>0.109291</td>\n",
       "    </tr>\n",
       "    <tr>\n",
       "      <th>2</th>\n",
       "      <td>9</td>\n",
       "      <td>11</td>\n",
       "      <td>38</td>\n",
       "      <td>0.289474</td>\n",
       "      <td>30</td>\n",
       "      <td>0.049267</td>\n",
       "    </tr>\n",
       "    <tr>\n",
       "      <th>5</th>\n",
       "      <td>26</td>\n",
       "      <td>110</td>\n",
       "      <td>452</td>\n",
       "      <td>0.243363</td>\n",
       "      <td>29</td>\n",
       "      <td>0.169093</td>\n",
       "    </tr>\n",
       "    <tr>\n",
       "      <th>8</th>\n",
       "      <td>37</td>\n",
       "      <td>24</td>\n",
       "      <td>86</td>\n",
       "      <td>0.279070</td>\n",
       "      <td>23</td>\n",
       "      <td>0.093672</td>\n",
       "    </tr>\n",
       "    <tr>\n",
       "      <th>9</th>\n",
       "      <td>42</td>\n",
       "      <td>65</td>\n",
       "      <td>143</td>\n",
       "      <td>0.454545</td>\n",
       "      <td>4</td>\n",
       "      <td>0.216991</td>\n",
       "    </tr>\n",
       "    <tr>\n",
       "      <th>...</th>\n",
       "      <td>...</td>\n",
       "      <td>...</td>\n",
       "      <td>...</td>\n",
       "      <td>...</td>\n",
       "      <td>...</td>\n",
       "      <td>...</td>\n",
       "    </tr>\n",
       "    <tr>\n",
       "      <th>1572</th>\n",
       "      <td>5674</td>\n",
       "      <td>101</td>\n",
       "      <td>422</td>\n",
       "      <td>0.239336</td>\n",
       "      <td>31</td>\n",
       "      <td>0.161467</td>\n",
       "    </tr>\n",
       "    <tr>\n",
       "      <th>1581</th>\n",
       "      <td>5765</td>\n",
       "      <td>2</td>\n",
       "      <td>21</td>\n",
       "      <td>0.095238</td>\n",
       "      <td>1</td>\n",
       "      <td>0.186099</td>\n",
       "    </tr>\n",
       "    <tr>\n",
       "      <th>1583</th>\n",
       "      <td>5775</td>\n",
       "      <td>2</td>\n",
       "      <td>12</td>\n",
       "      <td>0.166667</td>\n",
       "      <td>9</td>\n",
       "      <td>0.051012</td>\n",
       "    </tr>\n",
       "    <tr>\n",
       "      <th>1592</th>\n",
       "      <td>5881</td>\n",
       "      <td>9</td>\n",
       "      <td>104</td>\n",
       "      <td>0.086538</td>\n",
       "      <td>2</td>\n",
       "      <td>0.239035</td>\n",
       "    </tr>\n",
       "    <tr>\n",
       "      <th>1594</th>\n",
       "      <td>5886</td>\n",
       "      <td>6</td>\n",
       "      <td>24</td>\n",
       "      <td>0.250000</td>\n",
       "      <td>4</td>\n",
       "      <td>0.117155</td>\n",
       "    </tr>\n",
       "  </tbody>\n",
       "</table>\n",
       "<p>754 rows × 6 columns</p>\n",
       "</div>"
      ],
      "text/plain": [
       "      publisher_id  clicks  views       ctr  distinct_ad_ids  confidence\n",
       "0                5      13     36  0.361111                7    0.109291\n",
       "2                9      11     38  0.289474               30    0.049267\n",
       "5               26     110    452  0.243363               29    0.169093\n",
       "8               37      24     86  0.279070               23    0.093672\n",
       "9               42      65    143  0.454545                4    0.216991\n",
       "...            ...     ...    ...       ...              ...         ...\n",
       "1572          5674     101    422  0.239336               31    0.161467\n",
       "1581          5765       2     21  0.095238                1    0.186099\n",
       "1583          5775       2     12  0.166667                9    0.051012\n",
       "1592          5881       9    104  0.086538                2    0.239035\n",
       "1594          5886       6     24  0.250000                4    0.117155\n",
       "\n",
       "[754 rows x 6 columns]"
      ]
     },
     "execution_count": 77,
     "metadata": {},
     "output_type": "execute_result"
    }
   ],
   "source": [
    "publisher_popularity_cudf"
   ]
  },
  {
   "cell_type": "code",
   "execution_count": 78,
   "metadata": {},
   "outputs": [],
   "source": [
    "FV = FV.merge(source_id_popularity_cudf[['source_id','ctr','confidence']].rename(columns={'ctr':'pop_source_id','confidence':'pop_source_id_conf'}), left_on='source_id',right_on='source_id',how='left')"
   ]
  },
  {
   "cell_type": "code",
   "execution_count": 79,
   "metadata": {},
   "outputs": [],
   "source": [
    "FV = FV.merge(publisher_popularity_cudf[['publisher_id','ctr','confidence']].rename(columns={'ctr':'pop_publisher_id','confidence':'pop_publisher_id_conf'}), left_on='publisher_id',right_on='publisher_id',how='left')"
   ]
  },
  {
   "cell_type": "code",
   "execution_count": 80,
   "metadata": {},
   "outputs": [],
   "source": [
    "FV = FV.merge(advertiser_id_popularity_cudf[['advertiser_id','ctr','confidence']].rename(columns={'ctr':'pop_advertiser_id','confidence':'pop_advertiser_id_conf'}), left_on='advertiser_id',right_on='advertiser_id',how='left')"
   ]
  },
  {
   "cell_type": "code",
   "execution_count": 81,
   "metadata": {},
   "outputs": [],
   "source": [
    "FV = FV.merge(campaign_id_popularity_cudf[['campaign_id','ctr','confidence']].rename(columns={'ctr':'pop_campain_id','confidence':'pop_campain_id_conf'}), left_on='campaign_id',right_on='campaign_id',how='left')\n",
    "FV['pop_campain_id_conf_multipl'] = FV['pop_campain_id'] * FV['pop_campain_id_conf']"
   ]
  },
  {
   "cell_type": "code",
   "execution_count": 82,
   "metadata": {},
   "outputs": [],
   "source": [
    "# WE EXCLUDE THESE FEATURES FOR NOW\n",
    "\n",
    "FV = FV.merge(categories_weights.rename(columns={'popularity':'pop_category_id','confidence':'pop_category_id_conf'}),left_on='document_id_promo', right_on='document_id_cat',how='left')"
   ]
  },
  {
   "cell_type": "code",
   "execution_count": 83,
   "metadata": {},
   "outputs": [],
   "source": [
    "FV = FV.merge(topics_weights.rename(columns={'popularity':'pop_topic_id','confidence':'pop_topic_id_conf'}),left_on='document_id_promo', right_on='document_id_top',how='left')"
   ]
  },
  {
   "cell_type": "code",
   "execution_count": 84,
   "metadata": {},
   "outputs": [],
   "source": [
    "FV = FV.merge(entities_weights.rename(columns={'popularity':'pop_entity_id','confidence':'pop_entity_id_conf'}),left_on='document_id_promo', right_on='document_id_ent',how='left')"
   ]
  },
  {
   "cell_type": "code",
   "execution_count": 85,
   "metadata": {},
   "outputs": [],
   "source": [
    "FV.rename(columns={'sourceentities_similarity_id':'doc_ad_source_id',\n",
    "                   'publisher_id':'doc_ad_publisher_id',\n",
    "                   'source_id_doc_event':'doc_event_source_id',\n",
    "                   'publisher_doc_event':'doc_event_publisher_id',\n",
    "                   'document_id_event':'doc_event_id',\n",
    "                   'document_id_promo':'doc_id',\n",
    "                   'advertiser_id':'ad_advertiser',\n",
    "                   \n",
    "                   },inplace=True)"
   ]
  },
  {
   "cell_type": "code",
   "execution_count": null,
   "metadata": {},
   "outputs": [],
   "source": []
  },
  {
   "cell_type": "code",
   "execution_count": 86,
   "metadata": {},
   "outputs": [],
   "source": [
    "reference = cudf.read_csv('/outbrain/train_base.csv')"
   ]
  },
  {
   "cell_type": "code",
   "execution_count": null,
   "metadata": {},
   "outputs": [],
   "source": [
    "\n"
   ]
  },
  {
   "cell_type": "markdown",
   "metadata": {},
   "source": [
    "# This is all testing"
   ]
  },
  {
   "cell_type": "code",
   "execution_count": 87,
   "metadata": {},
   "outputs": [],
   "source": [
    "def checkdiff(field):\n",
    "    print(FV[field].sum())\n",
    "    print(reference[field].sum())"
   ]
  },
  {
   "cell_type": "code",
   "execution_count": 88,
   "metadata": {},
   "outputs": [],
   "source": [
    "reference = cudf.read_csv('/outbrain/train_base.csv')"
   ]
  },
  {
   "cell_type": "code",
   "execution_count": 89,
   "metadata": {},
   "outputs": [
    {
     "name": "stdout",
     "output_type": "stream",
     "text": [
      "15851.235199155537\n",
      "15851.235199155537\n"
     ]
    }
   ],
   "source": [
    "checkdiff('pop_document_id_conf')"
   ]
  },
  {
   "cell_type": "code",
   "execution_count": 92,
   "metadata": {},
   "outputs": [
    {
     "ename": "NameError",
     "evalue": "name 'cupy' is not defined",
     "output_type": "error",
     "traceback": [
      "\u001b[0;31m---------------------------------------------------------------------------\u001b[0m",
      "\u001b[0;31mNameError\u001b[0m                                 Traceback (most recent call last)",
      "\u001b[0;32m<ipython-input-92-342e6b625142>\u001b[0m in \u001b[0;36m<module>\u001b[0;34m\u001b[0m\n\u001b[0;32m----> 1\u001b[0;31m categories= cupy.sparse.coo_matrix(\n\u001b[0m\u001b[1;32m      2\u001b[0m     \u001b[0;34m(\u001b[0m\u001b[0mcupy\u001b[0m\u001b[0;34m.\u001b[0m\u001b[0mones\u001b[0m\u001b[0;34m(\u001b[0m\u001b[0mlen\u001b[0m\u001b[0;34m(\u001b[0m\u001b[0mdf\u001b[0m\u001b[0;34m)\u001b[0m\u001b[0;34m)\u001b[0m\u001b[0;34m,\u001b[0m \u001b[0;34m(\u001b[0m\u001b[0mdf\u001b[0m\u001b[0;34m[\u001b[0m\u001b[0;34m'document_id_cat'\u001b[0m\u001b[0;34m]\u001b[0m\u001b[0;34m.\u001b[0m\u001b[0mvalues\u001b[0m\u001b[0;34m,\u001b[0m \u001b[0mdf\u001b[0m\u001b[0;34m[\u001b[0m\u001b[0;34m'category_id'\u001b[0m\u001b[0;34m]\u001b[0m\u001b[0;34m.\u001b[0m\u001b[0mvalues\u001b[0m\u001b[0;34m)\u001b[0m\u001b[0;34m,\u001b[0m\u001b[0;34m)\u001b[0m\u001b[0;34m\u001b[0m\u001b[0;34m\u001b[0m\u001b[0m\n\u001b[1;32m      3\u001b[0m )\n",
      "\u001b[0;31mNameError\u001b[0m: name 'cupy' is not defined"
     ]
    }
   ],
   "source": [
    "categories= cupy.sparse.coo_matrix(\n",
    "    (cupy.ones(len(df)), (df['document_id_cat'].values, df['category_id'].values),)\n",
    ")"
   ]
  },
  {
   "cell_type": "code",
   "execution_count": 94,
   "metadata": {},
   "outputs": [],
   "source": [
    "import cupy\n",
    "import nvtabular as nvt"
   ]
  },
  {
   "cell_type": "code",
   "execution_count": 91,
   "metadata": {},
   "outputs": [
    {
     "data": {
      "text/html": [
       "<div>\n",
       "<style scoped>\n",
       "    .dataframe tbody tr th:only-of-type {\n",
       "        vertical-align: middle;\n",
       "    }\n",
       "\n",
       "    .dataframe tbody tr th {\n",
       "        vertical-align: top;\n",
       "    }\n",
       "\n",
       "    .dataframe thead th {\n",
       "        text-align: right;\n",
       "    }\n",
       "</style>\n",
       "<table border=\"1\" class=\"dataframe\">\n",
       "  <thead>\n",
       "    <tr style=\"text-align: right;\">\n",
       "      <th></th>\n",
       "      <th>document_id_promo</th>\n",
       "      <th>document_id_event</th>\n",
       "    </tr>\n",
       "  </thead>\n",
       "  <tbody>\n",
       "    <tr>\n",
       "      <th>0</th>\n",
       "      <td>1328059</td>\n",
       "      <td>1780636</td>\n",
       "    </tr>\n",
       "    <tr>\n",
       "      <th>1</th>\n",
       "      <td>1145458</td>\n",
       "      <td>1780636</td>\n",
       "    </tr>\n",
       "    <tr>\n",
       "      <th>2</th>\n",
       "      <td>1563558</td>\n",
       "      <td>1780636</td>\n",
       "    </tr>\n",
       "    <tr>\n",
       "      <th>3</th>\n",
       "      <td>54197</td>\n",
       "      <td>1780636</td>\n",
       "    </tr>\n",
       "    <tr>\n",
       "      <th>4</th>\n",
       "      <td>1647612</td>\n",
       "      <td>1780636</td>\n",
       "    </tr>\n",
       "    <tr>\n",
       "      <th>...</th>\n",
       "      <td>...</td>\n",
       "      <td>...</td>\n",
       "    </tr>\n",
       "    <tr>\n",
       "      <th>99994</th>\n",
       "      <td>1659018</td>\n",
       "      <td>1179111</td>\n",
       "    </tr>\n",
       "    <tr>\n",
       "      <th>99995</th>\n",
       "      <td>691081</td>\n",
       "      <td>1179111</td>\n",
       "    </tr>\n",
       "    <tr>\n",
       "      <th>99996</th>\n",
       "      <td>1160307</td>\n",
       "      <td>1722769</td>\n",
       "    </tr>\n",
       "    <tr>\n",
       "      <th>99997</th>\n",
       "      <td>864899</td>\n",
       "      <td>1722769</td>\n",
       "    </tr>\n",
       "    <tr>\n",
       "      <th>99998</th>\n",
       "      <td>1151028</td>\n",
       "      <td>867568</td>\n",
       "    </tr>\n",
       "  </tbody>\n",
       "</table>\n",
       "<p>99999 rows × 2 columns</p>\n",
       "</div>"
      ],
      "text/plain": [
       "       document_id_promo  document_id_event\n",
       "0                1328059            1780636\n",
       "1                1145458            1780636\n",
       "2                1563558            1780636\n",
       "3                  54197            1780636\n",
       "4                1647612            1780636\n",
       "...                  ...                ...\n",
       "99994            1659018            1179111\n",
       "99995             691081            1179111\n",
       "99996            1160307            1722769\n",
       "99997             864899            1722769\n",
       "99998            1151028             867568\n",
       "\n",
       "[99999 rows x 2 columns]"
      ]
     },
     "execution_count": 91,
     "metadata": {},
     "output_type": "execute_result"
    }
   ],
   "source": [
    "train_set_cudf[['document_id_promo','document_id_event']]"
   ]
  },
  {
   "cell_type": "code",
   "execution_count": null,
   "metadata": {},
   "outputs": [],
   "source": []
  },
  {
   "cell_type": "code",
   "execution_count": 95,
   "metadata": {},
   "outputs": [
    {
     "name": "stderr",
     "output_type": "stream",
     "text": [
      "/nvtabular/nvtabular/column_similarity.py:229: RuntimeWarning: divide by zero encountered in true_divide\n",
      "  idf = np.log(N / np.bincount(X.col))\n"
     ]
    }
   ],
   "source": [
    "from nvtabular.column_similarity import ColumnSimilarity\n",
    "\n",
    "categories = cupy.sparse.coo_matrix((cupy.ones(len(documents_categories_cudf)), (documents_categories_cudf.document_id_cat.values, documents_categories_cudf.category_id.values)))\n",
    "op = ColumnSimilarity(\"cosine_similarity\", \"document_id_event\", categories, \"document_id_promo\", metric='tfidf', on_device=False)\n",
    "df = op.apply_op(train_set_cudf[['document_id_promo','document_id_event']], None, None)\n"
   ]
  },
  {
   "cell_type": "code",
   "execution_count": 99,
   "metadata": {},
   "outputs": [
    {
     "data": {
      "text/plain": [
       "14539.231520924599"
      ]
     },
     "execution_count": 99,
     "metadata": {},
     "output_type": "execute_result"
    }
   ],
   "source": [
    "df['cosine_similarity'].sum()"
   ]
  },
  {
   "cell_type": "code",
   "execution_count": 100,
   "metadata": {},
   "outputs": [
    {
     "data": {
      "text/plain": [
       "21723.042682176827"
      ]
     },
     "execution_count": 100,
     "metadata": {},
     "output_type": "execute_result"
    }
   ],
   "source": [
    "reference['doc_event_doc_ad_sim_categories'].sum()"
   ]
  },
  {
   "cell_type": "code",
   "execution_count": 160,
   "metadata": {},
   "outputs": [],
   "source": [
    "df = cudf.read_csv(\"/outbrain/orig_100k/documents_categories.csv\")\n",
    "categories= cupy.sparse.coo_matrix(\n",
    "    (cupy.ones(len(df)), (df['document_id'].values, df['category_id'].values),)\n",
    ")"
   ]
  },
  {
   "cell_type": "code",
   "execution_count": 210,
   "metadata": {},
   "outputs": [
    {
     "data": {
      "text/plain": [
       "78585"
      ]
     },
     "execution_count": 210,
     "metadata": {},
     "output_type": "execute_result"
    }
   ],
   "source": [
    "(df['cosine_similarity'] == 0).sum()"
   ]
  },
  {
   "cell_type": "code",
   "execution_count": null,
   "metadata": {},
   "outputs": [],
   "source": []
  }
 ],
 "metadata": {
  "kernelspec": {
   "display_name": "rapids",
   "language": "python",
   "name": "rapids"
  },
  "language_info": {
   "codemirror_mode": {
    "name": "ipython",
    "version": 3
   },
   "file_extension": ".py",
   "mimetype": "text/x-python",
   "name": "python",
   "nbconvert_exporter": "python",
   "pygments_lexer": "ipython3",
   "version": "3.7.8"
  }
 },
 "nbformat": 4,
 "nbformat_minor": 4
}
