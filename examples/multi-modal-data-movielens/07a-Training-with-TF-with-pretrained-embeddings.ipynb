{
 "cells": [
  {
   "cell_type": "code",
   "execution_count": 81,
   "metadata": {},
   "outputs": [],
   "source": [
    "# Copyright 2021 NVIDIA Corporation. All Rights Reserved.\n",
    "#\n",
    "# Licensed under the Apache License, Version 2.0 (the \"License\");\n",
    "# you may not use this file except in compliance with the License.\n",
    "# You may obtain a copy of the License at\n",
    "#\n",
    "#     http://www.apache.org/licenses/LICENSE-2.0\n",
    "#\n",
    "# Unless required by applicable law or agreed to in writing, software\n",
    "# distributed under the License is distributed on an \"AS IS\" BASIS,\n",
    "# WITHOUT WARRANTIES OR CONDITIONS OF ANY KIND, either express or implied.\n",
    "# See the License for the specific language governing permissions and\n",
    "# limitations under the License.\n",
    "# =============================================================================="
   ]
  },
  {
   "cell_type": "markdown",
   "metadata": {},
   "source": [
    "<img src=\"http://developer.download.nvidia.com/compute/machine-learning/frameworks/nvidia_logo.png\" style=\"width: 90px; float: right;\">\n",
    "\n",
    "# Multi-Modal Data Training with TensorFlow\n",
    "\n",
    "This notebook is similar to https://github.com/NVIDIA/NVTabular/blob/main/examples/getting-started-movielens/03-Training-with-TF.ipynb, except for we make use of pretrained embeddings. \n",
    "\n",
    "## Overview\n",
    "\n",
    "We observed that TensorFlow training pipelines can be slow as the dataloader is a bottleneck. The native dataloader in TensorFlow randomly sample each item from the dataset, which is very slow. The window dataloader in TensorFlow is not much faster. In our experiments, we are able to speed-up existing TensorFlow pipelines by 9x using a highly optimized dataloader.<br><br>\n",
    "\n",
    "Applying deep learning models to recommendation systems faces unique challenges in comparison to other domains, such as computer vision and natural language processing. The datasets and common model architectures have unique characteristics, which require custom solutions. Recommendation system datasets have terabytes in size with billion examples but each example is represented by only a few bytes. For example, the [Criteo CTR dataset](https://ailab.criteo.com/download-criteo-1tb-click-logs-dataset/), the largest publicly available dataset, is 1.3TB with 4 billion examples. The model architectures have normally large embedding tables for the users and items, which do not fit on a single GPU. You can read more in our [blogpost](https://medium.com/nvidia-merlin/why-isnt-your-recommender-system-training-faster-on-gpu-and-what-can-you-do-about-it-6cb44a711ad4).\n",
    "\n",
    "### Learning objectives\n",
    "\n",
    "This notebook explains, how to use the NVTabular dataloader to accelerate TensorFlow training.\n",
    "1. Use **NVTabular dataloader** with TensorFlow Keras model\n",
    "2. Leverage **multi-hot encoded input features**\n",
    "\n",
    "### MovieLens25M\n",
    "\n",
    "The [MovieLens25M](https://grouplens.org/datasets/movielens/25m/) is a popular dataset for recommender systems and is used in academic publications. The dataset contains 25M movie ratings for 62,000 movies given by 162,000 users. Many projects use only the user/item/rating information of MovieLens, but the original dataset provides metadata for the movies, as well. For example, which genres a movie has. Although we may not improve state-of-the-art results with our neural network architecture, the purpose of this notebook is to explain how to integrate multi-hot categorical features into a neural network."
   ]
  },
  {
   "cell_type": "markdown",
   "metadata": {},
   "source": [
    "## NVTabular dataloader for TensorFlow\n",
    "\n",
    "We’ve identified that the dataloader is one bottleneck in deep learning recommender systems when training pipelines with TensorFlow. The dataloader cannot prepare the next batch fast enough and therefore, the GPU is not fully utilized. \n",
    "\n",
    "We developed a highly customized tabular dataloader for accelerating existing pipelines in TensorFlow. In our experiments, we see a speed-up by 9x of the same training workflow with NVTabular dataloader. NVTabular dataloader’s features are:\n",
    "- removing bottleneck of item-by-item dataloading\n",
    "- enabling larger than memory dataset by streaming from disk\n",
    "- reading data directly into GPU memory and remove CPU-GPU communication\n",
    "- preparing batch asynchronously in GPU to avoid CPU-GPU communication\n",
    "- supporting commonly used .parquet format\n",
    "- easy integration into existing TensorFlow pipelines by using similar API - works with tf.keras models\n",
    "\n",
    "More information in our [blogpost](https://medium.com/nvidia-merlin/training-deep-learning-based-recommender-systems-9x-faster-with-tensorflow-cc5a2572ea49)."
   ]
  },
  {
   "cell_type": "code",
   "execution_count": 82,
   "metadata": {},
   "outputs": [
    {
     "data": {
      "text/plain": [
       "'\\ngpus = tf.config.list_physical_devices(\\'GPU\\')\\nif gpus:\\n  try:\\n    # Currently, memory growth needs to be the same across GPUs\\n    for gpu in gpus:\\n      tf.config.experimental.set_memory_growth(gpu, True)\\n    logical_gpus = tf.config.experimental.list_logical_devices(\\'GPU\\')\\n    print(len(gpus), \"Physical GPUs,\", len(logical_gpus), \"Logical GPUs\")\\n  except RuntimeError as e:\\n    # Memory growth must be set before GPUs have been initialized\\n    print(e)\\n'"
      ]
     },
     "execution_count": 82,
     "metadata": {},
     "output_type": "execute_result"
    }
   ],
   "source": [
    "# External dependencies\n",
    "import os\n",
    "import glob\n",
    "\n",
    "import nvtabular as nvt\n",
    "import tensorflow as tf\n",
    "\n",
    "os.environ[\"CUDA_DEVICE_ORDER\"]=\"PCI_BUS_ID\"\n",
    "os.environ[\"CUDA_VISIBLE_DEVICES\"]=\"1\""
   ]
  },
  {
   "cell_type": "markdown",
   "metadata": {},
   "source": [
    "We define our base input directory, containing the data."
   ]
  },
  {
   "cell_type": "code",
   "execution_count": 83,
   "metadata": {},
   "outputs": [],
   "source": [
    "INPUT_DATA_DIR = './data'\n",
    "# path to save the models\n",
    "MODEL_BASE_DIR = './models'"
   ]
  },
  {
   "cell_type": "markdown",
   "metadata": {},
   "source": [
    "### Defining Hyperparameters"
   ]
  },
  {
   "cell_type": "markdown",
   "metadata": {},
   "source": [
    "First, we define the data schema and differentiate between single-hot and multi-hot categorical features. Note, that we do not have any numerical input features. "
   ]
  },
  {
   "cell_type": "code",
   "execution_count": 84,
   "metadata": {},
   "outputs": [],
   "source": [
    "BATCH_SIZE = 1024 * 32  # Batch Size\n",
    "CATEGORICAL_COLUMNS = [\"movieId\", \"userId\"]  # Single-hot\n",
    "CATEGORICAL_MH_COLUMNS = [\"genres\"]  # Multi-hot\n",
    "NUMERIC_COLUMNS = []\n",
    "\n",
    "# Output from ETL-with-NVTabular\n",
    "TRAIN_PATHS = sorted(glob.glob(os.path.join(INPUT_DATA_DIR, \"train\", \"*.parquet\")))\n",
    "VALID_PATHS = sorted(glob.glob(os.path.join(INPUT_DATA_DIR, \"valid\", \"*.parquet\")))"
   ]
  },
  {
   "cell_type": "code",
   "execution_count": 85,
   "metadata": {},
   "outputs": [
    {
     "data": {
      "text/plain": [
       "['./data/train/0.1bd8e756a74e4387803526e7a648b8f7.parquet']"
      ]
     },
     "execution_count": 85,
     "metadata": {},
     "output_type": "execute_result"
    }
   ],
   "source": [
    "TRAIN_PATHS"
   ]
  },
  {
   "cell_type": "markdown",
   "metadata": {},
   "source": [
    "In the previous notebook, we used NVTabular for ETL and stored the workflow to disk. We can load the NVTabular workflow to extract important metadata for our training pipeline."
   ]
  },
  {
   "cell_type": "code",
   "execution_count": 86,
   "metadata": {},
   "outputs": [],
   "source": [
    "workflow = nvt.Workflow.load(os.path.join(INPUT_DATA_DIR, \"workflow\"))"
   ]
  },
  {
   "cell_type": "markdown",
   "metadata": {},
   "source": [
    "The embedding table shows the cardinality of each categorical variable along with its associated embedding size. Each entry is of the form `(cardinality, embedding_size)`."
   ]
  },
  {
   "cell_type": "code",
   "execution_count": 87,
   "metadata": {},
   "outputs": [
    {
     "data": {
      "text/plain": [
       "({'movieId': (56586, 512), 'userId': (162542, 512)}, {'genres': (21, 16)})"
      ]
     },
     "execution_count": 87,
     "metadata": {},
     "output_type": "execute_result"
    }
   ],
   "source": [
    "nvt.ops.get_embedding_sizes(workflow)"
   ]
  },
  {
   "cell_type": "code",
   "execution_count": 88,
   "metadata": {},
   "outputs": [
    {
     "data": {
      "text/plain": [
       "{'movieId': (56586, 512), 'userId': (162542, 512), 'genres': (21, 16)}"
      ]
     },
     "execution_count": 88,
     "metadata": {},
     "output_type": "execute_result"
    }
   ],
   "source": [
    "EMBEDDING_TABLE_SHAPES, MH_EMBEDDING_TABLE_SHAPES = nvt.ops.get_embedding_sizes(workflow)\n",
    "EMBEDDING_TABLE_SHAPES.update(MH_EMBEDDING_TABLE_SHAPES)\n",
    "EMBEDDING_TABLE_SHAPES"
   ]
  },
  {
   "cell_type": "markdown",
   "metadata": {},
   "source": [
    "### Initializing NVTabular Dataloader for Tensorflow"
   ]
  },
  {
   "cell_type": "markdown",
   "metadata": {},
   "source": [
    "We import TensorFlow and some NVTabular TF extensions, such as custom TensorFlow layers supporting multi-hot and the NVTabular TensorFlow data loader."
   ]
  },
  {
   "cell_type": "code",
   "execution_count": 89,
   "metadata": {},
   "outputs": [],
   "source": [
    "#!pip install tensorflow-gpu==2.4.0"
   ]
  },
  {
   "cell_type": "code",
   "execution_count": 90,
   "metadata": {},
   "outputs": [],
   "source": [
    "import os\n",
    "import tensorflow as tf\n",
    "\n",
    "# we can control how much memory to give tensorflow with this environment variable\n",
    "# IMPORTANT: make sure you do this before you initialize TF's runtime, otherwise\n",
    "# TF will have claimed all free GPU memory\n",
    "os.environ[\"TF_MEMORY_ALLOCATION\"] = \"0.7\"  # fraction of free memory\n",
    "from nvtabular.loader.tensorflow import KerasSequenceLoader, KerasSequenceValidater\n",
    "from nvtabular.framework_utils.tensorflow import layers"
   ]
  },
  {
   "cell_type": "markdown",
   "metadata": {},
   "source": [
    "First, we take a look on our data loader and how the data is represented as tensors. The NVTabular data loader are initialized as usually and we specify both single-hot and multi-hot categorical features as cat_names. The data loader will automatically recognize the single/multi-hot columns and represent them accordingly."
   ]
  },
  {
   "cell_type": "code",
   "execution_count": 91,
   "metadata": {},
   "outputs": [],
   "source": [
    "train_dataset_tf = KerasSequenceLoader(\n",
    "    TRAIN_PATHS,  # you could also use a glob pattern\n",
    "    batch_size=BATCH_SIZE,\n",
    "    label_names=[\"rating\"],\n",
    "    cat_names=CATEGORICAL_COLUMNS + CATEGORICAL_MH_COLUMNS,\n",
    "    cont_names=NUMERIC_COLUMNS,\n",
    "    engine=\"parquet\",\n",
    "    shuffle=True,\n",
    "    buffer_size=0.06,  # how many batches to load at once\n",
    "    parts_per_chunk=1,\n",
    ")\n",
    "\n",
    "valid_dataset_tf = KerasSequenceLoader(\n",
    "    VALID_PATHS,  # you could also use a glob pattern\n",
    "    batch_size=BATCH_SIZE,\n",
    "    label_names=[\"rating\"],\n",
    "    cat_names=CATEGORICAL_COLUMNS + CATEGORICAL_MH_COLUMNS,\n",
    "    cont_names=NUMERIC_COLUMNS,\n",
    "    engine=\"parquet\",\n",
    "    shuffle=False,\n",
    "    buffer_size=0.06,\n",
    "    parts_per_chunk=1,\n",
    ")"
   ]
  },
  {
   "cell_type": "markdown",
   "metadata": {},
   "source": [
    "Let's generate a batch and take a look on the input features.<br><br>\n",
    "We can see, that the single-hot categorical features (`userId` and `movieId`) have a shape of `(32768, 1)`, which is the batchsize (as usually).<br><br>\n",
    "For the multi-hot categorical feature `genres`, we receive two Tensors `genres__values` and `genres__nnzs`.<br><br>\n",
    "`genres__values` are the actual data, containing the genre IDs. Note that the Tensor has more values than the batch_size. The reason is, that one datapoint in the batch can contain more than one genre (multi-hot).<br>\n",
    "`genres__nnzs` are a supporting Tensor, describing how many genres are associated with each datapoint in the batch.<br><br>\n",
    "For example,\n",
    "- if the first value in `genres__nnzs` is `5`, then the first 5 values in `genres__values` are associated with the first datapoint in the batch (movieId/userId).<br>\n",
    "- if the second value in `genres__nnzs` is `2`, then the 6th and the 7th values in `genres__values` are associated with the second datapoint in the batch (continuing after the previous value stopped).<br> \n",
    "- if the third value in `genres_nnzs` is `1`, then the 8th value in `genres__values` are associated with the third datapoint in the batch. \n",
    "- and so on"
   ]
  },
  {
   "cell_type": "code",
   "execution_count": 92,
   "metadata": {},
   "outputs": [
    {
     "data": {
      "text/plain": [
       "{'genres__values': <tf.Tensor: shape=(88747, 1), dtype=int64, numpy=\n",
       " array([[ 3],\n",
       "        [10],\n",
       "        [ 2],\n",
       "        ...,\n",
       "        [10],\n",
       "        [14],\n",
       "        [12]])>,\n",
       " 'genres__nnzs': <tf.Tensor: shape=(32768, 1), dtype=int32, numpy=\n",
       " array([[2],\n",
       "        [4],\n",
       "        [2],\n",
       "        ...,\n",
       "        [3],\n",
       "        [5],\n",
       "        [1]], dtype=int32)>,\n",
       " 'movieId': <tf.Tensor: shape=(32768, 1), dtype=int64, numpy=\n",
       " array([[ 4887],\n",
       "        [ 1339],\n",
       "        [  156],\n",
       "        ...,\n",
       "        [18911],\n",
       "        [ 1010],\n",
       "        [22520]])>,\n",
       " 'userId': <tf.Tensor: shape=(32768, 1), dtype=int64, numpy=\n",
       " array([[136721],\n",
       "        [144774],\n",
       "        [ 72276],\n",
       "        ...,\n",
       "        [137874],\n",
       "        [ 82015],\n",
       "        [160007]])>}"
      ]
     },
     "execution_count": 92,
     "metadata": {},
     "output_type": "execute_result"
    }
   ],
   "source": [
    "batch = next(iter(train_dataset_tf))\n",
    "batch[0]"
   ]
  },
  {
   "cell_type": "markdown",
   "metadata": {},
   "source": [
    "We can see that the sum of `genres__nnzs` is equal to the shape of `genres__values`."
   ]
  },
  {
   "cell_type": "code",
   "execution_count": 93,
   "metadata": {},
   "outputs": [
    {
     "data": {
      "text/plain": [
       "<tf.Tensor: shape=(), dtype=int32, numpy=88747>"
      ]
     },
     "execution_count": 93,
     "metadata": {},
     "output_type": "execute_result"
    }
   ],
   "source": [
    "tf.reduce_sum(batch[0][\"genres__nnzs\"])"
   ]
  },
  {
   "cell_type": "markdown",
   "metadata": {},
   "source": [
    "As each datapoint can have a different number of genres, it is more efficient to represent the genres as two flat tensors: One with the actual values (`genres__values`) and one with the length for each datapoint (`genres__nnzs`)."
   ]
  },
  {
   "cell_type": "code",
   "execution_count": 94,
   "metadata": {},
   "outputs": [],
   "source": [
    "del batch"
   ]
  },
  {
   "cell_type": "markdown",
   "metadata": {},
   "source": [
    "### Defining Neural Network Architecture"
   ]
  },
  {
   "cell_type": "markdown",
   "metadata": {},
   "source": [
    "We will define a common neural network architecture for tabular data.\n",
    "* Single-hot categorical features are fed into an Embedding Layer\n",
    "* Each value of a multi-hot categorical features is fed into an Embedding Layer and the multiple Embedding outputs are combined via averaging\n",
    "* The output of the Embedding Layers are concatenated\n",
    "* The concatenated layers are fed through multiple feed-forward layers (Dense Layers with ReLU activations)\n",
    "* The final output is a single number with sigmoid activation function"
   ]
  },
  {
   "cell_type": "markdown",
   "metadata": {},
   "source": [
    "First, we will define some dictonary/lists for our network architecture."
   ]
  },
  {
   "cell_type": "code",
   "execution_count": 95,
   "metadata": {},
   "outputs": [],
   "source": [
    "inputs = {}  # tf.keras.Input placeholders for each feature to be used\n",
    "emb_layers = []  # output of all embedding layers, which will be concatenated"
   ]
  },
  {
   "cell_type": "markdown",
   "metadata": {},
   "source": [
    "We create `tf.keras.Input` tensors for all 4 input features."
   ]
  },
  {
   "cell_type": "code",
   "execution_count": 96,
   "metadata": {},
   "outputs": [
    {
     "data": {
      "text/plain": [
       "['movieId', 'userId']"
      ]
     },
     "execution_count": 96,
     "metadata": {},
     "output_type": "execute_result"
    }
   ],
   "source": [
    "CATEGORICAL_COLUMNS"
   ]
  },
  {
   "cell_type": "code",
   "execution_count": 97,
   "metadata": {},
   "outputs": [],
   "source": [
    "for col in CATEGORICAL_COLUMNS:\n",
    "    inputs[col] = tf.keras.Input(name=col, dtype=tf.int32, shape=(1,))\n",
    "# Note that we need two input tensors for multi-hot categorical features\n",
    "for col in CATEGORICAL_MH_COLUMNS:\n",
    "    inputs[col + \"__values\"] = tf.keras.Input(name=f\"{col}__values\", dtype=tf.int64, shape=(1,))\n",
    "    inputs[col + \"__nnzs\"] = tf.keras.Input(name=f\"{col}__nnzs\", dtype=tf.int64, shape=(1,))"
   ]
  },
  {
   "cell_type": "code",
   "execution_count": 98,
   "metadata": {},
   "outputs": [
    {
     "data": {
      "text/plain": [
       "<KerasTensor: shape=(None,) dtype=int32 (created by layer 'reshape_4')>"
      ]
     },
     "execution_count": 98,
     "metadata": {},
     "output_type": "execute_result"
    }
   ],
   "source": [
    "tf.keras.layers.Reshape(())(inputs['movieId'])"
   ]
  },
  {
   "cell_type": "markdown",
   "metadata": {},
   "source": [
    "Next, we initialize Embedding Layers with `tf.feature_column.embedding_column`."
   ]
  },
  {
   "cell_type": "code",
   "execution_count": 99,
   "metadata": {},
   "outputs": [
    {
     "data": {
      "text/plain": [
       "[EmbeddingColumn(categorical_column=IdentityCategoricalColumn(key='movieId', number_buckets=56586, default_value=None), dimension=512, combiner='mean', initializer=<tensorflow.python.ops.init_ops.TruncatedNormal object at 0x7fb99861b100>, ckpt_to_load_from=None, tensor_name_in_ckpt=None, max_norm=None, trainable=True, use_safe_embedding_lookup=True),\n",
       " EmbeddingColumn(categorical_column=IdentityCategoricalColumn(key='userId', number_buckets=162542, default_value=None), dimension=512, combiner='mean', initializer=<tensorflow.python.ops.init_ops.TruncatedNormal object at 0x7fb99861b430>, ckpt_to_load_from=None, tensor_name_in_ckpt=None, max_norm=None, trainable=True, use_safe_embedding_lookup=True),\n",
       " EmbeddingColumn(categorical_column=IdentityCategoricalColumn(key='genres', number_buckets=21, default_value=None), dimension=16, combiner='mean', initializer=<tensorflow.python.ops.init_ops.TruncatedNormal object at 0x7fb99861b640>, ckpt_to_load_from=None, tensor_name_in_ckpt=None, max_norm=None, trainable=True, use_safe_embedding_lookup=True)]"
      ]
     },
     "execution_count": 99,
     "metadata": {},
     "output_type": "execute_result"
    }
   ],
   "source": [
    "for col in CATEGORICAL_COLUMNS + CATEGORICAL_MH_COLUMNS:\n",
    "    emb_layers.append(\n",
    "        tf.feature_column.embedding_column(\n",
    "            tf.feature_column.categorical_column_with_identity(\n",
    "                col, EMBEDDING_TABLE_SHAPES[col][0]\n",
    "            ),  # Input dimension (vocab size)\n",
    "            EMBEDDING_TABLE_SHAPES[col][1],  # Embedding output dimension\n",
    "        )\n",
    "    )\n",
    "emb_layers"
   ]
  },
  {
   "cell_type": "markdown",
   "metadata": {},
   "source": [
    "## Loading pretrained movie features into non-trainable embedding layer"
   ]
  },
  {
   "cell_type": "code",
   "execution_count": 111,
   "metadata": {},
   "outputs": [],
   "source": [
    "# loading NVTabular movie encoding\n",
    "import pandas as pd\n",
    "\n",
    "movie_mapping = pd.read_parquet(os.path.join(INPUT_DATA_DIR, \"workflow/categories/unique.movieId.parquet\"))"
   ]
  },
  {
   "cell_type": "code",
   "execution_count": 113,
   "metadata": {},
   "outputs": [
    {
     "data": {
      "text/html": [
       "<div>\n",
       "<style scoped>\n",
       "    .dataframe tbody tr th:only-of-type {\n",
       "        vertical-align: middle;\n",
       "    }\n",
       "\n",
       "    .dataframe tbody tr th {\n",
       "        vertical-align: top;\n",
       "    }\n",
       "\n",
       "    .dataframe thead th {\n",
       "        text-align: right;\n",
       "    }\n",
       "</style>\n",
       "<table border=\"1\" class=\"dataframe\">\n",
       "  <thead>\n",
       "    <tr style=\"text-align: right;\">\n",
       "      <th></th>\n",
       "      <th>movieId</th>\n",
       "    </tr>\n",
       "  </thead>\n",
       "  <tbody>\n",
       "    <tr>\n",
       "      <th>56581</th>\n",
       "      <td>209155.0</td>\n",
       "    </tr>\n",
       "    <tr>\n",
       "      <th>56582</th>\n",
       "      <td>209157.0</td>\n",
       "    </tr>\n",
       "    <tr>\n",
       "      <th>56583</th>\n",
       "      <td>209159.0</td>\n",
       "    </tr>\n",
       "    <tr>\n",
       "      <th>56584</th>\n",
       "      <td>209169.0</td>\n",
       "    </tr>\n",
       "    <tr>\n",
       "      <th>56585</th>\n",
       "      <td>209171.0</td>\n",
       "    </tr>\n",
       "  </tbody>\n",
       "</table>\n",
       "</div>"
      ],
      "text/plain": [
       "        movieId\n",
       "56581  209155.0\n",
       "56582  209157.0\n",
       "56583  209159.0\n",
       "56584  209169.0\n",
       "56585  209171.0"
      ]
     },
     "execution_count": 113,
     "metadata": {},
     "output_type": "execute_result"
    }
   ],
   "source": [
    "movie_mapping.tail()"
   ]
  },
  {
   "cell_type": "code",
   "execution_count": 114,
   "metadata": {},
   "outputs": [
    {
     "name": "stdout",
     "output_type": "stream",
     "text": [
      "(62423, 3073)\n"
     ]
    },
    {
     "data": {
      "text/html": [
       "<div>\n",
       "<style scoped>\n",
       "    .dataframe tbody tr th:only-of-type {\n",
       "        vertical-align: middle;\n",
       "    }\n",
       "\n",
       "    .dataframe tbody tr th {\n",
       "        vertical-align: top;\n",
       "    }\n",
       "\n",
       "    .dataframe thead th {\n",
       "        text-align: right;\n",
       "    }\n",
       "</style>\n",
       "<table border=\"1\" class=\"dataframe\">\n",
       "  <thead>\n",
       "    <tr style=\"text-align: right;\">\n",
       "      <th></th>\n",
       "      <th>movieId</th>\n",
       "      <th>poster_feature_0</th>\n",
       "      <th>poster_feature_1</th>\n",
       "      <th>poster_feature_2</th>\n",
       "      <th>poster_feature_3</th>\n",
       "      <th>poster_feature_4</th>\n",
       "      <th>poster_feature_5</th>\n",
       "      <th>poster_feature_6</th>\n",
       "      <th>poster_feature_7</th>\n",
       "      <th>poster_feature_8</th>\n",
       "      <th>...</th>\n",
       "      <th>text_feature_1014</th>\n",
       "      <th>text_feature_1015</th>\n",
       "      <th>text_feature_1016</th>\n",
       "      <th>text_feature_1017</th>\n",
       "      <th>text_feature_1018</th>\n",
       "      <th>text_feature_1019</th>\n",
       "      <th>text_feature_1020</th>\n",
       "      <th>text_feature_1021</th>\n",
       "      <th>text_feature_1022</th>\n",
       "      <th>text_feature_1023</th>\n",
       "    </tr>\n",
       "  </thead>\n",
       "  <tbody>\n",
       "    <tr>\n",
       "      <th>0</th>\n",
       "      <td>1.0</td>\n",
       "      <td>0.000000</td>\n",
       "      <td>0.087946</td>\n",
       "      <td>0.036946</td>\n",
       "      <td>0.000000</td>\n",
       "      <td>0.006629</td>\n",
       "      <td>0.000000</td>\n",
       "      <td>0.023732</td>\n",
       "      <td>0.000331</td>\n",
       "      <td>0.238438</td>\n",
       "      <td>...</td>\n",
       "      <td>0.291230</td>\n",
       "      <td>-0.197272</td>\n",
       "      <td>0.024294</td>\n",
       "      <td>1.307049</td>\n",
       "      <td>-0.789571</td>\n",
       "      <td>0.084938</td>\n",
       "      <td>-0.187339</td>\n",
       "      <td>0.061683</td>\n",
       "      <td>0.183281</td>\n",
       "      <td>-0.356245</td>\n",
       "    </tr>\n",
       "    <tr>\n",
       "      <th>1</th>\n",
       "      <td>2.0</td>\n",
       "      <td>0.000000</td>\n",
       "      <td>0.000000</td>\n",
       "      <td>0.000000</td>\n",
       "      <td>0.289245</td>\n",
       "      <td>0.134736</td>\n",
       "      <td>0.690195</td>\n",
       "      <td>0.045105</td>\n",
       "      <td>0.000000</td>\n",
       "      <td>0.051518</td>\n",
       "      <td>...</td>\n",
       "      <td>0.203168</td>\n",
       "      <td>-0.617449</td>\n",
       "      <td>0.443821</td>\n",
       "      <td>1.501953</td>\n",
       "      <td>-0.736949</td>\n",
       "      <td>0.180542</td>\n",
       "      <td>-0.313696</td>\n",
       "      <td>0.274087</td>\n",
       "      <td>0.153105</td>\n",
       "      <td>-0.218745</td>\n",
       "    </tr>\n",
       "    <tr>\n",
       "      <th>2</th>\n",
       "      <td>3.0</td>\n",
       "      <td>0.000000</td>\n",
       "      <td>0.186726</td>\n",
       "      <td>0.000000</td>\n",
       "      <td>0.906778</td>\n",
       "      <td>0.069781</td>\n",
       "      <td>0.026572</td>\n",
       "      <td>0.820369</td>\n",
       "      <td>0.000000</td>\n",
       "      <td>0.123884</td>\n",
       "      <td>...</td>\n",
       "      <td>0.173140</td>\n",
       "      <td>-0.209240</td>\n",
       "      <td>0.451933</td>\n",
       "      <td>1.491917</td>\n",
       "      <td>-0.743956</td>\n",
       "      <td>-0.069061</td>\n",
       "      <td>-0.900011</td>\n",
       "      <td>0.583347</td>\n",
       "      <td>0.192817</td>\n",
       "      <td>0.224088</td>\n",
       "    </tr>\n",
       "    <tr>\n",
       "      <th>3</th>\n",
       "      <td>4.0</td>\n",
       "      <td>0.182867</td>\n",
       "      <td>0.014541</td>\n",
       "      <td>0.004147</td>\n",
       "      <td>0.197749</td>\n",
       "      <td>0.077803</td>\n",
       "      <td>0.000000</td>\n",
       "      <td>0.215465</td>\n",
       "      <td>0.021059</td>\n",
       "      <td>0.023486</td>\n",
       "      <td>...</td>\n",
       "      <td>-0.394012</td>\n",
       "      <td>0.679462</td>\n",
       "      <td>1.225475</td>\n",
       "      <td>1.196255</td>\n",
       "      <td>-0.169627</td>\n",
       "      <td>-0.008575</td>\n",
       "      <td>-0.172138</td>\n",
       "      <td>0.114755</td>\n",
       "      <td>-0.127861</td>\n",
       "      <td>-0.003679</td>\n",
       "    </tr>\n",
       "    <tr>\n",
       "      <th>4</th>\n",
       "      <td>5.0</td>\n",
       "      <td>0.000000</td>\n",
       "      <td>0.081883</td>\n",
       "      <td>0.448699</td>\n",
       "      <td>0.002308</td>\n",
       "      <td>0.135992</td>\n",
       "      <td>0.000000</td>\n",
       "      <td>0.991511</td>\n",
       "      <td>0.809027</td>\n",
       "      <td>0.317294</td>\n",
       "      <td>...</td>\n",
       "      <td>-0.176658</td>\n",
       "      <td>-0.078992</td>\n",
       "      <td>0.726118</td>\n",
       "      <td>1.017430</td>\n",
       "      <td>-0.249834</td>\n",
       "      <td>0.183357</td>\n",
       "      <td>-0.071451</td>\n",
       "      <td>0.644567</td>\n",
       "      <td>0.090399</td>\n",
       "      <td>-1.147284</td>\n",
       "    </tr>\n",
       "  </tbody>\n",
       "</table>\n",
       "<p>5 rows × 3073 columns</p>\n",
       "</div>"
      ],
      "text/plain": [
       "   movieId  poster_feature_0  poster_feature_1  poster_feature_2  \\\n",
       "0      1.0          0.000000          0.087946          0.036946   \n",
       "1      2.0          0.000000          0.000000          0.000000   \n",
       "2      3.0          0.000000          0.186726          0.000000   \n",
       "3      4.0          0.182867          0.014541          0.004147   \n",
       "4      5.0          0.000000          0.081883          0.448699   \n",
       "\n",
       "   poster_feature_3  poster_feature_4  poster_feature_5  poster_feature_6  \\\n",
       "0          0.000000          0.006629          0.000000          0.023732   \n",
       "1          0.289245          0.134736          0.690195          0.045105   \n",
       "2          0.906778          0.069781          0.026572          0.820369   \n",
       "3          0.197749          0.077803          0.000000          0.215465   \n",
       "4          0.002308          0.135992          0.000000          0.991511   \n",
       "\n",
       "   poster_feature_7  poster_feature_8  ...  text_feature_1014  \\\n",
       "0          0.000331          0.238438  ...           0.291230   \n",
       "1          0.000000          0.051518  ...           0.203168   \n",
       "2          0.000000          0.123884  ...           0.173140   \n",
       "3          0.021059          0.023486  ...          -0.394012   \n",
       "4          0.809027          0.317294  ...          -0.176658   \n",
       "\n",
       "   text_feature_1015  text_feature_1016  text_feature_1017  text_feature_1018  \\\n",
       "0          -0.197272           0.024294           1.307049          -0.789571   \n",
       "1          -0.617449           0.443821           1.501953          -0.736949   \n",
       "2          -0.209240           0.451933           1.491917          -0.743956   \n",
       "3           0.679462           1.225475           1.196255          -0.169627   \n",
       "4          -0.078992           0.726118           1.017430          -0.249834   \n",
       "\n",
       "   text_feature_1019  text_feature_1020  text_feature_1021  text_feature_1022  \\\n",
       "0           0.084938          -0.187339           0.061683           0.183281   \n",
       "1           0.180542          -0.313696           0.274087           0.153105   \n",
       "2          -0.069061          -0.900011           0.583347           0.192817   \n",
       "3          -0.008575          -0.172138           0.114755          -0.127861   \n",
       "4           0.183357          -0.071451           0.644567           0.090399   \n",
       "\n",
       "   text_feature_1023  \n",
       "0          -0.356245  \n",
       "1          -0.218745  \n",
       "2           0.224088  \n",
       "3          -0.003679  \n",
       "4          -1.147284  \n",
       "\n",
       "[5 rows x 3073 columns]"
      ]
     },
     "execution_count": 114,
     "metadata": {},
     "output_type": "execute_result"
    }
   ],
   "source": [
    "feature_df = pd.read_parquet('feature_df.parquet')\n",
    "print(feature_df.shape)\n",
    "feature_df.head()\n"
   ]
  },
  {
   "cell_type": "code",
   "execution_count": 115,
   "metadata": {},
   "outputs": [],
   "source": [
    "feature_df.set_index('movieId', inplace=True)"
   ]
  },
  {
   "cell_type": "code",
   "execution_count": 120,
   "metadata": {},
   "outputs": [
    {
     "name": "stderr",
     "output_type": "stream",
     "text": [
      "  1%|          | 654/56586 [00:00<00:08, 6535.30it/s]"
     ]
    },
    {
     "name": "stdout",
     "output_type": "stream",
     "text": [
      "Loading pretrained embedding matrix...\n"
     ]
    },
    {
     "name": "stderr",
     "output_type": "stream",
     "text": [
      "100%|██████████| 56586/56586 [00:08<00:00, 6515.15it/s]"
     ]
    },
    {
     "name": "stdout",
     "output_type": "stream",
     "text": [
      "Found features for 56585 movies (1 misses)\n"
     ]
    },
    {
     "name": "stderr",
     "output_type": "stream",
     "text": [
      "\n"
     ]
    }
   ],
   "source": [
    "from tqdm import tqdm\n",
    "import numpy as np\n",
    "\n",
    "num_tokens = len(movie_mapping)\n",
    "embedding_dim = 2048+1024\n",
    "hits = 0\n",
    "misses = 0\n",
    "\n",
    "# Prepare embedding matrix\n",
    "embedding_matrix = np.zeros((num_tokens, embedding_dim))\n",
    "\n",
    "print(\"Loading pretrained embedding matrix...\")\n",
    "for i, row in tqdm(movie_mapping.iterrows(), total=len(movie_mapping)):\n",
    "    movieId = row['movieId']\n",
    "    if movieId in feature_df.index: \n",
    "        embedding_vector = feature_df.loc[movieId]\n",
    "        # embedding found\n",
    "        embedding_matrix[i] = embedding_vector\n",
    "        hits += 1\n",
    "    else:\n",
    "        misses += 1\n",
    "print(\"Found features for %d movies (%d misses)\" % (hits, misses))\n"
   ]
  },
  {
   "cell_type": "code",
   "execution_count": 122,
   "metadata": {},
   "outputs": [
    {
     "data": {
      "text/plain": [
       "array([[ 0.        ,  0.        ,  0.        , ...,  0.        ,\n",
       "         0.        ,  0.        ],\n",
       "       [ 0.        ,  0.08794586,  0.03694563, ...,  0.06168313,\n",
       "         0.18328129, -0.35624489],\n",
       "       [ 0.        ,  0.        ,  0.        , ...,  0.27408651,\n",
       "         0.15310517, -0.21874453],\n",
       "       ...,\n",
       "       [ 0.00539273,  0.06231729,  0.0551855 , ...,  0.32283536,\n",
       "        -0.03532882, -0.00832637],\n",
       "       [ 0.04729168,  0.14839734,  0.06023325, ...,  0.81361824,\n",
       "         0.02357639,  0.31534308],\n",
       "       [ 0.79777676,  0.22196104,  0.98768902, ...,  0.09470841,\n",
       "        -0.27758592, -0.15508249]])"
      ]
     },
     "execution_count": 122,
     "metadata": {},
     "output_type": "execute_result"
    }
   ],
   "source": [
    "embedding_matrix"
   ]
  },
  {
   "cell_type": "code",
   "execution_count": 123,
   "metadata": {},
   "outputs": [],
   "source": [
    "from tensorflow.keras.layers import Embedding\n",
    "import keras\n",
    "\n",
    "feature_embedding_layer = Embedding(\n",
    "    num_tokens,\n",
    "    embedding_dim,\n",
    "    embeddings_initializer=keras.initializers.Constant(embedding_matrix),\n",
    "    trainable=False,\n",
    ")"
   ]
  },
  {
   "cell_type": "code",
   "execution_count": 124,
   "metadata": {},
   "outputs": [],
   "source": [
    "pretrained_feature = feature_embedding_layer(tf.keras.layers.Reshape(())(inputs['movieId']))"
   ]
  },
  {
   "cell_type": "code",
   "execution_count": 125,
   "metadata": {},
   "outputs": [
    {
     "data": {
      "text/plain": [
       "<KerasTensor: shape=(None, 3072) dtype=float32 (created by layer 'embedding_3')>"
      ]
     },
     "execution_count": 125,
     "metadata": {},
     "output_type": "execute_result"
    }
   ],
   "source": [
    "pretrained_feature"
   ]
  },
  {
   "cell_type": "code",
   "execution_count": 126,
   "metadata": {},
   "outputs": [
    {
     "data": {
      "text/plain": [
       "{'movieId': (56586, 512), 'userId': (162542, 512), 'genres': (21, 16)}"
      ]
     },
     "execution_count": 126,
     "metadata": {},
     "output_type": "execute_result"
    }
   ],
   "source": [
    "EMBEDDING_TABLE_SHAPES"
   ]
  },
  {
   "cell_type": "markdown",
   "metadata": {},
   "source": [
    "NVTabular implemented a custom TensorFlow layer `layers.DenseFeatures`, which takes as an input the different `tf.Keras.Input` and pre-initialized `tf.feature_column` and automatically concatenate them into a flat tensor. In the case of multi-hot categorical features, `DenseFeatures` organizes the inputs `__values` and `__nnzs` to define a `RaggedTensor` and combine them. `DenseFeatures` can handle numeric inputs, as well, but MovieLens does not provide numerical input features."
   ]
  },
  {
   "cell_type": "code",
   "execution_count": 127,
   "metadata": {},
   "outputs": [
    {
     "data": {
      "text/plain": [
       "<KerasTensor: shape=(None, 4112) dtype=float32 (created by layer 'concatenate_2')>"
      ]
     },
     "execution_count": 127,
     "metadata": {},
     "output_type": "execute_result"
    }
   ],
   "source": [
    "from tensorflow.keras import layers as keras_layers\n",
    "\n",
    "emb_layer = layers.DenseFeatures(emb_layers)\n",
    "x_emb_output = keras_layers.concatenate((emb_layer(inputs), pretrained_feature))\n",
    "x_emb_output"
   ]
  },
  {
   "cell_type": "markdown",
   "metadata": {},
   "source": [
    "We can see that the output shape of the concatenated layer is equal to the sum of the individual Embedding output dimensions (1040 = 16+512+512).\n"
   ]
  },
  {
   "cell_type": "code",
   "execution_count": 128,
   "metadata": {},
   "outputs": [
    {
     "data": {
      "text/plain": [
       "{'movieId': (56586, 512), 'userId': (162542, 512), 'genres': (21, 16)}"
      ]
     },
     "execution_count": 128,
     "metadata": {},
     "output_type": "execute_result"
    }
   ],
   "source": [
    "EMBEDDING_TABLE_SHAPES"
   ]
  },
  {
   "cell_type": "markdown",
   "metadata": {},
   "source": [
    "We add multiple Dense Layers. Finally, we initialize the `tf.keras.Model` and add the optimizer."
   ]
  },
  {
   "cell_type": "code",
   "execution_count": 129,
   "metadata": {},
   "outputs": [],
   "source": [
    "x = tf.keras.layers.Dense(128, activation=\"relu\")(x_emb_output)\n",
    "x = tf.keras.layers.Dense(128, activation=\"relu\")(x)\n",
    "x = tf.keras.layers.Dense(128, activation=\"relu\")(x)\n",
    "x = tf.keras.layers.Dense(1, activation=\"sigmoid\", name=\"output\")(x)\n",
    "\n",
    "model = tf.keras.Model(inputs=inputs, outputs=x)\n",
    "model.compile(\"adam\", \"binary_crossentropy\", metrics=[tf.keras.metrics.AUC(name=\"AUC\")])"
   ]
  },
  {
   "cell_type": "code",
   "execution_count": 130,
   "metadata": {},
   "outputs": [
    {
     "data": {
      "image/png": "[encoded data removed]",
      "text/plain": [
       "<IPython.core.display.Image object>"
      ]
     },
     "execution_count": 130,
     "metadata": {},
     "output_type": "execute_result"
    }
   ],
   "source": [
    "# You need to install the dependencies\n",
    "tf.keras.utils.plot_model(model)"
   ]
  },
  {
   "cell_type": "markdown",
   "metadata": {},
   "source": [
    "### Training the deep learning model"
   ]
  },
  {
   "cell_type": "markdown",
   "metadata": {},
   "source": [
    "We can train our model with `model.fit`. We need to use a Callback to add the validation dataloader."
   ]
  },
  {
   "cell_type": "code",
   "execution_count": null,
   "metadata": {},
   "outputs": [
    {
     "name": "stdout",
     "output_type": "stream",
     "text": [
      "Epoch 1/50\n",
      "611/611 [==============================] - 41s 64ms/step - loss: 0.5273 - AUC: 0.7893\n",
      "{'val_loss': 0.55516416, 'val_AUC': 0.7943459}\n",
      "Epoch 2/50\n",
      "611/611 [==============================] - 39s 62ms/step - loss: 0.4933 - AUC: 0.8205\n",
      "{'val_loss': 0.52661306, 'val_AUC': 0.82041407}\n",
      "Epoch 3/50\n",
      "611/611 [==============================] - 39s 61ms/step - loss: 0.4844 - AUC: 0.8279\n",
      "{'val_loss': 0.5194915, 'val_AUC': 0.8267972}\n",
      "Epoch 4/50\n",
      "611/611 [==============================] - 38s 61ms/step - loss: 0.4747 - AUC: 0.8356\n",
      "{'val_loss': 0.5114968, 'val_AUC': 0.8330189}\n",
      "Epoch 5/50\n",
      "611/611 [==============================] - 38s 60ms/step - loss: 0.4649 - AUC: 0.8432\n",
      "{'val_loss': 0.50313425, 'val_AUC': 0.83913755}\n",
      "Epoch 6/50\n",
      "611/611 [==============================] - 38s 60ms/step - loss: 0.4547 - AUC: 0.8510\n",
      "{'val_loss': 0.49541005, 'val_AUC': 0.8447747}\n",
      "Epoch 7/50\n",
      "611/611 [==============================] - 37s 59ms/step - loss: 0.4447 - AUC: 0.8584\n",
      "{'val_loss': 0.48725614, 'val_AUC': 0.8505972}\n",
      "Epoch 8/50\n",
      "611/611 [==============================] - 37s 59ms/step - loss: 0.4354 - AUC: 0.8649\n",
      "{'val_loss': 0.48017263, 'val_AUC': 0.8545526}\n",
      "Epoch 9/50\n",
      "611/611 [==============================] - 37s 59ms/step - loss: 0.4273 - AUC: 0.8703\n",
      "{'val_loss': 0.47231477, 'val_AUC': 0.8594892}\n",
      "Epoch 10/50\n",
      "611/611 [==============================] - 37s 58ms/step - loss: 0.4198 - AUC: 0.8752\n",
      "{'val_loss': 0.4658765, 'val_AUC': 0.86292046}\n",
      "Epoch 11/50\n",
      "611/611 [==============================] - 37s 59ms/step - loss: 0.4133 - AUC: 0.8792\n",
      "{'val_loss': 0.46116742, 'val_AUC': 0.8660252}\n",
      "Epoch 12/50\n",
      "611/611 [==============================] - 37s 59ms/step - loss: 0.4073 - AUC: 0.8829\n",
      "{'val_loss': 0.4560343, 'val_AUC': 0.8681808}\n",
      "Epoch 13/50\n",
      "611/611 [==============================] - 36s 58ms/step - loss: 0.4026 - AUC: 0.8858\n",
      "{'val_loss': 0.45111334, 'val_AUC': 0.8709213}\n",
      "Epoch 14/50\n",
      "611/611 [==============================] - 37s 59ms/step - loss: 0.3973 - AUC: 0.8889\n",
      "{'val_loss': 0.4462591, 'val_AUC': 0.87275076}\n",
      "Epoch 15/50\n",
      "611/611 [==============================] - 36s 58ms/step - loss: 0.3929 - AUC: 0.8915\n",
      "{'val_loss': 0.44311276, 'val_AUC': 0.8739548}\n",
      "Epoch 16/50\n",
      "611/611 [==============================] - 36s 58ms/step - loss: 0.3887 - AUC: 0.8939\n",
      "{'val_loss': 0.43806863, 'val_AUC': 0.87664336}\n",
      "Epoch 17/50\n",
      "611/611 [==============================] - 37s 58ms/step - loss: 0.3843 - AUC: 0.8965\n",
      "{'val_loss': 0.43448216, 'val_AUC': 0.8783565}\n",
      "Epoch 18/50\n",
      "611/611 [==============================] - 37s 58ms/step - loss: 0.3806 - AUC: 0.8986\n",
      "{'val_loss': 0.43375218, 'val_AUC': 0.879253}\n",
      "Epoch 19/50\n",
      "611/611 [==============================] - 36s 57ms/step - loss: 0.3772 - AUC: 0.9005\n",
      "{'val_loss': 0.4285137, 'val_AUC': 0.88247657}\n",
      "Epoch 20/50\n",
      "611/611 [==============================] - 36s 57ms/step - loss: 0.3730 - AUC: 0.9028\n",
      "{'val_loss': 0.42477727, 'val_AUC': 0.8841679}\n",
      "Epoch 21/50\n",
      "611/611 [==============================] - 36s 58ms/step - loss: 0.3693 - AUC: 0.9048\n",
      "{'val_loss': 0.4218649, 'val_AUC': 0.8849615}\n",
      "Epoch 22/50\n",
      "611/611 [==============================] - 36s 57ms/step - loss: 0.3660 - AUC: 0.9065\n",
      "{'val_loss': 0.41845176, 'val_AUC': 0.88552535}\n",
      "Epoch 23/50\n",
      "611/611 [==============================] - 36s 58ms/step - loss: 0.3640 - AUC: 0.9077\n",
      "{'val_loss': 0.41986609, 'val_AUC': 0.88573027}\n",
      "Epoch 24/50\n",
      "611/611 [==============================] - 36s 57ms/step - loss: 0.3619 - AUC: 0.9088\n",
      "{'val_loss': 0.41677463, 'val_AUC': 0.88684523}\n",
      "Epoch 25/50\n",
      "611/611 [==============================] - 36s 58ms/step - loss: 0.3610 - AUC: 0.9094\n",
      "{'val_loss': 0.41364035, 'val_AUC': 0.8877933}\n",
      "Epoch 26/50\n",
      "611/611 [==============================] - 36s 58ms/step - loss: 0.3584 - AUC: 0.9107\n",
      "{'val_loss': 0.41411227, 'val_AUC': 0.8897775}\n",
      "Epoch 27/50\n",
      "611/611 [==============================] - 36s 57ms/step - loss: 0.3536 - AUC: 0.9132\n",
      "{'val_loss': 0.41012725, 'val_AUC': 0.8905317}\n",
      "Epoch 28/50\n",
      "611/611 [==============================] - 36s 58ms/step - loss: 0.3497 - AUC: 0.9151\n",
      "{'val_loss': 0.40293023, 'val_AUC': 0.8892479}\n",
      "Epoch 29/50\n",
      "611/611 [==============================] - 36s 57ms/step - loss: 0.3487 - AUC: 0.9157\n",
      "{'val_loss': 0.40467396, 'val_AUC': 0.8898322}\n",
      "Epoch 30/50\n",
      "611/611 [==============================] - 36s 57ms/step - loss: 0.3474 - AUC: 0.9164\n",
      "{'val_loss': 0.40597275, 'val_AUC': 0.8903527}\n",
      "Epoch 31/50\n",
      "611/611 [==============================] - 36s 57ms/step - loss: 0.3432 - AUC: 0.9184\n",
      "{'val_loss': 0.4026944, 'val_AUC': 0.8925879}\n",
      "Epoch 32/50\n",
      "611/611 [==============================] - 36s 57ms/step - loss: 0.3394 - AUC: 0.9203\n",
      "{'val_loss': 0.39892384, 'val_AUC': 0.8957919}\n",
      "Epoch 33/50\n",
      "611/611 [==============================] - 36s 57ms/step - loss: 0.3378 - AUC: 0.9210\n",
      "{'val_loss': 0.39499298, 'val_AUC': 0.8977376}\n",
      "Epoch 34/50\n",
      "611/611 [==============================] - 37s 58ms/step - loss: 0.3364 - AUC: 0.9217\n",
      "{'val_loss': 0.39201623, 'val_AUC': 0.89680403}\n",
      "Epoch 35/50\n",
      "611/611 [==============================] - 36s 57ms/step - loss: 0.3340 - AUC: 0.9229\n",
      "{'val_loss': 0.3895412, 'val_AUC': 0.8958906}\n",
      "Epoch 36/50\n",
      "611/611 [==============================] - 36s 58ms/step - loss: 0.3315 - AUC: 0.9240\n",
      "{'val_loss': 0.38955447, 'val_AUC': 0.89613366}\n",
      "Epoch 37/50\n",
      "611/611 [==============================] - 36s 57ms/step - loss: 0.3295 - AUC: 0.9250\n",
      "{'val_loss': 0.39083296, 'val_AUC': 0.8951311}\n",
      "Epoch 38/50\n",
      "611/611 [==============================] - 36s 57ms/step - loss: 0.3279 - AUC: 0.9258\n",
      "{'val_loss': 0.38849264, 'val_AUC': 0.8961487}\n",
      "Epoch 39/50\n",
      "611/611 [==============================] - 36s 57ms/step - loss: 0.3256 - AUC: 0.9268\n",
      "{'val_loss': 0.38662967, 'val_AUC': 0.89811426}\n",
      "Epoch 40/50\n",
      "611/611 [==============================] - 36s 57ms/step - loss: 0.3234 - AUC: 0.9278\n",
      "{'val_loss': 0.38359678, 'val_AUC': 0.90099055}\n",
      "Epoch 41/50\n",
      "611/611 [==============================] - 36s 57ms/step - loss: 0.3219 - AUC: 0.9285\n",
      "{'val_loss': 0.38061786, 'val_AUC': 0.90202487}\n",
      "Epoch 42/50\n",
      "611/611 [==============================] - 36s 57ms/step - loss: 0.3209 - AUC: 0.9290\n",
      "{'val_loss': 0.38202903, 'val_AUC': 0.90250254}\n",
      "Epoch 43/50\n",
      "611/611 [==============================] - 36s 58ms/step - loss: 0.3191 - AUC: 0.9298\n",
      "{'val_loss': 0.3794159, 'val_AUC': 0.9031372}\n",
      "Epoch 44/50\n",
      "611/611 [==============================] - 36s 57ms/step - loss: 0.3165 - AUC: 0.9309\n",
      "{'val_loss': 0.37465745, 'val_AUC': 0.90316975}\n",
      "Epoch 45/50\n",
      "611/611 [==============================] - 37s 58ms/step - loss: 0.3152 - AUC: 0.9315\n",
      "{'val_loss': 0.3752438, 'val_AUC': 0.9042708}\n",
      "Epoch 46/50\n",
      "611/611 [==============================] - 36s 58ms/step - loss: 0.3144 - AUC: 0.9319\n",
      "{'val_loss': 0.37716845, 'val_AUC': 0.90466577}\n",
      "Epoch 47/50\n",
      "611/611 [==============================] - 36s 57ms/step - loss: 0.3128 - AUC: 0.9326\n",
      "{'val_loss': 0.3728171, 'val_AUC': 0.9057332}\n",
      "Epoch 48/50\n",
      "611/611 [==============================] - 36s 57ms/step - loss: 0.3106 - AUC: 0.9335\n",
      "{'val_loss': 0.36911675, 'val_AUC': 0.9050634}\n",
      "Epoch 49/50\n",
      " 65/611 [==>...........................] - ETA: 31s - loss: 0.3062 - AUC: 0.9356"
     ]
    }
   ],
   "source": [
    "validation_callback = KerasSequenceValidater(valid_dataset_tf)\n",
    "\n",
    "history = model.fit(train_dataset_tf, callbacks=[validation_callback], epochs=50)"
   ]
  },
  {
   "cell_type": "code",
   "execution_count": null,
   "metadata": {},
   "outputs": [],
   "source": [
    "MODEL_NAME_TF = os.environ.get(\"MODEL_NAME_TF\", \"movielens_tf\")\n",
    "MODEL_PATH_TEMP_TF = os.path.join(MODEL_BASE_DIR, MODEL_NAME_TF, \"1/model.savedmodel\")\n",
    "\n",
    "model.save(MODEL_PATH_TEMP_TF)"
   ]
  },
  {
   "cell_type": "markdown",
   "metadata": {},
   "source": [
    "Before moving to the next notebook, `04a-Triton-Inference-with-TF.ipynb`, we need to generate the Triton Inference Server configurations and save the models in the correct format. We just saved TensorFlow model to disk, and in the previous notebook `02-ETL-with-NVTabular`, we saved the NVTabular workflow. Let's load the workflow. "
   ]
  },
  {
   "cell_type": "markdown",
   "metadata": {},
   "source": [
    "The TensorFlow input layers expect the input datatype to be int32. Therefore, we need to change the output datatypes to int32 for our NVTabular workflow."
   ]
  },
  {
   "cell_type": "code",
   "execution_count": null,
   "metadata": {},
   "outputs": [],
   "source": [
    "workflow = nvt.Workflow.load(os.path.join(INPUT_DATA_DIR, \"workflow\"))\n",
    "\n",
    "workflow.output_dtypes[\"userId\"] = \"int32\"\n",
    "workflow.output_dtypes[\"movieId\"] = \"int32\""
   ]
  },
  {
   "cell_type": "code",
   "execution_count": null,
   "metadata": {},
   "outputs": [],
   "source": [
    "MODEL_NAME_ENSEMBLE = os.environ.get(\"MODEL_NAME_ENSEMBLE\", \"movielens\")\n",
    "# model path to save the models\n",
    "MODEL_PATH = os.environ.get(\"MODEL_PATH\", os.path.join(MODEL_BASE_DIR, \"models\"))"
   ]
  },
  {
   "cell_type": "markdown",
   "metadata": {},
   "source": [
    "NVTabular provides a function to save the NVTabular workflow, TensorFlow model and Triton Inference Server (IS) config files via `export_tensorflow_ensemble`. We provide the model, workflow, a model name for ensemble model, path and output column."
   ]
  },
  {
   "cell_type": "code",
   "execution_count": null,
   "metadata": {},
   "outputs": [],
   "source": [
    "# Creates an ensemble triton server model, where\n",
    "#   model: The tensorflow model that should be served\n",
    "#   workflow: The nvtabular workflow used in preprocessing\n",
    "#   name: The base name of the various triton models\n",
    "\n",
    "from nvtabular.inference.triton import export_tensorflow_ensemble\n",
    "\n",
    "export_tensorflow_ensemble(model, workflow, MODEL_NAME_ENSEMBLE, MODEL_PATH, [\"rating\"])"
   ]
  },
  {
   "cell_type": "markdown",
   "metadata": {},
   "source": [
    "Now, we can move to the next notebook, [04-Triton-Inference-with-TF.ipynb](https://github.com/NVIDIA/NVTabular/blob/main/examples/getting-started-movielens/04-Triton-Inference-with-TF.ipynb), to send inference request to the Triton IS."
   ]
  }
 ],
 "metadata": {
  "kernelspec": {
   "display_name": "Python 3",
   "language": "python",
   "name": "python3"
  },
  "language_info": {
   "codemirror_mode": {
    "name": "ipython",
    "version": 3
   },
   "file_extension": ".py",
   "mimetype": "text/x-python",
   "name": "python",
   "nbconvert_exporter": "python",
   "pygments_lexer": "ipython3",
   "version": "3.8.5"
  }
 },
 "nbformat": 4,
 "nbformat_minor": 4
}
