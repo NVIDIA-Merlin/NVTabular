{
 "cells": [
  {
   "cell_type": "code",
   "execution_count": 4,
   "id": "logical-elevation",
   "metadata": {},
   "outputs": [],
   "source": [
    "# Copyright 2021 NVIDIA Corporation. All Rights Reserved.\n",
    "#\n",
    "# Licensed under the Apache License, Version 2.0 (the \"License\");\n",
    "# you may not use this file except in compliance with the License.\n",
    "# You may obtain a copy of the License at\n",
    "#\n",
    "#     http://www.apache.org/licenses/LICENSE-2.0\n",
    "#\n",
    "# Unless required by applicable law or agreed to in writing, software\n",
    "# distributed under the License is distributed on an \"AS IS\" BASIS,\n",
    "# WITHOUT WARRANTIES OR CONDITIONS OF ANY KIND, either express or implied.\n",
    "# See the License for the specific language governing permissions and\n",
    "# limitations under the License.\n",
    "# =============================================================================="
   ]
  },
  {
   "cell_type": "markdown",
   "id": "social-threat",
   "metadata": {},
   "source": [
    "# <img src=\"http://developer.download.nvidia.com/compute/machine-learning/frameworks/nvidia_logo.png\" style=\"width: 90px; float: right;\">\n",
    "# Creating Multi-Modal Movie Feature Store\n",
    "\n",
    "Finally, with both the text and image features ready, we now put the multi-modal movie features into a unified feature store."
   ]
  },
  {
   "cell_type": "code",
   "execution_count": 5,
   "id": "legendary-still",
   "metadata": {},
   "outputs": [
    {
     "data": {
      "text/plain": [
       "61947"
      ]
     },
     "execution_count": 5,
     "metadata": {},
     "output_type": "execute_result"
    }
   ],
   "source": [
    "import pickle\n",
    "\n",
    "with open('movies_poster_features.pkl', 'rb') as f:\n",
    "    poster_feature = pickle.load(f)[\"feature_dict\"]\n",
    "    \n",
    "len(poster_feature)"
   ]
  },
  {
   "cell_type": "code",
   "execution_count": 6,
   "id": "small-garbage",
   "metadata": {},
   "outputs": [],
   "source": [
    "with open('movies_synopsis_embeddings-1024.pkl', 'rb') as f:\n",
    "    text_feature = pickle.load(f)[\"embeddings\"]"
   ]
  },
  {
   "cell_type": "code",
   "execution_count": 7,
   "id": "floating-morocco",
   "metadata": {},
   "outputs": [
    {
     "data": {
      "text/plain": [
       "61291"
      ]
     },
     "execution_count": 7,
     "metadata": {},
     "output_type": "execute_result"
    }
   ],
   "source": [
    "len(text_feature)"
   ]
  },
  {
   "cell_type": "code",
   "execution_count": 8,
   "id": "honest-alabama",
   "metadata": {},
   "outputs": [],
   "source": [
    "import pandas as pd\n",
    "links = pd.read_csv(\"./data/ml-25m/links.csv\", dtype={\"imdbId\": str})"
   ]
  },
  {
   "cell_type": "code",
   "execution_count": 9,
   "id": "turkish-worth",
   "metadata": {},
   "outputs": [
    {
     "data": {
      "text/plain": [
       "(62423, 3)"
      ]
     },
     "execution_count": 9,
     "metadata": {},
     "output_type": "execute_result"
    }
   ],
   "source": [
    "links.shape"
   ]
  },
  {
   "cell_type": "code",
   "execution_count": 10,
   "id": "south-pillow",
   "metadata": {},
   "outputs": [
    {
     "data": {
      "text/html": [
       "<div>\n",
       "<style scoped>\n",
       "    .dataframe tbody tr th:only-of-type {\n",
       "        vertical-align: middle;\n",
       "    }\n",
       "\n",
       "    .dataframe tbody tr th {\n",
       "        vertical-align: top;\n",
       "    }\n",
       "\n",
       "    .dataframe thead th {\n",
       "        text-align: right;\n",
       "    }\n",
       "</style>\n",
       "<table border=\"1\" class=\"dataframe\">\n",
       "  <thead>\n",
       "    <tr style=\"text-align: right;\">\n",
       "      <th></th>\n",
       "      <th>movieId</th>\n",
       "      <th>imdbId</th>\n",
       "      <th>tmdbId</th>\n",
       "    </tr>\n",
       "  </thead>\n",
       "  <tbody>\n",
       "    <tr>\n",
       "      <th>0</th>\n",
       "      <td>1</td>\n",
       "      <td>0114709</td>\n",
       "      <td>862.0</td>\n",
       "    </tr>\n",
       "    <tr>\n",
       "      <th>1</th>\n",
       "      <td>2</td>\n",
       "      <td>0113497</td>\n",
       "      <td>8844.0</td>\n",
       "    </tr>\n",
       "    <tr>\n",
       "      <th>2</th>\n",
       "      <td>3</td>\n",
       "      <td>0113228</td>\n",
       "      <td>15602.0</td>\n",
       "    </tr>\n",
       "    <tr>\n",
       "      <th>3</th>\n",
       "      <td>4</td>\n",
       "      <td>0114885</td>\n",
       "      <td>31357.0</td>\n",
       "    </tr>\n",
       "    <tr>\n",
       "      <th>4</th>\n",
       "      <td>5</td>\n",
       "      <td>0113041</td>\n",
       "      <td>11862.0</td>\n",
       "    </tr>\n",
       "  </tbody>\n",
       "</table>\n",
       "</div>"
      ],
      "text/plain": [
       "   movieId   imdbId   tmdbId\n",
       "0        1  0114709    862.0\n",
       "1        2  0113497   8844.0\n",
       "2        3  0113228  15602.0\n",
       "3        4  0114885  31357.0\n",
       "4        5  0113041  11862.0"
      ]
     },
     "execution_count": 10,
     "metadata": {},
     "output_type": "execute_result"
    }
   ],
   "source": [
    "links.head()"
   ]
  },
  {
   "cell_type": "code",
   "execution_count": 11,
   "id": "straight-gamma",
   "metadata": {},
   "outputs": [
    {
     "data": {
      "text/plain": [
       "(2048,)"
      ]
     },
     "execution_count": 11,
     "metadata": {},
     "output_type": "execute_result"
    }
   ],
   "source": [
    "poster_feature['0105812'].shape"
   ]
  },
  {
   "cell_type": "code",
   "execution_count": 12,
   "id": "robust-lebanon",
   "metadata": {},
   "outputs": [],
   "source": [
    "import numpy as np\n",
    "feature_array = np.zeros((len(links), 1+2048+1024))\n",
    "\n",
    "for i, row in links.iterrows():\n",
    "    feature_array[i,0] = row['movieId']\n",
    "    if row['imdbId'] in poster_feature:\n",
    "        feature_array[i,1:2049] = poster_feature[row['imdbId']]\n",
    "    if row['movieId'] in text_feature:\n",
    "        feature_array[i,2049:] = text_feature[row['movieId']]\n",
    "    "
   ]
  },
  {
   "cell_type": "code",
   "execution_count": 13,
   "id": "about-baking",
   "metadata": {},
   "outputs": [],
   "source": [
    "dtype= {**{'movieId': np.int64},**{x: np.float32 for x in ['poster_feature_%d'%i for i in range(2048)]+['text_feature_%d'%i for i in range(1024)]}}"
   ]
  },
  {
   "cell_type": "code",
   "execution_count": 14,
   "id": "accompanied-savings",
   "metadata": {},
   "outputs": [
    {
     "data": {
      "text/plain": [
       "3073"
      ]
     },
     "execution_count": 14,
     "metadata": {},
     "output_type": "execute_result"
    }
   ],
   "source": [
    "len(dtype)"
   ]
  },
  {
   "cell_type": "code",
   "execution_count": 15,
   "id": "everyday-steps",
   "metadata": {},
   "outputs": [],
   "source": [
    "feature_df = pd.DataFrame(feature_array, columns=['movieId']+['poster_feature_%d'%i for i in range(2048)]+['text_feature_%d'%i for i in range(1024)])"
   ]
  },
  {
   "cell_type": "code",
   "execution_count": 16,
   "id": "serious-italic",
   "metadata": {},
   "outputs": [
    {
     "data": {
      "text/html": [
       "<div>\n",
       "<style scoped>\n",
       "    .dataframe tbody tr th:only-of-type {\n",
       "        vertical-align: middle;\n",
       "    }\n",
       "\n",
       "    .dataframe tbody tr th {\n",
       "        vertical-align: top;\n",
       "    }\n",
       "\n",
       "    .dataframe thead th {\n",
       "        text-align: right;\n",
       "    }\n",
       "</style>\n",
       "<table border=\"1\" class=\"dataframe\">\n",
       "  <thead>\n",
       "    <tr style=\"text-align: right;\">\n",
       "      <th></th>\n",
       "      <th>movieId</th>\n",
       "      <th>poster_feature_0</th>\n",
       "      <th>poster_feature_1</th>\n",
       "      <th>poster_feature_2</th>\n",
       "      <th>poster_feature_3</th>\n",
       "      <th>poster_feature_4</th>\n",
       "      <th>poster_feature_5</th>\n",
       "      <th>poster_feature_6</th>\n",
       "      <th>poster_feature_7</th>\n",
       "      <th>poster_feature_8</th>\n",
       "      <th>...</th>\n",
       "      <th>text_feature_1014</th>\n",
       "      <th>text_feature_1015</th>\n",
       "      <th>text_feature_1016</th>\n",
       "      <th>text_feature_1017</th>\n",
       "      <th>text_feature_1018</th>\n",
       "      <th>text_feature_1019</th>\n",
       "      <th>text_feature_1020</th>\n",
       "      <th>text_feature_1021</th>\n",
       "      <th>text_feature_1022</th>\n",
       "      <th>text_feature_1023</th>\n",
       "    </tr>\n",
       "  </thead>\n",
       "  <tbody>\n",
       "    <tr>\n",
       "      <th>0</th>\n",
       "      <td>1.0</td>\n",
       "      <td>0.000000</td>\n",
       "      <td>0.088281</td>\n",
       "      <td>0.036760</td>\n",
       "      <td>0.000000</td>\n",
       "      <td>0.006470</td>\n",
       "      <td>0.000000</td>\n",
       "      <td>0.023553</td>\n",
       "      <td>0.000163</td>\n",
       "      <td>0.238797</td>\n",
       "      <td>...</td>\n",
       "      <td>0.291230</td>\n",
       "      <td>-0.197272</td>\n",
       "      <td>0.024294</td>\n",
       "      <td>1.307049</td>\n",
       "      <td>-0.789571</td>\n",
       "      <td>0.084938</td>\n",
       "      <td>-0.187339</td>\n",
       "      <td>0.061683</td>\n",
       "      <td>0.183281</td>\n",
       "      <td>-0.356245</td>\n",
       "    </tr>\n",
       "    <tr>\n",
       "      <th>1</th>\n",
       "      <td>2.0</td>\n",
       "      <td>0.000000</td>\n",
       "      <td>0.000000</td>\n",
       "      <td>0.000000</td>\n",
       "      <td>0.289105</td>\n",
       "      <td>0.134672</td>\n",
       "      <td>0.691380</td>\n",
       "      <td>0.045417</td>\n",
       "      <td>0.000000</td>\n",
       "      <td>0.051422</td>\n",
       "      <td>...</td>\n",
       "      <td>0.203168</td>\n",
       "      <td>-0.617449</td>\n",
       "      <td>0.443821</td>\n",
       "      <td>1.501953</td>\n",
       "      <td>-0.736949</td>\n",
       "      <td>0.180542</td>\n",
       "      <td>-0.313696</td>\n",
       "      <td>0.274087</td>\n",
       "      <td>0.153105</td>\n",
       "      <td>-0.218745</td>\n",
       "    </tr>\n",
       "    <tr>\n",
       "      <th>2</th>\n",
       "      <td>3.0</td>\n",
       "      <td>0.000000</td>\n",
       "      <td>0.187553</td>\n",
       "      <td>0.000000</td>\n",
       "      <td>0.904370</td>\n",
       "      <td>0.069441</td>\n",
       "      <td>0.026665</td>\n",
       "      <td>0.817211</td>\n",
       "      <td>0.000000</td>\n",
       "      <td>0.125072</td>\n",
       "      <td>...</td>\n",
       "      <td>0.173140</td>\n",
       "      <td>-0.209240</td>\n",
       "      <td>0.451933</td>\n",
       "      <td>1.491917</td>\n",
       "      <td>-0.743956</td>\n",
       "      <td>-0.069061</td>\n",
       "      <td>-0.900011</td>\n",
       "      <td>0.583347</td>\n",
       "      <td>0.192817</td>\n",
       "      <td>0.224088</td>\n",
       "    </tr>\n",
       "    <tr>\n",
       "      <th>3</th>\n",
       "      <td>4.0</td>\n",
       "      <td>0.182279</td>\n",
       "      <td>0.014646</td>\n",
       "      <td>0.004135</td>\n",
       "      <td>0.197796</td>\n",
       "      <td>0.077938</td>\n",
       "      <td>0.000000</td>\n",
       "      <td>0.215127</td>\n",
       "      <td>0.021160</td>\n",
       "      <td>0.023108</td>\n",
       "      <td>...</td>\n",
       "      <td>-0.394012</td>\n",
       "      <td>0.679462</td>\n",
       "      <td>1.225475</td>\n",
       "      <td>1.196255</td>\n",
       "      <td>-0.169627</td>\n",
       "      <td>-0.008575</td>\n",
       "      <td>-0.172138</td>\n",
       "      <td>0.114755</td>\n",
       "      <td>-0.127861</td>\n",
       "      <td>-0.003679</td>\n",
       "    </tr>\n",
       "    <tr>\n",
       "      <th>4</th>\n",
       "      <td>5.0</td>\n",
       "      <td>0.000000</td>\n",
       "      <td>0.082123</td>\n",
       "      <td>0.447287</td>\n",
       "      <td>0.002375</td>\n",
       "      <td>0.135956</td>\n",
       "      <td>0.000000</td>\n",
       "      <td>0.989514</td>\n",
       "      <td>0.808180</td>\n",
       "      <td>0.317510</td>\n",
       "      <td>...</td>\n",
       "      <td>-0.176658</td>\n",
       "      <td>-0.078992</td>\n",
       "      <td>0.726118</td>\n",
       "      <td>1.017430</td>\n",
       "      <td>-0.249834</td>\n",
       "      <td>0.183357</td>\n",
       "      <td>-0.071451</td>\n",
       "      <td>0.644567</td>\n",
       "      <td>0.090399</td>\n",
       "      <td>-1.147284</td>\n",
       "    </tr>\n",
       "  </tbody>\n",
       "</table>\n",
       "<p>5 rows × 3073 columns</p>\n",
       "</div>"
      ],
      "text/plain": [
       "   movieId  poster_feature_0  poster_feature_1  poster_feature_2  \\\n",
       "0      1.0          0.000000          0.088281          0.036760   \n",
       "1      2.0          0.000000          0.000000          0.000000   \n",
       "2      3.0          0.000000          0.187553          0.000000   \n",
       "3      4.0          0.182279          0.014646          0.004135   \n",
       "4      5.0          0.000000          0.082123          0.447287   \n",
       "\n",
       "   poster_feature_3  poster_feature_4  poster_feature_5  poster_feature_6  \\\n",
       "0          0.000000          0.006470          0.000000          0.023553   \n",
       "1          0.289105          0.134672          0.691380          0.045417   \n",
       "2          0.904370          0.069441          0.026665          0.817211   \n",
       "3          0.197796          0.077938          0.000000          0.215127   \n",
       "4          0.002375          0.135956          0.000000          0.989514   \n",
       "\n",
       "   poster_feature_7  poster_feature_8  ...  text_feature_1014  \\\n",
       "0          0.000163          0.238797  ...           0.291230   \n",
       "1          0.000000          0.051422  ...           0.203168   \n",
       "2          0.000000          0.125072  ...           0.173140   \n",
       "3          0.021160          0.023108  ...          -0.394012   \n",
       "4          0.808180          0.317510  ...          -0.176658   \n",
       "\n",
       "   text_feature_1015  text_feature_1016  text_feature_1017  text_feature_1018  \\\n",
       "0          -0.197272           0.024294           1.307049          -0.789571   \n",
       "1          -0.617449           0.443821           1.501953          -0.736949   \n",
       "2          -0.209240           0.451933           1.491917          -0.743956   \n",
       "3           0.679462           1.225475           1.196255          -0.169627   \n",
       "4          -0.078992           0.726118           1.017430          -0.249834   \n",
       "\n",
       "   text_feature_1019  text_feature_1020  text_feature_1021  text_feature_1022  \\\n",
       "0           0.084938          -0.187339           0.061683           0.183281   \n",
       "1           0.180542          -0.313696           0.274087           0.153105   \n",
       "2          -0.069061          -0.900011           0.583347           0.192817   \n",
       "3          -0.008575          -0.172138           0.114755          -0.127861   \n",
       "4           0.183357          -0.071451           0.644567           0.090399   \n",
       "\n",
       "   text_feature_1023  \n",
       "0          -0.356245  \n",
       "1          -0.218745  \n",
       "2           0.224088  \n",
       "3          -0.003679  \n",
       "4          -1.147284  \n",
       "\n",
       "[5 rows x 3073 columns]"
      ]
     },
     "execution_count": 16,
     "metadata": {},
     "output_type": "execute_result"
    }
   ],
   "source": [
    "feature_df.head()"
   ]
  },
  {
   "cell_type": "code",
   "execution_count": 17,
   "id": "running-forwarding",
   "metadata": {},
   "outputs": [
    {
     "data": {
      "text/plain": [
       "(62423, 3073)"
      ]
     },
     "execution_count": 17,
     "metadata": {},
     "output_type": "execute_result"
    }
   ],
   "source": [
    "feature_df.shape"
   ]
  },
  {
   "cell_type": "code",
   "execution_count": 18,
   "id": "distinct-cruise",
   "metadata": {},
   "outputs": [
    {
     "name": "stdout",
     "output_type": "stream",
     "text": [
      "Looking in indexes: https://pypi.org/simple, https://pypi.ngc.nvidia.com\n",
      "Requirement already satisfied: pyarrow in /usr/local/lib/python3.8/dist-packages (1.0.1)\n",
      "Requirement already satisfied: numpy>=1.14 in /usr/local/lib/python3.8/dist-packages (from pyarrow) (1.20.3)\n",
      "\u001b[33mWARNING: You are using pip version 21.0.1; however, version 21.1.2 is available.\n",
      "You should consider upgrading via the '/usr/bin/python -m pip install --upgrade pip' command.\u001b[0m\n"
     ]
    }
   ],
   "source": [
    "!pip install pyarrow"
   ]
  },
  {
   "cell_type": "code",
   "execution_count": 19,
   "id": "nonprofit-complex",
   "metadata": {},
   "outputs": [],
   "source": [
    "feature_df.to_parquet('feature_df.parquet')"
   ]
  },
  {
   "cell_type": "code",
   "execution_count": null,
   "id": "saved-development",
   "metadata": {},
   "outputs": [],
   "source": []
  }
 ],
 "metadata": {
  "kernelspec": {
   "display_name": "Python 3",
   "language": "python",
   "name": "python3"
  },
  "language_info": {
   "codemirror_mode": {
    "name": "ipython",
    "version": 3
   },
   "file_extension": ".py",
   "mimetype": "text/x-python",
   "name": "python",
   "nbconvert_exporter": "python",
   "pygments_lexer": "ipython3",
   "version": "3.8.5"
  }
 },
 "nbformat": 4,
 "nbformat_minor": 5
}
