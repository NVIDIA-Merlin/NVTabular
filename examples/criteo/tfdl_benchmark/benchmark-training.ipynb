{
 "cells": [
  {
   "cell_type": "code",
   "execution_count": 1,
   "metadata": {},
   "outputs": [],
   "source": [
    "# Copyright 2020 NVIDIA Corporation. All Rights Reserved.\n",
    "#\n",
    "# Licensed under the Apache License, Version 2.0 (the \"License\");\n",
    "# you may not use this file except in compliance with the License.\n",
    "# You may obtain a copy of the License at\n",
    "#\n",
    "#     http://www.apache.org/licenses/LICENSE-2.0\n",
    "#\n",
    "# Unless required by applicable law or agreed to in writing, software\n",
    "# distributed under the License is distributed on an \"AS IS\" BASIS,\n",
    "# WITHOUT WARRANTIES OR CONDITIONS OF ANY KIND, either express or implied.\n",
    "# See the License for the specific language governing permissions and\n",
    "# limitations under the License.\n",
    "# =============================================================================="
   ]
  },
  {
   "cell_type": "markdown",
   "metadata": {},
   "source": [
    "<img src=\"http://developer.download.nvidia.com/compute/machine-learning/frameworks/nvidia_logo.png\" style=\"width: 90px; float: right;\">\n",
    "\n",
    "# Benchmark NVTabular data loader\n",
    "We are interested to benchmark the NVTabular data loader and compare its performance to the TensorFlow \"native\" data loader based on tf.records. In [benchmark-preprocess.ipynb](???), we preprocess the dataset, ready to use for NVTabular data loader (parquet) and TensorFlow native data loader (tf.records). In this notebook, we will train a neural network in TensorFlow using either data loader and measure the performance."
   ]
  },
  {
   "cell_type": "markdown",
   "metadata": {},
   "source": [
    "First, we install gpustat"
   ]
  },
  {
   "cell_type": "code",
   "execution_count": 2,
   "metadata": {},
   "outputs": [
    {
     "name": "stdout",
     "output_type": "stream",
     "text": [
      "Requirement already satisfied: gpustat in /opt/conda/envs/rapids/lib/python3.7/site-packages (0.6.0)\r\n",
      "Requirement already satisfied: psutil in /opt/conda/envs/rapids/lib/python3.7/site-packages (from gpustat) (5.7.2)\r\n",
      "Requirement already satisfied: nvidia-ml-py3>=7.352.0 in /opt/conda/envs/rapids/lib/python3.7/site-packages (from gpustat) (7.352.0)\r\n",
      "Requirement already satisfied: blessings>=1.6 in /opt/conda/envs/rapids/lib/python3.7/site-packages (from gpustat) (1.7)\r\n",
      "Requirement already satisfied: six>=1.7 in /opt/conda/envs/rapids/lib/python3.7/site-packages (from gpustat) (1.15.0)\r\n"
     ]
    }
   ],
   "source": [
    "!pip install gpustat"
   ]
  },
  {
   "cell_type": "markdown",
   "metadata": {},
   "source": [
    "We run single GPU version and set only one visible device."
   ]
  },
  {
   "cell_type": "code",
   "execution_count": 3,
   "metadata": {},
   "outputs": [],
   "source": [
    "import os, time\n",
    "os.environ[\"CUDA_VISIBLE_DEVICES\"]=\"0\""
   ]
  },
  {
   "cell_type": "markdown",
   "metadata": {},
   "source": [
    "We import the required libraries."
   ]
  },
  {
   "cell_type": "code",
   "execution_count": 4,
   "metadata": {},
   "outputs": [],
   "source": [
    "import glob\n",
    "import nvtabular as nvt\n",
    "\n",
    "from time import time\n",
    "from tqdm.notebook import trange\n",
    "\n",
    "import pickle"
   ]
  },
  {
   "cell_type": "markdown",
   "metadata": {},
   "source": [
    "We define multiple helper functions.<br><br>\n",
    "*get_dataloader* returns the NVTabular data loader or TensorFlow native data loader, depending on dl_type<br>\n",
    "*get_model* returns a standard TensorFlow model<br>\n",
    "*make_tf_dataset* is a helper function to initalize the TensorFlow data loader"
   ]
  },
  {
   "cell_type": "code",
   "execution_count": 5,
   "metadata": {},
   "outputs": [],
   "source": [
    "### Helper Function\n",
    "\n",
    "def get_dataloader(dl_type='NVTabular', columns=[]):\n",
    "    if dl_type=='NVTabular':\n",
    "        train_dataset_tf = KerasSequenceLoader(\n",
    "            output_train_dir + '*.parquet', # you could also use a glob pattern\n",
    "            batch_size=BATCH_SIZE,\n",
    "            label_names=LABEL_COLUMNS,\n",
    "            cat_names=CATEGORICAL_COLUMNS,\n",
    "            cont_names=CONTINUOUS_COLUMNS,\n",
    "            engine='parquet',\n",
    "            shuffle=True,\n",
    "            buffer_size=0.06, # how many batches to load at once\n",
    "            parts_per_chunk=PARTS_PER_CHUNK\n",
    "        )\n",
    "        valid_dataset_tf = KerasSequenceLoader(\n",
    "            output_valid_dir + '*.parquet', # you could also use a glob pattern\n",
    "            batch_size=BATCH_SIZE,\n",
    "            label_names=LABEL_COLUMNS,\n",
    "            cat_names = CATEGORICAL_COLUMNS,\n",
    "            cont_names=CONTINUOUS_COLUMNS,\n",
    "            engine='parquet',\n",
    "            shuffle=False,\n",
    "            buffer_size=0.06,\n",
    "            parts_per_chunk=PARTS_PER_CHUNK\n",
    "        )\n",
    "    if dl_type=='TensorFlow':\n",
    "        train_dataset_tf = make_tf_dataset(TFRECORDS_TRAIN, columns)\n",
    "        valid_dataset_tf = make_tf_dataset(TFRECORDS_VALID, columns)\n",
    "    return(train_dataset_tf, valid_dataset_tf, columns)\n",
    "\n",
    "def get_model(hidden_dims, inputs, features, dl_type):\n",
    "    if dl_type=='NVTabular':\n",
    "        dense_layer = layers.DenseFeatures(features)\n",
    "    if dl_type=='TensorFlow':\n",
    "        dense_layer = tf.keras.layers.DenseFeatures(features)\n",
    "    x = dense_layer(inputs)\n",
    "    \n",
    "    for hidden in hidden_dims:\n",
    "        x = tf.keras.layers.Dense(hidden, activation='relu')(x)\n",
    "    \n",
    "    x = tf.keras.layers.Dense(1, activation='sigmoid')(x)\n",
    "    model = tf.keras.Model(inputs=inputs, outputs=x)\n",
    "    metrics = [tf.keras.metrics.AUC(curve=\"ROC\", name=\"auroc\")]\n",
    "    model.compile('sgd', 'binary_crossentropy', metrics=metrics)\n",
    "    return(model)\n",
    "\n",
    "def make_tf_dataset(file_pattern, columns):\n",
    "    # get rid of embeddings for \"raw\" columns\n",
    "    columns = [getattr(col, \"categorical_column\", col) for col in columns]\n",
    "    # feature spec tells us how to parse tfrecords\n",
    "    # using FixedLenFeatures keeps from using sparse machinery,\n",
    "    # but obviously wouldn't extend to multi-hot categoricals\n",
    "    get_dtype = lambda col: getattr(col, \"dtype\", tf.int64)\n",
    "    feature_spec = {column.name: tf.io.FixedLenFeature((1,), get_dtype(column)) for column in columns}\n",
    "    feature_spec[LABEL_COLUMNS[0]] = tf.io.FixedLenFeature((1,), tf.int64)\n",
    "\n",
    "    dataset = tf.data.experimental.make_batched_features_dataset(\n",
    "        file_pattern,\n",
    "        BATCH_SIZE,\n",
    "        feature_spec,\n",
    "        label_key=LABEL_COLUMNS[0],\n",
    "        num_epochs=EPOCHS,\n",
    "        shuffle=True,\n",
    "        shuffle_buffer_size=BATCH_SIZE,\n",
    "    )\n",
    "    return dataset\n",
    "\n",
    "def log_textfile(filename, text, mode):\n",
    "    print(text)\n",
    "    f = open(filename, mode)\n",
    "    f.write(str(text) + str('\\n'))\n",
    "    f.close()"
   ]
  },
  {
   "cell_type": "markdown",
   "metadata": {},
   "source": [
    "In addition, we define functions to measure the performance.<br><br>\n",
    "*time_only_dl* measures the time for just iterating through the dataset for 1 epoch WITHOUT training a model<br>\n",
    "*time_training* measures the time for training a model for 1 epoch<br><br>\n",
    "Note, that 1 epoch is defined by a number of steps. Tf.records does not allow partical batches in tf.records, so we approximated one epoch by the number of steps."
   ]
  },
  {
   "cell_type": "code",
   "execution_count": 6,
   "metadata": {},
   "outputs": [],
   "source": [
    "def time_only_dl(dl, num_steps):\n",
    "    start = time.time()\n",
    "    i = 0\n",
    "    j= 0\n",
    "    bl_done = False\n",
    "    while not(bl_done) and i<num_steps:\n",
    "        for _, batch in enumerate(dl):\n",
    "            if i == num_steps:\n",
    "                bl_done = True\n",
    "                break\n",
    "            i+=1\n",
    "        j+=1\n",
    "    end = time.time()\n",
    "    return(end-start, i, j)\n",
    "\n",
    "def time_training(model, train_dataset_tf, steps):\n",
    "    start = time.time()\n",
    "    history = model.fit(train_dataset_tf, epochs=1, steps_per_epoch=steps)\n",
    "    end = time.time()\n",
    "    return(end-start, steps, 1)"
   ]
  },
  {
   "cell_type": "markdown",
   "metadata": {},
   "source": [
    "We define which benchmark, we want to run."
   ]
  },
  {
   "cell_type": "code",
   "execution_count": 7,
   "metadata": {},
   "outputs": [],
   "source": [
    "# Possible data loader and benchmark options\n",
    "# Which data loader, NVTabular or native TensorFlow\n",
    "DL_TYPES = ['NVTabular', 'TensorFlow'] \n",
    "# What to benchmark\n",
    "BENCHMARK_TYPES = ['time_only_dl', 'time_training', 'convergence_train_loss', 'convergence_valid_loss'] \n",
    "\n",
    "DL_TYPE = 'NVTabular'\n",
    "BENCHMARK_TYPE = 'convergence_train_loss'\n",
    "# Amp=True is mixed precision\n",
    "AMP = False\n",
    "# CPU=True, training on CPU\n",
    "CPU = False\n",
    "\n",
    "if DL_TYPE not in DL_TYPES:\n",
    "    raise ValueError(DL_TYPE + ' is not supported.  Choose from ' + str(DL_TYPES))\n",
    "    \n",
    "if BENCHMARK_TYPE not in BENCHMARK_TYPES:\n",
    "    raise ValueError(BENCHMARK_TYPE + ' is not supported. Choose from ' + str(BENCHMARK_TYPES))"
   ]
  },
  {
   "cell_type": "markdown",
   "metadata": {},
   "source": [
    "We define the inpurt directory for the parquet and tf.records file."
   ]
  },
  {
   "cell_type": "code",
   "execution_count": 8,
   "metadata": {},
   "outputs": [],
   "source": [
    "# define some information about where to get our data\n",
    "OUTPUT_DIR = '/raid/data/criteo/output/'\n",
    "OUTPUT_DATA_DIR = os.environ.get('OUTPUT_DATA_DIR', OUTPUT_DIR + 'output') # where we'll save our procesed data to\n",
    "TFRECORD_DIR = os.environ.get(\"TFRECORD_DIR\", OUTPUT_DIR + 'tfrecords')\n",
    "TFRECORDS_TRAIN = os.path.join(TFRECORD_DIR, 'train', '*.tfrecords')\n",
    "TFRECORDS_VALID = os.path.join(TFRECORD_DIR, 'valid', '*.tfrecords')\n",
    "\n",
    "output_train_dir = os.path.join(OUTPUT_DATA_DIR, 'train/')\n",
    "output_valid_dir = os.path.join(OUTPUT_DATA_DIR, 'valid/')"
   ]
  },
  {
   "cell_type": "markdown",
   "metadata": {},
   "source": [
    "We define some hyperparameters and network architecture."
   ]
  },
  {
   "cell_type": "code",
   "execution_count": 9,
   "metadata": {},
   "outputs": [],
   "source": [
    "# Batch size for training the deep learning model\n",
    "BATCH_SIZE = int(os.environ.get('BATCH_SIZE', 1024*64))      \n",
    "# Number of epochs (only for convergence_val_loss)\n",
    "EPOCHS = 20\n",
    "# Number of steps during training to collect train_loss (only for convergence_train_loss)\n",
    "TRAIN_STEPS = 20\n",
    "# Max. number of steps per epoch (tf.records allows only full batches)\n",
    "STEPS = int(150000000/BATCH_SIZE)\n",
    "# Number of units in hidden layer - length is number of hidden layers\n",
    "HIDDEN_DIMS = [1024, 1024, 1024, 1024]\n",
    "# Number of parts using in shuffling of NVTabular data loader\n",
    "PARTS_PER_CHUNK = int(os.environ.get('PARTS_PER_CHUNK', 1))"
   ]
  },
  {
   "cell_type": "markdown",
   "metadata": {},
   "source": [
    "We load the saved NVTabular workflow to extract the data schema and some statistics."
   ]
  },
  {
   "cell_type": "code",
   "execution_count": 10,
   "metadata": {},
   "outputs": [],
   "source": [
    "proc = nvt.Workflow(\n",
    "    cat_names=[],\n",
    "    cont_names=[],\n",
    "    label_name=[]\n",
    ")\n",
    "proc.load_stats(OUTPUT_DATA_DIR + '/stats_and_workflow')\n",
    "EMBEDDING_TABLE_SHAPES = nvt.ops.get_embedding_sizes(proc)\n",
    "\n",
    "CATEGORICAL_COLUMNS = proc.columns_ctx['categorical']['base']\n",
    "CONTINUOUS_COLUMNS = proc.columns_ctx['continuous']['base']\n",
    "LABEL_COLUMNS = proc.columns_ctx['label']['base']"
   ]
  },
  {
   "cell_type": "markdown",
   "metadata": {},
   "source": [
    "We import TensorFlow and set *TF_MEMORY_ALLOCATION*, that TensorFlow will not reserve the full GPU memory."
   ]
  },
  {
   "cell_type": "code",
   "execution_count": 11,
   "metadata": {},
   "outputs": [],
   "source": [
    "import time\n",
    "\n",
    "import tensorflow as tf\n",
    "\n",
    "from tensorflow.python.feature_column import feature_column_v2 as fc\n",
    "\n",
    "# we can control how much memory to give tensorflow with this environment variable\n",
    "# IMPORTANT: make sure you do this before you initialize TF's runtime, otherwise\n",
    "# TF will have claimed all free GPU memory\n",
    "os.environ['TF_MEMORY_ALLOCATION'] = \"0.5\" # fraction of free memory\n",
    "from nvtabular.loader.tensorflow import KerasSequenceLoader, KerasSequenceValidater\n",
    "from nvtabular.framework_utils.tensorflow import layers\n",
    "from tensorflow.python.feature_column import feature_column_v2 as fc\n",
    "\n",
    "from nvtabular.framework_utils.tensorflow import make_feature_column_workflow"
   ]
  },
  {
   "cell_type": "markdown",
   "metadata": {},
   "source": [
    "We define the tf.keras.Input tensor and tf.feature_column s."
   ]
  },
  {
   "cell_type": "code",
   "execution_count": 12,
   "metadata": {},
   "outputs": [],
   "source": [
    "inputs = {}\n",
    "features = []\n",
    "for col in CATEGORICAL_COLUMNS:\n",
    "    inputs[col] =  tf.keras.Input(\n",
    "        name=col,\n",
    "        dtype=tf.int32,\n",
    "        shape=(1,)\n",
    "    )\n",
    "    features.append(\n",
    "        tf.feature_column.embedding_column(\n",
    "            tf.feature_column.categorical_column_with_identity(\n",
    "                col, \n",
    "                EMBEDDING_TABLE_SHAPES[col][0]                    # Input dimension (vocab size)\n",
    "            ), EMBEDDING_TABLE_SHAPES[col][1]                     # Embedding output dimension\n",
    "        )\n",
    "    )\n",
    "for col in CONTINUOUS_COLUMNS:\n",
    "    inputs[col] =  tf.keras.Input(\n",
    "        name=col,\n",
    "        dtype=tf.float32,\n",
    "        shape=(1,)\n",
    "    )\n",
    "    features.append(\n",
    "        tf.feature_column.numeric_column(col, (1,))\n",
    "    )"
   ]
  },
  {
   "cell_type": "markdown",
   "metadata": {},
   "source": [
    "We initialize the data loader, depending on the data loader type DL_TYPE."
   ]
  },
  {
   "cell_type": "code",
   "execution_count": 13,
   "metadata": {},
   "outputs": [],
   "source": [
    "train_dataset_tf, valid_dataset_tf, features = get_dataloader(DL_TYPE, features)"
   ]
  },
  {
   "cell_type": "markdown",
   "metadata": {},
   "source": [
    "We can specify to use mixed precision for the calculation."
   ]
  },
  {
   "cell_type": "code",
   "execution_count": 14,
   "metadata": {},
   "outputs": [],
   "source": [
    "if AMP:\n",
    "    from tensorflow.keras.mixed_precision import experimental as mixed_precision\n",
    "    policy = mixed_precision.Policy(\"mixed_float16\")\n",
    "    mixed_precision.set_policy(policy)\n",
    "    amp_postfix = 'amp'\n",
    "else:\n",
    "    amp_postfix = 'noamp'"
   ]
  },
  {
   "cell_type": "markdown",
   "metadata": {},
   "source": [
    "We define the output filenames."
   ]
  },
  {
   "cell_type": "code",
   "execution_count": 15,
   "metadata": {},
   "outputs": [],
   "source": [
    "log_filename = DL_TYPE + '_cpu' + str(CPU) + '_' + BENCHMARK_TYPE + '_' + amp_postfix + '.log'\n",
    "gpustat_filename = DL_TYPE + '_cpu' + str(CPU) + '_' + BENCHMARK_TYPE + '_' + amp_postfix + '.json'"
   ]
  },
  {
   "cell_type": "markdown",
   "metadata": {},
   "source": [
    "We run the benchmark."
   ]
  },
  {
   "cell_type": "code",
   "execution_count": 22,
   "metadata": {},
   "outputs": [
    {
     "name": "stdout",
     "output_type": "stream",
     "text": [
      "Epoch 1/3\n",
      "20/20 [==============================] - 10s 191ms/step - loss: 0.6466 - auroc: 0.5005\n",
      "Epoch 2/3\n",
      "20/20 [==============================] - 3s 145ms/step - loss: 0.4682 - auroc: 0.4402\n",
      "Epoch 3/3\n",
      "20/20 [==============================] - 4s 189ms/step - loss: 0.3428 - auroc: 0.4302\n"
     ]
    }
   ],
   "source": [
    "if BENCHMARK_TYPE=='time_only_dl':\n",
    "    os.system('gpustat --watch >> ' +  gpustat_filename + ' &')\n",
    "    run_time, num_steps_done, num_loops = time_only_dl(train_dataset_tf, STEPS)\n",
    "    log_textfile(log_filename, 'Only Data Loader', 'w')\n",
    "    log_textfile(log_filename, 'Time: ' + str(run_time), 'a')\n",
    "    log_textfile(log_filename, 'Throughput: ' + str(BATCH_SIZE*num_steps_done/run_time), 'a')\n",
    "    os.system('pkill -f \"gpustat\"')\n",
    "if BENCHMARK_TYPE=='time_training':\n",
    "    os.system('gpustat --watch >> ' + gpustat_filename + ' &')\n",
    "    if CPU:\n",
    "        with tf.device(\"/CPU:0\"):\n",
    "            model = get_model(HIDDEN_DIMS, inputs, features, DL_TYPE)\n",
    "            run_time, num_steps_done, num_loops = time_training(model, train_dataset_tf, STEPS)\n",
    "    else:\n",
    "        model = get_model(HIDDEN_DIMS, inputs, features, DL_TYPE)\n",
    "        run_time, num_steps_done, num_loops = time_training(model, train_dataset_tf, 2)\n",
    "    log_textfile(log_filename, 'Training', 'w')\n",
    "    log_textfile(log_filename, 'Time: ' + str(run_time), 'a')\n",
    "    log_textfile(log_filename, 'Throughput: ' + str(BATCH_SIZE*num_steps_done/run_time), 'a')\n",
    "    os.system('pkill -f \"gpustat\"')\n",
    "if BENCHMARK_TYPE=='convergence_train_loss':\n",
    "    model = get_model(HIDDEN_DIMS, inputs, features, DL_TYPE)\n",
    "    history = model.fit(train_dataset_tf, epochs=1*int(STEPS/TRAIN_STEPS), steps_per_epoch=TRAIN_STEPS)\n",
    "    pickle.dump(history.history, open(log_filename.replace('.log', '.pickle'), 'wb'))"
   ]
  },
  {
   "cell_type": "markdown",
   "metadata": {},
   "source": [
    "We define a custom validation callback to add support for `num_steps` for the validation call and a progress bar."
   ]
  },
  {
   "cell_type": "code",
   "execution_count": 17,
   "metadata": {},
   "outputs": [],
   "source": [
    "class KerasSequenceValidaterCustom(tf.keras.callbacks.Callback):\n",
    "    # TODO: document\n",
    "    _supports_tf_logs = True\n",
    "\n",
    "    def __init__(self, dataloader, STEPS, DL_TYPE):\n",
    "        self.dataloader = dataloader\n",
    "        self.steps = STEPS\n",
    "        self.dl_type = DL_TYPE \n",
    "\n",
    "    def on_epoch_end(self, epoch, logs={}):\n",
    "        if self.dl_type=='NVTabular':\n",
    "            pbar = trange(len(self.dataloader))\n",
    "        if self.dl_type=='TensorFlow':\n",
    "            pbar = trange(self.steps)\n",
    "        \n",
    "        i = 0\n",
    "        for X, y_true in self.dataloader:\n",
    "            y_pred = self.model(X)\n",
    "\n",
    "            # TODO: how do we want to handle the multi-output case?\n",
    "            for metric in self.model.metrics:\n",
    "                metric.update_state(y_true, y_pred)\n",
    "            pbar.update(1)\n",
    "            i+=1\n",
    "            if i>self.steps:\n",
    "                break\n",
    "                \n",
    "        for metric in self.model.metrics:\n",
    "            logs[\"val_\" + metric.name] = metric.result().numpy()\n",
    "        return logs"
   ]
  },
  {
   "cell_type": "code",
   "execution_count": 18,
   "metadata": {},
   "outputs": [],
   "source": [
    "if BENCHMARK_TYPE=='convergence_valid_loss':\n",
    "    model = get_model(HIDDEN_DIMS, inputs, features, DL_TYPE)\n",
    "    validation_callback = KerasSequenceValidaterCustom(valid_dataset_tf, STEPS, DL_TYPE)\n",
    "    history = model.fit(train_dataset_tf, \n",
    "                        epochs=EPOCHS, \n",
    "                        steps_per_epoch=STEPS,\n",
    "                        callbacks=[validation_callback])\n",
    "    hist_list.append(history.history)\n",
    "    pickle.dump(history.history, open(log_filename.replace('.log', '.pickle'), 'wb'))"
   ]
  }
 ],
 "metadata": {
  "kernelspec": {
   "display_name": "Python 3",
   "language": "python",
   "name": "python3"
  },
  "language_info": {
   "codemirror_mode": {
    "name": "ipython",
    "version": 3
   },
   "file_extension": ".py",
   "mimetype": "text/x-python",
   "name": "python",
   "nbconvert_exporter": "python",
   "pygments_lexer": "ipython3",
   "version": "3.7.8"
  }
 },
 "nbformat": 4,
 "nbformat_minor": 4
}
