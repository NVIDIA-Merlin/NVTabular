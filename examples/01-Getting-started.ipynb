{
 "cells": [
  {
   "cell_type": "code",
   "execution_count": 1,
   "id": "bb28e271",
   "metadata": {},
   "outputs": [],
   "source": [
    "# Copyright 2022 NVIDIA Corporation. All Rights Reserved.\n",
    "#\n",
    "# Licensed under the Apache License, Version 2.0 (the \"License\");\n",
    "# you may not use this file except in compliance with the License.\n",
    "# You may obtain a copy of the License at\n",
    "#\n",
    "#     http://www.apache.org/licenses/LICENSE-2.0\n",
    "#\n",
    "# Unless required by applicable law or agreed to in writing, software\n",
    "# distributed under the License is distributed on an \"AS IS\" BASIS,\n",
    "# WITHOUT WARRANTIES OR CONDITIONS OF ANY KIND, either express or implied.\n",
    "# See the License for the specific language governing permissions and\n",
    "# limitations under the License.\n",
    "# =============================================================================="
   ]
  },
  {
   "cell_type": "markdown",
   "id": "77464844",
   "metadata": {},
   "source": [
    "<img src=\"http://developer.download.nvidia.com/compute/machine-learning/frameworks/nvidia_logo.png\" style=\"width: 90px; float: right;\">\n",
    "\n",
    "# Getting Started with NVTabular: Process Tabular Data On GPU\n",
    "\n",
    "This notebook is created using the latest stable [merlin-tensorflow](https://catalog.ngc.nvidia.com/orgs/nvidia/teams/merlin/containers/merlin-tensorflow/tags) container. \n",
    "\n",
    "## Overview\n",
    "\n",
    "[Merlin NVTabular](https://github.com/NVIDIA-Merlin/NVTabular) is a library for processing tabular data. It lets Data Scientists and ML Engineers easily process data leveraging custom operators specifically designed for machine learning workflows. The processing is carried out on the GPU with best practices baked into the library. Running on the GPU translates to faster iteration cycles and, thanks to leveraging `dask`, enables working on arbitrarily large datasets. NVTabular is a part of the [Merlin open source framework](https://developer.nvidia.com/nvidia-merlin) which allows for seamless transitioning to working with your preprocessed data using the numerous other libraries, including ones for model construction and serving.\n",
    "\n",
    "Training a machine learning model ofen requires preprocessing data and engineering features. In this example, we want to train a neural network with embedding layers based on two categorical features: `userId` and `movieId`. Embedding layers require that the categorical features are continuous integers. In this example, we will show how to use the `Categorify` operator to transform the categorical features for training a model\n",
    "\n",
    "Core features of Merlin NVTabular:\n",
    "- Many different operators (`Categorify`, `FillMissing`, `TargetEncoding`, `Groupby`, etc) tailored for processing tabular data at scale\n",
    "- Flexible APIs targeted to both production and research\n",
    "- Deep integration with NVIDIA Merlin platform, including Merlin Models for constructing and training Deep Learning models and Merlin Systems for model serving\n",
    "\n",
    "\n",
    "### Learning objectives\n",
    "\n",
    "- Processing the Movielens dataset.\n",
    "- Understanding Merlin NVTabular high-level concepts (Dataset, Workflow)\n",
    "- A first look at operators and defining the preprocessing workflow"
   ]
  },
  {
   "cell_type": "markdown",
   "id": "1c5598ae",
   "metadata": {},
   "source": [
    "# Downloading the dataset\n",
    "\n",
    "### MovieLens25M\n",
    "\n",
    "The [MovieLens25M](https://grouplens.org/datasets/movielens/25m/) is a popular dataset for recommender systems and is widely used in academic publications. The dataset contains 25M movie ratings for 62,000 movies given by 162,000 users. Many projects use only the user/item/rating information of MovieLens, but the original dataset provides metadata for the movies, as well. For example, which genres a movie has.\n",
    "\n",
    "To streamline obtaining data, we will use a function from Merlin Models."
   ]
  },
  {
   "cell_type": "code",
   "execution_count": 2,
   "id": "60653f70",
   "metadata": {},
   "outputs": [
    {
     "name": "stderr",
     "output_type": "stream",
     "text": [
      "2022-08-31 04:04:15.362393: I tensorflow/stream_executor/cuda/cuda_gpu_executor.cc:991] successful NUMA node read from SysFS had negative value (-1), but there must be at least one NUMA node, so returning NUMA node zero\n",
      "2022-08-31 04:04:15.362838: I tensorflow/stream_executor/cuda/cuda_gpu_executor.cc:991] successful NUMA node read from SysFS had negative value (-1), but there must be at least one NUMA node, so returning NUMA node zero\n",
      "2022-08-31 04:04:15.362976: I tensorflow/stream_executor/cuda/cuda_gpu_executor.cc:991] successful NUMA node read from SysFS had negative value (-1), but there must be at least one NUMA node, so returning NUMA node zero\n",
      "/usr/local/lib/python3.8/dist-packages/cudf/core/frame.py:384: UserWarning: The deep parameter is ignored and is only included for pandas compatibility.\n",
      "  warnings.warn(\n"
     ]
    }
   ],
   "source": [
    "import os\n",
    "from merlin.datasets.entertainment import get_movielens\n",
    "\n",
    "input_path = os.environ.get(\"INPUT_DATA_DIR\", os.path.expanduser(\"~/merlin-framework/movielens/\"))\n",
    "get_movielens(variant=\"ml-1m\", path=input_path);"
   ]
  },
  {
   "cell_type": "markdown",
   "id": "ab95b716",
   "metadata": {},
   "source": [
    "The original dataset has been preprocessed to make it easier to work with. Instead of having to deal with `dat` files, we can read files directly into a `DataFrame` using the parquet format.\n",
    "\n",
    "The data has already been split for us into train and validation sets."
   ]
  },
  {
   "cell_type": "code",
   "execution_count": 3,
   "id": "f7293205",
   "metadata": {},
   "outputs": [
    {
     "name": "stdout",
     "output_type": "stream",
     "text": [
      "README                    ratings.dat    users.dat\r\n",
      "movies.dat                train.parquet  users_converted.parquet\r\n",
      "movies_converted.parquet  \u001b[0m\u001b[01;34mtransformed\u001b[0m/   valid.parquet\r\n"
     ]
    }
   ],
   "source": [
    "ls {input_path}/ml-1m #noqa"
   ]
  },
  {
   "cell_type": "code",
   "execution_count": 4,
   "id": "c0c3cae3",
   "metadata": {},
   "outputs": [],
   "source": [
    "from merlin.core.dispatch import get_lib\n",
    "\n",
    "train = get_lib().read_parquet(f'{input_path}ml-1m/train.parquet')\n",
    "valid = get_lib().read_parquet(f'{input_path}ml-1m/valid.parquet')"
   ]
  },
  {
   "cell_type": "markdown",
   "id": "1b83f0f2",
   "metadata": {},
   "source": [
    "From the provided `train` and `validation` sets we will extract `userId`, `movieId` and `rating`."
   ]
  },
  {
   "cell_type": "code",
   "execution_count": 5,
   "id": "bdf108aa",
   "metadata": {},
   "outputs": [
    {
     "data": {
      "text/html": [
       "<div>\n",
       "<style scoped>\n",
       "    .dataframe tbody tr th:only-of-type {\n",
       "        vertical-align: middle;\n",
       "    }\n",
       "\n",
       "    .dataframe tbody tr th {\n",
       "        vertical-align: top;\n",
       "    }\n",
       "\n",
       "    .dataframe thead th {\n",
       "        text-align: right;\n",
       "    }\n",
       "</style>\n",
       "<table border=\"1\" class=\"dataframe\">\n",
       "  <thead>\n",
       "    <tr style=\"text-align: right;\">\n",
       "      <th></th>\n",
       "      <th>userId</th>\n",
       "      <th>movieId</th>\n",
       "      <th>rating</th>\n",
       "      <th>timestamp</th>\n",
       "    </tr>\n",
       "  </thead>\n",
       "  <tbody>\n",
       "    <tr>\n",
       "      <th>259658</th>\n",
       "      <td>1587</td>\n",
       "      <td>356</td>\n",
       "      <td>3</td>\n",
       "      <td>974740825</td>\n",
       "    </tr>\n",
       "    <tr>\n",
       "      <th>834974</th>\n",
       "      <td>5018</td>\n",
       "      <td>1299</td>\n",
       "      <td>4</td>\n",
       "      <td>962583606</td>\n",
       "    </tr>\n",
       "    <tr>\n",
       "      <th>153802</th>\n",
       "      <td>988</td>\n",
       "      <td>1721</td>\n",
       "      <td>4</td>\n",
       "      <td>976397962</td>\n",
       "    </tr>\n",
       "    <tr>\n",
       "      <th>363802</th>\n",
       "      <td>2119</td>\n",
       "      <td>151</td>\n",
       "      <td>4</td>\n",
       "      <td>974997851</td>\n",
       "    </tr>\n",
       "    <tr>\n",
       "      <th>834543</th>\n",
       "      <td>5015</td>\n",
       "      <td>1393</td>\n",
       "      <td>4</td>\n",
       "      <td>962594210</td>\n",
       "    </tr>\n",
       "  </tbody>\n",
       "</table>\n",
       "</div>"
      ],
      "text/plain": [
       "        userId  movieId  rating  timestamp\n",
       "259658    1587      356       3  974740825\n",
       "834974    5018     1299       4  962583606\n",
       "153802     988     1721       4  976397962\n",
       "363802    2119      151       4  974997851\n",
       "834543    5015     1393       4  962594210"
      ]
     },
     "execution_count": 5,
     "metadata": {},
     "output_type": "execute_result"
    }
   ],
   "source": [
    "train.head()"
   ]
  },
  {
   "cell_type": "markdown",
   "id": "03b3152e",
   "metadata": {},
   "source": [
    "# Processing the dataset with NVTabular"
   ]
  },
  {
   "cell_type": "markdown",
   "id": "2ee5c7c2",
   "metadata": {},
   "source": [
    "## Defining the workflow"
   ]
  },
  {
   "cell_type": "markdown",
   "id": "6d75cb24",
   "metadata": {},
   "source": [
    "Before we can leverage `NVTabular`, we need to convert our data to a `Merlin Dataset`.\n",
    "\n",
    "We achieve this by passing the `DataFrame` to the `Dataset` constructor."
   ]
  },
  {
   "cell_type": "code",
   "execution_count": 6,
   "id": "d0f72d61",
   "metadata": {},
   "outputs": [
    {
     "data": {
      "text/plain": [
       "(<merlin.io.dataset.Dataset at 0x7f39bce8b880>,\n",
       " <merlin.io.dataset.Dataset at 0x7f39bce8b820>)"
      ]
     },
     "execution_count": 6,
     "metadata": {},
     "output_type": "execute_result"
    }
   ],
   "source": [
    "import nvtabular as nvt\n",
    "from merlin.schema.tags import Tags\n",
    "\n",
    "train_ds = nvt.Dataset(train)\n",
    "valid_ds = nvt.Dataset(valid)\n",
    "\n",
    "train_ds, valid_ds"
   ]
  },
  {
   "cell_type": "markdown",
   "id": "5c3ec1a1",
   "metadata": {},
   "source": [
    "Now that we have read in our data, let's define a workflow.\n",
    "\n",
    "A workflow consists of one or more preprocessing steps that will be applied to our data.\n",
    "\n",
    "We begin by converting `userId` and `movieId` columns to categories. In our dataset, they are already represented as integers, but many models require them to be continuous integers, which is not something we can guarantee about our input data if we don't preprocess it. Further to that, in order to train models on our data, we need to ensure we handle categories not seen in the train dataset.\n",
    "\n",
    "We accomplish both of these with the `Categorify` operator."
   ]
  },
  {
   "cell_type": "code",
   "execution_count": 7,
   "id": "ce735546",
   "metadata": {},
   "outputs": [],
   "source": [
    "output = ['userId', 'movieId'] >> nvt.ops.Categorify()"
   ]
  },
  {
   "cell_type": "markdown",
   "id": "35c1126d",
   "metadata": {},
   "source": [
    "Above, we are instructing `NVTabular` to select the `userId` and `movieId` columns and to apply the `Categorify` operator to them. We store the results as `output`.\n",
    "\n",
    "When we run the cell, the actual operation is not performed. Only a graph representation of the operation is created."
   ]
  },
  {
   "cell_type": "code",
   "execution_count": 8,
   "id": "fa9c3a00",
   "metadata": {},
   "outputs": [
    {
     "data": {
      "image/svg+xml": [
       "<?xml version=\"1.0\" encoding=\"UTF-8\" standalone=\"no\"?>\n",
       "<!DOCTYPE svg PUBLIC \"-//W3C//DTD SVG 1.1//EN\"\n",
       " \"http://www.w3.org/Graphics/SVG/1.1/DTD/svg11.dtd\">\n",
       "<!-- Generated by graphviz version 2.43.0 (0)\n",
       " -->\n",
       "<!-- Title: %3 Pages: 1 -->\n",
       "<svg width=\"208pt\" height=\"260pt\"\n",
       " viewBox=\"0.00 0.00 208.18 260.00\" xmlns=\"http://www.w3.org/2000/svg\" xmlns:xlink=\"http://www.w3.org/1999/xlink\">\n",
       "<g id=\"graph0\" class=\"graph\" transform=\"scale(1 1) rotate(0) translate(4 256)\">\n",
       "<title>%3</title>\n",
       "<polygon fill=\"white\" stroke=\"transparent\" points=\"-4,4 -4,-256 204.18,-256 204.18,4 -4,4\"/>\n",
       "<!-- 0 -->\n",
       "<g id=\"node1\" class=\"node\">\n",
       "<title>0</title>\n",
       "<ellipse fill=\"none\" stroke=\"black\" cx=\"100.09\" cy=\"-90\" rx=\"59.59\" ry=\"18\"/>\n",
       "<text text-anchor=\"middle\" x=\"100.09\" y=\"-86.3\" font-family=\"Times,serif\" font-size=\"14.00\">Categorify</text>\n",
       "</g>\n",
       "<!-- 2 -->\n",
       "<g id=\"node4\" class=\"node\">\n",
       "<title>2</title>\n",
       "<ellipse fill=\"none\" stroke=\"black\" cx=\"100.09\" cy=\"-18\" rx=\"62.29\" ry=\"18\"/>\n",
       "<text text-anchor=\"middle\" x=\"100.09\" y=\"-14.3\" font-family=\"Times,serif\" font-size=\"14.00\">output cols</text>\n",
       "</g>\n",
       "<!-- 0&#45;&gt;2 -->\n",
       "<g id=\"edge3\" class=\"edge\">\n",
       "<title>0&#45;&gt;2</title>\n",
       "<path fill=\"none\" stroke=\"black\" d=\"M100.09,-71.7C100.09,-63.98 100.09,-54.71 100.09,-46.11\"/>\n",
       "<polygon fill=\"black\" stroke=\"black\" points=\"103.59,-46.1 100.09,-36.1 96.59,-46.1 103.59,-46.1\"/>\n",
       "</g>\n",
       "<!-- 1 -->\n",
       "<g id=\"node2\" class=\"node\">\n",
       "<title>1</title>\n",
       "<ellipse fill=\"none\" stroke=\"black\" cx=\"100.09\" cy=\"-162\" rx=\"66.89\" ry=\"18\"/>\n",
       "<text text-anchor=\"middle\" x=\"100.09\" y=\"-158.3\" font-family=\"Times,serif\" font-size=\"14.00\">SelectionOp</text>\n",
       "</g>\n",
       "<!-- 1&#45;&gt;0 -->\n",
       "<g id=\"edge1\" class=\"edge\">\n",
       "<title>1&#45;&gt;0</title>\n",
       "<path fill=\"none\" stroke=\"black\" d=\"M100.09,-143.7C100.09,-135.98 100.09,-126.71 100.09,-118.11\"/>\n",
       "<polygon fill=\"black\" stroke=\"black\" points=\"103.59,-118.1 100.09,-108.1 96.59,-118.1 103.59,-118.1\"/>\n",
       "</g>\n",
       "<!-- 1_selector -->\n",
       "<g id=\"node3\" class=\"node\">\n",
       "<title>1_selector</title>\n",
       "<ellipse fill=\"none\" stroke=\"black\" cx=\"100.09\" cy=\"-234\" rx=\"100.18\" ry=\"18\"/>\n",
       "<text text-anchor=\"middle\" x=\"100.09\" y=\"-230.3\" font-family=\"Times,serif\" font-size=\"14.00\">[&#39;userId&#39;, &#39;movieId&#39;]</text>\n",
       "</g>\n",
       "<!-- 1_selector&#45;&gt;1 -->\n",
       "<g id=\"edge2\" class=\"edge\">\n",
       "<title>1_selector&#45;&gt;1</title>\n",
       "<path fill=\"none\" stroke=\"black\" d=\"M100.09,-215.7C100.09,-207.98 100.09,-198.71 100.09,-190.11\"/>\n",
       "<polygon fill=\"black\" stroke=\"black\" points=\"103.59,-190.1 100.09,-180.1 96.59,-190.1 103.59,-190.1\"/>\n",
       "</g>\n",
       "</g>\n",
       "</svg>\n"
      ],
      "text/plain": [
       "<graphviz.graphs.Digraph at 0x7f39bced48e0>"
      ]
     },
     "execution_count": 8,
     "metadata": {},
     "output_type": "execute_result"
    }
   ],
   "source": [
    "output.graph"
   ]
  },
  {
   "cell_type": "markdown",
   "id": "d556ac20",
   "metadata": {},
   "source": [
    "Let us also add our target to the set of returned columns.\n",
    "\n",
    "Additionally, we tag the `rating` column with appropriate tags. This will allow other components of the Merlin Framework to use this information and minimize the code we will have to write to perform complex operations such as training or serving a Deep Learning model.\n",
    "\n",
    "If you would like to learn more about using `Tags`, please take a look at [this notebook](https://github.com/NVIDIA-Merlin/models/blob/main/examples/02-Merlin-Models-and-NVTabular-integration.ipynb)."
   ]
  },
  {
   "cell_type": "code",
   "execution_count": 9,
   "id": "83c0f78a",
   "metadata": {},
   "outputs": [],
   "source": [
    "output += ['rating'] >> nvt.ops.AddMetadata(tags=[Tags.REGRESSION, Tags.TARGET])"
   ]
  },
  {
   "cell_type": "markdown",
   "id": "7fc778ca",
   "metadata": {},
   "source": [
    "We are now ready to construct a `Workflow` that will run the operations we defined above."
   ]
  },
  {
   "cell_type": "code",
   "execution_count": 10,
   "id": "6b7226fc",
   "metadata": {},
   "outputs": [],
   "source": [
    "workflow = nvt.Workflow(output)"
   ]
  },
  {
   "cell_type": "markdown",
   "id": "f3ce8958",
   "metadata": {},
   "source": [
    "## Applying the workflow to the train and validation sets"
   ]
  },
  {
   "cell_type": "markdown",
   "id": "3f342e03",
   "metadata": {},
   "source": [
    "`NVTabular` follows the familiar `sklearn` API. We can fit the workflow to our train set and subsequently use it to transform our validation dataset."
   ]
  },
  {
   "cell_type": "code",
   "execution_count": 11,
   "id": "03391bb8",
   "metadata": {},
   "outputs": [
    {
     "name": "stderr",
     "output_type": "stream",
     "text": [
      "/usr/local/lib/python3.8/dist-packages/cudf/core/frame.py:384: UserWarning: The deep parameter is ignored and is only included for pandas compatibility.\n",
      "  warnings.warn(\n"
     ]
    }
   ],
   "source": [
    "workflow.fit_transform(train_ds).to_parquet('train')\n",
    "workflow.transform(valid_ds).to_parquet('valid')"
   ]
  },
  {
   "cell_type": "markdown",
   "id": "65053a94",
   "metadata": {},
   "source": [
    "We have `fit` our workflow to the train set. During this operation, the workflow computed and stored a mapping from `userId` and `movieId` values in the dataset to their encoded representation as continuous integers.\n",
    "\n",
    "Subsequently, we have transformed the train set and encoded the `userId` and `movieId` columns (both operations were performed when we called `fit_transform`).\n",
    "\n",
    "Last but not list, we transform our validation dataset using values computed on the train set.\n",
    "\n",
    "We output both datasets to disk."
   ]
  },
  {
   "cell_type": "code",
   "execution_count": 12,
   "id": "60c23ef1",
   "metadata": {},
   "outputs": [
    {
     "name": "stdout",
     "output_type": "stream",
     "text": [
      "_file_list.txt  _metadata  _metadata.json  part_0.parquet  schema.pbtxt\r\n"
     ]
    }
   ],
   "source": [
    "ls train"
   ]
  },
  {
   "cell_type": "markdown",
   "id": "568a22eb",
   "metadata": {},
   "source": [
    "Let us now load our transformed data and see whether everything looks as expected."
   ]
  },
  {
   "cell_type": "code",
   "execution_count": 13,
   "id": "d95c8237",
   "metadata": {},
   "outputs": [],
   "source": [
    "train_transformed = nvt.Dataset('train', engine='parquet')\n",
    "valid_transformed = nvt.Dataset('valid', engine='parquet')"
   ]
  },
  {
   "cell_type": "code",
   "execution_count": 14,
   "id": "187dbb9e",
   "metadata": {},
   "outputs": [
    {
     "data": {
      "text/html": [
       "<div>\n",
       "<style scoped>\n",
       "    .dataframe tbody tr th:only-of-type {\n",
       "        vertical-align: middle;\n",
       "    }\n",
       "\n",
       "    .dataframe tbody tr th {\n",
       "        vertical-align: top;\n",
       "    }\n",
       "\n",
       "    .dataframe thead th {\n",
       "        text-align: right;\n",
       "    }\n",
       "</style>\n",
       "<table border=\"1\" class=\"dataframe\">\n",
       "  <thead>\n",
       "    <tr style=\"text-align: right;\">\n",
       "      <th></th>\n",
       "      <th>userId</th>\n",
       "      <th>movieId</th>\n",
       "      <th>rating</th>\n",
       "    </tr>\n",
       "  </thead>\n",
       "  <tbody>\n",
       "    <tr>\n",
       "      <th>0</th>\n",
       "      <td>320</td>\n",
       "      <td>28</td>\n",
       "      <td>3</td>\n",
       "    </tr>\n",
       "    <tr>\n",
       "      <th>1</th>\n",
       "      <td>1278</td>\n",
       "      <td>354</td>\n",
       "      <td>4</td>\n",
       "    </tr>\n",
       "    <tr>\n",
       "      <th>2</th>\n",
       "      <td>3408</td>\n",
       "      <td>63</td>\n",
       "      <td>4</td>\n",
       "    </tr>\n",
       "    <tr>\n",
       "      <th>3</th>\n",
       "      <td>1747</td>\n",
       "      <td>569</td>\n",
       "      <td>4</td>\n",
       "    </tr>\n",
       "    <tr>\n",
       "      <th>4</th>\n",
       "      <td>204</td>\n",
       "      <td>99</td>\n",
       "      <td>4</td>\n",
       "    </tr>\n",
       "  </tbody>\n",
       "</table>\n",
       "</div>"
      ],
      "text/plain": [
       "   userId  movieId  rating\n",
       "0     320       28       3\n",
       "1    1278      354       4\n",
       "2    3408       63       4\n",
       "3    1747      569       4\n",
       "4     204       99       4"
      ]
     },
     "execution_count": 14,
     "metadata": {},
     "output_type": "execute_result"
    }
   ],
   "source": [
    "train_transformed.head()"
   ]
  },
  {
   "cell_type": "markdown",
   "id": "d83847fe",
   "metadata": {},
   "source": [
    "Let's finish off this notebook with training a DLRM (a Deep Learning Recommendation Model introduced in [Deep Learning Recommendation Model for Personalization and Recommendation Systems](https://arxiv.org/abs/1906.00091)) on our preprocessed data.\n",
    "\n",
    "To learn more about the integration between NVTabular and Merlin Models, please see this [example](https://github.com/NVIDIA-Merlin/models/blob/main/examples/02-Merlin-Models-and-NVTabular-integration.ipynb) in the Merlin Models [repository](https://github.com/NVIDIA-Merlin/models)."
   ]
  },
  {
   "cell_type": "markdown",
   "id": "a6ff4c40",
   "metadata": {},
   "source": [
    "# Training a DLRM model"
   ]
  },
  {
   "cell_type": "markdown",
   "id": "688b89c7",
   "metadata": {},
   "source": [
    "We define the DLRM model, whose prediction task is a binary classification. From the `schema`, the categorical features are identified (and embedded) and the target column is also automatically inferred, because of the schema tags. We talk more about the schema in the next [example notebook (02)](02-Merlin-Models-and-NVTabular-integration.ipynb),"
   ]
  },
  {
   "cell_type": "code",
   "execution_count": 15,
   "id": "7be72270",
   "metadata": {},
   "outputs": [
    {
     "name": "stderr",
     "output_type": "stream",
     "text": [
      "2022-08-31 04:04:17.240242: I tensorflow/core/platform/cpu_feature_guard.cc:194] This TensorFlow binary is optimized with oneAPI Deep Neural Network Library (oneDNN) to use the following CPU instructions in performance-critical operations:  SSE3 SSE4.1 SSE4.2 AVX\n",
      "To enable them in other operations, rebuild TensorFlow with the appropriate compiler flags.\n",
      "2022-08-31 04:04:17.241058: I tensorflow/stream_executor/cuda/cuda_gpu_executor.cc:991] successful NUMA node read from SysFS had negative value (-1), but there must be at least one NUMA node, so returning NUMA node zero\n",
      "2022-08-31 04:04:17.241240: I tensorflow/stream_executor/cuda/cuda_gpu_executor.cc:991] successful NUMA node read from SysFS had negative value (-1), but there must be at least one NUMA node, so returning NUMA node zero\n",
      "2022-08-31 04:04:17.241375: I tensorflow/stream_executor/cuda/cuda_gpu_executor.cc:991] successful NUMA node read from SysFS had negative value (-1), but there must be at least one NUMA node, so returning NUMA node zero\n",
      "2022-08-31 04:04:17.241645: I tensorflow/stream_executor/cuda/cuda_gpu_executor.cc:991] successful NUMA node read from SysFS had negative value (-1), but there must be at least one NUMA node, so returning NUMA node zero\n",
      "2022-08-31 04:04:17.241789: I tensorflow/stream_executor/cuda/cuda_gpu_executor.cc:991] successful NUMA node read from SysFS had negative value (-1), but there must be at least one NUMA node, so returning NUMA node zero\n",
      "2022-08-31 04:04:17.241929: I tensorflow/stream_executor/cuda/cuda_gpu_executor.cc:991] successful NUMA node read from SysFS had negative value (-1), but there must be at least one NUMA node, so returning NUMA node zero\n",
      "2022-08-31 04:04:17.242051: I tensorflow/core/common_runtime/gpu/gpu_device.cc:1532] Created device /job:localhost/replica:0/task:0/device:GPU:0 with 24576 MB memory:  -> device: 0, name: Quadro RTX 8000, pci bus id: 0000:08:00.0, compute capability: 7.5\n"
     ]
    },
    {
     "name": "stdout",
     "output_type": "stream",
     "text": [
      "Epoch 1/5\n",
      "782/782 [==============================] - 6s 5ms/step - loss: 1.2843 - root_mean_squared_error: 1.1333 - regularization_loss: 0.0000e+00 - val_loss: 0.8349 - val_root_mean_squared_error: 0.9137 - val_regularization_loss: 0.0000e+00\n",
      "Epoch 2/5\n",
      "782/782 [==============================] - 4s 5ms/step - loss: 0.8268 - root_mean_squared_error: 0.9093 - regularization_loss: 0.0000e+00 - val_loss: 0.8105 - val_root_mean_squared_error: 0.9003 - val_regularization_loss: 0.0000e+00\n",
      "Epoch 3/5\n",
      "782/782 [==============================] - 3s 4ms/step - loss: 0.8017 - root_mean_squared_error: 0.8954 - regularization_loss: 0.0000e+00 - val_loss: 0.7988 - val_root_mean_squared_error: 0.8938 - val_regularization_loss: 0.0000e+00\n",
      "Epoch 4/5\n",
      "782/782 [==============================] - 3s 4ms/step - loss: 0.7863 - root_mean_squared_error: 0.8868 - regularization_loss: 0.0000e+00 - val_loss: 0.7915 - val_root_mean_squared_error: 0.8897 - val_regularization_loss: 0.0000e+00\n",
      "Epoch 5/5\n",
      "782/782 [==============================] - 3s 4ms/step - loss: 0.7734 - root_mean_squared_error: 0.8794 - regularization_loss: 0.0000e+00 - val_loss: 0.7855 - val_root_mean_squared_error: 0.8863 - val_regularization_loss: 0.0000e+00\n",
      "Epoch 1/3\n",
      "782/782 [==============================] - 4s 4ms/step - loss: 0.7360 - root_mean_squared_error: 0.8579 - regularization_loss: 0.0000e+00 - val_loss: 0.7744 - val_root_mean_squared_error: 0.8800 - val_regularization_loss: 0.0000e+00\n",
      "Epoch 2/3\n",
      "782/782 [==============================] - 4s 5ms/step - loss: 0.7267 - root_mean_squared_error: 0.8525 - regularization_loss: 0.0000e+00 - val_loss: 0.7722 - val_root_mean_squared_error: 0.8788 - val_regularization_loss: 0.0000e+00\n",
      "Epoch 3/3\n",
      "782/782 [==============================] - 3s 4ms/step - loss: 0.7221 - root_mean_squared_error: 0.8497 - regularization_loss: 0.0000e+00 - val_loss: 0.7727 - val_root_mean_squared_error: 0.8791 - val_regularization_loss: 0.0000e+00\n"
     ]
    }
   ],
   "source": [
    "import tensorflow\n",
    "import merlin.models.tf as mm\n",
    "\n",
    "model = mm.DLRMModel(\n",
    "    train_transformed.schema,\n",
    "    embedding_dim=64,\n",
    "    bottom_block=mm.MLPBlock([128, 64]),\n",
    "    top_block=mm.MLPBlock([128, 64, 32]),\n",
    "    prediction_tasks=mm.RegressionTask('rating')\n",
    ")\n",
    "\n",
    "opt = tensorflow.optimizers.Adam(learning_rate=1e-3)\n",
    "model.compile(optimizer=opt)\n",
    "model.fit(train_transformed, validation_data=valid_transformed, batch_size=1024, epochs=5)\n",
    "\n",
    "model.optimizer.learning_rate = 1e-4\n",
    "metrics = model.fit(train_transformed, validation_data=valid_transformed, batch_size=1024, epochs=3)"
   ]
  },
  {
   "cell_type": "markdown",
   "id": "2a6ad327",
   "metadata": {},
   "source": [
    "## Conclusion"
   ]
  },
  {
   "cell_type": "markdown",
   "id": "eeba861b",
   "metadata": {},
   "source": [
    "NVTabular exposes operators tailored for processing tabular data at scale with machine learning best practices baked into the library. It tightly integrates with the rest of the Merlin Framework to streamline model construction, training and serving."
   ]
  },
  {
   "cell_type": "markdown",
   "id": "c9180e84",
   "metadata": {},
   "source": [
    "## Next steps"
   ]
  },
  {
   "cell_type": "markdown",
   "id": "b9ba3102",
   "metadata": {},
   "source": [
    "In subsequent notebooks, we will define more advanaced workflows and custom operators. We will also take a closer look at exporting NVTabular datasets and workflows at running in different environments (CPU, GPU and multi-GPU)."
   ]
  }
 ],
 "metadata": {
  "kernelspec": {
   "display_name": "Python 3 (ipykernel)",
   "language": "python",
   "name": "python3"
  },
  "language_info": {
   "codemirror_mode": {
    "name": "ipython",
    "version": 3
   },
   "file_extension": ".py",
   "mimetype": "text/x-python",
   "name": "python",
   "nbconvert_exporter": "python",
   "pygments_lexer": "ipython3",
   "version": "3.8.10"
  },
  "merlin": {
   "containers": [
    "nvcr.io/nvidia/merlin/merlin-tensorflow:latest"
   ]
  }
 },
 "nbformat": 4,
 "nbformat_minor": 5
}
