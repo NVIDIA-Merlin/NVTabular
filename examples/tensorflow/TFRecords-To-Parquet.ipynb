{
 "cells": [
  {
   "cell_type": "code",
   "execution_count": 1,
   "id": "1d4a2a17",
   "metadata": {},
   "outputs": [],
   "source": [
    "# Copyright 2021 NVIDIA Corporation. All Rights Reserved.\n",
    "#\n",
    "# Licensed under the Apache License, Version 2.0 (the \"License\");\n",
    "# you may not use this file except in compliance with the License.\n",
    "# You may obtain a copy of the License at\n",
    "#\n",
    "#     http://www.apache.org/licenses/LICENSE-2.0\n",
    "#\n",
    "# Unless required by applicable law or agreed to in writing, software\n",
    "# distributed under the License is distributed on an \"AS IS\" BASIS,\n",
    "# WITHOUT WARRANTIES OR CONDITIONS OF ANY KIND, either express or implied.\n",
    "# See the License for the specific language governing permissions and\n",
    "# limitations under the License.\n",
    "# =============================================================================="
   ]
  },
  {
   "cell_type": "markdown",
   "id": "7da4cfc5",
   "metadata": {},
   "source": [
    "<img src=\"http://developer.download.nvidia.com/compute/machine-learning/frameworks/nvidia_logo.png\" style=\"width: 90px; float: right;\">\n",
    "\n",
    "# TensorFlow: Convert TFRecords to Parquet files\n",
    "\n",
    "## TFRecords\n",
    "\n",
    "[TFRecords](https://www.tensorflow.org/tutorials/load_data/tfrecord) are a popular file format to store data for deep learning training with TensorFlow. It is a \"simple format for storing a sequence of binary records\". In many cases the dataset is too large for the host memory and the dataset is converted into (multiple) tfrecords file to disk. TensorFlow's ecosystem enables to stream the tfrecords from disk to train the model without requiring to load the full dataset.<br><br>\n",
    "That sounds great, but there are some disadvantages when working with tabular dataset. TFRecords stores the dataset as key, values. In other domains, such as computer vision, this representation is efficient as the key is `image` and the values are a the pixels. For an RGB image with 200x200 resolution, there are 120000 (200x200x3) values. In a tabular dataset, a feature is often a single number and therefore, there is a significant overhead for using a key in each example. **In some of our experiments, we experienced that tfrecords can be ~4-5x larger than `parquet` files for the same dataset.**\n",
    "<br><br>\n",
    "[Parquet](https://en.wikipedia.org/wiki/Apache_Parquet) is another file format to store data. It is a free and open-source data storage format in the Hadoop ecosystem. Many popular systems, such as Spark or Pandas, support to read and write parquet files. \n",
    "<br><br>\n",
    "We developed [NVTabular Data Loaders](https://nvidia-merlin.github.io/NVTabular/main/training/index.html) as a customized data loader, fully operating on the GPU. It reads the data from disk into the GPU memory and prepares the next batch on the GPU. Therefore, we do not have any CPU-GPU communication. Our data loader leverages parquet files to reduce the disk pressure. **In our experiments, we experienced that the native data loader is the bottleneck in training tabular deep learning models and by changing the native data loader to NVTabular Data Loader, we saw a 8-9x speed-up.**\n",
    "\n",
    "### Convert TFRecords to Parquet files\n",
    "That is a lot of background information. In many cases, we saw that users have their dataset stored as tfrecords files. In this notebook, we provide a tfrecords to parquet examples. Users can transform their dataset to parquet and be able to experiment with NVTabular data loader."
   ]
  },
  {
   "cell_type": "markdown",
   "id": "096a7716",
   "metadata": {},
   "source": [
    "We leverage the library pandas-tfrecords. We install pandas-tfrecords without dependencies, as it would install a specific TensorFlow version."
   ]
  },
  {
   "cell_type": "code",
   "execution_count": 2,
   "id": "35e6c8d4",
   "metadata": {},
   "outputs": [
    {
     "name": "stdout",
     "output_type": "stream",
     "text": [
      "Looking in indexes: https://pypi.org/simple, https://pypi.ngc.nvidia.com\n",
      "Requirement already satisfied: pandas-tfrecords==0.1.5 in /usr/local/lib/python3.8/dist-packages (0.1.5)\n",
      "\u001b[33mWARNING: You are using pip version 21.0.1; however, version 21.2.4 is available.\n",
      "You should consider upgrading via the '/usr/bin/python -m pip install --upgrade pip' command.\u001b[0m\n",
      "Looking in indexes: https://pypi.org/simple, https://pypi.ngc.nvidia.com\n",
      "Requirement already satisfied: s3fs in /usr/local/lib/python3.8/dist-packages (2021.8.1)\n",
      "Requirement already satisfied: fsspec==2021.08.1 in /root/.local/lib/python3.8/site-packages/fsspec-2021.8.1-py3.8.egg (from s3fs) (2021.8.1)\n",
      "Requirement already satisfied: aiobotocore~=1.4.0 in /usr/local/lib/python3.8/dist-packages (from s3fs) (1.4.1)\n",
      "Requirement already satisfied: wrapt>=1.10.10 in /usr/local/lib/python3.8/dist-packages (from aiobotocore~=1.4.0->s3fs) (1.12.1)\n",
      "Requirement already satisfied: aioitertools>=0.5.1 in /usr/local/lib/python3.8/dist-packages (from aiobotocore~=1.4.0->s3fs) (0.8.0)\n",
      "Requirement already satisfied: botocore<1.20.107,>=1.20.106 in /usr/local/lib/python3.8/dist-packages (from aiobotocore~=1.4.0->s3fs) (1.20.106)\n",
      "Requirement already satisfied: aiohttp>=3.3.1 in /usr/local/lib/python3.8/dist-packages (from aiobotocore~=1.4.0->s3fs) (3.7.4.post0)\n",
      "Requirement already satisfied: yarl<2.0,>=1.0 in /usr/local/lib/python3.8/dist-packages (from aiohttp>=3.3.1->aiobotocore~=1.4.0->s3fs) (1.6.3)\n",
      "Requirement already satisfied: typing-extensions>=3.6.5 in /usr/local/lib/python3.8/dist-packages (from aiohttp>=3.3.1->aiobotocore~=1.4.0->s3fs) (3.7.4.3)\n",
      "Requirement already satisfied: attrs>=17.3.0 in /usr/local/lib/python3.8/dist-packages (from aiohttp>=3.3.1->aiobotocore~=1.4.0->s3fs) (21.2.0)\n",
      "Requirement already satisfied: chardet<5.0,>=2.0 in /usr/lib/python3/dist-packages (from aiohttp>=3.3.1->aiobotocore~=1.4.0->s3fs) (3.0.4)\n",
      "Requirement already satisfied: async-timeout<4.0,>=3.0 in /usr/local/lib/python3.8/dist-packages (from aiohttp>=3.3.1->aiobotocore~=1.4.0->s3fs) (3.0.1)\n",
      "Requirement already satisfied: multidict<7.0,>=4.5 in /usr/local/lib/python3.8/dist-packages (from aiohttp>=3.3.1->aiobotocore~=1.4.0->s3fs) (5.1.0)\n",
      "Requirement already satisfied: urllib3<1.27,>=1.25.4 in /usr/lib/python3/dist-packages (from botocore<1.20.107,>=1.20.106->aiobotocore~=1.4.0->s3fs) (1.25.8)\n",
      "Requirement already satisfied: python-dateutil<3.0.0,>=2.1 in /usr/local/lib/python3.8/dist-packages (from botocore<1.20.107,>=1.20.106->aiobotocore~=1.4.0->s3fs) (2.8.2)\n",
      "Requirement already satisfied: jmespath<1.0.0,>=0.7.1 in /usr/local/lib/python3.8/dist-packages (from botocore<1.20.107,>=1.20.106->aiobotocore~=1.4.0->s3fs) (0.10.0)\n",
      "Requirement already satisfied: six>=1.5 in /usr/local/lib/python3.8/dist-packages (from python-dateutil<3.0.0,>=2.1->botocore<1.20.107,>=1.20.106->aiobotocore~=1.4.0->s3fs) (1.15.0)\n",
      "Requirement already satisfied: idna>=2.0 in /usr/lib/python3/dist-packages (from yarl<2.0,>=1.0->aiohttp>=3.3.1->aiobotocore~=1.4.0->s3fs) (2.8)\n",
      "\u001b[33mWARNING: You are using pip version 21.0.1; however, version 21.2.4 is available.\n",
      "You should consider upgrading via the '/usr/bin/python -m pip install --upgrade pip' command.\u001b[0m\n"
     ]
    }
   ],
   "source": [
    "!pip install --no-deps pandas-tfrecords==0.1.5\n",
    "!pip install s3fs"
   ]
  },
  {
   "cell_type": "markdown",
   "id": "9a8f4dcd",
   "metadata": {},
   "source": [
    "## Create a Synthetic Dataset"
   ]
  },
  {
   "cell_type": "markdown",
   "id": "243a5cbd",
   "metadata": {},
   "source": [
    "First, we will create a synthetic dataset. Afterwards, we will convert the synthetic data to a tfrecord file. The synthetic dataset contains `continuous features`, `categorical features`, `continuous features in a list with variable length`, `categorical features in a list with variable length` and the `label`.<br><br>\n",
    "The features of a list have variable length, which are often used in session-based recommender systems. For example, the last page views in a session and sessions have different lengths."
   ]
  },
  {
   "cell_type": "code",
   "execution_count": 4,
   "id": "58949777",
   "metadata": {},
   "outputs": [],
   "source": [
    "import numpy as np\n",
    "import pandas as pd\n",
    "\n",
    "import cudf"
   ]
  },
  {
   "cell_type": "code",
   "execution_count": 5,
   "id": "deeafde3",
   "metadata": {},
   "outputs": [],
   "source": [
    "def create_synthetic_df(\n",
    "    N_CONT_FEATURES, N_CAT_FEATURES, N_CONT_LIST_FEATURES, N_CAT_LIST_FEATURES, N_ROWS\n",
    "):\n",
    "    dict_features = {}\n",
    "    for icont in range(N_CONT_FEATURES):\n",
    "        dict_features[\"cont\" + str(icont)] = np.random.uniform(-1, 1, size=N_ROWS)\n",
    "    for icat in range(N_CAT_FEATURES):\n",
    "        dict_features[\"cat\" + str(icat)] = np.random.choice(list(range(10)), size=N_ROWS)\n",
    "    for icontlist in range(N_CONT_LIST_FEATURES):\n",
    "        feature_list = []\n",
    "        for irow in range(N_ROWS):\n",
    "            n_elements = np.random.choice(list(range(20)))\n",
    "            feature_list.append(np.random.uniform(-1, 1, size=n_elements).tolist())\n",
    "        dict_features[\"cont_list\" + str(icontlist)] = feature_list\n",
    "    for icatlist in range(N_CAT_LIST_FEATURES):\n",
    "        feature_list = []\n",
    "        for irow in range(N_ROWS):\n",
    "            n_elements = np.random.choice(list(range(20)))\n",
    "            feature_list.append(np.random.choice(list(range(10)), size=n_elements).tolist())\n",
    "        dict_features[\"cat_list\" + str(icatlist)] = feature_list\n",
    "    dict_features[\"label\"] = np.random.choice(list(range(2)), size=N_ROWS)\n",
    "    df = pd.DataFrame(dict_features)\n",
    "    return df"
   ]
  },
  {
   "cell_type": "markdown",
   "id": "fda49c3f",
   "metadata": {},
   "source": [
    "We can configure the size of the dataset and numbers of features of the different type. As this is just a example, we use only 20,000 rows."
   ]
  },
  {
   "cell_type": "code",
   "execution_count": 6,
   "id": "0b141d03",
   "metadata": {},
   "outputs": [],
   "source": [
    "N_ROWS = 20000\n",
    "N_CONT_FEATURES = 5\n",
    "N_CAT_FEATURES = 7\n",
    "N_CONT_LIST_FEATURES = 2\n",
    "N_CAT_LIST_FEATURES = 3"
   ]
  },
  {
   "cell_type": "code",
   "execution_count": 7,
   "id": "6616a87b",
   "metadata": {},
   "outputs": [],
   "source": [
    "df = create_synthetic_df(\n",
    "    N_CONT_FEATURES, N_CAT_FEATURES, N_CONT_LIST_FEATURES, N_CAT_LIST_FEATURES, N_ROWS\n",
    ")"
   ]
  },
  {
   "cell_type": "markdown",
   "id": "22d66e48",
   "metadata": {},
   "source": [
    "We can take a look on the dataset."
   ]
  },
  {
   "cell_type": "code",
   "execution_count": 8,
   "id": "e023dca6",
   "metadata": {},
   "outputs": [
    {
     "data": {
      "text/html": [
       "<div>\n",
       "<style scoped>\n",
       "    .dataframe tbody tr th:only-of-type {\n",
       "        vertical-align: middle;\n",
       "    }\n",
       "\n",
       "    .dataframe tbody tr th {\n",
       "        vertical-align: top;\n",
       "    }\n",
       "\n",
       "    .dataframe thead th {\n",
       "        text-align: right;\n",
       "    }\n",
       "</style>\n",
       "<table border=\"1\" class=\"dataframe\">\n",
       "  <thead>\n",
       "    <tr style=\"text-align: right;\">\n",
       "      <th></th>\n",
       "      <th>cont0</th>\n",
       "      <th>cont1</th>\n",
       "      <th>cont2</th>\n",
       "      <th>cont3</th>\n",
       "      <th>cont4</th>\n",
       "      <th>cat0</th>\n",
       "      <th>cat1</th>\n",
       "      <th>cat2</th>\n",
       "      <th>cat3</th>\n",
       "      <th>cat4</th>\n",
       "      <th>cat5</th>\n",
       "      <th>cat6</th>\n",
       "      <th>cont_list0</th>\n",
       "      <th>cont_list1</th>\n",
       "      <th>cat_list0</th>\n",
       "      <th>cat_list1</th>\n",
       "      <th>cat_list2</th>\n",
       "      <th>label</th>\n",
       "    </tr>\n",
       "  </thead>\n",
       "  <tbody>\n",
       "    <tr>\n",
       "      <th>0</th>\n",
       "      <td>-0.346288</td>\n",
       "      <td>-0.092784</td>\n",
       "      <td>0.878876</td>\n",
       "      <td>0.990467</td>\n",
       "      <td>-0.505079</td>\n",
       "      <td>2</td>\n",
       "      <td>2</td>\n",
       "      <td>8</td>\n",
       "      <td>9</td>\n",
       "      <td>0</td>\n",
       "      <td>2</td>\n",
       "      <td>4</td>\n",
       "      <td>[-0.5329311666886798, -0.7973632802691455, -0....</td>\n",
       "      <td>[-0.7527243533757371]</td>\n",
       "      <td>[7, 5, 1, 9, 5, 6, 5, 7, 1, 6, 0, 7, 8, 1]</td>\n",
       "      <td>[2, 0, 0, 0, 6, 4, 2, 3]</td>\n",
       "      <td>[8, 3, 5, 7, 0, 5, 2, 1, 2, 7, 7]</td>\n",
       "      <td>1</td>\n",
       "    </tr>\n",
       "    <tr>\n",
       "      <th>1</th>\n",
       "      <td>-0.336003</td>\n",
       "      <td>-0.665982</td>\n",
       "      <td>0.902071</td>\n",
       "      <td>0.531961</td>\n",
       "      <td>-0.005143</td>\n",
       "      <td>1</td>\n",
       "      <td>2</td>\n",
       "      <td>6</td>\n",
       "      <td>9</td>\n",
       "      <td>3</td>\n",
       "      <td>0</td>\n",
       "      <td>7</td>\n",
       "      <td>[0.9805303513847896, -0.1364336119532299, 0.39...</td>\n",
       "      <td>[]</td>\n",
       "      <td>[4, 5, 0, 7, 6, 7]</td>\n",
       "      <td>[9, 0, 6, 9, 2, 2]</td>\n",
       "      <td>[1, 2, 0, 6, 2, 4, 9, 4, 3, 3, 7, 4, 1, 5, 7, 9]</td>\n",
       "      <td>0</td>\n",
       "    </tr>\n",
       "    <tr>\n",
       "      <th>2</th>\n",
       "      <td>-0.089536</td>\n",
       "      <td>-0.922915</td>\n",
       "      <td>-0.636890</td>\n",
       "      <td>-0.494594</td>\n",
       "      <td>-0.123065</td>\n",
       "      <td>7</td>\n",
       "      <td>9</td>\n",
       "      <td>0</td>\n",
       "      <td>0</td>\n",
       "      <td>2</td>\n",
       "      <td>4</td>\n",
       "      <td>4</td>\n",
       "      <td>[0.9677775916375682, 0.4868478686143529, 0.010...</td>\n",
       "      <td>[0.9863213170102452, 0.801522837843786, 0.8203...</td>\n",
       "      <td>[4, 5, 3, 5, 2, 5, 3, 4, 1, 8, 0, 4, 5, 3, 0, ...</td>\n",
       "      <td>[6, 2]</td>\n",
       "      <td>[8, 7, 4, 6, 5, 4, 7, 9, 0, 7, 6]</td>\n",
       "      <td>0</td>\n",
       "    </tr>\n",
       "    <tr>\n",
       "      <th>3</th>\n",
       "      <td>-0.260400</td>\n",
       "      <td>0.693127</td>\n",
       "      <td>-0.875754</td>\n",
       "      <td>0.456287</td>\n",
       "      <td>0.762904</td>\n",
       "      <td>3</td>\n",
       "      <td>5</td>\n",
       "      <td>3</td>\n",
       "      <td>3</td>\n",
       "      <td>1</td>\n",
       "      <td>7</td>\n",
       "      <td>3</td>\n",
       "      <td>[-0.2644213019104138, -0.09665251017206655, -0...</td>\n",
       "      <td>[-0.8362007638643811, 0.1541830950440195, 0.79...</td>\n",
       "      <td>[8, 0, 1, 0, 9, 5, 9, 7, 9, 6, 7]</td>\n",
       "      <td>[0, 8, 9, 5, 9, 7, 8]</td>\n",
       "      <td>[7, 0, 7, 2, 0, 0, 8, 3, 5]</td>\n",
       "      <td>0</td>\n",
       "    </tr>\n",
       "    <tr>\n",
       "      <th>4</th>\n",
       "      <td>0.980959</td>\n",
       "      <td>-0.982329</td>\n",
       "      <td>0.628736</td>\n",
       "      <td>-0.311694</td>\n",
       "      <td>-0.880940</td>\n",
       "      <td>6</td>\n",
       "      <td>6</td>\n",
       "      <td>0</td>\n",
       "      <td>8</td>\n",
       "      <td>4</td>\n",
       "      <td>2</td>\n",
       "      <td>2</td>\n",
       "      <td>[-0.34002032148205985, -0.28546136806218714, -...</td>\n",
       "      <td>[0.057850173597639776, 0.8166183641925591, -0....</td>\n",
       "      <td>[4, 8, 9, 9, 7, 9, 2]</td>\n",
       "      <td>[4, 3, 5, 9, 0, 3, 8, 5, 4, 0, 3, 1, 4, 8, 0, ...</td>\n",
       "      <td>[7, 4, 4, 2, 5, 0, 3, 9, 5, 8, 3, 9, 3, 1, 7, ...</td>\n",
       "      <td>0</td>\n",
       "    </tr>\n",
       "  </tbody>\n",
       "</table>\n",
       "</div>"
      ],
      "text/plain": [
       "      cont0     cont1     cont2     cont3     cont4  cat0  cat1  cat2  cat3  \\\n",
       "0 -0.346288 -0.092784  0.878876  0.990467 -0.505079     2     2     8     9   \n",
       "1 -0.336003 -0.665982  0.902071  0.531961 -0.005143     1     2     6     9   \n",
       "2 -0.089536 -0.922915 -0.636890 -0.494594 -0.123065     7     9     0     0   \n",
       "3 -0.260400  0.693127 -0.875754  0.456287  0.762904     3     5     3     3   \n",
       "4  0.980959 -0.982329  0.628736 -0.311694 -0.880940     6     6     0     8   \n",
       "\n",
       "   cat4  cat5  cat6                                         cont_list0  \\\n",
       "0     0     2     4  [-0.5329311666886798, -0.7973632802691455, -0....   \n",
       "1     3     0     7  [0.9805303513847896, -0.1364336119532299, 0.39...   \n",
       "2     2     4     4  [0.9677775916375682, 0.4868478686143529, 0.010...   \n",
       "3     1     7     3  [-0.2644213019104138, -0.09665251017206655, -0...   \n",
       "4     4     2     2  [-0.34002032148205985, -0.28546136806218714, -...   \n",
       "\n",
       "                                          cont_list1  \\\n",
       "0                              [-0.7527243533757371]   \n",
       "1                                                 []   \n",
       "2  [0.9863213170102452, 0.801522837843786, 0.8203...   \n",
       "3  [-0.8362007638643811, 0.1541830950440195, 0.79...   \n",
       "4  [0.057850173597639776, 0.8166183641925591, -0....   \n",
       "\n",
       "                                           cat_list0  \\\n",
       "0         [7, 5, 1, 9, 5, 6, 5, 7, 1, 6, 0, 7, 8, 1]   \n",
       "1                                 [4, 5, 0, 7, 6, 7]   \n",
       "2  [4, 5, 3, 5, 2, 5, 3, 4, 1, 8, 0, 4, 5, 3, 0, ...   \n",
       "3                  [8, 0, 1, 0, 9, 5, 9, 7, 9, 6, 7]   \n",
       "4                              [4, 8, 9, 9, 7, 9, 2]   \n",
       "\n",
       "                                           cat_list1  \\\n",
       "0                           [2, 0, 0, 0, 6, 4, 2, 3]   \n",
       "1                                 [9, 0, 6, 9, 2, 2]   \n",
       "2                                             [6, 2]   \n",
       "3                              [0, 8, 9, 5, 9, 7, 8]   \n",
       "4  [4, 3, 5, 9, 0, 3, 8, 5, 4, 0, 3, 1, 4, 8, 0, ...   \n",
       "\n",
       "                                           cat_list2  label  \n",
       "0                  [8, 3, 5, 7, 0, 5, 2, 1, 2, 7, 7]      1  \n",
       "1   [1, 2, 0, 6, 2, 4, 9, 4, 3, 3, 7, 4, 1, 5, 7, 9]      0  \n",
       "2                  [8, 7, 4, 6, 5, 4, 7, 9, 0, 7, 6]      0  \n",
       "3                        [7, 0, 7, 2, 0, 0, 8, 3, 5]      0  \n",
       "4  [7, 4, 4, 2, 5, 0, 3, 9, 5, 8, 3, 9, 3, 1, 7, ...      0  "
      ]
     },
     "execution_count": 8,
     "metadata": {},
     "output_type": "execute_result"
    }
   ],
   "source": [
    "df.head()"
   ]
  },
  {
   "cell_type": "code",
   "execution_count": 9,
   "id": "6a49b022",
   "metadata": {},
   "outputs": [],
   "source": [
    "CONTINUOUS_COLUMNS = [\"cont\" + str(i) for i in range(N_CONT_FEATURES)]\n",
    "CATEGORICAL_COLUMNS = [\"cat\" + str(i) for i in range(N_CAT_FEATURES)]\n",
    "CONTINUOUS_LIST_COLUMNS = [\"cont_list\" + str(i) for i in range(N_CONT_LIST_FEATURES)]\n",
    "CATEGORICAL_LIST_COLUMNS = [\"cat_list\" + str(i) for i in range(N_CAT_LIST_FEATURES)]\n",
    "LABEL_COLUMNS = [\"label\"]"
   ]
  },
  {
   "cell_type": "markdown",
   "id": "bb33cb9b",
   "metadata": {},
   "source": [
    "## Convert the Synthetic Dataset into TFRecords"
   ]
  },
  {
   "cell_type": "markdown",
   "id": "5a8b05b0",
   "metadata": {},
   "source": [
    "After we created the synthetic dataset, we store it to tfrecords."
   ]
  },
  {
   "cell_type": "code",
   "execution_count": 10,
   "id": "055a8dae",
   "metadata": {},
   "outputs": [],
   "source": [
    "import tensorflow as tf"
   ]
  },
  {
   "cell_type": "code",
   "execution_count": 11,
   "id": "f8f502ff",
   "metadata": {},
   "outputs": [],
   "source": [
    "import os\n",
    "import multiprocessing as mp\n",
    "from itertools import repeat\n",
    "\n",
    "\n",
    "def transform_tfrecords(\n",
    "    df,\n",
    "    PATH,\n",
    "    CONTINUOUS_COLUMNS,\n",
    "    CATEGORICAL_COLUMNS,\n",
    "    CONTINUOUS_LIST_COLUMNS,\n",
    "    CATEGORICAL_LIST_COLUMNS,\n",
    "    LABEL_COLUMNS,\n",
    "):\n",
    "    write_dir = os.path.dirname(PATH)\n",
    "    if not os.path.exists(write_dir):\n",
    "        os.makedirs(write_dir)\n",
    "    file_idx, example_idx = 0, 0\n",
    "    writer = get_writer(write_dir, file_idx)\n",
    "    column_names = [\n",
    "        CONTINUOUS_COLUMNS,\n",
    "        CATEGORICAL_COLUMNS + LABEL_COLUMNS,\n",
    "        CONTINUOUS_LIST_COLUMNS,\n",
    "        CATEGORICAL_LIST_COLUMNS,\n",
    "    ]\n",
    "    with mp.Pool(8, pool_initializer, column_names) as pool:\n",
    "        data = []\n",
    "        for col_names in column_names:\n",
    "            if len(col_names) == 0:\n",
    "                data.append(repeat(None))\n",
    "            else:\n",
    "                data.append(df[col_names].values)\n",
    "        data = zip(*data)\n",
    "        record_map = pool.imap(build_and_serialize_example, data, chunksize=200)\n",
    "        for record in record_map:\n",
    "            writer.write(record)\n",
    "            example_idx += 1\n",
    "    writer.close()\n",
    "\n",
    "\n",
    "def pool_initializer(num_cols, cat_cols, num_list_cols, cat_list_cols):\n",
    "    global numeric_columns\n",
    "    global categorical_columns\n",
    "    global numeric_list_columns\n",
    "    global categorical_list_columns\n",
    "    numeric_columns = num_cols\n",
    "    categorical_columns = cat_cols\n",
    "    numeric_list_columns = num_list_cols\n",
    "    categorical_list_columns = cat_list_cols\n",
    "\n",
    "\n",
    "def build_and_serialize_example(data):\n",
    "    numeric_values, categorical_values, numeric_list_values, categorical_list_values = data\n",
    "    feature = {}\n",
    "    if numeric_values is not None:\n",
    "        feature.update(\n",
    "            {\n",
    "                col: tf.train.Feature(float_list=tf.train.FloatList(value=[val]))\n",
    "                for col, val in zip(numeric_columns, numeric_values)\n",
    "            }\n",
    "        )\n",
    "    if categorical_values is not None:\n",
    "        feature.update(\n",
    "            {\n",
    "                col: tf.train.Feature(int64_list=tf.train.Int64List(value=[val]))\n",
    "                for col, val in zip(categorical_columns, categorical_values)\n",
    "            }\n",
    "        )\n",
    "    if numeric_list_values is not None:\n",
    "        feature.update(\n",
    "            {\n",
    "                col: tf.train.Feature(float_list=tf.train.FloatList(value=val))\n",
    "                for col, val in zip(numeric_list_columns, numeric_list_values)\n",
    "            }\n",
    "        )\n",
    "    if categorical_list_values is not None:\n",
    "        feature.update(\n",
    "            {\n",
    "                col: tf.train.Feature(int64_list=tf.train.Int64List(value=val))\n",
    "                for col, val in zip(categorical_list_columns, categorical_list_values)\n",
    "            }\n",
    "        )\n",
    "    return tf.train.Example(features=tf.train.Features(feature=feature)).SerializeToString()\n",
    "\n",
    "\n",
    "def get_writer(write_dir, file_idx):\n",
    "    filename = str(file_idx).zfill(5) + \".tfrecords\"\n",
    "    return tf.io.TFRecordWriter(os.path.join(write_dir, filename))"
   ]
  },
  {
   "cell_type": "markdown",
   "id": "f0430ce5",
   "metadata": {},
   "source": [
    "We define the output path."
   ]
  },
  {
   "cell_type": "code",
   "execution_count": 12,
   "id": "0ca623b3",
   "metadata": {},
   "outputs": [],
   "source": [
    "PATH = \"/raid/tfrecord-test/\""
   ]
  },
  {
   "cell_type": "code",
   "execution_count": 13,
   "id": "2619480a",
   "metadata": {},
   "outputs": [],
   "source": [
    "!rm -rf $PATH\n",
    "!mkdir $PATH"
   ]
  },
  {
   "cell_type": "code",
   "execution_count": 14,
   "id": "b88f1b42",
   "metadata": {},
   "outputs": [],
   "source": [
    "transform_tfrecords(\n",
    "    df,\n",
    "    PATH,\n",
    "    CONTINUOUS_COLUMNS,\n",
    "    CATEGORICAL_COLUMNS,\n",
    "    CONTINUOUS_LIST_COLUMNS,\n",
    "    CATEGORICAL_LIST_COLUMNS,\n",
    "    LABEL_COLUMNS,\n",
    ")"
   ]
  },
  {
   "cell_type": "markdown",
   "id": "25ad1044",
   "metadata": {},
   "source": [
    "We can check the file."
   ]
  },
  {
   "cell_type": "code",
   "execution_count": 15,
   "id": "31362c7e",
   "metadata": {},
   "outputs": [
    {
     "name": "stdout",
     "output_type": "stream",
     "text": [
      "00000.tfrecords\r\n"
     ]
    }
   ],
   "source": [
    "!ls $PATH"
   ]
  },
  {
   "cell_type": "markdown",
   "id": "69fc385f",
   "metadata": {},
   "source": [
    "## Convert TFRecords to parquet files"
   ]
  },
  {
   "cell_type": "markdown",
   "id": "3aafe8a0",
   "metadata": {},
   "source": [
    "Now, we have a dataset in the tfrecords format. Let's use the `convert_tfrecords_to_parquet` function to convert a tfrecord file into parquet."
   ]
  },
  {
   "cell_type": "code",
   "execution_count": 16,
   "id": "62fa679c",
   "metadata": {},
   "outputs": [],
   "source": [
    "import glob\n",
    "\n",
    "from nvtabular.framework_utils.tensorflow.tfrecords_to_parquet import convert_tfrecords_to_parquet"
   ]
  },
  {
   "cell_type": "markdown",
   "id": "1e59596b",
   "metadata": {},
   "source": [
    "Let's select all TFRecords in the folder."
   ]
  },
  {
   "cell_type": "code",
   "execution_count": 17,
   "id": "fd930951",
   "metadata": {},
   "outputs": [],
   "source": [
    "filenames = glob.glob(PATH + \"/*.tfrecords\")"
   ]
  },
  {
   "cell_type": "markdown",
   "id": "3eab6554",
   "metadata": {},
   "source": [
    "Let's call the `convert_tfrecords_to_parquet`.<br><br>\n",
    "Some details about the parameters:\n",
    "* `compression_type` is the compression type of the tfrecords. Options: `\"\"` (no compression), `\"ZLIB\"`, or `\"GZIP\"`\n",
    "* `chunks` defines how many data points per `parquet` file should be saved. It splits a tfrecords into multiple parquet files.\n",
    "* `convert_lists` defines, if feature lists should be converted into muliple feature columns. Even single dataframe series are 1 dimensional arrays when converted back from tfrecords to parquet.   "
   ]
  },
  {
   "cell_type": "code",
   "execution_count": 18,
   "id": "d249b965",
   "metadata": {},
   "outputs": [
    {
     "data": {
      "text/plain": [
       "['/raid/tfrecord-test/00000.tfrecords']"
      ]
     },
     "execution_count": 18,
     "metadata": {},
     "output_type": "execute_result"
    }
   ],
   "source": [
    "filenames"
   ]
  },
  {
   "cell_type": "code",
   "execution_count": 19,
   "id": "854f2aa3",
   "metadata": {},
   "outputs": [
    {
     "name": "stderr",
     "output_type": "stream",
     "text": [
      "2021-09-22 21:56:53.202269: I tensorflow/core/platform/cpu_feature_guard.cc:142] This TensorFlow binary is optimized with oneAPI Deep Neural Network Library (oneDNN) to use the following CPU instructions in performance-critical operations:  AVX2 FMA\n",
      "To enable them in other operations, rebuild TensorFlow with the appropriate compiler flags.\n",
      "2021-09-22 21:56:54.586055: I tensorflow/core/common_runtime/gpu/gpu_device.cc:1510] Created device /job:localhost/replica:0/task:0/device:GPU:0 with 30681 MB memory:  -> device: 0, name: Tesla V100-SXM2-32GB, pci bus id: 0000:0b:00.0, compute capability: 7.0\n",
      "2021-09-22 21:56:55.158643: I tensorflow/compiler/mlir/mlir_graph_optimization_pass.cc:185] None of the MLIR Optimization Passes are enabled (registered 2)\n",
      "20000it [00:12, 1665.20it/s]\n"
     ]
    }
   ],
   "source": [
    "convert_tfrecords_to_parquet(\n",
    "    filenames=filenames, output_dir=PATH, compression_type=\"\", chunks=1000, convert_lists=True\n",
    ")"
   ]
  },
  {
   "cell_type": "markdown",
   "id": "c6a3881c",
   "metadata": {},
   "source": [
    "## Let's take a look"
   ]
  },
  {
   "cell_type": "markdown",
   "id": "897c4ea3",
   "metadata": {},
   "source": [
    "We can see that `convert_tfrecords_to_parquet` created multiple files per `tfrecord` depending on the chunk size."
   ]
  },
  {
   "cell_type": "code",
   "execution_count": 20,
   "id": "dab31264",
   "metadata": {},
   "outputs": [
    {
     "data": {
      "text/plain": [
       "['/raid/tfrecord-test/00000.parquet']"
      ]
     },
     "execution_count": 20,
     "metadata": {},
     "output_type": "execute_result"
    }
   ],
   "source": [
    "filenames = glob.glob(PATH + \"/*.parquet\")\n",
    "filenames"
   ]
  },
  {
   "cell_type": "markdown",
   "id": "453e26eb",
   "metadata": {},
   "source": [
    "If we load the first file, we can see, that it has the same structure as our original synthetic dataset."
   ]
  },
  {
   "cell_type": "code",
   "execution_count": 23,
   "id": "0bd30a89",
   "metadata": {},
   "outputs": [
    {
     "data": {
      "text/html": [
       "<div>\n",
       "<style scoped>\n",
       "    .dataframe tbody tr th:only-of-type {\n",
       "        vertical-align: middle;\n",
       "    }\n",
       "\n",
       "    .dataframe tbody tr th {\n",
       "        vertical-align: top;\n",
       "    }\n",
       "\n",
       "    .dataframe thead th {\n",
       "        text-align: right;\n",
       "    }\n",
       "</style>\n",
       "<table border=\"1\" class=\"dataframe\">\n",
       "  <thead>\n",
       "    <tr style=\"text-align: right;\">\n",
       "      <th></th>\n",
       "      <th>cat0</th>\n",
       "      <th>cat1</th>\n",
       "      <th>cat2</th>\n",
       "      <th>cat3</th>\n",
       "      <th>cat4</th>\n",
       "      <th>cat5</th>\n",
       "      <th>cat6</th>\n",
       "      <th>cat_list0</th>\n",
       "      <th>cat_list1</th>\n",
       "      <th>cat_list2</th>\n",
       "      <th>cont0</th>\n",
       "      <th>cont1</th>\n",
       "      <th>cont2</th>\n",
       "      <th>cont3</th>\n",
       "      <th>cont4</th>\n",
       "      <th>cont_list0</th>\n",
       "      <th>cont_list1</th>\n",
       "      <th>label</th>\n",
       "    </tr>\n",
       "  </thead>\n",
       "  <tbody>\n",
       "    <tr>\n",
       "      <th>0</th>\n",
       "      <td>2</td>\n",
       "      <td>2</td>\n",
       "      <td>8</td>\n",
       "      <td>9</td>\n",
       "      <td>0</td>\n",
       "      <td>2</td>\n",
       "      <td>4</td>\n",
       "      <td>[7, 5, 1, 9, 5, 6, 5, 7, 1, 6, 0, 7, 8, 1]</td>\n",
       "      <td>[2, 0, 0, 0, 6, 4, 2, 3]</td>\n",
       "      <td>[8, 3, 5, 7, 0, 5, 2, 1, 2, 7, 7]</td>\n",
       "      <td>-0.346288</td>\n",
       "      <td>-0.092784</td>\n",
       "      <td>0.878876</td>\n",
       "      <td>0.990467</td>\n",
       "      <td>-0.505079</td>\n",
       "      <td>[-0.53293115, -0.7973633, -0.047344275, -0.132...</td>\n",
       "      <td>[-0.75272435]</td>\n",
       "      <td>1</td>\n",
       "    </tr>\n",
       "    <tr>\n",
       "      <th>1</th>\n",
       "      <td>1</td>\n",
       "      <td>2</td>\n",
       "      <td>6</td>\n",
       "      <td>9</td>\n",
       "      <td>3</td>\n",
       "      <td>0</td>\n",
       "      <td>7</td>\n",
       "      <td>[4, 5, 0, 7, 6, 7]</td>\n",
       "      <td>[9, 0, 6, 9, 2, 2]</td>\n",
       "      <td>[1, 2, 0, 6, 2, 4, 9, 4, 3, 3, 7, 4, 1, 5, 7, 9]</td>\n",
       "      <td>-0.336003</td>\n",
       "      <td>-0.665982</td>\n",
       "      <td>0.902071</td>\n",
       "      <td>0.531961</td>\n",
       "      <td>-0.005143</td>\n",
       "      <td>[0.9805303, -0.13643362, 0.39948544, 0.7434469...</td>\n",
       "      <td>[]</td>\n",
       "      <td>0</td>\n",
       "    </tr>\n",
       "    <tr>\n",
       "      <th>2</th>\n",
       "      <td>7</td>\n",
       "      <td>9</td>\n",
       "      <td>0</td>\n",
       "      <td>0</td>\n",
       "      <td>2</td>\n",
       "      <td>4</td>\n",
       "      <td>4</td>\n",
       "      <td>[4, 5, 3, 5, 2, 5, 3, 4, 1, 8, 0, 4, 5, 3, 0, ...</td>\n",
       "      <td>[6, 2]</td>\n",
       "      <td>[8, 7, 4, 6, 5, 4, 7, 9, 0, 7, 6]</td>\n",
       "      <td>-0.089536</td>\n",
       "      <td>-0.922915</td>\n",
       "      <td>-0.636890</td>\n",
       "      <td>-0.494594</td>\n",
       "      <td>-0.123065</td>\n",
       "      <td>[0.9677776, 0.48684788, 0.010608715]</td>\n",
       "      <td>[0.98632133, 0.80152285, 0.820345, 0.015393688...</td>\n",
       "      <td>0</td>\n",
       "    </tr>\n",
       "    <tr>\n",
       "      <th>3</th>\n",
       "      <td>3</td>\n",
       "      <td>5</td>\n",
       "      <td>3</td>\n",
       "      <td>3</td>\n",
       "      <td>1</td>\n",
       "      <td>7</td>\n",
       "      <td>3</td>\n",
       "      <td>[8, 0, 1, 0, 9, 5, 9, 7, 9, 6, 7]</td>\n",
       "      <td>[0, 8, 9, 5, 9, 7, 8]</td>\n",
       "      <td>[7, 0, 7, 2, 0, 0, 8, 3, 5]</td>\n",
       "      <td>-0.260400</td>\n",
       "      <td>0.693127</td>\n",
       "      <td>-0.875754</td>\n",
       "      <td>0.456287</td>\n",
       "      <td>0.762904</td>\n",
       "      <td>[-0.2644213, -0.09665251, -0.92680424, 0.30409...</td>\n",
       "      <td>[-0.8362008, 0.15418309, 0.799706, 0.4666645, ...</td>\n",
       "      <td>0</td>\n",
       "    </tr>\n",
       "    <tr>\n",
       "      <th>4</th>\n",
       "      <td>6</td>\n",
       "      <td>6</td>\n",
       "      <td>0</td>\n",
       "      <td>8</td>\n",
       "      <td>4</td>\n",
       "      <td>2</td>\n",
       "      <td>2</td>\n",
       "      <td>[4, 8, 9, 9, 7, 9, 2]</td>\n",
       "      <td>[4, 3, 5, 9, 0, 3, 8, 5, 4, 0, 3, 1, 4, 8, 0, ...</td>\n",
       "      <td>[7, 4, 4, 2, 5, 0, 3, 9, 5, 8, 3, 9, 3, 1, 7, ...</td>\n",
       "      <td>0.980959</td>\n",
       "      <td>-0.982329</td>\n",
       "      <td>0.628736</td>\n",
       "      <td>-0.311694</td>\n",
       "      <td>-0.880940</td>\n",
       "      <td>[-0.34002033, -0.28546137, -0.2595898, -0.5337...</td>\n",
       "      <td>[0.057850175, 0.8166184, -0.3719872, -0.703909...</td>\n",
       "      <td>0</td>\n",
       "    </tr>\n",
       "  </tbody>\n",
       "</table>\n",
       "</div>"
      ],
      "text/plain": [
       "   cat0  cat1  cat2  cat3  cat4  cat5  cat6  \\\n",
       "0     2     2     8     9     0     2     4   \n",
       "1     1     2     6     9     3     0     7   \n",
       "2     7     9     0     0     2     4     4   \n",
       "3     3     5     3     3     1     7     3   \n",
       "4     6     6     0     8     4     2     2   \n",
       "\n",
       "                                           cat_list0  \\\n",
       "0         [7, 5, 1, 9, 5, 6, 5, 7, 1, 6, 0, 7, 8, 1]   \n",
       "1                                 [4, 5, 0, 7, 6, 7]   \n",
       "2  [4, 5, 3, 5, 2, 5, 3, 4, 1, 8, 0, 4, 5, 3, 0, ...   \n",
       "3                  [8, 0, 1, 0, 9, 5, 9, 7, 9, 6, 7]   \n",
       "4                              [4, 8, 9, 9, 7, 9, 2]   \n",
       "\n",
       "                                           cat_list1  \\\n",
       "0                           [2, 0, 0, 0, 6, 4, 2, 3]   \n",
       "1                                 [9, 0, 6, 9, 2, 2]   \n",
       "2                                             [6, 2]   \n",
       "3                              [0, 8, 9, 5, 9, 7, 8]   \n",
       "4  [4, 3, 5, 9, 0, 3, 8, 5, 4, 0, 3, 1, 4, 8, 0, ...   \n",
       "\n",
       "                                           cat_list2     cont0     cont1  \\\n",
       "0                  [8, 3, 5, 7, 0, 5, 2, 1, 2, 7, 7] -0.346288 -0.092784   \n",
       "1   [1, 2, 0, 6, 2, 4, 9, 4, 3, 3, 7, 4, 1, 5, 7, 9] -0.336003 -0.665982   \n",
       "2                  [8, 7, 4, 6, 5, 4, 7, 9, 0, 7, 6] -0.089536 -0.922915   \n",
       "3                        [7, 0, 7, 2, 0, 0, 8, 3, 5] -0.260400  0.693127   \n",
       "4  [7, 4, 4, 2, 5, 0, 3, 9, 5, 8, 3, 9, 3, 1, 7, ...  0.980959 -0.982329   \n",
       "\n",
       "      cont2     cont3     cont4  \\\n",
       "0  0.878876  0.990467 -0.505079   \n",
       "1  0.902071  0.531961 -0.005143   \n",
       "2 -0.636890 -0.494594 -0.123065   \n",
       "3 -0.875754  0.456287  0.762904   \n",
       "4  0.628736 -0.311694 -0.880940   \n",
       "\n",
       "                                          cont_list0  \\\n",
       "0  [-0.53293115, -0.7973633, -0.047344275, -0.132...   \n",
       "1  [0.9805303, -0.13643362, 0.39948544, 0.7434469...   \n",
       "2               [0.9677776, 0.48684788, 0.010608715]   \n",
       "3  [-0.2644213, -0.09665251, -0.92680424, 0.30409...   \n",
       "4  [-0.34002033, -0.28546137, -0.2595898, -0.5337...   \n",
       "\n",
       "                                          cont_list1  label  \n",
       "0                                      [-0.75272435]      1  \n",
       "1                                                 []      0  \n",
       "2  [0.98632133, 0.80152285, 0.820345, 0.015393688...      0  \n",
       "3  [-0.8362008, 0.15418309, 0.799706, 0.4666645, ...      0  \n",
       "4  [0.057850175, 0.8166184, -0.3719872, -0.703909...      0  "
      ]
     },
     "execution_count": 23,
     "metadata": {},
     "output_type": "execute_result"
    }
   ],
   "source": [
    "df = cudf.read_parquet(filenames[0])\n",
    "df.head()"
   ]
  },
  {
   "cell_type": "code",
   "execution_count": 24,
   "id": "b2ce99e0",
   "metadata": {},
   "outputs": [
    {
     "data": {
      "text/plain": [
       "(20000, 18)"
      ]
     },
     "execution_count": 24,
     "metadata": {},
     "output_type": "execute_result"
    }
   ],
   "source": [
    "df.shape"
   ]
  }
 ],
 "metadata": {
  "kernelspec": {
   "display_name": "Python 3 (ipykernel)",
   "language": "python",
   "name": "python3"
  },
  "language_info": {
   "codemirror_mode": {
    "name": "ipython",
    "version": 3
   },
   "file_extension": ".py",
   "mimetype": "text/x-python",
   "name": "python",
   "nbconvert_exporter": "python",
   "pygments_lexer": "ipython3",
   "version": "3.8.10"
  }
 },
 "nbformat": 4,
 "nbformat_minor": 5
}
