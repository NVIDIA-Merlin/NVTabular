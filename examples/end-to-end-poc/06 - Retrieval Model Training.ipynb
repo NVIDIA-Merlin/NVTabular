{
 "cells": [
  {
   "cell_type": "code",
   "execution_count": 1,
   "id": "prime-initial",
   "metadata": {},
   "outputs": [],
   "source": [
    "# Copyright 2021 NVIDIA Corporation. All Rights Reserved.\n",
    "#\n",
    "# Licensed under the Apache License, Version 2.0 (the \"License\");\n",
    "# you may not use this file except in compliance with the License.\n",
    "# You may obtain a copy of the License at\n",
    "#\n",
    "#     http://www.apache.org/licenses/LICENSE-2.0\n",
    "#\n",
    "# Unless required by applicable law or agreed to in writing, software\n",
    "# distributed under the License is distributed on an \"AS IS\" BASIS,\n",
    "# WITHOUT WARRANTIES OR CONDITIONS OF ANY KIND, either express or implied.\n",
    "# See the License for the specific language governing permissions and\n",
    "# limitations under the License.\n",
    "# =============================================================================="
   ]
  },
  {
   "cell_type": "code",
   "execution_count": 2,
   "id": "automatic-mitchell",
   "metadata": {},
   "outputs": [],
   "source": [
    "import os\n",
    "\n",
    "import cudf\n",
    "import rmm\n",
    "\n",
    "import nvtabular as nvt"
   ]
  },
  {
   "cell_type": "code",
   "execution_count": 3,
   "id": "banner-literature",
   "metadata": {},
   "outputs": [],
   "source": [
    "from merlin_models.tensorflow.models.retrieval import YouTubeDNN"
   ]
  },
  {
   "cell_type": "code",
   "execution_count": 4,
   "id": "asian-hindu",
   "metadata": {},
   "outputs": [],
   "source": [
    "rmm.reinitialize(managed_memory=True)"
   ]
  },
  {
   "cell_type": "code",
   "execution_count": 5,
   "id": "given-tribe",
   "metadata": {},
   "outputs": [],
   "source": [
    "INPUT_DATA_DIR = os.environ.get(\n",
    "    \"INPUT_DATA_DIR\", os.path.expanduser(\"./data/\")\n",
    ")\n",
    "MODEL_BASE_DIR = os.environ.get(\n",
    "    \"MODEL_BASE_DIR\", os.path.expanduser(\"./models/\")\n",
    ")\n",
    "MODEL_LOG_DIR = os.environ.get(\n",
    "    \"MODEL_LOG_DIR\", os.path.expanduser(\"./logs/\")\n",
    ")"
   ]
  },
  {
   "cell_type": "code",
   "execution_count": 6,
   "id": "starting-dream",
   "metadata": {},
   "outputs": [
    {
     "data": {
      "text/html": [
       "<div>\n",
       "<style scoped>\n",
       "    .dataframe tbody tr th:only-of-type {\n",
       "        vertical-align: middle;\n",
       "    }\n",
       "\n",
       "    .dataframe tbody tr th {\n",
       "        vertical-align: top;\n",
       "    }\n",
       "\n",
       "    .dataframe thead th {\n",
       "        text-align: right;\n",
       "    }\n",
       "</style>\n",
       "<table border=\"1\" class=\"dataframe\">\n",
       "  <thead>\n",
       "    <tr style=\"text-align: right;\">\n",
       "      <th></th>\n",
       "      <th></th>\n",
       "      <th>search_terms</th>\n",
       "      <th>genres</th>\n",
       "      <th>timestamps</th>\n",
       "      <th>movie_ids</th>\n",
       "      <th>movie_id_count</th>\n",
       "      <th>target_item</th>\n",
       "    </tr>\n",
       "    <tr>\n",
       "      <th>user_id</th>\n",
       "      <th>day</th>\n",
       "      <th></th>\n",
       "      <th></th>\n",
       "      <th></th>\n",
       "      <th></th>\n",
       "      <th></th>\n",
       "      <th></th>\n",
       "    </tr>\n",
       "  </thead>\n",
       "  <tbody>\n",
       "    <tr>\n",
       "      <th>1</th>\n",
       "      <th>4146</th>\n",
       "      <td>[40280, 34864, 60921, 55756, 53948, 968, 2649,...</td>\n",
       "      <td>[3, 10, 9, 17, 18, 3, 9, 19, 3, 4, 5, 6, 6, 9,...</td>\n",
       "      <td>[1147868053, 1147868097, 1147868414, 114786846...</td>\n",
       "      <td>[5841, 1592, 1218, 6259, 3353, 1062, 6589, 384...</td>\n",
       "      <td>38</td>\n",
       "      <td>7237</td>\n",
       "    </tr>\n",
       "    <tr>\n",
       "      <th>2</th>\n",
       "      <th>4071</th>\n",
       "      <td>[70987, 21602, 55885, 217, 26361, 361, 38094, ...</td>\n",
       "      <td>[3, 10, 6, 16, 2, 3, 17, 18, 9, 17, 18, 2, 3, ...</td>\n",
       "      <td>[1141415528, 1141415566, 1141415576, 114141558...</td>\n",
       "      <td>[5841, 493, 1339, 1592, 2550, 150, 234, 4781, ...</td>\n",
       "      <td>112</td>\n",
       "      <td>2061</td>\n",
       "    </tr>\n",
       "    <tr>\n",
       "      <th rowspan=\"3\" valign=\"top\">3</th>\n",
       "      <th>7521</th>\n",
       "      <td>[63271, 34088, 581, 28225, 491, 34656, 41947, ...</td>\n",
       "      <td>[6, 9, 16, 19, 7, 12, 18, 3, 4, 5, 6, 10, 2, 1...</td>\n",
       "      <td>[1439472199, 1439472203, 1439472215, 143947222...</td>\n",
       "      <td>[352, 586, 1, 2481, 258, 315, 1167, 523, 12217...</td>\n",
       "      <td>247</td>\n",
       "      <td>24542</td>\n",
       "    </tr>\n",
       "    <tr>\n",
       "      <th>7688</th>\n",
       "      <td>[69734, 68604, 71594, 56924, 32424, 31525, 668...</td>\n",
       "      <td>[7, 9, 17, 18, 2, 9, 19, 6, 16, 8, 20, 6, 10, ...</td>\n",
       "      <td>[1453904021, 1453904031, 1453904046, 145390404...</td>\n",
       "      <td>[1176, 1178, 10678, 9777, 11446, 11930, 10407,...</td>\n",
       "      <td>17</td>\n",
       "      <td>4240</td>\n",
       "    </tr>\n",
       "    <tr>\n",
       "      <th>8045</th>\n",
       "      <td>[38644, 43776, 43440, 57466, 45557, 13968, 170...</td>\n",
       "      <td>[7, 15, 18, 2, 18, 6, 7, 18, 4, 17, 6, 7, 9, 7...</td>\n",
       "      <td>[1484753654, 1484753762, 1484753766, 148475380...</td>\n",
       "      <td>[1063, 29365, 3908, 726, 763, 110, 213, 29375,...</td>\n",
       "      <td>30</td>\n",
       "      <td>9335</td>\n",
       "    </tr>\n",
       "  </tbody>\n",
       "</table>\n",
       "</div>"
      ],
      "text/plain": [
       "                                                   search_terms  \\\n",
       "user_id day                                                       \n",
       "1       4146  [40280, 34864, 60921, 55756, 53948, 968, 2649,...   \n",
       "2       4071  [70987, 21602, 55885, 217, 26361, 361, 38094, ...   \n",
       "3       7521  [63271, 34088, 581, 28225, 491, 34656, 41947, ...   \n",
       "        7688  [69734, 68604, 71594, 56924, 32424, 31525, 668...   \n",
       "        8045  [38644, 43776, 43440, 57466, 45557, 13968, 170...   \n",
       "\n",
       "                                                         genres  \\\n",
       "user_id day                                                       \n",
       "1       4146  [3, 10, 9, 17, 18, 3, 9, 19, 3, 4, 5, 6, 6, 9,...   \n",
       "2       4071  [3, 10, 6, 16, 2, 3, 17, 18, 9, 17, 18, 2, 3, ...   \n",
       "3       7521  [6, 9, 16, 19, 7, 12, 18, 3, 4, 5, 6, 10, 2, 1...   \n",
       "        7688  [7, 9, 17, 18, 2, 9, 19, 6, 16, 8, 20, 6, 10, ...   \n",
       "        8045  [7, 15, 18, 2, 18, 6, 7, 18, 4, 17, 6, 7, 9, 7...   \n",
       "\n",
       "                                                     timestamps  \\\n",
       "user_id day                                                       \n",
       "1       4146  [1147868053, 1147868097, 1147868414, 114786846...   \n",
       "2       4071  [1141415528, 1141415566, 1141415576, 114141558...   \n",
       "3       7521  [1439472199, 1439472203, 1439472215, 143947222...   \n",
       "        7688  [1453904021, 1453904031, 1453904046, 145390404...   \n",
       "        8045  [1484753654, 1484753762, 1484753766, 148475380...   \n",
       "\n",
       "                                                      movie_ids  \\\n",
       "user_id day                                                       \n",
       "1       4146  [5841, 1592, 1218, 6259, 3353, 1062, 6589, 384...   \n",
       "2       4071  [5841, 493, 1339, 1592, 2550, 150, 234, 4781, ...   \n",
       "3       7521  [352, 586, 1, 2481, 258, 315, 1167, 523, 12217...   \n",
       "        7688  [1176, 1178, 10678, 9777, 11446, 11930, 10407,...   \n",
       "        8045  [1063, 29365, 3908, 726, 763, 110, 213, 29375,...   \n",
       "\n",
       "              movie_id_count  target_item  \n",
       "user_id day                                \n",
       "1       4146              38         7237  \n",
       "2       4071             112         2061  \n",
       "3       7521             247        24542  \n",
       "        7688              17         4240  \n",
       "        8045              30         9335  "
      ]
     },
     "execution_count": 6,
     "metadata": {},
     "output_type": "execute_result"
    }
   ],
   "source": [
    "examples = cudf.read_parquet(os.path.join(INPUT_DATA_DIR, \"retrieval_training.parquet\"))\n",
    "examples.head()"
   ]
  },
  {
   "cell_type": "code",
   "execution_count": 7,
   "id": "7e832620-10e4-4cf6-8f7f-bab98a08ff96",
   "metadata": {},
   "outputs": [
    {
     "data": {
      "text/plain": [
       "ListDtype(int32)"
      ]
     },
     "execution_count": 7,
     "metadata": {},
     "output_type": "execute_result"
    }
   ],
   "source": [
    "examples[\"search_terms\"].dtype"
   ]
  },
  {
   "cell_type": "code",
   "execution_count": 8,
   "id": "covered-antibody",
   "metadata": {},
   "outputs": [
    {
     "data": {
      "text/plain": [
       "5524"
      ]
     },
     "execution_count": 8,
     "metadata": {},
     "output_type": "execute_result"
    }
   ],
   "source": [
    "examples[\"movie_id_count\"].max()"
   ]
  },
  {
   "cell_type": "code",
   "execution_count": 9,
   "id": "ceramic-soundtrack",
   "metadata": {},
   "outputs": [
    {
     "data": {
      "text/html": [
       "<div>\n",
       "<style scoped>\n",
       "    .dataframe tbody tr th:only-of-type {\n",
       "        vertical-align: middle;\n",
       "    }\n",
       "\n",
       "    .dataframe tbody tr th {\n",
       "        vertical-align: top;\n",
       "    }\n",
       "\n",
       "    .dataframe thead th {\n",
       "        text-align: right;\n",
       "    }\n",
       "</style>\n",
       "<table border=\"1\" class=\"dataframe\">\n",
       "  <thead>\n",
       "    <tr style=\"text-align: right;\">\n",
       "      <th></th>\n",
       "      <th></th>\n",
       "      <th>target_item</th>\n",
       "      <th>timestamps</th>\n",
       "    </tr>\n",
       "    <tr>\n",
       "      <th>user_id</th>\n",
       "      <th>day</th>\n",
       "      <th></th>\n",
       "      <th></th>\n",
       "    </tr>\n",
       "  </thead>\n",
       "  <tbody>\n",
       "    <tr>\n",
       "      <th>1</th>\n",
       "      <th>4146</th>\n",
       "      <td>7237</td>\n",
       "      <td>[1147868053, 1147868097, 1147868414, 114786846...</td>\n",
       "    </tr>\n",
       "    <tr>\n",
       "      <th>2</th>\n",
       "      <th>4071</th>\n",
       "      <td>2061</td>\n",
       "      <td>[1141415528, 1141415566, 1141415576, 114141558...</td>\n",
       "    </tr>\n",
       "    <tr>\n",
       "      <th rowspan=\"3\" valign=\"top\">3</th>\n",
       "      <th>7521</th>\n",
       "      <td>24542</td>\n",
       "      <td>[1439472199, 1439472203, 1439472215, 143947222...</td>\n",
       "    </tr>\n",
       "    <tr>\n",
       "      <th>7688</th>\n",
       "      <td>4240</td>\n",
       "      <td>[1453904021, 1453904031, 1453904046, 145390404...</td>\n",
       "    </tr>\n",
       "    <tr>\n",
       "      <th>8045</th>\n",
       "      <td>9335</td>\n",
       "      <td>[1484753654, 1484753762, 1484753766, 148475380...</td>\n",
       "    </tr>\n",
       "    <tr>\n",
       "      <th>...</th>\n",
       "      <th>...</th>\n",
       "      <td>...</td>\n",
       "      <td>...</td>\n",
       "    </tr>\n",
       "    <tr>\n",
       "      <th>162538</th>\n",
       "      <th>7513</th>\n",
       "      <td>6546</td>\n",
       "      <td>[1438780751, 1438780754, 1438780759, 143878083...</td>\n",
       "    </tr>\n",
       "    <tr>\n",
       "      <th>162539</th>\n",
       "      <th>2378</th>\n",
       "      <td>1615</td>\n",
       "      <td>[995149720, 995149760, 995149788, 995149788, 9...</td>\n",
       "    </tr>\n",
       "    <tr>\n",
       "      <th rowspan=\"2\" valign=\"top\">162540</th>\n",
       "      <th>5315</th>\n",
       "      <td>11946</td>\n",
       "      <td>[1248854959, 1248855507, 1248855584, 124885572...</td>\n",
       "    </tr>\n",
       "    <tr>\n",
       "      <th>5317</th>\n",
       "      <td>13355</td>\n",
       "      <td>[1249028189, 1249028584, 1249028593, 124902967...</td>\n",
       "    </tr>\n",
       "    <tr>\n",
       "      <th>162541</th>\n",
       "      <th>5223</th>\n",
       "      <td>290</td>\n",
       "      <td>[1240947363, 1240947373, 1240947377, 124094738...</td>\n",
       "    </tr>\n",
       "  </tbody>\n",
       "</table>\n",
       "<p>541872 rows × 2 columns</p>\n",
       "</div>"
      ],
      "text/plain": [
       "              target_item                                         timestamps\n",
       "user_id day                                                                 \n",
       "1       4146         7237  [1147868053, 1147868097, 1147868414, 114786846...\n",
       "2       4071         2061  [1141415528, 1141415566, 1141415576, 114141558...\n",
       "3       7521        24542  [1439472199, 1439472203, 1439472215, 143947222...\n",
       "        7688         4240  [1453904021, 1453904031, 1453904046, 145390404...\n",
       "        8045         9335  [1484753654, 1484753762, 1484753766, 148475380...\n",
       "...                   ...                                                ...\n",
       "162538  7513         6546  [1438780751, 1438780754, 1438780759, 143878083...\n",
       "162539  2378         1615  [995149720, 995149760, 995149788, 995149788, 9...\n",
       "162540  5315        11946  [1248854959, 1248855507, 1248855584, 124885572...\n",
       "        5317        13355  [1249028189, 1249028584, 1249028593, 124902967...\n",
       "162541  5223          290  [1240947363, 1240947373, 1240947377, 124094738...\n",
       "\n",
       "[541872 rows x 2 columns]"
      ]
     },
     "execution_count": 9,
     "metadata": {},
     "output_type": "execute_result"
    }
   ],
   "source": [
    "examples[[\"target_item\", \"timestamps\"]]"
   ]
  },
  {
   "cell_type": "markdown",
   "id": "peripheral-testimony",
   "metadata": {},
   "source": [
    "## Hyper-parameters"
   ]
  },
  {
   "cell_type": "code",
   "execution_count": 10,
   "id": "registered-henry",
   "metadata": {},
   "outputs": [],
   "source": [
    "BATCH_SIZE = 16  # Batch Size\n",
    "CATEGORICAL_COLUMNS = []  # Single-hot\n",
    "CATEGORICAL_MH_COLUMNS = [\"search_terms\", \"movie_ids\", \"genres\"]  # Multi-hot\n",
    "NUMERIC_COLUMNS = [\"movie_id_count\"]"
   ]
  },
  {
   "cell_type": "code",
   "execution_count": 11,
   "id": "controlling-cisco",
   "metadata": {},
   "outputs": [],
   "source": [
    "movie_workflow = nvt.Workflow.load(os.path.join(INPUT_DATA_DIR, \"movie_features_workflow\"))"
   ]
  },
  {
   "cell_type": "code",
   "execution_count": 12,
   "id": "nominated-uncle",
   "metadata": {},
   "outputs": [
    {
     "data": {
      "text/plain": [
       "{'movie_id': (62424, 512), 'tags_unique': (73051, 512), 'genres': (21, 16)}"
      ]
     },
     "execution_count": 12,
     "metadata": {},
     "output_type": "execute_result"
    }
   ],
   "source": [
    "EMBEDDING_TABLE_SHAPES, MH_EMBEDDING_TABLE_SHAPES = nvt.ops.get_embedding_sizes(movie_workflow)\n",
    "EMBEDDING_TABLE_SHAPES.update(MH_EMBEDDING_TABLE_SHAPES)\n",
    "EMBEDDING_TABLE_SHAPES"
   ]
  },
  {
   "cell_type": "code",
   "execution_count": 13,
   "id": "determined-commodity",
   "metadata": {},
   "outputs": [
    {
     "data": {
      "text/plain": [
       "{'genres': (21, 16), 'movie_ids': (62424, 512), 'search_terms': (73051, 512)}"
      ]
     },
     "execution_count": 13,
     "metadata": {},
     "output_type": "execute_result"
    }
   ],
   "source": [
    "EMBEDDING_TABLE_SHAPES[\"movie_ids\"] = EMBEDDING_TABLE_SHAPES.pop('movie_id', None)\n",
    "EMBEDDING_TABLE_SHAPES[\"search_terms\"] = EMBEDDING_TABLE_SHAPES.pop('tags_unique', None)\n",
    "EMBEDDING_TABLE_SHAPES"
   ]
  },
  {
   "cell_type": "markdown",
   "id": "stable-delaware",
   "metadata": {},
   "source": [
    "## DataLoader"
   ]
  },
  {
   "cell_type": "code",
   "execution_count": 14,
   "id": "lyric-minimum",
   "metadata": {},
   "outputs": [],
   "source": [
    "import os\n",
    "import tensorflow as tf\n",
    "\n",
    "# we can control how much memory to give tensorflow with this environment variable\n",
    "# IMPORTANT: make sure you do this before you initialize TF's runtime, otherwise\n",
    "# TF will have claimed all free GPU memory\n",
    "os.environ[\"TF_MEMORY_ALLOCATION\"] = \"0.7\"  # fraction of free memory\n",
    "from nvtabular.loader.tensorflow import KerasSequenceLoader, KerasSequenceValidater"
   ]
  },
  {
   "cell_type": "code",
   "execution_count": 15,
   "id": "incorrect-luxury",
   "metadata": {},
   "outputs": [],
   "source": [
    "train_dataset_tf = KerasSequenceLoader(\n",
    "    os.path.join(INPUT_DATA_DIR, \"retrieval_training.parquet\"),  \n",
    "    batch_size=BATCH_SIZE,\n",
    "    label_names=[\"target_item\"],\n",
    "    cat_names=CATEGORICAL_COLUMNS + CATEGORICAL_MH_COLUMNS,\n",
    "    cont_names=NUMERIC_COLUMNS,\n",
    "    engine=\"parquet\",\n",
    "    shuffle=True,\n",
    "    buffer_size=0.25,\n",
    "    parts_per_chunk=1,\n",
    ")"
   ]
  },
  {
   "cell_type": "code",
   "execution_count": 16,
   "id": "668219be-d732-4e4b-931f-3c368e93fc13",
   "metadata": {},
   "outputs": [],
   "source": [
    "batch = next(iter(train_dataset_tf))"
   ]
  },
  {
   "cell_type": "code",
   "execution_count": 17,
   "id": "latter-department",
   "metadata": {},
   "outputs": [
    {
     "data": {
      "text/plain": [
       "[NumericColumn(key='movie_id_count', shape=(1,), default_value=None, dtype=tf.float32, normalizer_fn=None)]"
      ]
     },
     "execution_count": 17,
     "metadata": {},
     "output_type": "execute_result"
    }
   ],
   "source": [
    "continuous_cols = []\n",
    "\n",
    "for col in NUMERIC_COLUMNS:\n",
    "    continuous_cols.append(\n",
    "        tf.feature_column.numeric_column(col)\n",
    "    )\n",
    "    \n",
    "continuous_cols"
   ]
  },
  {
   "cell_type": "code",
   "execution_count": 18,
   "id": "8d54b9c1-df7e-4070-9cb0-d55097b2fc90",
   "metadata": {},
   "outputs": [
    {
     "data": {
      "text/plain": [
       "{'genres': (21, 16), 'movie_ids': (62424, 512), 'search_terms': (73051, 512)}"
      ]
     },
     "execution_count": 18,
     "metadata": {},
     "output_type": "execute_result"
    }
   ],
   "source": [
    "EMBEDDING_TABLE_SHAPES"
   ]
  },
  {
   "cell_type": "code",
   "execution_count": 19,
   "id": "amber-sellers",
   "metadata": {},
   "outputs": [],
   "source": [
    "embedding_dims = {}\n",
    "\n",
    "for key, value in EMBEDDING_TABLE_SHAPES.items():\n",
    "    embedding_dims[key] = 128  #value[1] # Latent dimensions"
   ]
  },
  {
   "cell_type": "code",
   "execution_count": 20,
   "id": "fifth-stuart",
   "metadata": {},
   "outputs": [
    {
     "data": {
      "text/plain": [
       "[IdentityCategoricalColumn(key='search_terms', number_buckets=73051, default_value=None),\n",
       " IdentityCategoricalColumn(key='movie_ids', number_buckets=62424, default_value=None),\n",
       " IdentityCategoricalColumn(key='genres', number_buckets=21, default_value=None)]"
      ]
     },
     "execution_count": 20,
     "metadata": {},
     "output_type": "execute_result"
    }
   ],
   "source": [
    "categorical_cols = []\n",
    "\n",
    "for col in CATEGORICAL_COLUMNS + CATEGORICAL_MH_COLUMNS:\n",
    "    categorical_cols.append(\n",
    "        tf.feature_column.categorical_column_with_identity(\n",
    "            col, EMBEDDING_TABLE_SHAPES[col][0] # Cardinalities\n",
    "        )\n",
    "    )\n",
    "    \n",
    "categorical_cols"
   ]
  },
  {
   "cell_type": "code",
   "execution_count": 21,
   "id": "0d6cfdd6-d787-4236-b8eb-7780329376e5",
   "metadata": {},
   "outputs": [
    {
     "data": {
      "text/plain": [
       "{'genres': 128, 'movie_ids': 128, 'search_terms': 128}"
      ]
     },
     "execution_count": 21,
     "metadata": {},
     "output_type": "execute_result"
    }
   ],
   "source": [
    "embedding_dims"
   ]
  },
  {
   "cell_type": "code",
   "execution_count": 22,
   "id": "organized-script",
   "metadata": {},
   "outputs": [],
   "source": [
    "model = YouTubeDNN(continuous_cols, categorical_cols, embedding_dims=embedding_dims, hidden_dims=[512,256,128])"
   ]
  },
  {
   "cell_type": "code",
   "execution_count": 23,
   "id": "specified-contemporary",
   "metadata": {},
   "outputs": [],
   "source": [
    "model.input_layer.build({})\n",
    "item_embeddings = model.input_layer.embedding_tables[\"movie_ids\"]\n",
    "\n",
    "def sampled_softmax_loss(y_true, y_pred):\n",
    "    return tf.nn.sampled_softmax_loss(\n",
    "        weights=item_embeddings,\n",
    "        biases=tf.fill((item_embeddings.shape[0],), 0.01),\n",
    "        labels=y_true,\n",
    "        inputs=y_pred,\n",
    "        num_sampled=20,\n",
    "        num_classes=item_embeddings.shape[0],\n",
    "    )\n",
    "\n",
    "model.compile(\"nadam\", sampled_softmax_loss)"
   ]
  },
  {
   "cell_type": "code",
   "execution_count": 24,
   "id": "sophisticated-yesterday",
   "metadata": {},
   "outputs": [
    {
     "name": "stdout",
     "output_type": "stream",
     "text": [
      "33867/33867 [==============================] - 408s 11ms/step - loss: 2.2096\n"
     ]
    }
   ],
   "source": [
    "# validation_callback = KerasSequenceValidater(valid_dataset_tf)\n",
    "tensorboard_callback = tf.keras.callbacks.TensorBoard(log_dir=MODEL_LOG_DIR)\n",
    "\n",
    "history = model.fit(train_dataset_tf, callbacks=[tensorboard_callback], epochs=1)"
   ]
  },
  {
   "cell_type": "code",
   "execution_count": 25,
   "id": "realistic-causing",
   "metadata": {},
   "outputs": [
    {
     "name": "stdout",
     "output_type": "stream",
     "text": [
      "INFO:tensorflow:Assets written to: ./models/movielens_retrieval_tf/1/model.savedmodel/assets\n"
     ]
    }
   ],
   "source": [
    "MODEL_NAME_TF = os.environ.get(\"MODEL_NAME_TF\", \"movielens_retrieval_tf\")\n",
    "MODEL_PATH_TEMP_TF = os.path.join(MODEL_BASE_DIR, MODEL_NAME_TF, \"1/model.savedmodel\")\n",
    "\n",
    "# model.save(MODEL_PATH_TEMP_TF)\n",
    "tf.keras.models.save_model(model, MODEL_PATH_TEMP_TF)"
   ]
  },
  {
   "cell_type": "code",
   "execution_count": 26,
   "id": "solid-essay",
   "metadata": {},
   "outputs": [],
   "source": [
    "rmm.reinitialize(managed_memory=False)"
   ]
  },
  {
   "cell_type": "code",
   "execution_count": 27,
   "id": "758d1999-cfea-447b-82ff-5cb166f9404c",
   "metadata": {},
   "outputs": [
    {
     "name": "stdout",
     "output_type": "stream",
     "text": [
      "Model: \"you_tube_dnn\"\n",
      "_________________________________________________________________\n",
      "Layer (type)                 Output Shape              Param #   \n",
      "=================================================================\n",
      "dense_features (DenseFeature multiple                  17343488  \n",
      "_________________________________________________________________\n",
      "dense (Dense)                multiple                  197632    \n",
      "_________________________________________________________________\n",
      "dense_1 (Dense)              multiple                  131328    \n",
      "_________________________________________________________________\n",
      "dense_2 (Dense)              multiple                  32896     \n",
      "=================================================================\n",
      "Total params: 17,705,344\n",
      "Trainable params: 17,705,344\n",
      "Non-trainable params: 0\n",
      "_________________________________________________________________\n"
     ]
    }
   ],
   "source": [
    "model.summary()"
   ]
  },
  {
   "cell_type": "code",
   "execution_count": 28,
   "id": "7d885b90-aa08-4b87-9c7a-d2c55183934e",
   "metadata": {},
   "outputs": [],
   "source": [
    "user_id = [[6]]\n",
    "movie_id_count = [[1]]\n",
    "movie_ids = [[882], [841], [1641], [523], [258], [315], [586], [601], [2767], [1167], [1174], [1183], [904], [1169], [892], [893], [1863], [899], [1071]]\n",
    "genres = [[9], [16], [7], [9], [9], [16], [9], [19], [2], [3], [17], [7], [9], [7], [12], [18], [6], [7], [9], [18], [9], [16], [2], [3], [17], [9], [7], [9], [3], [9], [17], [2], [3], [9], [16], [11], [15], [9], [14], [3], [5], [10], [14], [5], [9], [17]]\n",
    "search_terms = [[50389], [ 968], [10263], [8259], [20445], [58863], [18916], [66212], [63819], [9384], [45278], [20555], [39349], [18846], [39990], [53832], [2816], [62617], [42691]]"
   ]
  },
  {
   "cell_type": "code",
   "execution_count": 29,
   "id": "287ca65d-c571-42bc-8340-f27f95fe3ecf",
   "metadata": {},
   "outputs": [
    {
     "name": "stdout",
     "output_type": "stream",
     "text": [
      "user_id shape: (1, 1)\n",
      "movie_id_count shape: (1, 1)\n",
      "movie_ids shape: (1, 19)\n",
      "genres shape: (1, 46)\n",
      "search_terms shape: (1, 19)\n"
     ]
    },
    {
     "data": {
      "text/plain": [
       "array([[ 0.12095062,  0.10068082, -0.17060989, -0.20062345,  0.1025757 ,\n",
       "        -0.19021128,  0.09710072, -0.20167588,  0.10097501,  0.12444036,\n",
       "        -0.20456296, -0.16610734, -0.17644118, -0.18693054,  0.19460878,\n",
       "        -0.1721303 , -0.16572317, -0.1927955 ,  0.11263509, -0.21564102,\n",
       "         0.10150526, -0.19281037,  0.10088726,  0.11158732, -0.23853041,\n",
       "        -0.23801231,  0.11044632, -0.16581786,  0.1139873 ,  0.11684696,\n",
       "        -0.18981439, -0.21554807,  0.1051307 ,  0.10400257, -0.20564163,\n",
       "         0.09327978,  0.09857374, -0.2460519 , -0.1913882 , -0.22155826,\n",
       "        -0.2093386 , -0.18920286, -0.16074476,  0.10172781, -0.22756658,\n",
       "        -0.21138956, -0.19985506, -0.17381741, -0.18794313, -0.22774625,\n",
       "         0.09118118, -0.25080186, -0.16943517,  0.13066807,  0.12236124,\n",
       "         0.18873864, -0.15322898,  0.09767257, -0.23428485,  0.10778035,\n",
       "        -0.18490016,  0.10718083, -0.21881583,  0.12091924,  0.1028012 ,\n",
       "         0.09822867, -0.16372786, -0.16642824,  0.11692793, -0.23224857,\n",
       "        -0.21485859, -0.20974316,  0.07055944,  0.08049838,  0.11518262,\n",
       "        -0.19280617, -0.18392104, -0.21468659, -0.213201  , -0.19888662,\n",
       "        -0.18419565, -0.16771063,  0.11468191,  0.09915604, -0.18177833,\n",
       "         0.13411482, -0.23131655,  0.08941737,  0.08765086,  0.11362789,\n",
       "         0.1632063 , -0.19888347,  0.11829327,  0.09951765, -0.16983858,\n",
       "         0.10632621,  0.11656847, -0.23065689,  0.11369856,  0.10165387,\n",
       "        -0.2256128 ,  0.08591014,  0.11387317, -0.18530442,  0.18136902,\n",
       "         0.11703689,  0.0944474 , -0.17832422, -0.18982288,  0.12547185,\n",
       "        -0.20283407,  0.10646141, -0.18091287, -0.19505535,  0.10746247,\n",
       "         0.10301178, -0.23448065,  0.12254497,  0.12821427, -0.22588779,\n",
       "        -0.16734292, -0.18665469,  0.09294374, -0.2270406 , -0.20007901,\n",
       "         0.10476598,  0.25139248, -0.22702606]], dtype=float32)"
      ]
     },
     "execution_count": 29,
     "metadata": {},
     "output_type": "execute_result"
    }
   ],
   "source": [
    "x = {\n",
    "    \"user_id\": user_id,\n",
    "    \"movie_id_count\": movie_id_count,\n",
    "    \"movie_ids\": movie_ids,\n",
    "    \"genres\": genres,\n",
    "    \"search_terms\": search_terms,\n",
    "}\n",
    "\n",
    "for key, value in x.items():\n",
    "    x[key] = tf.transpose(tf.convert_to_tensor(value))\n",
    "    print(f\"{key} shape: {x[key].shape}\")\n",
    "\n",
    "user_vector = model.predict(x)\n",
    "user_vector"
   ]
  },
  {
   "cell_type": "code",
   "execution_count": 30,
   "id": "7aa909b4-8a2c-4441-908d-f28a6ea97222",
   "metadata": {},
   "outputs": [
    {
     "data": {
      "text/plain": [
       "0"
      ]
     },
     "execution_count": 30,
     "metadata": {},
     "output_type": "execute_result"
    }
   ],
   "source": [
    "# Check that regularization was effective in learning dense (rather than sparse) representations\n",
    "len(user_vector[user_vector == 0])"
   ]
  },
  {
   "cell_type": "code",
   "execution_count": null,
   "id": "9d3ad9bf-a3fa-4dce-9d8e-f47221cf8546",
   "metadata": {},
   "outputs": [],
   "source": []
  }
 ],
 "metadata": {
  "kernelspec": {
   "display_name": "Python 3",
   "language": "python",
   "name": "python3"
  },
  "language_info": {
   "codemirror_mode": {
    "name": "ipython",
    "version": 3
   },
   "file_extension": ".py",
   "mimetype": "text/x-python",
   "name": "python",
   "nbconvert_exporter": "python",
   "pygments_lexer": "ipython3",
   "version": "3.8.5"
  }
 },
 "nbformat": 4,
 "nbformat_minor": 5
}
