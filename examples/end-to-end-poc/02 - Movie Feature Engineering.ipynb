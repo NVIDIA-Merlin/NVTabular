{
 "cells": [
  {
   "cell_type": "code",
   "execution_count": 1,
   "id": "cc348178-292b-4b88-8e8a-b2eb2b562701",
   "metadata": {},
   "outputs": [],
   "source": [
    "# Copyright 2021 NVIDIA Corporation. All Rights Reserved.\n",
    "#\n",
    "# Licensed under the Apache License, Version 2.0 (the \"License\");\n",
    "# you may not use this file except in compliance with the License.\n",
    "# You may obtain a copy of the License at\n",
    "#\n",
    "#     http://www.apache.org/licenses/LICENSE-2.0\n",
    "#\n",
    "# Unless required by applicable law or agreed to in writing, software\n",
    "# distributed under the License is distributed on an \"AS IS\" BASIS,\n",
    "# WITHOUT WARRANTIES OR CONDITIONS OF ANY KIND, either express or implied.\n",
    "# See the License for the specific language governing permissions and\n",
    "# limitations under the License.\n",
    "# =============================================================================="
   ]
  },
  {
   "cell_type": "code",
   "execution_count": 2,
   "id": "76559277-b304-4d2a-ba13-c8869d955adf",
   "metadata": {},
   "outputs": [],
   "source": [
    "# External dependencies\n",
    "import os\n",
    "\n",
    "import cudf  # cuDF is an implementation of Pandas-like Dataframe on GPU\n",
    "import numpy as np\n",
    "# import rmm\n",
    "\n",
    "import nvtabular as nvt\n",
    "\n",
    "from sklearn.model_selection import train_test_split"
   ]
  },
  {
   "cell_type": "code",
   "execution_count": 3,
   "id": "270eab36-58cc-4139-90cb-d3717aa1947f",
   "metadata": {},
   "outputs": [],
   "source": [
    "INPUT_DATA_DIR = os.environ.get(\n",
    "    \"INPUT_DATA_DIR\", os.path.expanduser(\"./data/\")\n",
    ")"
   ]
  },
  {
   "cell_type": "markdown",
   "id": "f3021bb9-6e57-4d12-8824-a11eb3e91b62",
   "metadata": {},
   "source": [
    "## Movie Feature Engineering"
   ]
  },
  {
   "cell_type": "code",
   "execution_count": 4,
   "id": "c3b1e149-d00f-4898-a8c3-d506d7ee8089",
   "metadata": {},
   "outputs": [
    {
     "data": {
      "text/html": [
       "<div>\n",
       "<style scoped>\n",
       "    .dataframe tbody tr th:only-of-type {\n",
       "        vertical-align: middle;\n",
       "    }\n",
       "\n",
       "    .dataframe tbody tr th {\n",
       "        vertical-align: top;\n",
       "    }\n",
       "\n",
       "    .dataframe thead th {\n",
       "        text-align: right;\n",
       "    }\n",
       "</style>\n",
       "<table border=\"1\" class=\"dataframe\">\n",
       "  <thead>\n",
       "    <tr style=\"text-align: right;\">\n",
       "      <th></th>\n",
       "      <th>movieId</th>\n",
       "      <th>genres</th>\n",
       "    </tr>\n",
       "  </thead>\n",
       "  <tbody>\n",
       "    <tr>\n",
       "      <th>0</th>\n",
       "      <td>1</td>\n",
       "      <td>[Adventure, Animation, Children, Comedy, Fantasy]</td>\n",
       "    </tr>\n",
       "    <tr>\n",
       "      <th>1</th>\n",
       "      <td>2</td>\n",
       "      <td>[Adventure, Children, Fantasy]</td>\n",
       "    </tr>\n",
       "    <tr>\n",
       "      <th>2</th>\n",
       "      <td>3</td>\n",
       "      <td>[Comedy, Romance]</td>\n",
       "    </tr>\n",
       "    <tr>\n",
       "      <th>3</th>\n",
       "      <td>4</td>\n",
       "      <td>[Comedy, Drama, Romance]</td>\n",
       "    </tr>\n",
       "    <tr>\n",
       "      <th>4</th>\n",
       "      <td>5</td>\n",
       "      <td>[Comedy]</td>\n",
       "    </tr>\n",
       "  </tbody>\n",
       "</table>\n",
       "</div>"
      ],
      "text/plain": [
       "   movieId                                             genres\n",
       "0        1  [Adventure, Animation, Children, Comedy, Fantasy]\n",
       "1        2                     [Adventure, Children, Fantasy]\n",
       "2        3                                  [Comedy, Romance]\n",
       "3        4                           [Comedy, Drama, Romance]\n",
       "4        5                                           [Comedy]"
      ]
     },
     "execution_count": 4,
     "metadata": {},
     "output_type": "execute_result"
    }
   ],
   "source": [
    "movie_genres = cudf.read_parquet(os.path.join(INPUT_DATA_DIR, \"movie_genres.parquet\"))\n",
    "movie_genres.head()"
   ]
  },
  {
   "cell_type": "code",
   "execution_count": 5,
   "id": "b7f44f69-86a4-41de-aec7-dd25e3815bcc",
   "metadata": {},
   "outputs": [
    {
     "data": {
      "text/html": [
       "<div>\n",
       "<style scoped>\n",
       "    .dataframe tbody tr th:only-of-type {\n",
       "        vertical-align: middle;\n",
       "    }\n",
       "\n",
       "    .dataframe tbody tr th {\n",
       "        vertical-align: top;\n",
       "    }\n",
       "\n",
       "    .dataframe thead th {\n",
       "        text-align: right;\n",
       "    }\n",
       "</style>\n",
       "<table border=\"1\" class=\"dataframe\">\n",
       "  <thead>\n",
       "    <tr style=\"text-align: right;\">\n",
       "      <th></th>\n",
       "      <th>movieId</th>\n",
       "      <th>tags_unique</th>\n",
       "      <th>tags_nunique</th>\n",
       "    </tr>\n",
       "  </thead>\n",
       "  <tbody>\n",
       "    <tr>\n",
       "      <th>0</th>\n",
       "      <td>1</td>\n",
       "      <td>[2009 reissue in Stereoscopic 3-D, 3D, 55 movi...</td>\n",
       "      <td>126</td>\n",
       "    </tr>\n",
       "    <tr>\n",
       "      <th>1</th>\n",
       "      <td>2</td>\n",
       "      <td>[Adaptation of Book, CLV, Children, Chris Van ...</td>\n",
       "      <td>44</td>\n",
       "    </tr>\n",
       "    <tr>\n",
       "      <th>2</th>\n",
       "      <td>3</td>\n",
       "      <td>[Ann Margaret, Burgess Meredith, CLV, Daryl Ha...</td>\n",
       "      <td>23</td>\n",
       "    </tr>\n",
       "    <tr>\n",
       "      <th>3</th>\n",
       "      <td>4</td>\n",
       "      <td>[CLV, based on novel or book, characters, chic...</td>\n",
       "      <td>8</td>\n",
       "    </tr>\n",
       "    <tr>\n",
       "      <th>4</th>\n",
       "      <td>5</td>\n",
       "      <td>[CLV, Comedy, Diane Keaton, Fantasy, Steve Mar...</td>\n",
       "      <td>20</td>\n",
       "    </tr>\n",
       "  </tbody>\n",
       "</table>\n",
       "</div>"
      ],
      "text/plain": [
       "   movieId                                        tags_unique  tags_nunique\n",
       "0        1  [2009 reissue in Stereoscopic 3-D, 3D, 55 movi...           126\n",
       "1        2  [Adaptation of Book, CLV, Children, Chris Van ...            44\n",
       "2        3  [Ann Margaret, Burgess Meredith, CLV, Daryl Ha...            23\n",
       "3        4  [CLV, based on novel or book, characters, chic...             8\n",
       "4        5  [CLV, Comedy, Diane Keaton, Fantasy, Steve Mar...            20"
      ]
     },
     "execution_count": 5,
     "metadata": {},
     "output_type": "execute_result"
    }
   ],
   "source": [
    "movie_tags = cudf.read_parquet(os.path.join(INPUT_DATA_DIR, \"movie_tags.parquet\"))\n",
    "movie_tags.head()"
   ]
  },
  {
   "cell_type": "code",
   "execution_count": 6,
   "id": "ce6e6ea5-cc1a-4d79-82f3-4285acdd4788",
   "metadata": {},
   "outputs": [],
   "source": [
    "movie_tags[\"tags_nunique\"] = movie_tags[\"tags_nunique\"].astype(np.int64)"
   ]
  },
  {
   "cell_type": "code",
   "execution_count": 7,
   "id": "comparable-aggregate",
   "metadata": {},
   "outputs": [],
   "source": [
    "tags_ds = nvt.Dataset(movie_tags)"
   ]
  },
  {
   "cell_type": "code",
   "execution_count": 8,
   "id": "future-pavilion",
   "metadata": {},
   "outputs": [],
   "source": [
    "cat_with_genres = [\"tags_unique\", \"movieId\"] >> nvt.ops.JoinExternal(movie_genres, on=[\"movieId\"])"
   ]
  },
  {
   "cell_type": "code",
   "execution_count": 9,
   "id": "unable-printer",
   "metadata": {},
   "outputs": [],
   "source": [
    "cat_features = cat_with_genres >> nvt.ops.Categorify()"
   ]
  },
  {
   "cell_type": "code",
   "execution_count": 10,
   "id": "c1257b89-af1f-4ad5-8a08-6432b0cc6a3d",
   "metadata": {},
   "outputs": [],
   "source": [
    "# cat_features = [\"movieId\"] >> nvt.ops.Categorify(dtype=np.int64)"
   ]
  },
  {
   "cell_type": "code",
   "execution_count": 11,
   "id": "finnish-explanation",
   "metadata": {},
   "outputs": [],
   "source": [
    "cont_features = nvt.ColumnGroup([])\n",
    "other_features = nvt.ColumnGroup([\"tags_nunique\"])"
   ]
  },
  {
   "cell_type": "code",
   "execution_count": 12,
   "id": "every-waterproof",
   "metadata": {},
   "outputs": [
    {
     "data": {
      "image/svg+xml": [
       "<?xml version=\"1.0\" encoding=\"UTF-8\" standalone=\"no\"?>\n",
       "<!DOCTYPE svg PUBLIC \"-//W3C//DTD SVG 1.1//EN\"\n",
       " \"http://www.w3.org/Graphics/SVG/1.1/DTD/svg11.dtd\">\n",
       "<!-- Generated by graphviz version 2.43.0 (0)\n",
       " -->\n",
       "<!-- Title: %3 Pages: 1 -->\n",
       "<svg width=\"573pt\" height=\"332pt\"\n",
       " viewBox=\"0.00 0.00 572.87 332.00\" xmlns=\"http://www.w3.org/2000/svg\" xmlns:xlink=\"http://www.w3.org/1999/xlink\">\n",
       "<g id=\"graph0\" class=\"graph\" transform=\"scale(1 1) rotate(0) translate(4 328)\">\n",
       "<title>%3</title>\n",
       "<polygon fill=\"white\" stroke=\"transparent\" points=\"-4,4 -4,-328 568.87,-328 568.87,4 -4,4\"/>\n",
       "<!-- 0 -->\n",
       "<g id=\"node1\" class=\"node\">\n",
       "<title>0</title>\n",
       "<ellipse fill=\"none\" stroke=\"black\" cx=\"132.59\" cy=\"-162\" rx=\"132.68\" ry=\"18\"/>\n",
       "<text text-anchor=\"middle\" x=\"132.59\" y=\"-158.3\" font-family=\"Times,serif\" font-size=\"14.00\">input cols=[tags_nunique]</text>\n",
       "</g>\n",
       "<!-- 4 -->\n",
       "<g id=\"node5\" class=\"node\">\n",
       "<title>4</title>\n",
       "<ellipse fill=\"none\" stroke=\"black\" cx=\"342.59\" cy=\"-90\" rx=\"27\" ry=\"18\"/>\n",
       "<text text-anchor=\"middle\" x=\"342.59\" y=\"-86.3\" font-family=\"Times,serif\" font-size=\"14.00\">+</text>\n",
       "</g>\n",
       "<!-- 0&#45;&gt;4 -->\n",
       "<g id=\"edge5\" class=\"edge\">\n",
       "<title>0&#45;&gt;4</title>\n",
       "<path fill=\"none\" stroke=\"black\" d=\"M180.24,-145.12C219.56,-132.01 274.36,-113.74 309.15,-102.14\"/>\n",
       "<polygon fill=\"black\" stroke=\"black\" points=\"310.46,-105.4 318.84,-98.92 308.24,-98.76 310.46,-105.4\"/>\n",
       "</g>\n",
       "<!-- 1 -->\n",
       "<g id=\"node2\" class=\"node\">\n",
       "<title>1</title>\n",
       "<ellipse fill=\"none\" stroke=\"black\" cx=\"342.59\" cy=\"-306\" rx=\"169.77\" ry=\"18\"/>\n",
       "<text text-anchor=\"middle\" x=\"342.59\" y=\"-302.3\" font-family=\"Times,serif\" font-size=\"14.00\">input cols=[tags_unique, movieId]</text>\n",
       "</g>\n",
       "<!-- 3 -->\n",
       "<g id=\"node4\" class=\"node\">\n",
       "<title>3</title>\n",
       "<ellipse fill=\"none\" stroke=\"black\" cx=\"342.59\" cy=\"-234\" rx=\"68.49\" ry=\"18\"/>\n",
       "<text text-anchor=\"middle\" x=\"342.59\" y=\"-230.3\" font-family=\"Times,serif\" font-size=\"14.00\">JoinExternal</text>\n",
       "</g>\n",
       "<!-- 1&#45;&gt;3 -->\n",
       "<g id=\"edge2\" class=\"edge\">\n",
       "<title>1&#45;&gt;3</title>\n",
       "<path fill=\"none\" stroke=\"black\" d=\"M342.59,-287.7C342.59,-279.98 342.59,-270.71 342.59,-262.11\"/>\n",
       "<polygon fill=\"black\" stroke=\"black\" points=\"346.09,-262.1 342.59,-252.1 339.09,-262.1 346.09,-262.1\"/>\n",
       "</g>\n",
       "<!-- 2 -->\n",
       "<g id=\"node3\" class=\"node\">\n",
       "<title>2</title>\n",
       "<ellipse fill=\"none\" stroke=\"black\" cx=\"342.59\" cy=\"-162\" rx=\"59.59\" ry=\"18\"/>\n",
       "<text text-anchor=\"middle\" x=\"342.59\" y=\"-158.3\" font-family=\"Times,serif\" font-size=\"14.00\">Categorify</text>\n",
       "</g>\n",
       "<!-- 2&#45;&gt;4 -->\n",
       "<g id=\"edge3\" class=\"edge\">\n",
       "<title>2&#45;&gt;4</title>\n",
       "<path fill=\"none\" stroke=\"black\" d=\"M342.59,-143.7C342.59,-135.98 342.59,-126.71 342.59,-118.11\"/>\n",
       "<polygon fill=\"black\" stroke=\"black\" points=\"346.09,-118.1 342.59,-108.1 339.09,-118.1 346.09,-118.1\"/>\n",
       "</g>\n",
       "<!-- 3&#45;&gt;2 -->\n",
       "<g id=\"edge1\" class=\"edge\">\n",
       "<title>3&#45;&gt;2</title>\n",
       "<path fill=\"none\" stroke=\"black\" d=\"M342.59,-215.7C342.59,-207.98 342.59,-198.71 342.59,-190.11\"/>\n",
       "<polygon fill=\"black\" stroke=\"black\" points=\"346.09,-190.1 342.59,-180.1 339.09,-190.1 346.09,-190.1\"/>\n",
       "</g>\n",
       "<!-- 6 -->\n",
       "<g id=\"node7\" class=\"node\">\n",
       "<title>6</title>\n",
       "<ellipse fill=\"none\" stroke=\"black\" cx=\"342.59\" cy=\"-18\" rx=\"222.06\" ry=\"18\"/>\n",
       "<text text-anchor=\"middle\" x=\"342.59\" y=\"-14.3\" font-family=\"Times,serif\" font-size=\"14.00\">output cols=[movieId, genres, tags_unique...]</text>\n",
       "</g>\n",
       "<!-- 4&#45;&gt;6 -->\n",
       "<g id=\"edge6\" class=\"edge\">\n",
       "<title>4&#45;&gt;6</title>\n",
       "<path fill=\"none\" stroke=\"black\" d=\"M342.59,-71.7C342.59,-63.98 342.59,-54.71 342.59,-46.11\"/>\n",
       "<polygon fill=\"black\" stroke=\"black\" points=\"346.09,-46.1 342.59,-36.1 339.09,-46.1 346.09,-46.1\"/>\n",
       "</g>\n",
       "<!-- 5 -->\n",
       "<g id=\"node6\" class=\"node\">\n",
       "<title>5</title>\n",
       "<ellipse fill=\"none\" stroke=\"black\" cx=\"491.59\" cy=\"-162\" rx=\"70.69\" ry=\"18\"/>\n",
       "<text text-anchor=\"middle\" x=\"491.59\" y=\"-158.3\" font-family=\"Times,serif\" font-size=\"14.00\">input cols=[]</text>\n",
       "</g>\n",
       "<!-- 5&#45;&gt;4 -->\n",
       "<g id=\"edge4\" class=\"edge\">\n",
       "<title>5&#45;&gt;4</title>\n",
       "<path fill=\"none\" stroke=\"black\" d=\"M459.26,-145.81C433.76,-133.83 398.43,-117.23 373.34,-105.45\"/>\n",
       "<polygon fill=\"black\" stroke=\"black\" points=\"374.81,-102.27 364.27,-101.19 371.84,-108.61 374.81,-102.27\"/>\n",
       "</g>\n",
       "</g>\n",
       "</svg>\n"
      ],
      "text/plain": [
       "<graphviz.dot.Digraph at 0x7f03c55a5520>"
      ]
     },
     "execution_count": 12,
     "metadata": {},
     "output_type": "execute_result"
    }
   ],
   "source": [
    "output = cat_features + cont_features + other_features\n",
    "(output).graph"
   ]
  },
  {
   "cell_type": "code",
   "execution_count": 13,
   "id": "cellular-internet",
   "metadata": {},
   "outputs": [],
   "source": [
    "workflow = nvt.Workflow(output)"
   ]
  },
  {
   "cell_type": "code",
   "execution_count": 14,
   "id": "assigned-treasury",
   "metadata": {},
   "outputs": [
    {
     "name": "stdout",
     "output_type": "stream",
     "text": [
      "CPU times: user 390 ms, sys: 25.4 ms, total: 415 ms\n",
      "Wall time: 426 ms\n"
     ]
    }
   ],
   "source": [
    "%%time\n",
    "workflow.fit(tags_ds)"
   ]
  },
  {
   "cell_type": "code",
   "execution_count": 15,
   "id": "promotional-professor",
   "metadata": {},
   "outputs": [
    {
     "name": "stdout",
     "output_type": "stream",
     "text": [
      "CPU times: user 0 ns, sys: 1e+03 ns, total: 1e+03 ns\n",
      "Wall time: 3.58 µs\n"
     ]
    }
   ],
   "source": [
    "%time\n",
    "movie_features = workflow.transform(tags_ds)"
   ]
  },
  {
   "cell_type": "code",
   "execution_count": 16,
   "id": "1141f820-8515-4983-a3e9-a0395ad28f80",
   "metadata": {},
   "outputs": [
    {
     "data": {
      "text/html": [
       "<div>\n",
       "<style scoped>\n",
       "    .dataframe tbody tr th:only-of-type {\n",
       "        vertical-align: middle;\n",
       "    }\n",
       "\n",
       "    .dataframe tbody tr th {\n",
       "        vertical-align: top;\n",
       "    }\n",
       "\n",
       "    .dataframe thead th {\n",
       "        text-align: right;\n",
       "    }\n",
       "</style>\n",
       "<table border=\"1\" class=\"dataframe\">\n",
       "  <thead>\n",
       "    <tr style=\"text-align: right;\">\n",
       "      <th></th>\n",
       "      <th>movieId</th>\n",
       "      <th>genres</th>\n",
       "      <th>tags_unique</th>\n",
       "      <th>tags_nunique</th>\n",
       "    </tr>\n",
       "  </thead>\n",
       "  <tbody>\n",
       "    <tr>\n",
       "      <th>0</th>\n",
       "      <td>1</td>\n",
       "      <td>[3, 4, 5, 6, 10]</td>\n",
       "      <td>[477, 581, 640, 1857, 2175, 2817, 3538, 4395, ...</td>\n",
       "      <td>126</td>\n",
       "    </tr>\n",
       "    <tr>\n",
       "      <th>1</th>\n",
       "      <td>2</td>\n",
       "      <td>[3, 5, 10]</td>\n",
       "      <td>[1206, 4448, 5069, 5213, 7883, 8912, 9116, 925...</td>\n",
       "      <td>44</td>\n",
       "    </tr>\n",
       "    <tr>\n",
       "      <th>2</th>\n",
       "      <td>3</td>\n",
       "      <td>[6, 16]</td>\n",
       "      <td>[2196, 4356, 4448, 6484, 11460, 12274, 17647, ...</td>\n",
       "      <td>23</td>\n",
       "    </tr>\n",
       "    <tr>\n",
       "      <th>3</th>\n",
       "      <td>4</td>\n",
       "      <td>[6, 9, 16]</td>\n",
       "      <td>[4448, 31525, 34749, 34981, 39134, 48169, 6086...</td>\n",
       "      <td>8</td>\n",
       "    </tr>\n",
       "    <tr>\n",
       "      <th>4</th>\n",
       "      <td>5</td>\n",
       "      <td>[6]</td>\n",
       "      <td>[4448, 5693, 6977, 8912, 23756, 25354, 28604, ...</td>\n",
       "      <td>20</td>\n",
       "    </tr>\n",
       "  </tbody>\n",
       "</table>\n",
       "</div>"
      ],
      "text/plain": [
       "   movieId            genres  \\\n",
       "0        1  [3, 4, 5, 6, 10]   \n",
       "1        2        [3, 5, 10]   \n",
       "2        3           [6, 16]   \n",
       "3        4        [6, 9, 16]   \n",
       "4        5               [6]   \n",
       "\n",
       "                                         tags_unique  tags_nunique  \n",
       "0  [477, 581, 640, 1857, 2175, 2817, 3538, 4395, ...           126  \n",
       "1  [1206, 4448, 5069, 5213, 7883, 8912, 9116, 925...            44  \n",
       "2  [2196, 4356, 4448, 6484, 11460, 12274, 17647, ...            23  \n",
       "3  [4448, 31525, 34749, 34981, 39134, 48169, 6086...             8  \n",
       "4  [4448, 5693, 6977, 8912, 23756, 25354, 28604, ...            20  "
      ]
     },
     "execution_count": 16,
     "metadata": {},
     "output_type": "execute_result"
    }
   ],
   "source": [
    "movie_features.head()"
   ]
  },
  {
   "cell_type": "code",
   "execution_count": 17,
   "id": "a3982db9-b0df-4ded-9998-a4d499fa6bb1",
   "metadata": {},
   "outputs": [],
   "source": [
    "movie_features_df = movie_features.to_ddf().compute()"
   ]
  },
  {
   "cell_type": "code",
   "execution_count": 18,
   "id": "2c4936ad-45a0-4fa3-835d-a232645135d4",
   "metadata": {},
   "outputs": [
    {
     "data": {
      "text/plain": [
       "cudf.core.dataframe.DataFrame"
      ]
     },
     "execution_count": 18,
     "metadata": {},
     "output_type": "execute_result"
    }
   ],
   "source": [
    "type(movie_features_df)"
   ]
  },
  {
   "cell_type": "code",
   "execution_count": 19,
   "id": "8b4b552f-0275-4b52-a273-1154fdcc3a64",
   "metadata": {},
   "outputs": [
    {
     "data": {
      "text/plain": [
       "int"
      ]
     },
     "execution_count": 19,
     "metadata": {},
     "output_type": "execute_result"
    }
   ],
   "source": [
    "type(movie_features_df[\"genres\"].iloc[0][0])"
   ]
  },
  {
   "cell_type": "code",
   "execution_count": 45,
   "id": "daa8cac8-cfe3-4769-80ea-f36f4e7fcc0b",
   "metadata": {},
   "outputs": [],
   "source": [
    "import datetime\n",
    "\n",
    "timestamp = datetime.datetime.now()\n",
    "movie_features_df[\"datetime\"] = timestamp\n",
    "movie_features_df[\"created\"] = timestamp"
   ]
  },
  {
   "cell_type": "code",
   "execution_count": 46,
   "id": "e7d1b192-0b4c-47a3-96a7-496bcbee2c17",
   "metadata": {},
   "outputs": [
    {
     "data": {
      "text/html": [
       "<div>\n",
       "<style scoped>\n",
       "    .dataframe tbody tr th:only-of-type {\n",
       "        vertical-align: middle;\n",
       "    }\n",
       "\n",
       "    .dataframe tbody tr th {\n",
       "        vertical-align: top;\n",
       "    }\n",
       "\n",
       "    .dataframe thead th {\n",
       "        text-align: right;\n",
       "    }\n",
       "</style>\n",
       "<table border=\"1\" class=\"dataframe\">\n",
       "  <thead>\n",
       "    <tr style=\"text-align: right;\">\n",
       "      <th></th>\n",
       "      <th>movieId</th>\n",
       "      <th>tags_nunique</th>\n",
       "      <th>datetime</th>\n",
       "      <th>created</th>\n",
       "    </tr>\n",
       "  </thead>\n",
       "  <tbody>\n",
       "    <tr>\n",
       "      <th>0</th>\n",
       "      <td>1</td>\n",
       "      <td>126</td>\n",
       "      <td>2021-06-14 09:24:35.269240</td>\n",
       "      <td>2021-06-14 09:24:35.269240</td>\n",
       "    </tr>\n",
       "    <tr>\n",
       "      <th>1</th>\n",
       "      <td>2</td>\n",
       "      <td>44</td>\n",
       "      <td>2021-06-14 09:24:35.269240</td>\n",
       "      <td>2021-06-14 09:24:35.269240</td>\n",
       "    </tr>\n",
       "    <tr>\n",
       "      <th>2</th>\n",
       "      <td>3</td>\n",
       "      <td>23</td>\n",
       "      <td>2021-06-14 09:24:35.269240</td>\n",
       "      <td>2021-06-14 09:24:35.269240</td>\n",
       "    </tr>\n",
       "    <tr>\n",
       "      <th>3</th>\n",
       "      <td>4</td>\n",
       "      <td>8</td>\n",
       "      <td>2021-06-14 09:24:35.269240</td>\n",
       "      <td>2021-06-14 09:24:35.269240</td>\n",
       "    </tr>\n",
       "    <tr>\n",
       "      <th>4</th>\n",
       "      <td>5</td>\n",
       "      <td>20</td>\n",
       "      <td>2021-06-14 09:24:35.269240</td>\n",
       "      <td>2021-06-14 09:24:35.269240</td>\n",
       "    </tr>\n",
       "  </tbody>\n",
       "</table>\n",
       "</div>"
      ],
      "text/plain": [
       "   movieId  tags_nunique                   datetime                    created\n",
       "0        1           126 2021-06-14 09:24:35.269240 2021-06-14 09:24:35.269240\n",
       "1        2            44 2021-06-14 09:24:35.269240 2021-06-14 09:24:35.269240\n",
       "2        3            23 2021-06-14 09:24:35.269240 2021-06-14 09:24:35.269240\n",
       "3        4             8 2021-06-14 09:24:35.269240 2021-06-14 09:24:35.269240\n",
       "4        5            20 2021-06-14 09:24:35.269240 2021-06-14 09:24:35.269240"
      ]
     },
     "execution_count": 46,
     "metadata": {},
     "output_type": "execute_result"
    }
   ],
   "source": [
    "movie_features_df.head()"
   ]
  },
  {
   "cell_type": "code",
   "execution_count": 47,
   "id": "b01476f6-72d3-4fbb-9cd7-72cd2e051088",
   "metadata": {},
   "outputs": [
    {
     "data": {
      "text/plain": [
       "dtype('int64')"
      ]
     },
     "execution_count": 47,
     "metadata": {},
     "output_type": "execute_result"
    }
   ],
   "source": [
    "movie_features_df[\"movieId\"].dtype"
   ]
  },
  {
   "cell_type": "code",
   "execution_count": 48,
   "id": "magnetic-gospel",
   "metadata": {},
   "outputs": [],
   "source": [
    "movie_features_df.to_parquet(os.path.join(INPUT_DATA_DIR, \"movie_features_slim.parquet\"))"
   ]
  },
  {
   "cell_type": "code",
   "execution_count": 32,
   "id": "d534e4b9-f4b5-4cdc-961f-9e65758d13af",
   "metadata": {},
   "outputs": [],
   "source": [
    "# def first(x):\n",
    "#     return x[0]\n",
    "\n",
    "# movie_features_df['genres'].applymap(first)\n",
    "# movie_features_df['tags_unique'].applymap(first)"
   ]
  },
  {
   "cell_type": "code",
   "execution_count": 43,
   "id": "b782a231-d6b4-453f-b813-d4c22f4d44b0",
   "metadata": {},
   "outputs": [],
   "source": [
    "movie_features_df = movie_features_df.drop(labels=[\"genres\", \"tags_unique\"], axis=1)"
   ]
  },
  {
   "cell_type": "code",
   "execution_count": 44,
   "id": "18aebe0b-58a1-4bf9-b301-e92348e9e825",
   "metadata": {},
   "outputs": [
    {
     "data": {
      "text/html": [
       "<div>\n",
       "<style scoped>\n",
       "    .dataframe tbody tr th:only-of-type {\n",
       "        vertical-align: middle;\n",
       "    }\n",
       "\n",
       "    .dataframe tbody tr th {\n",
       "        vertical-align: top;\n",
       "    }\n",
       "\n",
       "    .dataframe thead th {\n",
       "        text-align: right;\n",
       "    }\n",
       "</style>\n",
       "<table border=\"1\" class=\"dataframe\">\n",
       "  <thead>\n",
       "    <tr style=\"text-align: right;\">\n",
       "      <th></th>\n",
       "      <th>movieId</th>\n",
       "      <th>genres</th>\n",
       "      <th>tags_unique</th>\n",
       "      <th>tags_nunique</th>\n",
       "    </tr>\n",
       "  </thead>\n",
       "  <tbody>\n",
       "    <tr>\n",
       "      <th>0</th>\n",
       "      <td>1</td>\n",
       "      <td>[3, 4, 5, 6, 10]</td>\n",
       "      <td>[477, 581, 640, 1857, 2175, 2817, 3538, 4395, ...</td>\n",
       "      <td>126</td>\n",
       "    </tr>\n",
       "    <tr>\n",
       "      <th>1</th>\n",
       "      <td>2</td>\n",
       "      <td>[3, 5, 10]</td>\n",
       "      <td>[1206, 4448, 5069, 5213, 7883, 8912, 9116, 925...</td>\n",
       "      <td>44</td>\n",
       "    </tr>\n",
       "    <tr>\n",
       "      <th>2</th>\n",
       "      <td>3</td>\n",
       "      <td>[6, 16]</td>\n",
       "      <td>[2196, 4356, 4448, 6484, 11460, 12274, 17647, ...</td>\n",
       "      <td>23</td>\n",
       "    </tr>\n",
       "    <tr>\n",
       "      <th>3</th>\n",
       "      <td>4</td>\n",
       "      <td>[6, 9, 16]</td>\n",
       "      <td>[4448, 31525, 34749, 34981, 39134, 48169, 6086...</td>\n",
       "      <td>8</td>\n",
       "    </tr>\n",
       "    <tr>\n",
       "      <th>4</th>\n",
       "      <td>5</td>\n",
       "      <td>[6]</td>\n",
       "      <td>[4448, 5693, 6977, 8912, 23756, 25354, 28604, ...</td>\n",
       "      <td>20</td>\n",
       "    </tr>\n",
       "  </tbody>\n",
       "</table>\n",
       "</div>"
      ],
      "text/plain": [
       "   movieId            genres  \\\n",
       "0        1  [3, 4, 5, 6, 10]   \n",
       "1        2        [3, 5, 10]   \n",
       "2        3           [6, 16]   \n",
       "3        4        [6, 9, 16]   \n",
       "4        5               [6]   \n",
       "\n",
       "                                         tags_unique  tags_nunique  \n",
       "0  [477, 581, 640, 1857, 2175, 2817, 3538, 4395, ...           126  \n",
       "1  [1206, 4448, 5069, 5213, 7883, 8912, 9116, 925...            44  \n",
       "2  [2196, 4356, 4448, 6484, 11460, 12274, 17647, ...            23  \n",
       "3  [4448, 31525, 34749, 34981, 39134, 48169, 6086...             8  \n",
       "4  [4448, 5693, 6977, 8912, 23756, 25354, 28604, ...            20  "
      ]
     },
     "execution_count": 44,
     "metadata": {},
     "output_type": "execute_result"
    }
   ],
   "source": [
    "movie_features.head()"
   ]
  },
  {
   "cell_type": "code",
   "execution_count": 24,
   "id": "a0a89fe7-0712-4e05-b6b3-c74dc64b2d6b",
   "metadata": {},
   "outputs": [],
   "source": [
    "workflow.save(os.path.join(INPUT_DATA_DIR, \"movie_features_workflow\"))"
   ]
  },
  {
   "cell_type": "code",
   "execution_count": null,
   "id": "da3d426f-67fc-4df9-a604-1d61658a6b56",
   "metadata": {},
   "outputs": [],
   "source": []
  }
 ],
 "metadata": {
  "kernelspec": {
   "display_name": "nvt11.2",
   "language": "python",
   "name": "nvt11.2"
  },
  "language_info": {
   "codemirror_mode": {
    "name": "ipython",
    "version": 3
   },
   "file_extension": ".py",
   "mimetype": "text/x-python",
   "name": "python",
   "nbconvert_exporter": "python",
   "pygments_lexer": "ipython3",
   "version": "3.8.10"
  }
 },
 "nbformat": 4,
 "nbformat_minor": 5
}
