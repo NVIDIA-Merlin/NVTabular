{
 "cells": [
  {
   "cell_type": "code",
   "execution_count": 1,
   "id": "cc348178-292b-4b88-8e8a-b2eb2b562701",
   "metadata": {},
   "outputs": [],
   "source": [
    "# Copyright 2021 NVIDIA Corporation. All Rights Reserved.\n",
    "#\n",
    "# Licensed under the Apache License, Version 2.0 (the \"License\");\n",
    "# you may not use this file except in compliance with the License.\n",
    "# You may obtain a copy of the License at\n",
    "#\n",
    "#     http://www.apache.org/licenses/LICENSE-2.0\n",
    "#\n",
    "# Unless required by applicable law or agreed to in writing, software\n",
    "# distributed under the License is distributed on an \"AS IS\" BASIS,\n",
    "# WITHOUT WARRANTIES OR CONDITIONS OF ANY KIND, either express or implied.\n",
    "# See the License for the specific language governing permissions and\n",
    "# limitations under the License.\n",
    "# =============================================================================="
   ]
  },
  {
   "cell_type": "code",
   "execution_count": 2,
   "id": "76559277-b304-4d2a-ba13-c8869d955adf",
   "metadata": {},
   "outputs": [],
   "source": [
    "# External dependencies\n",
    "import os\n",
    "\n",
    "import cudf  # cuDF is an implementation of Pandas-like Dataframe on GPU\n",
    "# import rmm\n",
    "\n",
    "import nvtabular as nvt\n",
    "\n",
    "from sklearn.model_selection import train_test_split"
   ]
  },
  {
   "cell_type": "code",
   "execution_count": 3,
   "id": "270eab36-58cc-4139-90cb-d3717aa1947f",
   "metadata": {},
   "outputs": [],
   "source": [
    "INPUT_DATA_DIR = os.environ.get(\n",
    "    \"INPUT_DATA_DIR\", os.path.expanduser(\"~/nvt-examples/end-to-end-poc/data/\")\n",
    ")"
   ]
  },
  {
   "cell_type": "markdown",
   "id": "f3021bb9-6e57-4d12-8824-a11eb3e91b62",
   "metadata": {},
   "source": [
    "## Movie Feature Engineering"
   ]
  },
  {
   "cell_type": "code",
   "execution_count": 4,
   "id": "sought-onion",
   "metadata": {},
   "outputs": [],
   "source": [
    "# TODO: Figure out where movie_genres.parquet and movie_tags.parquet come from"
   ]
  },
  {
   "cell_type": "code",
   "execution_count": 5,
   "id": "c3b1e149-d00f-4898-a8c3-d506d7ee8089",
   "metadata": {},
   "outputs": [
    {
     "data": {
      "text/html": [
       "<div>\n",
       "<style scoped>\n",
       "    .dataframe tbody tr th:only-of-type {\n",
       "        vertical-align: middle;\n",
       "    }\n",
       "\n",
       "    .dataframe tbody tr th {\n",
       "        vertical-align: top;\n",
       "    }\n",
       "\n",
       "    .dataframe thead th {\n",
       "        text-align: right;\n",
       "    }\n",
       "</style>\n",
       "<table border=\"1\" class=\"dataframe\">\n",
       "  <thead>\n",
       "    <tr style=\"text-align: right;\">\n",
       "      <th></th>\n",
       "      <th>movieId</th>\n",
       "      <th>genres</th>\n",
       "    </tr>\n",
       "  </thead>\n",
       "  <tbody>\n",
       "    <tr>\n",
       "      <th>0</th>\n",
       "      <td>1</td>\n",
       "      <td>[Adventure, Animation, Children, Comedy, Fantasy]</td>\n",
       "    </tr>\n",
       "    <tr>\n",
       "      <th>1</th>\n",
       "      <td>2</td>\n",
       "      <td>[Adventure, Children, Fantasy]</td>\n",
       "    </tr>\n",
       "    <tr>\n",
       "      <th>2</th>\n",
       "      <td>3</td>\n",
       "      <td>[Comedy, Romance]</td>\n",
       "    </tr>\n",
       "    <tr>\n",
       "      <th>3</th>\n",
       "      <td>4</td>\n",
       "      <td>[Comedy, Drama, Romance]</td>\n",
       "    </tr>\n",
       "    <tr>\n",
       "      <th>4</th>\n",
       "      <td>5</td>\n",
       "      <td>[Comedy]</td>\n",
       "    </tr>\n",
       "  </tbody>\n",
       "</table>\n",
       "</div>"
      ],
      "text/plain": [
       "   movieId                                             genres\n",
       "0        1  [Adventure, Animation, Children, Comedy, Fantasy]\n",
       "1        2                     [Adventure, Children, Fantasy]\n",
       "2        3                                  [Comedy, Romance]\n",
       "3        4                           [Comedy, Drama, Romance]\n",
       "4        5                                           [Comedy]"
      ]
     },
     "execution_count": 5,
     "metadata": {},
     "output_type": "execute_result"
    }
   ],
   "source": [
    "movie_genres = cudf.read_parquet(os.path.join(INPUT_DATA_DIR, \"movie_genres.parquet\"))\n",
    "movie_genres.head()"
   ]
  },
  {
   "cell_type": "code",
   "execution_count": 6,
   "id": "b7f44f69-86a4-41de-aec7-dd25e3815bcc",
   "metadata": {},
   "outputs": [
    {
     "data": {
      "text/html": [
       "<div>\n",
       "<style scoped>\n",
       "    .dataframe tbody tr th:only-of-type {\n",
       "        vertical-align: middle;\n",
       "    }\n",
       "\n",
       "    .dataframe tbody tr th {\n",
       "        vertical-align: top;\n",
       "    }\n",
       "\n",
       "    .dataframe thead th {\n",
       "        text-align: right;\n",
       "    }\n",
       "</style>\n",
       "<table border=\"1\" class=\"dataframe\">\n",
       "  <thead>\n",
       "    <tr style=\"text-align: right;\">\n",
       "      <th></th>\n",
       "      <th>movieId</th>\n",
       "      <th>tags_unique</th>\n",
       "      <th>tags_nunique</th>\n",
       "    </tr>\n",
       "  </thead>\n",
       "  <tbody>\n",
       "    <tr>\n",
       "      <th>0</th>\n",
       "      <td>1</td>\n",
       "      <td>[2009 reissue in Stereoscopic 3-D, 3D, 55 movi...</td>\n",
       "      <td>126</td>\n",
       "    </tr>\n",
       "    <tr>\n",
       "      <th>1</th>\n",
       "      <td>2</td>\n",
       "      <td>[Adaptation of Book, CLV, Children, Chris Van ...</td>\n",
       "      <td>44</td>\n",
       "    </tr>\n",
       "    <tr>\n",
       "      <th>2</th>\n",
       "      <td>3</td>\n",
       "      <td>[Ann Margaret, Burgess Meredith, CLV, Daryl Ha...</td>\n",
       "      <td>23</td>\n",
       "    </tr>\n",
       "    <tr>\n",
       "      <th>3</th>\n",
       "      <td>4</td>\n",
       "      <td>[CLV, based on novel or book, characters, chic...</td>\n",
       "      <td>8</td>\n",
       "    </tr>\n",
       "    <tr>\n",
       "      <th>4</th>\n",
       "      <td>5</td>\n",
       "      <td>[CLV, Comedy, Diane Keaton, Fantasy, Steve Mar...</td>\n",
       "      <td>20</td>\n",
       "    </tr>\n",
       "  </tbody>\n",
       "</table>\n",
       "</div>"
      ],
      "text/plain": [
       "   movieId                                        tags_unique  tags_nunique\n",
       "0        1  [2009 reissue in Stereoscopic 3-D, 3D, 55 movi...           126\n",
       "1        2  [Adaptation of Book, CLV, Children, Chris Van ...            44\n",
       "2        3  [Ann Margaret, Burgess Meredith, CLV, Daryl Ha...            23\n",
       "3        4  [CLV, based on novel or book, characters, chic...             8\n",
       "4        5  [CLV, Comedy, Diane Keaton, Fantasy, Steve Mar...            20"
      ]
     },
     "execution_count": 6,
     "metadata": {},
     "output_type": "execute_result"
    }
   ],
   "source": [
    "movie_tags = cudf.read_parquet(os.path.join(INPUT_DATA_DIR, \"movie_tags.parquet\"))\n",
    "movie_tags.head()"
   ]
  },
  {
   "cell_type": "code",
   "execution_count": 7,
   "id": "comparable-aggregate",
   "metadata": {},
   "outputs": [],
   "source": [
    "tags_ds = nvt.Dataset(movie_tags)"
   ]
  },
  {
   "cell_type": "code",
   "execution_count": 8,
   "id": "future-pavilion",
   "metadata": {},
   "outputs": [],
   "source": [
    "cat_with_genres = [\"tags_unique\", \"movieId\"] >> nvt.ops.JoinExternal(movie_genres, on=[\"movieId\"])"
   ]
  },
  {
   "cell_type": "code",
   "execution_count": 9,
   "id": "unable-printer",
   "metadata": {},
   "outputs": [],
   "source": [
    "cat_features = cat_with_genres >> nvt.ops.Categorify()"
   ]
  },
  {
   "cell_type": "code",
   "execution_count": 10,
   "id": "finnish-explanation",
   "metadata": {},
   "outputs": [],
   "source": [
    "cont_features = nvt.ColumnGroup([])\n",
    "other_features = nvt.ColumnGroup([\"tags_nunique\"])"
   ]
  },
  {
   "cell_type": "code",
   "execution_count": 11,
   "id": "every-waterproof",
   "metadata": {},
   "outputs": [
    {
     "data": {
      "image/svg+xml": [
       "<?xml version=\"1.0\" encoding=\"UTF-8\" standalone=\"no\"?>\n",
       "<!DOCTYPE svg PUBLIC \"-//W3C//DTD SVG 1.1//EN\"\n",
       " \"http://www.w3.org/Graphics/SVG/1.1/DTD/svg11.dtd\">\n",
       "<!-- Generated by graphviz version 2.43.0 (0)\n",
       " -->\n",
       "<!-- Title: %3 Pages: 1 -->\n",
       "<svg width=\"680pt\" height=\"332pt\"\n",
       " viewBox=\"0.00 0.00 680.22 332.00\" xmlns=\"http://www.w3.org/2000/svg\" xmlns:xlink=\"http://www.w3.org/1999/xlink\">\n",
       "<g id=\"graph0\" class=\"graph\" transform=\"scale(1 1) rotate(0) translate(4 328)\">\n",
       "<title>%3</title>\n",
       "<polygon fill=\"white\" stroke=\"transparent\" points=\"-4,4 -4,-328 676.22,-328 676.22,4 -4,4\"/>\n",
       "<!-- 0 -->\n",
       "<g id=\"node1\" class=\"node\">\n",
       "<title>0</title>\n",
       "<ellipse fill=\"none\" stroke=\"black\" cx=\"318.63\" cy=\"-90\" rx=\"27\" ry=\"18\"/>\n",
       "<text text-anchor=\"middle\" x=\"318.63\" y=\"-86.3\" font-family=\"Times,serif\" font-size=\"14.00\">+</text>\n",
       "</g>\n",
       "<!-- 6 -->\n",
       "<g id=\"node7\" class=\"node\">\n",
       "<title>6</title>\n",
       "<ellipse fill=\"none\" stroke=\"black\" cx=\"318.63\" cy=\"-18\" rx=\"222.06\" ry=\"18\"/>\n",
       "<text text-anchor=\"middle\" x=\"318.63\" y=\"-14.3\" font-family=\"Times,serif\" font-size=\"14.00\">output cols=[movieId, tags_unique, genres...]</text>\n",
       "</g>\n",
       "<!-- 0&#45;&gt;6 -->\n",
       "<g id=\"edge6\" class=\"edge\">\n",
       "<title>0&#45;&gt;6</title>\n",
       "<path fill=\"none\" stroke=\"black\" d=\"M318.63,-71.7C318.63,-63.98 318.63,-54.71 318.63,-46.11\"/>\n",
       "<polygon fill=\"black\" stroke=\"black\" points=\"322.14,-46.1 318.63,-36.1 315.14,-46.1 322.14,-46.1\"/>\n",
       "</g>\n",
       "<!-- 4 -->\n",
       "<g id=\"node2\" class=\"node\">\n",
       "<title>4</title>\n",
       "<ellipse fill=\"none\" stroke=\"black\" cx=\"169.63\" cy=\"-162\" rx=\"59.59\" ry=\"18\"/>\n",
       "<text text-anchor=\"middle\" x=\"169.63\" y=\"-158.3\" font-family=\"Times,serif\" font-size=\"14.00\">Categorify</text>\n",
       "</g>\n",
       "<!-- 4&#45;&gt;0 -->\n",
       "<g id=\"edge1\" class=\"edge\">\n",
       "<title>4&#45;&gt;0</title>\n",
       "<path fill=\"none\" stroke=\"black\" d=\"M200.51,-146.5C226.06,-134.49 262.17,-117.53 287.73,-105.52\"/>\n",
       "<polygon fill=\"black\" stroke=\"black\" points=\"289.4,-108.6 296.96,-101.18 286.42,-102.27 289.4,-108.6\"/>\n",
       "</g>\n",
       "<!-- 3 -->\n",
       "<g id=\"node3\" class=\"node\">\n",
       "<title>3</title>\n",
       "<ellipse fill=\"none\" stroke=\"black\" cx=\"318.63\" cy=\"-162\" rx=\"70.69\" ry=\"18\"/>\n",
       "<text text-anchor=\"middle\" x=\"318.63\" y=\"-158.3\" font-family=\"Times,serif\" font-size=\"14.00\">input cols=[]</text>\n",
       "</g>\n",
       "<!-- 3&#45;&gt;0 -->\n",
       "<g id=\"edge2\" class=\"edge\">\n",
       "<title>3&#45;&gt;0</title>\n",
       "<path fill=\"none\" stroke=\"black\" d=\"M318.63,-143.7C318.63,-135.98 318.63,-126.71 318.63,-118.11\"/>\n",
       "<polygon fill=\"black\" stroke=\"black\" points=\"322.14,-118.1 318.63,-108.1 315.14,-118.1 322.14,-118.1\"/>\n",
       "</g>\n",
       "<!-- 5 -->\n",
       "<g id=\"node4\" class=\"node\">\n",
       "<title>5</title>\n",
       "<ellipse fill=\"none\" stroke=\"black\" cx=\"539.63\" cy=\"-162\" rx=\"132.68\" ry=\"18\"/>\n",
       "<text text-anchor=\"middle\" x=\"539.63\" y=\"-158.3\" font-family=\"Times,serif\" font-size=\"14.00\">input cols=[tags_nunique]</text>\n",
       "</g>\n",
       "<!-- 5&#45;&gt;0 -->\n",
       "<g id=\"edge3\" class=\"edge\">\n",
       "<title>5&#45;&gt;0</title>\n",
       "<path fill=\"none\" stroke=\"black\" d=\"M490.04,-145.29C448.04,-131.99 388.99,-113.28 352.3,-101.66\"/>\n",
       "<polygon fill=\"black\" stroke=\"black\" points=\"353.17,-98.27 342.58,-98.58 351.06,-104.94 353.17,-98.27\"/>\n",
       "</g>\n",
       "<!-- 1 -->\n",
       "<g id=\"node5\" class=\"node\">\n",
       "<title>1</title>\n",
       "<ellipse fill=\"none\" stroke=\"black\" cx=\"169.63\" cy=\"-306\" rx=\"169.77\" ry=\"18\"/>\n",
       "<text text-anchor=\"middle\" x=\"169.63\" y=\"-302.3\" font-family=\"Times,serif\" font-size=\"14.00\">input cols=[tags_unique, movieId]</text>\n",
       "</g>\n",
       "<!-- 2 -->\n",
       "<g id=\"node6\" class=\"node\">\n",
       "<title>2</title>\n",
       "<ellipse fill=\"none\" stroke=\"black\" cx=\"169.63\" cy=\"-234\" rx=\"68.49\" ry=\"18\"/>\n",
       "<text text-anchor=\"middle\" x=\"169.63\" y=\"-230.3\" font-family=\"Times,serif\" font-size=\"14.00\">JoinExternal</text>\n",
       "</g>\n",
       "<!-- 1&#45;&gt;2 -->\n",
       "<g id=\"edge4\" class=\"edge\">\n",
       "<title>1&#45;&gt;2</title>\n",
       "<path fill=\"none\" stroke=\"black\" d=\"M169.63,-287.7C169.63,-279.98 169.63,-270.71 169.63,-262.11\"/>\n",
       "<polygon fill=\"black\" stroke=\"black\" points=\"173.14,-262.1 169.63,-252.1 166.14,-262.1 173.14,-262.1\"/>\n",
       "</g>\n",
       "<!-- 2&#45;&gt;4 -->\n",
       "<g id=\"edge5\" class=\"edge\">\n",
       "<title>2&#45;&gt;4</title>\n",
       "<path fill=\"none\" stroke=\"black\" d=\"M169.63,-215.7C169.63,-207.98 169.63,-198.71 169.63,-190.11\"/>\n",
       "<polygon fill=\"black\" stroke=\"black\" points=\"173.14,-190.1 169.63,-180.1 166.14,-190.1 173.14,-190.1\"/>\n",
       "</g>\n",
       "</g>\n",
       "</svg>\n"
      ],
      "text/plain": [
       "<graphviz.dot.Digraph at 0x7f956a2c3670>"
      ]
     },
     "execution_count": 11,
     "metadata": {},
     "output_type": "execute_result"
    }
   ],
   "source": [
    "output = cat_features + cont_features + other_features\n",
    "(output).graph"
   ]
  },
  {
   "cell_type": "code",
   "execution_count": 12,
   "id": "cellular-internet",
   "metadata": {},
   "outputs": [],
   "source": [
    "workflow = nvt.Workflow(output)"
   ]
  },
  {
   "cell_type": "code",
   "execution_count": 13,
   "id": "assigned-treasury",
   "metadata": {},
   "outputs": [
    {
     "name": "stdout",
     "output_type": "stream",
     "text": [
      "CPU times: user 363 ms, sys: 35.8 ms, total: 399 ms\n",
      "Wall time: 399 ms\n"
     ]
    }
   ],
   "source": [
    "%%time\n",
    "workflow.fit(tags_ds)"
   ]
  },
  {
   "cell_type": "code",
   "execution_count": 14,
   "id": "promotional-professor",
   "metadata": {},
   "outputs": [
    {
     "name": "stdout",
     "output_type": "stream",
     "text": [
      "CPU times: user 1 µs, sys: 1 µs, total: 2 µs\n",
      "Wall time: 3.58 µs\n"
     ]
    }
   ],
   "source": [
    "%time\n",
    "movie_features = workflow.transform(tags_ds)"
   ]
  },
  {
   "cell_type": "code",
   "execution_count": 18,
   "id": "magnetic-gospel",
   "metadata": {},
   "outputs": [],
   "source": [
    "movie_features.to_ddf().compute().to_parquet(os.path.join(INPUT_DATA_DIR, \"movie_features.parquet\"))"
   ]
  },
  {
   "cell_type": "code",
   "execution_count": null,
   "id": "a0a89fe7-0712-4e05-b6b3-c74dc64b2d6b",
   "metadata": {},
   "outputs": [],
   "source": []
  }
 ],
 "metadata": {
  "kernelspec": {
   "display_name": "Python 3",
   "language": "python",
   "name": "python3"
  },
  "language_info": {
   "codemirror_mode": {
    "name": "ipython",
    "version": 3
   },
   "file_extension": ".py",
   "mimetype": "text/x-python",
   "name": "python",
   "nbconvert_exporter": "python",
   "pygments_lexer": "ipython3",
   "version": "3.8.8"
  }
 },
 "nbformat": 4,
 "nbformat_minor": 5
}
