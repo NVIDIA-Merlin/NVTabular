{
 "cells": [
  {
   "cell_type": "code",
   "execution_count": 1,
   "id": "cc348178-292b-4b88-8e8a-b2eb2b562701",
   "metadata": {},
   "outputs": [],
   "source": [
    "# Copyright 2021 NVIDIA Corporation. All Rights Reserved.\n",
    "#\n",
    "# Licensed under the Apache License, Version 2.0 (the \"License\");\n",
    "# you may not use this file except in compliance with the License.\n",
    "# You may obtain a copy of the License at\n",
    "#\n",
    "#     http://www.apache.org/licenses/LICENSE-2.0\n",
    "#\n",
    "# Unless required by applicable law or agreed to in writing, software\n",
    "# distributed under the License is distributed on an \"AS IS\" BASIS,\n",
    "# WITHOUT WARRANTIES OR CONDITIONS OF ANY KIND, either express or implied.\n",
    "# See the License for the specific language governing permissions and\n",
    "# limitations under the License.\n",
    "# =============================================================================="
   ]
  },
  {
   "cell_type": "code",
   "execution_count": 2,
   "id": "76559277-b304-4d2a-ba13-c8869d955adf",
   "metadata": {},
   "outputs": [],
   "source": [
    "# External dependencies\n",
    "import os\n",
    "import cudf  # cuDF is an implementation of Pandas-like Dataframe on GPU\n",
    "\n",
    "from sklearn.model_selection import train_test_split"
   ]
  },
  {
   "cell_type": "code",
   "execution_count": 3,
   "id": "270eab36-58cc-4139-90cb-d3717aa1947f",
   "metadata": {},
   "outputs": [],
   "source": [
    "INPUT_DATA_DIR = os.environ.get(\n",
    "    \"INPUT_DATA_DIR\", os.path.expanduser(\"~/nvt-examples/end-to-end-poc/data/\")\n",
    ")"
   ]
  },
  {
   "cell_type": "markdown",
   "id": "923bb458-bf05-428c-83a7-910d705be9f0",
   "metadata": {},
   "source": [
    "## Splitting into train and validation dataset"
   ]
  },
  {
   "cell_type": "code",
   "execution_count": 4,
   "id": "changed-embassy",
   "metadata": {},
   "outputs": [],
   "source": [
    "# TODO: Sessionize the data here?\n",
    "# TODO: Change this to a temporal split"
   ]
  },
  {
   "cell_type": "code",
   "execution_count": 5,
   "id": "bfaac653-46f2-464e-9c88-36d44d0b969a",
   "metadata": {},
   "outputs": [
    {
     "data": {
      "text/html": [
       "<div>\n",
       "<style scoped>\n",
       "    .dataframe tbody tr th:only-of-type {\n",
       "        vertical-align: middle;\n",
       "    }\n",
       "\n",
       "    .dataframe tbody tr th {\n",
       "        vertical-align: top;\n",
       "    }\n",
       "\n",
       "    .dataframe thead th {\n",
       "        text-align: right;\n",
       "    }\n",
       "</style>\n",
       "<table border=\"1\" class=\"dataframe\">\n",
       "  <thead>\n",
       "    <tr style=\"text-align: right;\">\n",
       "      <th></th>\n",
       "      <th>userId</th>\n",
       "      <th>movieId</th>\n",
       "      <th>rating</th>\n",
       "      <th>timestamp</th>\n",
       "    </tr>\n",
       "  </thead>\n",
       "  <tbody>\n",
       "    <tr>\n",
       "      <th>0</th>\n",
       "      <td>1</td>\n",
       "      <td>296</td>\n",
       "      <td>5.0</td>\n",
       "      <td>1147880044</td>\n",
       "    </tr>\n",
       "    <tr>\n",
       "      <th>1</th>\n",
       "      <td>1</td>\n",
       "      <td>306</td>\n",
       "      <td>3.5</td>\n",
       "      <td>1147868817</td>\n",
       "    </tr>\n",
       "    <tr>\n",
       "      <th>2</th>\n",
       "      <td>1</td>\n",
       "      <td>307</td>\n",
       "      <td>5.0</td>\n",
       "      <td>1147868828</td>\n",
       "    </tr>\n",
       "    <tr>\n",
       "      <th>3</th>\n",
       "      <td>1</td>\n",
       "      <td>665</td>\n",
       "      <td>5.0</td>\n",
       "      <td>1147878820</td>\n",
       "    </tr>\n",
       "    <tr>\n",
       "      <th>4</th>\n",
       "      <td>1</td>\n",
       "      <td>899</td>\n",
       "      <td>3.5</td>\n",
       "      <td>1147868510</td>\n",
       "    </tr>\n",
       "  </tbody>\n",
       "</table>\n",
       "</div>"
      ],
      "text/plain": [
       "   userId  movieId  rating   timestamp\n",
       "0       1      296     5.0  1147880044\n",
       "1       1      306     3.5  1147868817\n",
       "2       1      307     5.0  1147868828\n",
       "3       1      665     5.0  1147878820\n",
       "4       1      899     3.5  1147868510"
      ]
     },
     "execution_count": 5,
     "metadata": {},
     "output_type": "execute_result"
    }
   ],
   "source": [
    "ratings = cudf.read_csv(os.path.join(INPUT_DATA_DIR, \"ml-25m\", \"ratings.csv\"))\n",
    "ratings.head()"
   ]
  },
  {
   "cell_type": "code",
   "execution_count": 6,
   "id": "regular-christopher",
   "metadata": {},
   "outputs": [],
   "source": [
    "ratings[\"day\"] = ratings[\"timestamp\"] // 86400\n",
    "min_day = ratings.min()[\"day\"]\n",
    "ratings[\"day\"] = ratings[\"day\"] - min_day"
   ]
  },
  {
   "cell_type": "code",
   "execution_count": 7,
   "id": "latest-range",
   "metadata": {},
   "outputs": [
    {
     "data": {
      "text/html": [
       "<div>\n",
       "<style scoped>\n",
       "    .dataframe tbody tr th:only-of-type {\n",
       "        vertical-align: middle;\n",
       "    }\n",
       "\n",
       "    .dataframe tbody tr th {\n",
       "        vertical-align: top;\n",
       "    }\n",
       "\n",
       "    .dataframe thead th {\n",
       "        text-align: right;\n",
       "    }\n",
       "</style>\n",
       "<table border=\"1\" class=\"dataframe\">\n",
       "  <thead>\n",
       "    <tr style=\"text-align: right;\">\n",
       "      <th></th>\n",
       "      <th>userId</th>\n",
       "      <th>movieId</th>\n",
       "      <th>rating</th>\n",
       "      <th>timestamp</th>\n",
       "      <th>day</th>\n",
       "    </tr>\n",
       "  </thead>\n",
       "  <tbody>\n",
       "    <tr>\n",
       "      <th>0</th>\n",
       "      <td>1</td>\n",
       "      <td>296</td>\n",
       "      <td>5.0</td>\n",
       "      <td>1147880044</td>\n",
       "      <td>4146.0</td>\n",
       "    </tr>\n",
       "    <tr>\n",
       "      <th>1</th>\n",
       "      <td>1</td>\n",
       "      <td>306</td>\n",
       "      <td>3.5</td>\n",
       "      <td>1147868817</td>\n",
       "      <td>4146.0</td>\n",
       "    </tr>\n",
       "    <tr>\n",
       "      <th>2</th>\n",
       "      <td>1</td>\n",
       "      <td>307</td>\n",
       "      <td>5.0</td>\n",
       "      <td>1147868828</td>\n",
       "      <td>4146.0</td>\n",
       "    </tr>\n",
       "    <tr>\n",
       "      <th>3</th>\n",
       "      <td>1</td>\n",
       "      <td>665</td>\n",
       "      <td>5.0</td>\n",
       "      <td>1147878820</td>\n",
       "      <td>4146.0</td>\n",
       "    </tr>\n",
       "    <tr>\n",
       "      <th>4</th>\n",
       "      <td>1</td>\n",
       "      <td>899</td>\n",
       "      <td>3.5</td>\n",
       "      <td>1147868510</td>\n",
       "      <td>4146.0</td>\n",
       "    </tr>\n",
       "  </tbody>\n",
       "</table>\n",
       "</div>"
      ],
      "text/plain": [
       "   userId  movieId  rating   timestamp     day\n",
       "0       1      296     5.0  1147880044  4146.0\n",
       "1       1      306     3.5  1147868817  4146.0\n",
       "2       1      307     5.0  1147868828  4146.0\n",
       "3       1      665     5.0  1147878820  4146.0\n",
       "4       1      899     3.5  1147868510  4146.0"
      ]
     },
     "execution_count": 7,
     "metadata": {},
     "output_type": "execute_result"
    }
   ],
   "source": [
    "ratings.head()"
   ]
  },
  {
   "cell_type": "code",
   "execution_count": 8,
   "id": "abandoned-purchase",
   "metadata": {},
   "outputs": [],
   "source": [
    "ratings[\"interaction\"] = ratings[\"rating\"] > 3.0"
   ]
  },
  {
   "cell_type": "code",
   "execution_count": 9,
   "id": "permanent-alabama",
   "metadata": {},
   "outputs": [
    {
     "data": {
      "text/html": [
       "<div>\n",
       "<style scoped>\n",
       "    .dataframe tbody tr th:only-of-type {\n",
       "        vertical-align: middle;\n",
       "    }\n",
       "\n",
       "    .dataframe tbody tr th {\n",
       "        vertical-align: top;\n",
       "    }\n",
       "\n",
       "    .dataframe thead th {\n",
       "        text-align: right;\n",
       "    }\n",
       "</style>\n",
       "<table border=\"1\" class=\"dataframe\">\n",
       "  <thead>\n",
       "    <tr style=\"text-align: right;\">\n",
       "      <th></th>\n",
       "      <th>userId</th>\n",
       "      <th>movieId</th>\n",
       "      <th>rating</th>\n",
       "      <th>timestamp</th>\n",
       "      <th>day</th>\n",
       "      <th>interaction</th>\n",
       "    </tr>\n",
       "  </thead>\n",
       "  <tbody>\n",
       "    <tr>\n",
       "      <th>0</th>\n",
       "      <td>1</td>\n",
       "      <td>296</td>\n",
       "      <td>5.0</td>\n",
       "      <td>1147880044</td>\n",
       "      <td>4146.0</td>\n",
       "      <td>True</td>\n",
       "    </tr>\n",
       "    <tr>\n",
       "      <th>1</th>\n",
       "      <td>1</td>\n",
       "      <td>306</td>\n",
       "      <td>3.5</td>\n",
       "      <td>1147868817</td>\n",
       "      <td>4146.0</td>\n",
       "      <td>True</td>\n",
       "    </tr>\n",
       "    <tr>\n",
       "      <th>2</th>\n",
       "      <td>1</td>\n",
       "      <td>307</td>\n",
       "      <td>5.0</td>\n",
       "      <td>1147868828</td>\n",
       "      <td>4146.0</td>\n",
       "      <td>True</td>\n",
       "    </tr>\n",
       "    <tr>\n",
       "      <th>3</th>\n",
       "      <td>1</td>\n",
       "      <td>665</td>\n",
       "      <td>5.0</td>\n",
       "      <td>1147878820</td>\n",
       "      <td>4146.0</td>\n",
       "      <td>True</td>\n",
       "    </tr>\n",
       "    <tr>\n",
       "      <th>4</th>\n",
       "      <td>1</td>\n",
       "      <td>899</td>\n",
       "      <td>3.5</td>\n",
       "      <td>1147868510</td>\n",
       "      <td>4146.0</td>\n",
       "      <td>True</td>\n",
       "    </tr>\n",
       "  </tbody>\n",
       "</table>\n",
       "</div>"
      ],
      "text/plain": [
       "   userId  movieId  rating   timestamp     day  interaction\n",
       "0       1      296     5.0  1147880044  4146.0         True\n",
       "1       1      306     3.5  1147868817  4146.0         True\n",
       "2       1      307     5.0  1147868828  4146.0         True\n",
       "3       1      665     5.0  1147878820  4146.0         True\n",
       "4       1      899     3.5  1147868510  4146.0         True"
      ]
     },
     "execution_count": 9,
     "metadata": {},
     "output_type": "execute_result"
    }
   ],
   "source": [
    "ratings.head()"
   ]
  },
  {
   "cell_type": "code",
   "execution_count": 10,
   "id": "fleet-treaty",
   "metadata": {},
   "outputs": [],
   "source": [
    "ratings = ratings.sort_values(\"timestamp\")"
   ]
  },
  {
   "cell_type": "code",
   "execution_count": 11,
   "id": "organic-village",
   "metadata": {},
   "outputs": [
    {
     "data": {
      "text/html": [
       "<div>\n",
       "<style scoped>\n",
       "    .dataframe tbody tr th:only-of-type {\n",
       "        vertical-align: middle;\n",
       "    }\n",
       "\n",
       "    .dataframe tbody tr th {\n",
       "        vertical-align: top;\n",
       "    }\n",
       "\n",
       "    .dataframe thead th {\n",
       "        text-align: right;\n",
       "    }\n",
       "</style>\n",
       "<table border=\"1\" class=\"dataframe\">\n",
       "  <thead>\n",
       "    <tr style=\"text-align: right;\">\n",
       "      <th></th>\n",
       "      <th>userId</th>\n",
       "      <th>movieId</th>\n",
       "      <th>rating</th>\n",
       "      <th>timestamp</th>\n",
       "      <th>day</th>\n",
       "      <th>interaction</th>\n",
       "    </tr>\n",
       "  </thead>\n",
       "  <tbody>\n",
       "    <tr>\n",
       "      <th>326761</th>\n",
       "      <td>2262</td>\n",
       "      <td>21</td>\n",
       "      <td>3.0</td>\n",
       "      <td>789652009</td>\n",
       "      <td>0.0</td>\n",
       "      <td>False</td>\n",
       "    </tr>\n",
       "    <tr>\n",
       "      <th>326767</th>\n",
       "      <td>2262</td>\n",
       "      <td>47</td>\n",
       "      <td>5.0</td>\n",
       "      <td>789652009</td>\n",
       "      <td>0.0</td>\n",
       "      <td>True</td>\n",
       "    </tr>\n",
       "    <tr>\n",
       "      <th>326810</th>\n",
       "      <td>2262</td>\n",
       "      <td>1079</td>\n",
       "      <td>3.0</td>\n",
       "      <td>789652009</td>\n",
       "      <td>0.0</td>\n",
       "      <td>False</td>\n",
       "    </tr>\n",
       "    <tr>\n",
       "      <th>2016249</th>\n",
       "      <td>13424</td>\n",
       "      <td>10</td>\n",
       "      <td>3.0</td>\n",
       "      <td>822873600</td>\n",
       "      <td>385.0</td>\n",
       "      <td>False</td>\n",
       "    </tr>\n",
       "    <tr>\n",
       "      <th>2016250</th>\n",
       "      <td>13424</td>\n",
       "      <td>11</td>\n",
       "      <td>4.0</td>\n",
       "      <td>822873600</td>\n",
       "      <td>385.0</td>\n",
       "      <td>True</td>\n",
       "    </tr>\n",
       "  </tbody>\n",
       "</table>\n",
       "</div>"
      ],
      "text/plain": [
       "         userId  movieId  rating  timestamp    day  interaction\n",
       "326761     2262       21     3.0  789652009    0.0        False\n",
       "326767     2262       47     5.0  789652009    0.0         True\n",
       "326810     2262     1079     3.0  789652009    0.0        False\n",
       "2016249   13424       10     3.0  822873600  385.0        False\n",
       "2016250   13424       11     4.0  822873600  385.0         True"
      ]
     },
     "execution_count": 11,
     "metadata": {},
     "output_type": "execute_result"
    }
   ],
   "source": [
    "ratings.head()"
   ]
  },
  {
   "cell_type": "code",
   "execution_count": 52,
   "id": "delayed-swiss",
   "metadata": {},
   "outputs": [
    {
     "data": {
      "text/html": [
       "<div>\n",
       "<style scoped>\n",
       "    .dataframe tbody tr th:only-of-type {\n",
       "        vertical-align: middle;\n",
       "    }\n",
       "\n",
       "    .dataframe tbody tr th {\n",
       "        vertical-align: top;\n",
       "    }\n",
       "\n",
       "    .dataframe thead th {\n",
       "        text-align: right;\n",
       "    }\n",
       "</style>\n",
       "<table border=\"1\" class=\"dataframe\">\n",
       "  <thead>\n",
       "    <tr style=\"text-align: right;\">\n",
       "      <th></th>\n",
       "      <th>day</th>\n",
       "      <th>userId</th>\n",
       "      <th>movieId</th>\n",
       "    </tr>\n",
       "  </thead>\n",
       "  <tbody>\n",
       "    <tr>\n",
       "      <th>0</th>\n",
       "      <td>0.0</td>\n",
       "      <td>2262</td>\n",
       "      <td>[47]</td>\n",
       "    </tr>\n",
       "    <tr>\n",
       "      <th>1</th>\n",
       "      <td>385.0</td>\n",
       "      <td>13424</td>\n",
       "      <td>[11, 57]</td>\n",
       "    </tr>\n",
       "    <tr>\n",
       "      <th>2</th>\n",
       "      <td>385.0</td>\n",
       "      <td>42937</td>\n",
       "      <td>[32]</td>\n",
       "    </tr>\n",
       "    <tr>\n",
       "      <th>3</th>\n",
       "      <td>385.0</td>\n",
       "      <td>102689</td>\n",
       "      <td>[1, 10, 18, 19, 21, 31, 32, 39, 45, 47, 50, 52...</td>\n",
       "    </tr>\n",
       "    <tr>\n",
       "      <th>4</th>\n",
       "      <td>385.0</td>\n",
       "      <td>109832</td>\n",
       "      <td>[2, 7, 10, 11, 17, 21, 22, 32, 34, 36, 48, 50,...</td>\n",
       "    </tr>\n",
       "  </tbody>\n",
       "</table>\n",
       "</div>"
      ],
      "text/plain": [
       "     day  userId                                            movieId\n",
       "0    0.0    2262                                               [47]\n",
       "1  385.0   13424                                           [11, 57]\n",
       "2  385.0   42937                                               [32]\n",
       "3  385.0  102689  [1, 10, 18, 19, 21, 31, 32, 39, 45, 47, 50, 52...\n",
       "4  385.0  109832  [2, 7, 10, 11, 17, 21, 22, 32, 34, 36, 48, 50,..."
      ]
     },
     "execution_count": 52,
     "metadata": {},
     "output_type": "execute_result"
    }
   ],
   "source": [
    "grouped = ratings[ratings[\"interaction\"]].sort_values(\"timestamp\").groupby(\n",
    "    [\"day\", \"userId\"]\n",
    ").agg({\"movieId\": \"collect\"})\n",
    "grouped = grouped.reset_index()\n",
    "grouped.head()"
   ]
  },
  {
   "cell_type": "code",
   "execution_count": 54,
   "id": "binary-clock",
   "metadata": {},
   "outputs": [
    {
     "data": {
      "text/plain": [
       "0                                                       [47]\n",
       "1                                                   [11, 57]\n",
       "2                                                       [32]\n",
       "3          [1, 10, 18, 19, 21, 31, 32, 39, 45, 47, 50, 52...\n",
       "4          [2, 7, 10, 11, 17, 21, 22, 32, 34, 36, 48, 50,...\n",
       "                                 ...                        \n",
       "1129304                     [205156, 205383, 203375, 204698]\n",
       "1129305                                             [208385]\n",
       "1129306                                             [192379]\n",
       "1129307                                             [208737]\n",
       "1129308                        [111759, 115713, 2105, 73290]\n",
       "Name: movieId, Length: 1129309, dtype: list"
      ]
     },
     "execution_count": 54,
     "metadata": {},
     "output_type": "execute_result"
    }
   ],
   "source": [
    "grouped[\"movieId\"]"
   ]
  },
  {
   "cell_type": "code",
   "execution_count": 42,
   "id": "massive-classification",
   "metadata": {},
   "outputs": [
    {
     "data": {
      "text/plain": [
       "1129309"
      ]
     },
     "execution_count": 42,
     "metadata": {},
     "output_type": "execute_result"
    }
   ],
   "source": [
    "len(grouped)"
   ]
  },
  {
   "cell_type": "code",
   "execution_count": 38,
   "id": "eastern-compensation",
   "metadata": {},
   "outputs": [
    {
     "data": {
      "text/plain": [
       "Index(['movieId'], dtype='object')"
      ]
     },
     "execution_count": 38,
     "metadata": {},
     "output_type": "execute_result"
    }
   ],
   "source": [
    "grouped.columns"
   ]
  },
  {
   "cell_type": "code",
   "execution_count": 39,
   "id": "widespread-forty",
   "metadata": {},
   "outputs": [
    {
     "data": {
      "text/html": [
       "<div>\n",
       "<style scoped>\n",
       "    .dataframe tbody tr th:only-of-type {\n",
       "        vertical-align: middle;\n",
       "    }\n",
       "\n",
       "    .dataframe tbody tr th {\n",
       "        vertical-align: top;\n",
       "    }\n",
       "\n",
       "    .dataframe thead th {\n",
       "        text-align: right;\n",
       "    }\n",
       "</style>\n",
       "<table border=\"1\" class=\"dataframe\">\n",
       "  <thead>\n",
       "    <tr style=\"text-align: right;\">\n",
       "      <th></th>\n",
       "      <th>userId</th>\n",
       "      <th>day</th>\n",
       "      <th>movieId</th>\n",
       "    </tr>\n",
       "  </thead>\n",
       "  <tbody>\n",
       "    <tr>\n",
       "      <th>0</th>\n",
       "      <td>1</td>\n",
       "      <td>4146.0</td>\n",
       "      <td>[5952, 1653, 1250, 6539, 6377, 3448, 1088, 899...</td>\n",
       "    </tr>\n",
       "    <tr>\n",
       "      <th>1</th>\n",
       "      <td>2</td>\n",
       "      <td>4071.0</td>\n",
       "      <td>[5952, 497, 1374, 1653, 2640, 5445, 151, 236, ...</td>\n",
       "    </tr>\n",
       "    <tr>\n",
       "      <th>2</th>\n",
       "      <td>3</td>\n",
       "      <td>7521.0</td>\n",
       "      <td>[356, 593, 1270, 1, 2571, 260, 318, 1196, 527,...</td>\n",
       "    </tr>\n",
       "    <tr>\n",
       "      <th>3</th>\n",
       "      <td>3</td>\n",
       "      <td>7688.0</td>\n",
       "      <td>[1206, 1208, 44191, 32587, 51662, 55820, 40815...</td>\n",
       "    </tr>\n",
       "    <tr>\n",
       "      <th>4</th>\n",
       "      <td>3</td>\n",
       "      <td>8045.0</td>\n",
       "      <td>[1089, 136449, 4011, 741, 778, 111, 214, 13646...</td>\n",
       "    </tr>\n",
       "    <tr>\n",
       "      <th>...</th>\n",
       "      <td>...</td>\n",
       "      <td>...</td>\n",
       "      <td>...</td>\n",
       "    </tr>\n",
       "    <tr>\n",
       "      <th>1129304</th>\n",
       "      <td>162538</td>\n",
       "      <td>7513.0</td>\n",
       "      <td>[356, 593, 1270, 527, 2324, 2858, 2762, 4993, ...</td>\n",
       "    </tr>\n",
       "    <tr>\n",
       "      <th>1129305</th>\n",
       "      <td>162539</td>\n",
       "      <td>2378.0</td>\n",
       "      <td>[1721, 480, 1198, 1282, 1784, 608, 3363, 2022,...</td>\n",
       "    </tr>\n",
       "    <tr>\n",
       "      <th>1129306</th>\n",
       "      <td>162540</td>\n",
       "      <td>5315.0</td>\n",
       "      <td>[3005, 49530, 5400, 54001, 49278, 4167, 4372, ...</td>\n",
       "    </tr>\n",
       "    <tr>\n",
       "      <th>1129307</th>\n",
       "      <td>162540</td>\n",
       "      <td>5317.0</td>\n",
       "      <td>[69526, 6377, 8961, 4720, 8957, 53953, 37720, ...</td>\n",
       "    </tr>\n",
       "    <tr>\n",
       "      <th>1129308</th>\n",
       "      <td>162541</td>\n",
       "      <td>5223.0</td>\n",
       "      <td>[1729, 261, 969, 2105, 2161, 3255, 914, 1249, ...</td>\n",
       "    </tr>\n",
       "  </tbody>\n",
       "</table>\n",
       "<p>1129309 rows × 3 columns</p>\n",
       "</div>"
      ],
      "text/plain": [
       "         userId     day                                            movieId\n",
       "0             1  4146.0  [5952, 1653, 1250, 6539, 6377, 3448, 1088, 899...\n",
       "1             2  4071.0  [5952, 497, 1374, 1653, 2640, 5445, 151, 236, ...\n",
       "2             3  7521.0  [356, 593, 1270, 1, 2571, 260, 318, 1196, 527,...\n",
       "3             3  7688.0  [1206, 1208, 44191, 32587, 51662, 55820, 40815...\n",
       "4             3  8045.0  [1089, 136449, 4011, 741, 778, 111, 214, 13646...\n",
       "...         ...     ...                                                ...\n",
       "1129304  162538  7513.0  [356, 593, 1270, 527, 2324, 2858, 2762, 4993, ...\n",
       "1129305  162539  2378.0  [1721, 480, 1198, 1282, 1784, 608, 3363, 2022,...\n",
       "1129306  162540  5315.0  [3005, 49530, 5400, 54001, 49278, 4167, 4372, ...\n",
       "1129307  162540  5317.0  [69526, 6377, 8961, 4720, 8957, 53953, 37720, ...\n",
       "1129308  162541  5223.0  [1729, 261, 969, 2105, 2161, 3255, 914, 1249, ...\n",
       "\n",
       "[1129309 rows x 3 columns]"
      ]
     },
     "execution_count": 39,
     "metadata": {},
     "output_type": "execute_result"
    }
   ],
   "source": [
    "grouped.reset_index()"
   ]
  },
  {
   "cell_type": "code",
   "execution_count": 13,
   "id": "88b9b993-20b6-454f-b8ab-67a14c512a8d",
   "metadata": {},
   "outputs": [],
   "source": [
    "# ratings = ratings.drop(\"timestamp\", axis=1)\n",
    "train, valid = train_test_split(ratings, test_size=0.2, random_state=42)"
   ]
  },
  {
   "cell_type": "code",
   "execution_count": 14,
   "id": "75f28180-ca63-420d-a449-ba412d80eb85",
   "metadata": {},
   "outputs": [],
   "source": [
    "train.to_parquet(os.path.join(INPUT_DATA_DIR, \"train.parquet\"))\n",
    "valid.to_parquet(os.path.join(INPUT_DATA_DIR, \"valid.parquet\"))"
   ]
  },
  {
   "cell_type": "code",
   "execution_count": 15,
   "id": "strange-general",
   "metadata": {},
   "outputs": [
    {
     "data": {
      "text/html": [
       "<div>\n",
       "<style scoped>\n",
       "    .dataframe tbody tr th:only-of-type {\n",
       "        vertical-align: middle;\n",
       "    }\n",
       "\n",
       "    .dataframe tbody tr th {\n",
       "        vertical-align: top;\n",
       "    }\n",
       "\n",
       "    .dataframe thead th {\n",
       "        text-align: right;\n",
       "    }\n",
       "</style>\n",
       "<table border=\"1\" class=\"dataframe\">\n",
       "  <thead>\n",
       "    <tr style=\"text-align: right;\">\n",
       "      <th></th>\n",
       "      <th>userId</th>\n",
       "      <th>movieId</th>\n",
       "      <th>rating</th>\n",
       "      <th>timestamp</th>\n",
       "      <th>day</th>\n",
       "      <th>interaction</th>\n",
       "    </tr>\n",
       "  </thead>\n",
       "  <tbody>\n",
       "    <tr>\n",
       "      <th>7627625</th>\n",
       "      <td>49472</td>\n",
       "      <td>80906</td>\n",
       "      <td>2.5</td>\n",
       "      <td>1452818915</td>\n",
       "      <td>7676.0</td>\n",
       "      <td>False</td>\n",
       "    </tr>\n",
       "    <tr>\n",
       "      <th>21520859</th>\n",
       "      <td>139909</td>\n",
       "      <td>1207</td>\n",
       "      <td>4.0</td>\n",
       "      <td>1298649177</td>\n",
       "      <td>5891.0</td>\n",
       "      <td>True</td>\n",
       "    </tr>\n",
       "    <tr>\n",
       "      <th>23300553</th>\n",
       "      <td>151249</td>\n",
       "      <td>4896</td>\n",
       "      <td>3.5</td>\n",
       "      <td>1201310772</td>\n",
       "      <td>4765.0</td>\n",
       "      <td>True</td>\n",
       "    </tr>\n",
       "    <tr>\n",
       "      <th>1654646</th>\n",
       "      <td>11052</td>\n",
       "      <td>2858</td>\n",
       "      <td>4.0</td>\n",
       "      <td>1436986764</td>\n",
       "      <td>7492.0</td>\n",
       "      <td>True</td>\n",
       "    </tr>\n",
       "    <tr>\n",
       "      <th>14788558</th>\n",
       "      <td>95754</td>\n",
       "      <td>1077</td>\n",
       "      <td>4.0</td>\n",
       "      <td>1437673270</td>\n",
       "      <td>7500.0</td>\n",
       "      <td>True</td>\n",
       "    </tr>\n",
       "  </tbody>\n",
       "</table>\n",
       "</div>"
      ],
      "text/plain": [
       "          userId  movieId  rating   timestamp     day  interaction\n",
       "7627625    49472    80906     2.5  1452818915  7676.0        False\n",
       "21520859  139909     1207     4.0  1298649177  5891.0         True\n",
       "23300553  151249     4896     3.5  1201310772  4765.0         True\n",
       "1654646    11052     2858     4.0  1436986764  7492.0         True\n",
       "14788558   95754     1077     4.0  1437673270  7500.0         True"
      ]
     },
     "execution_count": 15,
     "metadata": {},
     "output_type": "execute_result"
    }
   ],
   "source": [
    "train.head()"
   ]
  },
  {
   "cell_type": "markdown",
   "id": "f3021bb9-6e57-4d12-8824-a11eb3e91b62",
   "metadata": {},
   "source": [
    "## Getting Started"
   ]
  },
  {
   "cell_type": "code",
   "execution_count": 16,
   "id": "9633d555-dc01-4d59-bd0e-7b51ac553e06",
   "metadata": {},
   "outputs": [],
   "source": [
    "# External dependencies\n",
    "import os\n",
    "import cudf  # cuDF is an implementation of Pandas-like Dataframe on GPU\n",
    "\n",
    "import nvtabular as nvt"
   ]
  },
  {
   "cell_type": "code",
   "execution_count": 17,
   "id": "c4cd4024-52a9-4b53-b94c-c5b4b3d7e28c",
   "metadata": {},
   "outputs": [],
   "source": [
    "INPUT_DATA_DIR = os.environ.get(\n",
    "    \"INPUT_DATA_DIR\", os.path.expanduser(\"~/nvt-examples/end-to-end-poc/data/\")\n",
    ")"
   ]
  },
  {
   "cell_type": "code",
   "execution_count": 18,
   "id": "c3b1e149-d00f-4898-a8c3-d506d7ee8089",
   "metadata": {},
   "outputs": [
    {
     "data": {
      "text/html": [
       "<div>\n",
       "<style scoped>\n",
       "    .dataframe tbody tr th:only-of-type {\n",
       "        vertical-align: middle;\n",
       "    }\n",
       "\n",
       "    .dataframe tbody tr th {\n",
       "        vertical-align: top;\n",
       "    }\n",
       "\n",
       "    .dataframe thead th {\n",
       "        text-align: right;\n",
       "    }\n",
       "</style>\n",
       "<table border=\"1\" class=\"dataframe\">\n",
       "  <thead>\n",
       "    <tr style=\"text-align: right;\">\n",
       "      <th></th>\n",
       "      <th>movieId</th>\n",
       "      <th>genres</th>\n",
       "    </tr>\n",
       "  </thead>\n",
       "  <tbody>\n",
       "    <tr>\n",
       "      <th>0</th>\n",
       "      <td>1</td>\n",
       "      <td>[Adventure, Animation, Children, Comedy, Fantasy]</td>\n",
       "    </tr>\n",
       "    <tr>\n",
       "      <th>1</th>\n",
       "      <td>2</td>\n",
       "      <td>[Adventure, Children, Fantasy]</td>\n",
       "    </tr>\n",
       "    <tr>\n",
       "      <th>2</th>\n",
       "      <td>3</td>\n",
       "      <td>[Comedy, Romance]</td>\n",
       "    </tr>\n",
       "    <tr>\n",
       "      <th>3</th>\n",
       "      <td>4</td>\n",
       "      <td>[Comedy, Drama, Romance]</td>\n",
       "    </tr>\n",
       "    <tr>\n",
       "      <th>4</th>\n",
       "      <td>5</td>\n",
       "      <td>[Comedy]</td>\n",
       "    </tr>\n",
       "  </tbody>\n",
       "</table>\n",
       "</div>"
      ],
      "text/plain": [
       "   movieId                                             genres\n",
       "0        1  [Adventure, Animation, Children, Comedy, Fantasy]\n",
       "1        2                     [Adventure, Children, Fantasy]\n",
       "2        3                                  [Comedy, Romance]\n",
       "3        4                           [Comedy, Drama, Romance]\n",
       "4        5                                           [Comedy]"
      ]
     },
     "execution_count": 18,
     "metadata": {},
     "output_type": "execute_result"
    }
   ],
   "source": [
    "movie_genres = cudf.read_parquet(os.path.join(INPUT_DATA_DIR, \"movie_genres.parquet\"))\n",
    "movie_genres.head()"
   ]
  },
  {
   "cell_type": "code",
   "execution_count": 19,
   "id": "b7f44f69-86a4-41de-aec7-dd25e3815bcc",
   "metadata": {},
   "outputs": [
    {
     "data": {
      "text/html": [
       "<div>\n",
       "<style scoped>\n",
       "    .dataframe tbody tr th:only-of-type {\n",
       "        vertical-align: middle;\n",
       "    }\n",
       "\n",
       "    .dataframe tbody tr th {\n",
       "        vertical-align: top;\n",
       "    }\n",
       "\n",
       "    .dataframe thead th {\n",
       "        text-align: right;\n",
       "    }\n",
       "</style>\n",
       "<table border=\"1\" class=\"dataframe\">\n",
       "  <thead>\n",
       "    <tr style=\"text-align: right;\">\n",
       "      <th></th>\n",
       "      <th>movieId</th>\n",
       "      <th>tags_unique</th>\n",
       "      <th>tags_nunique</th>\n",
       "    </tr>\n",
       "  </thead>\n",
       "  <tbody>\n",
       "    <tr>\n",
       "      <th>0</th>\n",
       "      <td>1</td>\n",
       "      <td>[2009 reissue in Stereoscopic 3-D, 3D, 55 movi...</td>\n",
       "      <td>126</td>\n",
       "    </tr>\n",
       "    <tr>\n",
       "      <th>1</th>\n",
       "      <td>2</td>\n",
       "      <td>[Adaptation of Book, CLV, Children, Chris Van ...</td>\n",
       "      <td>44</td>\n",
       "    </tr>\n",
       "    <tr>\n",
       "      <th>2</th>\n",
       "      <td>3</td>\n",
       "      <td>[Ann Margaret, Burgess Meredith, CLV, Daryl Ha...</td>\n",
       "      <td>23</td>\n",
       "    </tr>\n",
       "    <tr>\n",
       "      <th>3</th>\n",
       "      <td>4</td>\n",
       "      <td>[CLV, based on novel or book, characters, chic...</td>\n",
       "      <td>8</td>\n",
       "    </tr>\n",
       "    <tr>\n",
       "      <th>4</th>\n",
       "      <td>5</td>\n",
       "      <td>[CLV, Comedy, Diane Keaton, Fantasy, Steve Mar...</td>\n",
       "      <td>20</td>\n",
       "    </tr>\n",
       "  </tbody>\n",
       "</table>\n",
       "</div>"
      ],
      "text/plain": [
       "   movieId                                        tags_unique  tags_nunique\n",
       "0        1  [2009 reissue in Stereoscopic 3-D, 3D, 55 movi...           126\n",
       "1        2  [Adaptation of Book, CLV, Children, Chris Van ...            44\n",
       "2        3  [Ann Margaret, Burgess Meredith, CLV, Daryl Ha...            23\n",
       "3        4  [CLV, based on novel or book, characters, chic...             8\n",
       "4        5  [CLV, Comedy, Diane Keaton, Fantasy, Steve Mar...            20"
      ]
     },
     "execution_count": 19,
     "metadata": {},
     "output_type": "execute_result"
    }
   ],
   "source": [
    "movie_tags = cudf.read_parquet(os.path.join(INPUT_DATA_DIR, \"movie_tags.parquet\"))\n",
    "movie_tags.head()"
   ]
  },
  {
   "cell_type": "code",
   "execution_count": 20,
   "id": "comparable-aggregate",
   "metadata": {},
   "outputs": [],
   "source": [
    "tags_ds = nvt.Dataset(movie_tags)"
   ]
  },
  {
   "cell_type": "code",
   "execution_count": 21,
   "id": "forty-battle",
   "metadata": {},
   "outputs": [],
   "source": [
    "CATEGORICAL_COLUMNS = [\"tags_unique\", \"movieId\"]\n",
    "CONTINUOUS_COLUMNS = []\n",
    "LABEL_COLUMNS = []"
   ]
  },
  {
   "cell_type": "code",
   "execution_count": 22,
   "id": "future-pavilion",
   "metadata": {},
   "outputs": [],
   "source": [
    "cat_with_genres = CATEGORICAL_COLUMNS >> nvt.ops.JoinExternal(movie_genres, on=[\"movieId\"])"
   ]
  },
  {
   "cell_type": "code",
   "execution_count": 23,
   "id": "unable-printer",
   "metadata": {},
   "outputs": [],
   "source": [
    "cat_features = cat_with_genres >> nvt.ops.Categorify()"
   ]
  },
  {
   "cell_type": "code",
   "execution_count": 24,
   "id": "finnish-explanation",
   "metadata": {},
   "outputs": [],
   "source": [
    "cont_features = nvt.ColumnGroup(CONTINUOUS_COLUMNS)"
   ]
  },
  {
   "cell_type": "code",
   "execution_count": 25,
   "id": "every-waterproof",
   "metadata": {},
   "outputs": [
    {
     "data": {
      "image/svg+xml": [
       "<?xml version=\"1.0\" encoding=\"UTF-8\" standalone=\"no\"?>\n",
       "<!DOCTYPE svg PUBLIC \"-//W3C//DTD SVG 1.1//EN\"\n",
       " \"http://www.w3.org/Graphics/SVG/1.1/DTD/svg11.dtd\">\n",
       "<!-- Generated by graphviz version 2.43.0 (0)\n",
       " -->\n",
       "<!-- Title: %3 Pages: 1 -->\n",
       "<svg width=\"465pt\" height=\"332pt\"\n",
       " viewBox=\"0.00 0.00 465.47 332.00\" xmlns=\"http://www.w3.org/2000/svg\" xmlns:xlink=\"http://www.w3.org/1999/xlink\">\n",
       "<g id=\"graph0\" class=\"graph\" transform=\"scale(1 1) rotate(0) translate(4 328)\">\n",
       "<title>%3</title>\n",
       "<polygon fill=\"white\" stroke=\"transparent\" points=\"-4,4 -4,-328 461.47,-328 461.47,4 -4,4\"/>\n",
       "<!-- 0 -->\n",
       "<g id=\"node1\" class=\"node\">\n",
       "<title>0</title>\n",
       "<ellipse fill=\"none\" stroke=\"black\" cx=\"243.63\" cy=\"-90\" rx=\"27\" ry=\"18\"/>\n",
       "<text text-anchor=\"middle\" x=\"243.63\" y=\"-86.3\" font-family=\"Times,serif\" font-size=\"14.00\">+</text>\n",
       "</g>\n",
       "<!-- 5 -->\n",
       "<g id=\"node6\" class=\"node\">\n",
       "<title>5</title>\n",
       "<ellipse fill=\"none\" stroke=\"black\" cx=\"243.63\" cy=\"-18\" rx=\"213.66\" ry=\"18\"/>\n",
       "<text text-anchor=\"middle\" x=\"243.63\" y=\"-14.3\" font-family=\"Times,serif\" font-size=\"14.00\">output cols=[movieId, genres, tags_unique]</text>\n",
       "</g>\n",
       "<!-- 0&#45;&gt;5 -->\n",
       "<g id=\"edge5\" class=\"edge\">\n",
       "<title>0&#45;&gt;5</title>\n",
       "<path fill=\"none\" stroke=\"black\" d=\"M243.63,-71.7C243.63,-63.98 243.63,-54.71 243.63,-46.11\"/>\n",
       "<polygon fill=\"black\" stroke=\"black\" points=\"247.14,-46.1 243.63,-36.1 240.14,-46.1 247.14,-46.1\"/>\n",
       "</g>\n",
       "<!-- 2 -->\n",
       "<g id=\"node2\" class=\"node\">\n",
       "<title>2</title>\n",
       "<ellipse fill=\"none\" stroke=\"black\" cx=\"169.63\" cy=\"-162\" rx=\"59.59\" ry=\"18\"/>\n",
       "<text text-anchor=\"middle\" x=\"169.63\" y=\"-158.3\" font-family=\"Times,serif\" font-size=\"14.00\">Categorify</text>\n",
       "</g>\n",
       "<!-- 2&#45;&gt;0 -->\n",
       "<g id=\"edge1\" class=\"edge\">\n",
       "<title>2&#45;&gt;0</title>\n",
       "<path fill=\"none\" stroke=\"black\" d=\"M187.17,-144.41C197.35,-134.78 210.28,-122.55 221.2,-112.23\"/>\n",
       "<polygon fill=\"black\" stroke=\"black\" points=\"223.86,-114.52 228.72,-105.11 219.05,-109.44 223.86,-114.52\"/>\n",
       "</g>\n",
       "<!-- 4 -->\n",
       "<g id=\"node3\" class=\"node\">\n",
       "<title>4</title>\n",
       "<ellipse fill=\"none\" stroke=\"black\" cx=\"318.63\" cy=\"-162\" rx=\"70.69\" ry=\"18\"/>\n",
       "<text text-anchor=\"middle\" x=\"318.63\" y=\"-158.3\" font-family=\"Times,serif\" font-size=\"14.00\">input cols=[]</text>\n",
       "</g>\n",
       "<!-- 4&#45;&gt;0 -->\n",
       "<g id=\"edge2\" class=\"edge\">\n",
       "<title>4&#45;&gt;0</title>\n",
       "<path fill=\"none\" stroke=\"black\" d=\"M300.86,-144.41C290.54,-134.78 277.44,-122.55 266.38,-112.23\"/>\n",
       "<polygon fill=\"black\" stroke=\"black\" points=\"268.45,-109.37 258.75,-105.11 263.67,-114.49 268.45,-109.37\"/>\n",
       "</g>\n",
       "<!-- 1 -->\n",
       "<g id=\"node4\" class=\"node\">\n",
       "<title>1</title>\n",
       "<ellipse fill=\"none\" stroke=\"black\" cx=\"169.63\" cy=\"-306\" rx=\"169.77\" ry=\"18\"/>\n",
       "<text text-anchor=\"middle\" x=\"169.63\" y=\"-302.3\" font-family=\"Times,serif\" font-size=\"14.00\">input cols=[tags_unique, movieId]</text>\n",
       "</g>\n",
       "<!-- 3 -->\n",
       "<g id=\"node5\" class=\"node\">\n",
       "<title>3</title>\n",
       "<ellipse fill=\"none\" stroke=\"black\" cx=\"169.63\" cy=\"-234\" rx=\"68.49\" ry=\"18\"/>\n",
       "<text text-anchor=\"middle\" x=\"169.63\" y=\"-230.3\" font-family=\"Times,serif\" font-size=\"14.00\">JoinExternal</text>\n",
       "</g>\n",
       "<!-- 1&#45;&gt;3 -->\n",
       "<g id=\"edge4\" class=\"edge\">\n",
       "<title>1&#45;&gt;3</title>\n",
       "<path fill=\"none\" stroke=\"black\" d=\"M169.63,-287.7C169.63,-279.98 169.63,-270.71 169.63,-262.11\"/>\n",
       "<polygon fill=\"black\" stroke=\"black\" points=\"173.14,-262.1 169.63,-252.1 166.14,-262.1 173.14,-262.1\"/>\n",
       "</g>\n",
       "<!-- 3&#45;&gt;2 -->\n",
       "<g id=\"edge3\" class=\"edge\">\n",
       "<title>3&#45;&gt;2</title>\n",
       "<path fill=\"none\" stroke=\"black\" d=\"M169.63,-215.7C169.63,-207.98 169.63,-198.71 169.63,-190.11\"/>\n",
       "<polygon fill=\"black\" stroke=\"black\" points=\"173.14,-190.1 169.63,-180.1 166.14,-190.1 173.14,-190.1\"/>\n",
       "</g>\n",
       "</g>\n",
       "</svg>\n"
      ],
      "text/plain": [
       "<graphviz.dot.Digraph at 0x7fe0e8f44b80>"
      ]
     },
     "execution_count": 25,
     "metadata": {},
     "output_type": "execute_result"
    }
   ],
   "source": [
    "output = cat_features + cont_features\n",
    "(output).graph"
   ]
  },
  {
   "cell_type": "code",
   "execution_count": 26,
   "id": "cellular-internet",
   "metadata": {},
   "outputs": [],
   "source": [
    "workflow = nvt.Workflow(output)"
   ]
  },
  {
   "cell_type": "code",
   "execution_count": 27,
   "id": "assigned-treasury",
   "metadata": {},
   "outputs": [
    {
     "name": "stdout",
     "output_type": "stream",
     "text": [
      "CPU times: user 364 ms, sys: 20.2 ms, total: 385 ms\n",
      "Wall time: 384 ms\n"
     ]
    }
   ],
   "source": [
    "%%time\n",
    "workflow.fit(tags_ds)"
   ]
  },
  {
   "cell_type": "code",
   "execution_count": 28,
   "id": "promotional-professor",
   "metadata": {},
   "outputs": [
    {
     "name": "stdout",
     "output_type": "stream",
     "text": [
      "CPU times: user 2 µs, sys: 0 ns, total: 2 µs\n",
      "Wall time: 2.62 µs\n"
     ]
    }
   ],
   "source": [
    "%time\n",
    "movie_features = workflow.transform(tags_ds)"
   ]
  },
  {
   "cell_type": "code",
   "execution_count": 29,
   "id": "interested-globe",
   "metadata": {},
   "outputs": [],
   "source": [
    "movie_features_ddf = movie_features.to_ddf()"
   ]
  },
  {
   "cell_type": "code",
   "execution_count": 30,
   "id": "numeric-crest",
   "metadata": {},
   "outputs": [
    {
     "data": {
      "text/html": [
       "<div>\n",
       "<style scoped>\n",
       "    .dataframe tbody tr th:only-of-type {\n",
       "        vertical-align: middle;\n",
       "    }\n",
       "\n",
       "    .dataframe tbody tr th {\n",
       "        vertical-align: top;\n",
       "    }\n",
       "\n",
       "    .dataframe thead th {\n",
       "        text-align: right;\n",
       "    }\n",
       "</style>\n",
       "<table border=\"1\" class=\"dataframe\">\n",
       "  <thead>\n",
       "    <tr style=\"text-align: right;\">\n",
       "      <th></th>\n",
       "      <th>movieId</th>\n",
       "      <th>genres</th>\n",
       "      <th>tags_unique</th>\n",
       "    </tr>\n",
       "  </thead>\n",
       "  <tbody>\n",
       "    <tr>\n",
       "      <th>0</th>\n",
       "      <td>1</td>\n",
       "      <td>[3, 4, 5, 6, 10]</td>\n",
       "      <td>[477, 581, 640, 1857, 2175, 2817, 3538, 4395, ...</td>\n",
       "    </tr>\n",
       "    <tr>\n",
       "      <th>1</th>\n",
       "      <td>2</td>\n",
       "      <td>[3, 5, 10]</td>\n",
       "      <td>[1206, 4448, 5069, 5213, 7883, 8912, 9116, 925...</td>\n",
       "    </tr>\n",
       "    <tr>\n",
       "      <th>2</th>\n",
       "      <td>3</td>\n",
       "      <td>[6, 16]</td>\n",
       "      <td>[2196, 4356, 4448, 6484, 11460, 12274, 17647, ...</td>\n",
       "    </tr>\n",
       "    <tr>\n",
       "      <th>3</th>\n",
       "      <td>4</td>\n",
       "      <td>[6, 9, 16]</td>\n",
       "      <td>[4448, 31525, 34749, 34981, 39134, 48169, 6086...</td>\n",
       "    </tr>\n",
       "    <tr>\n",
       "      <th>4</th>\n",
       "      <td>5</td>\n",
       "      <td>[6]</td>\n",
       "      <td>[4448, 5693, 6977, 8912, 23756, 25354, 28604, ...</td>\n",
       "    </tr>\n",
       "  </tbody>\n",
       "</table>\n",
       "</div>"
      ],
      "text/plain": [
       "   movieId            genres  \\\n",
       "0        1  [3, 4, 5, 6, 10]   \n",
       "1        2        [3, 5, 10]   \n",
       "2        3           [6, 16]   \n",
       "3        4        [6, 9, 16]   \n",
       "4        5               [6]   \n",
       "\n",
       "                                         tags_unique  \n",
       "0  [477, 581, 640, 1857, 2175, 2817, 3538, 4395, ...  \n",
       "1  [1206, 4448, 5069, 5213, 7883, 8912, 9116, 925...  \n",
       "2  [2196, 4356, 4448, 6484, 11460, 12274, 17647, ...  \n",
       "3  [4448, 31525, 34749, 34981, 39134, 48169, 6086...  \n",
       "4  [4448, 5693, 6977, 8912, 23756, 25354, 28604, ...  "
      ]
     },
     "execution_count": 30,
     "metadata": {},
     "output_type": "execute_result"
    }
   ],
   "source": [
    "movie_features_ddf.head()"
   ]
  },
  {
   "cell_type": "code",
   "execution_count": 31,
   "id": "magnetic-gospel",
   "metadata": {},
   "outputs": [],
   "source": [
    "movie_features.to_parquet(os.path.join(INPUT_DATA_DIR, \"movie_features.parquet\"))"
   ]
  }
 ],
 "metadata": {
  "kernelspec": {
   "display_name": "Python 3",
   "language": "python",
   "name": "python3"
  },
  "language_info": {
   "codemirror_mode": {
    "name": "ipython",
    "version": 3
   },
   "file_extension": ".py",
   "mimetype": "text/x-python",
   "name": "python",
   "nbconvert_exporter": "python",
   "pygments_lexer": "ipython3",
   "version": "3.8.8"
  }
 },
 "nbformat": 4,
 "nbformat_minor": 5
}
