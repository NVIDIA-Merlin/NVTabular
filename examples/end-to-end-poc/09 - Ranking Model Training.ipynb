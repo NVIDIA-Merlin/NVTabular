{
 "cells": [
  {
   "cell_type": "code",
   "execution_count": 1,
   "id": "prime-initial",
   "metadata": {},
   "outputs": [],
   "source": [
    "# Copyright 2021 NVIDIA Corporation. All Rights Reserved.\n",
    "#\n",
    "# Licensed under the Apache License, Version 2.0 (the \"License\");\n",
    "# you may not use this file except in compliance with the License.\n",
    "# You may obtain a copy of the License at\n",
    "#\n",
    "#     http://www.apache.org/licenses/LICENSE-2.0\n",
    "#\n",
    "# Unless required by applicable law or agreed to in writing, software\n",
    "# distributed under the License is distributed on an \"AS IS\" BASIS,\n",
    "# WITHOUT WARRANTIES OR CONDITIONS OF ANY KIND, either express or implied.\n",
    "# See the License for the specific language governing permissions and\n",
    "# limitations under the License.\n",
    "# =============================================================================="
   ]
  },
  {
   "cell_type": "code",
   "execution_count": 2,
   "id": "automatic-mitchell",
   "metadata": {},
   "outputs": [],
   "source": [
    "import os\n",
    "\n",
    "import cudf\n",
    "import rmm\n",
    "\n",
    "import nvtabular as nvt"
   ]
  },
  {
   "cell_type": "code",
   "execution_count": 3,
   "id": "banner-literature",
   "metadata": {},
   "outputs": [],
   "source": [
    "from merlin_models.tensorflow.models.retrieval import YouTubeDNN"
   ]
  },
  {
   "cell_type": "code",
   "execution_count": 4,
   "id": "asian-hindu",
   "metadata": {},
   "outputs": [],
   "source": [
    "rmm.reinitialize(managed_memory=True)"
   ]
  },
  {
   "cell_type": "code",
   "execution_count": 5,
   "id": "given-tribe",
   "metadata": {},
   "outputs": [],
   "source": [
    "INPUT_DATA_DIR = os.environ.get(\n",
    "    \"INPUT_DATA_DIR\", os.path.expanduser(\"./data/\")\n",
    ")\n",
    "MODEL_BASE_DIR = os.environ.get(\n",
    "    \"MODEL_BASE_DIR\", os.path.expanduser(\"./models/\")\n",
    ")\n",
    "MODEL_LOG_DIR = os.environ.get(\n",
    "    \"MODEL_LOG_DIR\", os.path.expanduser(\"./logs/\")\n",
    ")"
   ]
  },
  {
   "cell_type": "code",
   "execution_count": 6,
   "id": "starting-dream",
   "metadata": {},
   "outputs": [
    {
     "data": {
      "text/html": [
       "<div>\n",
       "<style scoped>\n",
       "    .dataframe tbody tr th:only-of-type {\n",
       "        vertical-align: middle;\n",
       "    }\n",
       "\n",
       "    .dataframe tbody tr th {\n",
       "        vertical-align: top;\n",
       "    }\n",
       "\n",
       "    .dataframe thead th {\n",
       "        text-align: right;\n",
       "    }\n",
       "</style>\n",
       "<table border=\"1\" class=\"dataframe\">\n",
       "  <thead>\n",
       "    <tr style=\"text-align: right;\">\n",
       "      <th></th>\n",
       "      <th>user_id</th>\n",
       "      <th>day</th>\n",
       "      <th>user_search_terms</th>\n",
       "      <th>user_genres</th>\n",
       "      <th>user_timestamps</th>\n",
       "      <th>user_movie_ids</th>\n",
       "      <th>user_movie_id_count</th>\n",
       "      <th>movie_tags_unique</th>\n",
       "      <th>movie_genres</th>\n",
       "      <th>movie_tags_nunique</th>\n",
       "      <th>movie_id</th>\n",
       "      <th>label</th>\n",
       "    </tr>\n",
       "  </thead>\n",
       "  <tbody>\n",
       "    <tr>\n",
       "      <th>55102</th>\n",
       "      <td>25690</td>\n",
       "      <td>2383</td>\n",
       "      <td>[40621, 64668]</td>\n",
       "      <td>[9, 6, 9]</td>\n",
       "      <td>[995542104, 995542222]</td>\n",
       "      <td>[3314, 3471]</td>\n",
       "      <td>2</td>\n",
       "      <td>[1423, 2817, 3607, 4050, 5274, 6224, 8530, 123...</td>\n",
       "      <td>[9, 15, 18]</td>\n",
       "      <td>98</td>\n",
       "      <td>2621</td>\n",
       "      <td>1</td>\n",
       "    </tr>\n",
       "    <tr>\n",
       "      <th>673186</th>\n",
       "      <td>85254</td>\n",
       "      <td>2855</td>\n",
       "      <td>[40952, 816, 57559, 48023, 52666, 18291, 2816,...</td>\n",
       "      <td>[6, 16, 4, 9, 10, 9, 2, 3, 6, 9, 16, 19, 6, 19...</td>\n",
       "      <td>[1036287980, 1036288019, 1036288083, 103628815...</td>\n",
       "      <td>[5192, 4768, 5723, 5685, 5688, 5690, 5691, 5634]</td>\n",
       "      <td>8</td>\n",
       "      <td>[457, 472, 3300, 3428, 4494, 11716, 13596, 184...</td>\n",
       "      <td>[7, 9]</td>\n",
       "      <td>38</td>\n",
       "      <td>4274</td>\n",
       "      <td>0</td>\n",
       "    </tr>\n",
       "    <tr>\n",
       "      <th>116216</th>\n",
       "      <td>45463</td>\n",
       "      <td>4900</td>\n",
       "      <td>[60889]</td>\n",
       "      <td>[9, 18]</td>\n",
       "      <td>[1212986201]</td>\n",
       "      <td>[3849]</td>\n",
       "      <td>1</td>\n",
       "      <td>[19263, 22052, 23714, 34063, 35238, 37615, 391...</td>\n",
       "      <td>[8, 14]</td>\n",
       "      <td>21</td>\n",
       "      <td>12353</td>\n",
       "      <td>1</td>\n",
       "    </tr>\n",
       "    <tr>\n",
       "      <th>604409</th>\n",
       "      <td>55998</td>\n",
       "      <td>7937</td>\n",
       "      <td>[45296]</td>\n",
       "      <td>[7, 9]</td>\n",
       "      <td>[1475418791]</td>\n",
       "      <td>[315]</td>\n",
       "      <td>1</td>\n",
       "      <td>[256, 2817, 3281, 3284, 3965, 5048, 6191, 9537...</td>\n",
       "      <td>[9, 16]</td>\n",
       "      <td>119</td>\n",
       "      <td>1641</td>\n",
       "      <td>0</td>\n",
       "    </tr>\n",
       "    <tr>\n",
       "      <th>11111</th>\n",
       "      <td>464</td>\n",
       "      <td>7627</td>\n",
       "      <td>[60020, 31525, 968, 2435, 57898, 52589, 36831,...</td>\n",
       "      <td>[3, 10, 3, 10, 2, 3, 17, 9, 11, 2, 3, 3, 6, 9,...</td>\n",
       "      <td>[1448668575, 1448668634, 1448668636, 144866863...</td>\n",
       "      <td>[4888, 5841, 258, 13358, 1169, 16830, 11446, 1...</td>\n",
       "      <td>15</td>\n",
       "      <td>[379, 389, 685, 721, 1136, 1266, 1916, 1964, 2...</td>\n",
       "      <td>[2, 3, 10]</td>\n",
       "      <td>92</td>\n",
       "      <td>2026</td>\n",
       "      <td>1</td>\n",
       "    </tr>\n",
       "  </tbody>\n",
       "</table>\n",
       "</div>"
      ],
      "text/plain": [
       "        user_id   day                                  user_search_terms  \\\n",
       "55102     25690  2383                                     [40621, 64668]   \n",
       "673186    85254  2855  [40952, 816, 57559, 48023, 52666, 18291, 2816,...   \n",
       "116216    45463  4900                                            [60889]   \n",
       "604409    55998  7937                                            [45296]   \n",
       "11111       464  7627  [60020, 31525, 968, 2435, 57898, 52589, 36831,...   \n",
       "\n",
       "                                              user_genres  \\\n",
       "55102                                           [9, 6, 9]   \n",
       "673186  [6, 16, 4, 9, 10, 9, 2, 3, 6, 9, 16, 19, 6, 19...   \n",
       "116216                                            [9, 18]   \n",
       "604409                                             [7, 9]   \n",
       "11111   [3, 10, 3, 10, 2, 3, 17, 9, 11, 2, 3, 3, 6, 9,...   \n",
       "\n",
       "                                          user_timestamps  \\\n",
       "55102                              [995542104, 995542222]   \n",
       "673186  [1036287980, 1036288019, 1036288083, 103628815...   \n",
       "116216                                       [1212986201]   \n",
       "604409                                       [1475418791]   \n",
       "11111   [1448668575, 1448668634, 1448668636, 144866863...   \n",
       "\n",
       "                                           user_movie_ids  \\\n",
       "55102                                        [3314, 3471]   \n",
       "673186   [5192, 4768, 5723, 5685, 5688, 5690, 5691, 5634]   \n",
       "116216                                             [3849]   \n",
       "604409                                              [315]   \n",
       "11111   [4888, 5841, 258, 13358, 1169, 16830, 11446, 1...   \n",
       "\n",
       "        user_movie_id_count  \\\n",
       "55102                     2   \n",
       "673186                    8   \n",
       "116216                    1   \n",
       "604409                    1   \n",
       "11111                    15   \n",
       "\n",
       "                                        movie_tags_unique movie_genres  \\\n",
       "55102   [1423, 2817, 3607, 4050, 5274, 6224, 8530, 123...  [9, 15, 18]   \n",
       "673186  [457, 472, 3300, 3428, 4494, 11716, 13596, 184...       [7, 9]   \n",
       "116216  [19263, 22052, 23714, 34063, 35238, 37615, 391...      [8, 14]   \n",
       "604409  [256, 2817, 3281, 3284, 3965, 5048, 6191, 9537...      [9, 16]   \n",
       "11111   [379, 389, 685, 721, 1136, 1266, 1916, 1964, 2...   [2, 3, 10]   \n",
       "\n",
       "        movie_tags_nunique  movie_id  label  \n",
       "55102                   98      2621      1  \n",
       "673186                  38      4274      0  \n",
       "116216                  21     12353      1  \n",
       "604409                 119      1641      0  \n",
       "11111                   92      2026      1  "
      ]
     },
     "execution_count": 6,
     "metadata": {},
     "output_type": "execute_result"
    }
   ],
   "source": [
    "examples = cudf.read_parquet(os.path.join(INPUT_DATA_DIR, \"ranking_training.parquet\"))\n",
    "examples.head()"
   ]
  },
  {
   "cell_type": "markdown",
   "id": "peripheral-testimony",
   "metadata": {},
   "source": [
    "## Hyper-parameters"
   ]
  },
  {
   "cell_type": "code",
   "execution_count": 7,
   "id": "registered-henry",
   "metadata": {},
   "outputs": [],
   "source": [
    "BATCH_SIZE = 512  # Batch Size\n",
    "CATEGORICAL_COLUMNS = [\"movie_id\"]  # Single-hot\n",
    "CATEGORICAL_MH_COLUMNS = [\"movie_tags_unique\", \"movie_genres\", \"user_search_terms\", \"user_genres\", \"user_movie_ids\"]  # Multi-hot\n",
    "NUMERIC_COLUMNS = [\"user_movie_id_count\", \"movie_tags_nunique\"]"
   ]
  },
  {
   "cell_type": "code",
   "execution_count": 8,
   "id": "controlling-cisco",
   "metadata": {},
   "outputs": [],
   "source": [
    "movie_workflow = nvt.Workflow.load(os.path.join(INPUT_DATA_DIR, \"movie_features_workflow\"))"
   ]
  },
  {
   "cell_type": "code",
   "execution_count": 9,
   "id": "nominated-uncle",
   "metadata": {},
   "outputs": [
    {
     "data": {
      "text/plain": [
       "{'movie_id': (62424, 512), 'tags_unique': (73051, 512), 'genres': (21, 16)}"
      ]
     },
     "execution_count": 9,
     "metadata": {},
     "output_type": "execute_result"
    }
   ],
   "source": [
    "EMBEDDING_TABLE_SHAPES, MH_EMBEDDING_TABLE_SHAPES = nvt.ops.get_embedding_sizes(movie_workflow)\n",
    "EMBEDDING_TABLE_SHAPES.update(MH_EMBEDDING_TABLE_SHAPES)\n",
    "EMBEDDING_TABLE_SHAPES"
   ]
  },
  {
   "cell_type": "code",
   "execution_count": 10,
   "id": "determined-commodity",
   "metadata": {},
   "outputs": [
    {
     "data": {
      "text/plain": [
       "{'movie_id': (62424, 512),\n",
       " 'genres': (21, 16),\n",
       " 'user_movie_ids': (62424, 512),\n",
       " 'movie_tags_unique': (73051, 512),\n",
       " 'user_search_terms': (73051, 512),\n",
       " 'movie_genres': (21, 16),\n",
       " 'user_genres': (21, 16)}"
      ]
     },
     "execution_count": 10,
     "metadata": {},
     "output_type": "execute_result"
    }
   ],
   "source": [
    "EMBEDDING_TABLE_SHAPES[\"user_movie_ids\"] = EMBEDDING_TABLE_SHAPES[\"movie_id\"]\n",
    "\n",
    "EMBEDDING_TABLE_SHAPES[\"movie_tags_unique\"] = EMBEDDING_TABLE_SHAPES[\"tags_unique\"]\n",
    "EMBEDDING_TABLE_SHAPES[\"user_search_terms\"] = EMBEDDING_TABLE_SHAPES[\"tags_unique\"]\n",
    "\n",
    "EMBEDDING_TABLE_SHAPES[\"movie_genres\"] = EMBEDDING_TABLE_SHAPES[\"genres\"]\n",
    "EMBEDDING_TABLE_SHAPES[\"user_genres\"] = EMBEDDING_TABLE_SHAPES[\"genres\"]\n",
    "\n",
    "EMBEDDING_TABLE_SHAPES.pop('tags_unique', None)\n",
    "EMBEDDING_TABLE_SHAPES"
   ]
  },
  {
   "cell_type": "markdown",
   "id": "stable-delaware",
   "metadata": {},
   "source": [
    "## DataLoader"
   ]
  },
  {
   "cell_type": "code",
   "execution_count": 11,
   "id": "lyric-minimum",
   "metadata": {},
   "outputs": [],
   "source": [
    "import os\n",
    "import tensorflow as tf\n",
    "\n",
    "# we can control how much memory to give tensorflow with this environment variable\n",
    "# IMPORTANT: make sure you do this before you initialize TF's runtime, otherwise\n",
    "# TF will have claimed all free GPU memory\n",
    "os.environ[\"TF_MEMORY_ALLOCATION\"] = \"0.7\"  # fraction of free memory\n",
    "from nvtabular.loader.tensorflow import KerasSequenceLoader, KerasSequenceValidater"
   ]
  },
  {
   "cell_type": "code",
   "execution_count": 12,
   "id": "incorrect-luxury",
   "metadata": {},
   "outputs": [],
   "source": [
    "train_dataset_tf = KerasSequenceLoader(\n",
    "    os.path.join(INPUT_DATA_DIR, \"ranking_training.parquet\"),  \n",
    "    batch_size=BATCH_SIZE,\n",
    "    label_names=[\"label\"],\n",
    "    cat_names=CATEGORICAL_COLUMNS + CATEGORICAL_MH_COLUMNS,\n",
    "    cont_names=NUMERIC_COLUMNS,\n",
    "    engine=\"parquet\",\n",
    "    shuffle=True,\n",
    "    buffer_size=0.25,\n",
    "    parts_per_chunk=1,\n",
    ")"
   ]
  },
  {
   "cell_type": "code",
   "execution_count": 13,
   "id": "668219be-d732-4e4b-931f-3c368e93fc13",
   "metadata": {},
   "outputs": [],
   "source": [
    "batch = next(iter(train_dataset_tf))"
   ]
  },
  {
   "cell_type": "code",
   "execution_count": 14,
   "id": "latter-department",
   "metadata": {},
   "outputs": [
    {
     "data": {
      "text/plain": [
       "[NumericColumn(key='user_movie_id_count', shape=(1,), default_value=None, dtype=tf.float32, normalizer_fn=None),\n",
       " NumericColumn(key='movie_tags_nunique', shape=(1,), default_value=None, dtype=tf.float32, normalizer_fn=None)]"
      ]
     },
     "execution_count": 14,
     "metadata": {},
     "output_type": "execute_result"
    }
   ],
   "source": [
    "continuous_cols = []\n",
    "\n",
    "for col in NUMERIC_COLUMNS:\n",
    "    continuous_cols.append(\n",
    "        tf.feature_column.numeric_column(col)\n",
    "    )\n",
    "    \n",
    "continuous_cols"
   ]
  },
  {
   "cell_type": "code",
   "execution_count": 15,
   "id": "8d54b9c1-df7e-4070-9cb0-d55097b2fc90",
   "metadata": {},
   "outputs": [
    {
     "data": {
      "text/plain": [
       "{'movie_id': (62424, 512),\n",
       " 'genres': (21, 16),\n",
       " 'user_movie_ids': (62424, 512),\n",
       " 'movie_tags_unique': (73051, 512),\n",
       " 'user_search_terms': (73051, 512),\n",
       " 'movie_genres': (21, 16),\n",
       " 'user_genres': (21, 16)}"
      ]
     },
     "execution_count": 15,
     "metadata": {},
     "output_type": "execute_result"
    }
   ],
   "source": [
    "EMBEDDING_TABLE_SHAPES"
   ]
  },
  {
   "cell_type": "code",
   "execution_count": 16,
   "id": "fifth-stuart",
   "metadata": {},
   "outputs": [
    {
     "data": {
      "text/plain": [
       "[IdentityCategoricalColumn(key='movie_id', number_buckets=62424, default_value=None),\n",
       " IdentityCategoricalColumn(key='movie_tags_unique', number_buckets=73051, default_value=None),\n",
       " IdentityCategoricalColumn(key='movie_genres', number_buckets=21, default_value=None),\n",
       " IdentityCategoricalColumn(key='user_search_terms', number_buckets=73051, default_value=None),\n",
       " IdentityCategoricalColumn(key='user_genres', number_buckets=21, default_value=None),\n",
       " IdentityCategoricalColumn(key='user_movie_ids', number_buckets=62424, default_value=None)]"
      ]
     },
     "execution_count": 16,
     "metadata": {},
     "output_type": "execute_result"
    }
   ],
   "source": [
    "categorical_cols = []\n",
    "\n",
    "for col in CATEGORICAL_COLUMNS + CATEGORICAL_MH_COLUMNS:\n",
    "    categorical_cols.append(\n",
    "        tf.feature_column.categorical_column_with_identity(\n",
    "            col, EMBEDDING_TABLE_SHAPES[col][0] # Cardinalities\n",
    "        )\n",
    "    )\n",
    "    \n",
    "categorical_cols"
   ]
  },
  {
   "cell_type": "code",
   "execution_count": 17,
   "id": "amber-sellers",
   "metadata": {},
   "outputs": [
    {
     "data": {
      "text/plain": [
       "{'movie_id': 128,\n",
       " 'genres': 128,\n",
       " 'user_movie_ids': 128,\n",
       " 'movie_tags_unique': 128,\n",
       " 'user_search_terms': 128,\n",
       " 'movie_genres': 128,\n",
       " 'user_genres': 128}"
      ]
     },
     "execution_count": 17,
     "metadata": {},
     "output_type": "execute_result"
    }
   ],
   "source": [
    "embedding_dims = {}\n",
    "\n",
    "for key, value in EMBEDDING_TABLE_SHAPES.items():\n",
    "    embedding_dims[key] = 128  #value[1] # Latent dimensions\n",
    "    \n",
    "embedding_dims"
   ]
  },
  {
   "cell_type": "code",
   "execution_count": 25,
   "id": "organized-script",
   "metadata": {},
   "outputs": [],
   "source": [
    "model = YouTubeDNN(continuous_cols, categorical_cols, embedding_dims=embedding_dims, hidden_dims=[512,256,128,1],activations=[\"swish\", \"swish\", \"swish\", \"sigmoid\"])"
   ]
  },
  {
   "cell_type": "code",
   "execution_count": 26,
   "id": "specified-contemporary",
   "metadata": {},
   "outputs": [],
   "source": [
    "model.compile(\"nadam\", \"binary_crossentropy\")"
   ]
  },
  {
   "cell_type": "code",
   "execution_count": 27,
   "id": "sophisticated-yesterday",
   "metadata": {},
   "outputs": [
    {
     "name": "stdout",
     "output_type": "stream",
     "text": [
      "Epoch 1/5\n",
      "1731/1731 [==============================] - 56s 28ms/step - loss: 3.2598\n",
      "Epoch 2/5\n",
      "1731/1731 [==============================] - 48s 25ms/step - loss: 0.6652\n",
      "Epoch 3/5\n",
      "1731/1731 [==============================] - 48s 25ms/step - loss: 0.6508\n",
      "Epoch 4/5\n",
      "1731/1731 [==============================] - 48s 25ms/step - loss: 0.6214\n",
      "Epoch 5/5\n",
      "1731/1731 [==============================] - 48s 25ms/step - loss: 0.6013\n"
     ]
    }
   ],
   "source": [
    "# validation_callback = KerasSequenceValidater(valid_dataset_tf)\n",
    "tensorboard_callback = tf.keras.callbacks.TensorBoard(log_dir=MODEL_LOG_DIR)\n",
    "\n",
    "history = model.fit(train_dataset_tf, callbacks=[tensorboard_callback], epochs=5)"
   ]
  },
  {
   "cell_type": "code",
   "execution_count": 28,
   "id": "realistic-causing",
   "metadata": {},
   "outputs": [
    {
     "name": "stdout",
     "output_type": "stream",
     "text": [
      "INFO:tensorflow:Assets written to: ./models/movielens_ranking_tf/1/model.savedmodel/assets\n"
     ]
    }
   ],
   "source": [
    "MODEL_NAME_TF = os.environ.get(\"MODEL_NAME_TF\", \"movielens_ranking_tf\")\n",
    "MODEL_PATH_TEMP_TF = os.path.join(MODEL_BASE_DIR, MODEL_NAME_TF, \"1/model.savedmodel\")\n",
    "\n",
    "model.save(MODEL_PATH_TEMP_TF)\n",
    "# tf.keras.models.save_model(model, MODEL_PATH_TEMP_TF)"
   ]
  },
  {
   "cell_type": "code",
   "execution_count": 29,
   "id": "758d1999-cfea-447b-82ff-5cb166f9404c",
   "metadata": {},
   "outputs": [
    {
     "name": "stdout",
     "output_type": "stream",
     "text": [
      "Model: \"you_tube_dnn_1\"\n",
      "_________________________________________________________________\n",
      "Layer (type)                 Output Shape              Param #   \n",
      "=================================================================\n",
      "dense_features_1 (DenseFeatu multiple                  34686976  \n",
      "_________________________________________________________________\n",
      "dense_4 (Dense)              multiple                  394752    \n",
      "_________________________________________________________________\n",
      "dense_5 (Dense)              multiple                  131328    \n",
      "_________________________________________________________________\n",
      "dense_6 (Dense)              multiple                  32896     \n",
      "_________________________________________________________________\n",
      "dense_7 (Dense)              multiple                  129       \n",
      "=================================================================\n",
      "Total params: 35,246,081\n",
      "Trainable params: 35,246,081\n",
      "Non-trainable params: 0\n",
      "_________________________________________________________________\n"
     ]
    }
   ],
   "source": [
    "model.summary()"
   ]
  },
  {
   "cell_type": "code",
   "execution_count": 30,
   "id": "solid-essay",
   "metadata": {},
   "outputs": [],
   "source": [
    "rmm.reinitialize(managed_memory=False)"
   ]
  },
  {
   "cell_type": "code",
   "execution_count": null,
   "id": "9d3ad9bf-a3fa-4dce-9d8e-f47221cf8546",
   "metadata": {},
   "outputs": [],
   "source": []
  }
 ],
 "metadata": {
  "kernelspec": {
   "display_name": "Python 3",
   "language": "python",
   "name": "python3"
  },
  "language_info": {
   "codemirror_mode": {
    "name": "ipython",
    "version": 3
   },
   "file_extension": ".py",
   "mimetype": "text/x-python",
   "name": "python",
   "nbconvert_exporter": "python",
   "pygments_lexer": "ipython3",
   "version": "3.8.5"
  }
 },
 "nbformat": 4,
 "nbformat_minor": 5
}
