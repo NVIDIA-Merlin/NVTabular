{
 "cells": [
  {
   "cell_type": "code",
   "execution_count": 1,
   "id": "prime-initial",
   "metadata": {},
   "outputs": [],
   "source": [
    "# Copyright 2021 NVIDIA Corporation. All Rights Reserved.\n",
    "#\n",
    "# Licensed under the Apache License, Version 2.0 (the \"License\");\n",
    "# you may not use this file except in compliance with the License.\n",
    "# You may obtain a copy of the License at\n",
    "#\n",
    "#     http://www.apache.org/licenses/LICENSE-2.0\n",
    "#\n",
    "# Unless required by applicable law or agreed to in writing, software\n",
    "# distributed under the License is distributed on an \"AS IS\" BASIS,\n",
    "# WITHOUT WARRANTIES OR CONDITIONS OF ANY KIND, either express or implied.\n",
    "# See the License for the specific language governing permissions and\n",
    "# limitations under the License.\n",
    "# =============================================================================="
   ]
  },
  {
   "cell_type": "code",
   "execution_count": 2,
   "id": "b4abed98-beb6-40cd-b387-6a5e2456ee47",
   "metadata": {},
   "outputs": [
    {
     "name": "stdout",
     "output_type": "stream",
     "text": [
      "Looking in indexes: https://pypi.org/simple, https://pypi.ngc.nvidia.com\n",
      "Requirement already satisfied: pymilvus-orm==2.0.0rc1 in /home/karl/miniconda3/envs/nvtabular_dev_11.0/lib/python3.8/site-packages (2.0.0rc1)\n",
      "Requirement already satisfied: pymilvus==2.0.0rc1 in /home/karl/miniconda3/envs/nvtabular_dev_11.0/lib/python3.8/site-packages (from pymilvus-orm==2.0.0rc1) (2.0.0rc1)\n",
      "Requirement already satisfied: pandas==1.2.4 in /home/karl/miniconda3/envs/nvtabular_dev_11.0/lib/python3.8/site-packages (from pymilvus-orm==2.0.0rc1) (1.2.4)\n",
      "Requirement already satisfied: python-dateutil>=2.7.3 in /home/karl/miniconda3/envs/nvtabular_dev_11.0/lib/python3.8/site-packages (from pandas==1.2.4->pymilvus-orm==2.0.0rc1) (2.8.1)\n",
      "Requirement already satisfied: pytz>=2017.3 in /home/karl/miniconda3/envs/nvtabular_dev_11.0/lib/python3.8/site-packages (from pandas==1.2.4->pymilvus-orm==2.0.0rc1) (2021.1)\n",
      "Requirement already satisfied: numpy>=1.16.5 in /home/karl/miniconda3/envs/nvtabular_dev_11.0/lib/python3.8/site-packages (from pandas==1.2.4->pymilvus-orm==2.0.0rc1) (1.19.5)\n",
      "Requirement already satisfied: ujson>=2.0.0 in /home/karl/miniconda3/envs/nvtabular_dev_11.0/lib/python3.8/site-packages (from pymilvus==2.0.0rc1->pymilvus-orm==2.0.0rc1) (4.0.2)\n",
      "Requirement already satisfied: grpcio-tools<1.38.0,>=1.22.0 in /home/karl/miniconda3/envs/nvtabular_dev_11.0/lib/python3.8/site-packages (from pymilvus==2.0.0rc1->pymilvus-orm==2.0.0rc1) (1.37.1)\n",
      "Requirement already satisfied: grpcio<1.38.0,>=1.22.0 in /home/karl/miniconda3/envs/nvtabular_dev_11.0/lib/python3.8/site-packages (from pymilvus==2.0.0rc1->pymilvus-orm==2.0.0rc1) (1.37.1)\n",
      "Requirement already satisfied: mmh3 in /home/karl/miniconda3/envs/nvtabular_dev_11.0/lib/python3.8/site-packages (from pymilvus==2.0.0rc1->pymilvus-orm==2.0.0rc1) (3.0.0)\n",
      "Requirement already satisfied: requests>=2.22.0 in /home/karl/miniconda3/envs/nvtabular_dev_11.0/lib/python3.8/site-packages (from pymilvus==2.0.0rc1->pymilvus-orm==2.0.0rc1) (2.25.1)\n",
      "Requirement already satisfied: six>=1.5.2 in /home/karl/miniconda3/envs/nvtabular_dev_11.0/lib/python3.8/site-packages (from grpcio<1.38.0,>=1.22.0->pymilvus==2.0.0rc1->pymilvus-orm==2.0.0rc1) (1.15.0)\n",
      "Requirement already satisfied: setuptools in /home/karl/miniconda3/envs/nvtabular_dev_11.0/lib/python3.8/site-packages (from grpcio-tools<1.38.0,>=1.22.0->pymilvus==2.0.0rc1->pymilvus-orm==2.0.0rc1) (52.0.0.post20210125)\n",
      "Requirement already satisfied: protobuf<4.0dev,>=3.5.0.post1 in /home/karl/miniconda3/envs/nvtabular_dev_11.0/lib/python3.8/site-packages (from grpcio-tools<1.38.0,>=1.22.0->pymilvus==2.0.0rc1->pymilvus-orm==2.0.0rc1) (3.16.0)\n",
      "Requirement already satisfied: urllib3<1.27,>=1.21.1 in /home/karl/miniconda3/envs/nvtabular_dev_11.0/lib/python3.8/site-packages (from requests>=2.22.0->pymilvus==2.0.0rc1->pymilvus-orm==2.0.0rc1) (1.26.5)\n",
      "Requirement already satisfied: idna<3,>=2.5 in /home/karl/miniconda3/envs/nvtabular_dev_11.0/lib/python3.8/site-packages (from requests>=2.22.0->pymilvus==2.0.0rc1->pymilvus-orm==2.0.0rc1) (2.10)\n",
      "Requirement already satisfied: certifi>=2017.4.17 in /home/karl/miniconda3/envs/nvtabular_dev_11.0/lib/python3.8/site-packages (from requests>=2.22.0->pymilvus==2.0.0rc1->pymilvus-orm==2.0.0rc1) (2021.5.30)\n",
      "Requirement already satisfied: chardet<5,>=3.0.2 in /home/karl/miniconda3/envs/nvtabular_dev_11.0/lib/python3.8/site-packages (from requests>=2.22.0->pymilvus==2.0.0rc1->pymilvus-orm==2.0.0rc1) (4.0.0)\n",
      "Note: you may need to restart the kernel to use updated packages.\n"
     ]
    }
   ],
   "source": [
    "%pip install pymilvus-orm==2.0.0rc1"
   ]
  },
  {
   "cell_type": "code",
   "execution_count": 3,
   "id": "automatic-mitchell",
   "metadata": {},
   "outputs": [],
   "source": [
    "import os\n",
    "\n",
    "import cudf\n",
    "import numpy as np\n",
    "import rmm\n",
    "\n",
    "from tensorflow import keras\n",
    "from tqdm import tqdm\n",
    "\n",
    "import nvtabular as nvt"
   ]
  },
  {
   "cell_type": "code",
   "execution_count": 4,
   "id": "banner-literature",
   "metadata": {},
   "outputs": [],
   "source": [
    "# from merlin_models.tensorflow.models.retrieval import YouTubeDNN"
   ]
  },
  {
   "cell_type": "code",
   "execution_count": 5,
   "id": "given-tribe",
   "metadata": {},
   "outputs": [],
   "source": [
    "INPUT_DATA_DIR = os.environ.get(\n",
    "    \"INPUT_DATA_DIR\", os.path.expanduser(\"./data/\")\n",
    ")\n",
    "MODEL_BASE_DIR = os.environ.get(\n",
    "    \"MODEL_BASE_DIR\", os.path.expanduser(\"./models/\")\n",
    ")"
   ]
  },
  {
   "cell_type": "code",
   "execution_count": 6,
   "id": "realistic-causing",
   "metadata": {},
   "outputs": [
    {
     "name": "stdout",
     "output_type": "stream",
     "text": [
      "WARNING:tensorflow:SavedModel saved prior to TF 2.5 detected when loading Keras model. Please ensure that you are saving the model with model.save() or tf.keras.models.save_model(), *NOT* tf.saved_model.save(). To confirm, there should be a file named \"keras_metadata.pb\" in the SavedModel directory.\n"
     ]
    },
    {
     "name": "stderr",
     "output_type": "stream",
     "text": [
      "WARNING:absl:Importing a function (__inference__wrapped_model_5625695) with ops with custom gradients. Will likely fail if a gradient is requested.\n",
      "WARNING:absl:Importing a function (__inference_dense_1_layer_call_and_return_conditional_losses_5628892) with ops with custom gradients. Will likely fail if a gradient is requested.\n",
      "WARNING:absl:Importing a function (__inference_dense_1_layer_call_and_return_conditional_losses_5626202) with ops with custom gradients. Will likely fail if a gradient is requested.\n",
      "WARNING:absl:Importing a function (__inference_dense_layer_call_and_return_conditional_losses_5626150) with ops with custom gradients. Will likely fail if a gradient is requested.\n",
      "WARNING:absl:Importing a function (__inference_you_tube_dnn_layer_call_and_return_conditional_losses_5627453) with ops with custom gradients. Will likely fail if a gradient is requested.\n",
      "WARNING:absl:Importing a function (__inference_dense_layer_call_and_return_conditional_losses_5628856) with ops with custom gradients. Will likely fail if a gradient is requested.\n",
      "WARNING:absl:Importing a function (__inference_you_tube_dnn_layer_call_and_return_conditional_losses_5628395) with ops with custom gradients. Will likely fail if a gradient is requested.\n",
      "WARNING:absl:Importing a function (__inference_you_tube_dnn_layer_call_and_return_conditional_losses_5627014) with ops with custom gradients. Will likely fail if a gradient is requested.\n",
      "WARNING:absl:Importing a function (__inference_you_tube_dnn_layer_call_and_return_conditional_losses_5627956) with ops with custom gradients. Will likely fail if a gradient is requested.\n",
      "WARNING:absl:Importing a function (__inference_dense_2_layer_call_and_return_conditional_losses_5628928) with ops with custom gradients. Will likely fail if a gradient is requested.\n",
      "WARNING:absl:Importing a function (__inference_dense_2_layer_call_and_return_conditional_losses_5626254) with ops with custom gradients. Will likely fail if a gradient is requested.\n"
     ]
    }
   ],
   "source": [
    "MODEL_NAME_TF = os.environ.get(\"MODEL_NAME_TF\", \"movielens_retrieval_tf\")\n",
    "MODEL_PATH_TEMP_TF = os.path.join(MODEL_BASE_DIR, MODEL_NAME_TF, \"1/model.savedmodel\")\n",
    "\n",
    "def sampled_softmax_loss(y_true, y_pred):\n",
    "    return tf.nn.sampled_softmax_loss(\n",
    "        weights=item_embeddings,\n",
    "        biases=tf.zeros((item_embeddings.shape[0],)),\n",
    "        labels=y_true,\n",
    "        inputs=y_pred,\n",
    "        num_sampled=20,\n",
    "        num_classes=item_embeddings.shape[0],\n",
    "    )\n",
    "\n",
    "model = keras.models.load_model(MODEL_PATH_TEMP_TF, custom_objects={\"sampled_softmax_loss\": sampled_softmax_loss})"
   ]
  },
  {
   "cell_type": "code",
   "execution_count": 7,
   "id": "e5ef77c6-a424-4b8d-8a03-ac86335850f3",
   "metadata": {},
   "outputs": [],
   "source": [
    "item_embeddings = model.input_layer.embedding_tables[\"movie_ids\"].numpy()"
   ]
  },
  {
   "cell_type": "code",
   "execution_count": 8,
   "id": "a00f01bd-b64e-4c54-b61f-3dec27657b5c",
   "metadata": {},
   "outputs": [
    {
     "data": {
      "text/plain": [
       "(62424, 128)"
      ]
     },
     "execution_count": 8,
     "metadata": {},
     "output_type": "execute_result"
    }
   ],
   "source": [
    "item_embeddings.shape"
   ]
  },
  {
   "cell_type": "code",
   "execution_count": 9,
   "id": "61a02bc0-8d0b-497f-940a-c365fea5d819",
   "metadata": {},
   "outputs": [],
   "source": [
    "# Connect to Milvus\n",
    "import pymilvus_orm\n",
    "from pymilvus_orm import schema, DataType, Collection"
   ]
  },
  {
   "cell_type": "code",
   "execution_count": 10,
   "id": "46d08288-0735-4067-8009-f6fddb8fa1de",
   "metadata": {},
   "outputs": [
    {
     "data": {
      "text/plain": [
       "<pymilvus.client.stub.Milvus at 0x7ff23c387340>"
      ]
     },
     "execution_count": 10,
     "metadata": {},
     "output_type": "execute_result"
    }
   ],
   "source": [
    "pymilvus_orm.connections.connect()"
   ]
  },
  {
   "cell_type": "code",
   "execution_count": 11,
   "id": "77fe8eb7-3511-455e-aef8-d7c5b8fbae41",
   "metadata": {},
   "outputs": [],
   "source": [
    "dim = 128\n",
    "default_fields = [\n",
    "    schema.FieldSchema(name=\"item_id\", dtype=DataType.INT64, is_primary=True),\n",
    "    schema.FieldSchema(name=\"item_vector\", dtype=DataType.FLOAT_VECTOR, dim=dim)\n",
    "]\n",
    "default_schema = schema.CollectionSchema(fields=default_fields, description=\"MovieLens item vectors\")\n",
    "\n",
    "collection_name = \"movielens_retrieval_tf\"\n",
    "collection = Collection(name=collection_name, data=None, schema=default_schema)"
   ]
  },
  {
   "cell_type": "code",
   "execution_count": 12,
   "id": "04af64ec-8005-4cb7-9242-7641238b6923",
   "metadata": {},
   "outputs": [
    {
     "data": {
      "text/plain": [
       "[{\"name\": \"_default\", \"description\": \"\", \"num_entities\": 0}]"
      ]
     },
     "execution_count": 12,
     "metadata": {},
     "output_type": "execute_result"
    }
   ],
   "source": [
    "collection.partitions"
   ]
  },
  {
   "cell_type": "code",
   "execution_count": 13,
   "id": "ea8f40cc-d887-4395-a17e-b6e199055dde",
   "metadata": {},
   "outputs": [],
   "source": [
    "item_ids = np.array(range(item_embeddings.shape[0]))\n",
    "item_vectors = [item_embeddings[i]/ np.sqrt(np.sum(item_embeddings[i]**2)) for i in item_ids]"
   ]
  },
  {
   "cell_type": "code",
   "execution_count": 14,
   "id": "17f348d4-3b2e-49e5-8752-c665d00b0238",
   "metadata": {},
   "outputs": [],
   "source": [
    "item_id_groups = np.array_split(item_ids, 1000)\n",
    "item_vector_groups = np.array_split(item_vectors, 1000)"
   ]
  },
  {
   "cell_type": "code",
   "execution_count": 15,
   "id": "3dfba587-8eec-425e-9585-552de9bb15a2",
   "metadata": {},
   "outputs": [
    {
     "data": {
      "text/plain": [
       "1000"
      ]
     },
     "execution_count": 15,
     "metadata": {},
     "output_type": "execute_result"
    }
   ],
   "source": [
    "len(item_id_groups)"
   ]
  },
  {
   "cell_type": "code",
   "execution_count": 16,
   "id": "77962710-287f-4873-bbdc-d1556f21b9a0",
   "metadata": {},
   "outputs": [
    {
     "name": "stderr",
     "output_type": "stream",
     "text": [
      "1000it [00:11, 87.95it/s]\n"
     ]
    }
   ],
   "source": [
    "# Insert vectors into collection\n",
    "for ids, vectors in tqdm(zip(item_id_groups, item_vector_groups)):\n",
    "    collection.insert([list(ids), list(vectors)])\n",
    "pymilvus_orm.utility.get_connection().flush([collection_name])"
   ]
  },
  {
   "cell_type": "code",
   "execution_count": 17,
   "id": "190d4253-3e4e-49d4-adaf-fa66cae8681d",
   "metadata": {},
   "outputs": [
    {
     "data": {
      "text/plain": [
       "Status(code=0, message='')"
      ]
     },
     "execution_count": 17,
     "metadata": {},
     "output_type": "execute_result"
    }
   ],
   "source": [
    "# Build index using product quantization\n",
    "# default_index = {\"index_type\": \"IVF_PQ\", \"params\": {\"nlist\": 8192, \"m\": 64}, \"metric_type\": \"IP\"}\n",
    "default_index = {\"index_type\": \"IVF_FLAT\", \"params\": {\"nlist\": 128}, \"metric_type\": \"IP\"}\n",
    "collection.create_index(field_name=\"item_vector\", index_params=default_index)"
   ]
  },
  {
   "cell_type": "code",
   "execution_count": 18,
   "id": "8a017012-3f13-41aa-ae89-f11dbbd549b3",
   "metadata": {},
   "outputs": [
    {
     "data": {
      "text/plain": [
       "[{\"name\": \"_default\", \"description\": \"\", \"num_entities\": 62424}]"
      ]
     },
     "execution_count": 18,
     "metadata": {},
     "output_type": "execute_result"
    }
   ],
   "source": [
    "collection.partitions"
   ]
  },
  {
   "cell_type": "code",
   "execution_count": 19,
   "id": "e7c3c650-8ae7-438a-947b-a68c894ac9f2",
   "metadata": {},
   "outputs": [],
   "source": [
    "# collection.drop_index()\n",
    "# collection.drop()"
   ]
  },
  {
   "cell_type": "code",
   "execution_count": 20,
   "id": "93df69b3-1f51-4c68-be0a-1f1c42ad0f4c",
   "metadata": {},
   "outputs": [],
   "source": [
    "collection.load()"
   ]
  },
  {
   "cell_type": "code",
   "execution_count": 21,
   "id": "be556de2-4f3f-4d77-b775-94e9cac32169",
   "metadata": {},
   "outputs": [
    {
     "data": {
      "text/plain": [
       "array([-0.31062913, -0.4289455 ,  0.24396195,  0.26398358, -0.3841409 ,\n",
       "        0.34630343, -0.4548074 ,  0.26321203, -0.45085925, -0.3827003 ,\n",
       "        0.26288456,  0.18450627,  0.31302097,  0.24035817, -0.8597852 ,\n",
       "        0.26624614,  0.2516488 ,  0.23955749, -0.56014144,  0.30333632,\n",
       "       -0.42345428,  0.30990636, -0.53592336, -0.4828622 ,  0.4123447 ,\n",
       "        0.33423057, -0.35016668,  0.31573853, -0.36890745, -0.4432149 ,\n",
       "        0.24892788,  0.3341653 , -0.5647062 , -0.43414497,  0.2669691 ,\n",
       "       -0.37266985, -0.18514106,  0.39805707,  0.1711441 ,  0.33105138,\n",
       "        0.2585441 ,  0.25489008,  0.21271987, -0.56644106,  0.34249297,\n",
       "        0.31677136,  0.23902795,  0.4251639 ,  0.26552078,  0.32625797,\n",
       "       -0.24719307,  0.34270865,  0.24732196, -0.40771168, -0.4178784 ,\n",
       "       -0.78579783,  0.24509811, -0.53588665,  0.41048205, -0.33893058,\n",
       "        0.28821918, -0.24842651,  0.26238173, -0.4987572 , -0.4171932 ,\n",
       "       -0.36096543,  0.16542494,  0.22025682, -0.62787   ,  0.40442643,\n",
       "        0.30502346,  0.26837146, -0.43679848, -0.4344155 , -0.32784015,\n",
       "        0.30562577,  0.28654176,  0.35965815,  0.36568993,  0.29219362,\n",
       "        0.21820721,  0.17163457, -0.32584867, -0.5069331 ,  0.2691284 ,\n",
       "       -0.5187009 ,  0.3549682 , -0.47591713, -0.39269602, -0.51720923,\n",
       "       -0.7187154 ,  0.2713833 , -0.4193057 , -0.29102424,  0.21161178,\n",
       "       -0.45471373, -0.37082857,  0.3616089 , -0.34138748, -0.7331045 ,\n",
       "        0.36171234, -0.5339269 , -0.36595815,  0.16276105, -0.6202576 ,\n",
       "       -0.6412535 , -0.505021  ,  0.26525894,  0.30119938, -0.5819362 ,\n",
       "        0.31730536, -0.40759772,  0.26549584,  0.28258252, -0.42890453,\n",
       "       -0.63668525,  0.34486058, -0.5195996 , -0.3509252 ,  0.32164294,\n",
       "        0.2514653 ,  0.2914299 , -0.63362813,  0.28392696,  0.31188542,\n",
       "       -0.32231975, -0.8408323 ,  0.34564784], dtype=float32)"
      ]
     },
     "execution_count": 21,
     "metadata": {},
     "output_type": "execute_result"
    }
   ],
   "source": [
    "item_embeddings[0]"
   ]
  },
  {
   "cell_type": "code",
   "execution_count": 22,
   "id": "536ded7f-4160-49fa-b368-0a08a4a90b60",
   "metadata": {},
   "outputs": [],
   "source": [
    "topK = 100\n",
    "search_params = {\"metric_type\": \"IP\", \"params\": {\"nprobe\": 2048}}\n",
    "res = collection.search([item_vectors[0]], \"item_vector\", search_params, topK)"
   ]
  },
  {
   "cell_type": "code",
   "execution_count": 23,
   "id": "d782e947-4204-4e9d-aea5-cf9e30505f7b",
   "metadata": {},
   "outputs": [
    {
     "data": {
      "text/plain": [
       "<pymilvus_orm.search.SearchResult at 0x7ff23c3420d0>"
      ]
     },
     "execution_count": 23,
     "metadata": {},
     "output_type": "execute_result"
    }
   ],
   "source": [
    "res"
   ]
  },
  {
   "cell_type": "code",
   "execution_count": 24,
   "id": "a81f158c-ae2e-4b99-9235-1e56cf8118ad",
   "metadata": {},
   "outputs": [
    {
     "name": "stdout",
     "output_type": "stream",
     "text": [
      "0, 1.0, 1.0\n",
      "51, 0.9666732549667358, 0.9666732549667358\n",
      "703, 0.9582085609436035, 0.9582085609436035\n",
      "3017, 0.9579051733016968, 0.9579051733016968\n",
      "938, 0.9577622413635254, 0.9577622413635254\n",
      "1280, 0.9568179845809937, 0.9568179845809937\n",
      "5818, 0.9567961692810059, 0.9567961692810059\n",
      "8358, 0.9565551280975342, 0.9565551280975342\n",
      "8719, 0.9563549757003784, 0.9563549757003784\n",
      "1129, 0.956012487411499, 0.956012487411499\n",
      "2110, 0.9553396701812744, 0.9553396701812744\n",
      "52948, 0.9548351168632507, 0.9548351168632507\n",
      "27415, 0.9548328518867493, 0.9548328518867493\n",
      "2039, 0.9532161951065063, 0.9532161951065063\n",
      "9876, 0.9532091021537781, 0.9532091021537781\n",
      "13752, 0.9527285099029541, 0.9527285099029541\n",
      "8317, 0.9524883031845093, 0.9524883031845093\n",
      "2086, 0.952184796333313, 0.952184796333313\n",
      "5133, 0.9518344402313232, 0.9518344402313232\n",
      "3662, 0.951751708984375, 0.951751708984375\n",
      "4157, 0.9514551162719727, 0.9514551162719727\n",
      "6806, 0.9511220455169678, 0.9511220455169678\n",
      "5609, 0.9509130716323853, 0.9509130716323853\n",
      "7497, 0.9504063129425049, 0.9504063129425049\n",
      "941, 0.9502098560333252, 0.9502098560333252\n",
      "7284, 0.9500491619110107, 0.9500491619110107\n",
      "9811, 0.9499094486236572, 0.9499094486236572\n",
      "5168, 0.9492987394332886, 0.9492987394332886\n",
      "8783, 0.9491076469421387, 0.9491076469421387\n",
      "3580, 0.9489450454711914, 0.9489450454711914\n",
      "12371, 0.9488298892974854, 0.9488298892974854\n",
      "7984, 0.9486944079399109, 0.9486944079399109\n",
      "954, 0.948534369468689, 0.948534369468689\n",
      "4476, 0.9484813213348389, 0.9484813213348389\n",
      "2572, 0.948301374912262, 0.948301374912262\n",
      "6561, 0.948249340057373, 0.948249340057373\n",
      "9012, 0.9480487704277039, 0.9480487704277039\n",
      "8029, 0.9479809403419495, 0.9479809403419495\n",
      "10974, 0.9479451179504395, 0.9479451179504395\n",
      "3123, 0.9478909969329834, 0.9478909969329834\n",
      "2501, 0.9477994441986084, 0.9477994441986084\n",
      "2336, 0.9476566314697266, 0.9476566314697266\n",
      "13392, 0.9475953578948975, 0.9475953578948975\n",
      "854, 0.9475866556167603, 0.9475866556167603\n",
      "5071, 0.9475537538528442, 0.9475537538528442\n",
      "6429, 0.9472534656524658, 0.9472534656524658\n",
      "1506, 0.9472008943557739, 0.9472008943557739\n",
      "3592, 0.947179913520813, 0.947179913520813\n",
      "19327, 0.9471770524978638, 0.9471770524978638\n",
      "7309, 0.9471057057380676, 0.9471057057380676\n",
      "6719, 0.9470784664154053, 0.9470784664154053\n",
      "3680, 0.9468339681625366, 0.9468339681625366\n",
      "5871, 0.9467722177505493, 0.9467722177505493\n",
      "3231, 0.9467685222625732, 0.9467685222625732\n",
      "4477, 0.9467610120773315, 0.9467610120773315\n",
      "1630, 0.9466513395309448, 0.9466513395309448\n",
      "1834, 0.9466481804847717, 0.9466481804847717\n",
      "8106, 0.9465764760971069, 0.9465764760971069\n",
      "9597, 0.9463757276535034, 0.9463757276535034\n",
      "2973, 0.9462342262268066, 0.9462342262268066\n",
      "5011, 0.9461736679077148, 0.9461736679077148\n",
      "7565, 0.946151077747345, 0.946151077747345\n",
      "12304, 0.9461197257041931, 0.9461197257041931\n",
      "6515, 0.9459669589996338, 0.9459669589996338\n",
      "11096, 0.9459563493728638, 0.9459563493728638\n",
      "3674, 0.9459515810012817, 0.9459515810012817\n",
      "7095, 0.9459453821182251, 0.9459453821182251\n",
      "1431, 0.9458469152450562, 0.9458469152450562\n",
      "7705, 0.9457046985626221, 0.9457046985626221\n",
      "20701, 0.9456777572631836, 0.9456777572631836\n",
      "9684, 0.9456722736358643, 0.9456722736358643\n",
      "9435, 0.9456019401550293, 0.9456019401550293\n",
      "8767, 0.9453480243682861, 0.9453480243682861\n",
      "7421, 0.9453274607658386, 0.9453274607658386\n",
      "3307, 0.9453242421150208, 0.9453242421150208\n",
      "11710, 0.9452515244483948, 0.9452515244483948\n",
      "5427, 0.9451823234558105, 0.9451823234558105\n",
      "1764, 0.9451796412467957, 0.9451796412467957\n",
      "211, 0.9451373815536499, 0.9451373815536499\n",
      "21649, 0.9451172947883606, 0.9451172947883606\n",
      "10212, 0.9450901746749878, 0.9450901746749878\n",
      "7992, 0.9449825882911682, 0.9449825882911682\n",
      "16626, 0.9448350667953491, 0.9448350667953491\n",
      "32125, 0.9447534084320068, 0.9447534084320068\n",
      "5163, 0.9447195529937744, 0.9447195529937744\n",
      "5981, 0.9446567296981812, 0.9446567296981812\n",
      "2843, 0.9446310997009277, 0.9446310997009277\n",
      "3491, 0.9446244239807129, 0.9446244239807129\n",
      "12521, 0.9444854259490967, 0.9444854259490967\n",
      "6551, 0.9444485902786255, 0.9444485902786255\n",
      "44970, 0.9444252848625183, 0.9444252848625183\n",
      "13027, 0.9443873167037964, 0.9443873167037964\n",
      "4915, 0.9441349506378174, 0.9441349506378174\n",
      "748, 0.9441318511962891, 0.9441318511962891\n",
      "9157, 0.9441202282905579, 0.9441202282905579\n",
      "6047, 0.9441150426864624, 0.9441150426864624\n",
      "3279, 0.9440732002258301, 0.9440732002258301\n",
      "6989, 0.944058895111084, 0.944058895111084\n",
      "14723, 0.9440416097640991, 0.9440416097640991\n",
      "13960, 0.9440368413925171, 0.9440368413925171\n"
     ]
    }
   ],
   "source": [
    "for hits in res:\n",
    "    for h in hits:\n",
    "        print(f\"{h.id}, {h.distance}, {h.score}\")"
   ]
  },
  {
   "cell_type": "code",
   "execution_count": 25,
   "id": "f91e4cb3-f3ae-4005-a8ca-18bc85aedb12",
   "metadata": {},
   "outputs": [],
   "source": [
    "collection.release()"
   ]
  },
  {
   "cell_type": "code",
   "execution_count": 26,
   "id": "be5778a3-c90c-48ef-8e77-6ce539f51b70",
   "metadata": {},
   "outputs": [],
   "source": [
    "# collection.drop_index()\n",
    "# collection.drop()"
   ]
  },
  {
   "cell_type": "code",
   "execution_count": null,
   "id": "9591e468-9362-4b00-b14d-4f9f06fde120",
   "metadata": {},
   "outputs": [],
   "source": []
  }
 ],
 "metadata": {
  "kernelspec": {
   "display_name": "Python 3",
   "language": "python",
   "name": "python3"
  },
  "language_info": {
   "codemirror_mode": {
    "name": "ipython",
    "version": 3
   },
   "file_extension": ".py",
   "mimetype": "text/x-python",
   "name": "python",
   "nbconvert_exporter": "python",
   "pygments_lexer": "ipython3",
   "version": "3.8.10"
  }
 },
 "nbformat": 4,
 "nbformat_minor": 5
}
