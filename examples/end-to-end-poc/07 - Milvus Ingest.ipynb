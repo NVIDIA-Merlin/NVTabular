{
 "cells": [
  {
   "cell_type": "code",
   "execution_count": 1,
   "id": "prime-initial",
   "metadata": {},
   "outputs": [],
   "source": [
    "# Copyright 2021 NVIDIA Corporation. All Rights Reserved.\n",
    "#\n",
    "# Licensed under the Apache License, Version 2.0 (the \"License\");\n",
    "# you may not use this file except in compliance with the License.\n",
    "# You may obtain a copy of the License at\n",
    "#\n",
    "#     http://www.apache.org/licenses/LICENSE-2.0\n",
    "#\n",
    "# Unless required by applicable law or agreed to in writing, software\n",
    "# distributed under the License is distributed on an \"AS IS\" BASIS,\n",
    "# WITHOUT WARRANTIES OR CONDITIONS OF ANY KIND, either express or implied.\n",
    "# See the License for the specific language governing permissions and\n",
    "# limitations under the License.\n",
    "# =============================================================================="
   ]
  },
  {
   "cell_type": "code",
   "execution_count": 2,
   "id": "automatic-mitchell",
   "metadata": {},
   "outputs": [],
   "source": [
    "import os\n",
    "\n",
    "import cudf\n",
    "import rmm\n",
    "from tensorflow import keras\n",
    "\n",
    "import nvtabular as nvt"
   ]
  },
  {
   "cell_type": "code",
   "execution_count": 3,
   "id": "banner-literature",
   "metadata": {},
   "outputs": [],
   "source": [
    "# from merlin_models.tensorflow.models.retrieval import YouTubeDNN"
   ]
  },
  {
   "cell_type": "code",
   "execution_count": 4,
   "id": "given-tribe",
   "metadata": {},
   "outputs": [],
   "source": [
    "INPUT_DATA_DIR = os.environ.get(\n",
    "    \"INPUT_DATA_DIR\", os.path.expanduser(\"./data/\")\n",
    ")\n",
    "MODEL_BASE_DIR = os.environ.get(\n",
    "    \"MODEL_BASE_DIR\", os.path.expanduser(\"./models/\")\n",
    ")"
   ]
  },
  {
   "cell_type": "code",
   "execution_count": 5,
   "id": "realistic-causing",
   "metadata": {},
   "outputs": [],
   "source": [
    "MODEL_NAME_TF = os.environ.get(\"MODEL_NAME_TF\", \"movielens_retrieval_tf\")\n",
    "MODEL_PATH_TEMP_TF = os.path.join(MODEL_BASE_DIR, MODEL_NAME_TF, \"1/model.savedmodel\")\n",
    "\n",
    "def sampled_softmax_loss(y_true, y_pred):\n",
    "    return tf.nn.sampled_softmax_loss(\n",
    "        weights=item_embeddings,\n",
    "        biases=tf.zeros((item_embeddings.shape[0],)),\n",
    "        labels=y_true,\n",
    "        inputs=y_pred,\n",
    "        num_sampled=20,\n",
    "        num_classes=item_embeddings.shape[0],\n",
    "    )\n",
    "\n",
    "model = keras.models.load_model(MODEL_PATH_TEMP_TF, custom_objects={\"sampled_softmax_loss\": sampled_softmax_loss})"
   ]
  },
  {
   "cell_type": "code",
   "execution_count": 15,
   "id": "e5ef77c6-a424-4b8d-8a03-ac86335850f3",
   "metadata": {},
   "outputs": [
    {
     "data": {
      "text/plain": [
       "array([[-1.82572678e-02, -7.22970217e-02, -1.66036021e-02, ...,\n",
       "        -3.73224229e-01, -2.28869040e-02, -2.40866601e-01],\n",
       "       [-1.19940303e-01,  1.65193588e-01, -1.10976525e-01, ...,\n",
       "         3.20175916e-01, -2.75454193e-01,  8.93029273e-02],\n",
       "       [-1.96990877e-01,  1.04352841e-02, -1.91766590e-01, ...,\n",
       "         2.46757627e-01, -2.81902462e-01,  2.44285036e-02],\n",
       "       ...,\n",
       "       [ 3.97796324e-03, -1.07903769e-02,  6.37699105e-03, ...,\n",
       "        -2.49420106e-03, -1.08170928e-02, -3.63471918e-03],\n",
       "       [-1.08442246e-03,  3.19797080e-03, -2.84928526e-03, ...,\n",
       "        -5.60011948e-04,  1.45310897e-03,  1.51821936e-03],\n",
       "       [-7.40269490e-04, -2.22443463e-03,  3.06616239e-05, ...,\n",
       "        -1.23117846e-02, -4.94043203e-03, -2.20183432e-02]], dtype=float32)"
      ]
     },
     "execution_count": 15,
     "metadata": {},
     "output_type": "execute_result"
    }
   ],
   "source": [
    "item_embeddings = model.input_layer.embedding_tables[\"movie_ids\"].numpy()\n",
    "item_embeddings"
   ]
  },
  {
   "cell_type": "code",
   "execution_count": 19,
   "id": "a00f01bd-b64e-4c54-b61f-3dec27657b5c",
   "metadata": {},
   "outputs": [
    {
     "data": {
      "text/plain": [
       "(62424, 128)"
      ]
     },
     "execution_count": 19,
     "metadata": {},
     "output_type": "execute_result"
    }
   ],
   "source": [
    "item_embeddings.shape"
   ]
  },
  {
   "cell_type": "code",
   "execution_count": 18,
   "id": "61a02bc0-8d0b-497f-940a-c365fea5d819",
   "metadata": {},
   "outputs": [],
   "source": [
    "# Connect to Milvus\n",
    "from milvus import Milvus, IndexType, MetricType, Status\n",
    "milvus = Milvus(host='localhost', port='19530')"
   ]
  },
  {
   "cell_type": "code",
   "execution_count": 20,
   "id": "f1cf5690-2c55-4a31-976f-222e0b0b4179",
   "metadata": {},
   "outputs": [
    {
     "data": {
      "text/plain": [
       "Status(code=0, message='Create collection successfully!')"
      ]
     },
     "execution_count": 20,
     "metadata": {},
     "output_type": "execute_result"
    }
   ],
   "source": [
    "# Create a Milvus collection\n",
    "param = {'collection_name':'movielens_items', 'dimension':128, 'index_file_size':1024, 'metric_type':MetricType.L2}\n",
    "milvus.create_collection(param)"
   ]
  },
  {
   "cell_type": "code",
   "execution_count": null,
   "id": "6bfe6793-ce33-4479-a7d3-0f8c99ef70d8",
   "metadata": {},
   "outputs": [],
   "source": [
    "# Create partitions\n",
    "\n",
    "# milvus.create_partition('test01', 'tag01')"
   ]
  },
  {
   "cell_type": "code",
   "execution_count": 23,
   "id": "fc06e67e-9955-4129-8fff-7421aa66e734",
   "metadata": {},
   "outputs": [],
   "source": [
    "# Insert vectors into collection\n",
    "\n",
    "item_ids = list(range(item_embeddings.shape[0]))\n",
    "status = milvus.insert(collection_name='movielens_items', records=item_embeddings, ids=item_ids)"
   ]
  },
  {
   "cell_type": "code",
   "execution_count": 9,
   "id": "c116e652-e519-4073-b2e8-aa07bc726c50",
   "metadata": {},
   "outputs": [],
   "source": [
    "# TODO: Test a nearest neighbor query"
   ]
  },
  {
   "cell_type": "code",
   "execution_count": 31,
   "id": "2e4790e9-400b-42bd-b306-1b37caf34c6a",
   "metadata": {},
   "outputs": [],
   "source": [
    "# Search a collection\n",
    "import random\n",
    "\n",
    "q_records = item_embeddings[[random.choice(item_ids) for _ in range(5)]]"
   ]
  },
  {
   "cell_type": "code",
   "execution_count": 32,
   "id": "8cd059ad-1b08-43a5-b5bd-93084712fea4",
   "metadata": {},
   "outputs": [
    {
     "data": {
      "text/plain": [
       "(Status(code=0, message='Search vectors successfully!'),\n",
       " [\n",
       " [\n",
       " (id:48373, distance:0.0),\n",
       " (id:48373, distance:0.0),\n",
       " (id:60339, distance:0.006392437964677811),\n",
       " (id:60339, distance:0.006392437964677811),\n",
       " (id:56017, distance:0.006486162543296814),\n",
       " (id:56017, distance:0.006486162543296814),\n",
       " (id:57837, distance:0.006511373445391655),\n",
       " (id:57837, distance:0.006511373445391655),\n",
       " (id:34449, distance:0.00652097025886178),\n",
       " (id:34449, distance:0.00652097025886178)\n",
       " ],\n",
       " [\n",
       " (id:57167, distance:0.0),\n",
       " (id:57167, distance:0.0),\n",
       " (id:24828, distance:0.005453018471598625),\n",
       " (id:24828, distance:0.005453018471598625),\n",
       " (id:57032, distance:0.0056641618721187115),\n",
       " (id:57032, distance:0.0056641618721187115),\n",
       " (id:27950, distance:0.00574270635843277),\n",
       " (id:27950, distance:0.00574270635843277),\n",
       " (id:30908, distance:0.005797192454338074),\n",
       " (id:30908, distance:0.005797192454338074)\n",
       " ],\n",
       " [\n",
       " (id:28216, distance:0.0),\n",
       " (id:28216, distance:0.0),\n",
       " (id:19616, distance:0.0066065192222595215),\n",
       " (id:19616, distance:0.0066065192222595215),\n",
       " (id:13299, distance:0.0066379522904753685),\n",
       " (id:13299, distance:0.0066379522904753685),\n",
       " (id:43154, distance:0.0068114022724330425),\n",
       " (id:43154, distance:0.0068114022724330425),\n",
       " (id:34184, distance:0.007016889750957489),\n",
       " (id:34184, distance:0.007016889750957489)\n",
       " ],\n",
       " [\n",
       " (id:4377, distance:0.0),\n",
       " (id:4377, distance:0.0),\n",
       " (id:3715, distance:0.02841472439467907),\n",
       " (id:3715, distance:0.02841472439467907),\n",
       " (id:3711, distance:0.028638219460844994),\n",
       " (id:3711, distance:0.028638219460844994),\n",
       " (id:2685, distance:0.029732543975114822),\n",
       " (id:2685, distance:0.029732543975114822),\n",
       " (id:4431, distance:0.031412892043590546),\n",
       " (id:4431, distance:0.031412892043590546)\n",
       " ],\n",
       " [\n",
       " (id:15703, distance:0.0),\n",
       " (id:15703, distance:0.0),\n",
       " (id:52759, distance:0.005267104133963585),\n",
       " (id:52759, distance:0.005267104133963585),\n",
       " (id:51392, distance:0.005585508421063423),\n",
       " (id:51392, distance:0.005585508421063423),\n",
       " (id:55658, distance:0.005637055262923241),\n",
       " (id:55658, distance:0.005637055262923241),\n",
       " (id:28746, distance:0.00580547284334898),\n",
       " (id:28746, distance:0.00580547284334898)\n",
       " ]\n",
       " ])"
      ]
     },
     "execution_count": 32,
     "metadata": {},
     "output_type": "execute_result"
    }
   ],
   "source": [
    "search_param = {'nprobe': 16}\n",
    "milvus.search(collection_name='movielens_items', query_records=q_records, top_k=10, params=search_param)"
   ]
  }
 ],
 "metadata": {
  "kernelspec": {
   "display_name": "nvt11.2",
   "language": "python",
   "name": "nvt11.2"
  },
  "language_info": {
   "codemirror_mode": {
    "name": "ipython",
    "version": 3
   },
   "file_extension": ".py",
   "mimetype": "text/x-python",
   "name": "python",
   "nbconvert_exporter": "python",
   "pygments_lexer": "ipython3",
   "version": "3.8.10"
  }
 },
 "nbformat": 4,
 "nbformat_minor": 5
}
