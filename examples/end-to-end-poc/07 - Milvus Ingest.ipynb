{
 "cells": [
  {
   "cell_type": "code",
   "execution_count": 1,
   "id": "prime-initial",
   "metadata": {},
   "outputs": [],
   "source": [
    "# Copyright 2021 NVIDIA Corporation. All Rights Reserved.\n",
    "#\n",
    "# Licensed under the Apache License, Version 2.0 (the \"License\");\n",
    "# you may not use this file except in compliance with the License.\n",
    "# You may obtain a copy of the License at\n",
    "#\n",
    "#     http://www.apache.org/licenses/LICENSE-2.0\n",
    "#\n",
    "# Unless required by applicable law or agreed to in writing, software\n",
    "# distributed under the License is distributed on an \"AS IS\" BASIS,\n",
    "# WITHOUT WARRANTIES OR CONDITIONS OF ANY KIND, either express or implied.\n",
    "# See the License for the specific language governing permissions and\n",
    "# limitations under the License.\n",
    "# =============================================================================="
   ]
  },
  {
   "cell_type": "code",
   "execution_count": 2,
   "id": "automatic-mitchell",
   "metadata": {},
   "outputs": [],
   "source": [
    "import os\n",
    "\n",
    "import cudf\n",
    "import numpy as np\n",
    "import rmm\n",
    "from tensorflow import keras\n",
    "\n",
    "import nvtabular as nvt"
   ]
  },
  {
   "cell_type": "code",
   "execution_count": 3,
   "id": "banner-literature",
   "metadata": {},
   "outputs": [],
   "source": [
    "# from merlin_models.tensorflow.models.retrieval import YouTubeDNN"
   ]
  },
  {
   "cell_type": "code",
   "execution_count": 4,
   "id": "given-tribe",
   "metadata": {},
   "outputs": [],
   "source": [
    "INPUT_DATA_DIR = os.environ.get(\n",
    "    \"INPUT_DATA_DIR\", os.path.expanduser(\"./data/\")\n",
    ")\n",
    "MODEL_BASE_DIR = os.environ.get(\n",
    "    \"MODEL_BASE_DIR\", os.path.expanduser(\"./models/\")\n",
    ")"
   ]
  },
  {
   "cell_type": "code",
   "execution_count": 5,
   "id": "realistic-causing",
   "metadata": {},
   "outputs": [
    {
     "name": "stdout",
     "output_type": "stream",
     "text": [
      "WARNING:tensorflow:SavedModel saved prior to TF 2.5 detected when loading Keras model. Please ensure that you are saving the model with model.save() or tf.keras.models.save_model(), *NOT* tf.saved_model.save(). To confirm, there should be a file named \"keras_metadata.pb\" in the SavedModel directory.\n"
     ]
    },
    {
     "name": "stderr",
     "output_type": "stream",
     "text": [
      "WARNING:absl:Importing a function (__inference_you_tube_dnn_layer_call_and_return_conditional_losses_6643258) with ops with custom gradients. Will likely fail if a gradient is requested.\n",
      "WARNING:absl:Importing a function (__inference__wrapped_model_6640558) with ops with custom gradients. Will likely fail if a gradient is requested.\n",
      "WARNING:absl:Importing a function (__inference_dense_2_layer_call_and_return_conditional_losses_6643791) with ops with custom gradients. Will likely fail if a gradient is requested.\n",
      "WARNING:absl:Importing a function (__inference_dense_2_layer_call_and_return_conditional_losses_6641117) with ops with custom gradients. Will likely fail if a gradient is requested.\n",
      "WARNING:absl:Importing a function (__inference_you_tube_dnn_layer_call_and_return_conditional_losses_6642819) with ops with custom gradients. Will likely fail if a gradient is requested.\n",
      "WARNING:absl:Importing a function (__inference_dense_1_layer_call_and_return_conditional_losses_6643755) with ops with custom gradients. Will likely fail if a gradient is requested.\n",
      "WARNING:absl:Importing a function (__inference_dense_layer_call_and_return_conditional_losses_6643719) with ops with custom gradients. Will likely fail if a gradient is requested.\n",
      "WARNING:absl:Importing a function (__inference_dense_layer_call_and_return_conditional_losses_6641013) with ops with custom gradients. Will likely fail if a gradient is requested.\n",
      "WARNING:absl:Importing a function (__inference_you_tube_dnn_layer_call_and_return_conditional_losses_6641877) with ops with custom gradients. Will likely fail if a gradient is requested.\n",
      "WARNING:absl:Importing a function (__inference_dense_1_layer_call_and_return_conditional_losses_6641065) with ops with custom gradients. Will likely fail if a gradient is requested.\n",
      "WARNING:absl:Importing a function (__inference_you_tube_dnn_layer_call_and_return_conditional_losses_6642316) with ops with custom gradients. Will likely fail if a gradient is requested.\n"
     ]
    }
   ],
   "source": [
    "MODEL_NAME_TF = os.environ.get(\"MODEL_NAME_TF\", \"movielens_retrieval_tf\")\n",
    "MODEL_PATH_TEMP_TF = os.path.join(MODEL_BASE_DIR, MODEL_NAME_TF, \"1/model.savedmodel\")\n",
    "\n",
    "def sampled_softmax_loss(y_true, y_pred):\n",
    "    return tf.nn.sampled_softmax_loss(\n",
    "        weights=item_embeddings,\n",
    "        biases=tf.zeros((item_embeddings.shape[0],)),\n",
    "        labels=y_true,\n",
    "        inputs=y_pred,\n",
    "        num_sampled=20,\n",
    "        num_classes=item_embeddings.shape[0],\n",
    "    )\n",
    "\n",
    "model = keras.models.load_model(MODEL_PATH_TEMP_TF, custom_objects={\"sampled_softmax_loss\": sampled_softmax_loss})"
   ]
  },
  {
   "cell_type": "code",
   "execution_count": 6,
   "id": "e5ef77c6-a424-4b8d-8a03-ac86335850f3",
   "metadata": {},
   "outputs": [
    {
     "data": {
      "text/plain": [
       "array([[ 0.3013805 ,  0.35265744,  0.29645905, ..., -0.5987685 ,\n",
       "        -0.26150104, -0.37054107],\n",
       "       [-0.46744588, -0.2959144 , -0.4388544 , ...,  0.36167163,\n",
       "         0.30155638,  0.254408  ],\n",
       "       [-0.28044578, -0.19978808, -0.25708318, ...,  0.33076942,\n",
       "         0.27765957,  0.23243934],\n",
       "       ...,\n",
       "       [ 0.0078734 , -0.00585937,  0.01805443, ..., -0.01167713,\n",
       "        -0.00263723, -0.00176259],\n",
       "       [ 0.00395395, -0.00427187, -0.00336335, ...,  0.00960268,\n",
       "        -0.00115871, -0.00155194],\n",
       "       [ 0.00155976,  0.00864351, -0.00166825, ..., -0.00875954,\n",
       "         0.00638987, -0.00645928]], dtype=float32)"
      ]
     },
     "execution_count": 6,
     "metadata": {},
     "output_type": "execute_result"
    }
   ],
   "source": [
    "item_embeddings = model.input_layer.embedding_tables[\"movie_ids\"].numpy()\n",
    "item_embeddings"
   ]
  },
  {
   "cell_type": "code",
   "execution_count": 7,
   "id": "a00f01bd-b64e-4c54-b61f-3dec27657b5c",
   "metadata": {},
   "outputs": [
    {
     "data": {
      "text/plain": [
       "(62424, 128)"
      ]
     },
     "execution_count": 7,
     "metadata": {},
     "output_type": "execute_result"
    }
   ],
   "source": [
    "item_embeddings.shape"
   ]
  },
  {
   "cell_type": "code",
   "execution_count": 8,
   "id": "61a02bc0-8d0b-497f-940a-c365fea5d819",
   "metadata": {},
   "outputs": [],
   "source": [
    "# Connect to Milvus\n",
    "import pymilvus_orm\n",
    "from pymilvus_orm import schema, DataType, Collection"
   ]
  },
  {
   "cell_type": "code",
   "execution_count": 9,
   "id": "46d08288-0735-4067-8009-f6fddb8fa1de",
   "metadata": {},
   "outputs": [
    {
     "data": {
      "text/plain": [
       "<pymilvus.client.stub.Milvus at 0x7f1b1c3376a0>"
      ]
     },
     "execution_count": 9,
     "metadata": {},
     "output_type": "execute_result"
    }
   ],
   "source": [
    "pymilvus_orm.connections.connect()"
   ]
  },
  {
   "cell_type": "code",
   "execution_count": 10,
   "id": "c7d7c223-50ec-4288-a19a-365ebc4931e9",
   "metadata": {},
   "outputs": [
    {
     "ename": "NameError",
     "evalue": "name 'collection' is not defined",
     "output_type": "error",
     "traceback": [
      "\u001b[0;31m---------------------------------------------------------------------------\u001b[0m",
      "\u001b[0;31mNameError\u001b[0m                                 Traceback (most recent call last)",
      "\u001b[0;32m<ipython-input-10-799b120aaf6a>\u001b[0m in \u001b[0;36m<module>\u001b[0;34m\u001b[0m\n\u001b[0;32m----> 1\u001b[0;31m \u001b[0mcollection\u001b[0m\u001b[0;34m.\u001b[0m\u001b[0mdrop\u001b[0m\u001b[0;34m(\u001b[0m\u001b[0;34m)\u001b[0m\u001b[0;34m\u001b[0m\u001b[0;34m\u001b[0m\u001b[0m\n\u001b[0m",
      "\u001b[0;31mNameError\u001b[0m: name 'collection' is not defined"
     ]
    }
   ],
   "source": [
    "# collection.drop()"
   ]
  },
  {
   "cell_type": "code",
   "execution_count": 11,
   "id": "77fe8eb7-3511-455e-aef8-d7c5b8fbae41",
   "metadata": {},
   "outputs": [],
   "source": [
    "dim = 128\n",
    "default_fields = [\n",
    "    schema.FieldSchema(name=\"item_id\", dtype=DataType.INT64, is_primary=True),\n",
    "    schema.FieldSchema(name=\"item_vector\", dtype=DataType.FLOAT_VECTOR, dim=dim)\n",
    "]\n",
    "default_schema = schema.CollectionSchema(fields=default_fields, description=\"MovieLens item vectors\")\n",
    "collection = Collection(name=\"movielens_retrieval_tf\", data=None, schema=default_schema)"
   ]
  },
  {
   "cell_type": "code",
   "execution_count": 12,
   "id": "77962710-287f-4873-bbdc-d1556f21b9a0",
   "metadata": {},
   "outputs": [
    {
     "data": {
      "text/plain": [
       "<pymilvus_orm.search.MutationResult at 0x7f1b1c2e4e80>"
      ]
     },
     "execution_count": 12,
     "metadata": {},
     "output_type": "execute_result"
    }
   ],
   "source": [
    "# Insert vectors into collection\n",
    "ids = list(range(item_embeddings.shape[0]))\n",
    "item_vectors = [item_embeddings[i]/ np.sqrt(np.sum(item_embeddings[i]**2)) for i in ids]\n",
    "collection.insert([ids, item_vectors])"
   ]
  },
  {
   "cell_type": "code",
   "execution_count": 13,
   "id": "190d4253-3e4e-49d4-adaf-fa66cae8681d",
   "metadata": {},
   "outputs": [],
   "source": [
    "# Build flat index\n",
    "default_index = {\"index_type\": \"IVF_FLAT\", \"params\": {\"nlist\": 128}, \"metric_type\": \"IP\"}\n",
    "collection.create_index(field_name=\"item_vector\", index_params=default_index)\n",
    "collection.load()"
   ]
  },
  {
   "cell_type": "code",
   "execution_count": 14,
   "id": "be556de2-4f3f-4d77-b775-94e9cac32169",
   "metadata": {},
   "outputs": [
    {
     "data": {
      "text/plain": [
       "array([ 0.3013805 ,  0.35265744,  0.29645905, -0.34815103,  0.4222383 ,\n",
       "       -0.5879    ,  0.3410872 ,  0.36045167,  0.32395712,  0.32554877,\n",
       "       -0.6963399 , -0.6799426 ,  0.4677404 ,  0.3946024 ,  0.41948768,\n",
       "        0.23198539, -0.40055826,  0.35271585,  0.34618428, -0.5401364 ,\n",
       "       -0.4036751 , -0.77406543, -0.49029392,  0.26344872, -0.32161382,\n",
       "        0.28308153,  0.2837937 , -0.64452857,  0.2568618 ,  0.35715148,\n",
       "       -0.23408331, -0.2622291 , -0.34247452,  0.344981  , -0.36402032,\n",
       "        0.33669725, -0.29191914,  0.35381636, -0.52548295, -0.24700928,\n",
       "        0.34325278,  0.37425342,  0.39291283, -0.28088292, -0.25973767,\n",
       "       -0.30222186, -0.5407103 , -0.275059  , -0.2634201 ,  0.32273275,\n",
       "       -0.33639053,  0.35481033,  0.4484163 ,  0.33927503,  0.35650772,\n",
       "        0.20732169, -0.23978533, -0.6183755 , -0.19136897,  0.4520049 ,\n",
       "        0.23173772,  0.2923455 , -0.27322826, -0.22439322,  0.29219753,\n",
       "        0.3009594 , -0.8256293 ,  0.23708996,  0.3194406 ,  0.28841183,\n",
       "        0.39185444, -0.13745427,  0.18574625,  0.35970035, -0.58198947,\n",
       "        0.38169715,  0.38876903, -0.2179571 , -0.6036227 , -0.4099865 ,\n",
       "        0.21511301, -0.33761698, -1.9535565 , -0.1778917 ,  0.37727952,\n",
       "        0.3883335 , -0.30007288, -0.24762288,  0.232724  ,  0.35936254,\n",
       "        0.36522073,  0.39300242, -0.53027093, -0.09426176, -0.35657626,\n",
       "        0.43928793,  0.43149048,  0.3648989 , -0.32817012,  0.34432632,\n",
       "        0.21645187, -0.37400517, -0.48728797, -0.29493666,  0.31679186,\n",
       "        0.45403096, -0.25073162, -0.19931884,  0.33541742,  0.30603355,\n",
       "       -0.22145064,  0.5357531 , -0.69848216,  0.44634843, -0.20906524,\n",
       "       -0.3958659 ,  0.27657786, -0.21947424,  0.44253674,  0.38453048,\n",
       "        0.46414584,  0.39589682, -0.19856443,  0.37662658,  0.35750112,\n",
       "       -0.5987685 , -0.26150104, -0.37054107], dtype=float32)"
      ]
     },
     "execution_count": 14,
     "metadata": {},
     "output_type": "execute_result"
    }
   ],
   "source": [
    "item_embeddings[0]"
   ]
  },
  {
   "cell_type": "code",
   "execution_count": 15,
   "id": "536ded7f-4160-49fa-b368-0a08a4a90b60",
   "metadata": {},
   "outputs": [],
   "source": [
    "topK = 100\n",
    "search_params = {\"metric_type\": \"IP\", \"params\": {\"nprobe\": 10}}\n",
    "res = collection.search([item_vectors[0]], \"item_vector\", search_params, topK)"
   ]
  },
  {
   "cell_type": "code",
   "execution_count": 16,
   "id": "d782e947-4204-4e9d-aea5-cf9e30505f7b",
   "metadata": {},
   "outputs": [
    {
     "data": {
      "text/plain": [
       "<pymilvus_orm.search.SearchResult at 0x7f1f0402a490>"
      ]
     },
     "execution_count": 16,
     "metadata": {},
     "output_type": "execute_result"
    }
   ],
   "source": [
    "res"
   ]
  },
  {
   "cell_type": "code",
   "execution_count": 17,
   "id": "a81f158c-ae2e-4b99-9235-1e56cf8118ad",
   "metadata": {},
   "outputs": [
    {
     "name": "stdout",
     "output_type": "stream",
     "text": [
      "0, 1.0, 1.0\n",
      "1681, 0.9064712524414062, 0.9064712524414062\n",
      "14042, 0.9031546115875244, 0.9031546115875244\n",
      "23279, 0.9025656580924988, 0.9025656580924988\n",
      "8685, 0.9024295806884766, 0.9024295806884766\n",
      "10083, 0.9021850824356079, 0.9021850824356079\n",
      "10540, 0.9020233154296875, 0.9020233154296875\n",
      "10483, 0.9018194675445557, 0.9018194675445557\n",
      "5178, 0.9016884565353394, 0.9016884565353394\n",
      "6252, 0.9016156196594238, 0.9016156196594238\n",
      "5286, 0.9015621542930603, 0.9015621542930603\n",
      "13098, 0.9012813568115234, 0.9012813568115234\n",
      "10124, 0.9010730385780334, 0.9010730385780334\n",
      "36555, 0.9009886980056763, 0.9009886980056763\n",
      "22805, 0.9008907079696655, 0.9008907079696655\n",
      "25287, 0.900621771812439, 0.900621771812439\n",
      "37755, 0.9005725383758545, 0.9005725383758545\n",
      "2869, 0.9000678062438965, 0.9000678062438965\n",
      "13096, 0.8999995589256287, 0.8999995589256287\n",
      "3141, 0.8999850749969482, 0.8999850749969482\n",
      "9798, 0.8999186158180237, 0.8999186158180237\n",
      "14592, 0.8998691439628601, 0.8998691439628601\n",
      "30798, 0.8998188972473145, 0.8998188972473145\n",
      "21414, 0.8997495174407959, 0.8997495174407959\n",
      "800, 0.8997455835342407, 0.8997455835342407\n",
      "9323, 0.8996450901031494, 0.8996450901031494\n",
      "3858, 0.8996100425720215, 0.8996100425720215\n",
      "3746, 0.8994295597076416, 0.8994295597076416\n",
      "10242, 0.8994239568710327, 0.8994239568710327\n",
      "13449, 0.8992135524749756, 0.8992135524749756\n",
      "9714, 0.8988764882087708, 0.8988764882087708\n",
      "17865, 0.8988333940505981, 0.8988333940505981\n",
      "24157, 0.8986618518829346, 0.8986618518829346\n",
      "2436, 0.8985861539840698, 0.8985861539840698\n",
      "3648, 0.8984628915786743, 0.8984628915786743\n",
      "9071, 0.8984601497650146, 0.8984601497650146\n",
      "15919, 0.8983936309814453, 0.8983936309814453\n",
      "2742, 0.8983919620513916, 0.8983919620513916\n",
      "3115, 0.8983076810836792, 0.8983076810836792\n",
      "4294, 0.8982364535331726, 0.8982364535331726\n",
      "5517, 0.8982052206993103, 0.8982052206993103\n",
      "7969, 0.8982028365135193, 0.8982028365135193\n",
      "43890, 0.8981055021286011, 0.8981055021286011\n",
      "5243, 0.8979668617248535, 0.8979668617248535\n",
      "13017, 0.8978603482246399, 0.8978603482246399\n",
      "12572, 0.8978036642074585, 0.8978036642074585\n",
      "5274, 0.8977980613708496, 0.8977980613708496\n",
      "2038, 0.8977429866790771, 0.8977429866790771\n",
      "2180, 0.8977206945419312, 0.8977206945419312\n",
      "34216, 0.8976765871047974, 0.8976765871047974\n",
      "8212, 0.897668719291687, 0.897668719291687\n",
      "12893, 0.8976311683654785, 0.8976311683654785\n",
      "1696, 0.8975807428359985, 0.8975807428359985\n",
      "7174, 0.8975526690483093, 0.8975526690483093\n",
      "23202, 0.8975416421890259, 0.8975416421890259\n",
      "7749, 0.8974872827529907, 0.8974872827529907\n",
      "4004, 0.8974617719650269, 0.8974617719650269\n",
      "24018, 0.8974059224128723, 0.8974059224128723\n",
      "23523, 0.897397518157959, 0.897397518157959\n",
      "16517, 0.8973512053489685, 0.8973512053489685\n",
      "1477, 0.897339940071106, 0.897339940071106\n",
      "2593, 0.8973369598388672, 0.8973369598388672\n",
      "22934, 0.8973140716552734, 0.8973140716552734\n",
      "24918, 0.8973022699356079, 0.8973022699356079\n",
      "14202, 0.8972765207290649, 0.8972765207290649\n",
      "4326, 0.8972552418708801, 0.8972552418708801\n",
      "15206, 0.8972525596618652, 0.8972525596618652\n",
      "9848, 0.8971841931343079, 0.8971841931343079\n",
      "32184, 0.8971651196479797, 0.8971651196479797\n",
      "4932, 0.8971189856529236, 0.8971189856529236\n",
      "7819, 0.8970942497253418, 0.8970942497253418\n",
      "9085, 0.897079586982727, 0.897079586982727\n",
      "5199, 0.8970782160758972, 0.8970782160758972\n",
      "5306, 0.8970673084259033, 0.8970673084259033\n",
      "4227, 0.8970298171043396, 0.8970298171043396\n",
      "5050, 0.8970255851745605, 0.8970255851745605\n",
      "8923, 0.8969794511795044, 0.8969794511795044\n",
      "3970, 0.8969390392303467, 0.8969390392303467\n",
      "7090, 0.8969250321388245, 0.8969250321388245\n",
      "4726, 0.8968745470046997, 0.8968745470046997\n",
      "3829, 0.8968446254730225, 0.8968446254730225\n",
      "13620, 0.8968280553817749, 0.8968280553817749\n",
      "26283, 0.8967632055282593, 0.8967632055282593\n",
      "4258, 0.8967545032501221, 0.8967545032501221\n",
      "20206, 0.8967174291610718, 0.8967174291610718\n",
      "5667, 0.8966884613037109, 0.8966884613037109\n",
      "23194, 0.8966575264930725, 0.8966575264930725\n",
      "5451, 0.8966335654258728, 0.8966335654258728\n",
      "4525, 0.8966231346130371, 0.8966231346130371\n",
      "15191, 0.896519660949707, 0.896519660949707\n",
      "9072, 0.8965181112289429, 0.8965181112289429\n",
      "8952, 0.8965014815330505, 0.8965014815330505\n",
      "11222, 0.8965014815330505, 0.8965014815330505\n",
      "126, 0.8964906930923462, 0.8964906930923462\n",
      "11704, 0.896483302116394, 0.896483302116394\n",
      "10676, 0.8964720964431763, 0.8964720964431763\n",
      "7965, 0.8964383006095886, 0.8964383006095886\n",
      "6213, 0.896404504776001, 0.896404504776001\n",
      "12992, 0.8963691592216492, 0.8963691592216492\n",
      "13089, 0.8963456153869629, 0.8963456153869629\n"
     ]
    }
   ],
   "source": [
    "for hits in res:\n",
    "    for h in hits:\n",
    "        print(f\"{h.id}, {h.distance}, {h.score}\")"
   ]
  },
  {
   "cell_type": "code",
   "execution_count": null,
   "id": "f91e4cb3-f3ae-4005-a8ca-18bc85aedb12",
   "metadata": {},
   "outputs": [],
   "source": []
  }
 ],
 "metadata": {
  "kernelspec": {
   "display_name": "Python 3",
   "language": "python",
   "name": "python3"
  },
  "language_info": {
   "codemirror_mode": {
    "name": "ipython",
    "version": 3
   },
   "file_extension": ".py",
   "mimetype": "text/x-python",
   "name": "python",
   "nbconvert_exporter": "python",
   "pygments_lexer": "ipython3",
   "version": "3.8.10"
  }
 },
 "nbformat": 4,
 "nbformat_minor": 5
}
