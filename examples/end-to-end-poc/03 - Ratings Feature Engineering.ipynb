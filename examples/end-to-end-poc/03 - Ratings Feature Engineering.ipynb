{
 "cells": [
  {
   "cell_type": "code",
   "execution_count": 1,
   "id": "cc348178-292b-4b88-8e8a-b2eb2b562701",
   "metadata": {},
   "outputs": [],
   "source": [
    "# Copyright 2021 NVIDIA Corporation. All Rights Reserved.\n",
    "#\n",
    "# Licensed under the Apache License, Version 2.0 (the \"License\");\n",
    "# you may not use this file except in compliance with the License.\n",
    "# You may obtain a copy of the License at\n",
    "#\n",
    "#     http://www.apache.org/licenses/LICENSE-2.0\n",
    "#\n",
    "# Unless required by applicable law or agreed to in writing, software\n",
    "# distributed under the License is distributed on an \"AS IS\" BASIS,\n",
    "# WITHOUT WARRANTIES OR CONDITIONS OF ANY KIND, either express or implied.\n",
    "# See the License for the specific language governing permissions and\n",
    "# limitations under the License.\n",
    "# =============================================================================="
   ]
  },
  {
   "cell_type": "code",
   "execution_count": 2,
   "id": "76559277-b304-4d2a-ba13-c8869d955adf",
   "metadata": {},
   "outputs": [],
   "source": [
    "# External dependencies\n",
    "import os\n",
    "\n",
    "import cudf  # cuDF is an implementation of Pandas-like Dataframe on GPU\n",
    "import inflection\n",
    "import numpy as np\n",
    "\n",
    "import nvtabular as nvt"
   ]
  },
  {
   "cell_type": "code",
   "execution_count": 3,
   "id": "270eab36-58cc-4139-90cb-d3717aa1947f",
   "metadata": {},
   "outputs": [],
   "source": [
    "INPUT_DATA_DIR = os.environ.get(\n",
    "    \"INPUT_DATA_DIR\", os.path.expanduser(\"./data/\")\n",
    ")"
   ]
  },
  {
   "cell_type": "markdown",
   "id": "vulnerable-operator",
   "metadata": {},
   "source": [
    "## Ratings Feature Engineering"
   ]
  },
  {
   "cell_type": "code",
   "execution_count": 4,
   "id": "bfaac653-46f2-464e-9c88-36d44d0b969a",
   "metadata": {},
   "outputs": [
    {
     "data": {
      "text/html": [
       "<div>\n",
       "<style scoped>\n",
       "    .dataframe tbody tr th:only-of-type {\n",
       "        vertical-align: middle;\n",
       "    }\n",
       "\n",
       "    .dataframe tbody tr th {\n",
       "        vertical-align: top;\n",
       "    }\n",
       "\n",
       "    .dataframe thead th {\n",
       "        text-align: right;\n",
       "    }\n",
       "</style>\n",
       "<table border=\"1\" class=\"dataframe\">\n",
       "  <thead>\n",
       "    <tr style=\"text-align: right;\">\n",
       "      <th></th>\n",
       "      <th>user_id</th>\n",
       "      <th>movie_id</th>\n",
       "      <th>rating</th>\n",
       "      <th>timestamp</th>\n",
       "    </tr>\n",
       "  </thead>\n",
       "  <tbody>\n",
       "    <tr>\n",
       "      <th>0</th>\n",
       "      <td>1</td>\n",
       "      <td>296</td>\n",
       "      <td>5.0</td>\n",
       "      <td>1147880044</td>\n",
       "    </tr>\n",
       "    <tr>\n",
       "      <th>1</th>\n",
       "      <td>1</td>\n",
       "      <td>306</td>\n",
       "      <td>3.5</td>\n",
       "      <td>1147868817</td>\n",
       "    </tr>\n",
       "    <tr>\n",
       "      <th>2</th>\n",
       "      <td>1</td>\n",
       "      <td>307</td>\n",
       "      <td>5.0</td>\n",
       "      <td>1147868828</td>\n",
       "    </tr>\n",
       "    <tr>\n",
       "      <th>3</th>\n",
       "      <td>1</td>\n",
       "      <td>665</td>\n",
       "      <td>5.0</td>\n",
       "      <td>1147878820</td>\n",
       "    </tr>\n",
       "    <tr>\n",
       "      <th>4</th>\n",
       "      <td>1</td>\n",
       "      <td>899</td>\n",
       "      <td>3.5</td>\n",
       "      <td>1147868510</td>\n",
       "    </tr>\n",
       "  </tbody>\n",
       "</table>\n",
       "</div>"
      ],
      "text/plain": [
       "   user_id  movie_id  rating   timestamp\n",
       "0        1       296     5.0  1147880044\n",
       "1        1       306     3.5  1147868817\n",
       "2        1       307     5.0  1147868828\n",
       "3        1       665     5.0  1147878820\n",
       "4        1       899     3.5  1147868510"
      ]
     },
     "execution_count": 4,
     "metadata": {},
     "output_type": "execute_result"
    }
   ],
   "source": [
    "ratings = cudf.read_csv(os.path.join(INPUT_DATA_DIR, \"ml-25m\", \"ratings.csv\"))\n",
    "ratings.columns = [inflection.underscore(c) for c in ratings.columns]\n",
    "ratings.head()"
   ]
  },
  {
   "cell_type": "code",
   "execution_count": 5,
   "id": "acoustic-butler",
   "metadata": {},
   "outputs": [],
   "source": [
    "ratings_ds = nvt.Dataset(ratings)"
   ]
  },
  {
   "cell_type": "code",
   "execution_count": 6,
   "id": "compliant-olympus",
   "metadata": {},
   "outputs": [],
   "source": [
    "min_day = ratings[\"timestamp\"].min() // 86400\n",
    "\n",
    "def create_day_column(ts, df):\n",
    "    day = ts // 86400\n",
    "    day = day - min_day\n",
    "    return day\n",
    "\n",
    "day_feature = [\"timestamp\"] >> nvt.ops.LambdaOp(create_day_column) >> nvt.ops.Rename(f=lambda x: \"day\")"
   ]
  },
  {
   "cell_type": "code",
   "execution_count": 7,
   "id": "inappropriate-cable",
   "metadata": {},
   "outputs": [],
   "source": [
    "def binarize_interactions(col, df):\n",
    "    return col > 3.5\n",
    "\n",
    "interaction_feature = [\"rating\"] >> nvt.ops.LambdaOp(binarize_interactions) >> nvt.ops.Rename(f=lambda x: \"interaction\")"
   ]
  },
  {
   "cell_type": "code",
   "execution_count": 8,
   "id": "a96b9fff-36e0-4bf3-9442-eaa5b69d8e31",
   "metadata": {},
   "outputs": [],
   "source": [
    "cat_features = [\"user_id\", \"movie_id\"] >> nvt.ops.Categorify(dtype=np.int32)"
   ]
  },
  {
   "cell_type": "code",
   "execution_count": 9,
   "id": "black-wrong",
   "metadata": {},
   "outputs": [
    {
     "data": {
      "image/svg+xml": [
       "<?xml version=\"1.0\" encoding=\"UTF-8\" standalone=\"no\"?>\n",
       "<!DOCTYPE svg PUBLIC \"-//W3C//DTD SVG 1.1//EN\"\n",
       " \"http://www.w3.org/Graphics/SVG/1.1/DTD/svg11.dtd\">\n",
       "<!-- Generated by graphviz version 2.43.0 (0)\n",
       " -->\n",
       "<!-- Title: %3 Pages: 1 -->\n",
       "<svg width=\"896pt\" height=\"332pt\"\n",
       " viewBox=\"0.00 0.00 896.23 332.00\" xmlns=\"http://www.w3.org/2000/svg\" xmlns:xlink=\"http://www.w3.org/1999/xlink\">\n",
       "<g id=\"graph0\" class=\"graph\" transform=\"scale(1 1) rotate(0) translate(4 328)\">\n",
       "<title>%3</title>\n",
       "<polygon fill=\"white\" stroke=\"transparent\" points=\"-4,4 -4,-328 892.23,-328 892.23,4 -4,4\"/>\n",
       "<!-- 0 -->\n",
       "<g id=\"node1\" class=\"node\">\n",
       "<title>0</title>\n",
       "<ellipse fill=\"none\" stroke=\"black\" cx=\"703.69\" cy=\"-162\" rx=\"48.19\" ry=\"18\"/>\n",
       "<text text-anchor=\"middle\" x=\"703.69\" y=\"-158.3\" font-family=\"Times,serif\" font-size=\"14.00\">Rename</text>\n",
       "</g>\n",
       "<!-- 3 -->\n",
       "<g id=\"node5\" class=\"node\">\n",
       "<title>3</title>\n",
       "<ellipse fill=\"none\" stroke=\"black\" cx=\"438.69\" cy=\"-90\" rx=\"27\" ry=\"18\"/>\n",
       "<text text-anchor=\"middle\" x=\"438.69\" y=\"-86.3\" font-family=\"Times,serif\" font-size=\"14.00\">+</text>\n",
       "</g>\n",
       "<!-- 0&#45;&gt;3 -->\n",
       "<g id=\"edge4\" class=\"edge\">\n",
       "<title>0&#45;&gt;3</title>\n",
       "<path fill=\"none\" stroke=\"black\" d=\"M665.44,-150.9C613.92,-137.29 522.98,-113.27 473.37,-100.16\"/>\n",
       "<polygon fill=\"black\" stroke=\"black\" points=\"474,-96.71 463.43,-97.54 472.21,-103.47 474,-96.71\"/>\n",
       "</g>\n",
       "<!-- 1 -->\n",
       "<g id=\"node2\" class=\"node\">\n",
       "<title>1</title>\n",
       "<ellipse fill=\"none\" stroke=\"black\" cx=\"779.69\" cy=\"-234\" rx=\"108.58\" ry=\"18\"/>\n",
       "<text text-anchor=\"middle\" x=\"779.69\" y=\"-230.3\" font-family=\"Times,serif\" font-size=\"14.00\">binarize_interactions</text>\n",
       "</g>\n",
       "<!-- 1&#45;&gt;0 -->\n",
       "<g id=\"edge1\" class=\"edge\">\n",
       "<title>1&#45;&gt;0</title>\n",
       "<path fill=\"none\" stroke=\"black\" d=\"M761.29,-216.05C751.39,-206.94 739.05,-195.57 728.33,-185.7\"/>\n",
       "<polygon fill=\"black\" stroke=\"black\" points=\"730.6,-183.03 720.87,-178.83 725.86,-188.18 730.6,-183.03\"/>\n",
       "</g>\n",
       "<!-- 5 -->\n",
       "<g id=\"node3\" class=\"node\">\n",
       "<title>5</title>\n",
       "<ellipse fill=\"none\" stroke=\"black\" cx=\"779.69\" cy=\"-306\" rx=\"98.58\" ry=\"18\"/>\n",
       "<text text-anchor=\"middle\" x=\"779.69\" y=\"-302.3\" font-family=\"Times,serif\" font-size=\"14.00\">input cols=[rating]</text>\n",
       "</g>\n",
       "<!-- 5&#45;&gt;1 -->\n",
       "<g id=\"edge2\" class=\"edge\">\n",
       "<title>5&#45;&gt;1</title>\n",
       "<path fill=\"none\" stroke=\"black\" d=\"M779.69,-287.7C779.69,-279.98 779.69,-270.71 779.69,-262.11\"/>\n",
       "<polygon fill=\"black\" stroke=\"black\" points=\"783.19,-262.1 779.69,-252.1 776.19,-262.1 783.19,-262.1\"/>\n",
       "</g>\n",
       "<!-- 2 -->\n",
       "<g id=\"node4\" class=\"node\">\n",
       "<title>2</title>\n",
       "<ellipse fill=\"none\" stroke=\"black\" cx=\"154.69\" cy=\"-162\" rx=\"154.87\" ry=\"18\"/>\n",
       "<text text-anchor=\"middle\" x=\"154.69\" y=\"-158.3\" font-family=\"Times,serif\" font-size=\"14.00\">input cols=[rating, timestamp]</text>\n",
       "</g>\n",
       "<!-- 2&#45;&gt;3 -->\n",
       "<g id=\"edge6\" class=\"edge\">\n",
       "<title>2&#45;&gt;3</title>\n",
       "<path fill=\"none\" stroke=\"black\" d=\"M217.72,-145.46C274.99,-131.35 357.4,-111.04 403.69,-99.63\"/>\n",
       "<polygon fill=\"black\" stroke=\"black\" points=\"404.68,-102.99 413.55,-97.2 403,-96.19 404.68,-102.99\"/>\n",
       "</g>\n",
       "<!-- 10 -->\n",
       "<g id=\"node11\" class=\"node\">\n",
       "<title>10</title>\n",
       "<ellipse fill=\"none\" stroke=\"black\" cx=\"438.69\" cy=\"-18\" rx=\"196.87\" ry=\"18\"/>\n",
       "<text text-anchor=\"middle\" x=\"438.69\" y=\"-14.3\" font-family=\"Times,serif\" font-size=\"14.00\">output cols=[day, interaction, user_id...]</text>\n",
       "</g>\n",
       "<!-- 3&#45;&gt;10 -->\n",
       "<g id=\"edge10\" class=\"edge\">\n",
       "<title>3&#45;&gt;10</title>\n",
       "<path fill=\"none\" stroke=\"black\" d=\"M438.69,-71.7C438.69,-63.98 438.69,-54.71 438.69,-46.11\"/>\n",
       "<polygon fill=\"black\" stroke=\"black\" points=\"442.19,-46.1 438.69,-36.1 435.19,-46.1 442.19,-46.1\"/>\n",
       "</g>\n",
       "<!-- 7 -->\n",
       "<g id=\"node6\" class=\"node\">\n",
       "<title>7</title>\n",
       "<ellipse fill=\"none\" stroke=\"black\" cx=\"375.69\" cy=\"-162\" rx=\"48.19\" ry=\"18\"/>\n",
       "<text text-anchor=\"middle\" x=\"375.69\" y=\"-158.3\" font-family=\"Times,serif\" font-size=\"14.00\">Rename</text>\n",
       "</g>\n",
       "<!-- 7&#45;&gt;3 -->\n",
       "<g id=\"edge3\" class=\"edge\">\n",
       "<title>7&#45;&gt;3</title>\n",
       "<path fill=\"none\" stroke=\"black\" d=\"M390.3,-144.76C398.76,-135.37 409.52,-123.41 418.75,-113.15\"/>\n",
       "<polygon fill=\"black\" stroke=\"black\" points=\"421.35,-115.49 425.44,-105.72 416.15,-110.81 421.35,-115.49\"/>\n",
       "</g>\n",
       "<!-- 9 -->\n",
       "<g id=\"node7\" class=\"node\">\n",
       "<title>9</title>\n",
       "<ellipse fill=\"none\" stroke=\"black\" cx=\"501.69\" cy=\"-162\" rx=\"59.59\" ry=\"18\"/>\n",
       "<text text-anchor=\"middle\" x=\"501.69\" y=\"-158.3\" font-family=\"Times,serif\" font-size=\"14.00\">Categorify</text>\n",
       "</g>\n",
       "<!-- 9&#45;&gt;3 -->\n",
       "<g id=\"edge5\" class=\"edge\">\n",
       "<title>9&#45;&gt;3</title>\n",
       "<path fill=\"none\" stroke=\"black\" d=\"M486.76,-144.41C478.49,-135.22 468.09,-123.67 459.08,-113.66\"/>\n",
       "<polygon fill=\"black\" stroke=\"black\" points=\"461.51,-111.13 452.22,-106.04 456.31,-115.81 461.51,-111.13\"/>\n",
       "</g>\n",
       "<!-- 4 -->\n",
       "<g id=\"node8\" class=\"node\">\n",
       "<title>4</title>\n",
       "<ellipse fill=\"none\" stroke=\"black\" cx=\"233.69\" cy=\"-234\" rx=\"98.58\" ry=\"18\"/>\n",
       "<text text-anchor=\"middle\" x=\"233.69\" y=\"-230.3\" font-family=\"Times,serif\" font-size=\"14.00\">create_day_column</text>\n",
       "</g>\n",
       "<!-- 4&#45;&gt;7 -->\n",
       "<g id=\"edge8\" class=\"edge\">\n",
       "<title>4&#45;&gt;7</title>\n",
       "<path fill=\"none\" stroke=\"black\" d=\"M266.26,-216.94C287.76,-206.35 315.97,-192.44 338.37,-181.4\"/>\n",
       "<polygon fill=\"black\" stroke=\"black\" points=\"340.15,-184.42 347.58,-176.86 337.06,-178.14 340.15,-184.42\"/>\n",
       "</g>\n",
       "<!-- 6 -->\n",
       "<g id=\"node9\" class=\"node\">\n",
       "<title>6</title>\n",
       "<ellipse fill=\"none\" stroke=\"black\" cx=\"233.69\" cy=\"-306\" rx=\"120.48\" ry=\"18\"/>\n",
       "<text text-anchor=\"middle\" x=\"233.69\" y=\"-302.3\" font-family=\"Times,serif\" font-size=\"14.00\">input cols=[timestamp]</text>\n",
       "</g>\n",
       "<!-- 6&#45;&gt;4 -->\n",
       "<g id=\"edge7\" class=\"edge\">\n",
       "<title>6&#45;&gt;4</title>\n",
       "<path fill=\"none\" stroke=\"black\" d=\"M233.69,-287.7C233.69,-279.98 233.69,-270.71 233.69,-262.11\"/>\n",
       "<polygon fill=\"black\" stroke=\"black\" points=\"237.19,-262.1 233.69,-252.1 230.19,-262.1 237.19,-262.1\"/>\n",
       "</g>\n",
       "<!-- 8 -->\n",
       "<g id=\"node10\" class=\"node\">\n",
       "<title>8</title>\n",
       "<ellipse fill=\"none\" stroke=\"black\" cx=\"501.69\" cy=\"-234\" rx=\"151.37\" ry=\"18\"/>\n",
       "<text text-anchor=\"middle\" x=\"501.69\" y=\"-230.3\" font-family=\"Times,serif\" font-size=\"14.00\">input cols=[user_id, movie_id]</text>\n",
       "</g>\n",
       "<!-- 8&#45;&gt;9 -->\n",
       "<g id=\"edge9\" class=\"edge\">\n",
       "<title>8&#45;&gt;9</title>\n",
       "<path fill=\"none\" stroke=\"black\" d=\"M501.69,-215.7C501.69,-207.98 501.69,-198.71 501.69,-190.11\"/>\n",
       "<polygon fill=\"black\" stroke=\"black\" points=\"505.19,-190.1 501.69,-180.1 498.19,-190.1 505.19,-190.1\"/>\n",
       "</g>\n",
       "</g>\n",
       "</svg>\n"
      ],
      "text/plain": [
       "<graphviz.dot.Digraph at 0x7f33d9e53df0>"
      ]
     },
     "execution_count": 9,
     "metadata": {},
     "output_type": "execute_result"
    }
   ],
   "source": [
    "all_cols = day_feature + interaction_feature + cat_features + [\"rating\", \"timestamp\"]\n",
    "output = all_cols # >> nvt.ops.Filter(f=lambda df: df[\"interaction\"] == True) # Do this after transform to produce two output files\n",
    "output.graph"
   ]
  },
  {
   "cell_type": "code",
   "execution_count": 10,
   "id": "governing-syntax",
   "metadata": {},
   "outputs": [],
   "source": [
    "workflow = nvt.Workflow(output)"
   ]
  },
  {
   "cell_type": "code",
   "execution_count": 11,
   "id": "fluid-cradle",
   "metadata": {},
   "outputs": [
    {
     "name": "stdout",
     "output_type": "stream",
     "text": [
      "CPU times: user 817 ms, sys: 239 ms, total: 1.06 s\n",
      "Wall time: 1.06 s\n"
     ]
    }
   ],
   "source": [
    "%%time\n",
    "workflow.fit(ratings_ds)"
   ]
  },
  {
   "cell_type": "code",
   "execution_count": 12,
   "id": "spiritual-occurrence",
   "metadata": {},
   "outputs": [
    {
     "name": "stdout",
     "output_type": "stream",
     "text": [
      "CPU times: user 1e+03 ns, sys: 1 µs, total: 2 µs\n",
      "Wall time: 3.58 µs\n"
     ]
    }
   ],
   "source": [
    "%time\n",
    "ratings_features = workflow.transform(ratings_ds)"
   ]
  },
  {
   "cell_type": "code",
   "execution_count": 13,
   "id": "endless-sunset",
   "metadata": {},
   "outputs": [
    {
     "data": {
      "text/html": [
       "<div>\n",
       "<style scoped>\n",
       "    .dataframe tbody tr th:only-of-type {\n",
       "        vertical-align: middle;\n",
       "    }\n",
       "\n",
       "    .dataframe tbody tr th {\n",
       "        vertical-align: top;\n",
       "    }\n",
       "\n",
       "    .dataframe thead th {\n",
       "        text-align: right;\n",
       "    }\n",
       "</style>\n",
       "<table border=\"1\" class=\"dataframe\">\n",
       "  <thead>\n",
       "    <tr style=\"text-align: right;\">\n",
       "      <th></th>\n",
       "      <th>day</th>\n",
       "      <th>interaction</th>\n",
       "      <th>user_id</th>\n",
       "      <th>movie_id</th>\n",
       "      <th>rating</th>\n",
       "      <th>timestamp</th>\n",
       "    </tr>\n",
       "  </thead>\n",
       "  <tbody>\n",
       "    <tr>\n",
       "      <th>0</th>\n",
       "      <td>4146</td>\n",
       "      <td>True</td>\n",
       "      <td>1</td>\n",
       "      <td>293</td>\n",
       "      <td>5.0</td>\n",
       "      <td>1147880044</td>\n",
       "    </tr>\n",
       "    <tr>\n",
       "      <th>1</th>\n",
       "      <td>4146</td>\n",
       "      <td>False</td>\n",
       "      <td>1</td>\n",
       "      <td>303</td>\n",
       "      <td>3.5</td>\n",
       "      <td>1147868817</td>\n",
       "    </tr>\n",
       "    <tr>\n",
       "      <th>2</th>\n",
       "      <td>4146</td>\n",
       "      <td>True</td>\n",
       "      <td>1</td>\n",
       "      <td>304</td>\n",
       "      <td>5.0</td>\n",
       "      <td>1147868828</td>\n",
       "    </tr>\n",
       "    <tr>\n",
       "      <th>3</th>\n",
       "      <td>4146</td>\n",
       "      <td>True</td>\n",
       "      <td>1</td>\n",
       "      <td>655</td>\n",
       "      <td>5.0</td>\n",
       "      <td>1147878820</td>\n",
       "    </tr>\n",
       "    <tr>\n",
       "      <th>4</th>\n",
       "      <td>4146</td>\n",
       "      <td>False</td>\n",
       "      <td>1</td>\n",
       "      <td>879</td>\n",
       "      <td>3.5</td>\n",
       "      <td>1147868510</td>\n",
       "    </tr>\n",
       "  </tbody>\n",
       "</table>\n",
       "</div>"
      ],
      "text/plain": [
       "    day  interaction  user_id  movie_id  rating   timestamp\n",
       "0  4146         True        1       293     5.0  1147880044\n",
       "1  4146        False        1       303     3.5  1147868817\n",
       "2  4146         True        1       304     5.0  1147868828\n",
       "3  4146         True        1       655     5.0  1147878820\n",
       "4  4146        False        1       879     3.5  1147868510"
      ]
     },
     "execution_count": 13,
     "metadata": {},
     "output_type": "execute_result"
    }
   ],
   "source": [
    "ratings_df = ratings_features.to_ddf().compute()\n",
    "ratings_df.head()"
   ]
  },
  {
   "cell_type": "code",
   "execution_count": 14,
   "id": "808a1f30-e59a-45b2-9d37-7d2860df441b",
   "metadata": {},
   "outputs": [
    {
     "data": {
      "text/plain": [
       "day              int64\n",
       "interaction       bool\n",
       "user_id          int32\n",
       "movie_id         int32\n",
       "rating         float64\n",
       "timestamp        int64\n",
       "dtype: object"
      ]
     },
     "execution_count": 14,
     "metadata": {},
     "output_type": "execute_result"
    }
   ],
   "source": [
    "ratings_df.dtypes"
   ]
  },
  {
   "cell_type": "code",
   "execution_count": 15,
   "id": "a3ac1bf1-56d8-4cf9-958a-8a46ede57b8a",
   "metadata": {},
   "outputs": [],
   "source": [
    "positive_examples = ratings_df[ratings_df[\"interaction\"] == True]"
   ]
  },
  {
   "cell_type": "code",
   "execution_count": 16,
   "id": "f2969bad-c281-44be-a233-834dc54922d2",
   "metadata": {},
   "outputs": [],
   "source": [
    "negative_examples = ratings_df[ratings_df[\"interaction\"] == False]"
   ]
  },
  {
   "cell_type": "code",
   "execution_count": 17,
   "id": "quiet-savage",
   "metadata": {},
   "outputs": [],
   "source": [
    "positive_examples.to_parquet(os.path.join(INPUT_DATA_DIR, \"positive_ratings.parquet\"))\n",
    "negative_examples.to_parquet(os.path.join(INPUT_DATA_DIR, \"negative_ratings.parquet\"))"
   ]
  },
  {
   "cell_type": "code",
   "execution_count": 18,
   "id": "thermal-works",
   "metadata": {},
   "outputs": [],
   "source": [
    "workflow.save(os.path.join(INPUT_DATA_DIR, \"ratings_features_workflow\"))"
   ]
  }
 ],
 "metadata": {
  "kernelspec": {
   "display_name": "Python 3",
   "language": "python",
   "name": "python3"
  },
  "language_info": {
   "codemirror_mode": {
    "name": "ipython",
    "version": 3
   },
   "file_extension": ".py",
   "mimetype": "text/x-python",
   "name": "python",
   "nbconvert_exporter": "python",
   "pygments_lexer": "ipython3",
   "version": "3.8.5"
  }
 },
 "nbformat": 4,
 "nbformat_minor": 5
}
