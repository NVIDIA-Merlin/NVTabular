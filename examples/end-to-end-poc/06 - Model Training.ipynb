{
 "cells": [
  {
   "cell_type": "code",
   "execution_count": 1,
   "id": "prime-initial",
   "metadata": {},
   "outputs": [],
   "source": [
    "# Copyright 2021 NVIDIA Corporation. All Rights Reserved.\n",
    "#\n",
    "# Licensed under the Apache License, Version 2.0 (the \"License\");\n",
    "# you may not use this file except in compliance with the License.\n",
    "# You may obtain a copy of the License at\n",
    "#\n",
    "#     http://www.apache.org/licenses/LICENSE-2.0\n",
    "#\n",
    "# Unless required by applicable law or agreed to in writing, software\n",
    "# distributed under the License is distributed on an \"AS IS\" BASIS,\n",
    "# WITHOUT WARRANTIES OR CONDITIONS OF ANY KIND, either express or implied.\n",
    "# See the License for the specific language governing permissions and\n",
    "# limitations under the License.\n",
    "# =============================================================================="
   ]
  },
  {
   "cell_type": "code",
   "execution_count": 2,
   "id": "automatic-mitchell",
   "metadata": {},
   "outputs": [],
   "source": [
    "import os\n",
    "\n",
    "import cudf\n",
    "import rmm\n",
    "\n",
    "import nvtabular as nvt"
   ]
  },
  {
   "cell_type": "code",
   "execution_count": 3,
   "id": "banner-literature",
   "metadata": {},
   "outputs": [],
   "source": [
    "from merlin_models.tensorflow.models.retrieval import YouTubeDNN"
   ]
  },
  {
   "cell_type": "code",
   "execution_count": 4,
   "id": "asian-hindu",
   "metadata": {},
   "outputs": [],
   "source": [
    "rmm.reinitialize(managed_memory=True)"
   ]
  },
  {
   "cell_type": "code",
   "execution_count": 5,
   "id": "given-tribe",
   "metadata": {},
   "outputs": [],
   "source": [
    "INPUT_DATA_DIR = os.environ.get(\n",
    "    \"INPUT_DATA_DIR\", os.path.expanduser(\"./data/\")\n",
    ")\n",
    "MODEL_BASE_DIR = os.environ.get(\n",
    "    \"MODEL_BASE_DIR\", os.path.expanduser(\"./models/\")\n",
    ")"
   ]
  },
  {
   "cell_type": "code",
   "execution_count": 6,
   "id": "starting-dream",
   "metadata": {},
   "outputs": [
    {
     "data": {
      "text/html": [
       "<div>\n",
       "<style scoped>\n",
       "    .dataframe tbody tr th:only-of-type {\n",
       "        vertical-align: middle;\n",
       "    }\n",
       "\n",
       "    .dataframe tbody tr th {\n",
       "        vertical-align: top;\n",
       "    }\n",
       "\n",
       "    .dataframe thead th {\n",
       "        text-align: right;\n",
       "    }\n",
       "</style>\n",
       "<table border=\"1\" class=\"dataframe\">\n",
       "  <thead>\n",
       "    <tr style=\"text-align: right;\">\n",
       "      <th></th>\n",
       "      <th></th>\n",
       "      <th>search_terms</th>\n",
       "      <th>genres</th>\n",
       "      <th>timestamps</th>\n",
       "      <th>movie_ids</th>\n",
       "      <th>movie_id_count</th>\n",
       "      <th>target_item</th>\n",
       "    </tr>\n",
       "    <tr>\n",
       "      <th>user_id</th>\n",
       "      <th>day</th>\n",
       "      <th></th>\n",
       "      <th></th>\n",
       "      <th></th>\n",
       "      <th></th>\n",
       "      <th></th>\n",
       "      <th></th>\n",
       "    </tr>\n",
       "  </thead>\n",
       "  <tbody>\n",
       "    <tr>\n",
       "      <th>1</th>\n",
       "      <th>4146</th>\n",
       "      <td>[2124, 48808, 31732, 44035, 6150, 71933, 0, 15...</td>\n",
       "      <td>[9, 12, 18, 4, 5, 10, 14, 8, 9, 9, 12, 18, 9, ...</td>\n",
       "      <td>[1147868053, 1147868097, 1147868414, 114786846...</td>\n",
       "      <td>[5952, 1653, 1250, 6539, 6377, 3448, 1088, 899...</td>\n",
       "      <td>52</td>\n",
       "      <td>7361</td>\n",
       "    </tr>\n",
       "    <tr>\n",
       "      <th>2</th>\n",
       "      <th>4071</th>\n",
       "      <td>[23266, 64668, 39517, 53849, 9506, 10820, 6627...</td>\n",
       "      <td>[9, 12, 9, 7, 9, 16, 18, 7, 9, 9, 12, 17, 9, 1...</td>\n",
       "      <td>[1141415528, 1141415566, 1141415576, 114141558...</td>\n",
       "      <td>[5952, 497, 1374, 1653, 2640, 5445, 151, 236, ...</td>\n",
       "      <td>124</td>\n",
       "      <td>2150</td>\n",
       "    </tr>\n",
       "    <tr>\n",
       "      <th rowspan=\"3\" valign=\"top\">3</th>\n",
       "      <th>7521</th>\n",
       "      <td>[54707, 46964, 40789, 41791, 18575, 8371, 1483...</td>\n",
       "      <td>[2, 6, 2, 6, 7, 3, 9, 3, 4, 5, 6, 10, 2, 9, 17...</td>\n",
       "      <td>[1439472199, 1439472203, 1439472211, 143947221...</td>\n",
       "      <td>[356, 593, 1270, 1, 2571, 260, 318, 1196, 527,...</td>\n",
       "      <td>220</td>\n",
       "      <td>37729</td>\n",
       "    </tr>\n",
       "    <tr>\n",
       "      <th>7688</th>\n",
       "      <td>[35375, 60889, 15821, 30192, 0, 15866, 64283, ...</td>\n",
       "      <td>[9, 2, 17, 18, 6, 6, 9, 9, 8, 1, 8, 9, 10, 12,...</td>\n",
       "      <td>[1453904021, 1453904031, 1453904046, 145390404...</td>\n",
       "      <td>[1206, 1208, 44191, 32587, 51662, 55820, 40815...</td>\n",
       "      <td>18</td>\n",
       "      <td>4344</td>\n",
       "    </tr>\n",
       "    <tr>\n",
       "      <th>8045</th>\n",
       "      <td>[56053, 50289, 58994, 0, 71594, 68845, 61483, ...</td>\n",
       "      <td>[9, 9, 8, 9, 2, 3, 6, 7, 9, 16, 6, 7, 9, 18, 7...</td>\n",
       "      <td>[1484753654, 1484753766, 1484753808, 148475384...</td>\n",
       "      <td>[1089, 4011, 741, 778, 111, 214, 293, 1252, 33...</td>\n",
       "      <td>21</td>\n",
       "      <td>27773</td>\n",
       "    </tr>\n",
       "  </tbody>\n",
       "</table>\n",
       "</div>"
      ],
      "text/plain": [
       "                                                   search_terms  \\\n",
       "user_id day                                                       \n",
       "1       4146  [2124, 48808, 31732, 44035, 6150, 71933, 0, 15...   \n",
       "2       4071  [23266, 64668, 39517, 53849, 9506, 10820, 6627...   \n",
       "3       7521  [54707, 46964, 40789, 41791, 18575, 8371, 1483...   \n",
       "        7688  [35375, 60889, 15821, 30192, 0, 15866, 64283, ...   \n",
       "        8045  [56053, 50289, 58994, 0, 71594, 68845, 61483, ...   \n",
       "\n",
       "                                                         genres  \\\n",
       "user_id day                                                       \n",
       "1       4146  [9, 12, 18, 4, 5, 10, 14, 8, 9, 9, 12, 18, 9, ...   \n",
       "2       4071  [9, 12, 9, 7, 9, 16, 18, 7, 9, 9, 12, 17, 9, 1...   \n",
       "3       7521  [2, 6, 2, 6, 7, 3, 9, 3, 4, 5, 6, 10, 2, 9, 17...   \n",
       "        7688  [9, 2, 17, 18, 6, 6, 9, 9, 8, 1, 8, 9, 10, 12,...   \n",
       "        8045  [9, 9, 8, 9, 2, 3, 6, 7, 9, 16, 6, 7, 9, 18, 7...   \n",
       "\n",
       "                                                     timestamps  \\\n",
       "user_id day                                                       \n",
       "1       4146  [1147868053, 1147868097, 1147868414, 114786846...   \n",
       "2       4071  [1141415528, 1141415566, 1141415576, 114141558...   \n",
       "3       7521  [1439472199, 1439472203, 1439472211, 143947221...   \n",
       "        7688  [1453904021, 1453904031, 1453904046, 145390404...   \n",
       "        8045  [1484753654, 1484753766, 1484753808, 148475384...   \n",
       "\n",
       "                                                      movie_ids  \\\n",
       "user_id day                                                       \n",
       "1       4146  [5952, 1653, 1250, 6539, 6377, 3448, 1088, 899...   \n",
       "2       4071  [5952, 497, 1374, 1653, 2640, 5445, 151, 236, ...   \n",
       "3       7521  [356, 593, 1270, 1, 2571, 260, 318, 1196, 527,...   \n",
       "        7688  [1206, 1208, 44191, 32587, 51662, 55820, 40815...   \n",
       "        8045  [1089, 4011, 741, 778, 111, 214, 293, 1252, 33...   \n",
       "\n",
       "              movie_id_count  target_item  \n",
       "user_id day                                \n",
       "1       4146              52         7361  \n",
       "2       4071             124         2150  \n",
       "3       7521             220        37729  \n",
       "        7688              18         4344  \n",
       "        8045              21        27773  "
      ]
     },
     "execution_count": 6,
     "metadata": {},
     "output_type": "execute_result"
    }
   ],
   "source": [
    "examples = cudf.read_parquet(os.path.join(INPUT_DATA_DIR, \"training_examples.parquet\"))\n",
    "examples.head()"
   ]
  },
  {
   "cell_type": "code",
   "execution_count": 7,
   "id": "covered-antibody",
   "metadata": {},
   "outputs": [
    {
     "data": {
      "text/plain": [
       "1924"
      ]
     },
     "execution_count": 7,
     "metadata": {},
     "output_type": "execute_result"
    }
   ],
   "source": [
    "examples[\"movie_id_count\"].max()"
   ]
  },
  {
   "cell_type": "code",
   "execution_count": 8,
   "id": "ceramic-soundtrack",
   "metadata": {},
   "outputs": [
    {
     "data": {
      "text/html": [
       "<div>\n",
       "<style scoped>\n",
       "    .dataframe tbody tr th:only-of-type {\n",
       "        vertical-align: middle;\n",
       "    }\n",
       "\n",
       "    .dataframe tbody tr th {\n",
       "        vertical-align: top;\n",
       "    }\n",
       "\n",
       "    .dataframe thead th {\n",
       "        text-align: right;\n",
       "    }\n",
       "</style>\n",
       "<table border=\"1\" class=\"dataframe\">\n",
       "  <thead>\n",
       "    <tr style=\"text-align: right;\">\n",
       "      <th></th>\n",
       "      <th></th>\n",
       "      <th>target_item</th>\n",
       "      <th>timestamps</th>\n",
       "    </tr>\n",
       "    <tr>\n",
       "      <th>user_id</th>\n",
       "      <th>day</th>\n",
       "      <th></th>\n",
       "      <th></th>\n",
       "    </tr>\n",
       "  </thead>\n",
       "  <tbody>\n",
       "    <tr>\n",
       "      <th>1</th>\n",
       "      <th>4146</th>\n",
       "      <td>7361</td>\n",
       "      <td>[1147868053, 1147868097, 1147868414, 114786846...</td>\n",
       "    </tr>\n",
       "    <tr>\n",
       "      <th>2</th>\n",
       "      <th>4071</th>\n",
       "      <td>2150</td>\n",
       "      <td>[1141415528, 1141415566, 1141415576, 114141558...</td>\n",
       "    </tr>\n",
       "    <tr>\n",
       "      <th rowspan=\"3\" valign=\"top\">3</th>\n",
       "      <th>7521</th>\n",
       "      <td>37729</td>\n",
       "      <td>[1439472199, 1439472203, 1439472211, 143947221...</td>\n",
       "    </tr>\n",
       "    <tr>\n",
       "      <th>7688</th>\n",
       "      <td>4344</td>\n",
       "      <td>[1453904021, 1453904031, 1453904046, 145390404...</td>\n",
       "    </tr>\n",
       "    <tr>\n",
       "      <th>8045</th>\n",
       "      <td>27773</td>\n",
       "      <td>[1484753654, 1484753766, 1484753808, 148475384...</td>\n",
       "    </tr>\n",
       "    <tr>\n",
       "      <th>...</th>\n",
       "      <th>...</th>\n",
       "      <td>...</td>\n",
       "      <td>...</td>\n",
       "    </tr>\n",
       "    <tr>\n",
       "      <th>162538</th>\n",
       "      <th>7513</th>\n",
       "      <td>6668</td>\n",
       "      <td>[1438780751, 1438780754, 1438780759, 143878083...</td>\n",
       "    </tr>\n",
       "    <tr>\n",
       "      <th>162539</th>\n",
       "      <th>2378</th>\n",
       "      <td>1676</td>\n",
       "      <td>[995149720, 995149760, 995149788, 995149788, 9...</td>\n",
       "    </tr>\n",
       "    <tr>\n",
       "      <th rowspan=\"2\" valign=\"top\">162540</th>\n",
       "      <th>5315</th>\n",
       "      <td>55995</td>\n",
       "      <td>[1248854959, 1248855507, 1248855584, 124885572...</td>\n",
       "    </tr>\n",
       "    <tr>\n",
       "      <th>5317</th>\n",
       "      <td>37720</td>\n",
       "      <td>[1249028584, 1249028593, 1249029673, 124902967...</td>\n",
       "    </tr>\n",
       "    <tr>\n",
       "      <th>162541</th>\n",
       "      <th>5223</th>\n",
       "      <td>293</td>\n",
       "      <td>[1240946758, 1240946774, 1240947363, 124094737...</td>\n",
       "    </tr>\n",
       "  </tbody>\n",
       "</table>\n",
       "<p>532982 rows × 2 columns</p>\n",
       "</div>"
      ],
      "text/plain": [
       "              target_item                                         timestamps\n",
       "user_id day                                                                 \n",
       "1       4146         7361  [1147868053, 1147868097, 1147868414, 114786846...\n",
       "2       4071         2150  [1141415528, 1141415566, 1141415576, 114141558...\n",
       "3       7521        37729  [1439472199, 1439472203, 1439472211, 143947221...\n",
       "        7688         4344  [1453904021, 1453904031, 1453904046, 145390404...\n",
       "        8045        27773  [1484753654, 1484753766, 1484753808, 148475384...\n",
       "...                   ...                                                ...\n",
       "162538  7513         6668  [1438780751, 1438780754, 1438780759, 143878083...\n",
       "162539  2378         1676  [995149720, 995149760, 995149788, 995149788, 9...\n",
       "162540  5315        55995  [1248854959, 1248855507, 1248855584, 124885572...\n",
       "        5317        37720  [1249028584, 1249028593, 1249029673, 124902967...\n",
       "162541  5223          293  [1240946758, 1240946774, 1240947363, 124094737...\n",
       "\n",
       "[532982 rows x 2 columns]"
      ]
     },
     "execution_count": 8,
     "metadata": {},
     "output_type": "execute_result"
    }
   ],
   "source": [
    "examples[[\"target_item\", \"timestamps\"]]"
   ]
  },
  {
   "cell_type": "markdown",
   "id": "peripheral-testimony",
   "metadata": {},
   "source": [
    "## Hyper-parameters"
   ]
  },
  {
   "cell_type": "code",
   "execution_count": 9,
   "id": "registered-henry",
   "metadata": {},
   "outputs": [],
   "source": [
    "BATCH_SIZE = 16  # Batch Size\n",
    "CATEGORICAL_COLUMNS = []  # Single-hot\n",
    "CATEGORICAL_MH_COLUMNS = [\"search_terms\", \"movie_ids\", \"genres\"]  # Multi-hot\n",
    "NUMERIC_COLUMNS = [\"movie_id_count\"]"
   ]
  },
  {
   "cell_type": "code",
   "execution_count": 10,
   "id": "controlling-cisco",
   "metadata": {},
   "outputs": [],
   "source": [
    "movie_workflow = nvt.Workflow.load(os.path.join(INPUT_DATA_DIR, \"movie_features_workflow\"))"
   ]
  },
  {
   "cell_type": "code",
   "execution_count": 11,
   "id": "nominated-uncle",
   "metadata": {},
   "outputs": [
    {
     "data": {
      "text/plain": [
       "{'movie_id': (62424, 512), 'genres': (21, 16), 'tags_unique': (73051, 512)}"
      ]
     },
     "execution_count": 11,
     "metadata": {},
     "output_type": "execute_result"
    }
   ],
   "source": [
    "EMBEDDING_TABLE_SHAPES, MH_EMBEDDING_TABLE_SHAPES = nvt.ops.get_embedding_sizes(movie_workflow)\n",
    "EMBEDDING_TABLE_SHAPES.update(MH_EMBEDDING_TABLE_SHAPES)\n",
    "EMBEDDING_TABLE_SHAPES"
   ]
  },
  {
   "cell_type": "code",
   "execution_count": 12,
   "id": "determined-commodity",
   "metadata": {},
   "outputs": [
    {
     "data": {
      "text/plain": [
       "{'genres': (21, 16), 'movie_ids': (62424, 512), 'search_terms': (73051, 512)}"
      ]
     },
     "execution_count": 12,
     "metadata": {},
     "output_type": "execute_result"
    }
   ],
   "source": [
    "EMBEDDING_TABLE_SHAPES[\"movie_ids\"] = EMBEDDING_TABLE_SHAPES.pop('movie_id', None)\n",
    "EMBEDDING_TABLE_SHAPES[\"search_terms\"] = EMBEDDING_TABLE_SHAPES.pop('tags_unique', None)\n",
    "EMBEDDING_TABLE_SHAPES"
   ]
  },
  {
   "cell_type": "markdown",
   "id": "stable-delaware",
   "metadata": {},
   "source": [
    "## DataLoader"
   ]
  },
  {
   "cell_type": "code",
   "execution_count": 13,
   "id": "lyric-minimum",
   "metadata": {},
   "outputs": [],
   "source": [
    "import os\n",
    "import tensorflow as tf\n",
    "\n",
    "# we can control how much memory to give tensorflow with this environment variable\n",
    "# IMPORTANT: make sure you do this before you initialize TF's runtime, otherwise\n",
    "# TF will have claimed all free GPU memory\n",
    "os.environ[\"TF_MEMORY_ALLOCATION\"] = \"0.7\"  # fraction of free memory\n",
    "from nvtabular.loader.tensorflow import KerasSequenceLoader, KerasSequenceValidater"
   ]
  },
  {
   "cell_type": "code",
   "execution_count": 14,
   "id": "incorrect-luxury",
   "metadata": {},
   "outputs": [],
   "source": [
    "train_dataset_tf = KerasSequenceLoader(\n",
    "    os.path.join(INPUT_DATA_DIR, \"training_examples.parquet\"),  \n",
    "    batch_size=BATCH_SIZE,\n",
    "    label_names=[\"target_item\"],\n",
    "    cat_names=CATEGORICAL_COLUMNS + CATEGORICAL_MH_COLUMNS,\n",
    "    cont_names=NUMERIC_COLUMNS,\n",
    "    engine=\"parquet\",\n",
    "    shuffle=True,\n",
    "    buffer_size=0.25,\n",
    "    parts_per_chunk=1,\n",
    ")"
   ]
  },
  {
   "cell_type": "code",
   "execution_count": 15,
   "id": "latter-department",
   "metadata": {},
   "outputs": [
    {
     "data": {
      "text/plain": [
       "[NumericColumn(key='movie_id_count', shape=(1,), default_value=None, dtype=tf.float32, normalizer_fn=None)]"
      ]
     },
     "execution_count": 15,
     "metadata": {},
     "output_type": "execute_result"
    }
   ],
   "source": [
    "continuous_cols = []\n",
    "\n",
    "for col in NUMERIC_COLUMNS:\n",
    "    continuous_cols.append(\n",
    "        tf.feature_column.numeric_column(col)\n",
    "    )\n",
    "    \n",
    "continuous_cols"
   ]
  },
  {
   "cell_type": "code",
   "execution_count": 16,
   "id": "8d54b9c1-df7e-4070-9cb0-d55097b2fc90",
   "metadata": {},
   "outputs": [
    {
     "data": {
      "text/plain": [
       "{'genres': (21, 16), 'movie_ids': (62424, 512), 'search_terms': (73051, 512)}"
      ]
     },
     "execution_count": 16,
     "metadata": {},
     "output_type": "execute_result"
    }
   ],
   "source": [
    "EMBEDDING_TABLE_SHAPES"
   ]
  },
  {
   "cell_type": "code",
   "execution_count": 17,
   "id": "amber-sellers",
   "metadata": {},
   "outputs": [],
   "source": [
    "embedding_dims = {}\n",
    "\n",
    "for key, value in EMBEDDING_TABLE_SHAPES.items():\n",
    "    embedding_dims[key] = 128  #value[1] # Latent dimensions"
   ]
  },
  {
   "cell_type": "code",
   "execution_count": 18,
   "id": "fifth-stuart",
   "metadata": {},
   "outputs": [
    {
     "data": {
      "text/plain": [
       "[IdentityCategoricalColumn(key='search_terms', number_buckets=73051, default_value=None),\n",
       " IdentityCategoricalColumn(key='movie_ids', number_buckets=62424, default_value=None),\n",
       " IdentityCategoricalColumn(key='genres', number_buckets=21, default_value=None)]"
      ]
     },
     "execution_count": 18,
     "metadata": {},
     "output_type": "execute_result"
    }
   ],
   "source": [
    "categorical_cols = []\n",
    "\n",
    "for col in CATEGORICAL_COLUMNS + CATEGORICAL_MH_COLUMNS:\n",
    "    categorical_cols.append(\n",
    "        tf.feature_column.categorical_column_with_identity(\n",
    "            col, EMBEDDING_TABLE_SHAPES[col][0] # Cardinalities\n",
    "        )\n",
    "    )\n",
    "    \n",
    "categorical_cols"
   ]
  },
  {
   "cell_type": "code",
   "execution_count": 19,
   "id": "organized-script",
   "metadata": {},
   "outputs": [],
   "source": [
    "model = YouTubeDNN(continuous_cols, categorical_cols, embedding_dims=embedding_dims, hidden_dims=[512,256,128])"
   ]
  },
  {
   "cell_type": "code",
   "execution_count": 20,
   "id": "specified-contemporary",
   "metadata": {},
   "outputs": [],
   "source": [
    "model.input_layer.build({})\n",
    "item_embeddings = model.input_layer.embedding_tables[\"movie_ids\"]\n",
    "\n",
    "def sampled_softmax_loss(y_true, y_pred):\n",
    "    return tf.nn.sampled_softmax_loss(\n",
    "        weights=item_embeddings,\n",
    "        biases=tf.zeros((item_embeddings.shape[0],)),\n",
    "        labels=y_true,\n",
    "        inputs=y_pred,\n",
    "        num_sampled=20,\n",
    "        num_classes=item_embeddings.shape[0],\n",
    "    )\n",
    "\n",
    "model.compile(\"nadam\", sampled_softmax_loss)"
   ]
  },
  {
   "cell_type": "code",
   "execution_count": 22,
   "id": "sophisticated-yesterday",
   "metadata": {},
   "outputs": [
    {
     "name": "stdout",
     "output_type": "stream",
     "text": [
      "33312/33312 [==============================] - 426s 12ms/step - loss: 1.4367\n"
     ]
    }
   ],
   "source": [
    "# validation_callback = KerasSequenceValidater(valid_dataset_tf)\n",
    "\n",
    "history = model.fit(train_dataset_tf, callbacks=[], epochs=1)"
   ]
  },
  {
   "cell_type": "code",
   "execution_count": 23,
   "id": "realistic-causing",
   "metadata": {},
   "outputs": [
    {
     "name": "stdout",
     "output_type": "stream",
     "text": [
      "INFO:tensorflow:Assets written to: ./models/movielens_retrieval_tf/1/model.savedmodel/assets\n"
     ]
    }
   ],
   "source": [
    "MODEL_NAME_TF = os.environ.get(\"MODEL_NAME_TF\", \"movielens_retrieval_tf\")\n",
    "MODEL_PATH_TEMP_TF = os.path.join(MODEL_BASE_DIR, MODEL_NAME_TF, \"1/model.savedmodel\")\n",
    "\n",
    "model.save(MODEL_PATH_TEMP_TF)"
   ]
  },
  {
   "cell_type": "code",
   "execution_count": 24,
   "id": "solid-essay",
   "metadata": {},
   "outputs": [],
   "source": [
    "rmm.reinitialize(managed_memory=False)"
   ]
  },
  {
   "cell_type": "code",
   "execution_count": null,
   "id": "e5ef77c6-a424-4b8d-8a03-ac86335850f3",
   "metadata": {},
   "outputs": [],
   "source": []
  }
 ],
 "metadata": {
  "kernelspec": {
   "display_name": "nvt11.2",
   "language": "python",
   "name": "nvt11.2"
  },
  "language_info": {
   "codemirror_mode": {
    "name": "ipython",
    "version": 3
   },
   "file_extension": ".py",
   "mimetype": "text/x-python",
   "name": "python",
   "nbconvert_exporter": "python",
   "pygments_lexer": "ipython3",
   "version": "3.8.10"
  }
 },
 "nbformat": 4,
 "nbformat_minor": 5
}
