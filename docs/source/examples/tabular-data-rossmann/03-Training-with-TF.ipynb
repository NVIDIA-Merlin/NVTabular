{
 "cells": [
  {
   "cell_type": "code",
   "execution_count": 1,
   "metadata": {},
   "outputs": [],
   "source": [
    "# Copyright 2021 NVIDIA Corporation. All Rights Reserved.\n",
    "#\n",
    "# Licensed under the Apache License, Version 2.0 (the \"License\");\n",
    "# you may not use this file except in compliance with the License.\n",
    "# You may obtain a copy of the License at\n",
    "#\n",
    "#     http://www.apache.org/licenses/LICENSE-2.0\n",
    "#\n",
    "# Unless required by applicable law or agreed to in writing, software\n",
    "# distributed under the License is distributed on an \"AS IS\" BASIS,\n",
    "# WITHOUT WARRANTIES OR CONDITIONS OF ANY KIND, either express or implied.\n",
    "# See the License for the specific language governing permissions and\n",
    "# limitations under the License.\n",
    "# =============================================================================="
   ]
  },
  {
   "cell_type": "markdown",
   "metadata": {},
   "source": [
    "<img src=\"http://developer.download.nvidia.com/compute/machine-learning/frameworks/nvidia_logo.png\" style=\"width: 90px; float: right;\">\n",
    "\n",
    "# NVTabular demo on Rossmann data - TensorFlow\n",
    "\n",
    "## Overview\n",
    "\n",
    "NVTabular is a feature engineering and preprocessing library for tabular data designed to quickly and easily manipulate terabyte scale datasets used to train deep learning based recommender systems.  It provides a high level abstraction to simplify code and accelerates computation on the GPU using the RAPIDS cuDF library."
   ]
  },
  {
   "cell_type": "markdown",
   "metadata": {},
   "source": [
    "### Learning objectives\n",
    "\n",
    "In the previous notebooks ([01-Download-Convert.ipynb](https://github.com/NVIDIA/NVTabular/blob/main/examples/99-applying-to-other-tabular-data-problems-rossmann/01-Download-Convert.ipynb) and [02-ETL-with-NVTabular.ipynb](https://github.com/NVIDIA/NVTabular/blob/main/examples/99-applying-to-other-tabular-data-problems-rossmann/02-ETL-with-NVTabular.ipynb)), we downloaded, preprocessed and created features for the dataset. Now, we are ready to train our deep learning model on the dataset. In this notebook, we use **TensorFlow** with the NVTabular data loader for TensorFlow to accelereate the training pipeline."
   ]
  },
  {
   "cell_type": "code",
   "execution_count": 2,
   "metadata": {},
   "outputs": [],
   "source": [
    "import os\n",
    "import math\n",
    "import json\n",
    "import glob"
   ]
  },
  {
   "cell_type": "markdown",
   "metadata": {},
   "source": [
    "## Loading NVTabular workflow\n",
    "This time, we only need to define our data directories. We can load the data schema from the NVTabular workflow."
   ]
  },
  {
   "cell_type": "code",
   "execution_count": 3,
   "metadata": {},
   "outputs": [],
   "source": [
    "DATA_DIR = os.environ.get(\"INPUT_DATA_DIR\", os.path.expanduser(\"~/nvt-examples/data/\"))\n",
    "PREPROCESS_DIR = os.path.join(DATA_DIR, \"ross_pre/\")\n",
    "PREPROCESS_DIR_TRAIN = os.path.join(PREPROCESS_DIR, \"train\")\n",
    "PREPROCESS_DIR_VALID = os.path.join(PREPROCESS_DIR, \"valid\")"
   ]
  },
  {
   "cell_type": "markdown",
   "metadata": {},
   "source": [
    "What files are available to train on in our directories?"
   ]
  },
  {
   "cell_type": "code",
   "execution_count": 4,
   "metadata": {},
   "outputs": [
    {
     "name": "stdout",
     "output_type": "stream",
     "text": [
      "stats.json  train  valid\n"
     ]
    }
   ],
   "source": [
    "!ls $PREPROCESS_DIR"
   ]
  },
  {
   "cell_type": "code",
   "execution_count": 5,
   "metadata": {},
   "outputs": [
    {
     "name": "stdout",
     "output_type": "stream",
     "text": [
      "0.a76e5a5e3ae14edca780ed3f276b6c7a.parquet  _metadata\n",
      "_file_list.txt\t\t\t\t    _metadata.json\n"
     ]
    }
   ],
   "source": [
    "!ls $PREPROCESS_DIR_TRAIN"
   ]
  },
  {
   "cell_type": "code",
   "execution_count": 6,
   "metadata": {},
   "outputs": [
    {
     "name": "stdout",
     "output_type": "stream",
     "text": [
      "0.01c5ac717e6e42ccad7feb3f8eaab315.parquet  _metadata\n",
      "_file_list.txt\t\t\t\t    _metadata.json\n"
     ]
    }
   ],
   "source": [
    "!ls $PREPROCESS_DIR_VALID"
   ]
  },
  {
   "cell_type": "markdown",
   "metadata": {},
   "source": [
    "We load the data schema and statistic information from `stats.json`. We created the file in the previous notebook `rossmann-store-sales-feature-engineering`."
   ]
  },
  {
   "cell_type": "code",
   "execution_count": 7,
   "metadata": {},
   "outputs": [],
   "source": [
    "stats = json.load(open(PREPROCESS_DIR + \"/stats.json\", \"r\"))"
   ]
  },
  {
   "cell_type": "code",
   "execution_count": 8,
   "metadata": {},
   "outputs": [],
   "source": [
    "CATEGORICAL_COLUMNS = stats[\"CATEGORICAL_COLUMNS\"]\n",
    "CONTINUOUS_COLUMNS = stats[\"CONTINUOUS_COLUMNS\"]\n",
    "LABEL_COLUMNS = stats[\"LABEL_COLUMNS\"]\n",
    "COLUMNS = CATEGORICAL_COLUMNS + CONTINUOUS_COLUMNS + LABEL_COLUMNS"
   ]
  },
  {
   "cell_type": "markdown",
   "metadata": {},
   "source": [
    "The embedding table shows the cardinality of each categorical variable along with its associated embedding size. Each entry is of the form `(cardinality, embedding_size)`."
   ]
  },
  {
   "cell_type": "code",
   "execution_count": 9,
   "metadata": {},
   "outputs": [
    {
     "data": {
      "text/plain": [
       "{'Store': [1116, 81],\n",
       " 'DayOfWeek': [8, 16],\n",
       " 'Year': [4, 16],\n",
       " 'Month': [13, 16],\n",
       " 'Day': [32, 16],\n",
       " 'StateHoliday': [3, 16],\n",
       " 'CompetitionMonthsOpen': [26, 16],\n",
       " 'Promo2Weeks': [27, 16],\n",
       " 'StoreType': [5, 16],\n",
       " 'Assortment': [4, 16],\n",
       " 'PromoInterval': [4, 16],\n",
       " 'CompetitionOpenSinceYear': [24, 16],\n",
       " 'Promo2SinceYear': [9, 16],\n",
       " 'State': [13, 16],\n",
       " 'Week': [53, 16],\n",
       " 'Events': [22, 16],\n",
       " 'Promo_fw': [9, 16],\n",
       " 'Promo_bw': [9, 16],\n",
       " 'StateHoliday_fw': [6, 16],\n",
       " 'StateHoliday_bw': [6, 16],\n",
       " 'SchoolHoliday_fw': [9, 16],\n",
       " 'SchoolHoliday_bw': [9, 16]}"
      ]
     },
     "execution_count": 9,
     "metadata": {},
     "output_type": "execute_result"
    }
   ],
   "source": [
    "EMBEDDING_TABLE_SHAPES = stats[\"EMBEDDING_TABLE_SHAPES\"]\n",
    "EMBEDDING_TABLE_SHAPES"
   ]
  },
  {
   "cell_type": "markdown",
   "metadata": {},
   "source": [
    "## Training a Network\n",
    "\n",
    "Now that our data is preprocessed and saved out, we can leverage `dataset`s to read through the preprocessed parquet files in an online fashion to train neural networks.\n",
    "\n",
    "We'll start by setting some universal hyperparameters for our model and optimizer. These settings will be the same across all of the frameworks that we explore in the different notebooks."
   ]
  },
  {
   "cell_type": "markdown",
   "metadata": {},
   "source": [
    "If you're interested in contributing to NVTabular, feel free to take this challenge on and submit a pull request if successful. 12% RMSPE is achievable using the Novograd optimizer, but we know of no Novograd implementation for TensorFlow that supports sparse gradients, and so we are not including that solution below."
   ]
  },
  {
   "cell_type": "code",
   "execution_count": 10,
   "metadata": {},
   "outputs": [],
   "source": [
    "EMBEDDING_DROPOUT_RATE = 0.04\n",
    "DROPOUT_RATES = [0.001, 0.01]\n",
    "HIDDEN_DIMS = [1000, 500]\n",
    "BATCH_SIZE = 65536\n",
    "LEARNING_RATE = 0.001\n",
    "EPOCHS = 25\n",
    "\n",
    "# TODO: Calculate on the fly rather than recalling from previous analysis.\n",
    "MAX_SALES_IN_TRAINING_SET = 38722.0\n",
    "MAX_LOG_SALES_PREDICTION = 1.2 * math.log(MAX_SALES_IN_TRAINING_SET + 1.0)\n",
    "\n",
    "TRAIN_PATHS = sorted(glob.glob(os.path.join(PREPROCESS_DIR_TRAIN, \"*.parquet\")))\n",
    "VALID_PATHS = sorted(glob.glob(os.path.join(PREPROCESS_DIR_VALID, \"*.parquet\")))"
   ]
  },
  {
   "cell_type": "markdown",
   "metadata": {},
   "source": [
    "## TensorFlow\n",
    "<a id=\"TensorFlow\"></a>\n"
   ]
  },
  {
   "cell_type": "markdown",
   "metadata": {},
   "source": [
    "### TensorFlow: Preparing Datasets\n",
    "\n",
    "`KerasSequenceLoader` wraps a lightweight iterator around a `dataset` object to handle chunking, shuffling, and application of any workflows (which can be applied online as a preprocessing step). For column names, can use either a list of string names or a list of TensorFlow `feature_columns` that will be used to feed the network"
   ]
  },
  {
   "cell_type": "code",
   "execution_count": 11,
   "metadata": {},
   "outputs": [],
   "source": [
    "import tensorflow as tf\n",
    "\n",
    "# we can control how much memory to give tensorflow with this environment variable\n",
    "# IMPORTANT: make sure you do this before you initialize TF's runtime, otherwise\n",
    "# it's too late and TF will have claimed all free GPU memory\n",
    "os.environ[\"TF_MEMORY_ALLOCATION\"] = \"8192\"  # explicit MB\n",
    "os.environ[\"TF_MEMORY_ALLOCATION\"] = \"0.5\"  # fraction of free memory\n",
    "from nvtabular.loader.tensorflow import KerasSequenceLoader, KerasSequenceValidater\n",
    "\n",
    "\n",
    "# cheap wrapper to keep things some semblance of neat\n",
    "def make_categorical_embedding_column(name, dictionary_size, embedding_dim):\n",
    "    return tf.feature_column.embedding_column(\n",
    "        tf.feature_column.categorical_column_with_identity(name, dictionary_size), embedding_dim\n",
    "    )\n",
    "\n",
    "\n",
    "# instantiate our columns\n",
    "categorical_columns = [\n",
    "    make_categorical_embedding_column(name, *EMBEDDING_TABLE_SHAPES[name])\n",
    "    for name in CATEGORICAL_COLUMNS\n",
    "]\n",
    "continuous_columns = [tf.feature_column.numeric_column(name, (1,)) for name in CONTINUOUS_COLUMNS]\n",
    "\n",
    "# feed them to our datasets\n",
    "train_dataset = KerasSequenceLoader(\n",
    "    TRAIN_PATHS,  # you could also use a glob pattern\n",
    "    feature_columns=categorical_columns + continuous_columns,\n",
    "    batch_size=BATCH_SIZE,\n",
    "    label_names=LABEL_COLUMNS,\n",
    "    shuffle=True,\n",
    "    buffer_size=0.06,  # amount of data, as a fraction of GPU memory, to load at once\n",
    ")\n",
    "\n",
    "valid_dataset = KerasSequenceLoader(\n",
    "    VALID_PATHS,  # you could also use a glob pattern\n",
    "    feature_columns=categorical_columns + continuous_columns,\n",
    "    batch_size=BATCH_SIZE * 4,\n",
    "    label_names=LABEL_COLUMNS,\n",
    "    shuffle=False,\n",
    "    buffer_size=0.06,  # amount of data, as a fraction of GPU memory, to load at once\n",
    ")"
   ]
  },
  {
   "cell_type": "markdown",
   "metadata": {},
   "source": [
    "### TensorFlow: Defining a Model\n",
    "\n",
    "Using Keras, we can define the layers of our model and their parameters explicitly. Here, for the sake of consistency, we'll mimic fast.ai's [TabularModel](https://docs.fast.ai/tabular.learner.html)."
   ]
  },
  {
   "cell_type": "code",
   "execution_count": 12,
   "metadata": {},
   "outputs": [],
   "source": [
    "# DenseFeatures layer needs a dictionary of {feature_name: input}\n",
    "categorical_inputs = {}\n",
    "for column_name in CATEGORICAL_COLUMNS:\n",
    "    categorical_inputs[column_name] = tf.keras.Input(name=column_name, shape=(1,), dtype=tf.int64)\n",
    "categorical_embedding_layer = tf.keras.layers.DenseFeatures(categorical_columns)\n",
    "categorical_x = categorical_embedding_layer(categorical_inputs)\n",
    "categorical_x = tf.keras.layers.Dropout(EMBEDDING_DROPOUT_RATE)(categorical_x)\n",
    "\n",
    "# Just concatenating continuous, so can use a list\n",
    "continuous_inputs = []\n",
    "for column_name in CONTINUOUS_COLUMNS:\n",
    "    continuous_inputs.append(tf.keras.Input(name=column_name, shape=(1,), dtype=tf.float32))\n",
    "continuous_embedding_layer = tf.keras.layers.Concatenate(axis=1)\n",
    "continuous_x = continuous_embedding_layer(continuous_inputs)\n",
    "continuous_x = tf.keras.layers.BatchNormalization(epsilon=1e-5, momentum=0.1)(continuous_x)\n",
    "\n",
    "# concatenate and build MLP\n",
    "x = tf.keras.layers.Concatenate(axis=1)([categorical_x, continuous_x])\n",
    "for dim, dropout_rate in zip(HIDDEN_DIMS, DROPOUT_RATES):\n",
    "    x = tf.keras.layers.Dense(dim, activation=\"relu\")(x)\n",
    "    x = tf.keras.layers.BatchNormalization(epsilon=1e-5, momentum=0.1)(x)\n",
    "    x = tf.keras.layers.Dropout(dropout_rate)(x)\n",
    "x = tf.keras.layers.Dense(1, activation=\"linear\")(x)\n",
    "\n",
    "# TODO: Initialize model weights to fix saturation issues.\n",
    "# For now, we'll just scale the output of our model directly before\n",
    "# hitting the sigmoid.\n",
    "x = 0.1 * x\n",
    "\n",
    "x = MAX_LOG_SALES_PREDICTION * tf.keras.activations.sigmoid(x)\n",
    "\n",
    "# combine all our inputs into a single list\n",
    "# (note that you can still use .fit, .predict, etc. on a dict\n",
    "# that maps input tensor names to input values)\n",
    "inputs = list(categorical_inputs.values()) + continuous_inputs\n",
    "tf_model = tf.keras.Model(inputs=inputs, outputs=x)"
   ]
  },
  {
   "cell_type": "markdown",
   "metadata": {},
   "source": [
    "### TensorFlow: Training"
   ]
  },
  {
   "cell_type": "code",
   "execution_count": 13,
   "metadata": {},
   "outputs": [],
   "source": [
    "def rmspe_tf(y_true, y_pred):\n",
    "    # map back into \"true\" space by undoing transform\n",
    "    y_true = tf.exp(y_true) - 1\n",
    "    y_pred = tf.exp(y_pred) - 1\n",
    "\n",
    "    percent_error = (y_true - y_pred) / y_true\n",
    "    return tf.sqrt(tf.reduce_mean(percent_error ** 2))"
   ]
  },
  {
   "cell_type": "code",
   "execution_count": 14,
   "metadata": {},
   "outputs": [
    {
     "name": "stdout",
     "output_type": "stream",
     "text": [
      "Epoch 1/25\n",
      "16/16 [==============================] - 10s 122ms/step - loss: 6.2911 - rmspe_tf: 0.8823\n",
      "{'val_loss': 6.8325696, 'val_rmspe_tf': 0.888467}\n",
      "Epoch 2/25\n",
      "16/16 [==============================] - 3s 121ms/step - loss: 5.4513 - rmspe_tf: 0.8872\n",
      "{'val_loss': 6.171084, 'val_rmspe_tf': 0.886745}\n",
      "Epoch 3/25\n",
      "16/16 [==============================] - 3s 121ms/step - loss: 4.5784 - rmspe_tf: 0.8713\n",
      "{'val_loss': 5.658548, 'val_rmspe_tf': 0.8701949}\n",
      "Epoch 4/25\n",
      "16/16 [==============================] - 2s 118ms/step - loss: 3.6675 - rmspe_tf: 0.8446\n",
      "{'val_loss': 4.995923, 'val_rmspe_tf': 0.8385216}\n",
      "Epoch 5/25\n",
      "16/16 [==============================] - 2s 120ms/step - loss: 2.6557 - rmspe_tf: 0.7937\n",
      "{'val_loss': 4.2057276, 'val_rmspe_tf': 0.77560455}\n",
      "Epoch 6/25\n",
      "16/16 [==============================] - 2s 120ms/step - loss: 1.5285 - rmspe_tf: 0.6915\n",
      "{'val_loss': 3.5816908, 'val_rmspe_tf': 0.65663767}\n",
      "Epoch 7/25\n",
      "16/16 [==============================] - 2s 121ms/step - loss: 0.6586 - rmspe_tf: 0.5316\n",
      "{'val_loss': 3.3899677, 'val_rmspe_tf': 0.57880354}\n",
      "Epoch 8/25\n",
      "16/16 [==============================] - 3s 119ms/step - loss: 0.3816 - rmspe_tf: 0.4746\n",
      "{'val_loss': 3.0101893, 'val_rmspe_tf': 0.47044784}\n",
      "Epoch 9/25\n",
      "16/16 [==============================] - 2s 119ms/step - loss: 0.1996 - rmspe_tf: 0.4249\n",
      "{'val_loss': 2.9503767, 'val_rmspe_tf': 0.4278682}\n",
      "Epoch 10/25\n",
      "16/16 [==============================] - 2s 120ms/step - loss: 0.1072 - rmspe_tf: 0.3745\n",
      "{'val_loss': 2.987262, 'val_rmspe_tf': 0.3785739}\n",
      "Epoch 11/25\n",
      "16/16 [==============================] - 2s 118ms/step - loss: 0.0792 - rmspe_tf: 0.3508\n",
      "{'val_loss': 2.9500449, 'val_rmspe_tf': 0.33269802}\n",
      "Epoch 12/25\n",
      "16/16 [==============================] - 2s 120ms/step - loss: 0.0678 - rmspe_tf: 0.3315\n",
      "{'val_loss': 2.9160886, 'val_rmspe_tf': 0.30033675}\n",
      "Epoch 13/25\n",
      "16/16 [==============================] - 2s 124ms/step - loss: 0.0503 - rmspe_tf: 0.2818\n",
      "{'val_loss': 2.8887079, 'val_rmspe_tf': 0.2663356}\n",
      "Epoch 14/25\n",
      "16/16 [==============================] - 2s 120ms/step - loss: 0.0427 - rmspe_tf: 0.2464\n",
      "{'val_loss': 2.899424, 'val_rmspe_tf': 0.24336538}\n",
      "Epoch 15/25\n",
      "16/16 [==============================] - 3s 125ms/step - loss: 0.0403 - rmspe_tf: 0.2514\n",
      "{'val_loss': 2.8832, 'val_rmspe_tf': 0.23771751}\n",
      "Epoch 16/25\n",
      "16/16 [==============================] - 2s 118ms/step - loss: 0.0371 - rmspe_tf: 0.2486\n",
      "{'val_loss': 2.8893273, 'val_rmspe_tf': 0.22341083}\n",
      "Epoch 17/25\n",
      "16/16 [==============================] - 3s 122ms/step - loss: 0.0374 - rmspe_tf: 0.2290\n",
      "{'val_loss': 2.885254, 'val_rmspe_tf': 0.22222914}\n",
      "Epoch 18/25\n",
      "16/16 [==============================] - 3s 122ms/step - loss: 0.0341 - rmspe_tf: 0.2464\n",
      "{'val_loss': 2.900585, 'val_rmspe_tf': 0.22143732}\n",
      "Epoch 19/25\n",
      "16/16 [==============================] - 2s 120ms/step - loss: 0.0354 - rmspe_tf: 0.2218\n",
      "{'val_loss': 2.8876286, 'val_rmspe_tf': 0.21798971}\n",
      "Epoch 20/25\n",
      "16/16 [==============================] - 2s 122ms/step - loss: 0.0353 - rmspe_tf: 0.2260\n",
      "{'val_loss': 2.8935297, 'val_rmspe_tf': 0.23429932}\n",
      "Epoch 21/25\n",
      "16/16 [==============================] - 2s 122ms/step - loss: 0.0477 - rmspe_tf: 0.2582\n",
      "{'val_loss': 2.8810875, 'val_rmspe_tf': 0.23292302}\n",
      "Epoch 22/25\n",
      "16/16 [==============================] - 3s 123ms/step - loss: 0.0351 - rmspe_tf: 0.2307\n",
      "{'val_loss': 2.8870816, 'val_rmspe_tf': 0.22246556}\n",
      "Epoch 23/25\n",
      "16/16 [==============================] - 3s 120ms/step - loss: 0.0478 - rmspe_tf: 0.2583\n",
      "{'val_loss': 2.8833861, 'val_rmspe_tf': 0.24750796}\n",
      "Epoch 24/25\n",
      "16/16 [==============================] - 3s 119ms/step - loss: 0.0349 - rmspe_tf: 0.2257\n",
      "{'val_loss': 2.91596, 'val_rmspe_tf': 0.23121282}\n",
      "Epoch 25/25\n",
      "16/16 [==============================] - 2s 121ms/step - loss: 0.0362 - rmspe_tf: 0.2248\n",
      "{'val_loss': 2.9000213, 'val_rmspe_tf': 0.22009881}\n",
      "run_time: 79.32018089294434 - rows: 646 - epochs: 25 - dl_thru: 203.60518367698995\n",
      "CPU times: user 2min 19s, sys: 25.2 s, total: 2min 44s\n",
      "Wall time: 1min 19s\n"
     ]
    }
   ],
   "source": [
    "%%time\n",
    "from time import time\n",
    "\n",
    "optimizer = tf.keras.optimizers.Adam(learning_rate=LEARNING_RATE)\n",
    "tf_model.compile(optimizer, \"mse\", metrics=[rmspe_tf])\n",
    "\n",
    "validation_callback = KerasSequenceValidater(valid_dataset)\n",
    "start = time()\n",
    "history = tf_model.fit(\n",
    "    train_dataset,\n",
    "    callbacks=[validation_callback],\n",
    "    epochs=EPOCHS,\n",
    ")\n",
    "t_final = time() - start\n",
    "total_rows = train_dataset.num_rows_processed + valid_dataset.num_rows_processed\n",
    "print(\n",
    "    f\"run_time: {t_final} - rows: {total_rows} - epochs: {EPOCHS} - dl_thru: { (EPOCHS * total_rows) / t_final}\"\n",
    ")"
   ]
  },
  {
   "cell_type": "code",
   "execution_count": 15,
   "metadata": {},
   "outputs": [
    {
     "name": "stdout",
     "output_type": "stream",
     "text": [
      "INFO:tensorflow:Assets written to: /root/nvt-examples/models/rossmann_tf/1/model.savedmodel/assets\n"
     ]
    }
   ],
   "source": [
    "from nvtabular.inference.triton import export_tensorflow_ensemble\n",
    "import nvtabular\n",
    "\n",
    "BASE_DIR = os.environ.get(\"BASE_DIR\", os.path.expanduser(\"~/nvt-examples/\"))\n",
    "MODEL_NAME_ENSEMBLE = os.environ.get(\"MODEL_NAME_ENSEMBLE\", \"rossmann\")\n",
    "# model path to save the models\n",
    "MODEL_PATH = os.path.join(BASE_DIR, \"models/\")\n",
    "\n",
    "workflow = nvtabular.Workflow.load(os.path.join(DATA_DIR, \"workflow\"))\n",
    "export_tensorflow_ensemble(tf_model, workflow, MODEL_NAME_ENSEMBLE, MODEL_PATH, LABEL_COLUMNS)"
   ]
  },
  {
   "cell_type": "code",
   "execution_count": null,
   "metadata": {},
   "outputs": [],
   "source": []
  }
 ],
 "metadata": {
  "file_extension": ".py",
  "kernelspec": {
   "display_name": "Python 3",
   "language": "python",
   "name": "python3"
  },
  "language_info": {
   "codemirror_mode": {
    "name": "ipython",
    "version": 3
   },
   "file_extension": ".py",
   "mimetype": "text/x-python",
   "name": "python",
   "nbconvert_exporter": "python",
   "pygments_lexer": "ipython3",
   "version": "3.8.5"
  },
  "mimetype": "text/x-python",
  "name": "python",
  "npconvert_exporter": "python",
  "pygments_lexer": "ipython3",
  "version": 3
 },
 "nbformat": 4,
 "nbformat_minor": 4
}
